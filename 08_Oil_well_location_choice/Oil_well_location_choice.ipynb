{
 "cells": [
  {
   "cell_type": "markdown",
   "metadata": {
    "id": "rTbnD8lLEDq2",
    "tags": []
   },
   "source": [
    "# Выбор локации для нефтяной скважины\n",
    "Нужно решить, где бурить новую скважину.\n",
    "Классические шаги для выбора локации:\n",
    "1. В избранном регионе собирают характеристики для скважин: качество нефти и объём её запасов (данные уже собраны);\n",
    "2. Строят модель для предсказания объёма запасов в новых скважинах;\n",
    "3. Выбирают скважины с самыми высокими оценками значений;\n",
    "4. Определяют регион с максимальной суммарной прибылью отобранных скважин.\n",
    "\n",
    "Предоставлены пробы нефти в трёх регионах. Характеристики для каждой скважины в регионе уже известны. Нужно построить модель для определения региона, где добыча принесёт наибольшую прибыль. Нужно проанализировать возможную прибыль и риски техникой Bootstrap.\n",
    "\n",
    "**Описание данных**\n",
    "\n",
    "Данные геологоразведки трёх регионов находятся в файлах:\n",
    "* /datasets/geo_data_0.csv.\n",
    "* /datasets/geo_data_1.csv. \n",
    "* /datasets/geo_data_2.csv. \n",
    "* id — уникальный идентификатор скважины;\n",
    "* f0, f1, f2 — три признака точек (неважно, что они означают, но сами признаки значимы);\n",
    "* product — объём запасов в скважине (тыс. баррелей).\n",
    "\n",
    "**Условия задачи:**\n",
    "- Для обучения модели подходит только **линейная регрессия** (остальные — недостаточно предсказуемые).\n",
    "- При разведке региона исследуют 500 точек, из которых с помощью машинного обучения выбирают 200 лучших для разработки.\n",
    "- Бюджет на разработку скважин в регионе — 10 млрд рублей.\n",
    "- При нынешних ценах один баррель сырья приносит 450 рублей дохода. Доход с каждой единицы продукта составляет 450 тыс. рублей, поскольку объём указан в тысячах баррелей.\n",
    "- После оценки рисков нужно оставить лишь те регионы, в которых вероятность убытков меньше 2.5%. Среди них выбирают регион с наибольшей средней прибылью.\n",
    "\n",
    "Данные синтетические: детали контрактов и характеристики месторождений не разглашаются."
   ]
  },
  {
   "cell_type": "markdown",
   "metadata": {
    "id": "fEgYVlrZn2fY"
   },
   "source": [
    "## План работы\n",
    "1. Загрузить и подготовить данные. \n",
    "2. Обучить и проверить модель для каждого региона:\n",
    "\n",
    "    2.1. Разбить данные на обучающую и валидационную выборки в соотношении 3:1.\n",
    "\n",
    "    2.2. Обучить модель и сделать предсказания на валидационной выборке.\n",
    "\n",
    "    2.3. Сохранить предсказания и правильные ответы на валидационной выборке.\n",
    "\n",
    "    2.4. Определить средний запас предсказанного сырья и RMSE модели.\n",
    "\n",
    "    2.5. Анализ результатов.\n",
    "3. Подготовка к расчёту прибыли:\n",
    "\n",
    "    3.1. Все ключевые значения для расчётов сохранить в константах.\n",
    "    \n",
    "    3.2. Рассчитать достаточный объём сырья для безубыточной разработки новой скважины. Сравнить полученный объём сырья со средним запасом в каждом регионе.\n",
    "\n",
    "4. Создание функции для расчёта прибыли по выбранным скважинам и предсказаниям модели:\n",
    "\n",
    "    4.1. Выбрать скважины с максимальными значениями предсказаний.\n",
    "\n",
    "    4.2. Просуммировать целевое значение объёма сырья, соответствующее этим предсказаниям.\n",
    "\n",
    "    4.3. Рассчитать прибыль для полученного объёма сырья.\n",
    "\n",
    "5. Посчитать риски и прибыль для каждого региона:\n",
    "\n",
    "    5.1. Применить технику Bootstrap с 1000 выборок, чтобы найти распределение прибыли.\n",
    "\n",
    "    5.2. Найти среднюю прибыль, 95%-й доверительный интервал и риск отрицательной прибыли (убытков).\n",
    "\n",
    "    5.3. Предложить регион для разработки скважин."
   ]
  },
  {
   "cell_type": "code",
   "execution_count": 1,
   "metadata": {
    "colab": {
     "base_uri": "https://localhost:8080/"
    },
    "id": "ECZRFCfPEDq6",
    "outputId": "dfdde44d-e672-4013-809f-34210651b979"
   },
   "outputs": [],
   "source": [
    "# Импорт библиотек\n",
    "import pandas as pd\n",
    "import numpy as np\n",
    "\n",
    "from sklearn.model_selection import train_test_split\n",
    "from sklearn.preprocessing import StandardScaler\n",
    "from sklearn.linear_model import LinearRegression\n",
    "from sklearn.metrics import mean_squared_error, mean_absolute_error, r2_score\n",
    "\n",
    "from scipy.stats import percentileofscore\n"
   ]
  },
  {
   "cell_type": "code",
   "execution_count": 2,
   "metadata": {
    "id": "uzMWN133wOwV"
   },
   "outputs": [],
   "source": [
    "pd.set_option('display.float_format', '{:,.2f}'.format)"
   ]
  },
  {
   "cell_type": "markdown",
   "metadata": {
    "id": "hwcxjCNOEDq3"
   },
   "source": [
    "## Шаг 1. Загрузка и подготовка данных\n",
    "План загрузки и подготовки данных\n",
    "* Прочитать файлы\n",
    "* Вывести первые строки, информацию о таблицах, статистику по значениям \n",
    "* Проверить название столбцов, при необходимости привести к змеиному регистру\n",
    "* Проверить наличие явных дубликатов, при необходимости обработать дубликаты\n",
    "* Преобразовать типы данных, при необходимости\n",
    "* Проверить наличие пропусков в данных, при необходимости обработать пропуски\n",
    "* Проверить наличие выбросов, при необходимости обработать"
   ]
  },
  {
   "cell_type": "code",
   "execution_count": 3,
   "metadata": {
    "id": "s7thlxCh8HQm"
   },
   "outputs": [],
   "source": [
    "#загрузка файлов\n",
    "for i in range(3):\n",
    "    globals()[f'df_{i}'] = pd.read_csv(f'f:/yandex-practicum/datasets/geo_data_{i}.csv')\n"
   ]
  },
  {
   "cell_type": "code",
   "execution_count": 4,
   "metadata": {
    "colab": {
     "base_uri": "https://localhost:8080/"
    },
    "id": "LBJag_Z-8MCs",
    "outputId": "ff2994d4-752b-4fa0-8371-beec29f95d9f"
   },
   "outputs": [
    {
     "name": "stdout",
     "output_type": "stream",
     "text": [
      "<class 'pandas.core.frame.DataFrame'>\n",
      "RangeIndex: 100000 entries, 0 to 99999\n",
      "Data columns (total 5 columns):\n",
      " #   Column   Non-Null Count   Dtype  \n",
      "---  ------   --------------   -----  \n",
      " 0   id       100000 non-null  object \n",
      " 1   f0       100000 non-null  float64\n",
      " 2   f1       100000 non-null  float64\n",
      " 3   f2       100000 non-null  float64\n",
      " 4   product  100000 non-null  float64\n",
      "dtypes: float64(4), object(1)\n",
      "memory usage: 3.8+ MB\n",
      "<class 'pandas.core.frame.DataFrame'>\n",
      "RangeIndex: 100000 entries, 0 to 99999\n",
      "Data columns (total 5 columns):\n",
      " #   Column   Non-Null Count   Dtype  \n",
      "---  ------   --------------   -----  \n",
      " 0   id       100000 non-null  object \n",
      " 1   f0       100000 non-null  float64\n",
      " 2   f1       100000 non-null  float64\n",
      " 3   f2       100000 non-null  float64\n",
      " 4   product  100000 non-null  float64\n",
      "dtypes: float64(4), object(1)\n",
      "memory usage: 3.8+ MB\n",
      "<class 'pandas.core.frame.DataFrame'>\n",
      "RangeIndex: 100000 entries, 0 to 99999\n",
      "Data columns (total 5 columns):\n",
      " #   Column   Non-Null Count   Dtype  \n",
      "---  ------   --------------   -----  \n",
      " 0   id       100000 non-null  object \n",
      " 1   f0       100000 non-null  float64\n",
      " 2   f1       100000 non-null  float64\n",
      " 3   f2       100000 non-null  float64\n",
      " 4   product  100000 non-null  float64\n",
      "dtypes: float64(4), object(1)\n",
      "memory usage: 3.8+ MB\n"
     ]
    }
   ],
   "source": [
    "[globals()[f'df_{i}'].info() for i in range(3)];# просмотр размера таблицы, типов данных, количества non-null"
   ]
  },
  {
   "cell_type": "code",
   "execution_count": 5,
   "metadata": {
    "colab": {
     "base_uri": "https://localhost:8080/",
     "height": 602
    },
    "id": "B3Z1y3J68Nxs",
    "outputId": "a33d8be8-7a08-4942-99cb-8e534a8dc9af"
   },
   "outputs": [
    {
     "data": {
      "text/html": [
       "<div>\n",
       "<style scoped>\n",
       "    .dataframe tbody tr th:only-of-type {\n",
       "        vertical-align: middle;\n",
       "    }\n",
       "\n",
       "    .dataframe tbody tr th {\n",
       "        vertical-align: top;\n",
       "    }\n",
       "\n",
       "    .dataframe thead th {\n",
       "        text-align: right;\n",
       "    }\n",
       "</style>\n",
       "<table border=\"1\" class=\"dataframe\">\n",
       "  <thead>\n",
       "    <tr style=\"text-align: right;\">\n",
       "      <th></th>\n",
       "      <th>id</th>\n",
       "      <th>f0</th>\n",
       "      <th>f1</th>\n",
       "      <th>f2</th>\n",
       "      <th>product</th>\n",
       "    </tr>\n",
       "  </thead>\n",
       "  <tbody>\n",
       "    <tr>\n",
       "      <th>0</th>\n",
       "      <td>txEyH</td>\n",
       "      <td>0.71</td>\n",
       "      <td>-0.50</td>\n",
       "      <td>1.22</td>\n",
       "      <td>105.28</td>\n",
       "    </tr>\n",
       "    <tr>\n",
       "      <th>1</th>\n",
       "      <td>2acmU</td>\n",
       "      <td>1.33</td>\n",
       "      <td>-0.34</td>\n",
       "      <td>4.37</td>\n",
       "      <td>73.04</td>\n",
       "    </tr>\n",
       "    <tr>\n",
       "      <th>2</th>\n",
       "      <td>409Wp</td>\n",
       "      <td>1.02</td>\n",
       "      <td>0.15</td>\n",
       "      <td>1.42</td>\n",
       "      <td>85.27</td>\n",
       "    </tr>\n",
       "    <tr>\n",
       "      <th>3</th>\n",
       "      <td>iJLyR</td>\n",
       "      <td>-0.03</td>\n",
       "      <td>0.14</td>\n",
       "      <td>2.98</td>\n",
       "      <td>168.62</td>\n",
       "    </tr>\n",
       "    <tr>\n",
       "      <th>4</th>\n",
       "      <td>Xdl7t</td>\n",
       "      <td>1.99</td>\n",
       "      <td>0.16</td>\n",
       "      <td>4.75</td>\n",
       "      <td>154.04</td>\n",
       "    </tr>\n",
       "  </tbody>\n",
       "</table>\n",
       "</div>"
      ],
      "text/plain": [
       "      id    f0    f1   f2  product\n",
       "0  txEyH  0.71 -0.50 1.22   105.28\n",
       "1  2acmU  1.33 -0.34 4.37    73.04\n",
       "2  409Wp  1.02  0.15 1.42    85.27\n",
       "3  iJLyR -0.03  0.14 2.98   168.62\n",
       "4  Xdl7t  1.99  0.16 4.75   154.04"
      ]
     },
     "metadata": {},
     "output_type": "display_data"
    },
    {
     "data": {
      "text/html": [
       "<div>\n",
       "<style scoped>\n",
       "    .dataframe tbody tr th:only-of-type {\n",
       "        vertical-align: middle;\n",
       "    }\n",
       "\n",
       "    .dataframe tbody tr th {\n",
       "        vertical-align: top;\n",
       "    }\n",
       "\n",
       "    .dataframe thead th {\n",
       "        text-align: right;\n",
       "    }\n",
       "</style>\n",
       "<table border=\"1\" class=\"dataframe\">\n",
       "  <thead>\n",
       "    <tr style=\"text-align: right;\">\n",
       "      <th></th>\n",
       "      <th>id</th>\n",
       "      <th>f0</th>\n",
       "      <th>f1</th>\n",
       "      <th>f2</th>\n",
       "      <th>product</th>\n",
       "    </tr>\n",
       "  </thead>\n",
       "  <tbody>\n",
       "    <tr>\n",
       "      <th>0</th>\n",
       "      <td>kBEdx</td>\n",
       "      <td>-15.00</td>\n",
       "      <td>-8.28</td>\n",
       "      <td>-0.01</td>\n",
       "      <td>3.18</td>\n",
       "    </tr>\n",
       "    <tr>\n",
       "      <th>1</th>\n",
       "      <td>62mP7</td>\n",
       "      <td>14.27</td>\n",
       "      <td>-3.48</td>\n",
       "      <td>1.00</td>\n",
       "      <td>26.95</td>\n",
       "    </tr>\n",
       "    <tr>\n",
       "      <th>2</th>\n",
       "      <td>vyE1P</td>\n",
       "      <td>6.26</td>\n",
       "      <td>-5.95</td>\n",
       "      <td>5.00</td>\n",
       "      <td>134.77</td>\n",
       "    </tr>\n",
       "    <tr>\n",
       "      <th>3</th>\n",
       "      <td>KcrkZ</td>\n",
       "      <td>-13.08</td>\n",
       "      <td>-11.51</td>\n",
       "      <td>5.00</td>\n",
       "      <td>137.95</td>\n",
       "    </tr>\n",
       "    <tr>\n",
       "      <th>4</th>\n",
       "      <td>AHL4O</td>\n",
       "      <td>12.70</td>\n",
       "      <td>-8.15</td>\n",
       "      <td>5.00</td>\n",
       "      <td>134.77</td>\n",
       "    </tr>\n",
       "  </tbody>\n",
       "</table>\n",
       "</div>"
      ],
      "text/plain": [
       "      id     f0     f1    f2  product\n",
       "0  kBEdx -15.00  -8.28 -0.01     3.18\n",
       "1  62mP7  14.27  -3.48  1.00    26.95\n",
       "2  vyE1P   6.26  -5.95  5.00   134.77\n",
       "3  KcrkZ -13.08 -11.51  5.00   137.95\n",
       "4  AHL4O  12.70  -8.15  5.00   134.77"
      ]
     },
     "metadata": {},
     "output_type": "display_data"
    },
    {
     "data": {
      "text/html": [
       "<div>\n",
       "<style scoped>\n",
       "    .dataframe tbody tr th:only-of-type {\n",
       "        vertical-align: middle;\n",
       "    }\n",
       "\n",
       "    .dataframe tbody tr th {\n",
       "        vertical-align: top;\n",
       "    }\n",
       "\n",
       "    .dataframe thead th {\n",
       "        text-align: right;\n",
       "    }\n",
       "</style>\n",
       "<table border=\"1\" class=\"dataframe\">\n",
       "  <thead>\n",
       "    <tr style=\"text-align: right;\">\n",
       "      <th></th>\n",
       "      <th>id</th>\n",
       "      <th>f0</th>\n",
       "      <th>f1</th>\n",
       "      <th>f2</th>\n",
       "      <th>product</th>\n",
       "    </tr>\n",
       "  </thead>\n",
       "  <tbody>\n",
       "    <tr>\n",
       "      <th>0</th>\n",
       "      <td>fwXo0</td>\n",
       "      <td>-1.15</td>\n",
       "      <td>0.96</td>\n",
       "      <td>-0.83</td>\n",
       "      <td>27.76</td>\n",
       "    </tr>\n",
       "    <tr>\n",
       "      <th>1</th>\n",
       "      <td>WJtFt</td>\n",
       "      <td>0.26</td>\n",
       "      <td>0.27</td>\n",
       "      <td>-2.53</td>\n",
       "      <td>56.07</td>\n",
       "    </tr>\n",
       "    <tr>\n",
       "      <th>2</th>\n",
       "      <td>ovLUW</td>\n",
       "      <td>0.19</td>\n",
       "      <td>0.29</td>\n",
       "      <td>-5.59</td>\n",
       "      <td>62.87</td>\n",
       "    </tr>\n",
       "    <tr>\n",
       "      <th>3</th>\n",
       "      <td>q6cA6</td>\n",
       "      <td>2.24</td>\n",
       "      <td>-0.55</td>\n",
       "      <td>0.93</td>\n",
       "      <td>114.57</td>\n",
       "    </tr>\n",
       "    <tr>\n",
       "      <th>4</th>\n",
       "      <td>WPMUX</td>\n",
       "      <td>-0.52</td>\n",
       "      <td>1.72</td>\n",
       "      <td>5.90</td>\n",
       "      <td>149.60</td>\n",
       "    </tr>\n",
       "  </tbody>\n",
       "</table>\n",
       "</div>"
      ],
      "text/plain": [
       "      id    f0    f1    f2  product\n",
       "0  fwXo0 -1.15  0.96 -0.83    27.76\n",
       "1  WJtFt  0.26  0.27 -2.53    56.07\n",
       "2  ovLUW  0.19  0.29 -5.59    62.87\n",
       "3  q6cA6  2.24 -0.55  0.93   114.57\n",
       "4  WPMUX -0.52  1.72  5.90   149.60"
      ]
     },
     "metadata": {},
     "output_type": "display_data"
    }
   ],
   "source": [
    "# просмотр первых строк данных\n",
    "[display(globals()[f'df_{i}'].head()) for i in range(3)] ;"
   ]
  },
  {
   "cell_type": "code",
   "execution_count": 6,
   "metadata": {
    "colab": {
     "base_uri": "https://localhost:8080/"
    },
    "id": "qmiD9FznEDq8",
    "outputId": "e6f1b793-5e43-4f81-d4f3-fdb4ab852b83"
   },
   "outputs": [
    {
     "data": {
      "text/html": [
       "<div>\n",
       "<style scoped>\n",
       "    .dataframe tbody tr th:only-of-type {\n",
       "        vertical-align: middle;\n",
       "    }\n",
       "\n",
       "    .dataframe tbody tr th {\n",
       "        vertical-align: top;\n",
       "    }\n",
       "\n",
       "    .dataframe thead th {\n",
       "        text-align: right;\n",
       "    }\n",
       "</style>\n",
       "<table border=\"1\" class=\"dataframe\">\n",
       "  <thead>\n",
       "    <tr style=\"text-align: right;\">\n",
       "      <th></th>\n",
       "      <th>f0</th>\n",
       "      <th>f1</th>\n",
       "      <th>f2</th>\n",
       "      <th>product</th>\n",
       "    </tr>\n",
       "  </thead>\n",
       "  <tbody>\n",
       "    <tr>\n",
       "      <th>count</th>\n",
       "      <td>100,000.00</td>\n",
       "      <td>100,000.00</td>\n",
       "      <td>100,000.00</td>\n",
       "      <td>100,000.00</td>\n",
       "    </tr>\n",
       "    <tr>\n",
       "      <th>mean</th>\n",
       "      <td>0.50</td>\n",
       "      <td>0.25</td>\n",
       "      <td>2.50</td>\n",
       "      <td>92.50</td>\n",
       "    </tr>\n",
       "    <tr>\n",
       "      <th>std</th>\n",
       "      <td>0.87</td>\n",
       "      <td>0.50</td>\n",
       "      <td>3.25</td>\n",
       "      <td>44.29</td>\n",
       "    </tr>\n",
       "    <tr>\n",
       "      <th>min</th>\n",
       "      <td>-1.41</td>\n",
       "      <td>-0.85</td>\n",
       "      <td>-12.09</td>\n",
       "      <td>0.00</td>\n",
       "    </tr>\n",
       "    <tr>\n",
       "      <th>25%</th>\n",
       "      <td>-0.07</td>\n",
       "      <td>-0.20</td>\n",
       "      <td>0.29</td>\n",
       "      <td>56.50</td>\n",
       "    </tr>\n",
       "    <tr>\n",
       "      <th>50%</th>\n",
       "      <td>0.50</td>\n",
       "      <td>0.25</td>\n",
       "      <td>2.52</td>\n",
       "      <td>91.85</td>\n",
       "    </tr>\n",
       "    <tr>\n",
       "      <th>75%</th>\n",
       "      <td>1.07</td>\n",
       "      <td>0.70</td>\n",
       "      <td>4.72</td>\n",
       "      <td>128.56</td>\n",
       "    </tr>\n",
       "    <tr>\n",
       "      <th>max</th>\n",
       "      <td>2.36</td>\n",
       "      <td>1.34</td>\n",
       "      <td>16.00</td>\n",
       "      <td>185.36</td>\n",
       "    </tr>\n",
       "  </tbody>\n",
       "</table>\n",
       "</div>"
      ],
      "text/plain": [
       "              f0         f1         f2    product\n",
       "count 100,000.00 100,000.00 100,000.00 100,000.00\n",
       "mean        0.50       0.25       2.50      92.50\n",
       "std         0.87       0.50       3.25      44.29\n",
       "min        -1.41      -0.85     -12.09       0.00\n",
       "25%        -0.07      -0.20       0.29      56.50\n",
       "50%         0.50       0.25       2.52      91.85\n",
       "75%         1.07       0.70       4.72     128.56\n",
       "max         2.36       1.34      16.00     185.36"
      ]
     },
     "metadata": {},
     "output_type": "display_data"
    },
    {
     "data": {
      "text/html": [
       "<div>\n",
       "<style scoped>\n",
       "    .dataframe tbody tr th:only-of-type {\n",
       "        vertical-align: middle;\n",
       "    }\n",
       "\n",
       "    .dataframe tbody tr th {\n",
       "        vertical-align: top;\n",
       "    }\n",
       "\n",
       "    .dataframe thead th {\n",
       "        text-align: right;\n",
       "    }\n",
       "</style>\n",
       "<table border=\"1\" class=\"dataframe\">\n",
       "  <thead>\n",
       "    <tr style=\"text-align: right;\">\n",
       "      <th></th>\n",
       "      <th>f0</th>\n",
       "      <th>f1</th>\n",
       "      <th>f2</th>\n",
       "      <th>product</th>\n",
       "    </tr>\n",
       "  </thead>\n",
       "  <tbody>\n",
       "    <tr>\n",
       "      <th>count</th>\n",
       "      <td>100,000.00</td>\n",
       "      <td>100,000.00</td>\n",
       "      <td>100,000.00</td>\n",
       "      <td>100,000.00</td>\n",
       "    </tr>\n",
       "    <tr>\n",
       "      <th>mean</th>\n",
       "      <td>1.14</td>\n",
       "      <td>-4.80</td>\n",
       "      <td>2.49</td>\n",
       "      <td>68.83</td>\n",
       "    </tr>\n",
       "    <tr>\n",
       "      <th>std</th>\n",
       "      <td>8.97</td>\n",
       "      <td>5.12</td>\n",
       "      <td>1.70</td>\n",
       "      <td>45.94</td>\n",
       "    </tr>\n",
       "    <tr>\n",
       "      <th>min</th>\n",
       "      <td>-31.61</td>\n",
       "      <td>-26.36</td>\n",
       "      <td>-0.02</td>\n",
       "      <td>0.00</td>\n",
       "    </tr>\n",
       "    <tr>\n",
       "      <th>25%</th>\n",
       "      <td>-6.30</td>\n",
       "      <td>-8.27</td>\n",
       "      <td>1.00</td>\n",
       "      <td>26.95</td>\n",
       "    </tr>\n",
       "    <tr>\n",
       "      <th>50%</th>\n",
       "      <td>1.15</td>\n",
       "      <td>-4.81</td>\n",
       "      <td>2.01</td>\n",
       "      <td>57.09</td>\n",
       "    </tr>\n",
       "    <tr>\n",
       "      <th>75%</th>\n",
       "      <td>8.62</td>\n",
       "      <td>-1.33</td>\n",
       "      <td>4.00</td>\n",
       "      <td>107.81</td>\n",
       "    </tr>\n",
       "    <tr>\n",
       "      <th>max</th>\n",
       "      <td>29.42</td>\n",
       "      <td>18.73</td>\n",
       "      <td>5.02</td>\n",
       "      <td>137.95</td>\n",
       "    </tr>\n",
       "  </tbody>\n",
       "</table>\n",
       "</div>"
      ],
      "text/plain": [
       "              f0         f1         f2    product\n",
       "count 100,000.00 100,000.00 100,000.00 100,000.00\n",
       "mean        1.14      -4.80       2.49      68.83\n",
       "std         8.97       5.12       1.70      45.94\n",
       "min       -31.61     -26.36      -0.02       0.00\n",
       "25%        -6.30      -8.27       1.00      26.95\n",
       "50%         1.15      -4.81       2.01      57.09\n",
       "75%         8.62      -1.33       4.00     107.81\n",
       "max        29.42      18.73       5.02     137.95"
      ]
     },
     "metadata": {},
     "output_type": "display_data"
    },
    {
     "data": {
      "text/html": [
       "<div>\n",
       "<style scoped>\n",
       "    .dataframe tbody tr th:only-of-type {\n",
       "        vertical-align: middle;\n",
       "    }\n",
       "\n",
       "    .dataframe tbody tr th {\n",
       "        vertical-align: top;\n",
       "    }\n",
       "\n",
       "    .dataframe thead th {\n",
       "        text-align: right;\n",
       "    }\n",
       "</style>\n",
       "<table border=\"1\" class=\"dataframe\">\n",
       "  <thead>\n",
       "    <tr style=\"text-align: right;\">\n",
       "      <th></th>\n",
       "      <th>f0</th>\n",
       "      <th>f1</th>\n",
       "      <th>f2</th>\n",
       "      <th>product</th>\n",
       "    </tr>\n",
       "  </thead>\n",
       "  <tbody>\n",
       "    <tr>\n",
       "      <th>count</th>\n",
       "      <td>100,000.00</td>\n",
       "      <td>100,000.00</td>\n",
       "      <td>100,000.00</td>\n",
       "      <td>100,000.00</td>\n",
       "    </tr>\n",
       "    <tr>\n",
       "      <th>mean</th>\n",
       "      <td>0.00</td>\n",
       "      <td>-0.00</td>\n",
       "      <td>2.50</td>\n",
       "      <td>95.00</td>\n",
       "    </tr>\n",
       "    <tr>\n",
       "      <th>std</th>\n",
       "      <td>1.73</td>\n",
       "      <td>1.73</td>\n",
       "      <td>3.47</td>\n",
       "      <td>44.75</td>\n",
       "    </tr>\n",
       "    <tr>\n",
       "      <th>min</th>\n",
       "      <td>-8.76</td>\n",
       "      <td>-7.08</td>\n",
       "      <td>-11.97</td>\n",
       "      <td>0.00</td>\n",
       "    </tr>\n",
       "    <tr>\n",
       "      <th>25%</th>\n",
       "      <td>-1.16</td>\n",
       "      <td>-1.17</td>\n",
       "      <td>0.13</td>\n",
       "      <td>59.45</td>\n",
       "    </tr>\n",
       "    <tr>\n",
       "      <th>50%</th>\n",
       "      <td>0.01</td>\n",
       "      <td>-0.01</td>\n",
       "      <td>2.48</td>\n",
       "      <td>94.93</td>\n",
       "    </tr>\n",
       "    <tr>\n",
       "      <th>75%</th>\n",
       "      <td>1.16</td>\n",
       "      <td>1.16</td>\n",
       "      <td>4.86</td>\n",
       "      <td>130.60</td>\n",
       "    </tr>\n",
       "    <tr>\n",
       "      <th>max</th>\n",
       "      <td>7.24</td>\n",
       "      <td>7.84</td>\n",
       "      <td>16.74</td>\n",
       "      <td>190.03</td>\n",
       "    </tr>\n",
       "  </tbody>\n",
       "</table>\n",
       "</div>"
      ],
      "text/plain": [
       "              f0         f1         f2    product\n",
       "count 100,000.00 100,000.00 100,000.00 100,000.00\n",
       "mean        0.00      -0.00       2.50      95.00\n",
       "std         1.73       1.73       3.47      44.75\n",
       "min        -8.76      -7.08     -11.97       0.00\n",
       "25%        -1.16      -1.17       0.13      59.45\n",
       "50%         0.01      -0.01       2.48      94.93\n",
       "75%         1.16       1.16       4.86     130.60\n",
       "max         7.24       7.84      16.74     190.03"
      ]
     },
     "metadata": {},
     "output_type": "display_data"
    }
   ],
   "source": [
    "[display(globals()[f'df_{i}'].describe()) for i in range(3)];\n"
   ]
  },
  {
   "cell_type": "code",
   "execution_count": 7,
   "metadata": {
    "colab": {
     "base_uri": "https://localhost:8080/"
    },
    "id": "erJpf6ek7ZI2",
    "outputId": "be6d5132-a329-4724-e2aa-8301e753d68e"
   },
   "outputs": [
    {
     "data": {
      "text/plain": [
       "[0, 0, 0]"
      ]
     },
     "execution_count": 7,
     "metadata": {},
     "output_type": "execute_result"
    }
   ],
   "source": [
    "# Поиск явных дубликатов\n",
    "[globals()[f'df_{i}'].duplicated().sum() for i in range(3)]"
   ]
  },
  {
   "cell_type": "code",
   "execution_count": 8,
   "metadata": {
    "colab": {
     "base_uri": "https://localhost:8080/",
     "height": 1000
    },
    "id": "ceMQtYdNzwWy",
    "outputId": "013c6cb1-7f7b-425d-a26e-5670201a7579"
   },
   "outputs": [
    {
     "data": {
      "image/png": "[encoded data removed]",
      "text/plain": [
       "<Figure size 1000x1000 with 4 Axes>"
      ]
     },
     "metadata": {},
     "output_type": "display_data"
    },
    {
     "data": {
      "image/png": "[encoded data removed]",
      "text/plain": [
       "<Figure size 1000x1000 with 4 Axes>"
      ]
     },
     "metadata": {},
     "output_type": "display_data"
    },
    {
     "data": {
      "image/png": "[encoded data removed]",
      "text/plain": [
       "<Figure size 1000x1000 with 4 Axes>"
      ]
     },
     "metadata": {},
     "output_type": "display_data"
    }
   ],
   "source": [
    "[globals()[f'df_{i}'].hist(figsize=(10,10)) for i in range(3)];"
   ]
  },
  {
   "cell_type": "markdown",
   "metadata": {
    "id": "2RbwlDoa0Xwt"
   },
   "source": [
    "### Вывод\n",
    "* Загружены 3 файла с данными о скважиных в разных локациях, в каждом файле 100 000 записей с информацией: id — уникальный идентификатор скважины;\n",
    "f0, f1, f2 — три признака точек; product — объём запасов в скважине (тыс. баррелей).\n",
    "* Выведены первые строки, информация о таблицах, статистика по значениям \n",
    "* Названия столбцов не требуют перименования\n",
    "* Явные дубликаты отсутствуют\n",
    "* Типы данных корректные\n",
    "* Пропуски в данных отстутствуют\n",
    "* Выбросы отсутствуют\n",
    "\n",
    "Также при анализе гистограмм выявлено, что распределения product — объём запасов в скважине и оценок для первого(df_0) и третьего(2) региона близки к нормальному. Для второго(1) объём и оценка f2 не нормальны,  распределение объема ближе к равномерному, но с выбросами по краям.\n",
    "\n"
   ]
  },
  {
   "cell_type": "markdown",
   "metadata": {
    "id": "y_HCiaskEDq-"
   },
   "source": [
    "## Шаг 2. Обучение и проверка модели для каждого региона\n",
    "\n",
    "План\n",
    "\n",
    "2.1. Разбить данные на обучающую и валидационную выборки в соотношении 75:25.\n",
    "\n",
    "2.2. Обучить модель и сделайть предсказания на валидационной выборке.\n",
    "\n",
    "2.3. Сохранить предсказания и правильные ответы на валидационной выборке.\n",
    "\n",
    "2.4. Напечатать на экране средний запас предсказанного сырья и RMSE модели.\n",
    "\n",
    "2.5. Анализ результатов.\n",
    "\n"
   ]
  },
  {
   "cell_type": "code",
   "execution_count": 9,
   "metadata": {
    "colab": {
     "base_uri": "https://localhost:8080/"
    },
    "id": "a3EpbBUA12DI",
    "outputId": "28b80250-fd1a-4b85-acc1-38b0a3a33059"
   },
   "outputs": [
    {
     "name": "stdout",
     "output_type": "stream",
     "text": [
      "(75000, 3) (25000, 3) (75000,) (25000,)\n",
      "(75000, 3) (25000, 3) (75000,) (25000,)\n",
      "(75000, 3) (25000, 3) (75000,) (25000,)\n"
     ]
    }
   ],
   "source": [
    "# разделение признаков\n",
    "state = np.random.RandomState(12345) # чтобы в разных регионах были разные разделения\n",
    "\n",
    "for i in range(3):\n",
    "    globals()[f'features_{i}'] =  globals()[f'df_{i}'].drop(['product','id'] , axis=1)\n",
    "    globals()[f'target_{i}'] =  globals()[f'df_{i}']['product']\n",
    "    (globals()[f'features_train_{i}'], globals()[f'features_valid_{i}'],\n",
    "    globals()[f'target_train_{i}'], globals()[f'target_valid_{i}']) = train_test_split(\n",
    "      globals()[f'features_{i}'], globals()[f'target_{i}'], test_size=0.25, random_state=state)\n",
    "    print(globals()[f'features_train_{i}'].shape, globals()[f'features_valid_{i}'].shape,\n",
    "        globals()[f'target_train_{i}'].shape, globals()[f'target_valid_{i}'].shape)\n",
    "\n"
   ]
  },
  {
   "cell_type": "code",
   "execution_count": 10,
   "metadata": {
    "id": "xPOyGYSmpMuI"
   },
   "outputs": [],
   "source": [
    "#Объединение\n",
    "#features_train = pd.concat([features_train_0,features_train_1,features_train_2]\n",
    "features_train = pd.concat([features_train_0,features_train_1,features_train_2], keys=['df_0','df_1','df_2'])#, ignore_index=True)\n",
    "features_valid = pd.concat([features_valid_0,features_valid_1,features_valid_2], keys=['df_0','df_1','df_2'])#, ignore_index=True)\n",
    "target_train = pd.concat([target_train_0,target_train_1,target_train_2], keys=['df_0','df_1','df_2'])#, ignore_index=True)\n",
    "target_valid = pd.concat([target_valid_0,target_valid_1,target_valid_2], keys=['df_0','df_1','df_2'])#, ignore_index=True)"
   ]
  },
  {
   "cell_type": "code",
   "execution_count": 11,
   "metadata": {
    "id": "5z1SJJrY6wjp"
   },
   "outputs": [],
   "source": [
    "# масштабирование численных признаков, все признаки численные\n",
    "scaler = StandardScaler()\n",
    "scaler.fit(features_train)\n",
    "features_train = pd.DataFrame(scaler.transform(features_train), index=features_train.index)\n",
    "features_valid = pd.DataFrame(scaler.transform(features_valid), index=features_valid.index)"
   ]
  },
  {
   "cell_type": "markdown",
   "metadata": {
    "id": "QFWLhvBHEINM"
   },
   "source": [
    "### Обучение одной общей для всех регионов модели линейной регрессии "
   ]
  },
  {
   "cell_type": "code",
   "execution_count": 12,
   "metadata": {
    "id": "KBblasbwBlw_"
   },
   "outputs": [],
   "source": [
    "#Обучение одной общей для всех регионов модели линейной регрессии \n",
    "model = LinearRegression()\n",
    "model.fit(features_train, target_train)\n",
    "predicted_valid = pd.Series(model.predict(features_valid), index=target_valid.index)"
   ]
  },
  {
   "cell_type": "code",
   "execution_count": 13,
   "metadata": {
    "colab": {
     "base_uri": "https://localhost:8080/"
    },
    "id": "CDyvqQpa2D62",
    "outputId": "a2781919-da9e-4a79-fcc8-ce7b425ce2b7"
   },
   "outputs": [
    {
     "name": "stdout",
     "output_type": "stream",
     "text": [
      "Метрики обученной модели: MSE - 1496.55, RMSE - 38.69, MAE - 31.65, R2_score - 0.308\n",
      "Метрики константной средней модели: MSE - 2163.92, RMSE - 46.52, MAE - 39.23, R2_score - -0.000\n",
      "Усредненный по всем регионам запас предсказанного сырья 85.49, реальный - 85.20, RMSE модели - 38.69.\n"
     ]
    }
   ],
   "source": [
    "print(f'Метрики обученной модели: MSE - {mean_squared_error(target_valid, predicted_valid):.2f}, RMSE - {mean_squared_error(target_valid, predicted_valid,squared=False):.2f},',\n",
    "      f'MAE - {mean_absolute_error(target_valid, predicted_valid):.2f}, R2_score - {r2_score(target_valid,predicted_valid):.3f}')\n",
    "print(f'Метрики константной средней модели: MSE - {mean_squared_error(target_valid, pd.Series(target_train.mean(),target_valid.index)):.2f}, RMSE - {mean_squared_error(target_valid, pd.Series(target_train.mean(),target_valid.index),squared=False):.2f},',\n",
    "      f'MAE - {mean_absolute_error(target_valid, pd.Series(target_train.mean(),target_valid.index)):.2f}, R2_score - {r2_score(target_valid, pd.Series(target_train.mean(),target_valid.index)):.3f}')\n",
    "print(f\"Усредненный по всем регионам запас предсказанного сырья {predicted_valid.mean():.2f}, реальный - {target_valid.mean():.2f}, RMSE модели - {mean_squared_error(target_valid, predicted_valid,squared=False):.2f}.\")"
   ]
  },
  {
   "cell_type": "code",
   "execution_count": 14,
   "metadata": {
    "colab": {
     "base_uri": "https://localhost:8080/"
    },
    "id": "ZJ7vzmIi8SYb",
    "outputId": "7b74fa7d-8fb3-4627-a3df-6fabdcca72c3"
   },
   "outputs": [
    {
     "name": "stdout",
     "output_type": "stream",
     "text": [
      "Метрики при обучении одной общей для всех регионов модели линейной регрессии\n",
      "В первом регионе\n",
      "Средний запас предсказанного сырья 88.45, реальный - 92.08\n",
      "RMSE модели - 39.62 MAE - 32.12, R2_score - 0.199\n",
      "\n",
      "Во втором регионе\n",
      "Средний запас предсказанного сырья 79.79, реальный - 68.77\n",
      "RMSE модели - 34.42 MAE - 29.18, R2_score - 0.441\n",
      "\n",
      "Во третьем регионе\n",
      "Средний запас предсказанного сырья 88.24, реальный - 94.75\n",
      "RMSE модели - 41.65 MAE - 33.66, R2_score - 0.134\n",
      "\n"
     ]
    }
   ],
   "source": [
    "print(\"Метрики при обучении одной общей для всех регионов модели линейной регрессии\")\n",
    "for ind, num in zip(['df_0','df_1','df_2'],[' первом','о втором','о третьем']):\n",
    "    print(f'В{num} регионе')\n",
    "    print(f\"Средний запас предсказанного сырья {predicted_valid[ind].mean():.2f}, реальный - {target_valid[ind].mean():.2f}\")\n",
    "    print(f\"RMSE модели - {mean_squared_error(target_valid[ind], predicted_valid[ind],squared=False):.2f}\",\n",
    "        f'MAE - {mean_absolute_error(target_valid[ind], predicted_valid[ind]):.2f}, R2_score - {r2_score(target_valid[ind], predicted_valid[ind]):.3f}\\n')\n"
   ]
  },
  {
   "cell_type": "markdown",
   "metadata": {
    "id": "QdJncIo-EP-4"
   },
   "source": [
    "### Обучение отдельных моделей линейной регрессии для каждого региона"
   ]
  },
  {
   "cell_type": "code",
   "execution_count": 15,
   "metadata": {
    "id": "PDthAogQ4xGC"
   },
   "outputs": [],
   "source": [
    "#Обучение отдельных моделей линейной регрессии для каждого региона\n",
    "predicted_valid = pd.Series(dtype='float64')\n",
    "for ind in ['df_0','df_1','df_2']:\n",
    "    model = LinearRegression()\n",
    "    model.fit(features_train.loc[ind], target_train[ind])\n",
    "    predicted_valid[ind] = pd.Series(model.predict(features_valid.loc[ind]), index=target_valid[ind].index)"
   ]
  },
  {
   "cell_type": "code",
   "execution_count": 16,
   "metadata": {
    "colab": {
     "base_uri": "https://localhost:8080/"
    },
    "id": "tSk33Xs28pRv",
    "outputId": "e9f7ab5e-50c5-4d63-db83-9f4698d83b2a"
   },
   "outputs": [
    {
     "name": "stdout",
     "output_type": "stream",
     "text": [
      "Для отдельных моделей линейной регрессии для каждого региона\n",
      "\n",
      "В первом регионе\n",
      "Средний запас предсказанного сырья 92.59, реальный - 92.08\n",
      "RMSE модели - 37.58 MAE - 30.92, R2_score - 0.2799\n",
      "Метрики константной средней модели: RMSE - 44.29, MAE - 37.68\n",
      "\n",
      "Во втором регионе\n",
      "Средний запас предсказанного сырья 68.77, реальный - 68.77\n",
      "RMSE модели - 0.89 MAE - 0.72, R2_score - 0.9996\n",
      "Метрики константной средней модели: RMSE - 46.04, MAE - 40.38\n",
      "\n",
      "Во третьем регионе\n",
      "Средний запас предсказанного сырья 95.09, реальный - 94.75\n",
      "RMSE модели - 39.96 MAE - 32.80, R2_score - 0.2026\n",
      "Метрики константной средней модели: RMSE - 44.75, MAE - 37.78\n"
     ]
    }
   ],
   "source": [
    "print(\"Для отдельных моделей линейной регрессии для каждого региона\")\n",
    "for ind, num in zip(['df_0','df_1','df_2'],[' первом','о втором','о третьем']):\n",
    "    print(f'\\nВ{num} регионе')\n",
    "    print(f\"Средний запас предсказанного сырья {predicted_valid[ind].mean():.2f},\",f\"реальный - {target_valid[ind].mean():.2f}\")\n",
    "    print(f\"RMSE модели - {mean_squared_error(target_valid[ind], predicted_valid[ind],squared=False):.2f}\",\n",
    "        f'MAE - {mean_absolute_error(target_valid[ind], predicted_valid[ind]):.2f}, R2_score - {r2_score(target_valid[ind], predicted_valid[ind]):.4f}')\n",
    "    predict_const_mean = pd.Series(target_train[ind].mean(),target_valid[ind].index)\n",
    "    print(f'Метрики константной средней модели: RMSE - {mean_squared_error(target_valid[ind], predict_const_mean,squared=False):.2f},',\n",
    "        f'MAE - {mean_absolute_error(target_valid[ind], predict_const_mean):.2f}')\n",
    "\n"
   ]
  },
  {
   "cell_type": "markdown",
   "metadata": {
    "id": "B2yaxyXyEDrG"
   },
   "source": [
    "### Вывод\n",
    "\n",
    "2.1. Данные разбиты на обучающую и валидационную выборки в соотношении 3:1.\n",
    "\n",
    "2.2. Обучена модель и сделаны предсказания на валидационной выборке.\n",
    "\n",
    "2.3. Сохраны предсказания и правильные ответы на валидационной выборке.\n",
    "\n",
    "2.4. Выведены на экран средний запас предсказанного сырья и RMSE модели для каждого региона и общие.\n",
    "\n",
    "Рассмотрено два варианта построения моделей:\n",
    "1. Одна общая для всех регионов\n",
    "2. Три отдельных для каждого региона\n",
    "\n",
    "В обоих вариантах построения моделей максимальный коэффициент детерминации R2 наблюдается для второго региона, т.е. модель лучше предсказывает продуктивность скважин 2 региона. Для первого и третьего регионов R2 менее 0,3, что говорит о невысоком качестве модели, но лучшем, чем у константной модели. При построении отдельных моделей для каждого региона R2 заметно возрастает по сравнению с показателем R2 общей модели и для второго региона достигает 1 (0.9996).\n",
    "\n",
    "Одинаково для вариантов максимально предсказываемые объемы продукта наблюдаются для 1-го и 3-го регионов, реальные максимальные запасы также расположены в этих регионах (92,08 и 94,75 тыс. баррелей). Во втором регионе предсказаны и и реально содержаться минимальные средние запасы (68,77 тыс. баррелей). В третьем регионе максимальные среднеквадратическое и средне абсолютное отклонения, а минимальные - во втором регионе.\n",
    "\n",
    "Таким образом, предпочтительнее обучать для каждого региона свою отдельную модель, так при этом улучшаются все метрики.\n",
    "\n",
    "\n",
    "\n",
    "\n",
    "\n",
    "\n"
   ]
  },
  {
   "cell_type": "markdown",
   "metadata": {
    "id": "1lZbT_DsIkUY"
   },
   "source": [
    "## Шаг 3. Подготовка к расчёту прибыли\n",
    "\n",
    "3.1. Все ключевые значения для расчётов сохранить в константах.\n",
    "\n",
    "3.2. Рассчитать достаточный объём сырья для безубыточной разработки новой скважины. Сравнить полученный объём сырья со средним запасом в каждом регионе.\n",
    "\n",
    "3.3. Написать выводы по этапу подготовки расчёта прибыли.\n",
    "\n",
    "**Условия задачи:**\n",
    "- При разведке региона исследуют 500 точек, из которых с помощью машинного обучения выбирают 200 лучших для разработки.\n",
    "- Бюджет на разработку скважин в регионе — 10 млрд рублей.\n",
    "- При нынешних ценах один баррель сырья приносит 450 рублей дохода. Доход с каждой единицы продукта составляет 450 тыс. рублей, поскольку объём указан в тысячах баррелей.\n",
    "- После оценки рисков нужно оставить лишь те регионы, в которых вероятность убытков меньше 2.5%. Среди них выбирают регион с наибольшей средней прибылью."
   ]
  },
  {
   "cell_type": "code",
   "execution_count": 17,
   "metadata": {
    "id": "QMC1Y_SFDQXT"
   },
   "outputs": [],
   "source": [
    "WELL_NUM = 500 #кол-во скажин \n",
    "BEST_WELL_NUM = 200 # кол-во отбираемых лучших скважин\n",
    "BUDGET = 10e6 #тыс руб\n",
    "REVENUE = 450 # тыс руб за единицу продукции\n",
    "RISK = 0.025 #приемлемый риск убытков"
   ]
  },
  {
   "cell_type": "code",
   "execution_count": 18,
   "metadata": {
    "colab": {
     "base_uri": "https://localhost:8080/"
    },
    "id": "b_XbcpYiFVTF",
    "outputId": "18c71b98-86ad-4eeb-8b7d-f620cec819c2"
   },
   "outputs": [
    {
     "name": "stdout",
     "output_type": "stream",
     "text": [
      "Достаточный объём сырья региона для безубыточной разработки новой скважины 22222.222\n",
      "Необходимый средний объём сырья одной скважины 111.111\n"
     ]
    }
   ],
   "source": [
    "# достаточный объём сырья для безубыточной разработки новой скважины\n",
    "product_required_vol = BUDGET / REVENUE\n",
    "print(f'Достаточный объём сырья региона для безубыточной разработки новой скважины {product_required_vol:.3f}')\n",
    "print(f'Необходимый средний объём сырья одной скважины {product_required_vol / 200:.3f}')\n"
   ]
  },
  {
   "cell_type": "markdown",
   "metadata": {
    "id": "OdXzGChgSTxp"
   },
   "source": [
    "### Вывод\n",
    "Для для безубыточной разработки нового нефтяного региона (200 скважин) необходимый объем сырья региона должен составлять 22,(2) млн баррелей, тогда средний объем каждой скважины должен быть не меньше 111,(1) тыс баррелей, что заменто превосходит средний объем скважин валидационной выборки. "
   ]
  },
  {
   "cell_type": "markdown",
   "metadata": {
    "id": "C2ekaVuoRSEE"
   },
   "source": [
    "## Шаг 4. Функция для расчёта прибыли по выбранным скважинам и предсказаниям модели\n",
    "План\n",
    "\n",
    "4.1. Выбрать скважины с максимальными значениями предсказаний.\n",
    "\n",
    "4.2. Просуммировать целевое значение объёма сырья, соответствующее этим предсказаниям.\n",
    "\n",
    "4.3. Рассчитать прибыль для полученного объёма сырья."
   ]
  },
  {
   "cell_type": "code",
   "execution_count": 19,
   "metadata": {
    "id": "sLUDaawRVwSs"
   },
   "outputs": [],
   "source": [
    "# функция расчета объема сырья и прибыли региона для лучших 200 скважин\n",
    "def region_profit(predict, target):\n",
    "    sampled_predict = target[predict.sort_values(ascending=False)[:BEST_WELL_NUM].index]\n",
    "    sum = sampled_predict.sum()\n",
    "    return (sum*REVENUE - BUDGET) /1e6 "
   ]
  },
  {
   "cell_type": "code",
   "execution_count": 20,
   "metadata": {
    "colab": {
     "base_uri": "https://localhost:8080/"
    },
    "id": "rceIFz9MItWe",
    "outputId": "82e00a9d-19d8-4f30-d3e7-8d57b5662ed0"
   },
   "outputs": [
    {
     "name": "stdout",
     "output_type": "stream",
     "text": [
      "Прибыль по регионам, млрд:\n",
      "0.3300163506022934\n",
      "0.2144565998448748\n",
      "0.09851273246287741\n"
     ]
    }
   ],
   "source": [
    "# проверка функции\n",
    "print('Прибыль по регионам, млрд:')\n",
    "for reg_ind in ['df_0', 'df_1', 'df_2']:\n",
    "    smpl_indx=predicted_valid[reg_ind].sample(WELL_NUM,random_state = state).index\n",
    "    print(region_profit(\n",
    "      predicted_valid[reg_ind][smpl_indx], \n",
    "      target_valid[reg_ind][smpl_indx]))"
   ]
  },
  {
   "cell_type": "markdown",
   "metadata": {
    "id": "9xV9NppEYXU1"
   },
   "source": [
    "### Вывод\n",
    "Написана функция для расчёта прибыли по выбранным скважинам и предсказаниям модели. В функции по предсказаниям выбираются из 500 скважин 200 (заданные в переменных значения) с максимальной продуктивностью, расчитывается их реальная суммарная продуктивность и прибыль в млрд. р. (за вычетом затрат на разработку скважин)."
   ]
  },
  {
   "cell_type": "markdown",
   "metadata": {
    "id": "7G5AouiSYUdg"
   },
   "source": [
    "## Шаг 5. Расчет рисков и доверительного интервала прибыли для каждого региона\n",
    "\n",
    "5.1. Применить технику Bootstrap с 1000 выборок, чтобы найти распределение прибыли.\n",
    "\n",
    "5.2. Найти среднюю прибыль, 95%-й доверительный интервал и риск отрицательной прибыли (убытков).\n",
    "\n",
    "5.3. Предложить регион для разработки скважин."
   ]
  },
  {
   "cell_type": "code",
   "execution_count": 21,
   "metadata": {
    "colab": {
     "base_uri": "https://localhost:8080/"
    },
    "id": "E9crbXf7cmOi",
    "outputId": "19ad14c0-6580-4a41-95af-e8a4af7575b0"
   },
   "outputs": [
    {
     "name": "stdout",
     "output_type": "stream",
     "text": [
      "ПЕРВЫЙ РЕГИОН\n",
      "Средняя прибыль: 0.386 млрд.р., 95% доверительный интервал (-0.107, 0.88)\n",
      "Вероятность (риск) получить убыток: 6.5 %\n",
      "\n",
      "ВТОРОЙ РЕГИОН\n",
      "Средняя прибыль: 0.448 млрд.р., 95% доверительный интервал (0.084, 0.852)\n",
      "Вероятность (риск) получить убыток: 0.7 %\n",
      "\n",
      "ТРЕТИЙ РЕГИОН\n",
      "Средняя прибыль: 0.339 млрд.р., 95% доверительный интервал (-0.194, 0.865)\n",
      "Вероятность (риск) получить убыток: 9.9 %\n",
      "\n",
      "CPU times: total: 4.7 s\n",
      "Wall time: 4.71 s\n"
     ]
    },
    {
     "data": {
      "text/plain": [
       "Text(0, 0.5, 'Средняя прибыль в регионе')"
      ]
     },
     "execution_count": 21,
     "metadata": {},
     "output_type": "execute_result"
    },
    {
     "data": {
      "image/png": "[encoded data removed]",
      "text/plain": [
       "<Figure size 640x480 with 1 Axes>"
      ]
     },
     "metadata": {},
     "output_type": "display_data"
    }
   ],
   "source": [
    "%%time\n",
    "profit_all_reg = pd.DataFrame()\n",
    "for reg_ind, region_num in zip(['df_0', 'df_1', 'df_2'],['Первый', 'Второй', 'Третий']):\n",
    "    profit = []\n",
    "    for j in range(1000):\n",
    "        # выбор случайных 500 скважин\n",
    "        smpl_indx=predicted_valid[reg_ind].sample(WELL_NUM,random_state = state).index \n",
    "        # расчет прибыли лучших 200 из 500 скважин\n",
    "        profit +=[region_profit(\n",
    "            predicted_valid[reg_ind][smpl_indx], \n",
    "            target_valid[reg_ind][smpl_indx])]\n",
    "    profit = pd.Series(profit) \n",
    "    profit_all_reg[reg_ind] = profit\n",
    "    mean = profit.mean()\n",
    "    lower = profit.quantile(q=0.025)\n",
    "    upper = profit.quantile(q=0.975)\n",
    "    print((region_num+' регион').upper())\n",
    "    print(f'Средняя прибыль: {mean:.3f} млрд.р., 95% доверительный интервал ({lower.round(3)}, {upper.round(3)})')\n",
    "    print(f'Вероятность (риск) получить убыток: {percentileofscore(profit,0)} %\\n')\n",
    "profit_all_reg.columns = ['Регион 1','Регион 2','Регион 3']\n",
    "profit_all_reg.boxplot().set_ylabel('Средняя прибыль в регионе');"
   ]
  },
  {
   "cell_type": "markdown",
   "metadata": {
    "id": "o1jcnwf3EDrB"
   },
   "source": [
    "### Вывод\n",
    "\n",
    "Выполнен расчет рисков и доверительного интервала прибыли для каждого региона,использована техника Bootstrap с 1000 выборок, чтобы найти распределение прибыли. Найдена средняя прибыль, 95%-й доверительный интервал и риск убытков.\n",
    "\n",
    "Как и в шаге 2 рассмотрено два варианта построения моделей.\n",
    "\n",
    "**Результаты при построении одной общей модели:** \n",
    "\n",
    "|Регион| Средняя прибыль, млрд.р. |95 % доверительный интервал прибыли, млрд.р.| Риск убытка|\n",
    "|--|-- |--| --|\n",
    "|1| 0.202 |(-0.31, 0.676)| 21.2 %|\n",
    "|2| -0.003 |(-0.394, 0.408)| 50.9 %|\n",
    "|3| 0.328 |(-0.208, 0.837)| 10.8 %|\n",
    "\n",
    "При таком построении модели регрессии ни один из регионов не подходит для разработки скважин, так как во всех регионах риск получить убыток больше 2,5%. Из рассмотреных регионов лучшие показатели наблюдаются для третьего региона - минимальный риск получить убыток: 10.8 %, и максимальная средняя прибыль - 0.328 млрд.р.\n",
    "\n",
    "**Результаты при построении трех отдельных моделей:** \n",
    "\n",
    "|Регион| Средняя прибыль, млрд.р. |95 % доверительный интервал прибыли, млрд.р.| Риск убытка|\n",
    "|--|-- |--| --|\n",
    "|1| 0.386 |(-0.107, 0.88)| 6.5 %|\n",
    "|2| 0.448 |(0.084, 0.852)| 0.7 %|\n",
    "|3| 0.339 |(-0.194, 0.865)| 9.9 %|\n",
    "\n",
    "При построении отдельных моделей для каждого региона для разработки скважин подходит только второй регион с риском убытков в 0,7%, для первого и третьего региона риски убытков 6,5% и 9,9%, т.е. больше заданного порога в 2,5%. Также во втором регионе максимальная средняя прибыль с наиболее узким доверительным интервалом. Несмотря на то, что согласно Шагу 2 во втором регионе наименьшая средняя прибыль регион оказывается единственным подходящим для разработки скважин. Это может быть объяснено тем, что продуктивность данных скважин полностью предсказуема (R2 = 1). Кроме того согласно гистограммам Шага 1 в регионе имеется две моды в области низких и высоких продуктивностей и за счет полной предсказуемости, могут быть выбраны 200 скважин с действительно высокой продуктивностью."
   ]
  },
  {
   "cell_type": "markdown",
   "metadata": {
    "id": "wqZ4CqaplpY3"
   },
   "source": [
    "## Шаг 6. Общий вывод\n",
    "\n",
    "\n",
    "В ходе выбора локации для новой скважины ГлавРосГосНефть было выполнено:\n",
    "1. Загружены и подготовлены данные:\n",
    "* Загружены 3 файла с данными о скважиных в разных локациях, в каждом файле 100 000 записей с информацией: id — уникальный идентификатор скважины;\n",
    "f0, f1, f2 — три признака точек; product — объём запасов в скважине (тыс. баррелей).\n",
    "* Выведены первые строки, информация о таблицах, статистику по значениям \n",
    "* Название столбцов не требуют перименования\n",
    "* Явные дубликаты отсутствуют\n",
    "* Типы данных корректные\n",
    "* Пропуски в данных отстутствуют\n",
    "* Выбросы отсутствуют\n",
    "\n",
    "Также при анализе гистограмм выявлено, что распределения product — объём запасов в скважине и оценок для первого(df_0) и третьего(df_2) региона близки к нормальному. т.е. скаважин с максимальной продуктивностью относительно мало. Для второго (df_1) объём и оценка f2 не нормальны,  распределение объема ближе к равномерному, но с выбросами по краям, т.е. скважин с высокой продуктивностью относительно много. \n",
    "\n",
    "2. Обучена и проверена модель для каждого региона:\n",
    "* Данные разбиты на обучающую и валидационную выборки в соотношении 3:1.\n",
    "* Обучена модель и сделаны предсказания на валидационной выборке.\n",
    "* Сохраны предсказания и правильные ответы на валидационной выборке.\n",
    "* Выведены на экран средний запас предсказанного сырья и RMSE модели для каждого региона и общие.\n",
    "\n",
    "Рассмотрено два варианта построения моделей:\n",
    "* Одна общая для всех регионов\n",
    "* Три отдельных для каждого региона\n",
    "\n",
    "В обоих вариантах построения моделей максимальный коэффициент детерминации R2 наблюдается для второго региона, т.е. она лучше предсказывает продуктивность скважин. Для первого и третьего регионов R2 менее 0,3, что говорит о невысоком качестве модели, но лучшем, чем у константной модели. При построении отдельных моделей для каждого региона R2 заметно возрастает (по сравнению показателями R2 общей модели) и для второго региона достигает 1 (0.9996).\n",
    "\n",
    "Одинаково для вариантов максимально предсказываемые объемы продукта наблюдаются для 1-го и 3-го регионов, реальные максимальные запасы также расположены в этих регионах (92,08 и 94,75 тыс. баррелей). Во втором регионе предсказаны и и реально содержаться минимальные средние запасы (68,77 тыс. баррелей). В третьем регионе максимальные среднеквадратическое и средне абсолютное отклонения, а минимальные - во втором регионе.\n",
    "\n",
    "Таким образом, предпочтительнее обучать для каждого региона свою отдельную модель, так при этом улучшаются все метрики.\n",
    "\n",
    "3. Подготовка к расчёту прибыли\n",
    "* Все ключевые значения для расчётов сохранены в отдельных переменных.\n",
    "* Рассчитан достаточный объём сырья для безубыточной разработки новой скважины. \n",
    "* Выполнено сравнение полученного объёма сырья со средним запасом в каждом регионе. Для безубыточной разработки нового нефтяного региона (200 скважин) необходимый объем сырья региона должен составлять 22,(2) млн. баррелей, тогда средний объем каждой скважины должен быть не меньше 111,(1) тыс. баррелей, что заменто превосходит средний объем скважин валидационной выборки.\n",
    "4. Подготовлена функция для расчёта прибыли по выбранным скважинам и предсказаниям модели, которая:\n",
    "* Выбирает скважины (200) с максимальными значениями предсказаний.\n",
    "* Суммирует целевое значение объёма сырья, соответствующее этим предсказаниям.\n",
    "* Рассчитывает прибыль для полученного объёма сырья.\n",
    "5. Расчет рисков и доверительного интервала прибыли для каждого региона\n",
    "* Применена техника Bootstrap с 1000 выборок, чтобы найти распределение прибыли.\n",
    "* Найдена средняя прибыль, 95%-й доверительный интервал и риск убытков для каждого региона.\n",
    "\n",
    "При построении отдельных моделей для каждого региона для разработки скважин подходит только второй регион с риском убытков в 0,7%, для первого и третьего региона риски убытков 6,5% и 9,9% больше заданного порога в 2,5%. Также во втором регионе максимальная средняя прибыль с наиболее узким доверительным интервалом. Несмотря на то, что согласно Шагу 2 во втором регионе наименьшая средняя прибыль регион оказывается единственным подходящим для разработки скважин. Это может быть объяснено тем, что продуктивность данных скважин полностью предсказуема (R2 = 0,9996). Кроме того, согласно гистограммам Шага 1 в регионе имеется две моды в области низких и высоких продуктивностей и за счет полной предсказуемости, могут быть выбраны 200 скважин с действительно высокой продуктивностью.\n",
    "\n",
    "Итак, отвечая на главный вопрос проекта \"где бурить новую скважину?\", можно рекомендавать второй регион, при этом выбор лучших скважин должна осуществлять модель, обученная только на данных этого региона.\n"
   ]
  },
  {
   "cell_type": "code",
   "execution_count": null,
   "metadata": {},
   "outputs": [],
   "source": []
  }
 ],
 "metadata": {
  "ExecuteTimeLog": [
   {
    "duration": 616,
    "start_time": "2022-01-09T08:57:57.214Z"
   },
   {
    "duration": 55,
    "start_time": "2022-01-09T09:02:24.457Z"
   },
   {
    "duration": 9,
    "start_time": "2022-01-09T09:06:17.037Z"
   },
   {
    "duration": 13,
    "start_time": "2022-01-09T09:09:50.650Z"
   },
   {
    "duration": 10,
    "start_time": "2022-01-09T09:09:55.929Z"
   },
   {
    "duration": 228,
    "start_time": "2022-01-09T09:10:49.253Z"
   },
   {
    "duration": 195,
    "start_time": "2022-01-09T09:10:59.972Z"
   },
   {
    "duration": 165,
    "start_time": "2022-01-09T09:11:06.875Z"
   },
   {
    "duration": 21,
    "start_time": "2022-01-09T09:11:21.993Z"
   },
   {
    "duration": 8,
    "start_time": "2022-01-09T09:11:33.579Z"
   },
   {
    "duration": 11,
    "start_time": "2022-01-09T09:11:51.717Z"
   },
   {
    "duration": 10,
    "start_time": "2022-01-09T09:18:03.115Z"
   },
   {
    "duration": 65,
    "start_time": "2022-01-09T09:20:42.536Z"
   },
   {
    "duration": 4,
    "start_time": "2022-01-09T09:21:37.627Z"
   },
   {
    "duration": 10,
    "start_time": "2022-01-09T09:22:10.829Z"
   },
   {
    "duration": 12,
    "start_time": "2022-01-09T09:22:21.157Z"
   },
   {
    "duration": 12,
    "start_time": "2022-01-09T09:24:18.494Z"
   },
   {
    "duration": 68,
    "start_time": "2022-01-09T09:28:21.060Z"
   },
   {
    "duration": 66,
    "start_time": "2022-01-09T09:28:28.472Z"
   },
   {
    "duration": 194,
    "start_time": "2022-01-09T09:39:15.376Z"
   },
   {
    "duration": 20,
    "start_time": "2022-01-09T09:40:37.393Z"
   },
   {
    "duration": 17,
    "start_time": "2022-01-09T09:41:36.501Z"
   },
   {
    "duration": 4907,
    "start_time": "2022-01-09T09:42:12.589Z"
   },
   {
    "duration": 5774,
    "start_time": "2022-01-09T09:43:02.539Z"
   },
   {
    "duration": 19,
    "start_time": "2022-01-09T09:44:40.102Z"
   },
   {
    "duration": 619,
    "start_time": "2022-01-09T09:48:44.995Z"
   },
   {
    "duration": 177,
    "start_time": "2022-01-09T09:49:03.089Z"
   },
   {
    "duration": 54,
    "start_time": "2022-01-09T09:50:02.161Z"
   },
   {
    "duration": 23,
    "start_time": "2022-01-09T09:50:10.208Z"
   },
   {
    "duration": 64,
    "start_time": "2022-01-09T09:54:34.077Z"
   },
   {
    "duration": 8,
    "start_time": "2022-01-09T09:54:34.143Z"
   },
   {
    "duration": 8,
    "start_time": "2022-01-09T09:54:34.153Z"
   },
   {
    "duration": 36,
    "start_time": "2022-01-09T09:54:34.162Z"
   },
   {
    "duration": 26,
    "start_time": "2022-01-09T09:54:34.199Z"
   },
   {
    "duration": 15,
    "start_time": "2022-01-09T09:56:19.980Z"
   },
   {
    "duration": 64,
    "start_time": "2022-01-09T09:56:26.666Z"
   },
   {
    "duration": 9,
    "start_time": "2022-01-09T09:56:26.732Z"
   },
   {
    "duration": 9,
    "start_time": "2022-01-09T09:56:26.743Z"
   },
   {
    "duration": 37,
    "start_time": "2022-01-09T09:56:26.754Z"
   },
   {
    "duration": 15,
    "start_time": "2022-01-09T09:56:26.793Z"
   },
   {
    "duration": 5,
    "start_time": "2022-01-09T09:58:08.826Z"
   },
   {
    "duration": 5,
    "start_time": "2022-01-09T09:58:31.284Z"
   },
   {
    "duration": 245,
    "start_time": "2022-01-09T09:58:43.754Z"
   },
   {
    "duration": 53,
    "start_time": "2022-01-09T09:59:14.712Z"
   },
   {
    "duration": 12,
    "start_time": "2022-01-09T09:59:40.048Z"
   },
   {
    "duration": 24,
    "start_time": "2022-01-09T09:59:51.278Z"
   },
   {
    "duration": 15,
    "start_time": "2022-01-09T09:59:57.216Z"
   },
   {
    "duration": 14,
    "start_time": "2022-01-09T10:01:03.571Z"
   },
   {
    "duration": 194,
    "start_time": "2022-01-09T10:01:39.651Z"
   },
   {
    "duration": 28,
    "start_time": "2022-01-09T10:05:27.279Z"
   },
   {
    "duration": 25,
    "start_time": "2022-01-09T10:05:46.770Z"
   },
   {
    "duration": 14,
    "start_time": "2022-01-09T10:07:30.678Z"
   },
   {
    "duration": 14,
    "start_time": "2022-01-09T10:07:33.672Z"
   },
   {
    "duration": 14,
    "start_time": "2022-01-09T10:08:12.316Z"
   },
   {
    "duration": 16,
    "start_time": "2022-01-09T10:11:10.168Z"
   },
   {
    "duration": 181,
    "start_time": "2022-01-09T10:12:35.478Z"
   },
   {
    "duration": 58,
    "start_time": "2022-01-09T10:12:57.431Z"
   },
   {
    "duration": 38,
    "start_time": "2022-01-09T10:13:04.067Z"
   },
   {
    "duration": 161,
    "start_time": "2022-01-09T10:14:16.965Z"
   },
   {
    "duration": 81,
    "start_time": "2022-01-09T10:14:42.381Z"
   },
   {
    "duration": 16,
    "start_time": "2022-01-09T10:27:38.193Z"
   },
   {
    "duration": 13,
    "start_time": "2022-01-09T10:27:51.100Z"
   },
   {
    "duration": 14,
    "start_time": "2022-01-09T10:27:58.940Z"
   },
   {
    "duration": 13,
    "start_time": "2022-01-09T10:31:21.066Z"
   },
   {
    "duration": 15,
    "start_time": "2022-01-09T10:31:48.148Z"
   },
   {
    "duration": 24,
    "start_time": "2022-01-09T10:32:07.768Z"
   },
   {
    "duration": 13,
    "start_time": "2022-01-09T10:32:30.424Z"
   },
   {
    "duration": 751,
    "start_time": "2022-01-09T10:41:01.003Z"
   },
   {
    "duration": 12,
    "start_time": "2022-01-09T10:41:25.334Z"
   },
   {
    "duration": 6210,
    "start_time": "2022-01-09T10:41:37.857Z"
   },
   {
    "duration": 4200,
    "start_time": "2022-01-09T10:41:52.227Z"
   },
   {
    "duration": 172,
    "start_time": "2022-01-09T10:41:58.334Z"
   },
   {
    "duration": 655,
    "start_time": "2022-01-09T10:42:08.880Z"
   },
   {
    "duration": 659,
    "start_time": "2022-01-09T10:44:09.214Z"
   },
   {
    "duration": 21,
    "start_time": "2022-01-09T10:47:28.738Z"
   },
   {
    "duration": 190,
    "start_time": "2022-01-09T11:32:53.024Z"
   },
   {
    "duration": 6,
    "start_time": "2022-01-09T11:33:38.241Z"
   },
   {
    "duration": 7,
    "start_time": "2022-01-09T11:33:59.026Z"
   },
   {
    "duration": 186,
    "start_time": "2022-01-09T11:34:17.016Z"
   },
   {
    "duration": 171,
    "start_time": "2022-01-09T11:34:42.405Z"
   },
   {
    "duration": 7,
    "start_time": "2022-01-09T11:34:55.289Z"
   },
   {
    "duration": 5,
    "start_time": "2022-01-09T11:35:10.346Z"
   },
   {
    "duration": 7,
    "start_time": "2022-01-09T11:36:32.546Z"
   },
   {
    "duration": 644,
    "start_time": "2022-01-09T11:36:51.960Z"
   },
   {
    "duration": 672,
    "start_time": "2022-01-09T11:37:36.854Z"
   },
   {
    "duration": 54,
    "start_time": "2022-01-09T11:38:29.833Z"
   },
   {
    "duration": 674,
    "start_time": "2022-01-09T11:38:40.789Z"
   },
   {
    "duration": 842,
    "start_time": "2022-01-09T11:39:27.620Z"
   },
   {
    "duration": 835,
    "start_time": "2022-01-09T11:39:35.268Z"
   },
   {
    "duration": 661,
    "start_time": "2022-01-09T11:39:43.651Z"
   },
   {
    "duration": 660,
    "start_time": "2022-01-09T11:39:58.416Z"
   },
   {
    "duration": 677,
    "start_time": "2022-01-09T11:40:10.900Z"
   },
   {
    "duration": 22,
    "start_time": "2022-01-09T11:41:12.651Z"
   },
   {
    "duration": 6,
    "start_time": "2022-01-09T11:41:25.586Z"
   },
   {
    "duration": 643,
    "start_time": "2022-01-09T11:41:51.821Z"
   },
   {
    "duration": 678,
    "start_time": "2022-01-09T11:44:58.332Z"
   },
   {
    "duration": 835,
    "start_time": "2022-01-09T11:47:39.627Z"
   },
   {
    "duration": 669,
    "start_time": "2022-01-09T11:50:02.454Z"
   },
   {
    "duration": 660,
    "start_time": "2022-01-09T11:50:09.304Z"
   },
   {
    "duration": 657,
    "start_time": "2022-01-09T11:50:16.671Z"
   },
   {
    "duration": 949,
    "start_time": "2022-01-09T11:50:39.824Z"
   },
   {
    "duration": 700,
    "start_time": "2022-01-09T11:51:39.826Z"
   },
   {
    "duration": 188,
    "start_time": "2022-01-09T12:05:36.960Z"
   },
   {
    "duration": 174,
    "start_time": "2022-01-09T12:05:54.095Z"
   },
   {
    "duration": 173,
    "start_time": "2022-01-09T12:08:03.289Z"
   },
   {
    "duration": 177,
    "start_time": "2022-01-09T12:08:27.648Z"
   },
   {
    "duration": 173,
    "start_time": "2022-01-09T12:08:47.222Z"
   },
   {
    "duration": 195,
    "start_time": "2022-01-09T12:09:04.563Z"
   },
   {
    "duration": 2144,
    "start_time": "2022-01-09T12:09:08.137Z"
   },
   {
    "duration": 768,
    "start_time": "2022-01-09T12:09:40.006Z"
   },
   {
    "duration": 2547,
    "start_time": "2022-01-09T12:09:44.920Z"
   },
   {
    "duration": 2530,
    "start_time": "2022-01-09T12:10:44.744Z"
   },
   {
    "duration": 2611,
    "start_time": "2022-01-09T12:10:53.656Z"
   },
   {
    "duration": 2548,
    "start_time": "2022-01-09T12:40:50.908Z"
   },
   {
    "duration": 2679,
    "start_time": "2022-01-09T12:45:48.095Z"
   },
   {
    "duration": 2633,
    "start_time": "2022-01-09T12:45:53.571Z"
   },
   {
    "duration": 2634,
    "start_time": "2022-01-09T12:45:59.505Z"
   },
   {
    "duration": 2660,
    "start_time": "2022-01-09T12:46:06.290Z"
   },
   {
    "duration": 2536,
    "start_time": "2022-01-09T12:46:20.580Z"
   },
   {
    "duration": 2501,
    "start_time": "2022-01-09T12:46:26.445Z"
   },
   {
    "duration": 59,
    "start_time": "2022-01-09T12:46:44.187Z"
   },
   {
    "duration": 2529,
    "start_time": "2022-01-09T12:46:47.835Z"
   },
   {
    "duration": 2663,
    "start_time": "2022-01-09T12:53:03.489Z"
   },
   {
    "duration": 2600,
    "start_time": "2022-01-09T13:00:10.051Z"
   },
   {
    "duration": 2533,
    "start_time": "2022-01-09T13:01:25.516Z"
   },
   {
    "duration": 2989,
    "start_time": "2022-01-09T13:02:29.678Z"
   },
   {
    "duration": 2656,
    "start_time": "2022-01-09T13:03:48.883Z"
   },
   {
    "duration": 2651,
    "start_time": "2022-01-09T13:03:59.369Z"
   },
   {
    "duration": 2805,
    "start_time": "2022-01-09T13:04:21.269Z"
   },
   {
    "duration": 71,
    "start_time": "2022-01-09T13:08:57.887Z"
   },
   {
    "duration": 57,
    "start_time": "2022-01-09T13:09:05.513Z"
   },
   {
    "duration": 4,
    "start_time": "2022-01-09T13:09:18.601Z"
   },
   {
    "duration": 280,
    "start_time": "2022-01-09T13:12:18.363Z"
   },
   {
    "duration": 321,
    "start_time": "2022-01-09T13:12:34.126Z"
   },
   {
    "duration": 2507,
    "start_time": "2022-01-09T13:12:59.983Z"
   },
   {
    "duration": 234,
    "start_time": "2022-01-09T13:13:46.979Z"
   },
   {
    "duration": 4380,
    "start_time": "2022-01-09T13:13:50.854Z"
   },
   {
    "duration": 4452,
    "start_time": "2022-01-09T13:14:04.567Z"
   },
   {
    "duration": 4439,
    "start_time": "2022-01-09T13:14:11.321Z"
   },
   {
    "duration": 2686,
    "start_time": "2022-01-09T13:14:54.490Z"
   },
   {
    "duration": 2715,
    "start_time": "2022-01-09T13:15:51.704Z"
   },
   {
    "duration": 2835,
    "start_time": "2022-01-09T13:15:55.237Z"
   },
   {
    "duration": 7262,
    "start_time": "2022-01-09T13:16:00.395Z"
   },
   {
    "duration": 7117,
    "start_time": "2022-01-09T13:16:07.878Z"
   },
   {
    "duration": 7053,
    "start_time": "2022-01-09T13:16:35.414Z"
   },
   {
    "duration": 7288,
    "start_time": "2022-01-09T13:17:42.978Z"
   },
   {
    "duration": 2875,
    "start_time": "2022-01-09T13:18:00.592Z"
   },
   {
    "duration": 4815,
    "start_time": "2022-01-09T13:18:06.038Z"
   },
   {
    "duration": 2760,
    "start_time": "2022-01-09T13:19:29.596Z"
   },
   {
    "duration": 6851,
    "start_time": "2022-01-09T13:19:52.319Z"
   },
   {
    "duration": 168,
    "start_time": "2022-01-09T13:28:24.964Z"
   },
   {
    "duration": 693,
    "start_time": "2022-01-09T13:28:32.584Z"
   },
   {
    "duration": 13,
    "start_time": "2022-01-09T13:28:48.386Z"
   },
   {
    "duration": 19,
    "start_time": "2022-01-09T13:30:20.664Z"
   },
   {
    "duration": 16,
    "start_time": "2022-01-09T13:30:53.682Z"
   },
   {
    "duration": 18,
    "start_time": "2022-01-09T13:31:22.957Z"
   },
   {
    "duration": 15,
    "start_time": "2022-01-09T13:31:28.765Z"
   },
   {
    "duration": 18,
    "start_time": "2022-01-09T13:31:37.515Z"
   },
   {
    "duration": 33,
    "start_time": "2022-01-09T13:31:46.346Z"
   },
   {
    "duration": 70,
    "start_time": "2022-01-09T15:10:59.792Z"
   },
   {
    "duration": 11,
    "start_time": "2022-01-09T15:10:59.865Z"
   },
   {
    "duration": 23,
    "start_time": "2022-01-09T15:10:59.878Z"
   },
   {
    "duration": 30,
    "start_time": "2022-01-09T15:10:59.903Z"
   },
   {
    "duration": 40,
    "start_time": "2022-01-09T15:11:06.306Z"
   },
   {
    "duration": 8,
    "start_time": "2022-01-09T15:11:55.756Z"
   },
   {
    "duration": 14,
    "start_time": "2022-01-09T15:12:16.225Z"
   },
   {
    "duration": 8,
    "start_time": "2022-01-09T15:13:07.827Z"
   },
   {
    "duration": 22,
    "start_time": "2022-01-09T15:13:34.674Z"
   },
   {
    "duration": 211,
    "start_time": "2022-01-11T18:14:50.008Z"
   },
   {
    "duration": 644,
    "start_time": "2022-01-11T18:14:56.065Z"
   },
   {
    "duration": 9,
    "start_time": "2022-01-11T18:14:56.711Z"
   },
   {
    "duration": 9,
    "start_time": "2022-01-11T18:14:56.721Z"
   },
   {
    "duration": 12,
    "start_time": "2022-01-11T18:14:56.731Z"
   },
   {
    "duration": 6817,
    "start_time": "2022-01-11T18:14:58.983Z"
   },
   {
    "duration": 6,
    "start_time": "2022-01-11T18:16:19.868Z"
   },
   {
    "duration": 26,
    "start_time": "2022-01-11T18:19:43.648Z"
   },
   {
    "duration": 204,
    "start_time": "2022-01-11T18:24:02.186Z"
   },
   {
    "duration": 28,
    "start_time": "2022-01-11T18:24:07.984Z"
   },
   {
    "duration": 29,
    "start_time": "2022-01-11T18:28:49.463Z"
   },
   {
    "duration": 186,
    "start_time": "2022-01-11T18:29:41.077Z"
   },
   {
    "duration": 28,
    "start_time": "2022-01-11T18:33:10.511Z"
   },
   {
    "duration": 27,
    "start_time": "2022-01-11T18:33:19.078Z"
   },
   {
    "duration": 33,
    "start_time": "2022-01-11T18:36:14.863Z"
   },
   {
    "duration": 28,
    "start_time": "2022-01-11T18:36:30.399Z"
   },
   {
    "duration": 56,
    "start_time": "2022-01-11T18:40:24.774Z"
   },
   {
    "duration": 316,
    "start_time": "2022-01-11T18:40:50.523Z"
   },
   {
    "duration": 8,
    "start_time": "2022-01-11T18:41:57.448Z"
   },
   {
    "duration": 177,
    "start_time": "2022-01-11T18:42:23.283Z"
   },
   {
    "duration": 46,
    "start_time": "2022-01-11T18:47:06.799Z"
   },
   {
    "duration": 44,
    "start_time": "2022-01-11T18:47:17.246Z"
   },
   {
    "duration": 85,
    "start_time": "2022-01-11T18:47:45.714Z"
   },
   {
    "duration": 189,
    "start_time": "2022-01-11T18:52:59.124Z"
   },
   {
    "duration": 4,
    "start_time": "2022-01-11T18:56:20.823Z"
   },
   {
    "duration": 11,
    "start_time": "2022-01-11T18:56:23.262Z"
   },
   {
    "duration": 17,
    "start_time": "2022-01-11T18:57:26.403Z"
   },
   {
    "duration": 20,
    "start_time": "2022-01-11T18:57:41.712Z"
   },
   {
    "duration": 35,
    "start_time": "2022-01-11T18:58:25.043Z"
   },
   {
    "duration": 34,
    "start_time": "2022-01-11T18:58:38.210Z"
   },
   {
    "duration": 67,
    "start_time": "2022-01-11T18:58:52.761Z"
   },
   {
    "duration": 10,
    "start_time": "2022-01-11T18:58:52.830Z"
   },
   {
    "duration": 10,
    "start_time": "2022-01-11T18:58:52.842Z"
   },
   {
    "duration": 43,
    "start_time": "2022-01-11T18:58:52.853Z"
   },
   {
    "duration": 28,
    "start_time": "2022-01-11T18:58:52.898Z"
   },
   {
    "duration": 40,
    "start_time": "2022-01-11T18:58:54.991Z"
   },
   {
    "duration": 20,
    "start_time": "2022-01-11T19:00:06.320Z"
   },
   {
    "duration": 20,
    "start_time": "2022-01-11T19:00:40.877Z"
   },
   {
    "duration": 231,
    "start_time": "2022-01-11T19:00:51.015Z"
   },
   {
    "duration": 31,
    "start_time": "2022-01-11T19:01:00.667Z"
   },
   {
    "duration": 14,
    "start_time": "2022-01-11T19:02:16.323Z"
   },
   {
    "duration": 13,
    "start_time": "2022-01-11T19:02:51.760Z"
   },
   {
    "duration": 15,
    "start_time": "2022-01-11T19:03:04.273Z"
   },
   {
    "duration": 29,
    "start_time": "2022-01-11T19:03:28.885Z"
   },
   {
    "duration": 36,
    "start_time": "2022-01-11T19:05:45.741Z"
   },
   {
    "duration": 36,
    "start_time": "2022-01-11T19:06:12.313Z"
   },
   {
    "duration": 36,
    "start_time": "2022-01-11T19:06:27.583Z"
   },
   {
    "duration": 2456,
    "start_time": "2022-01-11T19:06:42.431Z"
   },
   {
    "duration": 72,
    "start_time": "2022-01-11T19:06:53.042Z"
   },
   {
    "duration": 9,
    "start_time": "2022-01-11T19:06:53.116Z"
   },
   {
    "duration": 10,
    "start_time": "2022-01-11T19:06:53.127Z"
   },
   {
    "duration": 13,
    "start_time": "2022-01-11T19:06:53.138Z"
   },
   {
    "duration": 52,
    "start_time": "2022-01-11T19:06:53.153Z"
   },
   {
    "duration": 42,
    "start_time": "2022-01-11T19:06:53.207Z"
   },
   {
    "duration": 4,
    "start_time": "2022-01-11T19:06:53.250Z"
   },
   {
    "duration": 35,
    "start_time": "2022-01-11T19:06:53.257Z"
   },
   {
    "duration": 28,
    "start_time": "2022-01-11T19:06:53.294Z"
   },
   {
    "duration": 113,
    "start_time": "2022-01-11T19:06:53.324Z"
   },
   {
    "duration": 49,
    "start_time": "2022-01-11T19:06:55.428Z"
   },
   {
    "duration": 51,
    "start_time": "2022-01-11T19:07:09.548Z"
   },
   {
    "duration": 1574,
    "start_time": "2022-01-11T19:07:20.643Z"
   },
   {
    "duration": 51,
    "start_time": "2022-01-11T19:07:29.817Z"
   },
   {
    "duration": 38,
    "start_time": "2022-01-11T19:10:53.570Z"
   },
   {
    "duration": 66,
    "start_time": "2022-01-11T19:11:05.131Z"
   },
   {
    "duration": 9,
    "start_time": "2022-01-11T19:11:05.198Z"
   },
   {
    "duration": 41,
    "start_time": "2022-01-11T19:11:05.209Z"
   },
   {
    "duration": 25,
    "start_time": "2022-01-11T19:11:05.252Z"
   },
   {
    "duration": 40,
    "start_time": "2022-01-11T19:11:05.279Z"
   },
   {
    "duration": 37,
    "start_time": "2022-01-11T19:11:05.321Z"
   },
   {
    "duration": 3,
    "start_time": "2022-01-11T19:11:05.360Z"
   },
   {
    "duration": 26,
    "start_time": "2022-01-11T19:11:05.365Z"
   },
   {
    "duration": 40,
    "start_time": "2022-01-11T19:11:07.536Z"
   },
   {
    "duration": 91,
    "start_time": "2022-01-11T19:11:10.149Z"
   },
   {
    "duration": 45,
    "start_time": "2022-01-11T19:11:14.145Z"
   },
   {
    "duration": 50,
    "start_time": "2022-01-11T19:11:34.021Z"
   },
   {
    "duration": 59,
    "start_time": "2022-01-11T19:15:37.986Z"
   },
   {
    "duration": 52,
    "start_time": "2022-01-11T19:17:25.690Z"
   },
   {
    "duration": 656,
    "start_time": "2022-01-11T19:18:27.274Z"
   },
   {
    "duration": 672,
    "start_time": "2022-01-11T19:18:44.233Z"
   },
   {
    "duration": 743,
    "start_time": "2022-01-11T19:21:20.121Z"
   },
   {
    "duration": 3323,
    "start_time": "2022-01-11T19:29:54.076Z"
   },
   {
    "duration": 3028,
    "start_time": "2022-01-11T19:30:08.734Z"
   },
   {
    "duration": 3042,
    "start_time": "2022-01-11T19:30:51.385Z"
   },
   {
    "duration": 5329,
    "start_time": "2022-01-11T19:44:54.905Z"
   },
   {
    "duration": 206,
    "start_time": "2022-01-11T19:45:18.091Z"
   },
   {
    "duration": 180,
    "start_time": "2022-01-11T19:45:28.272Z"
   },
   {
    "duration": 173,
    "start_time": "2022-01-11T19:45:46.124Z"
   },
   {
    "duration": 178,
    "start_time": "2022-01-11T19:45:51.865Z"
   },
   {
    "duration": 200,
    "start_time": "2022-01-11T19:45:56.770Z"
   },
   {
    "duration": 388,
    "start_time": "2022-01-11T19:46:07.718Z"
   },
   {
    "duration": 61,
    "start_time": "2022-01-11T19:46:56.438Z"
   },
   {
    "duration": 13,
    "start_time": "2022-01-11T19:47:02.235Z"
   },
   {
    "duration": 12,
    "start_time": "2022-01-11T19:47:24.409Z"
   },
   {
    "duration": 178,
    "start_time": "2022-01-11T19:47:33.687Z"
   },
   {
    "duration": 12,
    "start_time": "2022-01-11T19:47:40.559Z"
   },
   {
    "duration": 11,
    "start_time": "2022-01-11T19:47:50.663Z"
   },
   {
    "duration": 1386,
    "start_time": "2022-01-11T19:48:19.848Z"
   },
   {
    "duration": 10,
    "start_time": "2022-01-11T19:48:42.503Z"
   },
   {
    "duration": 12,
    "start_time": "2022-01-11T19:48:58.804Z"
   },
   {
    "duration": 11,
    "start_time": "2022-01-11T19:49:54.606Z"
   },
   {
    "duration": 185,
    "start_time": "2022-01-11T19:52:27.621Z"
   },
   {
    "duration": 10,
    "start_time": "2022-01-11T19:53:25.033Z"
   },
   {
    "duration": 191,
    "start_time": "2022-01-11T19:53:38.406Z"
   },
   {
    "duration": 12,
    "start_time": "2022-01-11T19:53:47.713Z"
   },
   {
    "duration": 10,
    "start_time": "2022-01-11T19:54:23.744Z"
   },
   {
    "duration": 10,
    "start_time": "2022-01-11T19:58:02.558Z"
   },
   {
    "duration": 9,
    "start_time": "2022-01-11T19:58:14.885Z"
   },
   {
    "duration": 10,
    "start_time": "2022-01-11T19:58:43.757Z"
   },
   {
    "duration": 11,
    "start_time": "2022-01-11T19:58:54.191Z"
   },
   {
    "duration": 12,
    "start_time": "2022-01-11T19:59:00.470Z"
   },
   {
    "duration": 15,
    "start_time": "2022-01-11T20:00:16.303Z"
   },
   {
    "duration": 13,
    "start_time": "2022-01-11T20:01:30.631Z"
   },
   {
    "duration": 5,
    "start_time": "2022-01-11T20:07:52.464Z"
   },
   {
    "duration": 15,
    "start_time": "2022-01-11T20:08:00.867Z"
   },
   {
    "duration": 64,
    "start_time": "2022-01-11T20:16:30.658Z"
   },
   {
    "duration": 61,
    "start_time": "2022-01-11T20:16:58.669Z"
   },
   {
    "duration": 85,
    "start_time": "2022-01-11T20:17:05.928Z"
   },
   {
    "duration": 10,
    "start_time": "2022-01-11T20:18:51.924Z"
   },
   {
    "duration": 72,
    "start_time": "2022-01-11T20:20:29.061Z"
   },
   {
    "duration": 11,
    "start_time": "2022-01-11T20:20:34.718Z"
   },
   {
    "duration": 19,
    "start_time": "2022-01-11T20:20:39.114Z"
   },
   {
    "duration": 7,
    "start_time": "2022-01-11T20:20:52.840Z"
   },
   {
    "duration": 59,
    "start_time": "2022-01-11T20:23:34.602Z"
   },
   {
    "duration": 14,
    "start_time": "2022-01-11T20:23:38.251Z"
   },
   {
    "duration": 14,
    "start_time": "2022-01-11T20:23:46.337Z"
   },
   {
    "duration": 20,
    "start_time": "2022-01-11T20:24:19.465Z"
   },
   {
    "duration": 22,
    "start_time": "2022-01-11T20:24:59.695Z"
   },
   {
    "duration": 28,
    "start_time": "2022-01-11T20:25:49.907Z"
   },
   {
    "duration": 34,
    "start_time": "2022-01-11T20:26:47.313Z"
   },
   {
    "duration": 65,
    "start_time": "2022-01-11T20:27:13.156Z"
   },
   {
    "duration": 57,
    "start_time": "2022-01-11T20:27:27.605Z"
   },
   {
    "duration": 80,
    "start_time": "2022-01-11T20:27:37.603Z"
   },
   {
    "duration": 5031,
    "start_time": "2022-01-11T20:27:40.563Z"
   },
   {
    "duration": 31,
    "start_time": "2022-01-11T20:27:55.301Z"
   },
   {
    "duration": 203,
    "start_time": "2022-01-11T20:28:19.587Z"
   },
   {
    "duration": 29,
    "start_time": "2022-01-11T20:28:30.481Z"
   },
   {
    "duration": 29,
    "start_time": "2022-01-11T20:28:52.331Z"
   },
   {
    "duration": 218,
    "start_time": "2022-01-11T20:29:16.930Z"
   },
   {
    "duration": 187,
    "start_time": "2022-01-11T20:29:28.342Z"
   },
   {
    "duration": 193,
    "start_time": "2022-01-11T20:29:42.557Z"
   },
   {
    "duration": 26,
    "start_time": "2022-01-11T20:29:51.874Z"
   },
   {
    "duration": 30,
    "start_time": "2022-01-11T20:29:56.263Z"
   },
   {
    "duration": 195,
    "start_time": "2022-01-11T20:31:19.190Z"
   },
   {
    "duration": 31,
    "start_time": "2022-01-11T20:32:11.329Z"
   },
   {
    "duration": 31,
    "start_time": "2022-01-11T20:32:16.942Z"
   },
   {
    "duration": 53,
    "start_time": "2022-01-11T20:32:20.189Z"
   },
   {
    "duration": 31,
    "start_time": "2022-01-11T20:32:42.313Z"
   },
   {
    "duration": 29,
    "start_time": "2022-01-11T20:32:54.849Z"
   },
   {
    "duration": 25,
    "start_time": "2022-01-11T20:33:18.452Z"
   },
   {
    "duration": 26,
    "start_time": "2022-01-11T20:35:22.065Z"
   },
   {
    "duration": 26,
    "start_time": "2022-01-11T20:35:32.533Z"
   },
   {
    "duration": 72,
    "start_time": "2022-01-11T20:35:53.020Z"
   },
   {
    "duration": 25,
    "start_time": "2022-01-11T20:35:57.549Z"
   },
   {
    "duration": 26,
    "start_time": "2022-01-11T20:36:02.528Z"
   },
   {
    "duration": 331,
    "start_time": "2022-01-11T20:36:10.848Z"
   },
   {
    "duration": 26,
    "start_time": "2022-01-11T20:36:17.494Z"
   },
   {
    "duration": 29,
    "start_time": "2022-01-11T20:36:29.880Z"
   },
   {
    "duration": 28,
    "start_time": "2022-01-11T20:37:12.750Z"
   },
   {
    "duration": 37,
    "start_time": "2022-01-11T20:37:21.191Z"
   },
   {
    "duration": 6,
    "start_time": "2022-01-11T20:58:32.748Z"
   },
   {
    "duration": 266,
    "start_time": "2022-01-11T20:58:37.415Z"
   },
   {
    "duration": 204,
    "start_time": "2022-01-11T20:59:58.130Z"
   },
   {
    "duration": 206,
    "start_time": "2022-01-11T21:00:04.915Z"
   },
   {
    "duration": 220,
    "start_time": "2022-01-11T21:01:14.994Z"
   },
   {
    "duration": 345,
    "start_time": "2022-01-11T21:01:24.576Z"
   },
   {
    "duration": 390,
    "start_time": "2022-01-11T21:05:11.682Z"
   },
   {
    "duration": 56,
    "start_time": "2022-01-11T21:06:06.618Z"
   },
   {
    "duration": 368,
    "start_time": "2022-01-11T21:06:10.474Z"
   },
   {
    "duration": 322,
    "start_time": "2022-01-11T21:09:13.253Z"
   },
   {
    "duration": 320,
    "start_time": "2022-01-11T21:09:28.386Z"
   },
   {
    "duration": 343,
    "start_time": "2022-01-11T21:13:46.868Z"
   },
   {
    "duration": 2071,
    "start_time": "2022-01-11T21:14:51.132Z"
   },
   {
    "duration": 639,
    "start_time": "2022-01-11T21:15:25.356Z"
   },
   {
    "duration": 736,
    "start_time": "2022-01-11T21:15:29.441Z"
   },
   {
    "duration": 1066,
    "start_time": "2022-01-11T21:15:51.014Z"
   },
   {
    "duration": 696,
    "start_time": "2022-01-11T21:22:37.134Z"
   },
   {
    "duration": 760,
    "start_time": "2022-01-11T21:22:42.888Z"
   },
   {
    "duration": 284,
    "start_time": "2022-01-11T21:23:15.705Z"
   },
   {
    "duration": 594,
    "start_time": "2022-01-11T21:23:30.064Z"
   },
   {
    "duration": 227,
    "start_time": "2022-01-11T21:24:05.106Z"
   },
   {
    "duration": 185,
    "start_time": "2022-01-11T21:24:17.986Z"
   },
   {
    "duration": 352,
    "start_time": "2022-01-11T21:24:31.607Z"
   },
   {
    "duration": 181,
    "start_time": "2022-01-11T21:27:08.192Z"
   },
   {
    "duration": 182,
    "start_time": "2022-01-11T21:27:13.906Z"
   },
   {
    "duration": 59,
    "start_time": "2022-01-11T21:27:55.683Z"
   },
   {
    "duration": 15,
    "start_time": "2022-01-11T21:28:10.176Z"
   },
   {
    "duration": 17,
    "start_time": "2022-01-11T21:28:21.011Z"
   },
   {
    "duration": 17,
    "start_time": "2022-01-11T21:28:29.100Z"
   },
   {
    "duration": 191,
    "start_time": "2022-01-11T21:32:49.861Z"
   },
   {
    "duration": 205,
    "start_time": "2022-01-11T21:32:57.210Z"
   },
   {
    "duration": 1124,
    "start_time": "2022-01-11T21:33:45.300Z"
   },
   {
    "duration": 195,
    "start_time": "2022-01-11T21:34:09.974Z"
   },
   {
    "duration": 184,
    "start_time": "2022-01-11T21:35:36.153Z"
   },
   {
    "duration": 188,
    "start_time": "2022-01-11T21:35:51.452Z"
   },
   {
    "duration": 18,
    "start_time": "2022-01-11T21:42:45.816Z"
   },
   {
    "duration": 17,
    "start_time": "2022-01-11T21:43:19.912Z"
   },
   {
    "duration": 284,
    "start_time": "2022-01-11T21:49:16.400Z"
   },
   {
    "duration": 31,
    "start_time": "2022-01-11T21:49:23.466Z"
   },
   {
    "duration": 24,
    "start_time": "2022-01-11T21:49:48.140Z"
   },
   {
    "duration": 27,
    "start_time": "2022-01-11T21:50:02.036Z"
   },
   {
    "duration": 25,
    "start_time": "2022-01-11T21:52:02.836Z"
   },
   {
    "duration": 98,
    "start_time": "2022-01-11T21:55:52.553Z"
   },
   {
    "duration": 38,
    "start_time": "2022-01-11T21:55:52.654Z"
   },
   {
    "duration": 15,
    "start_time": "2022-01-11T21:55:52.695Z"
   },
   {
    "duration": 23,
    "start_time": "2022-01-11T21:55:52.713Z"
   },
   {
    "duration": 81,
    "start_time": "2022-01-11T21:55:52.739Z"
   },
   {
    "duration": 91,
    "start_time": "2022-01-11T21:55:52.823Z"
   },
   {
    "duration": 4,
    "start_time": "2022-01-11T21:55:52.917Z"
   },
   {
    "duration": 17,
    "start_time": "2022-01-11T21:55:52.925Z"
   },
   {
    "duration": 95,
    "start_time": "2022-01-11T21:55:52.945Z"
   },
   {
    "duration": 149,
    "start_time": "2022-01-11T21:55:53.042Z"
   },
   {
    "duration": 61,
    "start_time": "2022-01-11T21:55:53.194Z"
   },
   {
    "duration": 817,
    "start_time": "2022-01-11T21:55:53.257Z"
   },
   {
    "duration": 3,
    "start_time": "2022-01-11T21:55:54.077Z"
   },
   {
    "duration": 4128,
    "start_time": "2022-01-11T21:55:54.092Z"
   },
   {
    "duration": 389,
    "start_time": "2022-01-11T21:55:58.223Z"
   },
   {
    "duration": 1248,
    "start_time": "2022-01-11T21:55:58.614Z"
   },
   {
    "duration": 41,
    "start_time": "2022-01-11T21:55:59.865Z"
   },
   {
    "duration": 25,
    "start_time": "2022-01-11T21:55:59.908Z"
   },
   {
    "duration": 63,
    "start_time": "2022-01-11T21:55:59.936Z"
   },
   {
    "duration": 216,
    "start_time": "2022-01-11T21:58:47.491Z"
   },
   {
    "duration": 256,
    "start_time": "2022-01-11T21:58:54.486Z"
   },
   {
    "duration": 26,
    "start_time": "2022-01-11T21:59:12.424Z"
   },
   {
    "duration": 37,
    "start_time": "2022-01-11T21:59:23.018Z"
   },
   {
    "duration": 37,
    "start_time": "2022-01-11T21:59:35.537Z"
   },
   {
    "duration": 766,
    "start_time": "2022-01-11T21:59:42.520Z"
   },
   {
    "duration": 46,
    "start_time": "2022-01-11T21:59:46.043Z"
   },
   {
    "duration": 56,
    "start_time": "2022-01-11T21:59:53.622Z"
   },
   {
    "duration": 905,
    "start_time": "2022-01-11T22:00:33.725Z"
   },
   {
    "duration": 217,
    "start_time": "2022-01-11T22:01:21.716Z"
   },
   {
    "duration": 231,
    "start_time": "2022-01-11T22:01:30.101Z"
   },
   {
    "duration": 206,
    "start_time": "2022-01-11T22:01:37.467Z"
   },
   {
    "duration": 22,
    "start_time": "2022-01-11T22:01:53.289Z"
   },
   {
    "duration": 1266,
    "start_time": "2022-01-11T22:02:02.239Z"
   },
   {
    "duration": 269,
    "start_time": "2022-01-11T22:02:09.914Z"
   },
   {
    "duration": 69,
    "start_time": "2022-01-11T22:02:29.430Z"
   },
   {
    "duration": 13,
    "start_time": "2022-01-11T22:02:29.502Z"
   },
   {
    "duration": 9,
    "start_time": "2022-01-11T22:02:29.517Z"
   },
   {
    "duration": 13,
    "start_time": "2022-01-11T22:02:29.528Z"
   },
   {
    "duration": 59,
    "start_time": "2022-01-11T22:02:29.543Z"
   },
   {
    "duration": 41,
    "start_time": "2022-01-11T22:02:29.604Z"
   },
   {
    "duration": 3,
    "start_time": "2022-01-11T22:02:29.647Z"
   },
   {
    "duration": 39,
    "start_time": "2022-01-11T22:02:29.653Z"
   },
   {
    "duration": 42,
    "start_time": "2022-01-11T22:02:29.695Z"
   },
   {
    "duration": 108,
    "start_time": "2022-01-11T22:02:29.738Z"
   },
   {
    "duration": 64,
    "start_time": "2022-01-11T22:02:29.848Z"
   },
   {
    "duration": 749,
    "start_time": "2022-01-11T22:02:29.914Z"
   },
   {
    "duration": 3,
    "start_time": "2022-01-11T22:02:30.665Z"
   },
   {
    "duration": 3084,
    "start_time": "2022-01-11T22:02:30.669Z"
   },
   {
    "duration": 338,
    "start_time": "2022-01-11T22:02:33.755Z"
   },
   {
    "duration": 1242,
    "start_time": "2022-01-11T22:02:34.095Z"
   },
   {
    "duration": 27,
    "start_time": "2022-01-11T22:02:35.339Z"
   },
   {
    "duration": 40,
    "start_time": "2022-01-11T22:02:35.369Z"
   },
   {
    "duration": 36,
    "start_time": "2022-01-11T22:02:35.411Z"
   },
   {
    "duration": 17,
    "start_time": "2022-01-11T22:02:35.449Z"
   },
   {
    "duration": 53,
    "start_time": "2022-01-11T22:02:35.467Z"
   },
   {
    "duration": 31,
    "start_time": "2022-01-11T22:02:35.522Z"
   },
   {
    "duration": 567,
    "start_time": "2022-01-11T22:02:42.386Z"
   },
   {
    "duration": 24,
    "start_time": "2022-01-11T22:03:35.165Z"
   },
   {
    "duration": 71,
    "start_time": "2022-01-11T22:03:59.288Z"
   },
   {
    "duration": 10,
    "start_time": "2022-01-11T22:03:59.361Z"
   },
   {
    "duration": 26,
    "start_time": "2022-01-11T22:03:59.373Z"
   },
   {
    "duration": 13,
    "start_time": "2022-01-11T22:03:59.401Z"
   },
   {
    "duration": 31,
    "start_time": "2022-01-11T22:03:59.416Z"
   },
   {
    "duration": 72,
    "start_time": "2022-01-11T22:03:59.449Z"
   },
   {
    "duration": 4,
    "start_time": "2022-01-11T22:03:59.523Z"
   },
   {
    "duration": 13,
    "start_time": "2022-01-11T22:03:59.530Z"
   },
   {
    "duration": 60,
    "start_time": "2022-01-11T22:03:59.545Z"
   },
   {
    "duration": 109,
    "start_time": "2022-01-11T22:03:59.607Z"
   },
   {
    "duration": 72,
    "start_time": "2022-01-11T22:03:59.719Z"
   },
   {
    "duration": 748,
    "start_time": "2022-01-11T22:03:59.793Z"
   },
   {
    "duration": 5,
    "start_time": "2022-01-11T22:04:00.545Z"
   },
   {
    "duration": 3375,
    "start_time": "2022-01-11T22:04:00.553Z"
   },
   {
    "duration": 344,
    "start_time": "2022-01-11T22:04:03.929Z"
   },
   {
    "duration": 1078,
    "start_time": "2022-01-11T22:04:04.275Z"
   },
   {
    "duration": 250,
    "start_time": "2022-01-11T22:04:05.356Z"
   },
   {
    "duration": 27,
    "start_time": "2022-01-11T22:04:05.609Z"
   },
   {
    "duration": 20,
    "start_time": "2022-01-11T22:04:05.638Z"
   },
   {
    "duration": 40,
    "start_time": "2022-01-11T22:04:05.660Z"
   },
   {
    "duration": 31,
    "start_time": "2022-01-11T22:04:05.702Z"
   },
   {
    "duration": 30,
    "start_time": "2022-01-11T22:04:05.735Z"
   },
   {
    "duration": 26,
    "start_time": "2022-01-11T22:04:14.147Z"
   },
   {
    "duration": 29,
    "start_time": "2022-01-11T22:04:17.845Z"
   },
   {
    "duration": 70,
    "start_time": "2022-01-11T22:04:57.728Z"
   },
   {
    "duration": 10,
    "start_time": "2022-01-11T22:04:57.799Z"
   },
   {
    "duration": 10,
    "start_time": "2022-01-11T22:04:57.812Z"
   },
   {
    "duration": 14,
    "start_time": "2022-01-11T22:04:57.824Z"
   },
   {
    "duration": 60,
    "start_time": "2022-01-11T22:04:57.840Z"
   },
   {
    "duration": 42,
    "start_time": "2022-01-11T22:04:57.903Z"
   },
   {
    "duration": 4,
    "start_time": "2022-01-11T22:04:57.948Z"
   },
   {
    "duration": 10,
    "start_time": "2022-01-11T22:04:57.955Z"
   },
   {
    "duration": 41,
    "start_time": "2022-01-11T22:04:57.992Z"
   },
   {
    "duration": 124,
    "start_time": "2022-01-11T22:04:58.035Z"
   },
   {
    "duration": 82,
    "start_time": "2022-01-11T22:04:58.162Z"
   },
   {
    "duration": 716,
    "start_time": "2022-01-11T22:04:58.246Z"
   },
   {
    "duration": 3,
    "start_time": "2022-01-11T22:04:58.965Z"
   },
   {
    "duration": 3425,
    "start_time": "2022-01-11T22:04:58.970Z"
   },
   {
    "duration": 361,
    "start_time": "2022-01-11T22:05:02.398Z"
   },
   {
    "duration": 1117,
    "start_time": "2022-01-11T22:05:02.762Z"
   },
   {
    "duration": 31,
    "start_time": "2022-01-11T22:05:03.881Z"
   },
   {
    "duration": 25,
    "start_time": "2022-01-11T22:05:03.914Z"
   },
   {
    "duration": 19,
    "start_time": "2022-01-11T22:05:03.941Z"
   },
   {
    "duration": 44,
    "start_time": "2022-01-11T22:05:03.962Z"
   },
   {
    "duration": 31,
    "start_time": "2022-01-11T22:05:04.008Z"
   },
   {
    "duration": 61,
    "start_time": "2022-01-11T22:05:04.041Z"
   },
   {
    "duration": 32,
    "start_time": "2022-01-11T22:05:04.105Z"
   },
   {
    "duration": 31,
    "start_time": "2022-01-11T22:05:17.611Z"
   },
   {
    "duration": 35,
    "start_time": "2022-01-11T22:06:13.625Z"
   },
   {
    "duration": 39,
    "start_time": "2022-01-11T22:06:17.436Z"
   },
   {
    "duration": 41,
    "start_time": "2022-01-11T22:06:21.735Z"
   },
   {
    "duration": 40,
    "start_time": "2022-01-11T22:06:29.236Z"
   },
   {
    "duration": 778,
    "start_time": "2022-01-11T22:06:42.798Z"
   },
   {
    "duration": 70,
    "start_time": "2022-01-11T22:07:05.508Z"
   },
   {
    "duration": 719,
    "start_time": "2022-01-11T22:07:18.745Z"
   },
   {
    "duration": 32,
    "start_time": "2022-01-11T22:07:28.637Z"
   },
   {
    "duration": 803,
    "start_time": "2022-01-11T22:07:35.085Z"
   },
   {
    "duration": 39,
    "start_time": "2022-01-11T22:07:43.564Z"
   },
   {
    "duration": 726,
    "start_time": "2022-01-11T22:07:51.005Z"
   },
   {
    "duration": 37,
    "start_time": "2022-01-11T22:07:59.145Z"
   },
   {
    "duration": 96,
    "start_time": "2022-01-11T22:08:29.633Z"
   },
   {
    "duration": 15,
    "start_time": "2022-01-11T22:08:29.732Z"
   },
   {
    "duration": 11,
    "start_time": "2022-01-11T22:08:29.750Z"
   },
   {
    "duration": 39,
    "start_time": "2022-01-11T22:08:29.764Z"
   },
   {
    "duration": 32,
    "start_time": "2022-01-11T22:08:29.806Z"
   },
   {
    "duration": 67,
    "start_time": "2022-01-11T22:08:29.840Z"
   },
   {
    "duration": 5,
    "start_time": "2022-01-11T22:08:29.909Z"
   },
   {
    "duration": 14,
    "start_time": "2022-01-11T22:08:29.917Z"
   },
   {
    "duration": 71,
    "start_time": "2022-01-11T22:08:29.933Z"
   },
   {
    "duration": 109,
    "start_time": "2022-01-11T22:08:30.006Z"
   },
   {
    "duration": 74,
    "start_time": "2022-01-11T22:08:30.117Z"
   },
   {
    "duration": 744,
    "start_time": "2022-01-11T22:08:30.194Z"
   },
   {
    "duration": 4,
    "start_time": "2022-01-11T22:08:30.941Z"
   },
   {
    "duration": 3980,
    "start_time": "2022-01-11T22:08:30.947Z"
   },
   {
    "duration": 370,
    "start_time": "2022-01-11T22:08:34.929Z"
   },
   {
    "duration": 1148,
    "start_time": "2022-01-11T22:08:35.301Z"
   },
   {
    "duration": 41,
    "start_time": "2022-01-11T22:08:36.451Z"
   },
   {
    "duration": 25,
    "start_time": "2022-01-11T22:08:36.494Z"
   },
   {
    "duration": 39,
    "start_time": "2022-01-11T22:08:36.521Z"
   },
   {
    "duration": 39,
    "start_time": "2022-01-11T22:08:36.562Z"
   },
   {
    "duration": 32,
    "start_time": "2022-01-11T22:08:36.604Z"
   },
   {
    "duration": 68,
    "start_time": "2022-01-11T22:08:36.639Z"
   },
   {
    "duration": 32,
    "start_time": "2022-01-11T22:08:36.711Z"
   },
   {
    "duration": 30,
    "start_time": "2022-01-11T22:08:48.860Z"
   },
   {
    "duration": 28,
    "start_time": "2022-01-11T22:08:54.047Z"
   },
   {
    "duration": 29,
    "start_time": "2022-01-11T22:09:28.407Z"
   },
   {
    "duration": 40,
    "start_time": "2022-01-11T22:09:37.392Z"
   },
   {
    "duration": 32,
    "start_time": "2022-01-11T22:09:44.317Z"
   },
   {
    "duration": 33,
    "start_time": "2022-01-11T22:09:48.618Z"
   },
   {
    "duration": 221,
    "start_time": "2022-01-11T22:11:34.361Z"
   },
   {
    "duration": 207,
    "start_time": "2022-01-11T22:11:48.974Z"
   },
   {
    "duration": 221,
    "start_time": "2022-01-11T22:12:03.178Z"
   },
   {
    "duration": 30,
    "start_time": "2022-01-11T22:13:48.553Z"
   },
   {
    "duration": 61,
    "start_time": "2022-01-11T22:14:34.884Z"
   },
   {
    "duration": 68,
    "start_time": "2022-01-11T22:14:46.991Z"
   },
   {
    "duration": 30,
    "start_time": "2022-01-11T22:14:57.179Z"
   },
   {
    "duration": 59,
    "start_time": "2022-01-11T22:15:19.619Z"
   },
   {
    "duration": 89,
    "start_time": "2022-01-11T22:15:27.421Z"
   },
   {
    "duration": 29,
    "start_time": "2022-01-11T22:16:08.191Z"
   },
   {
    "duration": 28,
    "start_time": "2022-01-11T22:16:15.984Z"
   },
   {
    "duration": 718,
    "start_time": "2022-01-11T22:16:30.128Z"
   },
   {
    "duration": 31,
    "start_time": "2022-01-11T22:17:10.489Z"
   },
   {
    "duration": 25,
    "start_time": "2022-01-11T22:17:17.609Z"
   },
   {
    "duration": 202,
    "start_time": "2022-01-11T22:18:19.941Z"
   },
   {
    "duration": 905,
    "start_time": "2022-01-11T22:20:23.093Z"
   },
   {
    "duration": 32,
    "start_time": "2022-01-11T22:20:44.423Z"
   },
   {
    "duration": 200,
    "start_time": "2022-01-11T22:20:51.523Z"
   },
   {
    "duration": 31,
    "start_time": "2022-01-11T22:20:55.889Z"
   },
   {
    "duration": 706,
    "start_time": "2022-01-11T22:21:03.748Z"
   },
   {
    "duration": 936,
    "start_time": "2022-01-11T22:21:14.624Z"
   },
   {
    "duration": 32,
    "start_time": "2022-01-11T22:21:25.627Z"
   },
   {
    "duration": 30,
    "start_time": "2022-01-11T22:21:30.906Z"
   },
   {
    "duration": 265,
    "start_time": "2022-01-11T22:21:34.353Z"
   },
   {
    "duration": 33,
    "start_time": "2022-01-11T22:21:37.740Z"
   },
   {
    "duration": 29,
    "start_time": "2022-01-11T22:22:09.225Z"
   },
   {
    "duration": 29,
    "start_time": "2022-01-11T22:22:13.546Z"
   },
   {
    "duration": 28,
    "start_time": "2022-01-11T22:22:23.512Z"
   },
   {
    "duration": 33,
    "start_time": "2022-01-11T22:26:16.775Z"
   },
   {
    "duration": 34,
    "start_time": "2022-01-11T22:26:33.394Z"
   },
   {
    "duration": 720,
    "start_time": "2022-01-11T22:26:37.947Z"
   },
   {
    "duration": 30,
    "start_time": "2022-01-11T22:26:43.217Z"
   },
   {
    "duration": 28,
    "start_time": "2022-01-11T22:26:47.758Z"
   },
   {
    "duration": 29,
    "start_time": "2022-01-11T22:26:56.183Z"
   },
   {
    "duration": 31,
    "start_time": "2022-01-11T22:32:37.262Z"
   },
   {
    "duration": 202,
    "start_time": "2022-01-11T22:32:43.488Z"
   },
   {
    "duration": 28,
    "start_time": "2022-01-11T22:32:48.549Z"
   },
   {
    "duration": 62,
    "start_time": "2022-01-11T22:33:48.076Z"
   },
   {
    "duration": 58,
    "start_time": "2022-01-11T22:33:55.034Z"
   },
   {
    "duration": 1015,
    "start_time": "2022-01-11T22:34:00.707Z"
   },
   {
    "duration": 56,
    "start_time": "2022-01-11T22:34:11.864Z"
   },
   {
    "duration": 1237,
    "start_time": "2022-01-11T22:34:16.121Z"
   },
   {
    "duration": 701,
    "start_time": "2022-01-11T22:34:26.136Z"
   },
   {
    "duration": 30,
    "start_time": "2022-01-11T22:34:30.636Z"
   },
   {
    "duration": 37,
    "start_time": "2022-01-11T22:34:54.089Z"
   },
   {
    "duration": 29,
    "start_time": "2022-01-11T22:35:00.759Z"
   },
   {
    "duration": 201,
    "start_time": "2022-01-11T22:35:27.952Z"
   },
   {
    "duration": 29,
    "start_time": "2022-01-11T22:35:32.956Z"
   },
   {
    "duration": 198,
    "start_time": "2022-01-11T22:38:26.319Z"
   },
   {
    "duration": 31,
    "start_time": "2022-01-11T22:38:40.494Z"
   },
   {
    "duration": 61,
    "start_time": "2022-01-11T22:39:56.909Z"
   },
   {
    "duration": 34,
    "start_time": "2022-01-11T22:40:00.509Z"
   },
   {
    "duration": 31,
    "start_time": "2022-01-11T22:40:42.157Z"
   },
   {
    "duration": 29,
    "start_time": "2022-01-11T22:40:58.567Z"
   },
   {
    "duration": 70,
    "start_time": "2022-01-11T22:42:32.581Z"
   },
   {
    "duration": 9,
    "start_time": "2022-01-11T22:42:32.653Z"
   },
   {
    "duration": 30,
    "start_time": "2022-01-11T22:42:32.664Z"
   },
   {
    "duration": 14,
    "start_time": "2022-01-11T22:42:32.697Z"
   },
   {
    "duration": 30,
    "start_time": "2022-01-11T22:42:32.713Z"
   },
   {
    "duration": 74,
    "start_time": "2022-01-11T22:42:32.745Z"
   },
   {
    "duration": 3,
    "start_time": "2022-01-11T22:42:32.821Z"
   },
   {
    "duration": 11,
    "start_time": "2022-01-11T22:42:32.827Z"
   },
   {
    "duration": 66,
    "start_time": "2022-01-11T22:42:32.840Z"
   },
   {
    "duration": 98,
    "start_time": "2022-01-11T22:42:32.908Z"
   },
   {
    "duration": 52,
    "start_time": "2022-01-11T22:42:33.008Z"
   },
   {
    "duration": 786,
    "start_time": "2022-01-11T22:42:33.061Z"
   },
   {
    "duration": 4,
    "start_time": "2022-01-11T22:42:33.849Z"
   },
   {
    "duration": 3403,
    "start_time": "2022-01-11T22:42:33.855Z"
   },
   {
    "duration": 340,
    "start_time": "2022-01-11T22:42:37.260Z"
   },
   {
    "duration": 1335,
    "start_time": "2022-01-11T22:42:37.602Z"
   },
   {
    "duration": 25,
    "start_time": "2022-01-11T22:42:38.939Z"
   },
   {
    "duration": 37,
    "start_time": "2022-01-11T22:42:38.966Z"
   },
   {
    "duration": 18,
    "start_time": "2022-01-11T22:42:39.004Z"
   },
   {
    "duration": 17,
    "start_time": "2022-01-11T22:42:39.024Z"
   },
   {
    "duration": 50,
    "start_time": "2022-01-11T22:42:39.042Z"
   },
   {
    "duration": 30,
    "start_time": "2022-01-11T22:42:39.094Z"
   },
   {
    "duration": 27,
    "start_time": "2022-01-11T22:42:39.126Z"
   },
   {
    "duration": 31,
    "start_time": "2022-01-11T22:45:04.690Z"
   },
   {
    "duration": 2879,
    "start_time": "2022-01-11T22:45:55.682Z"
   },
   {
    "duration": 2982,
    "start_time": "2022-01-11T22:47:18.029Z"
   },
   {
    "duration": 2748,
    "start_time": "2022-01-11T22:47:29.901Z"
   },
   {
    "duration": 68,
    "start_time": "2022-01-11T22:47:54.430Z"
   },
   {
    "duration": 10,
    "start_time": "2022-01-11T22:47:54.500Z"
   },
   {
    "duration": 10,
    "start_time": "2022-01-11T22:47:54.512Z"
   },
   {
    "duration": 13,
    "start_time": "2022-01-11T22:47:54.524Z"
   },
   {
    "duration": 69,
    "start_time": "2022-01-11T22:47:54.539Z"
   },
   {
    "duration": 41,
    "start_time": "2022-01-11T22:47:54.610Z"
   },
   {
    "duration": 4,
    "start_time": "2022-01-11T22:47:54.653Z"
   },
   {
    "duration": 37,
    "start_time": "2022-01-11T22:47:54.659Z"
   },
   {
    "duration": 41,
    "start_time": "2022-01-11T22:47:54.698Z"
   },
   {
    "duration": 105,
    "start_time": "2022-01-11T22:47:54.741Z"
   },
   {
    "duration": 80,
    "start_time": "2022-01-11T22:47:54.849Z"
   },
   {
    "duration": 791,
    "start_time": "2022-01-11T22:47:54.931Z"
   },
   {
    "duration": 3,
    "start_time": "2022-01-11T22:47:55.724Z"
   },
   {
    "duration": 2768,
    "start_time": "2022-01-11T22:47:55.729Z"
   },
   {
    "duration": 318,
    "start_time": "2022-01-11T22:47:58.499Z"
   },
   {
    "duration": 1021,
    "start_time": "2022-01-11T22:47:58.819Z"
   },
   {
    "duration": 26,
    "start_time": "2022-01-11T22:47:59.842Z"
   },
   {
    "duration": 35,
    "start_time": "2022-01-11T22:47:59.869Z"
   },
   {
    "duration": 18,
    "start_time": "2022-01-11T22:47:59.907Z"
   },
   {
    "duration": 15,
    "start_time": "2022-01-11T22:47:59.927Z"
   },
   {
    "duration": 54,
    "start_time": "2022-01-11T22:47:59.943Z"
   },
   {
    "duration": 30,
    "start_time": "2022-01-11T22:47:59.999Z"
   },
   {
    "duration": 30,
    "start_time": "2022-01-11T22:48:00.031Z"
   },
   {
    "duration": 755,
    "start_time": "2022-01-11T22:48:00.063Z"
   },
   {
    "duration": 27,
    "start_time": "2022-01-11T22:48:15.979Z"
   },
   {
    "duration": 28,
    "start_time": "2022-01-11T22:50:20.853Z"
   },
   {
    "duration": 28,
    "start_time": "2022-01-11T22:50:42.199Z"
   },
   {
    "duration": 42,
    "start_time": "2022-01-11T22:50:59.699Z"
   },
   {
    "duration": 73,
    "start_time": "2022-01-11T22:52:04.587Z"
   },
   {
    "duration": 12,
    "start_time": "2022-01-11T22:52:04.662Z"
   },
   {
    "duration": 13,
    "start_time": "2022-01-11T22:52:04.692Z"
   },
   {
    "duration": 31,
    "start_time": "2022-01-11T22:52:04.707Z"
   },
   {
    "duration": 36,
    "start_time": "2022-01-11T22:52:04.740Z"
   },
   {
    "duration": 52,
    "start_time": "2022-01-11T22:52:04.777Z"
   },
   {
    "duration": 4,
    "start_time": "2022-01-11T22:52:04.832Z"
   },
   {
    "duration": 20,
    "start_time": "2022-01-11T22:52:04.840Z"
   },
   {
    "duration": 72,
    "start_time": "2022-01-11T22:52:04.862Z"
   },
   {
    "duration": 109,
    "start_time": "2022-01-11T22:52:04.937Z"
   },
   {
    "duration": 68,
    "start_time": "2022-01-11T22:52:05.049Z"
   },
   {
    "duration": 795,
    "start_time": "2022-01-11T22:52:05.119Z"
   },
   {
    "duration": 3,
    "start_time": "2022-01-11T22:52:05.917Z"
   },
   {
    "duration": 3227,
    "start_time": "2022-01-11T22:52:05.922Z"
   },
   {
    "duration": 353,
    "start_time": "2022-01-11T22:52:09.152Z"
   },
   {
    "duration": 1380,
    "start_time": "2022-01-11T22:52:09.507Z"
   },
   {
    "duration": 28,
    "start_time": "2022-01-11T22:52:10.892Z"
   },
   {
    "duration": 25,
    "start_time": "2022-01-11T22:52:10.922Z"
   },
   {
    "duration": 43,
    "start_time": "2022-01-11T22:52:10.949Z"
   },
   {
    "duration": 15,
    "start_time": "2022-01-11T22:52:10.994Z"
   },
   {
    "duration": 31,
    "start_time": "2022-01-11T22:52:11.011Z"
   },
   {
    "duration": 53,
    "start_time": "2022-01-11T22:52:11.043Z"
   },
   {
    "duration": 27,
    "start_time": "2022-01-11T22:52:11.100Z"
   },
   {
    "duration": 26,
    "start_time": "2022-01-11T22:52:11.129Z"
   },
   {
    "duration": 60,
    "start_time": "2022-01-11T22:59:29.367Z"
   },
   {
    "duration": 7057,
    "start_time": "2022-01-11T22:59:32.479Z"
   },
   {
    "duration": 515,
    "start_time": "2022-01-11T23:00:34.779Z"
   },
   {
    "duration": 180,
    "start_time": "2022-01-11T23:03:11.520Z"
   },
   {
    "duration": 461,
    "start_time": "2022-01-11T23:03:24.633Z"
   },
   {
    "duration": 454,
    "start_time": "2022-01-11T23:03:30.272Z"
   },
   {
    "duration": 780,
    "start_time": "2022-01-11T23:03:40.054Z"
   },
   {
    "duration": 86,
    "start_time": "2022-01-11T23:04:03.969Z"
   },
   {
    "duration": 11,
    "start_time": "2022-01-11T23:04:04.057Z"
   },
   {
    "duration": 32,
    "start_time": "2022-01-11T23:04:04.070Z"
   },
   {
    "duration": 14,
    "start_time": "2022-01-11T23:04:04.104Z"
   },
   {
    "duration": 31,
    "start_time": "2022-01-11T23:04:04.120Z"
   },
   {
    "duration": 75,
    "start_time": "2022-01-11T23:04:04.153Z"
   },
   {
    "duration": 796,
    "start_time": "2022-01-11T23:04:04.231Z"
   },
   {
    "duration": 3,
    "start_time": "2022-01-11T23:04:05.030Z"
   },
   {
    "duration": 12,
    "start_time": "2022-01-11T23:04:05.035Z"
   },
   {
    "duration": 65,
    "start_time": "2022-01-11T23:04:05.049Z"
   },
   {
    "duration": 101,
    "start_time": "2022-01-11T23:04:05.116Z"
   },
   {
    "duration": 52,
    "start_time": "2022-01-11T23:04:05.219Z"
   },
   {
    "duration": 759,
    "start_time": "2022-01-11T23:04:05.273Z"
   },
   {
    "duration": 3,
    "start_time": "2022-01-11T23:04:06.034Z"
   },
   {
    "duration": 3212,
    "start_time": "2022-01-11T23:04:06.039Z"
   },
   {
    "duration": 343,
    "start_time": "2022-01-11T23:04:09.253Z"
   },
   {
    "duration": 924,
    "start_time": "2022-01-11T23:04:09.598Z"
   },
   {
    "duration": 30,
    "start_time": "2022-01-11T23:04:10.523Z"
   },
   {
    "duration": 24,
    "start_time": "2022-01-11T23:04:10.555Z"
   },
   {
    "duration": 28,
    "start_time": "2022-01-11T23:04:10.581Z"
   },
   {
    "duration": 16,
    "start_time": "2022-01-11T23:04:10.611Z"
   },
   {
    "duration": 30,
    "start_time": "2022-01-11T23:04:10.629Z"
   },
   {
    "duration": 57,
    "start_time": "2022-01-11T23:04:10.663Z"
   },
   {
    "duration": 27,
    "start_time": "2022-01-11T23:04:10.722Z"
   },
   {
    "duration": 47,
    "start_time": "2022-01-11T23:04:10.751Z"
   },
   {
    "duration": 67,
    "start_time": "2022-01-11T23:04:23.379Z"
   },
   {
    "duration": 9,
    "start_time": "2022-01-11T23:04:23.448Z"
   },
   {
    "duration": 23,
    "start_time": "2022-01-11T23:04:23.459Z"
   },
   {
    "duration": 19,
    "start_time": "2022-01-11T23:04:23.484Z"
   },
   {
    "duration": 46,
    "start_time": "2022-01-11T23:04:23.504Z"
   },
   {
    "duration": 40,
    "start_time": "2022-01-11T23:04:23.552Z"
   },
   {
    "duration": 866,
    "start_time": "2022-01-11T23:04:27.256Z"
   },
   {
    "duration": 729,
    "start_time": "2022-01-11T23:17:41.769Z"
   },
   {
    "duration": 890,
    "start_time": "2022-01-11T23:27:02.803Z"
   },
   {
    "duration": 740,
    "start_time": "2022-01-11T23:27:53.682Z"
   },
   {
    "duration": 801,
    "start_time": "2022-01-11T23:28:02.863Z"
   },
   {
    "duration": 69,
    "start_time": "2022-01-11T23:29:03.902Z"
   },
   {
    "duration": 9,
    "start_time": "2022-01-11T23:29:03.973Z"
   },
   {
    "duration": 9,
    "start_time": "2022-01-11T23:29:03.992Z"
   },
   {
    "duration": 13,
    "start_time": "2022-01-11T23:29:04.003Z"
   },
   {
    "duration": 30,
    "start_time": "2022-01-11T23:29:04.017Z"
   },
   {
    "duration": 69,
    "start_time": "2022-01-11T23:29:04.049Z"
   },
   {
    "duration": 812,
    "start_time": "2022-01-11T23:29:04.120Z"
   },
   {
    "duration": 4,
    "start_time": "2022-01-11T23:29:04.935Z"
   },
   {
    "duration": 13,
    "start_time": "2022-01-11T23:29:04.941Z"
   },
   {
    "duration": 65,
    "start_time": "2022-01-11T23:29:04.955Z"
   },
   {
    "duration": 96,
    "start_time": "2022-01-11T23:29:05.022Z"
   },
   {
    "duration": 51,
    "start_time": "2022-01-11T23:29:05.119Z"
   },
   {
    "duration": 735,
    "start_time": "2022-01-11T23:29:05.192Z"
   },
   {
    "duration": 3,
    "start_time": "2022-01-11T23:29:05.929Z"
   },
   {
    "duration": 3355,
    "start_time": "2022-01-11T23:29:08.917Z"
   },
   {
    "duration": 5664,
    "start_time": "2022-01-11T23:29:24.984Z"
   },
   {
    "duration": 26,
    "start_time": "2022-01-11T23:30:55.372Z"
   },
   {
    "duration": 205,
    "start_time": "2022-01-11T23:32:16.144Z"
   },
   {
    "duration": 75,
    "start_time": "2022-01-11T23:32:19.863Z"
   },
   {
    "duration": 10,
    "start_time": "2022-01-11T23:32:19.939Z"
   },
   {
    "duration": 9,
    "start_time": "2022-01-11T23:32:19.951Z"
   },
   {
    "duration": 41,
    "start_time": "2022-01-11T23:32:19.961Z"
   },
   {
    "duration": 41,
    "start_time": "2022-01-11T23:32:20.004Z"
   },
   {
    "duration": 58,
    "start_time": "2022-01-11T23:32:20.047Z"
   },
   {
    "duration": 846,
    "start_time": "2022-01-11T23:32:20.107Z"
   },
   {
    "duration": 4,
    "start_time": "2022-01-11T23:32:20.955Z"
   },
   {
    "duration": 16,
    "start_time": "2022-01-11T23:32:20.961Z"
   },
   {
    "duration": 52,
    "start_time": "2022-01-11T23:32:20.979Z"
   },
   {
    "duration": 105,
    "start_time": "2022-01-11T23:32:21.032Z"
   },
   {
    "duration": 61,
    "start_time": "2022-01-11T23:32:21.139Z"
   },
   {
    "duration": 792,
    "start_time": "2022-01-11T23:32:21.202Z"
   },
   {
    "duration": 3,
    "start_time": "2022-01-11T23:32:21.997Z"
   },
   {
    "duration": 6313,
    "start_time": "2022-01-11T23:32:22.003Z"
   },
   {
    "duration": 384,
    "start_time": "2022-01-11T23:32:28.319Z"
   },
   {
    "duration": 1094,
    "start_time": "2022-01-11T23:32:28.706Z"
   },
   {
    "duration": 27,
    "start_time": "2022-01-11T23:32:29.802Z"
   },
   {
    "duration": 24,
    "start_time": "2022-01-11T23:32:29.831Z"
   },
   {
    "duration": 41,
    "start_time": "2022-01-11T23:32:29.857Z"
   },
   {
    "duration": 19,
    "start_time": "2022-01-11T23:32:29.900Z"
   },
   {
    "duration": 32,
    "start_time": "2022-01-11T23:32:29.921Z"
   },
   {
    "duration": 49,
    "start_time": "2022-01-11T23:32:29.956Z"
   },
   {
    "duration": 31,
    "start_time": "2022-01-11T23:32:30.007Z"
   },
   {
    "duration": 836,
    "start_time": "2022-01-11T23:32:30.040Z"
   },
   {
    "duration": 32,
    "start_time": "2022-01-11T23:32:36.315Z"
   },
   {
    "duration": 64,
    "start_time": "2022-01-11T23:33:27.209Z"
   },
   {
    "duration": 1695,
    "start_time": "2022-01-11T23:33:34.755Z"
   },
   {
    "duration": 2002,
    "start_time": "2022-01-11T23:33:42.535Z"
   },
   {
    "duration": 35,
    "start_time": "2022-01-11T23:33:51.451Z"
   },
   {
    "duration": 47,
    "start_time": "2022-01-11T23:34:41.534Z"
   },
   {
    "duration": 921,
    "start_time": "2022-01-11T23:35:06.843Z"
   },
   {
    "duration": 38,
    "start_time": "2022-01-11T23:35:12.426Z"
   },
   {
    "duration": 223,
    "start_time": "2022-01-11T23:35:30.685Z"
   },
   {
    "duration": 48,
    "start_time": "2022-01-11T23:36:14.901Z"
   },
   {
    "duration": 67,
    "start_time": "2022-01-11T23:37:56.418Z"
   },
   {
    "duration": 10,
    "start_time": "2022-01-11T23:37:56.487Z"
   },
   {
    "duration": 9,
    "start_time": "2022-01-11T23:37:56.499Z"
   },
   {
    "duration": 14,
    "start_time": "2022-01-11T23:37:56.510Z"
   },
   {
    "duration": 28,
    "start_time": "2022-01-11T23:37:56.526Z"
   },
   {
    "duration": 69,
    "start_time": "2022-01-11T23:37:56.556Z"
   },
   {
    "duration": 889,
    "start_time": "2022-01-11T23:37:56.627Z"
   },
   {
    "duration": 4,
    "start_time": "2022-01-11T23:37:57.519Z"
   },
   {
    "duration": 13,
    "start_time": "2022-01-11T23:37:57.525Z"
   },
   {
    "duration": 64,
    "start_time": "2022-01-11T23:37:57.540Z"
   },
   {
    "duration": 103,
    "start_time": "2022-01-11T23:37:57.606Z"
   },
   {
    "duration": 53,
    "start_time": "2022-01-11T23:37:57.711Z"
   },
   {
    "duration": 770,
    "start_time": "2022-01-11T23:37:57.765Z"
   },
   {
    "duration": 3,
    "start_time": "2022-01-11T23:37:58.537Z"
   },
   {
    "duration": 6382,
    "start_time": "2022-01-11T23:37:58.542Z"
   },
   {
    "duration": 339,
    "start_time": "2022-01-11T23:38:04.926Z"
   },
   {
    "duration": 1053,
    "start_time": "2022-01-11T23:38:05.267Z"
   },
   {
    "duration": 27,
    "start_time": "2022-01-11T23:38:06.322Z"
   },
   {
    "duration": 43,
    "start_time": "2022-01-11T23:38:06.350Z"
   },
   {
    "duration": 19,
    "start_time": "2022-01-11T23:38:06.395Z"
   },
   {
    "duration": 16,
    "start_time": "2022-01-11T23:38:06.415Z"
   },
   {
    "duration": 30,
    "start_time": "2022-01-11T23:38:06.432Z"
   },
   {
    "duration": 53,
    "start_time": "2022-01-11T23:38:06.465Z"
   },
   {
    "duration": 29,
    "start_time": "2022-01-11T23:38:06.519Z"
   },
   {
    "duration": 63,
    "start_time": "2022-01-11T23:38:06.550Z"
   },
   {
    "duration": 68,
    "start_time": "2022-01-11T23:43:16.951Z"
   },
   {
    "duration": 9,
    "start_time": "2022-01-11T23:43:17.021Z"
   },
   {
    "duration": 9,
    "start_time": "2022-01-11T23:43:17.032Z"
   },
   {
    "duration": 13,
    "start_time": "2022-01-11T23:43:17.043Z"
   },
   {
    "duration": 60,
    "start_time": "2022-01-11T23:43:17.057Z"
   },
   {
    "duration": 38,
    "start_time": "2022-01-11T23:43:17.119Z"
   },
   {
    "duration": 852,
    "start_time": "2022-01-11T23:43:17.159Z"
   },
   {
    "duration": 4,
    "start_time": "2022-01-11T23:43:18.013Z"
   },
   {
    "duration": 12,
    "start_time": "2022-01-11T23:43:18.018Z"
   },
   {
    "duration": 60,
    "start_time": "2022-01-11T23:43:18.031Z"
   },
   {
    "duration": 85,
    "start_time": "2022-01-11T23:43:18.093Z"
   },
   {
    "duration": 57,
    "start_time": "2022-01-11T23:43:18.180Z"
   },
   {
    "duration": 762,
    "start_time": "2022-01-11T23:43:18.239Z"
   },
   {
    "duration": 3,
    "start_time": "2022-01-11T23:43:19.002Z"
   },
   {
    "duration": 5684,
    "start_time": "2022-01-11T23:43:19.007Z"
   },
   {
    "duration": 333,
    "start_time": "2022-01-11T23:43:24.693Z"
   },
   {
    "duration": 1058,
    "start_time": "2022-01-11T23:43:25.028Z"
   },
   {
    "duration": 432,
    "start_time": "2022-01-11T23:43:26.088Z"
   },
   {
    "duration": 23,
    "start_time": "2022-01-11T23:43:26.522Z"
   },
   {
    "duration": 22,
    "start_time": "2022-01-11T23:43:26.546Z"
   },
   {
    "duration": 32,
    "start_time": "2022-01-11T23:43:26.569Z"
   },
   {
    "duration": 30,
    "start_time": "2022-01-11T23:43:26.602Z"
   },
   {
    "duration": 28,
    "start_time": "2022-01-11T23:43:26.635Z"
   },
   {
    "duration": 49,
    "start_time": "2022-01-11T23:43:26.665Z"
   },
   {
    "duration": 37,
    "start_time": "2022-01-11T23:43:26.715Z"
   },
   {
    "duration": 74,
    "start_time": "2022-01-11T23:47:37.664Z"
   },
   {
    "duration": 11,
    "start_time": "2022-01-11T23:47:37.741Z"
   },
   {
    "duration": 11,
    "start_time": "2022-01-11T23:47:37.754Z"
   },
   {
    "duration": 17,
    "start_time": "2022-01-11T23:47:37.792Z"
   },
   {
    "duration": 30,
    "start_time": "2022-01-11T23:47:37.811Z"
   },
   {
    "duration": 73,
    "start_time": "2022-01-11T23:47:37.843Z"
   },
   {
    "duration": 812,
    "start_time": "2022-01-11T23:47:37.919Z"
   },
   {
    "duration": 4,
    "start_time": "2022-01-11T23:47:38.734Z"
   },
   {
    "duration": 14,
    "start_time": "2022-01-11T23:47:38.739Z"
   },
   {
    "duration": 59,
    "start_time": "2022-01-11T23:47:38.755Z"
   },
   {
    "duration": 89,
    "start_time": "2022-01-11T23:47:38.816Z"
   },
   {
    "duration": 50,
    "start_time": "2022-01-11T23:47:38.907Z"
   },
   {
    "duration": 754,
    "start_time": "2022-01-11T23:47:38.959Z"
   },
   {
    "duration": 3,
    "start_time": "2022-01-11T23:47:39.716Z"
   },
   {
    "duration": 5595,
    "start_time": "2022-01-11T23:47:39.721Z"
   },
   {
    "duration": 325,
    "start_time": "2022-01-11T23:47:45.318Z"
   },
   {
    "duration": 1014,
    "start_time": "2022-01-11T23:47:45.644Z"
   },
   {
    "duration": 35,
    "start_time": "2022-01-11T23:47:46.660Z"
   },
   {
    "duration": 24,
    "start_time": "2022-01-11T23:47:46.697Z"
   },
   {
    "duration": 18,
    "start_time": "2022-01-11T23:47:46.722Z"
   },
   {
    "duration": 18,
    "start_time": "2022-01-11T23:47:46.742Z"
   },
   {
    "duration": 55,
    "start_time": "2022-01-11T23:47:46.761Z"
   },
   {
    "duration": 28,
    "start_time": "2022-01-11T23:47:46.819Z"
   },
   {
    "duration": 46,
    "start_time": "2022-01-11T23:47:46.849Z"
   },
   {
    "duration": 36,
    "start_time": "2022-01-11T23:47:46.897Z"
   },
   {
    "duration": 27,
    "start_time": "2022-01-11T23:52:57.918Z"
   },
   {
    "duration": 48,
    "start_time": "2022-01-11T23:54:17.450Z"
   },
   {
    "duration": 29,
    "start_time": "2022-01-11T23:56:09.267Z"
   },
   {
    "duration": 30,
    "start_time": "2022-01-12T00:11:07.971Z"
   },
   {
    "duration": 185,
    "start_time": "2022-01-12T00:12:47.752Z"
   },
   {
    "duration": 31,
    "start_time": "2022-01-12T00:12:58.239Z"
   },
   {
    "duration": 28,
    "start_time": "2022-01-12T00:13:36.878Z"
   },
   {
    "duration": 217,
    "start_time": "2022-01-12T00:13:59.041Z"
   },
   {
    "duration": 662,
    "start_time": "2022-01-12T00:14:31.096Z"
   },
   {
    "duration": 28,
    "start_time": "2022-01-12T00:14:40.196Z"
   },
   {
    "duration": 28,
    "start_time": "2022-01-12T00:18:56.681Z"
   },
   {
    "duration": 57,
    "start_time": "2022-01-12T00:19:15.127Z"
   },
   {
    "duration": 26,
    "start_time": "2022-01-12T00:19:31.770Z"
   },
   {
    "duration": 65,
    "start_time": "2022-01-12T00:30:02.521Z"
   },
   {
    "duration": 96,
    "start_time": "2022-01-12T00:30:09.012Z"
   },
   {
    "duration": 37,
    "start_time": "2022-01-12T00:30:14.069Z"
   },
   {
    "duration": 65,
    "start_time": "2022-01-12T00:31:09.169Z"
   },
   {
    "duration": 56,
    "start_time": "2022-01-12T00:31:13.550Z"
   },
   {
    "duration": 176,
    "start_time": "2022-01-12T00:31:28.650Z"
   },
   {
    "duration": 44,
    "start_time": "2022-01-12T00:32:06.399Z"
   },
   {
    "duration": 35,
    "start_time": "2022-01-12T00:32:30.343Z"
   },
   {
    "duration": 34,
    "start_time": "2022-01-12T00:33:12.748Z"
   },
   {
    "duration": 45,
    "start_time": "2022-01-12T00:33:40.328Z"
   },
   {
    "duration": 28,
    "start_time": "2022-01-12T00:35:22.478Z"
   },
   {
    "duration": 178,
    "start_time": "2022-01-12T00:35:34.612Z"
   },
   {
    "duration": 184,
    "start_time": "2022-01-12T00:35:48.277Z"
   },
   {
    "duration": 23,
    "start_time": "2022-01-12T00:36:02.886Z"
   },
   {
    "duration": 20,
    "start_time": "2022-01-12T00:36:20.807Z"
   },
   {
    "duration": 18,
    "start_time": "2022-01-12T00:36:30.212Z"
   },
   {
    "duration": 19,
    "start_time": "2022-01-12T00:36:41.059Z"
   },
   {
    "duration": 20,
    "start_time": "2022-01-12T00:36:47.531Z"
   },
   {
    "duration": 202,
    "start_time": "2022-01-12T00:37:35.590Z"
   },
   {
    "duration": 193,
    "start_time": "2022-01-12T00:37:41.146Z"
   },
   {
    "duration": 197,
    "start_time": "2022-01-12T00:37:59.237Z"
   },
   {
    "duration": 238,
    "start_time": "2022-01-12T00:38:05.698Z"
   },
   {
    "duration": 202,
    "start_time": "2022-01-12T00:38:17.454Z"
   },
   {
    "duration": 208,
    "start_time": "2022-01-12T00:38:23.310Z"
   },
   {
    "duration": 17,
    "start_time": "2022-01-12T00:39:15.641Z"
   },
   {
    "duration": 28,
    "start_time": "2022-01-12T00:39:23.477Z"
   },
   {
    "duration": 28,
    "start_time": "2022-01-12T00:39:37.343Z"
   },
   {
    "duration": 340,
    "start_time": "2022-01-12T00:39:47.422Z"
   },
   {
    "duration": 18,
    "start_time": "2022-01-12T00:40:04.324Z"
   },
   {
    "duration": 182,
    "start_time": "2022-01-12T00:40:09.860Z"
   },
   {
    "duration": 4528,
    "start_time": "2022-01-12T00:40:21.784Z"
   },
   {
    "duration": 39,
    "start_time": "2022-01-12T00:41:06.257Z"
   },
   {
    "duration": 40,
    "start_time": "2022-01-12T00:41:35.623Z"
   },
   {
    "duration": 43,
    "start_time": "2022-01-12T00:42:02.145Z"
   },
   {
    "duration": 41,
    "start_time": "2022-01-12T00:42:35.209Z"
   },
   {
    "duration": 231,
    "start_time": "2022-01-12T00:43:00.785Z"
   },
   {
    "duration": 236,
    "start_time": "2022-01-12T00:43:04.791Z"
   },
   {
    "duration": 248,
    "start_time": "2022-01-12T00:43:08.257Z"
   },
   {
    "duration": 65,
    "start_time": "2022-01-12T00:44:16.225Z"
   },
   {
    "duration": 60,
    "start_time": "2022-01-12T00:44:19.470Z"
   },
   {
    "duration": 52,
    "start_time": "2022-01-12T00:44:29.420Z"
   },
   {
    "duration": 46,
    "start_time": "2022-01-12T00:45:02.442Z"
   },
   {
    "duration": 36,
    "start_time": "2022-01-12T00:45:23.978Z"
   },
   {
    "duration": 27,
    "start_time": "2022-01-12T00:45:37.939Z"
   },
   {
    "duration": 47,
    "start_time": "2022-01-12T00:46:02.287Z"
   },
   {
    "duration": 49,
    "start_time": "2022-01-12T00:49:05.058Z"
   },
   {
    "duration": 52,
    "start_time": "2022-01-12T00:50:07.552Z"
   },
   {
    "duration": 47,
    "start_time": "2022-01-12T00:50:16.877Z"
   },
   {
    "duration": 46,
    "start_time": "2022-01-12T00:50:35.061Z"
   },
   {
    "duration": 44,
    "start_time": "2022-01-12T00:51:26.317Z"
   },
   {
    "duration": 45,
    "start_time": "2022-01-12T00:51:59.243Z"
   },
   {
    "duration": 42,
    "start_time": "2022-01-12T00:52:23.122Z"
   },
   {
    "duration": 38,
    "start_time": "2022-01-12T00:53:22.965Z"
   },
   {
    "duration": 43,
    "start_time": "2022-01-12T00:54:12.051Z"
   },
   {
    "duration": 71,
    "start_time": "2022-01-12T00:57:39.336Z"
   },
   {
    "duration": 9,
    "start_time": "2022-01-12T00:57:39.409Z"
   },
   {
    "duration": 11,
    "start_time": "2022-01-12T00:57:39.420Z"
   },
   {
    "duration": 13,
    "start_time": "2022-01-12T00:57:39.432Z"
   },
   {
    "duration": 61,
    "start_time": "2022-01-12T00:57:39.447Z"
   },
   {
    "duration": 40,
    "start_time": "2022-01-12T00:57:39.510Z"
   },
   {
    "duration": 896,
    "start_time": "2022-01-12T00:57:39.552Z"
   },
   {
    "duration": 4,
    "start_time": "2022-01-12T00:57:40.450Z"
   },
   {
    "duration": 11,
    "start_time": "2022-01-12T00:57:40.456Z"
   },
   {
    "duration": 55,
    "start_time": "2022-01-12T00:57:40.469Z"
   },
   {
    "duration": 104,
    "start_time": "2022-01-12T00:57:40.526Z"
   },
   {
    "duration": 60,
    "start_time": "2022-01-12T00:57:40.632Z"
   },
   {
    "duration": 752,
    "start_time": "2022-01-12T00:57:40.694Z"
   },
   {
    "duration": 2,
    "start_time": "2022-01-12T00:57:41.448Z"
   },
   {
    "duration": 6195,
    "start_time": "2022-01-12T00:57:41.452Z"
   },
   {
    "duration": 328,
    "start_time": "2022-01-12T00:57:47.649Z"
   },
   {
    "duration": 1045,
    "start_time": "2022-01-12T00:57:47.979Z"
   },
   {
    "duration": 495,
    "start_time": "2022-01-12T00:57:49.026Z"
   },
   {
    "duration": 24,
    "start_time": "2022-01-12T00:57:49.523Z"
   },
   {
    "duration": 46,
    "start_time": "2022-01-12T00:57:49.549Z"
   },
   {
    "duration": 15,
    "start_time": "2022-01-12T00:57:49.597Z"
   },
   {
    "duration": 29,
    "start_time": "2022-01-12T00:57:49.614Z"
   },
   {
    "duration": 50,
    "start_time": "2022-01-12T00:57:49.646Z"
   },
   {
    "duration": 38,
    "start_time": "2022-01-12T00:57:49.698Z"
   },
   {
    "duration": 63,
    "start_time": "2022-01-12T00:57:49.738Z"
   },
   {
    "duration": 5,
    "start_time": "2022-01-12T00:57:49.803Z"
   },
   {
    "duration": 29,
    "start_time": "2022-01-12T00:57:49.810Z"
   },
   {
    "duration": 51,
    "start_time": "2022-01-12T00:57:49.841Z"
   },
   {
    "duration": 45,
    "start_time": "2022-01-12T00:57:49.895Z"
   },
   {
    "duration": 69,
    "start_time": "2022-01-12T01:44:40.617Z"
   },
   {
    "duration": 9,
    "start_time": "2022-01-12T01:44:40.688Z"
   },
   {
    "duration": 14,
    "start_time": "2022-01-12T01:44:40.698Z"
   },
   {
    "duration": 24,
    "start_time": "2022-01-12T01:44:40.713Z"
   },
   {
    "duration": 33,
    "start_time": "2022-01-12T01:44:40.739Z"
   },
   {
    "duration": 51,
    "start_time": "2022-01-12T01:44:40.773Z"
   },
   {
    "duration": 894,
    "start_time": "2022-01-12T01:44:40.825Z"
   },
   {
    "duration": 3,
    "start_time": "2022-01-12T01:44:41.722Z"
   },
   {
    "duration": 40,
    "start_time": "2022-01-12T01:44:41.728Z"
   },
   {
    "duration": 60,
    "start_time": "2022-01-12T01:44:41.770Z"
   },
   {
    "duration": 123,
    "start_time": "2022-01-12T01:44:41.832Z"
   },
   {
    "duration": 94,
    "start_time": "2022-01-12T01:44:41.957Z"
   },
   {
    "duration": 752,
    "start_time": "2022-01-12T01:44:42.053Z"
   },
   {
    "duration": 2,
    "start_time": "2022-01-12T01:44:42.807Z"
   },
   {
    "duration": 5386,
    "start_time": "2022-01-12T01:44:42.811Z"
   },
   {
    "duration": 335,
    "start_time": "2022-01-12T01:44:48.199Z"
   },
   {
    "duration": 1032,
    "start_time": "2022-01-12T01:44:48.536Z"
   },
   {
    "duration": 35,
    "start_time": "2022-01-12T01:44:49.569Z"
   },
   {
    "duration": 30,
    "start_time": "2022-01-12T01:44:49.605Z"
   },
   {
    "duration": 37,
    "start_time": "2022-01-12T01:44:49.636Z"
   },
   {
    "duration": 40,
    "start_time": "2022-01-12T01:44:49.675Z"
   },
   {
    "duration": 29,
    "start_time": "2022-01-12T01:44:49.718Z"
   },
   {
    "duration": 43,
    "start_time": "2022-01-12T01:44:49.750Z"
   },
   {
    "duration": 38,
    "start_time": "2022-01-12T01:44:49.794Z"
   },
   {
    "duration": 5,
    "start_time": "2022-01-12T01:44:49.833Z"
   },
   {
    "duration": 65,
    "start_time": "2022-01-12T01:44:49.840Z"
   },
   {
    "duration": 2558,
    "start_time": "2022-01-12T01:44:47.349Z"
   },
   {
    "duration": 2552,
    "start_time": "2022-01-12T01:44:47.356Z"
   },
   {
    "duration": 2550,
    "start_time": "2022-01-12T01:44:47.359Z"
   },
   {
    "duration": 12,
    "start_time": "2022-01-12T01:47:47.137Z"
   },
   {
    "duration": 4,
    "start_time": "2022-01-12T01:56:25.018Z"
   },
   {
    "duration": 29,
    "start_time": "2022-01-12T01:56:53.311Z"
   },
   {
    "duration": 70,
    "start_time": "2022-01-12T01:57:09.563Z"
   },
   {
    "duration": 12,
    "start_time": "2022-01-12T01:57:09.636Z"
   },
   {
    "duration": 10,
    "start_time": "2022-01-12T01:57:09.651Z"
   },
   {
    "duration": 14,
    "start_time": "2022-01-12T01:57:09.693Z"
   },
   {
    "duration": 31,
    "start_time": "2022-01-12T01:57:09.709Z"
   },
   {
    "duration": 71,
    "start_time": "2022-01-12T01:57:09.742Z"
   },
   {
    "duration": 920,
    "start_time": "2022-01-12T01:57:09.815Z"
   },
   {
    "duration": 3,
    "start_time": "2022-01-12T01:57:10.738Z"
   },
   {
    "duration": 14,
    "start_time": "2022-01-12T01:57:10.743Z"
   },
   {
    "duration": 63,
    "start_time": "2022-01-12T01:57:10.758Z"
   },
   {
    "duration": 103,
    "start_time": "2022-01-12T01:57:10.823Z"
   },
   {
    "duration": 67,
    "start_time": "2022-01-12T01:57:10.927Z"
   },
   {
    "duration": 773,
    "start_time": "2022-01-12T01:57:10.995Z"
   },
   {
    "duration": 5877,
    "start_time": "2022-01-12T01:57:11.770Z"
   },
   {
    "duration": 337,
    "start_time": "2022-01-12T01:57:17.649Z"
   },
   {
    "duration": 1039,
    "start_time": "2022-01-12T01:57:17.987Z"
   },
   {
    "duration": 27,
    "start_time": "2022-01-12T01:57:19.028Z"
   },
   {
    "duration": 44,
    "start_time": "2022-01-12T01:57:19.057Z"
   },
   {
    "duration": 17,
    "start_time": "2022-01-12T01:57:19.103Z"
   },
   {
    "duration": 29,
    "start_time": "2022-01-12T01:57:19.121Z"
   },
   {
    "duration": 56,
    "start_time": "2022-01-12T01:57:19.152Z"
   },
   {
    "duration": 25,
    "start_time": "2022-01-12T01:57:19.210Z"
   },
   {
    "duration": 57,
    "start_time": "2022-01-12T01:57:19.238Z"
   },
   {
    "duration": 5,
    "start_time": "2022-01-12T01:57:19.297Z"
   },
   {
    "duration": 73,
    "start_time": "2022-01-12T01:57:19.304Z"
   },
   {
    "duration": 2573,
    "start_time": "2022-01-12T01:57:16.806Z"
   },
   {
    "duration": 2565,
    "start_time": "2022-01-12T01:57:16.815Z"
   },
   {
    "duration": 2562,
    "start_time": "2022-01-12T01:57:16.819Z"
   },
   {
    "duration": 2560,
    "start_time": "2022-01-12T01:57:16.822Z"
   },
   {
    "duration": 2559,
    "start_time": "2022-01-12T01:57:16.824Z"
   },
   {
    "duration": 70,
    "start_time": "2022-01-12T01:58:00.462Z"
   },
   {
    "duration": 10,
    "start_time": "2022-01-12T01:58:00.534Z"
   },
   {
    "duration": 22,
    "start_time": "2022-01-12T01:58:00.546Z"
   },
   {
    "duration": 21,
    "start_time": "2022-01-12T01:58:00.571Z"
   },
   {
    "duration": 34,
    "start_time": "2022-01-12T01:58:00.594Z"
   },
   {
    "duration": 39,
    "start_time": "2022-01-12T01:58:00.629Z"
   },
   {
    "duration": 1413,
    "start_time": "2022-01-12T01:58:00.670Z"
   },
   {
    "duration": 9,
    "start_time": "2022-01-12T01:58:02.085Z"
   },
   {
    "duration": 18,
    "start_time": "2022-01-12T01:58:02.096Z"
   },
   {
    "duration": 43,
    "start_time": "2022-01-12T01:58:02.116Z"
   },
   {
    "duration": 131,
    "start_time": "2022-01-12T01:58:02.160Z"
   },
   {
    "duration": 51,
    "start_time": "2022-01-12T01:58:02.293Z"
   },
   {
    "duration": 771,
    "start_time": "2022-01-12T01:58:02.346Z"
   },
   {
    "duration": 5694,
    "start_time": "2022-01-12T01:58:03.119Z"
   },
   {
    "duration": 345,
    "start_time": "2022-01-12T01:58:08.815Z"
   },
   {
    "duration": 1048,
    "start_time": "2022-01-12T01:58:09.162Z"
   },
   {
    "duration": 29,
    "start_time": "2022-01-12T01:58:10.212Z"
   },
   {
    "duration": 23,
    "start_time": "2022-01-12T01:58:10.243Z"
   },
   {
    "duration": 39,
    "start_time": "2022-01-12T01:58:10.267Z"
   },
   {
    "duration": 29,
    "start_time": "2022-01-12T01:58:10.308Z"
   },
   {
    "duration": 29,
    "start_time": "2022-01-12T01:58:10.339Z"
   },
   {
    "duration": 49,
    "start_time": "2022-01-12T01:58:10.369Z"
   },
   {
    "duration": 39,
    "start_time": "2022-01-12T01:58:10.422Z"
   },
   {
    "duration": 53,
    "start_time": "2022-01-12T01:58:10.463Z"
   },
   {
    "duration": 27,
    "start_time": "2022-01-12T01:58:10.518Z"
   },
   {
    "duration": 58,
    "start_time": "2022-01-12T01:58:10.547Z"
   },
   {
    "duration": 633,
    "start_time": "2022-01-13T12:58:09.415Z"
   },
   {
    "duration": 10,
    "start_time": "2022-01-13T12:58:10.051Z"
   },
   {
    "duration": 16,
    "start_time": "2022-01-13T12:58:10.064Z"
   },
   {
    "duration": 16,
    "start_time": "2022-01-13T12:58:10.092Z"
   },
   {
    "duration": 59,
    "start_time": "2022-01-13T12:58:10.109Z"
   },
   {
    "duration": 40,
    "start_time": "2022-01-13T12:58:10.170Z"
   },
   {
    "duration": 816,
    "start_time": "2022-01-13T12:58:10.211Z"
   },
   {
    "duration": 4,
    "start_time": "2022-01-13T12:58:11.030Z"
   },
   {
    "duration": 16,
    "start_time": "2022-01-13T12:58:11.036Z"
   },
   {
    "duration": 60,
    "start_time": "2022-01-13T12:58:11.054Z"
   },
   {
    "duration": 98,
    "start_time": "2022-01-13T12:58:11.115Z"
   },
   {
    "duration": 54,
    "start_time": "2022-01-13T12:58:11.215Z"
   },
   {
    "duration": 729,
    "start_time": "2022-01-13T12:58:11.290Z"
   },
   {
    "duration": 5763,
    "start_time": "2022-01-13T12:58:12.021Z"
   },
   {
    "duration": 311,
    "start_time": "2022-01-13T12:58:17.792Z"
   },
   {
    "duration": 1013,
    "start_time": "2022-01-13T12:58:18.105Z"
   },
   {
    "duration": 88,
    "start_time": "2022-01-13T12:58:19.119Z"
   },
   {
    "duration": 22,
    "start_time": "2022-01-13T12:58:19.209Z"
   },
   {
    "duration": 37,
    "start_time": "2022-01-13T12:58:19.232Z"
   },
   {
    "duration": 70,
    "start_time": "2022-01-13T12:58:19.271Z"
   },
   {
    "duration": 29,
    "start_time": "2022-01-13T12:58:19.343Z"
   },
   {
    "duration": 28,
    "start_time": "2022-01-13T12:58:19.373Z"
   },
   {
    "duration": 34,
    "start_time": "2022-01-13T12:58:19.405Z"
   },
   {
    "duration": 27,
    "start_time": "2022-01-13T12:58:19.440Z"
   },
   {
    "duration": 50,
    "start_time": "2022-01-13T12:58:19.469Z"
   },
   {
    "duration": 43,
    "start_time": "2022-01-13T12:58:19.520Z"
   },
   {
    "duration": 27,
    "start_time": "2022-01-13T13:06:50.476Z"
   },
   {
    "duration": 21,
    "start_time": "2022-01-13T13:14:55.264Z"
   },
   {
    "duration": 43,
    "start_time": "2022-01-13T13:15:21.413Z"
   },
   {
    "duration": 644,
    "start_time": "2022-01-13T13:15:34.196Z"
   },
   {
    "duration": 9,
    "start_time": "2022-01-13T13:15:34.842Z"
   },
   {
    "duration": 13,
    "start_time": "2022-01-13T13:15:34.853Z"
   },
   {
    "duration": 28,
    "start_time": "2022-01-13T13:15:34.868Z"
   },
   {
    "duration": 44,
    "start_time": "2022-01-13T13:15:34.898Z"
   },
   {
    "duration": 46,
    "start_time": "2022-01-13T13:15:34.944Z"
   },
   {
    "duration": 823,
    "start_time": "2022-01-13T13:15:34.992Z"
   },
   {
    "duration": 4,
    "start_time": "2022-01-13T13:15:35.817Z"
   },
   {
    "duration": 12,
    "start_time": "2022-01-13T13:15:35.823Z"
   },
   {
    "duration": 64,
    "start_time": "2022-01-13T13:15:35.837Z"
   },
   {
    "duration": 91,
    "start_time": "2022-01-13T13:15:35.903Z"
   },
   {
    "duration": 51,
    "start_time": "2022-01-13T13:15:35.997Z"
   },
   {
    "duration": 15,
    "start_time": "2022-01-13T13:15:36.049Z"
   },
   {
    "duration": 699,
    "start_time": "2022-01-13T13:15:36.092Z"
   },
   {
    "duration": 5606,
    "start_time": "2022-01-13T13:15:36.793Z"
   },
   {
    "duration": 317,
    "start_time": "2022-01-13T13:15:42.401Z"
   },
   {
    "duration": 1017,
    "start_time": "2022-01-13T13:15:42.721Z"
   },
   {
    "duration": 86,
    "start_time": "2022-01-13T13:15:43.740Z"
   },
   {
    "duration": 22,
    "start_time": "2022-01-13T13:15:43.828Z"
   },
   {
    "duration": 40,
    "start_time": "2022-01-13T13:15:43.851Z"
   },
   {
    "duration": 28,
    "start_time": "2022-01-13T13:15:43.893Z"
   },
   {
    "duration": 27,
    "start_time": "2022-01-13T13:15:43.922Z"
   },
   {
    "duration": 47,
    "start_time": "2022-01-13T13:15:43.950Z"
   },
   {
    "duration": 36,
    "start_time": "2022-01-13T13:15:43.998Z"
   },
   {
    "duration": 26,
    "start_time": "2022-01-13T13:15:44.035Z"
   },
   {
    "duration": 50,
    "start_time": "2022-01-13T13:15:44.062Z"
   },
   {
    "duration": 41,
    "start_time": "2022-01-13T13:15:44.114Z"
   },
   {
    "duration": 218,
    "start_time": "2022-01-14T17:16:53.188Z"
   },
   {
    "duration": 184,
    "start_time": "2022-01-14T17:16:58.044Z"
   },
   {
    "duration": 544,
    "start_time": "2022-01-14T17:17:00.785Z"
   },
   {
    "duration": 56,
    "start_time": "2022-01-14T17:17:02.803Z"
   },
   {
    "duration": 206,
    "start_time": "2022-01-14T17:17:04.285Z"
   },
   {
    "duration": 4,
    "start_time": "2022-01-14T17:17:18.880Z"
   },
   {
    "duration": 11,
    "start_time": "2022-01-14T17:27:03.901Z"
   },
   {
    "duration": 49,
    "start_time": "2022-01-14T17:29:04.417Z"
   },
   {
    "duration": 10,
    "start_time": "2022-01-14T17:29:06.498Z"
   },
   {
    "duration": 48,
    "start_time": "2022-01-14T17:29:58.247Z"
   },
   {
    "duration": 47,
    "start_time": "2022-01-14T17:30:03.726Z"
   },
   {
    "duration": 5,
    "start_time": "2022-01-14T17:33:41.350Z"
   },
   {
    "duration": 69,
    "start_time": "2022-01-14T17:35:04.288Z"
   },
   {
    "duration": 85,
    "start_time": "2022-01-14T17:35:12.094Z"
   },
   {
    "duration": 235,
    "start_time": "2022-01-14T17:49:24.721Z"
   },
   {
    "duration": 289,
    "start_time": "2022-01-14T17:49:41.391Z"
   },
   {
    "duration": 216,
    "start_time": "2022-01-14T17:50:13.688Z"
   },
   {
    "duration": 177,
    "start_time": "2022-01-14T17:50:21.502Z"
   },
   {
    "duration": 209,
    "start_time": "2022-01-14T17:50:32.603Z"
   },
   {
    "duration": 12,
    "start_time": "2022-01-14T17:52:27.439Z"
   },
   {
    "duration": 20,
    "start_time": "2022-01-14T17:52:39.393Z"
   },
   {
    "duration": 19,
    "start_time": "2022-01-14T17:52:44.441Z"
   },
   {
    "duration": 224,
    "start_time": "2022-01-14T17:52:48.302Z"
   },
   {
    "duration": 202,
    "start_time": "2022-01-14T17:52:58.215Z"
   },
   {
    "duration": 271,
    "start_time": "2022-01-14T18:01:15.402Z"
   },
   {
    "duration": 220,
    "start_time": "2022-01-14T18:01:29.783Z"
   },
   {
    "duration": 3,
    "start_time": "2022-01-14T18:15:40.903Z"
   },
   {
    "duration": 49,
    "start_time": "2022-01-14T18:15:40.908Z"
   },
   {
    "duration": 10,
    "start_time": "2022-01-14T18:15:40.959Z"
   },
   {
    "duration": 9,
    "start_time": "2022-01-14T18:15:40.971Z"
   },
   {
    "duration": 8,
    "start_time": "2022-01-14T18:15:40.981Z"
   },
   {
    "duration": 24,
    "start_time": "2022-01-14T18:15:40.991Z"
   },
   {
    "duration": 230,
    "start_time": "2022-01-14T18:15:41.017Z"
   },
   {
    "duration": 214,
    "start_time": "2022-01-14T18:15:41.249Z"
   },
   {
    "duration": 26,
    "start_time": "2022-01-14T18:15:41.465Z"
   },
   {
    "duration": 57,
    "start_time": "2022-01-14T18:15:41.493Z"
   },
   {
    "duration": 647,
    "start_time": "2022-01-14T18:15:41.551Z"
   },
   {
    "duration": 3,
    "start_time": "2022-01-14T18:15:42.199Z"
   },
   {
    "duration": 13,
    "start_time": "2022-01-14T18:15:42.211Z"
   },
   {
    "duration": 29,
    "start_time": "2022-01-14T18:15:42.226Z"
   },
   {
    "duration": 202,
    "start_time": "2022-01-14T18:15:42.256Z"
   },
   {
    "duration": 477,
    "start_time": "2022-01-14T18:15:41.983Z"
   },
   {
    "duration": 19,
    "start_time": "2022-01-14T18:16:48.401Z"
   },
   {
    "duration": 27,
    "start_time": "2022-01-14T18:17:38.550Z"
   },
   {
    "duration": 3,
    "start_time": "2022-01-14T18:17:46.488Z"
   },
   {
    "duration": 51,
    "start_time": "2022-01-14T18:17:46.503Z"
   },
   {
    "duration": 10,
    "start_time": "2022-01-14T18:17:46.556Z"
   },
   {
    "duration": 9,
    "start_time": "2022-01-14T18:17:46.568Z"
   },
   {
    "duration": 9,
    "start_time": "2022-01-14T18:17:46.579Z"
   },
   {
    "duration": 27,
    "start_time": "2022-01-14T18:17:46.589Z"
   },
   {
    "duration": 223,
    "start_time": "2022-01-14T18:17:46.618Z"
   },
   {
    "duration": 198,
    "start_time": "2022-01-14T18:17:46.842Z"
   },
   {
    "duration": 27,
    "start_time": "2022-01-14T18:17:47.042Z"
   },
   {
    "duration": 51,
    "start_time": "2022-01-14T18:17:47.070Z"
   },
   {
    "duration": 763,
    "start_time": "2022-01-14T18:17:47.123Z"
   },
   {
    "duration": 3,
    "start_time": "2022-01-14T18:17:47.887Z"
   },
   {
    "duration": 11,
    "start_time": "2022-01-14T18:17:47.891Z"
   },
   {
    "duration": 2,
    "start_time": "2022-01-14T18:17:58.099Z"
   },
   {
    "duration": 50,
    "start_time": "2022-01-14T18:17:58.113Z"
   },
   {
    "duration": 10,
    "start_time": "2022-01-14T18:17:58.165Z"
   },
   {
    "duration": 10,
    "start_time": "2022-01-14T18:17:58.177Z"
   },
   {
    "duration": 24,
    "start_time": "2022-01-14T18:17:58.188Z"
   },
   {
    "duration": 10,
    "start_time": "2022-01-14T18:17:58.213Z"
   },
   {
    "duration": 223,
    "start_time": "2022-01-14T18:17:58.224Z"
   },
   {
    "duration": 196,
    "start_time": "2022-01-14T18:17:58.448Z"
   },
   {
    "duration": 27,
    "start_time": "2022-01-14T18:17:58.646Z"
   },
   {
    "duration": 55,
    "start_time": "2022-01-14T18:17:58.676Z"
   },
   {
    "duration": 657,
    "start_time": "2022-01-14T18:17:58.733Z"
   },
   {
    "duration": 4,
    "start_time": "2022-01-14T18:17:59.391Z"
   },
   {
    "duration": 21,
    "start_time": "2022-01-14T18:17:59.397Z"
   },
   {
    "duration": 30,
    "start_time": "2022-01-14T18:17:59.419Z"
   },
   {
    "duration": 214,
    "start_time": "2022-01-14T18:17:59.450Z"
   },
   {
    "duration": 466,
    "start_time": "2022-01-14T18:17:59.200Z"
   },
   {
    "duration": 463,
    "start_time": "2022-01-14T18:17:59.204Z"
   },
   {
    "duration": 461,
    "start_time": "2022-01-14T18:17:59.207Z"
   },
   {
    "duration": 459,
    "start_time": "2022-01-14T18:17:59.210Z"
   },
   {
    "duration": 456,
    "start_time": "2022-01-14T18:17:59.213Z"
   },
   {
    "duration": 454,
    "start_time": "2022-01-14T18:17:59.217Z"
   },
   {
    "duration": 451,
    "start_time": "2022-01-14T18:17:59.220Z"
   },
   {
    "duration": 449,
    "start_time": "2022-01-14T18:17:59.223Z"
   },
   {
    "duration": 447,
    "start_time": "2022-01-14T18:17:59.226Z"
   },
   {
    "duration": 445,
    "start_time": "2022-01-14T18:17:59.229Z"
   },
   {
    "duration": 444,
    "start_time": "2022-01-14T18:17:59.231Z"
   },
   {
    "duration": 441,
    "start_time": "2022-01-14T18:17:59.235Z"
   },
   {
    "duration": 434,
    "start_time": "2022-01-14T18:17:59.243Z"
   },
   {
    "duration": 432,
    "start_time": "2022-01-14T18:17:59.246Z"
   },
   {
    "duration": 430,
    "start_time": "2022-01-14T18:17:59.249Z"
   },
   {
    "duration": 28,
    "start_time": "2022-01-14T18:20:11.204Z"
   },
   {
    "duration": 2,
    "start_time": "2022-01-14T18:20:17.570Z"
   },
   {
    "duration": 57,
    "start_time": "2022-01-14T18:20:17.574Z"
   },
   {
    "duration": 10,
    "start_time": "2022-01-14T18:20:17.633Z"
   },
   {
    "duration": 13,
    "start_time": "2022-01-14T18:20:17.645Z"
   },
   {
    "duration": 7,
    "start_time": "2022-01-14T18:20:17.659Z"
   },
   {
    "duration": 13,
    "start_time": "2022-01-14T18:20:17.667Z"
   },
   {
    "duration": 232,
    "start_time": "2022-01-14T18:20:17.682Z"
   },
   {
    "duration": 198,
    "start_time": "2022-01-14T18:20:17.915Z"
   },
   {
    "duration": 27,
    "start_time": "2022-01-14T18:20:18.114Z"
   },
   {
    "duration": 39,
    "start_time": "2022-01-14T18:20:18.142Z"
   },
   {
    "duration": 665,
    "start_time": "2022-01-14T18:20:18.182Z"
   },
   {
    "duration": 3,
    "start_time": "2022-01-14T18:20:18.848Z"
   },
   {
    "duration": 11,
    "start_time": "2022-01-14T18:20:18.852Z"
   },
   {
    "duration": 31,
    "start_time": "2022-01-14T18:20:23.149Z"
   },
   {
    "duration": 208,
    "start_time": "2022-01-14T18:21:23.750Z"
   },
   {
    "duration": 4,
    "start_time": "2022-01-14T18:21:59.026Z"
   },
   {
    "duration": 50,
    "start_time": "2022-01-14T18:21:59.032Z"
   },
   {
    "duration": 10,
    "start_time": "2022-01-14T18:21:59.084Z"
   },
   {
    "duration": 11,
    "start_time": "2022-01-14T18:21:59.096Z"
   },
   {
    "duration": 11,
    "start_time": "2022-01-14T18:21:59.112Z"
   },
   {
    "duration": 16,
    "start_time": "2022-01-14T18:21:59.124Z"
   },
   {
    "duration": 255,
    "start_time": "2022-01-14T18:21:59.142Z"
   },
   {
    "duration": 264,
    "start_time": "2022-01-14T18:21:59.400Z"
   },
   {
    "duration": 27,
    "start_time": "2022-01-14T18:21:59.666Z"
   },
   {
    "duration": 46,
    "start_time": "2022-01-14T18:21:59.694Z"
   },
   {
    "duration": 731,
    "start_time": "2022-01-14T18:21:59.742Z"
   },
   {
    "duration": 3,
    "start_time": "2022-01-14T18:22:00.475Z"
   },
   {
    "duration": 11,
    "start_time": "2022-01-14T18:22:00.480Z"
   },
   {
    "duration": 46,
    "start_time": "2022-01-14T18:22:00.493Z"
   },
   {
    "duration": 229,
    "start_time": "2022-01-14T18:22:47.896Z"
   },
   {
    "duration": 3,
    "start_time": "2022-01-14T18:23:04.116Z"
   },
   {
    "duration": 194,
    "start_time": "2022-01-14T18:25:35.767Z"
   },
   {
    "duration": 199,
    "start_time": "2022-01-14T18:27:29.561Z"
   },
   {
    "duration": 64,
    "start_time": "2022-01-14T18:28:21.683Z"
   },
   {
    "duration": 72,
    "start_time": "2022-01-14T18:29:50.719Z"
   },
   {
    "duration": 402,
    "start_time": "2022-01-14T18:29:55.986Z"
   },
   {
    "duration": 565,
    "start_time": "2022-01-14T18:30:03.142Z"
   },
   {
    "duration": 44,
    "start_time": "2022-01-14T18:30:08.821Z"
   },
   {
    "duration": 42,
    "start_time": "2022-01-14T18:30:31.827Z"
   },
   {
    "duration": 4,
    "start_time": "2022-01-14T18:32:10.217Z"
   },
   {
    "duration": 52,
    "start_time": "2022-01-14T18:32:10.223Z"
   },
   {
    "duration": 11,
    "start_time": "2022-01-14T18:32:10.277Z"
   },
   {
    "duration": 32,
    "start_time": "2022-01-14T18:32:10.290Z"
   },
   {
    "duration": 8,
    "start_time": "2022-01-14T18:32:10.324Z"
   },
   {
    "duration": 10,
    "start_time": "2022-01-14T18:32:10.334Z"
   },
   {
    "duration": 244,
    "start_time": "2022-01-14T18:32:10.346Z"
   },
   {
    "duration": 218,
    "start_time": "2022-01-14T18:32:10.592Z"
   },
   {
    "duration": 34,
    "start_time": "2022-01-14T18:32:10.812Z"
   },
   {
    "duration": 42,
    "start_time": "2022-01-14T18:32:10.847Z"
   },
   {
    "duration": 736,
    "start_time": "2022-01-14T18:32:10.891Z"
   },
   {
    "duration": 3,
    "start_time": "2022-01-14T18:32:11.629Z"
   },
   {
    "duration": 10,
    "start_time": "2022-01-14T18:32:11.634Z"
   },
   {
    "duration": 41,
    "start_time": "2022-01-14T18:32:14.541Z"
   },
   {
    "duration": 47,
    "start_time": "2022-01-14T18:33:20.438Z"
   },
   {
    "duration": 3,
    "start_time": "2022-01-14T18:34:39.050Z"
   },
   {
    "duration": 52,
    "start_time": "2022-01-14T18:34:39.055Z"
   },
   {
    "duration": 12,
    "start_time": "2022-01-14T18:34:39.109Z"
   },
   {
    "duration": 10,
    "start_time": "2022-01-14T18:34:39.122Z"
   },
   {
    "duration": 7,
    "start_time": "2022-01-14T18:34:39.133Z"
   },
   {
    "duration": 10,
    "start_time": "2022-01-14T18:34:39.142Z"
   },
   {
    "duration": 253,
    "start_time": "2022-01-14T18:34:39.154Z"
   },
   {
    "duration": 194,
    "start_time": "2022-01-14T18:34:39.414Z"
   },
   {
    "duration": 25,
    "start_time": "2022-01-14T18:34:39.609Z"
   },
   {
    "duration": 34,
    "start_time": "2022-01-14T18:34:39.636Z"
   },
   {
    "duration": 823,
    "start_time": "2022-01-14T18:34:39.671Z"
   },
   {
    "duration": 3,
    "start_time": "2022-01-14T18:34:40.495Z"
   },
   {
    "duration": 17,
    "start_time": "2022-01-14T18:34:40.500Z"
   },
   {
    "duration": 222,
    "start_time": "2022-01-14T18:34:40.519Z"
   },
   {
    "duration": 479,
    "start_time": "2022-01-14T18:34:40.264Z"
   },
   {
    "duration": 477,
    "start_time": "2022-01-14T18:34:40.267Z"
   },
   {
    "duration": 475,
    "start_time": "2022-01-14T18:34:40.270Z"
   },
   {
    "duration": 473,
    "start_time": "2022-01-14T18:34:40.273Z"
   },
   {
    "duration": 470,
    "start_time": "2022-01-14T18:34:40.276Z"
   },
   {
    "duration": 468,
    "start_time": "2022-01-14T18:34:40.279Z"
   },
   {
    "duration": 466,
    "start_time": "2022-01-14T18:34:40.282Z"
   },
   {
    "duration": 459,
    "start_time": "2022-01-14T18:34:40.290Z"
   },
   {
    "duration": 457,
    "start_time": "2022-01-14T18:34:40.293Z"
   },
   {
    "duration": 455,
    "start_time": "2022-01-14T18:34:40.295Z"
   },
   {
    "duration": 453,
    "start_time": "2022-01-14T18:34:40.298Z"
   },
   {
    "duration": 450,
    "start_time": "2022-01-14T18:34:40.302Z"
   },
   {
    "duration": 448,
    "start_time": "2022-01-14T18:34:40.305Z"
   },
   {
    "duration": 446,
    "start_time": "2022-01-14T18:34:40.308Z"
   },
   {
    "duration": 445,
    "start_time": "2022-01-14T18:34:40.310Z"
   },
   {
    "duration": 442,
    "start_time": "2022-01-14T18:34:40.313Z"
   },
   {
    "duration": 185,
    "start_time": "2022-01-14T18:36:06.627Z"
   },
   {
    "duration": 273,
    "start_time": "2022-01-14T18:36:45.953Z"
   },
   {
    "duration": 3,
    "start_time": "2022-01-14T18:37:03.376Z"
   },
   {
    "duration": 51,
    "start_time": "2022-01-14T18:37:03.381Z"
   },
   {
    "duration": 11,
    "start_time": "2022-01-14T18:37:03.435Z"
   },
   {
    "duration": 9,
    "start_time": "2022-01-14T18:37:03.448Z"
   },
   {
    "duration": 7,
    "start_time": "2022-01-14T18:37:03.458Z"
   },
   {
    "duration": 9,
    "start_time": "2022-01-14T18:37:03.467Z"
   },
   {
    "duration": 248,
    "start_time": "2022-01-14T18:37:03.478Z"
   },
   {
    "duration": 196,
    "start_time": "2022-01-14T18:37:03.728Z"
   },
   {
    "duration": 23,
    "start_time": "2022-01-14T18:37:03.926Z"
   },
   {
    "duration": 37,
    "start_time": "2022-01-14T18:37:03.951Z"
   },
   {
    "duration": 690,
    "start_time": "2022-01-14T18:37:03.989Z"
   },
   {
    "duration": 3,
    "start_time": "2022-01-14T18:37:04.681Z"
   },
   {
    "duration": 11,
    "start_time": "2022-01-14T18:37:04.685Z"
   },
   {
    "duration": 48,
    "start_time": "2022-01-14T18:37:38.190Z"
   },
   {
    "duration": 82,
    "start_time": "2022-01-14T18:38:27.171Z"
   },
   {
    "duration": 46,
    "start_time": "2022-01-14T18:38:54.412Z"
   },
   {
    "duration": 47,
    "start_time": "2022-01-14T18:39:32.070Z"
   },
   {
    "duration": 75,
    "start_time": "2022-01-14T18:39:49.216Z"
   },
   {
    "duration": 77,
    "start_time": "2022-01-14T18:40:02.480Z"
   },
   {
    "duration": 76,
    "start_time": "2022-01-14T18:40:13.816Z"
   },
   {
    "duration": 55,
    "start_time": "2022-01-14T18:40:43.015Z"
   },
   {
    "duration": 71,
    "start_time": "2022-01-14T18:40:53.384Z"
   },
   {
    "duration": 65,
    "start_time": "2022-01-14T18:41:37.045Z"
   },
   {
    "duration": 233,
    "start_time": "2022-01-14T18:41:58.108Z"
   },
   {
    "duration": 76,
    "start_time": "2022-01-14T18:42:11.703Z"
   },
   {
    "duration": 81,
    "start_time": "2022-01-14T18:43:19.377Z"
   },
   {
    "duration": 75,
    "start_time": "2022-01-14T18:43:28.851Z"
   },
   {
    "duration": 65,
    "start_time": "2022-01-14T18:43:50.624Z"
   },
   {
    "duration": 74,
    "start_time": "2022-01-14T18:43:55.963Z"
   },
   {
    "duration": 3,
    "start_time": "2022-01-14T18:46:33.222Z"
   },
   {
    "duration": 52,
    "start_time": "2022-01-14T18:46:33.227Z"
   },
   {
    "duration": 9,
    "start_time": "2022-01-14T18:46:33.281Z"
   },
   {
    "duration": 10,
    "start_time": "2022-01-14T18:46:33.292Z"
   },
   {
    "duration": 12,
    "start_time": "2022-01-14T18:46:33.304Z"
   },
   {
    "duration": 9,
    "start_time": "2022-01-14T18:46:33.318Z"
   },
   {
    "duration": 224,
    "start_time": "2022-01-14T18:46:33.328Z"
   },
   {
    "duration": 189,
    "start_time": "2022-01-14T18:46:33.554Z"
   },
   {
    "duration": 24,
    "start_time": "2022-01-14T18:46:33.745Z"
   },
   {
    "duration": 46,
    "start_time": "2022-01-14T18:46:33.770Z"
   },
   {
    "duration": 665,
    "start_time": "2022-01-14T18:46:33.818Z"
   },
   {
    "duration": 3,
    "start_time": "2022-01-14T18:46:34.484Z"
   },
   {
    "duration": 12,
    "start_time": "2022-01-14T18:46:34.489Z"
   },
   {
    "duration": 45,
    "start_time": "2022-01-14T18:46:34.512Z"
   },
   {
    "duration": 88,
    "start_time": "2022-01-14T18:46:34.558Z"
   },
   {
    "duration": 78,
    "start_time": "2022-01-14T18:46:36.659Z"
   },
   {
    "duration": 69,
    "start_time": "2022-01-14T18:46:57.057Z"
   },
   {
    "duration": 3,
    "start_time": "2022-01-14T18:52:11.644Z"
   },
   {
    "duration": 54,
    "start_time": "2022-01-14T18:52:11.648Z"
   },
   {
    "duration": 10,
    "start_time": "2022-01-14T18:52:11.703Z"
   },
   {
    "duration": 11,
    "start_time": "2022-01-14T18:52:11.714Z"
   },
   {
    "duration": 8,
    "start_time": "2022-01-14T18:52:11.726Z"
   },
   {
    "duration": 10,
    "start_time": "2022-01-14T18:52:11.735Z"
   },
   {
    "duration": 232,
    "start_time": "2022-01-14T18:52:11.747Z"
   },
   {
    "duration": 194,
    "start_time": "2022-01-14T18:52:11.980Z"
   },
   {
    "duration": 25,
    "start_time": "2022-01-14T18:52:12.175Z"
   },
   {
    "duration": 42,
    "start_time": "2022-01-14T18:52:12.201Z"
   },
   {
    "duration": 646,
    "start_time": "2022-01-14T18:52:12.245Z"
   },
   {
    "duration": 3,
    "start_time": "2022-01-14T18:52:12.892Z"
   },
   {
    "duration": 19,
    "start_time": "2022-01-14T18:52:12.896Z"
   },
   {
    "duration": 56,
    "start_time": "2022-01-14T18:52:12.916Z"
   },
   {
    "duration": 84,
    "start_time": "2022-01-14T18:52:12.973Z"
   },
   {
    "duration": 64,
    "start_time": "2022-01-14T18:52:15.411Z"
   },
   {
    "duration": 71,
    "start_time": "2022-01-14T19:06:12.438Z"
   },
   {
    "duration": 3,
    "start_time": "2022-01-14T19:10:24.762Z"
   },
   {
    "duration": 51,
    "start_time": "2022-01-14T19:10:24.767Z"
   },
   {
    "duration": 10,
    "start_time": "2022-01-14T19:10:24.819Z"
   },
   {
    "duration": 9,
    "start_time": "2022-01-14T19:10:24.831Z"
   },
   {
    "duration": 119,
    "start_time": "2022-01-14T19:10:24.842Z"
   },
   {
    "duration": 11,
    "start_time": "2022-01-14T19:10:24.963Z"
   },
   {
    "duration": 246,
    "start_time": "2022-01-14T19:10:24.976Z"
   },
   {
    "duration": 194,
    "start_time": "2022-01-14T19:10:25.223Z"
   },
   {
    "duration": 24,
    "start_time": "2022-01-14T19:10:25.418Z"
   },
   {
    "duration": 34,
    "start_time": "2022-01-14T19:10:25.444Z"
   },
   {
    "duration": 714,
    "start_time": "2022-01-14T19:10:25.480Z"
   },
   {
    "duration": 3,
    "start_time": "2022-01-14T19:10:26.196Z"
   },
   {
    "duration": 17,
    "start_time": "2022-01-14T19:10:26.201Z"
   },
   {
    "duration": 46,
    "start_time": "2022-01-14T19:10:26.219Z"
   },
   {
    "duration": 95,
    "start_time": "2022-01-14T19:10:26.267Z"
   },
   {
    "duration": 72,
    "start_time": "2022-01-14T19:10:26.363Z"
   },
   {
    "duration": 640,
    "start_time": "2022-01-14T19:10:26.437Z"
   },
   {
    "duration": 5069,
    "start_time": "2022-01-14T19:10:27.079Z"
   },
   {
    "duration": 275,
    "start_time": "2022-01-14T19:10:32.150Z"
   },
   {
    "duration": 1004,
    "start_time": "2022-01-14T19:10:32.426Z"
   },
   {
    "duration": 24,
    "start_time": "2022-01-14T19:10:33.431Z"
   },
   {
    "duration": 20,
    "start_time": "2022-01-14T19:10:33.456Z"
   },
   {
    "duration": 35,
    "start_time": "2022-01-14T19:10:33.478Z"
   },
   {
    "duration": 27,
    "start_time": "2022-01-14T19:10:33.515Z"
   },
   {
    "duration": 24,
    "start_time": "2022-01-14T19:10:33.545Z"
   },
   {
    "duration": 23,
    "start_time": "2022-01-14T19:10:33.570Z"
   },
   {
    "duration": 48,
    "start_time": "2022-01-14T19:10:33.594Z"
   },
   {
    "duration": 26,
    "start_time": "2022-01-14T19:10:33.644Z"
   },
   {
    "duration": 42,
    "start_time": "2022-01-14T19:10:33.671Z"
   },
   {
    "duration": 37,
    "start_time": "2022-01-14T19:10:33.714Z"
   },
   {
    "duration": 39,
    "start_time": "2022-01-14T19:18:57.127Z"
   },
   {
    "duration": 18,
    "start_time": "2022-01-14T19:20:58.078Z"
   },
   {
    "duration": 51,
    "start_time": "2022-01-14T19:20:58.098Z"
   },
   {
    "duration": 11,
    "start_time": "2022-01-14T19:20:58.151Z"
   },
   {
    "duration": 9,
    "start_time": "2022-01-14T19:20:58.164Z"
   },
   {
    "duration": 39,
    "start_time": "2022-01-14T19:20:58.174Z"
   },
   {
    "duration": 11,
    "start_time": "2022-01-14T19:20:58.214Z"
   },
   {
    "duration": 243,
    "start_time": "2022-01-14T19:20:58.227Z"
   },
   {
    "duration": 197,
    "start_time": "2022-01-14T19:20:58.472Z"
   },
   {
    "duration": 26,
    "start_time": "2022-01-14T19:20:58.671Z"
   },
   {
    "duration": 37,
    "start_time": "2022-01-14T19:20:58.712Z"
   },
   {
    "duration": 827,
    "start_time": "2022-01-14T19:20:58.751Z"
   },
   {
    "duration": 3,
    "start_time": "2022-01-14T19:20:59.579Z"
   },
   {
    "duration": 11,
    "start_time": "2022-01-14T19:20:59.584Z"
   },
   {
    "duration": 60,
    "start_time": "2022-01-14T19:20:59.596Z"
   },
   {
    "duration": 90,
    "start_time": "2022-01-14T19:20:59.657Z"
   },
   {
    "duration": 77,
    "start_time": "2022-01-14T19:20:59.749Z"
   },
   {
    "duration": 647,
    "start_time": "2022-01-14T19:20:59.828Z"
   },
   {
    "duration": 4902,
    "start_time": "2022-01-14T19:21:00.477Z"
   },
   {
    "duration": 271,
    "start_time": "2022-01-14T19:21:05.381Z"
   },
   {
    "duration": 865,
    "start_time": "2022-01-14T19:21:05.653Z"
   },
   {
    "duration": 142,
    "start_time": "2022-01-14T19:21:06.519Z"
   },
   {
    "duration": 20,
    "start_time": "2022-01-14T19:21:06.663Z"
   },
   {
    "duration": 30,
    "start_time": "2022-01-14T19:21:06.686Z"
   },
   {
    "duration": 22,
    "start_time": "2022-01-14T19:21:06.718Z"
   },
   {
    "duration": 23,
    "start_time": "2022-01-14T19:21:06.742Z"
   },
   {
    "duration": 21,
    "start_time": "2022-01-14T19:21:06.767Z"
   },
   {
    "duration": 52,
    "start_time": "2022-01-14T19:21:06.789Z"
   },
   {
    "duration": 22,
    "start_time": "2022-01-14T19:21:06.842Z"
   },
   {
    "duration": 21,
    "start_time": "2022-01-14T19:21:06.866Z"
   },
   {
    "duration": 59,
    "start_time": "2022-01-14T19:21:06.888Z"
   },
   {
    "duration": 165,
    "start_time": "2022-01-14T19:24:48.169Z"
   },
   {
    "duration": 184,
    "start_time": "2022-01-14T19:24:55.337Z"
   },
   {
    "duration": 16,
    "start_time": "2022-01-14T19:25:07.226Z"
   },
   {
    "duration": 47,
    "start_time": "2022-01-14T19:25:07.243Z"
   },
   {
    "duration": 10,
    "start_time": "2022-01-14T19:25:07.292Z"
   },
   {
    "duration": 11,
    "start_time": "2022-01-14T19:25:07.304Z"
   },
   {
    "duration": 7,
    "start_time": "2022-01-14T19:25:07.316Z"
   },
   {
    "duration": 10,
    "start_time": "2022-01-14T19:25:07.324Z"
   },
   {
    "duration": 177,
    "start_time": "2022-01-14T19:25:07.336Z"
   },
   {
    "duration": 203,
    "start_time": "2022-01-14T19:25:13.575Z"
   },
   {
    "duration": 3,
    "start_time": "2022-01-14T19:25:23.961Z"
   },
   {
    "duration": 47,
    "start_time": "2022-01-14T19:25:23.968Z"
   },
   {
    "duration": 10,
    "start_time": "2022-01-14T19:25:24.017Z"
   },
   {
    "duration": 8,
    "start_time": "2022-01-14T19:25:24.029Z"
   },
   {
    "duration": 7,
    "start_time": "2022-01-14T19:25:24.038Z"
   },
   {
    "duration": 12,
    "start_time": "2022-01-14T19:25:24.047Z"
   },
   {
    "duration": 255,
    "start_time": "2022-01-14T19:25:24.060Z"
   },
   {
    "duration": 185,
    "start_time": "2022-01-14T19:25:24.317Z"
   },
   {
    "duration": 25,
    "start_time": "2022-01-14T19:25:24.503Z"
   },
   {
    "duration": 33,
    "start_time": "2022-01-14T19:25:24.531Z"
   },
   {
    "duration": 794,
    "start_time": "2022-01-14T19:25:24.566Z"
   },
   {
    "duration": 4,
    "start_time": "2022-01-14T19:25:25.362Z"
   },
   {
    "duration": 11,
    "start_time": "2022-01-14T19:25:25.367Z"
   },
   {
    "duration": 70,
    "start_time": "2022-01-14T19:25:25.380Z"
   },
   {
    "duration": 88,
    "start_time": "2022-01-14T19:25:25.452Z"
   },
   {
    "duration": 76,
    "start_time": "2022-01-14T19:25:25.542Z"
   },
   {
    "duration": 626,
    "start_time": "2022-01-14T19:25:25.620Z"
   },
   {
    "duration": 4632,
    "start_time": "2022-01-14T19:25:26.248Z"
   },
   {
    "duration": 287,
    "start_time": "2022-01-14T19:25:30.882Z"
   },
   {
    "duration": 1023,
    "start_time": "2022-01-14T19:25:31.170Z"
   },
   {
    "duration": 29,
    "start_time": "2022-01-14T19:25:32.194Z"
   },
   {
    "duration": 20,
    "start_time": "2022-01-14T19:25:32.224Z"
   },
   {
    "duration": 15,
    "start_time": "2022-01-14T19:25:32.245Z"
   },
   {
    "duration": 22,
    "start_time": "2022-01-14T19:25:32.261Z"
   },
   {
    "duration": 44,
    "start_time": "2022-01-14T19:25:32.284Z"
   },
   {
    "duration": 21,
    "start_time": "2022-01-14T19:25:32.329Z"
   },
   {
    "duration": 29,
    "start_time": "2022-01-14T19:25:32.352Z"
   },
   {
    "duration": 43,
    "start_time": "2022-01-14T19:25:32.384Z"
   },
   {
    "duration": 21,
    "start_time": "2022-01-14T19:25:32.428Z"
   },
   {
    "duration": 36,
    "start_time": "2022-01-14T19:25:32.450Z"
   },
   {
    "duration": 17,
    "start_time": "2022-01-14T19:33:00.530Z"
   },
   {
    "duration": 48,
    "start_time": "2022-01-14T19:33:00.549Z"
   },
   {
    "duration": 11,
    "start_time": "2022-01-14T19:33:00.599Z"
   },
   {
    "duration": 10,
    "start_time": "2022-01-14T19:33:00.612Z"
   },
   {
    "duration": 9,
    "start_time": "2022-01-14T19:33:00.624Z"
   },
   {
    "duration": 10,
    "start_time": "2022-01-14T19:33:00.635Z"
   },
   {
    "duration": 234,
    "start_time": "2022-01-14T19:33:00.646Z"
   },
   {
    "duration": 195,
    "start_time": "2022-01-14T19:33:00.881Z"
   },
   {
    "duration": 34,
    "start_time": "2022-01-14T19:33:01.078Z"
   },
   {
    "duration": 35,
    "start_time": "2022-01-14T19:33:01.114Z"
   },
   {
    "duration": 823,
    "start_time": "2022-01-14T19:33:01.151Z"
   },
   {
    "duration": 4,
    "start_time": "2022-01-14T19:33:01.976Z"
   },
   {
    "duration": 15,
    "start_time": "2022-01-14T19:33:01.981Z"
   },
   {
    "duration": 50,
    "start_time": "2022-01-14T19:33:01.998Z"
   },
   {
    "duration": 79,
    "start_time": "2022-01-14T19:33:02.049Z"
   },
   {
    "duration": 63,
    "start_time": "2022-01-14T19:33:02.129Z"
   },
   {
    "duration": 707,
    "start_time": "2022-01-14T19:33:02.193Z"
   },
   {
    "duration": 4965,
    "start_time": "2022-01-14T19:33:02.902Z"
   },
   {
    "duration": 446,
    "start_time": "2022-01-14T19:33:07.868Z"
   },
   {
    "duration": 924,
    "start_time": "2022-01-14T19:33:08.316Z"
   },
   {
    "duration": 24,
    "start_time": "2022-01-14T19:33:09.241Z"
   },
   {
    "duration": 20,
    "start_time": "2022-01-14T19:33:09.267Z"
   },
   {
    "duration": 36,
    "start_time": "2022-01-14T19:33:09.288Z"
   },
   {
    "duration": 29,
    "start_time": "2022-01-14T19:33:09.326Z"
   },
   {
    "duration": 30,
    "start_time": "2022-01-14T19:33:09.356Z"
   },
   {
    "duration": 40,
    "start_time": "2022-01-14T19:33:09.388Z"
   },
   {
    "duration": 37,
    "start_time": "2022-01-14T19:33:09.431Z"
   },
   {
    "duration": 43,
    "start_time": "2022-01-14T19:33:09.470Z"
   },
   {
    "duration": 32,
    "start_time": "2022-01-14T19:33:09.515Z"
   },
   {
    "duration": 43,
    "start_time": "2022-01-14T19:33:09.549Z"
   },
   {
    "duration": 18,
    "start_time": "2022-01-14T19:33:50.314Z"
   },
   {
    "duration": 3,
    "start_time": "2022-01-14T19:34:07.069Z"
   },
   {
    "duration": 61,
    "start_time": "2022-01-14T19:36:45.509Z"
   },
   {
    "duration": 612,
    "start_time": "2022-01-14T19:39:16.882Z"
   },
   {
    "duration": 20,
    "start_time": "2022-01-14T19:39:20.158Z"
   },
   {
    "duration": 1238,
    "start_time": "2022-04-13T07:00:12.335Z"
   },
   {
    "duration": 3,
    "start_time": "2022-04-13T07:00:13.575Z"
   },
   {
    "duration": 393,
    "start_time": "2022-04-13T07:00:13.580Z"
   },
   {
    "duration": 47,
    "start_time": "2022-04-13T07:00:13.975Z"
   },
   {
    "duration": 24,
    "start_time": "2022-04-13T07:00:14.024Z"
   },
   {
    "duration": 117,
    "start_time": "2022-04-13T07:00:14.049Z"
   },
   {
    "duration": 167,
    "start_time": "2022-04-13T07:00:14.167Z"
   },
   {
    "duration": 2028,
    "start_time": "2022-04-13T07:00:14.336Z"
   },
   {
    "duration": 53,
    "start_time": "2022-04-13T07:00:16.367Z"
   },
   {
    "duration": 143,
    "start_time": "2022-04-13T07:00:19.501Z"
   },
   {
    "duration": 149,
    "start_time": "2022-04-13T07:02:09.920Z"
   },
   {
    "duration": 149,
    "start_time": "2022-04-13T07:02:19.949Z"
   },
   {
    "duration": 164,
    "start_time": "2022-04-13T07:02:23.731Z"
   },
   {
    "duration": 371,
    "start_time": "2022-04-13T07:02:28.687Z"
   },
   {
    "duration": 351,
    "start_time": "2022-04-13T07:07:19.051Z"
   },
   {
    "duration": 358,
    "start_time": "2022-04-13T07:07:42.353Z"
   },
   {
    "duration": 141,
    "start_time": "2022-04-13T07:12:32.821Z"
   },
   {
    "duration": 4,
    "start_time": "2022-04-13T07:12:58.343Z"
   },
   {
    "duration": 8,
    "start_time": "2022-04-13T07:12:58.349Z"
   },
   {
    "duration": 371,
    "start_time": "2022-04-13T07:12:58.359Z"
   },
   {
    "duration": 40,
    "start_time": "2022-04-13T07:12:58.731Z"
   },
   {
    "duration": 45,
    "start_time": "2022-04-13T07:12:58.774Z"
   },
   {
    "duration": 98,
    "start_time": "2022-04-13T07:12:58.821Z"
   },
   {
    "duration": 140,
    "start_time": "2022-04-13T07:12:58.921Z"
   },
   {
    "duration": 1358,
    "start_time": "2022-04-13T07:12:59.062Z"
   },
   {
    "duration": 36,
    "start_time": "2022-04-13T07:13:00.422Z"
   },
   {
    "duration": 372,
    "start_time": "2022-04-13T07:13:00.460Z"
   },
   {
    "duration": 106,
    "start_time": "2022-04-13T07:13:00.834Z"
   },
   {
    "duration": 25,
    "start_time": "2022-04-13T07:13:00.943Z"
   },
   {
    "duration": 148,
    "start_time": "2022-04-13T07:13:00.970Z"
   },
   {
    "duration": 111,
    "start_time": "2022-04-13T07:13:01.122Z"
   },
   {
    "duration": 26,
    "start_time": "2022-04-13T07:13:01.236Z"
   },
   {
    "duration": 361,
    "start_time": "2022-04-13T07:13:01.264Z"
   },
   {
    "duration": 207,
    "start_time": "2022-04-13T07:13:01.628Z"
   },
   {
    "duration": 21,
    "start_time": "2022-04-13T07:13:01.837Z"
   },
   {
    "duration": 15,
    "start_time": "2022-04-13T07:13:01.860Z"
   },
   {
    "duration": 14,
    "start_time": "2022-04-13T07:13:01.877Z"
   },
   {
    "duration": 39,
    "start_time": "2022-04-13T07:13:01.893Z"
   },
   {
    "duration": 7557,
    "start_time": "2022-04-13T07:13:01.934Z"
   },
   {
    "duration": 4,
    "start_time": "2022-04-13T07:13:25.265Z"
   },
   {
    "duration": 11,
    "start_time": "2022-04-13T07:13:25.271Z"
   },
   {
    "duration": 366,
    "start_time": "2022-04-13T07:13:25.284Z"
   },
   {
    "duration": 39,
    "start_time": "2022-04-13T07:13:25.652Z"
   },
   {
    "duration": 32,
    "start_time": "2022-04-13T07:13:25.694Z"
   },
   {
    "duration": 103,
    "start_time": "2022-04-13T07:13:25.728Z"
   },
   {
    "duration": 136,
    "start_time": "2022-04-13T07:13:25.833Z"
   },
   {
    "duration": 1447,
    "start_time": "2022-04-13T07:13:25.971Z"
   },
   {
    "duration": 32,
    "start_time": "2022-04-13T07:13:27.420Z"
   },
   {
    "duration": 366,
    "start_time": "2022-04-13T07:13:27.454Z"
   },
   {
    "duration": 106,
    "start_time": "2022-04-13T07:13:27.822Z"
   },
   {
    "duration": 19,
    "start_time": "2022-04-13T07:13:27.930Z"
   },
   {
    "duration": 68,
    "start_time": "2022-04-13T07:13:27.951Z"
   },
   {
    "duration": 107,
    "start_time": "2022-04-13T07:13:28.024Z"
   },
   {
    "duration": 25,
    "start_time": "2022-04-13T07:13:28.133Z"
   },
   {
    "duration": 360,
    "start_time": "2022-04-13T07:13:28.159Z"
   },
   {
    "duration": 125,
    "start_time": "2022-04-13T07:13:28.521Z"
   },
   {
    "duration": 3,
    "start_time": "2022-04-13T07:13:28.648Z"
   },
   {
    "duration": 15,
    "start_time": "2022-04-13T07:13:28.653Z"
   },
   {
    "duration": 13,
    "start_time": "2022-04-13T07:13:28.670Z"
   },
   {
    "duration": 25,
    "start_time": "2022-04-13T07:13:28.685Z"
   },
   {
    "duration": 7329,
    "start_time": "2022-04-13T07:13:28.712Z"
   },
   {
    "duration": 391,
    "start_time": "2022-04-13T07:15:06.528Z"
   },
   {
    "duration": 4,
    "start_time": "2022-04-13T07:19:06.206Z"
   },
   {
    "duration": 33,
    "start_time": "2022-04-13T07:19:06.213Z"
   },
   {
    "duration": 385,
    "start_time": "2022-04-13T07:19:06.248Z"
   },
   {
    "duration": 40,
    "start_time": "2022-04-13T07:19:06.635Z"
   },
   {
    "duration": 40,
    "start_time": "2022-04-13T07:19:06.678Z"
   },
   {
    "duration": 98,
    "start_time": "2022-04-13T07:19:06.720Z"
   },
   {
    "duration": 143,
    "start_time": "2022-04-13T07:19:06.820Z"
   },
   {
    "duration": 1362,
    "start_time": "2022-04-13T07:19:06.965Z"
   },
   {
    "duration": 33,
    "start_time": "2022-04-13T07:19:08.329Z"
   },
   {
    "duration": 362,
    "start_time": "2022-04-13T07:19:08.364Z"
   },
   {
    "duration": 105,
    "start_time": "2022-04-13T07:19:08.728Z"
   },
   {
    "duration": 21,
    "start_time": "2022-04-13T07:19:08.835Z"
   },
   {
    "duration": 61,
    "start_time": "2022-04-13T07:19:08.858Z"
   },
   {
    "duration": 102,
    "start_time": "2022-04-13T07:19:08.928Z"
   },
   {
    "duration": 24,
    "start_time": "2022-04-13T07:19:09.032Z"
   },
   {
    "duration": 361,
    "start_time": "2022-04-13T07:19:09.058Z"
   },
   {
    "duration": 253,
    "start_time": "2022-04-13T07:19:09.421Z"
   },
   {
    "duration": 4,
    "start_time": "2022-04-13T07:19:09.675Z"
   },
   {
    "duration": 11,
    "start_time": "2022-04-13T07:19:09.680Z"
   },
   {
    "duration": 12,
    "start_time": "2022-04-13T07:19:09.693Z"
   },
   {
    "duration": 31,
    "start_time": "2022-04-13T07:19:09.707Z"
   },
   {
    "duration": 7832,
    "start_time": "2022-04-13T07:19:14.715Z"
   }
  ],
  "colab": {
   "collapsed_sections": [],
   "name": "Project_2.3_v1_13.04.2022",
   "provenance": [],
   "toc_visible": true
  },
  "kernelspec": {
   "display_name": "Python 3 (ipykernel)",
   "language": "python",
   "name": "python3"
  },
  "language_info": {
   "codemirror_mode": {
    "name": "ipython",
    "version": 3
   },
   "file_extension": ".py",
   "mimetype": "text/x-python",
   "name": "python",
   "nbconvert_exporter": "python",
   "pygments_lexer": "ipython3",
   "version": "3.10.6"
  },
  "toc": {
   "base_numbering": 1,
   "nav_menu": {},
   "number_sections": false,
   "sideBar": true,
   "skip_h1_title": false,
   "title_cell": "Table of Contents",
   "title_sidebar": "Contents",
   "toc_cell": false,
   "toc_position": {
    "height": "calc(100% - 180px)",
    "left": "10px",
    "top": "150px",
    "width": "383.188px"
   },
   "toc_section_display": true,
   "toc_window_display": false
  }
 },
 "nbformat": 4,
 "nbformat_minor": 4
}
