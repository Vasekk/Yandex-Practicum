{
 "cells": [
  {
   "cell_type": "markdown",
   "metadata": {
    "id": "rTbnD8lLEDq2"
   },
   "source": [
    "# Исследование тарифов оператора сотовой связи\n",
    "\n",
    "Клиентам предлагают два тарифных плана: «Смарт» и «Ультра». Чтобы скорректировать рекламный бюджет, коммерческий департамент хочет понять, какой тариф приносит больше денег.\n",
    "\n",
    "Необходимо выполнить анализ тарифов на небольшой выборке клиентов. В распоряжении данные 500 пользователей «Мегалайна»: кто они, откуда, каким тарифом пользуются, сколько звонков и сообщений каждый отправил за 2018 год. Нужно проанализировать поведение клиентов и сделать вывод — какой тариф лучше.\n",
    "\n",
    "**Описание тарифов**\n",
    "\n",
    "*Тариф «Смарт»*\n",
    "- Ежемесячная плата: 550 рублей\n",
    "- Включено 500 минут разговора, 50 сообщений и 15 Гб интернет-трафика\n",
    "\n",
    "Стоимость услуг сверх тарифного пакета:\n",
    "- минута разговора: 3 рубля\n",
    "- сообщение: 3 рубля\n",
    "- 1 Гб интернет-трафика: 200 рублей\n",
    "\n",
    "*Тариф «Ультра»*\n",
    "- Ежемесячная плата: 1950 рублей\n",
    "- Включено 3000 минут разговора, 1000 сообщений и 30 Гб интернет-трафика\n",
    "\n",
    "Стоимость услуг сверх тарифного пакета:\n",
    "- минута разговора: 1 рубль\n",
    "- сообщение: 1 рубль\n",
    "- 1 Гб интернет-трафика: 150 рублей\n",
    "\n",
    "Данные содержаться в файлах 'users.csv', 'calls.csv', 'internet.csv', 'messages.csv', 'tariffs.csv'.\n",
    "Таблица users (информация о 500 пользователях):\n",
    "- user_id — уникальный идентификатор пользователя\n",
    "- first_name — имя пользователя\n",
    "- last_name — фамилия пользователя\n",
    "- age — возраст пользователя (годы)\n",
    "- reg_date — дата подключения тарифа (день, месяц, год)\n",
    "- churn_date — дата прекращения пользования тарифом (если значение пропущено, то тариф ещё действовал на момент выгрузки данных)\n",
    "- city — город проживания пользователя\n",
    "- tarif — название тарифного плана\n",
    "\n",
    "Таблица calls (информация о 202607 звонках):\n",
    "- id — уникальный номер звонка\n",
    "- call_date — дата звонка\n",
    "- duration — длительность звонка в минутах\n",
    "- user_id — идентификатор пользователя, сделавшего звонок\n",
    "\n",
    "Таблица messages (информация о 123036 сообщениях):\n",
    "- id — уникальный номер сообщения\n",
    "- message_date — дата сообщения\n",
    "- user_id — идентификатор пользователя, отправившего сообщение\n",
    "\n",
    "Таблица internet (информация об 149396 интернет-сессиях):\n",
    "- id — уникальный номер сессии\n",
    "- mb_used — объём потраченного за сессию интернет-трафика (в мегабайтах)\n",
    "- session_date — дата интернет-сессии\n",
    "- user_id — идентификатор пользователя\n",
    "\n",
    "Таблица tariffs (информация о тарифах):\n",
    "- tariff_name — название тарифа\n",
    "- rub_monthly_fee — ежемесячная абонентская плата в рублях\n",
    "- minutes_included — количество минут разговора в месяц, включённых в абонентскую плату\n",
    "- messages_included — количество сообщений в месяц, включённых в абонентскую плату\n",
    "- mb_per_month_included — объём интернет-трафика, включённого в абонентскую плату (в мегабайтах)\n",
    "- rub_per_minute — стоимость минуты разговора сверх тарифного пакета (например, если в тарифе 100 минут разговора в месяц, то со 101 минуты будет взиматься плата)\n",
    "- rub_per_message — стоимость отправки сообщения сверх тарифного пакета\n",
    "- rub_per_gb — стоимость дополнительного гигабайта интернет-трафика сверх тарифного пакета (1 гигабайт = 1024 мегабайта)\n",
    "\n",
    "<b> План исследования:</b>\n",
    "- Открыть и узичить файлы данных\n",
    "- Подготовить данные\n",
    "- Проанализировать данные\n",
    "- Проверить гитопетезы \n",
    "- Общие выводы"
   ]
  },
  {
   "cell_type": "code",
   "execution_count": 1,
   "metadata": {
    "colab": {
     "base_uri": "https://localhost:8080/"
    },
    "id": "ECZRFCfPEDq6",
    "outputId": "a671c7e3-b868-4da6-dc82-49e5d3af7284"
   },
   "outputs": [],
   "source": [
    "# Импорт библиотек\n",
    "import pandas as pd\n",
    "import numpy as np\n",
    "from scipy import stats as st\n",
    "#from google.colab import drive\n",
    "#drive.mount('/content/drive')"
   ]
  },
  {
   "cell_type": "code",
   "execution_count": 2,
   "metadata": {},
   "outputs": [],
   "source": [
    "pd.set_option('display.float_format', '{:,.2f}'.format)"
   ]
  },
  {
   "cell_type": "markdown",
   "metadata": {
    "id": "hwcxjCNOEDq3"
   },
   "source": [
    "## Шаг 1. Открытие файлов с данными и изучение общей информации"
   ]
  },
  {
   "cell_type": "code",
   "execution_count": 3,
   "metadata": {
    "colab": {
     "base_uri": "https://localhost:8080/",
     "height": 467
    },
    "id": "qmiD9FznEDq8",
    "outputId": "7d661ecf-5e81-4089-c77a-1f6afdf52686"
   },
   "outputs": [
    {
     "name": "stdout",
     "output_type": "stream",
     "text": [
      "<class 'pandas.core.frame.DataFrame'>\n",
      "RangeIndex: 500 entries, 0 to 499\n",
      "Data columns (total 8 columns):\n",
      " #   Column      Non-Null Count  Dtype \n",
      "---  ------      --------------  ----- \n",
      " 0   user_id     500 non-null    int64 \n",
      " 1   age         500 non-null    int64 \n",
      " 2   churn_date  38 non-null     object\n",
      " 3   city        500 non-null    object\n",
      " 4   first_name  500 non-null    object\n",
      " 5   last_name   500 non-null    object\n",
      " 6   reg_date    500 non-null    object\n",
      " 7   tariff      500 non-null    object\n",
      "dtypes: int64(2), object(6)\n",
      "memory usage: 31.4+ KB\n"
     ]
    },
    {
     "data": {
      "text/html": [
       "<div>\n",
       "<style scoped>\n",
       "    .dataframe tbody tr th:only-of-type {\n",
       "        vertical-align: middle;\n",
       "    }\n",
       "\n",
       "    .dataframe tbody tr th {\n",
       "        vertical-align: top;\n",
       "    }\n",
       "\n",
       "    .dataframe thead th {\n",
       "        text-align: right;\n",
       "    }\n",
       "</style>\n",
       "<table border=\"1\" class=\"dataframe\">\n",
       "  <thead>\n",
       "    <tr style=\"text-align: right;\">\n",
       "      <th></th>\n",
       "      <th>user_id</th>\n",
       "      <th>age</th>\n",
       "      <th>churn_date</th>\n",
       "      <th>city</th>\n",
       "      <th>first_name</th>\n",
       "      <th>last_name</th>\n",
       "      <th>reg_date</th>\n",
       "      <th>tariff</th>\n",
       "    </tr>\n",
       "  </thead>\n",
       "  <tbody>\n",
       "    <tr>\n",
       "      <th>0</th>\n",
       "      <td>1000</td>\n",
       "      <td>52</td>\n",
       "      <td>NaN</td>\n",
       "      <td>Краснодар</td>\n",
       "      <td>Рафаил</td>\n",
       "      <td>Верещагин</td>\n",
       "      <td>2018-05-25</td>\n",
       "      <td>ultra</td>\n",
       "    </tr>\n",
       "    <tr>\n",
       "      <th>1</th>\n",
       "      <td>1001</td>\n",
       "      <td>41</td>\n",
       "      <td>NaN</td>\n",
       "      <td>Москва</td>\n",
       "      <td>Иван</td>\n",
       "      <td>Ежов</td>\n",
       "      <td>2018-11-01</td>\n",
       "      <td>smart</td>\n",
       "    </tr>\n",
       "    <tr>\n",
       "      <th>2</th>\n",
       "      <td>1002</td>\n",
       "      <td>59</td>\n",
       "      <td>NaN</td>\n",
       "      <td>Стерлитамак</td>\n",
       "      <td>Евгений</td>\n",
       "      <td>Абрамович</td>\n",
       "      <td>2018-06-17</td>\n",
       "      <td>smart</td>\n",
       "    </tr>\n",
       "    <tr>\n",
       "      <th>3</th>\n",
       "      <td>1003</td>\n",
       "      <td>23</td>\n",
       "      <td>NaN</td>\n",
       "      <td>Москва</td>\n",
       "      <td>Белла</td>\n",
       "      <td>Белякова</td>\n",
       "      <td>2018-08-17</td>\n",
       "      <td>ultra</td>\n",
       "    </tr>\n",
       "    <tr>\n",
       "      <th>4</th>\n",
       "      <td>1004</td>\n",
       "      <td>68</td>\n",
       "      <td>NaN</td>\n",
       "      <td>Новокузнецк</td>\n",
       "      <td>Татьяна</td>\n",
       "      <td>Авдеенко</td>\n",
       "      <td>2018-05-14</td>\n",
       "      <td>ultra</td>\n",
       "    </tr>\n",
       "  </tbody>\n",
       "</table>\n",
       "</div>"
      ],
      "text/plain": [
       "   user_id  age churn_date         city first_name  last_name    reg_date  \\\n",
       "0     1000   52        NaN    Краснодар     Рафаил  Верещагин  2018-05-25   \n",
       "1     1001   41        NaN       Москва       Иван       Ежов  2018-11-01   \n",
       "2     1002   59        NaN  Стерлитамак    Евгений  Абрамович  2018-06-17   \n",
       "3     1003   23        NaN       Москва      Белла   Белякова  2018-08-17   \n",
       "4     1004   68        NaN  Новокузнецк    Татьяна   Авдеенко  2018-05-14   \n",
       "\n",
       "  tariff  \n",
       "0  ultra  \n",
       "1  smart  \n",
       "2  smart  \n",
       "3  ultra  \n",
       "4  ultra  "
      ]
     },
     "execution_count": 3,
     "metadata": {},
     "output_type": "execute_result"
    }
   ],
   "source": [
    "users = pd.read_csv('f:/Yandex-Practicum/datasets/users.csv') # чтение данных \n",
    "users.info() # просмотр размера таблицы, типов данных, количества non-null\n",
    "users.head() # просмотр первых строк данных"
   ]
  },
  {
   "cell_type": "code",
   "execution_count": 4,
   "metadata": {
    "colab": {
     "base_uri": "https://localhost:8080/",
     "height": 397
    },
    "id": "kGqacJeSEDq7",
    "outputId": "b45434cd-2b46-4573-8ba0-7d07a84addf0",
    "scrolled": true
   },
   "outputs": [
    {
     "name": "stdout",
     "output_type": "stream",
     "text": [
      "<class 'pandas.core.frame.DataFrame'>\n",
      "RangeIndex: 202607 entries, 0 to 202606\n",
      "Data columns (total 4 columns):\n",
      " #   Column     Non-Null Count   Dtype  \n",
      "---  ------     --------------   -----  \n",
      " 0   id         202607 non-null  object \n",
      " 1   call_date  202607 non-null  object \n",
      " 2   duration   202607 non-null  float64\n",
      " 3   user_id    202607 non-null  int64  \n",
      "dtypes: float64(1), int64(1), object(2)\n",
      "memory usage: 6.2+ MB\n"
     ]
    },
    {
     "data": {
      "text/html": [
       "<div>\n",
       "<style scoped>\n",
       "    .dataframe tbody tr th:only-of-type {\n",
       "        vertical-align: middle;\n",
       "    }\n",
       "\n",
       "    .dataframe tbody tr th {\n",
       "        vertical-align: top;\n",
       "    }\n",
       "\n",
       "    .dataframe thead th {\n",
       "        text-align: right;\n",
       "    }\n",
       "</style>\n",
       "<table border=\"1\" class=\"dataframe\">\n",
       "  <thead>\n",
       "    <tr style=\"text-align: right;\">\n",
       "      <th></th>\n",
       "      <th>id</th>\n",
       "      <th>call_date</th>\n",
       "      <th>duration</th>\n",
       "      <th>user_id</th>\n",
       "    </tr>\n",
       "  </thead>\n",
       "  <tbody>\n",
       "    <tr>\n",
       "      <th>0</th>\n",
       "      <td>1000_0</td>\n",
       "      <td>2018-07-25</td>\n",
       "      <td>0.00</td>\n",
       "      <td>1000</td>\n",
       "    </tr>\n",
       "    <tr>\n",
       "      <th>1</th>\n",
       "      <td>1000_1</td>\n",
       "      <td>2018-08-17</td>\n",
       "      <td>0.00</td>\n",
       "      <td>1000</td>\n",
       "    </tr>\n",
       "    <tr>\n",
       "      <th>2</th>\n",
       "      <td>1000_2</td>\n",
       "      <td>2018-06-11</td>\n",
       "      <td>2.85</td>\n",
       "      <td>1000</td>\n",
       "    </tr>\n",
       "    <tr>\n",
       "      <th>3</th>\n",
       "      <td>1000_3</td>\n",
       "      <td>2018-09-21</td>\n",
       "      <td>13.80</td>\n",
       "      <td>1000</td>\n",
       "    </tr>\n",
       "    <tr>\n",
       "      <th>4</th>\n",
       "      <td>1000_4</td>\n",
       "      <td>2018-12-15</td>\n",
       "      <td>5.18</td>\n",
       "      <td>1000</td>\n",
       "    </tr>\n",
       "  </tbody>\n",
       "</table>\n",
       "</div>"
      ],
      "text/plain": [
       "       id   call_date  duration  user_id\n",
       "0  1000_0  2018-07-25      0.00     1000\n",
       "1  1000_1  2018-08-17      0.00     1000\n",
       "2  1000_2  2018-06-11      2.85     1000\n",
       "3  1000_3  2018-09-21     13.80     1000\n",
       "4  1000_4  2018-12-15      5.18     1000"
      ]
     },
     "execution_count": 4,
     "metadata": {},
     "output_type": "execute_result"
    }
   ],
   "source": [
    "calls = pd.read_csv('f:/Yandex-Practicum/datasets/calls.csv') # чтение данных \n",
    "calls.info() # просмотр размера таблицы, типов данных, количества non-null\n",
    "calls.head() # просмотр первых строк данных"
   ]
  },
  {
   "cell_type": "code",
   "execution_count": 5,
   "metadata": {
    "colab": {
     "base_uri": "https://localhost:8080/",
     "height": 414
    },
    "id": "wBc48u_wMOnw",
    "outputId": "ff78d425-4ef0-4c5e-a147-9e6d12d258ac"
   },
   "outputs": [
    {
     "name": "stdout",
     "output_type": "stream",
     "text": [
      "<class 'pandas.core.frame.DataFrame'>\n",
      "RangeIndex: 149396 entries, 0 to 149395\n",
      "Data columns (total 5 columns):\n",
      " #   Column        Non-Null Count   Dtype  \n",
      "---  ------        --------------   -----  \n",
      " 0   Unnamed: 0    149396 non-null  int64  \n",
      " 1   id            149396 non-null  object \n",
      " 2   mb_used       149396 non-null  float64\n",
      " 3   session_date  149396 non-null  object \n",
      " 4   user_id       149396 non-null  int64  \n",
      "dtypes: float64(1), int64(2), object(2)\n",
      "memory usage: 5.7+ MB\n"
     ]
    },
    {
     "data": {
      "text/html": [
       "<div>\n",
       "<style scoped>\n",
       "    .dataframe tbody tr th:only-of-type {\n",
       "        vertical-align: middle;\n",
       "    }\n",
       "\n",
       "    .dataframe tbody tr th {\n",
       "        vertical-align: top;\n",
       "    }\n",
       "\n",
       "    .dataframe thead th {\n",
       "        text-align: right;\n",
       "    }\n",
       "</style>\n",
       "<table border=\"1\" class=\"dataframe\">\n",
       "  <thead>\n",
       "    <tr style=\"text-align: right;\">\n",
       "      <th></th>\n",
       "      <th>Unnamed: 0</th>\n",
       "      <th>id</th>\n",
       "      <th>mb_used</th>\n",
       "      <th>session_date</th>\n",
       "      <th>user_id</th>\n",
       "    </tr>\n",
       "  </thead>\n",
       "  <tbody>\n",
       "    <tr>\n",
       "      <th>0</th>\n",
       "      <td>0</td>\n",
       "      <td>1000_0</td>\n",
       "      <td>112.95</td>\n",
       "      <td>2018-11-25</td>\n",
       "      <td>1000</td>\n",
       "    </tr>\n",
       "    <tr>\n",
       "      <th>1</th>\n",
       "      <td>1</td>\n",
       "      <td>1000_1</td>\n",
       "      <td>1,052.81</td>\n",
       "      <td>2018-09-07</td>\n",
       "      <td>1000</td>\n",
       "    </tr>\n",
       "    <tr>\n",
       "      <th>2</th>\n",
       "      <td>2</td>\n",
       "      <td>1000_2</td>\n",
       "      <td>1,197.26</td>\n",
       "      <td>2018-06-25</td>\n",
       "      <td>1000</td>\n",
       "    </tr>\n",
       "    <tr>\n",
       "      <th>3</th>\n",
       "      <td>3</td>\n",
       "      <td>1000_3</td>\n",
       "      <td>550.27</td>\n",
       "      <td>2018-08-22</td>\n",
       "      <td>1000</td>\n",
       "    </tr>\n",
       "    <tr>\n",
       "      <th>4</th>\n",
       "      <td>4</td>\n",
       "      <td>1000_4</td>\n",
       "      <td>302.56</td>\n",
       "      <td>2018-09-24</td>\n",
       "      <td>1000</td>\n",
       "    </tr>\n",
       "  </tbody>\n",
       "</table>\n",
       "</div>"
      ],
      "text/plain": [
       "   Unnamed: 0      id  mb_used session_date  user_id\n",
       "0           0  1000_0   112.95   2018-11-25     1000\n",
       "1           1  1000_1 1,052.81   2018-09-07     1000\n",
       "2           2  1000_2 1,197.26   2018-06-25     1000\n",
       "3           3  1000_3   550.27   2018-08-22     1000\n",
       "4           4  1000_4   302.56   2018-09-24     1000"
      ]
     },
     "execution_count": 5,
     "metadata": {},
     "output_type": "execute_result"
    }
   ],
   "source": [
    "internet = pd.read_csv('f:/Yandex-Practicum/datasets/internet.csv', index_col=False) # чтение данных \n",
    "internet.info() # просмотр размера таблицы, типов данных, количества non-null\n",
    "internet.head() # просмотр первых строк данных"
   ]
  },
  {
   "cell_type": "code",
   "execution_count": 6,
   "metadata": {
    "colab": {
     "base_uri": "https://localhost:8080/",
     "height": 380
    },
    "id": "aoE0Kz-tMPYf",
    "outputId": "37b4e4d2-9df0-4529-936b-aab4db3a74dc"
   },
   "outputs": [
    {
     "name": "stdout",
     "output_type": "stream",
     "text": [
      "<class 'pandas.core.frame.DataFrame'>\n",
      "RangeIndex: 123036 entries, 0 to 123035\n",
      "Data columns (total 3 columns):\n",
      " #   Column        Non-Null Count   Dtype \n",
      "---  ------        --------------   ----- \n",
      " 0   id            123036 non-null  object\n",
      " 1   message_date  123036 non-null  object\n",
      " 2   user_id       123036 non-null  int64 \n",
      "dtypes: int64(1), object(2)\n",
      "memory usage: 2.8+ MB\n"
     ]
    },
    {
     "data": {
      "text/html": [
       "<div>\n",
       "<style scoped>\n",
       "    .dataframe tbody tr th:only-of-type {\n",
       "        vertical-align: middle;\n",
       "    }\n",
       "\n",
       "    .dataframe tbody tr th {\n",
       "        vertical-align: top;\n",
       "    }\n",
       "\n",
       "    .dataframe thead th {\n",
       "        text-align: right;\n",
       "    }\n",
       "</style>\n",
       "<table border=\"1\" class=\"dataframe\">\n",
       "  <thead>\n",
       "    <tr style=\"text-align: right;\">\n",
       "      <th></th>\n",
       "      <th>id</th>\n",
       "      <th>message_date</th>\n",
       "      <th>user_id</th>\n",
       "    </tr>\n",
       "  </thead>\n",
       "  <tbody>\n",
       "    <tr>\n",
       "      <th>0</th>\n",
       "      <td>1000_0</td>\n",
       "      <td>2018-06-27</td>\n",
       "      <td>1000</td>\n",
       "    </tr>\n",
       "    <tr>\n",
       "      <th>1</th>\n",
       "      <td>1000_1</td>\n",
       "      <td>2018-10-08</td>\n",
       "      <td>1000</td>\n",
       "    </tr>\n",
       "    <tr>\n",
       "      <th>2</th>\n",
       "      <td>1000_2</td>\n",
       "      <td>2018-08-04</td>\n",
       "      <td>1000</td>\n",
       "    </tr>\n",
       "    <tr>\n",
       "      <th>3</th>\n",
       "      <td>1000_3</td>\n",
       "      <td>2018-06-16</td>\n",
       "      <td>1000</td>\n",
       "    </tr>\n",
       "    <tr>\n",
       "      <th>4</th>\n",
       "      <td>1000_4</td>\n",
       "      <td>2018-12-05</td>\n",
       "      <td>1000</td>\n",
       "    </tr>\n",
       "  </tbody>\n",
       "</table>\n",
       "</div>"
      ],
      "text/plain": [
       "       id message_date  user_id\n",
       "0  1000_0   2018-06-27     1000\n",
       "1  1000_1   2018-10-08     1000\n",
       "2  1000_2   2018-08-04     1000\n",
       "3  1000_3   2018-06-16     1000\n",
       "4  1000_4   2018-12-05     1000"
      ]
     },
     "execution_count": 6,
     "metadata": {},
     "output_type": "execute_result"
    }
   ],
   "source": [
    "messages = pd.read_csv('f:/Yandex-Practicum/datasets/messages.csv') # чтение данных \n",
    "messages.info() # просмотр размера таблицы, типов данных, количества non-null\n",
    "messages.head() # просмотр первых строк данных"
   ]
  },
  {
   "cell_type": "code",
   "execution_count": 7,
   "metadata": {
    "colab": {
     "base_uri": "https://localhost:8080/",
     "height": 372
    },
    "id": "axdE2UOwMPmB",
    "outputId": "da62501b-25b4-41f1-8da7-b9da9d6c077b"
   },
   "outputs": [
    {
     "name": "stdout",
     "output_type": "stream",
     "text": [
      "<class 'pandas.core.frame.DataFrame'>\n",
      "RangeIndex: 2 entries, 0 to 1\n",
      "Data columns (total 8 columns):\n",
      " #   Column                 Non-Null Count  Dtype \n",
      "---  ------                 --------------  ----- \n",
      " 0   messages_included      2 non-null      int64 \n",
      " 1   mb_per_month_included  2 non-null      int64 \n",
      " 2   minutes_included       2 non-null      int64 \n",
      " 3   rub_monthly_fee        2 non-null      int64 \n",
      " 4   rub_per_gb             2 non-null      int64 \n",
      " 5   rub_per_message        2 non-null      int64 \n",
      " 6   rub_per_minute         2 non-null      int64 \n",
      " 7   tariff_name            2 non-null      object\n",
      "dtypes: int64(7), object(1)\n",
      "memory usage: 256.0+ bytes\n"
     ]
    },
    {
     "data": {
      "text/html": [
       "<div>\n",
       "<style scoped>\n",
       "    .dataframe tbody tr th:only-of-type {\n",
       "        vertical-align: middle;\n",
       "    }\n",
       "\n",
       "    .dataframe tbody tr th {\n",
       "        vertical-align: top;\n",
       "    }\n",
       "\n",
       "    .dataframe thead th {\n",
       "        text-align: right;\n",
       "    }\n",
       "</style>\n",
       "<table border=\"1\" class=\"dataframe\">\n",
       "  <thead>\n",
       "    <tr style=\"text-align: right;\">\n",
       "      <th></th>\n",
       "      <th>messages_included</th>\n",
       "      <th>mb_per_month_included</th>\n",
       "      <th>minutes_included</th>\n",
       "      <th>rub_monthly_fee</th>\n",
       "      <th>rub_per_gb</th>\n",
       "      <th>rub_per_message</th>\n",
       "      <th>rub_per_minute</th>\n",
       "      <th>tariff_name</th>\n",
       "    </tr>\n",
       "  </thead>\n",
       "  <tbody>\n",
       "    <tr>\n",
       "      <th>0</th>\n",
       "      <td>50</td>\n",
       "      <td>15360</td>\n",
       "      <td>500</td>\n",
       "      <td>550</td>\n",
       "      <td>200</td>\n",
       "      <td>3</td>\n",
       "      <td>3</td>\n",
       "      <td>smart</td>\n",
       "    </tr>\n",
       "    <tr>\n",
       "      <th>1</th>\n",
       "      <td>1000</td>\n",
       "      <td>30720</td>\n",
       "      <td>3000</td>\n",
       "      <td>1950</td>\n",
       "      <td>150</td>\n",
       "      <td>1</td>\n",
       "      <td>1</td>\n",
       "      <td>ultra</td>\n",
       "    </tr>\n",
       "  </tbody>\n",
       "</table>\n",
       "</div>"
      ],
      "text/plain": [
       "   messages_included  mb_per_month_included  minutes_included  \\\n",
       "0                 50                  15360               500   \n",
       "1               1000                  30720              3000   \n",
       "\n",
       "   rub_monthly_fee  rub_per_gb  rub_per_message  rub_per_minute tariff_name  \n",
       "0              550         200                3               3       smart  \n",
       "1             1950         150                1               1       ultra  "
      ]
     },
     "execution_count": 7,
     "metadata": {},
     "output_type": "execute_result"
    }
   ],
   "source": [
    "tariffs = pd.read_csv('f:/Yandex-Practicum/datasets/tariffs.csv') # чтение данных \n",
    "tariffs.info() # просмотр размера таблицы, типов данных, количества non-null\n",
    "tariffs.head() # просмотр первых строк данных"
   ]
  },
  {
   "cell_type": "markdown",
   "metadata": {
    "id": "4i6kaQeBEDq9"
   },
   "source": [
    "### Вывод\n",
    "Данные загружены, есть пропуски в столбце churn_date"
   ]
  },
  {
   "cell_type": "markdown",
   "metadata": {
    "id": "y_HCiaskEDq-"
   },
   "source": [
    "## Шаг 2. Подготовка данных"
   ]
  },
  {
   "cell_type": "markdown",
   "metadata": {
    "id": "i6BB7PEAEDq_"
   },
   "source": [
    "### План подготовки данных\n",
    "\n",
    "1. Проверить наличие пропусков в данных, заполнить пропуски\n",
    "\n",
    "2. Преобразовать даты в datetime, вещественные данные в целочисленные, если возможно\n",
    "\n",
    "3. Проверить наличие дубликатов, обработать дубликаты\n",
    "\n",
    "4. Найти и исправить ошибки в данных, если они есть (пропущенные звонки с 0 длительностью не ошибки!)\n",
    "\n",
    "5. Посчитать для каждого пользователя:\n",
    "- количество сделанных звонков и израсходованных минут разговора по месяцам;\n",
    "- количество отправленных сообщений по месяцам;\n",
    "- объем израсходованного интернет-трафика по месяцам;\n",
    "- помесячную выручку с каждого пользователя (вычтите бесплатный лимит из суммарного количества звонков, сообщений и интернет-трафика; остаток умножьте на значение из тарифного плана; прибавьте абонентскую плату, соответствующую тарифному плану)."
   ]
  },
  {
   "cell_type": "markdown",
   "metadata": {
    "id": "UXXdoW87EDq_"
   },
   "source": [
    "### 2.1. Обработка пропусков\n",
    "\n",
    "В данных о пользователях имеется столбец с пропусками в дате прекращения пользования тарифом у тех, кто не прекратил пользоваться. Другие таблицы без пропусков.\n"
   ]
  },
  {
   "cell_type": "code",
   "execution_count": 8,
   "metadata": {
    "colab": {
     "base_uri": "https://localhost:8080/"
    },
    "id": "xjrvUVtEEDrA",
    "outputId": "4adc5da4-9938-4839-fa54-dea745c98aaa"
   },
   "outputs": [
    {
     "data": {
      "text/plain": [
       "user_id         0\n",
       "age             0\n",
       "churn_date    462\n",
       "city            0\n",
       "first_name      0\n",
       "last_name       0\n",
       "reg_date        0\n",
       "tariff          0\n",
       "dtype: int64"
      ]
     },
     "execution_count": 8,
     "metadata": {},
     "output_type": "execute_result"
    }
   ],
   "source": [
    "users.isna().sum() #Количество пропущенных значений"
   ]
  },
  {
   "cell_type": "markdown",
   "metadata": {
    "id": "Mh0KeIaCEDrA"
   },
   "source": [
    "462 клиента не прекратили пользоваться тарифами, поэтому пропущена дата окончаний использования.\n"
   ]
  },
  {
   "cell_type": "markdown",
   "metadata": {
    "id": "o1jcnwf3EDrB"
   },
   "source": [
    "Варианты заполнения пропусков \n",
    "1. Пропуски значений \"дата отключений\" заполнить датой подключения, чтобы их разность была равна нулю - \"заметное\" значение для дальнейшего анализа.\n",
    "2. Заполнить пропуски датой выгрузки данных \n",
    "3. **Исключить даты регистрации и отключения, т.к. не используются для дальнейшего анализа**"
   ]
  },
  {
   "cell_type": "code",
   "execution_count": 9,
   "metadata": {},
   "outputs": [],
   "source": [
    "users.drop(['churn_date', 'reg_date'], axis=1, inplace=True)"
   ]
  },
  {
   "cell_type": "markdown",
   "metadata": {
    "id": "8_swz0NAEDrG"
   },
   "source": [
    "### 2.2. Замена типа данных"
   ]
  },
  {
   "cell_type": "markdown",
   "metadata": {
    "id": "nt7ztkNqWnHe"
   },
   "source": [
    "Перевод дат в datetime, добавление столбца Месяц \n",
    "\n",
    "\n"
   ]
  },
  {
   "cell_type": "code",
   "execution_count": 10,
   "metadata": {
    "id": "MPX1qwLWEDrG"
   },
   "outputs": [],
   "source": [
    "#users['reg_date'] = pd.to_datetime(users['reg_date'], format='%Y-%m-%d')\n",
    "#users['churn_date'] = pd.to_datetime(users['churn_date'], format='%Y-%m-%d')\n",
    "#print('' if users[users['reg_date'] == users['churn_date']]['reg_date'].count() == 462 else 'Заменить способ заполнения пустых дат отключения') \n",
    "#определение количества совпатений дат подключения и отключения клиентов, заполнено 462 значения даты отключения\n",
    "calls['call_date'] = pd.to_datetime(calls['call_date'], format='%Y-%m-%d')\n",
    "internet['session_date'] = pd.to_datetime(internet['session_date'], format='%Y-%m-%d')\n",
    "messages['message_date'] = pd.to_datetime(messages['message_date'], format='%Y-%m-%d')\n",
    "\n",
    "\n",
    "calls['month'] = calls['call_date'].dt.month\n",
    "internet['month'] = internet['session_date'].dt.month\n",
    "messages['month'] = messages['message_date'].dt.month\n",
    "\n"
   ]
  },
  {
   "cell_type": "code",
   "execution_count": 11,
   "metadata": {
    "colab": {
     "base_uri": "https://localhost:8080/"
    },
    "id": "yvCym-fxyKRg",
    "outputId": "d04521f5-e402-4500-ab50-3430b9066b71"
   },
   "outputs": [
    {
     "data": {
      "text/plain": [
       "id                   object\n",
       "call_date    datetime64[ns]\n",
       "duration              int32\n",
       "user_id               int64\n",
       "month                 int64\n",
       "dtype: object"
      ]
     },
     "execution_count": 11,
     "metadata": {},
     "output_type": "execute_result"
    }
   ],
   "source": [
    "calls['duration'].where(calls['duration'] == 0, np.ceil(calls['duration']), inplace=True)\n",
    "calls['duration'] = calls['duration'].astype(int)\n",
    "calls.dtypes"
   ]
  },
  {
   "cell_type": "markdown",
   "metadata": {
    "id": "L1HbwhCEeUbj"
   },
   "source": [
    "**Вывод**\n",
    "\n",
    "Все даты переведены в datetime.\n",
    "\n",
    "Добавлены столбцы Месяц.\n",
    "\n",
    "Длительность звонков округлена вверх и преобразована в целые значения."
   ]
  },
  {
   "cell_type": "markdown",
   "metadata": {
    "id": "B2yaxyXyEDrG"
   },
   "source": [
    "### 2.3. Обработка дубликатов"
   ]
  },
  {
   "cell_type": "code",
   "execution_count": 12,
   "metadata": {
    "colab": {
     "base_uri": "https://localhost:8080/"
    },
    "id": "V8XDsGF-EDrK",
    "outputId": "9cf38946-d41c-400d-f9de-0f4173edb03b"
   },
   "outputs": [
    {
     "name": "stdout",
     "output_type": "stream",
     "text": [
      "Явных дубликатов пользователей: 0 \n",
      " Явных дубликатов звонков: 0 \n",
      " Явных дубликатов интернет сессий: 0 \n",
      " Явных дубликатов сообщений: 0\n"
     ]
    }
   ],
   "source": [
    "# число явных дубликатов, число явных дубликатов в данных без пропусков\n",
    "print('Явных дубликатов пользователей:', users.duplicated().sum(),'\\n', \n",
    "      'Явных дубликатов звонков:', calls.duplicated().sum(),'\\n', \n",
    "      'Явных дубликатов интернет сессий:', internet.duplicated().sum(),'\\n', \n",
    "      'Явных дубликатов сообщений:', messages.duplicated().sum())"
   ]
  },
  {
   "cell_type": "markdown",
   "metadata": {
    "id": "HqOCL17MEDrL"
   },
   "source": [
    "**Вывод**\n",
    "\n",
    "Явных дубликатов в данных нет"
   ]
  },
  {
   "cell_type": "markdown",
   "metadata": {
    "id": "t6VM9ZjOEDrM"
   },
   "source": [
    "### 2.4. Найти и исправить ошибки в данных"
   ]
  },
  {
   "cell_type": "code",
   "execution_count": 13,
   "metadata": {
    "colab": {
     "base_uri": "https://localhost:8080/"
    },
    "id": "DWjMNuJwlYXW",
    "outputId": "59429534-c37a-4249-a02e-75cfaeb3ff85"
   },
   "outputs": [
    {
     "name": "stdout",
     "output_type": "stream",
     "text": [
      "       user_id    age\n",
      "count   500.00 500.00\n",
      "mean  1,249.50  46.59\n",
      "std     144.48  16.67\n",
      "min   1,000.00  18.00\n",
      "25%   1,124.75  32.00\n",
      "50%   1,249.50  46.00\n",
      "75%   1,374.25  62.00\n",
      "max   1,499.00  75.00\n",
      "        duration    user_id      month\n",
      "count 202,607.00 202,607.00 202,607.00\n",
      "mean        7.16   1,253.94       8.57\n",
      "std         5.96     144.72       2.79\n",
      "min         0.00   1,000.00       1.00\n",
      "25%         2.00   1,126.00       7.00\n",
      "50%         6.00   1,260.00       9.00\n",
      "75%        11.00   1,379.00      11.00\n",
      "max        38.00   1,499.00      12.00\n",
      "       Unnamed: 0    mb_used    user_id      month\n",
      "count  149,396.00 149,396.00 149,396.00 149,396.00\n",
      "mean    74,697.50     370.19   1,252.10       8.56\n",
      "std     43,127.05     278.30     144.05       2.79\n",
      "min          0.00       0.00   1,000.00       1.00\n",
      "25%     37,348.75     138.19   1,130.00       7.00\n",
      "50%     74,697.50     348.01   1,251.00       9.00\n",
      "75%    112,046.25     559.55   1,380.00      11.00\n",
      "max    149,395.00   1,724.83   1,499.00      12.00\n",
      "         user_id      month\n",
      "count 123,036.00 123,036.00\n",
      "mean    1,256.99       8.63\n",
      "std       143.52       2.75\n",
      "min     1,000.00       1.00\n",
      "25%     1,134.00       7.00\n",
      "50%     1,271.00       9.00\n",
      "75%     1,381.00      11.00\n",
      "max     1,499.00      12.00\n"
     ]
    }
   ],
   "source": [
    "print(users.describe())\n",
    "print(calls.describe())\n",
    "print(internet.describe())\n",
    "print(messages.describe())"
   ]
  },
  {
   "cell_type": "markdown",
   "metadata": {
    "id": "26VhIPB3o264"
   },
   "source": [
    "В таблице Internet есть лишний столбец 'Unnamed: 0' с порядковым номером сессии, его можно удалить.\n",
    "Также присутствуют около 20 тысяч записей с нулевым трафиком, их тоже удаляю."
   ]
  },
  {
   "cell_type": "code",
   "execution_count": 14,
   "metadata": {
    "id": "f7fGyIx2oIim"
   },
   "outputs": [
    {
     "name": "stdout",
     "output_type": "stream",
     "text": [
      "(149396, 5)\n"
     ]
    }
   ],
   "source": [
    "if 'Unnamed: 0' in internet.columns:\n",
    "    internet.drop('Unnamed: 0', axis=1, inplace=True)\n",
    "internet.columns\n",
    "print(internet.shape)\n",
    "internet = internet.query('mb_used > 0')"
   ]
  },
  {
   "cell_type": "code",
   "execution_count": 15,
   "metadata": {
    "id": "zmg7K6tfuOjx",
    "scrolled": true
   },
   "outputs": [
    {
     "data": {
      "image/png": "[encoded data removed]",
      "text/plain": [
       "<Figure size 640x480 with 1 Axes>"
      ]
     },
     "metadata": {},
     "output_type": "display_data"
    }
   ],
   "source": [
    "calls['duration'].hist(bins=100);"
   ]
  },
  {
   "cell_type": "code",
   "execution_count": 16,
   "metadata": {},
   "outputs": [],
   "source": [
    "calls = calls.query('duration > 0')"
   ]
  },
  {
   "cell_type": "code",
   "execution_count": 17,
   "metadata": {},
   "outputs": [
    {
     "data": {
      "image/png": "[encoded data removed]",
      "text/plain": [
       "<Figure size 640x480 with 1 Axes>"
      ]
     },
     "metadata": {},
     "output_type": "display_data"
    }
   ],
   "source": [
    "calls['duration'].hist(bins=100);"
   ]
  },
  {
   "cell_type": "code",
   "execution_count": 18,
   "metadata": {
    "id": "iEDwjz1Bu5DA"
   },
   "outputs": [
    {
     "data": {
      "image/png": "[encoded data removed]",
      "text/plain": [
       "<Figure size 640x480 with 1 Axes>"
      ]
     },
     "metadata": {},
     "output_type": "display_data"
    }
   ],
   "source": [
    "internet['mb_used'].hist(bins=100);"
   ]
  },
  {
   "cell_type": "code",
   "execution_count": 19,
   "metadata": {
    "id": "j67m1anFvH2_"
   },
   "outputs": [
    {
     "data": {
      "image/png": "[encoded data removed]",
      "text/plain": [
       "<Figure size 640x480 with 4 Axes>"
      ]
     },
     "metadata": {},
     "output_type": "display_data"
    }
   ],
   "source": [
    "messages.hist(bins=100);"
   ]
  },
  {
   "cell_type": "markdown",
   "metadata": {
    "id": "PsFgIf46qq8F"
   },
   "source": [
    "**Вывод**\n",
    "\n",
    "В Таблице интернет сессий удалены около 20 тысяч записей с нулевым трафиком "
   ]
  },
  {
   "cell_type": "markdown",
   "metadata": {
    "id": "Q3qdyjW3rQBA"
   },
   "source": [
    "### 2.5. Расчет значений для каждого пользователя:\n",
    "\n",
    "- количество сделанных звонков и израсходованных минут разговора по месяцам;\n",
    "- количество отправленных сообщений по месяцам;\n",
    "- объем израсходованного интернет-трафика по месяцам;\n",
    "- помесячную выручку с каждого пользователя (вычтите бесплатный лимит из суммарного количества звонков, сообщений и интернет-трафика; остаток умножьте на значение из тарифного плана; прибавьте абонентскую плату, соответствующую тарифному плану)."
   ]
  },
  {
   "cell_type": "code",
   "execution_count": 20,
   "metadata": {
    "id": "o-wR14ORrPwX"
   },
   "outputs": [],
   "source": [
    "#количество сделанных звонков и израсходованных минут разговора по месяцам;\n",
    "calls_per_month = calls[calls['duration']>0].pivot_table(index=['user_id', 'month'], values='duration', aggfunc=['sum','count'])\n",
    "calls_per_month.columns = ['calls_sum','calls_count']\n",
    "#calls_per_month"
   ]
  },
  {
   "cell_type": "code",
   "execution_count": 21,
   "metadata": {
    "id": "h6KfGcoEoOgw"
   },
   "outputs": [],
   "source": [
    "#объем израсходованного интернет-трафика по месяцам;\n",
    "internet_per_month = internet.pivot_table(index=['user_id', 'month'], values='mb_used', aggfunc='sum')\n",
    "#internet_per_month"
   ]
  },
  {
   "cell_type": "code",
   "execution_count": 22,
   "metadata": {
    "id": "0fykO3W7oNlA"
   },
   "outputs": [],
   "source": [
    "#количество отправленных сообщений по месяцам;\n",
    "messages_per_month = messages.pivot_table(index=['user_id', 'month'], values='message_date', aggfunc='count')\n",
    "messages_per_month.columns = ['messages_sum']\n",
    "#messages_per_month"
   ]
  },
  {
   "cell_type": "code",
   "execution_count": 23,
   "metadata": {
    "id": "5EDkZv2RsBCO"
   },
   "outputs": [],
   "source": [
    "#помесячную выручку с каждого пользователя\n",
    "\n",
    "summary = (calls_per_month\n",
    "           .merge(internet_per_month, on=['user_id',\t'month'], how='outer')\n",
    "           .merge( messages_per_month, on=['user_id',\t'month'], how='outer')\n",
    "           #.join( users.set_index('user_id').loc[:,['age','churn_date',\t'city',\t'reg_date',\t'tariff']])\n",
    "           .join( users.set_index('user_id').loc[:,['age','city','tariff']])\n",
    "           .sort_values(['user_id', 'month'])\n",
    "           .fillna(0)\n",
    "           )\n",
    "\n",
    "#summary.fillna(0,inplace=True) # заполняю пропуски нулями для расчета выручки\n",
    "#summary.isna().sum()"
   ]
  },
  {
   "cell_type": "code",
   "execution_count": 24,
   "metadata": {
    "id": "qOGmoCBs_Lda"
   },
   "outputs": [],
   "source": [
    "#Функция возвращает стоимость за месяц с учетом тарифа и потраченных минут, сообщений и Мб\n",
    "#помесячную выручку с каждого пользователя (вычтите бесплатный лимит из суммарного количества звонков, \n",
    "#сообщений и интернет-трафика; остаток умножьте на значение из тарифного плана; прибавьте абонентскую плату, соответствующую тарифному плану).\n",
    "def total_pay (row):\n",
    "    row.fillna(0,inplace=True)\n",
    "    ind = tariffs[tariffs['tariff_name'] == row['tariff']].index.item()\n",
    "    total_pay_rub = (tariffs.loc[ind,'rub_monthly_fee'] \n",
    "                   + max(0, row['calls_sum'] - tariffs.loc[ind,'minutes_included']) \n",
    "                   * tariffs.loc[ind,'rub_per_minute']\n",
    "                   + np.ceil(max(0, row['mb_used'] - tariffs.loc[ind,'mb_per_month_included']) / 1024) # Целое число гигабайт\n",
    "                   * tariffs.loc[ind,'rub_per_gb']\n",
    "                   + max(0, row['messages_sum'] - tariffs.loc[ind,'messages_included']) \n",
    "                   * tariffs.loc[ind,'rub_per_message']\n",
    "                   )\n",
    "    return total_pay_rub\n",
    "\n",
    "    "
   ]
  },
  {
   "cell_type": "code",
   "execution_count": 25,
   "metadata": {
    "colab": {
     "base_uri": "https://localhost:8080/",
     "height": 455
    },
    "id": "LzQhS6bFsEzz",
    "outputId": "7bf459f0-c2da-4d85-8ed9-a469738d5a36"
   },
   "outputs": [
    {
     "data": {
      "text/html": [
       "<div>\n",
       "<style scoped>\n",
       "    .dataframe tbody tr th:only-of-type {\n",
       "        vertical-align: middle;\n",
       "    }\n",
       "\n",
       "    .dataframe tbody tr th {\n",
       "        vertical-align: top;\n",
       "    }\n",
       "\n",
       "    .dataframe thead th {\n",
       "        text-align: right;\n",
       "    }\n",
       "</style>\n",
       "<table border=\"1\" class=\"dataframe\">\n",
       "  <thead>\n",
       "    <tr style=\"text-align: right;\">\n",
       "      <th></th>\n",
       "      <th></th>\n",
       "      <th>calls_sum</th>\n",
       "      <th>calls_count</th>\n",
       "      <th>mb_used</th>\n",
       "      <th>messages_sum</th>\n",
       "      <th>age</th>\n",
       "      <th>city</th>\n",
       "      <th>tariff</th>\n",
       "      <th>total_pay</th>\n",
       "    </tr>\n",
       "    <tr>\n",
       "      <th>user_id</th>\n",
       "      <th>month</th>\n",
       "      <th></th>\n",
       "      <th></th>\n",
       "      <th></th>\n",
       "      <th></th>\n",
       "      <th></th>\n",
       "      <th></th>\n",
       "      <th></th>\n",
       "      <th></th>\n",
       "    </tr>\n",
       "  </thead>\n",
       "  <tbody>\n",
       "    <tr>\n",
       "      <th rowspan=\"5\" valign=\"top\">1000</th>\n",
       "      <th>5</th>\n",
       "      <td>159.00</td>\n",
       "      <td>17.00</td>\n",
       "      <td>2,253.49</td>\n",
       "      <td>22.00</td>\n",
       "      <td>52</td>\n",
       "      <td>Краснодар</td>\n",
       "      <td>ultra</td>\n",
       "      <td>1,950.00</td>\n",
       "    </tr>\n",
       "    <tr>\n",
       "      <th>6</th>\n",
       "      <td>172.00</td>\n",
       "      <td>28.00</td>\n",
       "      <td>23,233.77</td>\n",
       "      <td>60.00</td>\n",
       "      <td>52</td>\n",
       "      <td>Краснодар</td>\n",
       "      <td>ultra</td>\n",
       "      <td>1,950.00</td>\n",
       "    </tr>\n",
       "    <tr>\n",
       "      <th>7</th>\n",
       "      <td>340.00</td>\n",
       "      <td>41.00</td>\n",
       "      <td>14,003.64</td>\n",
       "      <td>75.00</td>\n",
       "      <td>52</td>\n",
       "      <td>Краснодар</td>\n",
       "      <td>ultra</td>\n",
       "      <td>1,950.00</td>\n",
       "    </tr>\n",
       "    <tr>\n",
       "      <th>8</th>\n",
       "      <td>408.00</td>\n",
       "      <td>42.00</td>\n",
       "      <td>14,055.93</td>\n",
       "      <td>81.00</td>\n",
       "      <td>52</td>\n",
       "      <td>Краснодар</td>\n",
       "      <td>ultra</td>\n",
       "      <td>1,950.00</td>\n",
       "    </tr>\n",
       "    <tr>\n",
       "      <th>9</th>\n",
       "      <td>466.00</td>\n",
       "      <td>46.00</td>\n",
       "      <td>14,568.91</td>\n",
       "      <td>57.00</td>\n",
       "      <td>52</td>\n",
       "      <td>Краснодар</td>\n",
       "      <td>ultra</td>\n",
       "      <td>1,950.00</td>\n",
       "    </tr>\n",
       "    <tr>\n",
       "      <th>...</th>\n",
       "      <th>...</th>\n",
       "      <td>...</td>\n",
       "      <td>...</td>\n",
       "      <td>...</td>\n",
       "      <td>...</td>\n",
       "      <td>...</td>\n",
       "      <td>...</td>\n",
       "      <td>...</td>\n",
       "      <td>...</td>\n",
       "    </tr>\n",
       "    <tr>\n",
       "      <th>1498</th>\n",
       "      <th>10</th>\n",
       "      <td>247.00</td>\n",
       "      <td>30.00</td>\n",
       "      <td>20,579.36</td>\n",
       "      <td>42.00</td>\n",
       "      <td>68</td>\n",
       "      <td>Владикавказ</td>\n",
       "      <td>smart</td>\n",
       "      <td>1,750.00</td>\n",
       "    </tr>\n",
       "    <tr>\n",
       "      <th rowspan=\"4\" valign=\"top\">1499</th>\n",
       "      <th>9</th>\n",
       "      <td>70.00</td>\n",
       "      <td>8.00</td>\n",
       "      <td>1,845.75</td>\n",
       "      <td>11.00</td>\n",
       "      <td>35</td>\n",
       "      <td>Пермь</td>\n",
       "      <td>smart</td>\n",
       "      <td>550.00</td>\n",
       "    </tr>\n",
       "    <tr>\n",
       "      <th>10</th>\n",
       "      <td>449.00</td>\n",
       "      <td>44.00</td>\n",
       "      <td>17,788.51</td>\n",
       "      <td>48.00</td>\n",
       "      <td>35</td>\n",
       "      <td>Пермь</td>\n",
       "      <td>smart</td>\n",
       "      <td>1,150.00</td>\n",
       "    </tr>\n",
       "    <tr>\n",
       "      <th>11</th>\n",
       "      <td>612.00</td>\n",
       "      <td>62.00</td>\n",
       "      <td>17,963.31</td>\n",
       "      <td>59.00</td>\n",
       "      <td>35</td>\n",
       "      <td>Пермь</td>\n",
       "      <td>smart</td>\n",
       "      <td>1,513.00</td>\n",
       "    </tr>\n",
       "    <tr>\n",
       "      <th>12</th>\n",
       "      <td>492.00</td>\n",
       "      <td>56.00</td>\n",
       "      <td>13,055.58</td>\n",
       "      <td>66.00</td>\n",
       "      <td>35</td>\n",
       "      <td>Пермь</td>\n",
       "      <td>smart</td>\n",
       "      <td>598.00</td>\n",
       "    </tr>\n",
       "  </tbody>\n",
       "</table>\n",
       "<p>3214 rows × 8 columns</p>\n",
       "</div>"
      ],
      "text/plain": [
       "               calls_sum  calls_count   mb_used  messages_sum  age  \\\n",
       "user_id month                                                        \n",
       "1000    5         159.00        17.00  2,253.49         22.00   52   \n",
       "        6         172.00        28.00 23,233.77         60.00   52   \n",
       "        7         340.00        41.00 14,003.64         75.00   52   \n",
       "        8         408.00        42.00 14,055.93         81.00   52   \n",
       "        9         466.00        46.00 14,568.91         57.00   52   \n",
       "...                  ...          ...       ...           ...  ...   \n",
       "1498    10        247.00        30.00 20,579.36         42.00   68   \n",
       "1499    9          70.00         8.00  1,845.75         11.00   35   \n",
       "        10        449.00        44.00 17,788.51         48.00   35   \n",
       "        11        612.00        62.00 17,963.31         59.00   35   \n",
       "        12        492.00        56.00 13,055.58         66.00   35   \n",
       "\n",
       "                      city tariff  total_pay  \n",
       "user_id month                                 \n",
       "1000    5        Краснодар  ultra   1,950.00  \n",
       "        6        Краснодар  ultra   1,950.00  \n",
       "        7        Краснодар  ultra   1,950.00  \n",
       "        8        Краснодар  ultra   1,950.00  \n",
       "        9        Краснодар  ultra   1,950.00  \n",
       "...                    ...    ...        ...  \n",
       "1498    10     Владикавказ  smart   1,750.00  \n",
       "1499    9            Пермь  smart     550.00  \n",
       "        10           Пермь  smart   1,150.00  \n",
       "        11           Пермь  smart   1,513.00  \n",
       "        12           Пермь  smart     598.00  \n",
       "\n",
       "[3214 rows x 8 columns]"
      ]
     },
     "execution_count": 25,
     "metadata": {},
     "output_type": "execute_result"
    }
   ],
   "source": [
    "summary['total_pay'] = summary.apply(total_pay,axis=1)\n",
    "summary"
   ]
  },
  {
   "cell_type": "markdown",
   "metadata": {
    "id": "WT83bL-ynCWk"
   },
   "source": [
    "**Вывод**\n",
    "\n",
    "Выполнен расчет значений для каждого пользователя:\n",
    "\n",
    "- количество сделанных звонков и израсходованных минут разговора по месяцам;\n",
    "- количество отправленных сообщений по месяцам;\n",
    "- объем израсходованного интернет-трафика по месяцам;\n",
    "- помесячная выручка с каждого пользователя (вычтен бесплатный лимит из суммарного количества звонков, сообщений и интернет-трафика; остаток умножен на значение из тарифного плана; прибавлена абонентская плата, соответствующая тарифному плану).\n",
    "\n",
    "Получено 3214 записей, средний пользователь пользовался связью 6,4 месяца.\n",
    "\n",
    "**Но** не учтено время использования тарифом внутри месяца, первый и последний месяцы использования могут быть не полными."
   ]
  },
  {
   "cell_type": "markdown",
   "metadata": {
    "id": "XSb4vb-WEDrS"
   },
   "source": [
    "### Выводы по предобработке:\n",
    "\n",
    "**2.1. Найдены и заполнены пропуски в данных:**\n",
    "\n",
    "найдены и заполнены 462 пропуска в дате отключения.\n",
    "\n",
    "**2.2. Преобразованы типы данных:**\n",
    "\n",
    "Все даты переведены в datetime.\n",
    "\n",
    "Добавлены столбцы Месяц.\n",
    "\n",
    "Длительность звонков округлена вверх и преобразована в целые значения.\n",
    "\n",
    "**2.3. Явные дубликаты в данных отсутствуют.**\n",
    "\n",
    "\n",
    "**2.4. Ошибки в данных:**\n",
    "\n",
    "В Таблице интернет сессий удален избыточный столбец \n",
    "\n",
    "**2.5. Выполнен расчет значений для каждого пользователя:**\n",
    "\n",
    "- количество сделанных звонков и израсходованных минут разговора по месяцам;\n",
    "- количество отправленных сообщений по месяцам;\n",
    "- объем израсходованного интернет-трафика по месяцам;\n",
    "- помесячная выручка с каждого пользователя (вычтен бесплатный лимит из суммарного количества звонков, сообщений и интернет-трафика; остаток умножен на значение из тарифного плана; прибавлена абонентская плата, соответствующая тарифному плану)."
   ]
  },
  {
   "cell_type": "markdown",
   "metadata": {
    "id": "FwTq-pHWEDrS"
   },
   "source": [
    "## Шаг 3. Проанализировать данные"
   ]
  },
  {
   "cell_type": "markdown",
   "metadata": {
    "id": "swHGzdDlEDrS"
   },
   "source": [
    "### План анализа данных\n",
    "\n",
    "Проанализировать потребности пользователей каждого тарифа в месяц: \n",
    "- сколько минут разговора; \n",
    "- сколько сообщений;\n",
    "- какой объём интернет-трафика.\n",
    "\n",
    "Проанализировать распределения:\n",
    "- определить среднее количество; \n",
    "- определить дисперсию;\n",
    "- определить стандартное отклонение; \n",
    "- построить гистограммы;\n",
    "- описать распределения.\n",
    "\n",
    "Описать поведение клиентов оператора, исходя из выборки"
   ]
  },
  {
   "cell_type": "markdown",
   "metadata": {
    "id": "SPBi2H0iEDrT"
   },
   "source": [
    "### Анализ данных \n",
    "\n",
    "потребностей пользователей каждого тарифа в месяц\n",
    "\n",
    "сколько минут разговора;\n",
    "сколько сообщений;\n",
    "какой объём интернет-трафика."
   ]
  },
  {
   "cell_type": "code",
   "execution_count": 26,
   "metadata": {
    "colab": {
     "base_uri": "https://localhost:8080/",
     "height": 333
    },
    "id": "IzANuU2af0cD",
    "outputId": "3a0d03e8-dc5d-4f56-d8b6-8a822998c528"
   },
   "outputs": [
    {
     "data": {
      "text/html": [
       "<div>\n",
       "<style scoped>\n",
       "    .dataframe tbody tr th:only-of-type {\n",
       "        vertical-align: middle;\n",
       "    }\n",
       "\n",
       "    .dataframe tbody tr th {\n",
       "        vertical-align: top;\n",
       "    }\n",
       "\n",
       "    .dataframe thead tr th {\n",
       "        text-align: left;\n",
       "    }\n",
       "\n",
       "    .dataframe thead tr:last-of-type th {\n",
       "        text-align: right;\n",
       "    }\n",
       "</style>\n",
       "<table border=\"1\" class=\"dataframe\">\n",
       "  <thead>\n",
       "    <tr>\n",
       "      <th></th>\n",
       "      <th>count</th>\n",
       "    </tr>\n",
       "    <tr>\n",
       "      <th></th>\n",
       "      <th>user_id</th>\n",
       "    </tr>\n",
       "    <tr>\n",
       "      <th>tariff</th>\n",
       "      <th></th>\n",
       "    </tr>\n",
       "  </thead>\n",
       "  <tbody>\n",
       "    <tr>\n",
       "      <th>smart</th>\n",
       "      <td>0.70</td>\n",
       "    </tr>\n",
       "    <tr>\n",
       "      <th>ultra</th>\n",
       "      <td>0.30</td>\n",
       "    </tr>\n",
       "  </tbody>\n",
       "</table>\n",
       "</div>"
      ],
      "text/plain": [
       "         count\n",
       "       user_id\n",
       "tariff        \n",
       "smart     0.70\n",
       "ultra     0.30"
      ]
     },
     "metadata": {},
     "output_type": "display_data"
    },
    {
     "data": {
      "text/html": [
       "<div>\n",
       "<style scoped>\n",
       "    .dataframe tbody tr th:only-of-type {\n",
       "        vertical-align: middle;\n",
       "    }\n",
       "\n",
       "    .dataframe tbody tr th {\n",
       "        vertical-align: top;\n",
       "    }\n",
       "\n",
       "    .dataframe thead tr th {\n",
       "        text-align: left;\n",
       "    }\n",
       "\n",
       "    .dataframe thead tr:last-of-type th {\n",
       "        text-align: right;\n",
       "    }\n",
       "</style>\n",
       "<table border=\"1\" class=\"dataframe\">\n",
       "  <thead>\n",
       "    <tr>\n",
       "      <th></th>\n",
       "      <th>count</th>\n",
       "    </tr>\n",
       "    <tr>\n",
       "      <th></th>\n",
       "      <th>calls_sum</th>\n",
       "    </tr>\n",
       "    <tr>\n",
       "      <th>tariff</th>\n",
       "      <th></th>\n",
       "    </tr>\n",
       "  </thead>\n",
       "  <tbody>\n",
       "    <tr>\n",
       "      <th>smart</th>\n",
       "      <td>2229</td>\n",
       "    </tr>\n",
       "    <tr>\n",
       "      <th>ultra</th>\n",
       "      <td>985</td>\n",
       "    </tr>\n",
       "  </tbody>\n",
       "</table>\n",
       "</div>"
      ],
      "text/plain": [
       "           count\n",
       "       calls_sum\n",
       "tariff          \n",
       "smart       2229\n",
       "ultra        985"
      ]
     },
     "execution_count": 26,
     "metadata": {},
     "output_type": "execute_result"
    }
   ],
   "source": [
    "display(users.pivot_table(index='tariff',values=['user_id'],aggfunc=['count'])/500) # доля клиентов на каждом тарифе\n",
    "summary.pivot_table(index='tariff',values=['calls_sum'],aggfunc=['count']) \n"
   ]
  },
  {
   "cell_type": "code",
   "execution_count": 27,
   "metadata": {
    "colab": {
     "base_uri": "https://localhost:8080/",
     "height": 175
    },
    "id": "Ora5Rl_Kpo6D",
    "outputId": "32c2f712-1f03-4f63-aab4-cd818af1aa3d"
   },
   "outputs": [
    {
     "data": {
      "text/html": [
       "<div>\n",
       "<style scoped>\n",
       "    .dataframe tbody tr th:only-of-type {\n",
       "        vertical-align: middle;\n",
       "    }\n",
       "\n",
       "    .dataframe tbody tr th {\n",
       "        vertical-align: top;\n",
       "    }\n",
       "\n",
       "    .dataframe thead tr th {\n",
       "        text-align: left;\n",
       "    }\n",
       "\n",
       "    .dataframe thead tr:last-of-type th {\n",
       "        text-align: right;\n",
       "    }\n",
       "</style>\n",
       "<table border=\"1\" class=\"dataframe\">\n",
       "  <thead>\n",
       "    <tr>\n",
       "      <th></th>\n",
       "      <th colspan=\"4\" halign=\"left\">mean</th>\n",
       "      <th colspan=\"4\" halign=\"left\">median</th>\n",
       "      <th colspan=\"4\" halign=\"left\">max</th>\n",
       "    </tr>\n",
       "    <tr>\n",
       "      <th></th>\n",
       "      <th>calls_sum</th>\n",
       "      <th>mb_used</th>\n",
       "      <th>messages_sum</th>\n",
       "      <th>total_pay</th>\n",
       "      <th>calls_sum</th>\n",
       "      <th>mb_used</th>\n",
       "      <th>messages_sum</th>\n",
       "      <th>total_pay</th>\n",
       "      <th>calls_sum</th>\n",
       "      <th>mb_used</th>\n",
       "      <th>messages_sum</th>\n",
       "      <th>total_pay</th>\n",
       "    </tr>\n",
       "    <tr>\n",
       "      <th>tariff</th>\n",
       "      <th></th>\n",
       "      <th></th>\n",
       "      <th></th>\n",
       "      <th></th>\n",
       "      <th></th>\n",
       "      <th></th>\n",
       "      <th></th>\n",
       "      <th></th>\n",
       "      <th></th>\n",
       "      <th></th>\n",
       "      <th></th>\n",
       "      <th></th>\n",
       "    </tr>\n",
       "  </thead>\n",
       "  <tbody>\n",
       "    <tr>\n",
       "      <th>smart</th>\n",
       "      <td>417.93</td>\n",
       "      <td>16,208.39</td>\n",
       "      <td>33.38</td>\n",
       "      <td>1,289.97</td>\n",
       "      <td>422.00</td>\n",
       "      <td>16,506.84</td>\n",
       "      <td>28.00</td>\n",
       "      <td>1,023.00</td>\n",
       "      <td>1,435.00</td>\n",
       "      <td>38,552.45</td>\n",
       "      <td>143.00</td>\n",
       "      <td>6,770.00</td>\n",
       "    </tr>\n",
       "    <tr>\n",
       "      <th>ultra</th>\n",
       "      <td>526.62</td>\n",
       "      <td>19,468.81</td>\n",
       "      <td>49.36</td>\n",
       "      <td>2,070.15</td>\n",
       "      <td>518.00</td>\n",
       "      <td>19,308.01</td>\n",
       "      <td>38.00</td>\n",
       "      <td>1,950.00</td>\n",
       "      <td>1,673.00</td>\n",
       "      <td>49,745.69</td>\n",
       "      <td>224.00</td>\n",
       "      <td>4,800.00</td>\n",
       "    </tr>\n",
       "  </tbody>\n",
       "</table>\n",
       "</div>"
      ],
      "text/plain": [
       "            mean                                     median            \\\n",
       "       calls_sum   mb_used messages_sum total_pay calls_sum   mb_used   \n",
       "tariff                                                                  \n",
       "smart     417.93 16,208.39        33.38  1,289.97    422.00 16,506.84   \n",
       "ultra     526.62 19,468.81        49.36  2,070.15    518.00 19,308.01   \n",
       "\n",
       "                                    max                                   \n",
       "       messages_sum total_pay calls_sum   mb_used messages_sum total_pay  \n",
       "tariff                                                                    \n",
       "smart         28.00  1,023.00  1,435.00 38,552.45       143.00  6,770.00  \n",
       "ultra         38.00  1,950.00  1,673.00 49,745.69       224.00  4,800.00  "
      ]
     },
     "execution_count": 27,
     "metadata": {},
     "output_type": "execute_result"
    }
   ],
   "source": [
    "summary.pivot_table(index='tariff',values=['calls_sum', 'mb_used','messages_sum','total_pay'],aggfunc=['mean','median', 'max'])\n"
   ]
  },
  {
   "cell_type": "code",
   "execution_count": 28,
   "metadata": {
    "colab": {
     "base_uri": "https://localhost:8080/",
     "height": 175
    },
    "id": "DQ4z6WkdzGpZ",
    "outputId": "188a2624-dd47-4203-b64a-e0663f0e99dd"
   },
   "outputs": [
    {
     "data": {
      "text/html": [
       "<div>\n",
       "<style scoped>\n",
       "    .dataframe tbody tr th:only-of-type {\n",
       "        vertical-align: middle;\n",
       "    }\n",
       "\n",
       "    .dataframe tbody tr th {\n",
       "        vertical-align: top;\n",
       "    }\n",
       "\n",
       "    .dataframe thead tr th {\n",
       "        text-align: left;\n",
       "    }\n",
       "\n",
       "    .dataframe thead tr:last-of-type th {\n",
       "        text-align: right;\n",
       "    }\n",
       "</style>\n",
       "<table border=\"1\" class=\"dataframe\">\n",
       "  <thead>\n",
       "    <tr>\n",
       "      <th></th>\n",
       "      <th colspan=\"3\" halign=\"left\">var</th>\n",
       "      <th colspan=\"3\" halign=\"left\">std</th>\n",
       "    </tr>\n",
       "    <tr>\n",
       "      <th></th>\n",
       "      <th>calls_sum</th>\n",
       "      <th>mb_used</th>\n",
       "      <th>messages_sum</th>\n",
       "      <th>calls_sum</th>\n",
       "      <th>mb_used</th>\n",
       "      <th>messages_sum</th>\n",
       "    </tr>\n",
       "    <tr>\n",
       "      <th>tariff</th>\n",
       "      <th></th>\n",
       "      <th></th>\n",
       "      <th></th>\n",
       "      <th></th>\n",
       "      <th></th>\n",
       "      <th></th>\n",
       "    </tr>\n",
       "  </thead>\n",
       "  <tbody>\n",
       "    <tr>\n",
       "      <th>smart</th>\n",
       "      <td>36,219.32</td>\n",
       "      <td>34,462,496.46</td>\n",
       "      <td>796.81</td>\n",
       "      <td>190.31</td>\n",
       "      <td>5,870.48</td>\n",
       "      <td>28.23</td>\n",
       "    </tr>\n",
       "    <tr>\n",
       "      <th>ultra</th>\n",
       "      <td>100,873.63</td>\n",
       "      <td>101,751,013.78</td>\n",
       "      <td>2,285.27</td>\n",
       "      <td>317.61</td>\n",
       "      <td>10,087.17</td>\n",
       "      <td>47.80</td>\n",
       "    </tr>\n",
       "  </tbody>\n",
       "</table>\n",
       "</div>"
      ],
      "text/plain": [
       "              var                                   std                       \n",
       "        calls_sum        mb_used messages_sum calls_sum   mb_used messages_sum\n",
       "tariff                                                                        \n",
       "smart   36,219.32  34,462,496.46       796.81    190.31  5,870.48        28.23\n",
       "ultra  100,873.63 101,751,013.78     2,285.27    317.61 10,087.17        47.80"
      ]
     },
     "execution_count": 28,
     "metadata": {},
     "output_type": "execute_result"
    }
   ],
   "source": [
    "summary.pivot_table(index='tariff',values=['calls_sum', 'mb_used','messages_sum'],aggfunc=['var', 'std'])\n"
   ]
  },
  {
   "cell_type": "code",
   "execution_count": 29,
   "metadata": {
    "scrolled": true
   },
   "outputs": [
    {
     "data": {
      "image/png": "[encoded data removed]",
      "text/plain": [
       "<Figure size 1000x300 with 1 Axes>"
      ]
     },
     "metadata": {},
     "output_type": "display_data"
    }
   ],
   "source": [
    "summary.query('tariff == \"smart\"')['calls_sum'].plot(kind='hist', bins=200, alpha=1, figsize=(10,3),legend=True, label=\"smart\",title='calls_sum')\n",
    "summary.query('tariff == \"ultra\"')['calls_sum'].plot(kind='hist', bins=200, alpha=0.7,legend=True, label=\"ultra\");"
   ]
  },
  {
   "cell_type": "code",
   "execution_count": 30,
   "metadata": {},
   "outputs": [
    {
     "data": {
      "image/png": "[encoded data removed]",
      "text/plain": [
       "<Figure size 1000x300 with 1 Axes>"
      ]
     },
     "metadata": {},
     "output_type": "display_data"
    }
   ],
   "source": [
    "summary.query('tariff == \"smart\"')['mb_used'].plot(kind='hist', bins=200, alpha=1, figsize=(10,3),legend=True, label=\"smart\",title='mb_used')\n",
    "summary.query('tariff == \"ultra\"')['mb_used'].plot(kind='hist', bins=200, alpha=0.7, legend=True, label=\"ultra\");"
   ]
  },
  {
   "cell_type": "code",
   "execution_count": 31,
   "metadata": {},
   "outputs": [
    {
     "data": {
      "image/png": "[encoded data removed]",
      "text/plain": [
       "<Figure size 1000x300 with 1 Axes>"
      ]
     },
     "metadata": {},
     "output_type": "display_data"
    }
   ],
   "source": [
    "np.ceil(summary.query('tariff == \"smart\"')['mb_used']/1024).plot(kind='hist', bins=50, alpha=1, figsize=(10,3),legend=True, label=\"smart\",title='gb_used')\n",
    "np.ceil(summary.query('tariff == \"ultra\"')['mb_used']/1024).plot(kind='hist', bins=50, alpha=0.7,legend=True, label=\"ultra\");"
   ]
  },
  {
   "cell_type": "code",
   "execution_count": 32,
   "metadata": {},
   "outputs": [
    {
     "data": {
      "image/png": "[encoded data removed]",
      "text/plain": [
       "<Figure size 1000x300 with 1 Axes>"
      ]
     },
     "metadata": {},
     "output_type": "display_data"
    }
   ],
   "source": [
    "summary.query('tariff == \"smart\"')['messages_sum'].plot(kind='hist', bins=100, alpha=1, figsize=(10,3),legend=True, label=\"smart\",title='messages_sum')\n",
    "summary.query('tariff == \"ultra\"')['messages_sum'].plot(kind='hist', bins=100, alpha=0.7,legend=True, label=\"ultra\");"
   ]
  },
  {
   "cell_type": "code",
   "execution_count": 33,
   "metadata": {
    "colab": {
     "base_uri": "https://localhost:8080/"
    },
    "id": "d_JI4SxKkMl_",
    "outputId": "c9af92ea-3c1d-462c-bd82-64f5fd86121c"
   },
   "outputs": [
    {
     "name": "stdout",
     "output_type": "stream",
     "text": [
      "Количество человек, не пользующихся звонками:  8\n",
      "Количество человек, не пользующихся интернетом:  3\n",
      "Количество человек, не пользующихся сообщениями:  74\n"
     ]
    }
   ],
   "source": [
    "print('Количество человек, не пользующихся звонками: ', (500 - len(calls['user_id'].unique())))\n",
    "print('Количество человек, не пользующихся интернетом: ', (500 - len(internet['user_id'].unique())))\n",
    "print('Количество человек, не пользующихся сообщениями: ', (500 - len(messages['user_id'].unique())))\n"
   ]
  },
  {
   "cell_type": "markdown",
   "metadata": {},
   "source": [
    "### Анализ динамики выручки по месяцам в разрезе тарифов"
   ]
  },
  {
   "cell_type": "code",
   "execution_count": 34,
   "metadata": {
    "scrolled": true
   },
   "outputs": [
    {
     "data": {
      "image/png": "[encoded data removed]",
      "text/plain": [
       "<Figure size 1000x300 with 1 Axes>"
      ]
     },
     "metadata": {},
     "output_type": "display_data"
    }
   ],
   "source": [
    "summary.query('tariff == \"smart\"').groupby(by='month')['total_pay'].sum().plot(kind='bar', figsize=(10,3),legend=True, label=\"smart\",title='total pay per month')\n",
    "summary.query('tariff == \"ultra\"').groupby(by='month')['total_pay'].sum().plot(kind='bar', alpha=0.5, legend=True, label=\"ultra\",color='red');\n"
   ]
  },
  {
   "cell_type": "code",
   "execution_count": 35,
   "metadata": {
    "scrolled": true
   },
   "outputs": [
    {
     "data": {
      "image/png": "[encoded data removed]",
      "text/plain": [
       "<Figure size 1000x300 with 1 Axes>"
      ]
     },
     "metadata": {},
     "output_type": "display_data"
    }
   ],
   "source": [
    "summary.query('tariff == \"smart\"').groupby(by='month')['total_pay'].count().plot(kind='bar', figsize=(10,3),legend=True, label=\"smart\",title='users per month')\n",
    "summary.query('tariff == \"ultra\"').groupby(by='month')['total_pay'].count().plot(kind='bar', alpha=0.5, legend=True, label=\"ultra\",color='red');"
   ]
  },
  {
   "cell_type": "code",
   "execution_count": 36,
   "metadata": {},
   "outputs": [
    {
     "data": {
      "image/png": "[encoded data removed]",
      "text/plain": [
       "<Figure size 1000x300 with 1 Axes>"
      ]
     },
     "metadata": {},
     "output_type": "display_data"
    }
   ],
   "source": [
    "summary.query('tariff == \"ultra\"').groupby(by='month')['total_pay'].mean().plot(kind='bar', alpha=1, legend=True, label=\"ultra\",color='red')\n",
    "summary.query('tariff == \"smart\"').groupby(by='month')['total_pay'].mean().plot(kind='bar', alpha=1, figsize=(10,3),legend=True, label=\"smart\",title='mean pay per month');\n"
   ]
  },
  {
   "cell_type": "markdown",
   "metadata": {},
   "source": [
    "Наблюдаются ежемесячные увеличения выручек для каждого тарифа, обусловленные увеличением среднемесячной платы клиентов тарифа Смарт и увеличинием числа клиентов обоих тарифов."
   ]
  },
  {
   "cell_type": "markdown",
   "metadata": {
    "id": "SCJN7z7CrTWi"
   },
   "source": [
    "**Вывод**\n",
    "\n",
    "Выполнен расчет средних и медианных значений длительностей разговоров, количества сообщений и интернет-трафика: \n",
    "- Тариф смарт ~70% клиентов, 418 минут, 16208 МБ, 33,4 сообщения.  \n",
    "- Тариф ультра ~30% клиентов, 526 минут, 19468,8 МБ, 49,4 сообщения \n",
    "\n",
    "В тарифе ультра медиана платы равна стоимости тарифа, т.е. по крайней мере половина клиентов \"ультра\" платит только абон плату.\n",
    "\n",
    "Для сообщений медиана заметно меньше среднего, значит распределения с положительной скошенностью.\n",
    "\n",
    "Распределения для звонков: \n",
    "- тариф смарт медиана *больше* среднего => отрицательная скошенность \n",
    "- тариф ультра медиана *меньше* среднего => положительная скошенность \n",
    "\n",
    "Распределения для интернет-трафика: \n",
    "- тариф смарт медиана *больше* среднего => отрицательная скошенность \n",
    "- тариф ультра медиана *меньше* среднего => положительная скошенность \n",
    "\n",
    "Исходя из выборки можно составить следующее описание поведения клиентов, использующих разные тарифы: \n",
    "- Клиенты \"Смарт\" совершают (418 ± 3\\*190) мин звонков, \n",
    "используют (16208 ± 3\\*5870) МБ трафика, \n",
    "отправляют (33 ± 3\\*28) сообщений.\n",
    "\n",
    "- Клиенты \"Ультра\" совершают (526 ± 3\\*317) мин звонков, \n",
    "используют (19468 ± 3\\*10087) МБ трафика, \n",
    "отправляют (49 ± 3\\*48) сообщений.\n",
    "\n",
    "Таким образом, клиенты тарифа \"Ультра\" используют большее количество услуг, кроме того при сопоставимых средних значениях для клиентов с разными тарифами, клиенты тарифа \"Смарт\" имеют более компактные распределения (меньшую дисперсию) потребляемых услуг.\n",
    "\n",
    "Часть клиентов использует не все типы услуги. Звонками не воспользовались 8 человек, интернетом - 3, сообщениями - 74.\n",
    "\n",
    "\n",
    "\n",
    "\n",
    "\n"
   ]
  },
  {
   "cell_type": "markdown",
   "metadata": {
    "id": "cT7HhZNTEDrZ"
   },
   "source": [
    "## Шаг 4. Проверка гипотез\n",
    "\n",
    "средняя выручка пользователей тарифов «Ультра» и «Смарт» различаются;\n",
    "средняя выручка пользователей из Москвы отличается от выручки пользователей из других регионов."
   ]
  },
  {
   "cell_type": "markdown",
   "metadata": {
    "id": "0ZTf1t55D0cC"
   },
   "source": [
    "### 4.1. Выручка пользователей\n",
    "\n",
    "Необходимо проверить, что средняя выручка пользователей тарифов «Ультра» и «Смарт» различаются.\n",
    "\n",
    "Формулируется нулевая гипотеза, что выручки равны, и первая гипотеза, что выручки различаются.\n",
    "\n",
    "В распоряжении две выборки из генеральных совокупностей клиентов тарифов «Ультра» и «Смарт».\n",
    "\n",
    "Для этого используется специальный метод для проверки гипотезы о равенстве среднего двух генеральных совокупностей по взятым из них выборкам: scipy.stats.ttest_ind (array1, array2,equal_var).\n",
    "\n",
    "Необходимо проверить размер выборок, если размеры не равны, то выбирается парметр с неравными дисперсиями, уровень значимости задается равным 0,01.\n",
    "\n",
    "Дополнительно проверяется гипотеза о том, что среднее значение выручки пользователей \"Ультра\" больше среднего значения выручки пользователей \"Смарт\"."
   ]
  },
  {
   "cell_type": "code",
   "execution_count": 37,
   "metadata": {
    "colab": {
     "base_uri": "https://localhost:8080/"
    },
    "id": "Xix9-mMzFZGW",
    "outputId": "44f2f6b4-85ab-4f7a-cd47-938096170dd2"
   },
   "outputs": [
    {
     "name": "stdout",
     "output_type": "stream",
     "text": [
      "p-значение для двухсторонней гипотезы:  4.2606313931076085e-250; для односторонней гипотезы: 2.1303156965538042e-250\n",
      "Проверка двухсторонней гипотезы\n",
      "Отвергаем нулевую гипотезу\n",
      "Проверка односторонней гипотезы\n",
      "Отвергаем нулевую гипотезу\n"
     ]
    }
   ],
   "source": [
    "alpha = .01\n",
    "equal_var = len(summary.query('tariff == \"smart\"')) == len(summary.query('tariff == \"ultra\"'))\n",
    "\n",
    "results = st.ttest_ind(\n",
    "    summary.query('tariff == \"smart\"')['total_pay'], \n",
    "    summary.query('tariff == \"ultra\"')['total_pay'],equal_var=equal_var)\n",
    "\n",
    "print(f'p-значение для двухсторонней гипотезы:  {results.pvalue}; для односторонней гипотезы: {results.pvalue / 2}')\n",
    "print('Проверка двухсторонней гипотезы')\n",
    "if results.pvalue < alpha:\n",
    "    print(\"Отвергаем нулевую гипотезу\")\n",
    "else:\n",
    "    print(\"Не получилось отвергнуть нулевую гипотезу\") \n",
    "print('Проверка односторонней гипотезы')\n",
    "if (results.pvalue < alpha) and summary.query('tariff == \"smart\"')['total_pay'].mean() < summary.query('tariff == \"ultra\"')['total_pay'].mean():\n",
    "    print(\"Отвергаем нулевую гипотезу\")\n",
    "else:\n",
    "    print(\"Не получилось отвергнуть нулевую гипотезу\")     "
   ]
  },
  {
   "cell_type": "markdown",
   "metadata": {
    "id": "huAvfiUDGXRa"
   },
   "source": [
    "**Вывод**\n",
    "\n",
    "Полученное значение p-value говорит о том, что вероятность получить такое или большее различие случайно 4e-250. Поэтому нулевая гипотеза отвергается, т.е. средняя выручка пользователей тарифов «Ультра» и «Смарт» различается.\n",
    "Кроме того, по результатам теста не отвергается гипотеза о том, что выручка пользователей тарифа \"Ультра\" больше выручки пользователей тарифа \"Смарт\"."
   ]
  },
  {
   "cell_type": "markdown",
   "metadata": {
    "id": "Tn4PXw6XHXRN"
   },
   "source": [
    "### 4.2. Пользователи из Москвы \n",
    "\n",
    "Необходимо проверить, что средняя выручка пользователей из Москвы отличается от выручки пользователей из других регионов.\n",
    "\n",
    "Формулируется нулевая гипотеза, что выручки равны, и первая гипотеза, что выручки различаются.\n",
    "\n",
    "В распоряжении две выборки из генеральных совокупностей клиентов из Москвы и из регионов.\n",
    "\n",
    "Для этого используется специальный метод для проверки гипотезы о равенстве среднего двух генеральных совокупностей по взятым из них выборкам: scipy.stats.ttest_ind (array1, array2,equal_var).\n",
    "\n",
    "Необходимо проверить размер выборок, если размеры не равны, то выбирается парметр с неравными дисперсиями, уровень значимости задается равным 0,01.\n"
   ]
  },
  {
   "cell_type": "code",
   "execution_count": 38,
   "metadata": {
    "colab": {
     "base_uri": "https://localhost:8080/"
    },
    "id": "u4zFoaFSHvc1",
    "outputId": "27b74815-eb98-49f9-9266-d74dc01514f5"
   },
   "outputs": [
    {
     "name": "stdout",
     "output_type": "stream",
     "text": [
      "p-значение:  0.5257376663729298\n",
      "Не получилось отвергнуть нулевую гипотезу\n"
     ]
    }
   ],
   "source": [
    "alpha = .01\n",
    "equal_var = len(summary.query('city == \"Москва\"')) == len(summary.query('city != \"Москва\"'))\n",
    "\n",
    "results = st.ttest_ind(\n",
    "    summary.query('city == \"Москва\"')['total_pay'], \n",
    "    summary.query('city != \"Москва\"')['total_pay'],equal_var=equal_var)\n",
    "\n",
    "print('p-значение: ', results.pvalue)\n",
    "\n",
    "if results.pvalue < alpha:\n",
    "    print(\"Отвергаем нулевую гипотезу\")\n",
    "else:\n",
    "    print(\"Не получилось отвергнуть нулевую гипотезу\") "
   ]
  },
  {
   "cell_type": "markdown",
   "metadata": {
    "id": "BcwR6hhFINeP"
   },
   "source": [
    "**Вывод**\n",
    "\n",
    "Полученное значение p-value говорит о том, что вероятность получить такое или большее различие случайно 53 %, это очень большая вероятность, чтобы отвергать нулевую гипотезу. Поэтому нулевая гипотеза не может быть отвергнута, т.е. средняя выручка пользователей из Москвы статистически не отличается от выручки пользователей из других регионов."
   ]
  },
  {
   "cell_type": "markdown",
   "metadata": {
    "id": "jtrssGwURhZN"
   },
   "source": [
    "## Шаг 5. Общий вывод"
   ]
  },
  {
   "cell_type": "markdown",
   "metadata": {
    "id": "7vY-K4fpEDrZ"
   },
   "source": [
    "Целью проекта является исследование какой тариф («Ультра» или «Смарт») приносит больше денег, для корректировки рекламного бюджета.\n",
    "\n",
    "**1. В ходе работы был проанализированы исходные данные за 2018 г.:**\n",
    "- Таблица users (информация о 500 пользователях):\n",
    "- Таблица calls (информация о 202607 звонках):\n",
    "- Таблица messages (информация о 123036 сообщениях):\n",
    "- Таблица internet (информация об 149396 интернет-сессиях):\n",
    "- Таблица tariffs (информация о двух тарифах):\n",
    "\n",
    "**2. Была выполнена предобработка данных, в том числе:**\n",
    "\n",
    "2.1. Найдены и заполнены пропуски в данных - 462 пропуска в дате отключения, у клиентов, которые продолжают пользоваться услугами оператора.\n",
    "\n",
    "2.2. Преобразованы типы данных:\n",
    "- Все даты переведены в datetime.\n",
    "- Добавлены столбцы Месяц в таблицы звонков, трафика и сообщений\n",
    "- Длительность звонков округлена вверх и преобразована в целые значения\n",
    "\n",
    "2.3. Установлено, что явные дубликаты в данных отсутствуют.\n",
    "\n",
    "2.4. Обработаны ошибки в данных\n",
    "- В Таблице интернет сессий удален избыточный столбец, удалены сессии с нулевым трафиком. \n",
    "\n",
    "2.5. Выполнен расчет значений для каждого пользователя:\n",
    "- количество сделанных звонков и израсходованных минут разговора по месяцам;\n",
    "- количество отправленных сообщений по месяцам;\n",
    "- объем израсходованного интернет-трафика по месяцам;\n",
    "- помесячная выручка с каждого пользователя (вычтен бесплатный лимит из суммарного количества звонков, сообщений и интернет-трафика (**переведено в ГБ и округлено вверх до целого**); остаток умножен на значение из тарифного плана; прибавлена абонентская плата, соответствующая тарифному плану).\n",
    "\n",
    "**3. Проанализированны данные:**\n",
    "Выполнен расчет средних и медианных значений, дисперсии и среднеквадратического отклонения для длительностей разговоров, количества сообщений и интернет-трафика: \n",
    "- Тариф \"Смарт\" ~70% клиентов, 418 минут, 16208 МБ, 33,4 сообщения \n",
    "- Тариф \"Ультра\" ~30% клиентов, 526 минут, 19468,8 МБ, 49,4 сообщения \n",
    "\n",
    "Распределения для звонков: \n",
    "- тариф смарт медиана *больше* среднего => отрицательная скошенность \n",
    "- тариф ультра медиана *меньше* среднего => положительная скошенность \n",
    "\n",
    "Распределения для интернет-трафика: \n",
    "- тариф смарт медиана *больше* среднего => отрицательная скошенность \n",
    "- тариф ультра медиана *меньше* среднего => положительная скошенность \n",
    "\n",
    "Для сообщений медиана заметно меньше среднего, значит распределения с положительной скошенностью.\n",
    "\n",
    "Исходя из выборки можно составить следующее описание поведения клиентов, использующих разные тарифы: \n",
    "- Клиенты \"Смарт\" совершают (418 ± 3\\*190) мин звонков, \n",
    "используют (16208 ± 3\\*5870) МБ трафика, \n",
    "отправляют (33 ± 3\\*28) сообщений.\n",
    "\n",
    "- Клиенты \"Ультра\" совершают (526 ± 3\\*317) мин звонков, \n",
    "используют (19468 ± 3\\*10087) МБ трафика, \n",
    "отправляют (49 ± 3\\*48) сообщений.\n",
    "\n",
    "Таким образом, клиенты тарифа \"Ультра\" используют большее количество услуг, кроме того при сопоставимых средних значениях для клиентов с разными тарифами, клиенты тарифа \"Смарт\" имеют более компактные распределения (меньшую дисперсию) потребляемых услуг.\n",
    "\n",
    "Часть клиентов использует не все типы услуги. Звонками не воспользовались 8 человек, интернетом - 3, сообщениями - 74.\n",
    "\n",
    "**4. Проверка гипотез**\n",
    "\n",
    "4.1. Гипотеза о том, что средняя выручка пользователей тарифов «Ультра» и «Смарт» различаются не отвергнута. Гипотеза о том, что средняя выручка пользователей тарифов «Ультра» больше, чем для «Смарт» не отвергнута.\n",
    "\n",
    "4.2. По результатам проверки гипотез установлено, что средняя выручка пользователей из Москвы статистически не отличается от выручки пользователей из других регионов.\n",
    "\n",
    "\n",
    "**Таким образом, отвечая на главный вопрос исследования, можно сказать, что тариф \"Ультра\" статистически приносит больше денег, и целесообразно перераспределить рекламный бюджет в пользу тарифа \"Ультра\".**\n"
   ]
  }
 ],
 "metadata": {
  "ExecuteTimeLog": [
   {
    "duration": 616,
    "start_time": "2022-01-09T08:57:57.214Z"
   },
   {
    "duration": 55,
    "start_time": "2022-01-09T09:02:24.457Z"
   },
   {
    "duration": 9,
    "start_time": "2022-01-09T09:06:17.037Z"
   },
   {
    "duration": 13,
    "start_time": "2022-01-09T09:09:50.650Z"
   },
   {
    "duration": 10,
    "start_time": "2022-01-09T09:09:55.929Z"
   },
   {
    "duration": 228,
    "start_time": "2022-01-09T09:10:49.253Z"
   },
   {
    "duration": 195,
    "start_time": "2022-01-09T09:10:59.972Z"
   },
   {
    "duration": 165,
    "start_time": "2022-01-09T09:11:06.875Z"
   },
   {
    "duration": 21,
    "start_time": "2022-01-09T09:11:21.993Z"
   },
   {
    "duration": 8,
    "start_time": "2022-01-09T09:11:33.579Z"
   },
   {
    "duration": 11,
    "start_time": "2022-01-09T09:11:51.717Z"
   },
   {
    "duration": 10,
    "start_time": "2022-01-09T09:18:03.115Z"
   },
   {
    "duration": 65,
    "start_time": "2022-01-09T09:20:42.536Z"
   },
   {
    "duration": 4,
    "start_time": "2022-01-09T09:21:37.627Z"
   },
   {
    "duration": 10,
    "start_time": "2022-01-09T09:22:10.829Z"
   },
   {
    "duration": 12,
    "start_time": "2022-01-09T09:22:21.157Z"
   },
   {
    "duration": 12,
    "start_time": "2022-01-09T09:24:18.494Z"
   },
   {
    "duration": 68,
    "start_time": "2022-01-09T09:28:21.060Z"
   },
   {
    "duration": 66,
    "start_time": "2022-01-09T09:28:28.472Z"
   },
   {
    "duration": 194,
    "start_time": "2022-01-09T09:39:15.376Z"
   },
   {
    "duration": 20,
    "start_time": "2022-01-09T09:40:37.393Z"
   },
   {
    "duration": 17,
    "start_time": "2022-01-09T09:41:36.501Z"
   },
   {
    "duration": 4907,
    "start_time": "2022-01-09T09:42:12.589Z"
   },
   {
    "duration": 5774,
    "start_time": "2022-01-09T09:43:02.539Z"
   },
   {
    "duration": 19,
    "start_time": "2022-01-09T09:44:40.102Z"
   },
   {
    "duration": 619,
    "start_time": "2022-01-09T09:48:44.995Z"
   },
   {
    "duration": 177,
    "start_time": "2022-01-09T09:49:03.089Z"
   },
   {
    "duration": 54,
    "start_time": "2022-01-09T09:50:02.161Z"
   },
   {
    "duration": 23,
    "start_time": "2022-01-09T09:50:10.208Z"
   },
   {
    "duration": 64,
    "start_time": "2022-01-09T09:54:34.077Z"
   },
   {
    "duration": 8,
    "start_time": "2022-01-09T09:54:34.143Z"
   },
   {
    "duration": 8,
    "start_time": "2022-01-09T09:54:34.153Z"
   },
   {
    "duration": 36,
    "start_time": "2022-01-09T09:54:34.162Z"
   },
   {
    "duration": 26,
    "start_time": "2022-01-09T09:54:34.199Z"
   },
   {
    "duration": 15,
    "start_time": "2022-01-09T09:56:19.980Z"
   },
   {
    "duration": 64,
    "start_time": "2022-01-09T09:56:26.666Z"
   },
   {
    "duration": 9,
    "start_time": "2022-01-09T09:56:26.732Z"
   },
   {
    "duration": 9,
    "start_time": "2022-01-09T09:56:26.743Z"
   },
   {
    "duration": 37,
    "start_time": "2022-01-09T09:56:26.754Z"
   },
   {
    "duration": 15,
    "start_time": "2022-01-09T09:56:26.793Z"
   },
   {
    "duration": 5,
    "start_time": "2022-01-09T09:58:08.826Z"
   },
   {
    "duration": 5,
    "start_time": "2022-01-09T09:58:31.284Z"
   },
   {
    "duration": 245,
    "start_time": "2022-01-09T09:58:43.754Z"
   },
   {
    "duration": 53,
    "start_time": "2022-01-09T09:59:14.712Z"
   },
   {
    "duration": 12,
    "start_time": "2022-01-09T09:59:40.048Z"
   },
   {
    "duration": 24,
    "start_time": "2022-01-09T09:59:51.278Z"
   },
   {
    "duration": 15,
    "start_time": "2022-01-09T09:59:57.216Z"
   },
   {
    "duration": 14,
    "start_time": "2022-01-09T10:01:03.571Z"
   },
   {
    "duration": 194,
    "start_time": "2022-01-09T10:01:39.651Z"
   },
   {
    "duration": 28,
    "start_time": "2022-01-09T10:05:27.279Z"
   },
   {
    "duration": 25,
    "start_time": "2022-01-09T10:05:46.770Z"
   },
   {
    "duration": 14,
    "start_time": "2022-01-09T10:07:30.678Z"
   },
   {
    "duration": 14,
    "start_time": "2022-01-09T10:07:33.672Z"
   },
   {
    "duration": 14,
    "start_time": "2022-01-09T10:08:12.316Z"
   },
   {
    "duration": 16,
    "start_time": "2022-01-09T10:11:10.168Z"
   },
   {
    "duration": 181,
    "start_time": "2022-01-09T10:12:35.478Z"
   },
   {
    "duration": 58,
    "start_time": "2022-01-09T10:12:57.431Z"
   },
   {
    "duration": 38,
    "start_time": "2022-01-09T10:13:04.067Z"
   },
   {
    "duration": 161,
    "start_time": "2022-01-09T10:14:16.965Z"
   },
   {
    "duration": 81,
    "start_time": "2022-01-09T10:14:42.381Z"
   },
   {
    "duration": 16,
    "start_time": "2022-01-09T10:27:38.193Z"
   },
   {
    "duration": 13,
    "start_time": "2022-01-09T10:27:51.100Z"
   },
   {
    "duration": 14,
    "start_time": "2022-01-09T10:27:58.940Z"
   },
   {
    "duration": 13,
    "start_time": "2022-01-09T10:31:21.066Z"
   },
   {
    "duration": 15,
    "start_time": "2022-01-09T10:31:48.148Z"
   },
   {
    "duration": 24,
    "start_time": "2022-01-09T10:32:07.768Z"
   },
   {
    "duration": 13,
    "start_time": "2022-01-09T10:32:30.424Z"
   },
   {
    "duration": 751,
    "start_time": "2022-01-09T10:41:01.003Z"
   },
   {
    "duration": 12,
    "start_time": "2022-01-09T10:41:25.334Z"
   },
   {
    "duration": 6210,
    "start_time": "2022-01-09T10:41:37.857Z"
   },
   {
    "duration": 4200,
    "start_time": "2022-01-09T10:41:52.227Z"
   },
   {
    "duration": 172,
    "start_time": "2022-01-09T10:41:58.334Z"
   },
   {
    "duration": 655,
    "start_time": "2022-01-09T10:42:08.880Z"
   },
   {
    "duration": 659,
    "start_time": "2022-01-09T10:44:09.214Z"
   },
   {
    "duration": 21,
    "start_time": "2022-01-09T10:47:28.738Z"
   },
   {
    "duration": 190,
    "start_time": "2022-01-09T11:32:53.024Z"
   },
   {
    "duration": 6,
    "start_time": "2022-01-09T11:33:38.241Z"
   },
   {
    "duration": 7,
    "start_time": "2022-01-09T11:33:59.026Z"
   },
   {
    "duration": 186,
    "start_time": "2022-01-09T11:34:17.016Z"
   },
   {
    "duration": 171,
    "start_time": "2022-01-09T11:34:42.405Z"
   },
   {
    "duration": 7,
    "start_time": "2022-01-09T11:34:55.289Z"
   },
   {
    "duration": 5,
    "start_time": "2022-01-09T11:35:10.346Z"
   },
   {
    "duration": 7,
    "start_time": "2022-01-09T11:36:32.546Z"
   },
   {
    "duration": 644,
    "start_time": "2022-01-09T11:36:51.960Z"
   },
   {
    "duration": 672,
    "start_time": "2022-01-09T11:37:36.854Z"
   },
   {
    "duration": 54,
    "start_time": "2022-01-09T11:38:29.833Z"
   },
   {
    "duration": 674,
    "start_time": "2022-01-09T11:38:40.789Z"
   },
   {
    "duration": 842,
    "start_time": "2022-01-09T11:39:27.620Z"
   },
   {
    "duration": 835,
    "start_time": "2022-01-09T11:39:35.268Z"
   },
   {
    "duration": 661,
    "start_time": "2022-01-09T11:39:43.651Z"
   },
   {
    "duration": 660,
    "start_time": "2022-01-09T11:39:58.416Z"
   },
   {
    "duration": 677,
    "start_time": "2022-01-09T11:40:10.900Z"
   },
   {
    "duration": 22,
    "start_time": "2022-01-09T11:41:12.651Z"
   },
   {
    "duration": 6,
    "start_time": "2022-01-09T11:41:25.586Z"
   },
   {
    "duration": 643,
    "start_time": "2022-01-09T11:41:51.821Z"
   },
   {
    "duration": 678,
    "start_time": "2022-01-09T11:44:58.332Z"
   },
   {
    "duration": 835,
    "start_time": "2022-01-09T11:47:39.627Z"
   },
   {
    "duration": 669,
    "start_time": "2022-01-09T11:50:02.454Z"
   },
   {
    "duration": 660,
    "start_time": "2022-01-09T11:50:09.304Z"
   },
   {
    "duration": 657,
    "start_time": "2022-01-09T11:50:16.671Z"
   },
   {
    "duration": 949,
    "start_time": "2022-01-09T11:50:39.824Z"
   },
   {
    "duration": 700,
    "start_time": "2022-01-09T11:51:39.826Z"
   },
   {
    "duration": 188,
    "start_time": "2022-01-09T12:05:36.960Z"
   },
   {
    "duration": 174,
    "start_time": "2022-01-09T12:05:54.095Z"
   },
   {
    "duration": 173,
    "start_time": "2022-01-09T12:08:03.289Z"
   },
   {
    "duration": 177,
    "start_time": "2022-01-09T12:08:27.648Z"
   },
   {
    "duration": 173,
    "start_time": "2022-01-09T12:08:47.222Z"
   },
   {
    "duration": 195,
    "start_time": "2022-01-09T12:09:04.563Z"
   },
   {
    "duration": 2144,
    "start_time": "2022-01-09T12:09:08.137Z"
   },
   {
    "duration": 768,
    "start_time": "2022-01-09T12:09:40.006Z"
   },
   {
    "duration": 2547,
    "start_time": "2022-01-09T12:09:44.920Z"
   },
   {
    "duration": 2530,
    "start_time": "2022-01-09T12:10:44.744Z"
   },
   {
    "duration": 2611,
    "start_time": "2022-01-09T12:10:53.656Z"
   },
   {
    "duration": 2548,
    "start_time": "2022-01-09T12:40:50.908Z"
   },
   {
    "duration": 2679,
    "start_time": "2022-01-09T12:45:48.095Z"
   },
   {
    "duration": 2633,
    "start_time": "2022-01-09T12:45:53.571Z"
   },
   {
    "duration": 2634,
    "start_time": "2022-01-09T12:45:59.505Z"
   },
   {
    "duration": 2660,
    "start_time": "2022-01-09T12:46:06.290Z"
   },
   {
    "duration": 2536,
    "start_time": "2022-01-09T12:46:20.580Z"
   },
   {
    "duration": 2501,
    "start_time": "2022-01-09T12:46:26.445Z"
   },
   {
    "duration": 59,
    "start_time": "2022-01-09T12:46:44.187Z"
   },
   {
    "duration": 2529,
    "start_time": "2022-01-09T12:46:47.835Z"
   },
   {
    "duration": 2663,
    "start_time": "2022-01-09T12:53:03.489Z"
   },
   {
    "duration": 2600,
    "start_time": "2022-01-09T13:00:10.051Z"
   },
   {
    "duration": 2533,
    "start_time": "2022-01-09T13:01:25.516Z"
   },
   {
    "duration": 2989,
    "start_time": "2022-01-09T13:02:29.678Z"
   },
   {
    "duration": 2656,
    "start_time": "2022-01-09T13:03:48.883Z"
   },
   {
    "duration": 2651,
    "start_time": "2022-01-09T13:03:59.369Z"
   },
   {
    "duration": 2805,
    "start_time": "2022-01-09T13:04:21.269Z"
   },
   {
    "duration": 71,
    "start_time": "2022-01-09T13:08:57.887Z"
   },
   {
    "duration": 57,
    "start_time": "2022-01-09T13:09:05.513Z"
   },
   {
    "duration": 4,
    "start_time": "2022-01-09T13:09:18.601Z"
   },
   {
    "duration": 280,
    "start_time": "2022-01-09T13:12:18.363Z"
   },
   {
    "duration": 321,
    "start_time": "2022-01-09T13:12:34.126Z"
   },
   {
    "duration": 2507,
    "start_time": "2022-01-09T13:12:59.983Z"
   },
   {
    "duration": 234,
    "start_time": "2022-01-09T13:13:46.979Z"
   },
   {
    "duration": 4380,
    "start_time": "2022-01-09T13:13:50.854Z"
   },
   {
    "duration": 4452,
    "start_time": "2022-01-09T13:14:04.567Z"
   },
   {
    "duration": 4439,
    "start_time": "2022-01-09T13:14:11.321Z"
   },
   {
    "duration": 2686,
    "start_time": "2022-01-09T13:14:54.490Z"
   },
   {
    "duration": 2715,
    "start_time": "2022-01-09T13:15:51.704Z"
   },
   {
    "duration": 2835,
    "start_time": "2022-01-09T13:15:55.237Z"
   },
   {
    "duration": 7262,
    "start_time": "2022-01-09T13:16:00.395Z"
   },
   {
    "duration": 7117,
    "start_time": "2022-01-09T13:16:07.878Z"
   },
   {
    "duration": 7053,
    "start_time": "2022-01-09T13:16:35.414Z"
   },
   {
    "duration": 7288,
    "start_time": "2022-01-09T13:17:42.978Z"
   },
   {
    "duration": 2875,
    "start_time": "2022-01-09T13:18:00.592Z"
   },
   {
    "duration": 4815,
    "start_time": "2022-01-09T13:18:06.038Z"
   },
   {
    "duration": 2760,
    "start_time": "2022-01-09T13:19:29.596Z"
   },
   {
    "duration": 6851,
    "start_time": "2022-01-09T13:19:52.319Z"
   },
   {
    "duration": 168,
    "start_time": "2022-01-09T13:28:24.964Z"
   },
   {
    "duration": 693,
    "start_time": "2022-01-09T13:28:32.584Z"
   },
   {
    "duration": 13,
    "start_time": "2022-01-09T13:28:48.386Z"
   },
   {
    "duration": 19,
    "start_time": "2022-01-09T13:30:20.664Z"
   },
   {
    "duration": 16,
    "start_time": "2022-01-09T13:30:53.682Z"
   },
   {
    "duration": 18,
    "start_time": "2022-01-09T13:31:22.957Z"
   },
   {
    "duration": 15,
    "start_time": "2022-01-09T13:31:28.765Z"
   },
   {
    "duration": 18,
    "start_time": "2022-01-09T13:31:37.515Z"
   },
   {
    "duration": 33,
    "start_time": "2022-01-09T13:31:46.346Z"
   },
   {
    "duration": 70,
    "start_time": "2022-01-09T15:10:59.792Z"
   },
   {
    "duration": 11,
    "start_time": "2022-01-09T15:10:59.865Z"
   },
   {
    "duration": 23,
    "start_time": "2022-01-09T15:10:59.878Z"
   },
   {
    "duration": 30,
    "start_time": "2022-01-09T15:10:59.903Z"
   },
   {
    "duration": 40,
    "start_time": "2022-01-09T15:11:06.306Z"
   },
   {
    "duration": 8,
    "start_time": "2022-01-09T15:11:55.756Z"
   },
   {
    "duration": 14,
    "start_time": "2022-01-09T15:12:16.225Z"
   },
   {
    "duration": 8,
    "start_time": "2022-01-09T15:13:07.827Z"
   },
   {
    "duration": 22,
    "start_time": "2022-01-09T15:13:34.674Z"
   },
   {
    "duration": 211,
    "start_time": "2022-01-11T18:14:50.008Z"
   },
   {
    "duration": 644,
    "start_time": "2022-01-11T18:14:56.065Z"
   },
   {
    "duration": 9,
    "start_time": "2022-01-11T18:14:56.711Z"
   },
   {
    "duration": 9,
    "start_time": "2022-01-11T18:14:56.721Z"
   },
   {
    "duration": 12,
    "start_time": "2022-01-11T18:14:56.731Z"
   },
   {
    "duration": 6817,
    "start_time": "2022-01-11T18:14:58.983Z"
   },
   {
    "duration": 6,
    "start_time": "2022-01-11T18:16:19.868Z"
   },
   {
    "duration": 26,
    "start_time": "2022-01-11T18:19:43.648Z"
   },
   {
    "duration": 204,
    "start_time": "2022-01-11T18:24:02.186Z"
   },
   {
    "duration": 28,
    "start_time": "2022-01-11T18:24:07.984Z"
   },
   {
    "duration": 29,
    "start_time": "2022-01-11T18:28:49.463Z"
   },
   {
    "duration": 186,
    "start_time": "2022-01-11T18:29:41.077Z"
   },
   {
    "duration": 28,
    "start_time": "2022-01-11T18:33:10.511Z"
   },
   {
    "duration": 27,
    "start_time": "2022-01-11T18:33:19.078Z"
   },
   {
    "duration": 33,
    "start_time": "2022-01-11T18:36:14.863Z"
   },
   {
    "duration": 28,
    "start_time": "2022-01-11T18:36:30.399Z"
   },
   {
    "duration": 56,
    "start_time": "2022-01-11T18:40:24.774Z"
   },
   {
    "duration": 316,
    "start_time": "2022-01-11T18:40:50.523Z"
   },
   {
    "duration": 8,
    "start_time": "2022-01-11T18:41:57.448Z"
   },
   {
    "duration": 177,
    "start_time": "2022-01-11T18:42:23.283Z"
   },
   {
    "duration": 46,
    "start_time": "2022-01-11T18:47:06.799Z"
   },
   {
    "duration": 44,
    "start_time": "2022-01-11T18:47:17.246Z"
   },
   {
    "duration": 85,
    "start_time": "2022-01-11T18:47:45.714Z"
   },
   {
    "duration": 189,
    "start_time": "2022-01-11T18:52:59.124Z"
   },
   {
    "duration": 4,
    "start_time": "2022-01-11T18:56:20.823Z"
   },
   {
    "duration": 11,
    "start_time": "2022-01-11T18:56:23.262Z"
   },
   {
    "duration": 17,
    "start_time": "2022-01-11T18:57:26.403Z"
   },
   {
    "duration": 20,
    "start_time": "2022-01-11T18:57:41.712Z"
   },
   {
    "duration": 35,
    "start_time": "2022-01-11T18:58:25.043Z"
   },
   {
    "duration": 34,
    "start_time": "2022-01-11T18:58:38.210Z"
   },
   {
    "duration": 67,
    "start_time": "2022-01-11T18:58:52.761Z"
   },
   {
    "duration": 10,
    "start_time": "2022-01-11T18:58:52.830Z"
   },
   {
    "duration": 10,
    "start_time": "2022-01-11T18:58:52.842Z"
   },
   {
    "duration": 43,
    "start_time": "2022-01-11T18:58:52.853Z"
   },
   {
    "duration": 28,
    "start_time": "2022-01-11T18:58:52.898Z"
   },
   {
    "duration": 40,
    "start_time": "2022-01-11T18:58:54.991Z"
   },
   {
    "duration": 20,
    "start_time": "2022-01-11T19:00:06.320Z"
   },
   {
    "duration": 20,
    "start_time": "2022-01-11T19:00:40.877Z"
   },
   {
    "duration": 231,
    "start_time": "2022-01-11T19:00:51.015Z"
   },
   {
    "duration": 31,
    "start_time": "2022-01-11T19:01:00.667Z"
   },
   {
    "duration": 14,
    "start_time": "2022-01-11T19:02:16.323Z"
   },
   {
    "duration": 13,
    "start_time": "2022-01-11T19:02:51.760Z"
   },
   {
    "duration": 15,
    "start_time": "2022-01-11T19:03:04.273Z"
   },
   {
    "duration": 29,
    "start_time": "2022-01-11T19:03:28.885Z"
   },
   {
    "duration": 36,
    "start_time": "2022-01-11T19:05:45.741Z"
   },
   {
    "duration": 36,
    "start_time": "2022-01-11T19:06:12.313Z"
   },
   {
    "duration": 36,
    "start_time": "2022-01-11T19:06:27.583Z"
   },
   {
    "duration": 2456,
    "start_time": "2022-01-11T19:06:42.431Z"
   },
   {
    "duration": 72,
    "start_time": "2022-01-11T19:06:53.042Z"
   },
   {
    "duration": 9,
    "start_time": "2022-01-11T19:06:53.116Z"
   },
   {
    "duration": 10,
    "start_time": "2022-01-11T19:06:53.127Z"
   },
   {
    "duration": 13,
    "start_time": "2022-01-11T19:06:53.138Z"
   },
   {
    "duration": 52,
    "start_time": "2022-01-11T19:06:53.153Z"
   },
   {
    "duration": 42,
    "start_time": "2022-01-11T19:06:53.207Z"
   },
   {
    "duration": 4,
    "start_time": "2022-01-11T19:06:53.250Z"
   },
   {
    "duration": 35,
    "start_time": "2022-01-11T19:06:53.257Z"
   },
   {
    "duration": 28,
    "start_time": "2022-01-11T19:06:53.294Z"
   },
   {
    "duration": 113,
    "start_time": "2022-01-11T19:06:53.324Z"
   },
   {
    "duration": 49,
    "start_time": "2022-01-11T19:06:55.428Z"
   },
   {
    "duration": 51,
    "start_time": "2022-01-11T19:07:09.548Z"
   },
   {
    "duration": 1574,
    "start_time": "2022-01-11T19:07:20.643Z"
   },
   {
    "duration": 51,
    "start_time": "2022-01-11T19:07:29.817Z"
   },
   {
    "duration": 38,
    "start_time": "2022-01-11T19:10:53.570Z"
   },
   {
    "duration": 66,
    "start_time": "2022-01-11T19:11:05.131Z"
   },
   {
    "duration": 9,
    "start_time": "2022-01-11T19:11:05.198Z"
   },
   {
    "duration": 41,
    "start_time": "2022-01-11T19:11:05.209Z"
   },
   {
    "duration": 25,
    "start_time": "2022-01-11T19:11:05.252Z"
   },
   {
    "duration": 40,
    "start_time": "2022-01-11T19:11:05.279Z"
   },
   {
    "duration": 37,
    "start_time": "2022-01-11T19:11:05.321Z"
   },
   {
    "duration": 3,
    "start_time": "2022-01-11T19:11:05.360Z"
   },
   {
    "duration": 26,
    "start_time": "2022-01-11T19:11:05.365Z"
   },
   {
    "duration": 40,
    "start_time": "2022-01-11T19:11:07.536Z"
   },
   {
    "duration": 91,
    "start_time": "2022-01-11T19:11:10.149Z"
   },
   {
    "duration": 45,
    "start_time": "2022-01-11T19:11:14.145Z"
   },
   {
    "duration": 50,
    "start_time": "2022-01-11T19:11:34.021Z"
   },
   {
    "duration": 59,
    "start_time": "2022-01-11T19:15:37.986Z"
   },
   {
    "duration": 52,
    "start_time": "2022-01-11T19:17:25.690Z"
   },
   {
    "duration": 656,
    "start_time": "2022-01-11T19:18:27.274Z"
   },
   {
    "duration": 672,
    "start_time": "2022-01-11T19:18:44.233Z"
   },
   {
    "duration": 743,
    "start_time": "2022-01-11T19:21:20.121Z"
   },
   {
    "duration": 3323,
    "start_time": "2022-01-11T19:29:54.076Z"
   },
   {
    "duration": 3028,
    "start_time": "2022-01-11T19:30:08.734Z"
   },
   {
    "duration": 3042,
    "start_time": "2022-01-11T19:30:51.385Z"
   },
   {
    "duration": 5329,
    "start_time": "2022-01-11T19:44:54.905Z"
   },
   {
    "duration": 206,
    "start_time": "2022-01-11T19:45:18.091Z"
   },
   {
    "duration": 180,
    "start_time": "2022-01-11T19:45:28.272Z"
   },
   {
    "duration": 173,
    "start_time": "2022-01-11T19:45:46.124Z"
   },
   {
    "duration": 178,
    "start_time": "2022-01-11T19:45:51.865Z"
   },
   {
    "duration": 200,
    "start_time": "2022-01-11T19:45:56.770Z"
   },
   {
    "duration": 388,
    "start_time": "2022-01-11T19:46:07.718Z"
   },
   {
    "duration": 61,
    "start_time": "2022-01-11T19:46:56.438Z"
   },
   {
    "duration": 13,
    "start_time": "2022-01-11T19:47:02.235Z"
   },
   {
    "duration": 12,
    "start_time": "2022-01-11T19:47:24.409Z"
   },
   {
    "duration": 178,
    "start_time": "2022-01-11T19:47:33.687Z"
   },
   {
    "duration": 12,
    "start_time": "2022-01-11T19:47:40.559Z"
   },
   {
    "duration": 11,
    "start_time": "2022-01-11T19:47:50.663Z"
   },
   {
    "duration": 1386,
    "start_time": "2022-01-11T19:48:19.848Z"
   },
   {
    "duration": 10,
    "start_time": "2022-01-11T19:48:42.503Z"
   },
   {
    "duration": 12,
    "start_time": "2022-01-11T19:48:58.804Z"
   },
   {
    "duration": 11,
    "start_time": "2022-01-11T19:49:54.606Z"
   },
   {
    "duration": 185,
    "start_time": "2022-01-11T19:52:27.621Z"
   },
   {
    "duration": 10,
    "start_time": "2022-01-11T19:53:25.033Z"
   },
   {
    "duration": 191,
    "start_time": "2022-01-11T19:53:38.406Z"
   },
   {
    "duration": 12,
    "start_time": "2022-01-11T19:53:47.713Z"
   },
   {
    "duration": 10,
    "start_time": "2022-01-11T19:54:23.744Z"
   },
   {
    "duration": 10,
    "start_time": "2022-01-11T19:58:02.558Z"
   },
   {
    "duration": 9,
    "start_time": "2022-01-11T19:58:14.885Z"
   },
   {
    "duration": 10,
    "start_time": "2022-01-11T19:58:43.757Z"
   },
   {
    "duration": 11,
    "start_time": "2022-01-11T19:58:54.191Z"
   },
   {
    "duration": 12,
    "start_time": "2022-01-11T19:59:00.470Z"
   },
   {
    "duration": 15,
    "start_time": "2022-01-11T20:00:16.303Z"
   },
   {
    "duration": 13,
    "start_time": "2022-01-11T20:01:30.631Z"
   },
   {
    "duration": 5,
    "start_time": "2022-01-11T20:07:52.464Z"
   },
   {
    "duration": 15,
    "start_time": "2022-01-11T20:08:00.867Z"
   },
   {
    "duration": 64,
    "start_time": "2022-01-11T20:16:30.658Z"
   },
   {
    "duration": 61,
    "start_time": "2022-01-11T20:16:58.669Z"
   },
   {
    "duration": 85,
    "start_time": "2022-01-11T20:17:05.928Z"
   },
   {
    "duration": 10,
    "start_time": "2022-01-11T20:18:51.924Z"
   },
   {
    "duration": 72,
    "start_time": "2022-01-11T20:20:29.061Z"
   },
   {
    "duration": 11,
    "start_time": "2022-01-11T20:20:34.718Z"
   },
   {
    "duration": 19,
    "start_time": "2022-01-11T20:20:39.114Z"
   },
   {
    "duration": 7,
    "start_time": "2022-01-11T20:20:52.840Z"
   },
   {
    "duration": 59,
    "start_time": "2022-01-11T20:23:34.602Z"
   },
   {
    "duration": 14,
    "start_time": "2022-01-11T20:23:38.251Z"
   },
   {
    "duration": 14,
    "start_time": "2022-01-11T20:23:46.337Z"
   },
   {
    "duration": 20,
    "start_time": "2022-01-11T20:24:19.465Z"
   },
   {
    "duration": 22,
    "start_time": "2022-01-11T20:24:59.695Z"
   },
   {
    "duration": 28,
    "start_time": "2022-01-11T20:25:49.907Z"
   },
   {
    "duration": 34,
    "start_time": "2022-01-11T20:26:47.313Z"
   },
   {
    "duration": 65,
    "start_time": "2022-01-11T20:27:13.156Z"
   },
   {
    "duration": 57,
    "start_time": "2022-01-11T20:27:27.605Z"
   },
   {
    "duration": 80,
    "start_time": "2022-01-11T20:27:37.603Z"
   },
   {
    "duration": 5031,
    "start_time": "2022-01-11T20:27:40.563Z"
   },
   {
    "duration": 31,
    "start_time": "2022-01-11T20:27:55.301Z"
   },
   {
    "duration": 203,
    "start_time": "2022-01-11T20:28:19.587Z"
   },
   {
    "duration": 29,
    "start_time": "2022-01-11T20:28:30.481Z"
   },
   {
    "duration": 29,
    "start_time": "2022-01-11T20:28:52.331Z"
   },
   {
    "duration": 218,
    "start_time": "2022-01-11T20:29:16.930Z"
   },
   {
    "duration": 187,
    "start_time": "2022-01-11T20:29:28.342Z"
   },
   {
    "duration": 193,
    "start_time": "2022-01-11T20:29:42.557Z"
   },
   {
    "duration": 26,
    "start_time": "2022-01-11T20:29:51.874Z"
   },
   {
    "duration": 30,
    "start_time": "2022-01-11T20:29:56.263Z"
   },
   {
    "duration": 195,
    "start_time": "2022-01-11T20:31:19.190Z"
   },
   {
    "duration": 31,
    "start_time": "2022-01-11T20:32:11.329Z"
   },
   {
    "duration": 31,
    "start_time": "2022-01-11T20:32:16.942Z"
   },
   {
    "duration": 53,
    "start_time": "2022-01-11T20:32:20.189Z"
   },
   {
    "duration": 31,
    "start_time": "2022-01-11T20:32:42.313Z"
   },
   {
    "duration": 29,
    "start_time": "2022-01-11T20:32:54.849Z"
   },
   {
    "duration": 25,
    "start_time": "2022-01-11T20:33:18.452Z"
   },
   {
    "duration": 26,
    "start_time": "2022-01-11T20:35:22.065Z"
   },
   {
    "duration": 26,
    "start_time": "2022-01-11T20:35:32.533Z"
   },
   {
    "duration": 72,
    "start_time": "2022-01-11T20:35:53.020Z"
   },
   {
    "duration": 25,
    "start_time": "2022-01-11T20:35:57.549Z"
   },
   {
    "duration": 26,
    "start_time": "2022-01-11T20:36:02.528Z"
   },
   {
    "duration": 331,
    "start_time": "2022-01-11T20:36:10.848Z"
   },
   {
    "duration": 26,
    "start_time": "2022-01-11T20:36:17.494Z"
   },
   {
    "duration": 29,
    "start_time": "2022-01-11T20:36:29.880Z"
   },
   {
    "duration": 28,
    "start_time": "2022-01-11T20:37:12.750Z"
   },
   {
    "duration": 37,
    "start_time": "2022-01-11T20:37:21.191Z"
   },
   {
    "duration": 6,
    "start_time": "2022-01-11T20:58:32.748Z"
   },
   {
    "duration": 266,
    "start_time": "2022-01-11T20:58:37.415Z"
   },
   {
    "duration": 204,
    "start_time": "2022-01-11T20:59:58.130Z"
   },
   {
    "duration": 206,
    "start_time": "2022-01-11T21:00:04.915Z"
   },
   {
    "duration": 220,
    "start_time": "2022-01-11T21:01:14.994Z"
   },
   {
    "duration": 345,
    "start_time": "2022-01-11T21:01:24.576Z"
   },
   {
    "duration": 390,
    "start_time": "2022-01-11T21:05:11.682Z"
   },
   {
    "duration": 56,
    "start_time": "2022-01-11T21:06:06.618Z"
   },
   {
    "duration": 368,
    "start_time": "2022-01-11T21:06:10.474Z"
   },
   {
    "duration": 322,
    "start_time": "2022-01-11T21:09:13.253Z"
   },
   {
    "duration": 320,
    "start_time": "2022-01-11T21:09:28.386Z"
   },
   {
    "duration": 343,
    "start_time": "2022-01-11T21:13:46.868Z"
   },
   {
    "duration": 2071,
    "start_time": "2022-01-11T21:14:51.132Z"
   },
   {
    "duration": 639,
    "start_time": "2022-01-11T21:15:25.356Z"
   },
   {
    "duration": 736,
    "start_time": "2022-01-11T21:15:29.441Z"
   },
   {
    "duration": 1066,
    "start_time": "2022-01-11T21:15:51.014Z"
   },
   {
    "duration": 696,
    "start_time": "2022-01-11T21:22:37.134Z"
   },
   {
    "duration": 760,
    "start_time": "2022-01-11T21:22:42.888Z"
   },
   {
    "duration": 284,
    "start_time": "2022-01-11T21:23:15.705Z"
   },
   {
    "duration": 594,
    "start_time": "2022-01-11T21:23:30.064Z"
   },
   {
    "duration": 227,
    "start_time": "2022-01-11T21:24:05.106Z"
   },
   {
    "duration": 185,
    "start_time": "2022-01-11T21:24:17.986Z"
   },
   {
    "duration": 352,
    "start_time": "2022-01-11T21:24:31.607Z"
   },
   {
    "duration": 181,
    "start_time": "2022-01-11T21:27:08.192Z"
   },
   {
    "duration": 182,
    "start_time": "2022-01-11T21:27:13.906Z"
   },
   {
    "duration": 59,
    "start_time": "2022-01-11T21:27:55.683Z"
   },
   {
    "duration": 15,
    "start_time": "2022-01-11T21:28:10.176Z"
   },
   {
    "duration": 17,
    "start_time": "2022-01-11T21:28:21.011Z"
   },
   {
    "duration": 17,
    "start_time": "2022-01-11T21:28:29.100Z"
   },
   {
    "duration": 191,
    "start_time": "2022-01-11T21:32:49.861Z"
   },
   {
    "duration": 205,
    "start_time": "2022-01-11T21:32:57.210Z"
   },
   {
    "duration": 1124,
    "start_time": "2022-01-11T21:33:45.300Z"
   },
   {
    "duration": 195,
    "start_time": "2022-01-11T21:34:09.974Z"
   },
   {
    "duration": 184,
    "start_time": "2022-01-11T21:35:36.153Z"
   },
   {
    "duration": 188,
    "start_time": "2022-01-11T21:35:51.452Z"
   },
   {
    "duration": 18,
    "start_time": "2022-01-11T21:42:45.816Z"
   },
   {
    "duration": 17,
    "start_time": "2022-01-11T21:43:19.912Z"
   },
   {
    "duration": 284,
    "start_time": "2022-01-11T21:49:16.400Z"
   },
   {
    "duration": 31,
    "start_time": "2022-01-11T21:49:23.466Z"
   },
   {
    "duration": 24,
    "start_time": "2022-01-11T21:49:48.140Z"
   },
   {
    "duration": 27,
    "start_time": "2022-01-11T21:50:02.036Z"
   },
   {
    "duration": 25,
    "start_time": "2022-01-11T21:52:02.836Z"
   },
   {
    "duration": 98,
    "start_time": "2022-01-11T21:55:52.553Z"
   },
   {
    "duration": 38,
    "start_time": "2022-01-11T21:55:52.654Z"
   },
   {
    "duration": 15,
    "start_time": "2022-01-11T21:55:52.695Z"
   },
   {
    "duration": 23,
    "start_time": "2022-01-11T21:55:52.713Z"
   },
   {
    "duration": 81,
    "start_time": "2022-01-11T21:55:52.739Z"
   },
   {
    "duration": 91,
    "start_time": "2022-01-11T21:55:52.823Z"
   },
   {
    "duration": 4,
    "start_time": "2022-01-11T21:55:52.917Z"
   },
   {
    "duration": 17,
    "start_time": "2022-01-11T21:55:52.925Z"
   },
   {
    "duration": 95,
    "start_time": "2022-01-11T21:55:52.945Z"
   },
   {
    "duration": 149,
    "start_time": "2022-01-11T21:55:53.042Z"
   },
   {
    "duration": 61,
    "start_time": "2022-01-11T21:55:53.194Z"
   },
   {
    "duration": 817,
    "start_time": "2022-01-11T21:55:53.257Z"
   },
   {
    "duration": 3,
    "start_time": "2022-01-11T21:55:54.077Z"
   },
   {
    "duration": 4128,
    "start_time": "2022-01-11T21:55:54.092Z"
   },
   {
    "duration": 389,
    "start_time": "2022-01-11T21:55:58.223Z"
   },
   {
    "duration": 1248,
    "start_time": "2022-01-11T21:55:58.614Z"
   },
   {
    "duration": 41,
    "start_time": "2022-01-11T21:55:59.865Z"
   },
   {
    "duration": 25,
    "start_time": "2022-01-11T21:55:59.908Z"
   },
   {
    "duration": 63,
    "start_time": "2022-01-11T21:55:59.936Z"
   },
   {
    "duration": 216,
    "start_time": "2022-01-11T21:58:47.491Z"
   },
   {
    "duration": 256,
    "start_time": "2022-01-11T21:58:54.486Z"
   },
   {
    "duration": 26,
    "start_time": "2022-01-11T21:59:12.424Z"
   },
   {
    "duration": 37,
    "start_time": "2022-01-11T21:59:23.018Z"
   },
   {
    "duration": 37,
    "start_time": "2022-01-11T21:59:35.537Z"
   },
   {
    "duration": 766,
    "start_time": "2022-01-11T21:59:42.520Z"
   },
   {
    "duration": 46,
    "start_time": "2022-01-11T21:59:46.043Z"
   },
   {
    "duration": 56,
    "start_time": "2022-01-11T21:59:53.622Z"
   },
   {
    "duration": 905,
    "start_time": "2022-01-11T22:00:33.725Z"
   },
   {
    "duration": 217,
    "start_time": "2022-01-11T22:01:21.716Z"
   },
   {
    "duration": 231,
    "start_time": "2022-01-11T22:01:30.101Z"
   },
   {
    "duration": 206,
    "start_time": "2022-01-11T22:01:37.467Z"
   },
   {
    "duration": 22,
    "start_time": "2022-01-11T22:01:53.289Z"
   },
   {
    "duration": 1266,
    "start_time": "2022-01-11T22:02:02.239Z"
   },
   {
    "duration": 269,
    "start_time": "2022-01-11T22:02:09.914Z"
   },
   {
    "duration": 69,
    "start_time": "2022-01-11T22:02:29.430Z"
   },
   {
    "duration": 13,
    "start_time": "2022-01-11T22:02:29.502Z"
   },
   {
    "duration": 9,
    "start_time": "2022-01-11T22:02:29.517Z"
   },
   {
    "duration": 13,
    "start_time": "2022-01-11T22:02:29.528Z"
   },
   {
    "duration": 59,
    "start_time": "2022-01-11T22:02:29.543Z"
   },
   {
    "duration": 41,
    "start_time": "2022-01-11T22:02:29.604Z"
   },
   {
    "duration": 3,
    "start_time": "2022-01-11T22:02:29.647Z"
   },
   {
    "duration": 39,
    "start_time": "2022-01-11T22:02:29.653Z"
   },
   {
    "duration": 42,
    "start_time": "2022-01-11T22:02:29.695Z"
   },
   {
    "duration": 108,
    "start_time": "2022-01-11T22:02:29.738Z"
   },
   {
    "duration": 64,
    "start_time": "2022-01-11T22:02:29.848Z"
   },
   {
    "duration": 749,
    "start_time": "2022-01-11T22:02:29.914Z"
   },
   {
    "duration": 3,
    "start_time": "2022-01-11T22:02:30.665Z"
   },
   {
    "duration": 3084,
    "start_time": "2022-01-11T22:02:30.669Z"
   },
   {
    "duration": 338,
    "start_time": "2022-01-11T22:02:33.755Z"
   },
   {
    "duration": 1242,
    "start_time": "2022-01-11T22:02:34.095Z"
   },
   {
    "duration": 27,
    "start_time": "2022-01-11T22:02:35.339Z"
   },
   {
    "duration": 40,
    "start_time": "2022-01-11T22:02:35.369Z"
   },
   {
    "duration": 36,
    "start_time": "2022-01-11T22:02:35.411Z"
   },
   {
    "duration": 17,
    "start_time": "2022-01-11T22:02:35.449Z"
   },
   {
    "duration": 53,
    "start_time": "2022-01-11T22:02:35.467Z"
   },
   {
    "duration": 31,
    "start_time": "2022-01-11T22:02:35.522Z"
   },
   {
    "duration": 567,
    "start_time": "2022-01-11T22:02:42.386Z"
   },
   {
    "duration": 24,
    "start_time": "2022-01-11T22:03:35.165Z"
   },
   {
    "duration": 71,
    "start_time": "2022-01-11T22:03:59.288Z"
   },
   {
    "duration": 10,
    "start_time": "2022-01-11T22:03:59.361Z"
   },
   {
    "duration": 26,
    "start_time": "2022-01-11T22:03:59.373Z"
   },
   {
    "duration": 13,
    "start_time": "2022-01-11T22:03:59.401Z"
   },
   {
    "duration": 31,
    "start_time": "2022-01-11T22:03:59.416Z"
   },
   {
    "duration": 72,
    "start_time": "2022-01-11T22:03:59.449Z"
   },
   {
    "duration": 4,
    "start_time": "2022-01-11T22:03:59.523Z"
   },
   {
    "duration": 13,
    "start_time": "2022-01-11T22:03:59.530Z"
   },
   {
    "duration": 60,
    "start_time": "2022-01-11T22:03:59.545Z"
   },
   {
    "duration": 109,
    "start_time": "2022-01-11T22:03:59.607Z"
   },
   {
    "duration": 72,
    "start_time": "2022-01-11T22:03:59.719Z"
   },
   {
    "duration": 748,
    "start_time": "2022-01-11T22:03:59.793Z"
   },
   {
    "duration": 5,
    "start_time": "2022-01-11T22:04:00.545Z"
   },
   {
    "duration": 3375,
    "start_time": "2022-01-11T22:04:00.553Z"
   },
   {
    "duration": 344,
    "start_time": "2022-01-11T22:04:03.929Z"
   },
   {
    "duration": 1078,
    "start_time": "2022-01-11T22:04:04.275Z"
   },
   {
    "duration": 250,
    "start_time": "2022-01-11T22:04:05.356Z"
   },
   {
    "duration": 27,
    "start_time": "2022-01-11T22:04:05.609Z"
   },
   {
    "duration": 20,
    "start_time": "2022-01-11T22:04:05.638Z"
   },
   {
    "duration": 40,
    "start_time": "2022-01-11T22:04:05.660Z"
   },
   {
    "duration": 31,
    "start_time": "2022-01-11T22:04:05.702Z"
   },
   {
    "duration": 30,
    "start_time": "2022-01-11T22:04:05.735Z"
   },
   {
    "duration": 26,
    "start_time": "2022-01-11T22:04:14.147Z"
   },
   {
    "duration": 29,
    "start_time": "2022-01-11T22:04:17.845Z"
   },
   {
    "duration": 70,
    "start_time": "2022-01-11T22:04:57.728Z"
   },
   {
    "duration": 10,
    "start_time": "2022-01-11T22:04:57.799Z"
   },
   {
    "duration": 10,
    "start_time": "2022-01-11T22:04:57.812Z"
   },
   {
    "duration": 14,
    "start_time": "2022-01-11T22:04:57.824Z"
   },
   {
    "duration": 60,
    "start_time": "2022-01-11T22:04:57.840Z"
   },
   {
    "duration": 42,
    "start_time": "2022-01-11T22:04:57.903Z"
   },
   {
    "duration": 4,
    "start_time": "2022-01-11T22:04:57.948Z"
   },
   {
    "duration": 10,
    "start_time": "2022-01-11T22:04:57.955Z"
   },
   {
    "duration": 41,
    "start_time": "2022-01-11T22:04:57.992Z"
   },
   {
    "duration": 124,
    "start_time": "2022-01-11T22:04:58.035Z"
   },
   {
    "duration": 82,
    "start_time": "2022-01-11T22:04:58.162Z"
   },
   {
    "duration": 716,
    "start_time": "2022-01-11T22:04:58.246Z"
   },
   {
    "duration": 3,
    "start_time": "2022-01-11T22:04:58.965Z"
   },
   {
    "duration": 3425,
    "start_time": "2022-01-11T22:04:58.970Z"
   },
   {
    "duration": 361,
    "start_time": "2022-01-11T22:05:02.398Z"
   },
   {
    "duration": 1117,
    "start_time": "2022-01-11T22:05:02.762Z"
   },
   {
    "duration": 31,
    "start_time": "2022-01-11T22:05:03.881Z"
   },
   {
    "duration": 25,
    "start_time": "2022-01-11T22:05:03.914Z"
   },
   {
    "duration": 19,
    "start_time": "2022-01-11T22:05:03.941Z"
   },
   {
    "duration": 44,
    "start_time": "2022-01-11T22:05:03.962Z"
   },
   {
    "duration": 31,
    "start_time": "2022-01-11T22:05:04.008Z"
   },
   {
    "duration": 61,
    "start_time": "2022-01-11T22:05:04.041Z"
   },
   {
    "duration": 32,
    "start_time": "2022-01-11T22:05:04.105Z"
   },
   {
    "duration": 31,
    "start_time": "2022-01-11T22:05:17.611Z"
   },
   {
    "duration": 35,
    "start_time": "2022-01-11T22:06:13.625Z"
   },
   {
    "duration": 39,
    "start_time": "2022-01-11T22:06:17.436Z"
   },
   {
    "duration": 41,
    "start_time": "2022-01-11T22:06:21.735Z"
   },
   {
    "duration": 40,
    "start_time": "2022-01-11T22:06:29.236Z"
   },
   {
    "duration": 778,
    "start_time": "2022-01-11T22:06:42.798Z"
   },
   {
    "duration": 70,
    "start_time": "2022-01-11T22:07:05.508Z"
   },
   {
    "duration": 719,
    "start_time": "2022-01-11T22:07:18.745Z"
   },
   {
    "duration": 32,
    "start_time": "2022-01-11T22:07:28.637Z"
   },
   {
    "duration": 803,
    "start_time": "2022-01-11T22:07:35.085Z"
   },
   {
    "duration": 39,
    "start_time": "2022-01-11T22:07:43.564Z"
   },
   {
    "duration": 726,
    "start_time": "2022-01-11T22:07:51.005Z"
   },
   {
    "duration": 37,
    "start_time": "2022-01-11T22:07:59.145Z"
   },
   {
    "duration": 96,
    "start_time": "2022-01-11T22:08:29.633Z"
   },
   {
    "duration": 15,
    "start_time": "2022-01-11T22:08:29.732Z"
   },
   {
    "duration": 11,
    "start_time": "2022-01-11T22:08:29.750Z"
   },
   {
    "duration": 39,
    "start_time": "2022-01-11T22:08:29.764Z"
   },
   {
    "duration": 32,
    "start_time": "2022-01-11T22:08:29.806Z"
   },
   {
    "duration": 67,
    "start_time": "2022-01-11T22:08:29.840Z"
   },
   {
    "duration": 5,
    "start_time": "2022-01-11T22:08:29.909Z"
   },
   {
    "duration": 14,
    "start_time": "2022-01-11T22:08:29.917Z"
   },
   {
    "duration": 71,
    "start_time": "2022-01-11T22:08:29.933Z"
   },
   {
    "duration": 109,
    "start_time": "2022-01-11T22:08:30.006Z"
   },
   {
    "duration": 74,
    "start_time": "2022-01-11T22:08:30.117Z"
   },
   {
    "duration": 744,
    "start_time": "2022-01-11T22:08:30.194Z"
   },
   {
    "duration": 4,
    "start_time": "2022-01-11T22:08:30.941Z"
   },
   {
    "duration": 3980,
    "start_time": "2022-01-11T22:08:30.947Z"
   },
   {
    "duration": 370,
    "start_time": "2022-01-11T22:08:34.929Z"
   },
   {
    "duration": 1148,
    "start_time": "2022-01-11T22:08:35.301Z"
   },
   {
    "duration": 41,
    "start_time": "2022-01-11T22:08:36.451Z"
   },
   {
    "duration": 25,
    "start_time": "2022-01-11T22:08:36.494Z"
   },
   {
    "duration": 39,
    "start_time": "2022-01-11T22:08:36.521Z"
   },
   {
    "duration": 39,
    "start_time": "2022-01-11T22:08:36.562Z"
   },
   {
    "duration": 32,
    "start_time": "2022-01-11T22:08:36.604Z"
   },
   {
    "duration": 68,
    "start_time": "2022-01-11T22:08:36.639Z"
   },
   {
    "duration": 32,
    "start_time": "2022-01-11T22:08:36.711Z"
   },
   {
    "duration": 30,
    "start_time": "2022-01-11T22:08:48.860Z"
   },
   {
    "duration": 28,
    "start_time": "2022-01-11T22:08:54.047Z"
   },
   {
    "duration": 29,
    "start_time": "2022-01-11T22:09:28.407Z"
   },
   {
    "duration": 40,
    "start_time": "2022-01-11T22:09:37.392Z"
   },
   {
    "duration": 32,
    "start_time": "2022-01-11T22:09:44.317Z"
   },
   {
    "duration": 33,
    "start_time": "2022-01-11T22:09:48.618Z"
   },
   {
    "duration": 221,
    "start_time": "2022-01-11T22:11:34.361Z"
   },
   {
    "duration": 207,
    "start_time": "2022-01-11T22:11:48.974Z"
   },
   {
    "duration": 221,
    "start_time": "2022-01-11T22:12:03.178Z"
   },
   {
    "duration": 30,
    "start_time": "2022-01-11T22:13:48.553Z"
   },
   {
    "duration": 61,
    "start_time": "2022-01-11T22:14:34.884Z"
   },
   {
    "duration": 68,
    "start_time": "2022-01-11T22:14:46.991Z"
   },
   {
    "duration": 30,
    "start_time": "2022-01-11T22:14:57.179Z"
   },
   {
    "duration": 59,
    "start_time": "2022-01-11T22:15:19.619Z"
   },
   {
    "duration": 89,
    "start_time": "2022-01-11T22:15:27.421Z"
   },
   {
    "duration": 29,
    "start_time": "2022-01-11T22:16:08.191Z"
   },
   {
    "duration": 28,
    "start_time": "2022-01-11T22:16:15.984Z"
   },
   {
    "duration": 718,
    "start_time": "2022-01-11T22:16:30.128Z"
   },
   {
    "duration": 31,
    "start_time": "2022-01-11T22:17:10.489Z"
   },
   {
    "duration": 25,
    "start_time": "2022-01-11T22:17:17.609Z"
   },
   {
    "duration": 202,
    "start_time": "2022-01-11T22:18:19.941Z"
   },
   {
    "duration": 905,
    "start_time": "2022-01-11T22:20:23.093Z"
   },
   {
    "duration": 32,
    "start_time": "2022-01-11T22:20:44.423Z"
   },
   {
    "duration": 200,
    "start_time": "2022-01-11T22:20:51.523Z"
   },
   {
    "duration": 31,
    "start_time": "2022-01-11T22:20:55.889Z"
   },
   {
    "duration": 706,
    "start_time": "2022-01-11T22:21:03.748Z"
   },
   {
    "duration": 936,
    "start_time": "2022-01-11T22:21:14.624Z"
   },
   {
    "duration": 32,
    "start_time": "2022-01-11T22:21:25.627Z"
   },
   {
    "duration": 30,
    "start_time": "2022-01-11T22:21:30.906Z"
   },
   {
    "duration": 265,
    "start_time": "2022-01-11T22:21:34.353Z"
   },
   {
    "duration": 33,
    "start_time": "2022-01-11T22:21:37.740Z"
   },
   {
    "duration": 29,
    "start_time": "2022-01-11T22:22:09.225Z"
   },
   {
    "duration": 29,
    "start_time": "2022-01-11T22:22:13.546Z"
   },
   {
    "duration": 28,
    "start_time": "2022-01-11T22:22:23.512Z"
   },
   {
    "duration": 33,
    "start_time": "2022-01-11T22:26:16.775Z"
   },
   {
    "duration": 34,
    "start_time": "2022-01-11T22:26:33.394Z"
   },
   {
    "duration": 720,
    "start_time": "2022-01-11T22:26:37.947Z"
   },
   {
    "duration": 30,
    "start_time": "2022-01-11T22:26:43.217Z"
   },
   {
    "duration": 28,
    "start_time": "2022-01-11T22:26:47.758Z"
   },
   {
    "duration": 29,
    "start_time": "2022-01-11T22:26:56.183Z"
   },
   {
    "duration": 31,
    "start_time": "2022-01-11T22:32:37.262Z"
   },
   {
    "duration": 202,
    "start_time": "2022-01-11T22:32:43.488Z"
   },
   {
    "duration": 28,
    "start_time": "2022-01-11T22:32:48.549Z"
   },
   {
    "duration": 62,
    "start_time": "2022-01-11T22:33:48.076Z"
   },
   {
    "duration": 58,
    "start_time": "2022-01-11T22:33:55.034Z"
   },
   {
    "duration": 1015,
    "start_time": "2022-01-11T22:34:00.707Z"
   },
   {
    "duration": 56,
    "start_time": "2022-01-11T22:34:11.864Z"
   },
   {
    "duration": 1237,
    "start_time": "2022-01-11T22:34:16.121Z"
   },
   {
    "duration": 701,
    "start_time": "2022-01-11T22:34:26.136Z"
   },
   {
    "duration": 30,
    "start_time": "2022-01-11T22:34:30.636Z"
   },
   {
    "duration": 37,
    "start_time": "2022-01-11T22:34:54.089Z"
   },
   {
    "duration": 29,
    "start_time": "2022-01-11T22:35:00.759Z"
   },
   {
    "duration": 201,
    "start_time": "2022-01-11T22:35:27.952Z"
   },
   {
    "duration": 29,
    "start_time": "2022-01-11T22:35:32.956Z"
   },
   {
    "duration": 198,
    "start_time": "2022-01-11T22:38:26.319Z"
   },
   {
    "duration": 31,
    "start_time": "2022-01-11T22:38:40.494Z"
   },
   {
    "duration": 61,
    "start_time": "2022-01-11T22:39:56.909Z"
   },
   {
    "duration": 34,
    "start_time": "2022-01-11T22:40:00.509Z"
   },
   {
    "duration": 31,
    "start_time": "2022-01-11T22:40:42.157Z"
   },
   {
    "duration": 29,
    "start_time": "2022-01-11T22:40:58.567Z"
   },
   {
    "duration": 70,
    "start_time": "2022-01-11T22:42:32.581Z"
   },
   {
    "duration": 9,
    "start_time": "2022-01-11T22:42:32.653Z"
   },
   {
    "duration": 30,
    "start_time": "2022-01-11T22:42:32.664Z"
   },
   {
    "duration": 14,
    "start_time": "2022-01-11T22:42:32.697Z"
   },
   {
    "duration": 30,
    "start_time": "2022-01-11T22:42:32.713Z"
   },
   {
    "duration": 74,
    "start_time": "2022-01-11T22:42:32.745Z"
   },
   {
    "duration": 3,
    "start_time": "2022-01-11T22:42:32.821Z"
   },
   {
    "duration": 11,
    "start_time": "2022-01-11T22:42:32.827Z"
   },
   {
    "duration": 66,
    "start_time": "2022-01-11T22:42:32.840Z"
   },
   {
    "duration": 98,
    "start_time": "2022-01-11T22:42:32.908Z"
   },
   {
    "duration": 52,
    "start_time": "2022-01-11T22:42:33.008Z"
   },
   {
    "duration": 786,
    "start_time": "2022-01-11T22:42:33.061Z"
   },
   {
    "duration": 4,
    "start_time": "2022-01-11T22:42:33.849Z"
   },
   {
    "duration": 3403,
    "start_time": "2022-01-11T22:42:33.855Z"
   },
   {
    "duration": 340,
    "start_time": "2022-01-11T22:42:37.260Z"
   },
   {
    "duration": 1335,
    "start_time": "2022-01-11T22:42:37.602Z"
   },
   {
    "duration": 25,
    "start_time": "2022-01-11T22:42:38.939Z"
   },
   {
    "duration": 37,
    "start_time": "2022-01-11T22:42:38.966Z"
   },
   {
    "duration": 18,
    "start_time": "2022-01-11T22:42:39.004Z"
   },
   {
    "duration": 17,
    "start_time": "2022-01-11T22:42:39.024Z"
   },
   {
    "duration": 50,
    "start_time": "2022-01-11T22:42:39.042Z"
   },
   {
    "duration": 30,
    "start_time": "2022-01-11T22:42:39.094Z"
   },
   {
    "duration": 27,
    "start_time": "2022-01-11T22:42:39.126Z"
   },
   {
    "duration": 31,
    "start_time": "2022-01-11T22:45:04.690Z"
   },
   {
    "duration": 2879,
    "start_time": "2022-01-11T22:45:55.682Z"
   },
   {
    "duration": 2982,
    "start_time": "2022-01-11T22:47:18.029Z"
   },
   {
    "duration": 2748,
    "start_time": "2022-01-11T22:47:29.901Z"
   },
   {
    "duration": 68,
    "start_time": "2022-01-11T22:47:54.430Z"
   },
   {
    "duration": 10,
    "start_time": "2022-01-11T22:47:54.500Z"
   },
   {
    "duration": 10,
    "start_time": "2022-01-11T22:47:54.512Z"
   },
   {
    "duration": 13,
    "start_time": "2022-01-11T22:47:54.524Z"
   },
   {
    "duration": 69,
    "start_time": "2022-01-11T22:47:54.539Z"
   },
   {
    "duration": 41,
    "start_time": "2022-01-11T22:47:54.610Z"
   },
   {
    "duration": 4,
    "start_time": "2022-01-11T22:47:54.653Z"
   },
   {
    "duration": 37,
    "start_time": "2022-01-11T22:47:54.659Z"
   },
   {
    "duration": 41,
    "start_time": "2022-01-11T22:47:54.698Z"
   },
   {
    "duration": 105,
    "start_time": "2022-01-11T22:47:54.741Z"
   },
   {
    "duration": 80,
    "start_time": "2022-01-11T22:47:54.849Z"
   },
   {
    "duration": 791,
    "start_time": "2022-01-11T22:47:54.931Z"
   },
   {
    "duration": 3,
    "start_time": "2022-01-11T22:47:55.724Z"
   },
   {
    "duration": 2768,
    "start_time": "2022-01-11T22:47:55.729Z"
   },
   {
    "duration": 318,
    "start_time": "2022-01-11T22:47:58.499Z"
   },
   {
    "duration": 1021,
    "start_time": "2022-01-11T22:47:58.819Z"
   },
   {
    "duration": 26,
    "start_time": "2022-01-11T22:47:59.842Z"
   },
   {
    "duration": 35,
    "start_time": "2022-01-11T22:47:59.869Z"
   },
   {
    "duration": 18,
    "start_time": "2022-01-11T22:47:59.907Z"
   },
   {
    "duration": 15,
    "start_time": "2022-01-11T22:47:59.927Z"
   },
   {
    "duration": 54,
    "start_time": "2022-01-11T22:47:59.943Z"
   },
   {
    "duration": 30,
    "start_time": "2022-01-11T22:47:59.999Z"
   },
   {
    "duration": 30,
    "start_time": "2022-01-11T22:48:00.031Z"
   },
   {
    "duration": 755,
    "start_time": "2022-01-11T22:48:00.063Z"
   },
   {
    "duration": 27,
    "start_time": "2022-01-11T22:48:15.979Z"
   },
   {
    "duration": 28,
    "start_time": "2022-01-11T22:50:20.853Z"
   },
   {
    "duration": 28,
    "start_time": "2022-01-11T22:50:42.199Z"
   },
   {
    "duration": 42,
    "start_time": "2022-01-11T22:50:59.699Z"
   },
   {
    "duration": 73,
    "start_time": "2022-01-11T22:52:04.587Z"
   },
   {
    "duration": 12,
    "start_time": "2022-01-11T22:52:04.662Z"
   },
   {
    "duration": 13,
    "start_time": "2022-01-11T22:52:04.692Z"
   },
   {
    "duration": 31,
    "start_time": "2022-01-11T22:52:04.707Z"
   },
   {
    "duration": 36,
    "start_time": "2022-01-11T22:52:04.740Z"
   },
   {
    "duration": 52,
    "start_time": "2022-01-11T22:52:04.777Z"
   },
   {
    "duration": 4,
    "start_time": "2022-01-11T22:52:04.832Z"
   },
   {
    "duration": 20,
    "start_time": "2022-01-11T22:52:04.840Z"
   },
   {
    "duration": 72,
    "start_time": "2022-01-11T22:52:04.862Z"
   },
   {
    "duration": 109,
    "start_time": "2022-01-11T22:52:04.937Z"
   },
   {
    "duration": 68,
    "start_time": "2022-01-11T22:52:05.049Z"
   },
   {
    "duration": 795,
    "start_time": "2022-01-11T22:52:05.119Z"
   },
   {
    "duration": 3,
    "start_time": "2022-01-11T22:52:05.917Z"
   },
   {
    "duration": 3227,
    "start_time": "2022-01-11T22:52:05.922Z"
   },
   {
    "duration": 353,
    "start_time": "2022-01-11T22:52:09.152Z"
   },
   {
    "duration": 1380,
    "start_time": "2022-01-11T22:52:09.507Z"
   },
   {
    "duration": 28,
    "start_time": "2022-01-11T22:52:10.892Z"
   },
   {
    "duration": 25,
    "start_time": "2022-01-11T22:52:10.922Z"
   },
   {
    "duration": 43,
    "start_time": "2022-01-11T22:52:10.949Z"
   },
   {
    "duration": 15,
    "start_time": "2022-01-11T22:52:10.994Z"
   },
   {
    "duration": 31,
    "start_time": "2022-01-11T22:52:11.011Z"
   },
   {
    "duration": 53,
    "start_time": "2022-01-11T22:52:11.043Z"
   },
   {
    "duration": 27,
    "start_time": "2022-01-11T22:52:11.100Z"
   },
   {
    "duration": 26,
    "start_time": "2022-01-11T22:52:11.129Z"
   },
   {
    "duration": 60,
    "start_time": "2022-01-11T22:59:29.367Z"
   },
   {
    "duration": 7057,
    "start_time": "2022-01-11T22:59:32.479Z"
   },
   {
    "duration": 515,
    "start_time": "2022-01-11T23:00:34.779Z"
   },
   {
    "duration": 180,
    "start_time": "2022-01-11T23:03:11.520Z"
   },
   {
    "duration": 461,
    "start_time": "2022-01-11T23:03:24.633Z"
   },
   {
    "duration": 454,
    "start_time": "2022-01-11T23:03:30.272Z"
   },
   {
    "duration": 780,
    "start_time": "2022-01-11T23:03:40.054Z"
   },
   {
    "duration": 86,
    "start_time": "2022-01-11T23:04:03.969Z"
   },
   {
    "duration": 11,
    "start_time": "2022-01-11T23:04:04.057Z"
   },
   {
    "duration": 32,
    "start_time": "2022-01-11T23:04:04.070Z"
   },
   {
    "duration": 14,
    "start_time": "2022-01-11T23:04:04.104Z"
   },
   {
    "duration": 31,
    "start_time": "2022-01-11T23:04:04.120Z"
   },
   {
    "duration": 75,
    "start_time": "2022-01-11T23:04:04.153Z"
   },
   {
    "duration": 796,
    "start_time": "2022-01-11T23:04:04.231Z"
   },
   {
    "duration": 3,
    "start_time": "2022-01-11T23:04:05.030Z"
   },
   {
    "duration": 12,
    "start_time": "2022-01-11T23:04:05.035Z"
   },
   {
    "duration": 65,
    "start_time": "2022-01-11T23:04:05.049Z"
   },
   {
    "duration": 101,
    "start_time": "2022-01-11T23:04:05.116Z"
   },
   {
    "duration": 52,
    "start_time": "2022-01-11T23:04:05.219Z"
   },
   {
    "duration": 759,
    "start_time": "2022-01-11T23:04:05.273Z"
   },
   {
    "duration": 3,
    "start_time": "2022-01-11T23:04:06.034Z"
   },
   {
    "duration": 3212,
    "start_time": "2022-01-11T23:04:06.039Z"
   },
   {
    "duration": 343,
    "start_time": "2022-01-11T23:04:09.253Z"
   },
   {
    "duration": 924,
    "start_time": "2022-01-11T23:04:09.598Z"
   },
   {
    "duration": 30,
    "start_time": "2022-01-11T23:04:10.523Z"
   },
   {
    "duration": 24,
    "start_time": "2022-01-11T23:04:10.555Z"
   },
   {
    "duration": 28,
    "start_time": "2022-01-11T23:04:10.581Z"
   },
   {
    "duration": 16,
    "start_time": "2022-01-11T23:04:10.611Z"
   },
   {
    "duration": 30,
    "start_time": "2022-01-11T23:04:10.629Z"
   },
   {
    "duration": 57,
    "start_time": "2022-01-11T23:04:10.663Z"
   },
   {
    "duration": 27,
    "start_time": "2022-01-11T23:04:10.722Z"
   },
   {
    "duration": 47,
    "start_time": "2022-01-11T23:04:10.751Z"
   },
   {
    "duration": 67,
    "start_time": "2022-01-11T23:04:23.379Z"
   },
   {
    "duration": 9,
    "start_time": "2022-01-11T23:04:23.448Z"
   },
   {
    "duration": 23,
    "start_time": "2022-01-11T23:04:23.459Z"
   },
   {
    "duration": 19,
    "start_time": "2022-01-11T23:04:23.484Z"
   },
   {
    "duration": 46,
    "start_time": "2022-01-11T23:04:23.504Z"
   },
   {
    "duration": 40,
    "start_time": "2022-01-11T23:04:23.552Z"
   },
   {
    "duration": 866,
    "start_time": "2022-01-11T23:04:27.256Z"
   },
   {
    "duration": 729,
    "start_time": "2022-01-11T23:17:41.769Z"
   },
   {
    "duration": 890,
    "start_time": "2022-01-11T23:27:02.803Z"
   },
   {
    "duration": 740,
    "start_time": "2022-01-11T23:27:53.682Z"
   },
   {
    "duration": 801,
    "start_time": "2022-01-11T23:28:02.863Z"
   },
   {
    "duration": 69,
    "start_time": "2022-01-11T23:29:03.902Z"
   },
   {
    "duration": 9,
    "start_time": "2022-01-11T23:29:03.973Z"
   },
   {
    "duration": 9,
    "start_time": "2022-01-11T23:29:03.992Z"
   },
   {
    "duration": 13,
    "start_time": "2022-01-11T23:29:04.003Z"
   },
   {
    "duration": 30,
    "start_time": "2022-01-11T23:29:04.017Z"
   },
   {
    "duration": 69,
    "start_time": "2022-01-11T23:29:04.049Z"
   },
   {
    "duration": 812,
    "start_time": "2022-01-11T23:29:04.120Z"
   },
   {
    "duration": 4,
    "start_time": "2022-01-11T23:29:04.935Z"
   },
   {
    "duration": 13,
    "start_time": "2022-01-11T23:29:04.941Z"
   },
   {
    "duration": 65,
    "start_time": "2022-01-11T23:29:04.955Z"
   },
   {
    "duration": 96,
    "start_time": "2022-01-11T23:29:05.022Z"
   },
   {
    "duration": 51,
    "start_time": "2022-01-11T23:29:05.119Z"
   },
   {
    "duration": 735,
    "start_time": "2022-01-11T23:29:05.192Z"
   },
   {
    "duration": 3,
    "start_time": "2022-01-11T23:29:05.929Z"
   },
   {
    "duration": 3355,
    "start_time": "2022-01-11T23:29:08.917Z"
   },
   {
    "duration": 5664,
    "start_time": "2022-01-11T23:29:24.984Z"
   },
   {
    "duration": 26,
    "start_time": "2022-01-11T23:30:55.372Z"
   },
   {
    "duration": 205,
    "start_time": "2022-01-11T23:32:16.144Z"
   },
   {
    "duration": 75,
    "start_time": "2022-01-11T23:32:19.863Z"
   },
   {
    "duration": 10,
    "start_time": "2022-01-11T23:32:19.939Z"
   },
   {
    "duration": 9,
    "start_time": "2022-01-11T23:32:19.951Z"
   },
   {
    "duration": 41,
    "start_time": "2022-01-11T23:32:19.961Z"
   },
   {
    "duration": 41,
    "start_time": "2022-01-11T23:32:20.004Z"
   },
   {
    "duration": 58,
    "start_time": "2022-01-11T23:32:20.047Z"
   },
   {
    "duration": 846,
    "start_time": "2022-01-11T23:32:20.107Z"
   },
   {
    "duration": 4,
    "start_time": "2022-01-11T23:32:20.955Z"
   },
   {
    "duration": 16,
    "start_time": "2022-01-11T23:32:20.961Z"
   },
   {
    "duration": 52,
    "start_time": "2022-01-11T23:32:20.979Z"
   },
   {
    "duration": 105,
    "start_time": "2022-01-11T23:32:21.032Z"
   },
   {
    "duration": 61,
    "start_time": "2022-01-11T23:32:21.139Z"
   },
   {
    "duration": 792,
    "start_time": "2022-01-11T23:32:21.202Z"
   },
   {
    "duration": 3,
    "start_time": "2022-01-11T23:32:21.997Z"
   },
   {
    "duration": 6313,
    "start_time": "2022-01-11T23:32:22.003Z"
   },
   {
    "duration": 384,
    "start_time": "2022-01-11T23:32:28.319Z"
   },
   {
    "duration": 1094,
    "start_time": "2022-01-11T23:32:28.706Z"
   },
   {
    "duration": 27,
    "start_time": "2022-01-11T23:32:29.802Z"
   },
   {
    "duration": 24,
    "start_time": "2022-01-11T23:32:29.831Z"
   },
   {
    "duration": 41,
    "start_time": "2022-01-11T23:32:29.857Z"
   },
   {
    "duration": 19,
    "start_time": "2022-01-11T23:32:29.900Z"
   },
   {
    "duration": 32,
    "start_time": "2022-01-11T23:32:29.921Z"
   },
   {
    "duration": 49,
    "start_time": "2022-01-11T23:32:29.956Z"
   },
   {
    "duration": 31,
    "start_time": "2022-01-11T23:32:30.007Z"
   },
   {
    "duration": 836,
    "start_time": "2022-01-11T23:32:30.040Z"
   },
   {
    "duration": 32,
    "start_time": "2022-01-11T23:32:36.315Z"
   },
   {
    "duration": 64,
    "start_time": "2022-01-11T23:33:27.209Z"
   },
   {
    "duration": 1695,
    "start_time": "2022-01-11T23:33:34.755Z"
   },
   {
    "duration": 2002,
    "start_time": "2022-01-11T23:33:42.535Z"
   },
   {
    "duration": 35,
    "start_time": "2022-01-11T23:33:51.451Z"
   },
   {
    "duration": 47,
    "start_time": "2022-01-11T23:34:41.534Z"
   },
   {
    "duration": 921,
    "start_time": "2022-01-11T23:35:06.843Z"
   },
   {
    "duration": 38,
    "start_time": "2022-01-11T23:35:12.426Z"
   },
   {
    "duration": 223,
    "start_time": "2022-01-11T23:35:30.685Z"
   },
   {
    "duration": 48,
    "start_time": "2022-01-11T23:36:14.901Z"
   },
   {
    "duration": 67,
    "start_time": "2022-01-11T23:37:56.418Z"
   },
   {
    "duration": 10,
    "start_time": "2022-01-11T23:37:56.487Z"
   },
   {
    "duration": 9,
    "start_time": "2022-01-11T23:37:56.499Z"
   },
   {
    "duration": 14,
    "start_time": "2022-01-11T23:37:56.510Z"
   },
   {
    "duration": 28,
    "start_time": "2022-01-11T23:37:56.526Z"
   },
   {
    "duration": 69,
    "start_time": "2022-01-11T23:37:56.556Z"
   },
   {
    "duration": 889,
    "start_time": "2022-01-11T23:37:56.627Z"
   },
   {
    "duration": 4,
    "start_time": "2022-01-11T23:37:57.519Z"
   },
   {
    "duration": 13,
    "start_time": "2022-01-11T23:37:57.525Z"
   },
   {
    "duration": 64,
    "start_time": "2022-01-11T23:37:57.540Z"
   },
   {
    "duration": 103,
    "start_time": "2022-01-11T23:37:57.606Z"
   },
   {
    "duration": 53,
    "start_time": "2022-01-11T23:37:57.711Z"
   },
   {
    "duration": 770,
    "start_time": "2022-01-11T23:37:57.765Z"
   },
   {
    "duration": 3,
    "start_time": "2022-01-11T23:37:58.537Z"
   },
   {
    "duration": 6382,
    "start_time": "2022-01-11T23:37:58.542Z"
   },
   {
    "duration": 339,
    "start_time": "2022-01-11T23:38:04.926Z"
   },
   {
    "duration": 1053,
    "start_time": "2022-01-11T23:38:05.267Z"
   },
   {
    "duration": 27,
    "start_time": "2022-01-11T23:38:06.322Z"
   },
   {
    "duration": 43,
    "start_time": "2022-01-11T23:38:06.350Z"
   },
   {
    "duration": 19,
    "start_time": "2022-01-11T23:38:06.395Z"
   },
   {
    "duration": 16,
    "start_time": "2022-01-11T23:38:06.415Z"
   },
   {
    "duration": 30,
    "start_time": "2022-01-11T23:38:06.432Z"
   },
   {
    "duration": 53,
    "start_time": "2022-01-11T23:38:06.465Z"
   },
   {
    "duration": 29,
    "start_time": "2022-01-11T23:38:06.519Z"
   },
   {
    "duration": 63,
    "start_time": "2022-01-11T23:38:06.550Z"
   },
   {
    "duration": 68,
    "start_time": "2022-01-11T23:43:16.951Z"
   },
   {
    "duration": 9,
    "start_time": "2022-01-11T23:43:17.021Z"
   },
   {
    "duration": 9,
    "start_time": "2022-01-11T23:43:17.032Z"
   },
   {
    "duration": 13,
    "start_time": "2022-01-11T23:43:17.043Z"
   },
   {
    "duration": 60,
    "start_time": "2022-01-11T23:43:17.057Z"
   },
   {
    "duration": 38,
    "start_time": "2022-01-11T23:43:17.119Z"
   },
   {
    "duration": 852,
    "start_time": "2022-01-11T23:43:17.159Z"
   },
   {
    "duration": 4,
    "start_time": "2022-01-11T23:43:18.013Z"
   },
   {
    "duration": 12,
    "start_time": "2022-01-11T23:43:18.018Z"
   },
   {
    "duration": 60,
    "start_time": "2022-01-11T23:43:18.031Z"
   },
   {
    "duration": 85,
    "start_time": "2022-01-11T23:43:18.093Z"
   },
   {
    "duration": 57,
    "start_time": "2022-01-11T23:43:18.180Z"
   },
   {
    "duration": 762,
    "start_time": "2022-01-11T23:43:18.239Z"
   },
   {
    "duration": 3,
    "start_time": "2022-01-11T23:43:19.002Z"
   },
   {
    "duration": 5684,
    "start_time": "2022-01-11T23:43:19.007Z"
   },
   {
    "duration": 333,
    "start_time": "2022-01-11T23:43:24.693Z"
   },
   {
    "duration": 1058,
    "start_time": "2022-01-11T23:43:25.028Z"
   },
   {
    "duration": 432,
    "start_time": "2022-01-11T23:43:26.088Z"
   },
   {
    "duration": 23,
    "start_time": "2022-01-11T23:43:26.522Z"
   },
   {
    "duration": 22,
    "start_time": "2022-01-11T23:43:26.546Z"
   },
   {
    "duration": 32,
    "start_time": "2022-01-11T23:43:26.569Z"
   },
   {
    "duration": 30,
    "start_time": "2022-01-11T23:43:26.602Z"
   },
   {
    "duration": 28,
    "start_time": "2022-01-11T23:43:26.635Z"
   },
   {
    "duration": 49,
    "start_time": "2022-01-11T23:43:26.665Z"
   },
   {
    "duration": 37,
    "start_time": "2022-01-11T23:43:26.715Z"
   },
   {
    "duration": 74,
    "start_time": "2022-01-11T23:47:37.664Z"
   },
   {
    "duration": 11,
    "start_time": "2022-01-11T23:47:37.741Z"
   },
   {
    "duration": 11,
    "start_time": "2022-01-11T23:47:37.754Z"
   },
   {
    "duration": 17,
    "start_time": "2022-01-11T23:47:37.792Z"
   },
   {
    "duration": 30,
    "start_time": "2022-01-11T23:47:37.811Z"
   },
   {
    "duration": 73,
    "start_time": "2022-01-11T23:47:37.843Z"
   },
   {
    "duration": 812,
    "start_time": "2022-01-11T23:47:37.919Z"
   },
   {
    "duration": 4,
    "start_time": "2022-01-11T23:47:38.734Z"
   },
   {
    "duration": 14,
    "start_time": "2022-01-11T23:47:38.739Z"
   },
   {
    "duration": 59,
    "start_time": "2022-01-11T23:47:38.755Z"
   },
   {
    "duration": 89,
    "start_time": "2022-01-11T23:47:38.816Z"
   },
   {
    "duration": 50,
    "start_time": "2022-01-11T23:47:38.907Z"
   },
   {
    "duration": 754,
    "start_time": "2022-01-11T23:47:38.959Z"
   },
   {
    "duration": 3,
    "start_time": "2022-01-11T23:47:39.716Z"
   },
   {
    "duration": 5595,
    "start_time": "2022-01-11T23:47:39.721Z"
   },
   {
    "duration": 325,
    "start_time": "2022-01-11T23:47:45.318Z"
   },
   {
    "duration": 1014,
    "start_time": "2022-01-11T23:47:45.644Z"
   },
   {
    "duration": 35,
    "start_time": "2022-01-11T23:47:46.660Z"
   },
   {
    "duration": 24,
    "start_time": "2022-01-11T23:47:46.697Z"
   },
   {
    "duration": 18,
    "start_time": "2022-01-11T23:47:46.722Z"
   },
   {
    "duration": 18,
    "start_time": "2022-01-11T23:47:46.742Z"
   },
   {
    "duration": 55,
    "start_time": "2022-01-11T23:47:46.761Z"
   },
   {
    "duration": 28,
    "start_time": "2022-01-11T23:47:46.819Z"
   },
   {
    "duration": 46,
    "start_time": "2022-01-11T23:47:46.849Z"
   },
   {
    "duration": 36,
    "start_time": "2022-01-11T23:47:46.897Z"
   },
   {
    "duration": 27,
    "start_time": "2022-01-11T23:52:57.918Z"
   },
   {
    "duration": 48,
    "start_time": "2022-01-11T23:54:17.450Z"
   },
   {
    "duration": 29,
    "start_time": "2022-01-11T23:56:09.267Z"
   },
   {
    "duration": 30,
    "start_time": "2022-01-12T00:11:07.971Z"
   },
   {
    "duration": 185,
    "start_time": "2022-01-12T00:12:47.752Z"
   },
   {
    "duration": 31,
    "start_time": "2022-01-12T00:12:58.239Z"
   },
   {
    "duration": 28,
    "start_time": "2022-01-12T00:13:36.878Z"
   },
   {
    "duration": 217,
    "start_time": "2022-01-12T00:13:59.041Z"
   },
   {
    "duration": 662,
    "start_time": "2022-01-12T00:14:31.096Z"
   },
   {
    "duration": 28,
    "start_time": "2022-01-12T00:14:40.196Z"
   },
   {
    "duration": 28,
    "start_time": "2022-01-12T00:18:56.681Z"
   },
   {
    "duration": 57,
    "start_time": "2022-01-12T00:19:15.127Z"
   },
   {
    "duration": 26,
    "start_time": "2022-01-12T00:19:31.770Z"
   },
   {
    "duration": 65,
    "start_time": "2022-01-12T00:30:02.521Z"
   },
   {
    "duration": 96,
    "start_time": "2022-01-12T00:30:09.012Z"
   },
   {
    "duration": 37,
    "start_time": "2022-01-12T00:30:14.069Z"
   },
   {
    "duration": 65,
    "start_time": "2022-01-12T00:31:09.169Z"
   },
   {
    "duration": 56,
    "start_time": "2022-01-12T00:31:13.550Z"
   },
   {
    "duration": 176,
    "start_time": "2022-01-12T00:31:28.650Z"
   },
   {
    "duration": 44,
    "start_time": "2022-01-12T00:32:06.399Z"
   },
   {
    "duration": 35,
    "start_time": "2022-01-12T00:32:30.343Z"
   },
   {
    "duration": 34,
    "start_time": "2022-01-12T00:33:12.748Z"
   },
   {
    "duration": 45,
    "start_time": "2022-01-12T00:33:40.328Z"
   },
   {
    "duration": 28,
    "start_time": "2022-01-12T00:35:22.478Z"
   },
   {
    "duration": 178,
    "start_time": "2022-01-12T00:35:34.612Z"
   },
   {
    "duration": 184,
    "start_time": "2022-01-12T00:35:48.277Z"
   },
   {
    "duration": 23,
    "start_time": "2022-01-12T00:36:02.886Z"
   },
   {
    "duration": 20,
    "start_time": "2022-01-12T00:36:20.807Z"
   },
   {
    "duration": 18,
    "start_time": "2022-01-12T00:36:30.212Z"
   },
   {
    "duration": 19,
    "start_time": "2022-01-12T00:36:41.059Z"
   },
   {
    "duration": 20,
    "start_time": "2022-01-12T00:36:47.531Z"
   },
   {
    "duration": 202,
    "start_time": "2022-01-12T00:37:35.590Z"
   },
   {
    "duration": 193,
    "start_time": "2022-01-12T00:37:41.146Z"
   },
   {
    "duration": 197,
    "start_time": "2022-01-12T00:37:59.237Z"
   },
   {
    "duration": 238,
    "start_time": "2022-01-12T00:38:05.698Z"
   },
   {
    "duration": 202,
    "start_time": "2022-01-12T00:38:17.454Z"
   },
   {
    "duration": 208,
    "start_time": "2022-01-12T00:38:23.310Z"
   },
   {
    "duration": 17,
    "start_time": "2022-01-12T00:39:15.641Z"
   },
   {
    "duration": 28,
    "start_time": "2022-01-12T00:39:23.477Z"
   },
   {
    "duration": 28,
    "start_time": "2022-01-12T00:39:37.343Z"
   },
   {
    "duration": 340,
    "start_time": "2022-01-12T00:39:47.422Z"
   },
   {
    "duration": 18,
    "start_time": "2022-01-12T00:40:04.324Z"
   },
   {
    "duration": 182,
    "start_time": "2022-01-12T00:40:09.860Z"
   },
   {
    "duration": 4528,
    "start_time": "2022-01-12T00:40:21.784Z"
   },
   {
    "duration": 39,
    "start_time": "2022-01-12T00:41:06.257Z"
   },
   {
    "duration": 40,
    "start_time": "2022-01-12T00:41:35.623Z"
   },
   {
    "duration": 43,
    "start_time": "2022-01-12T00:42:02.145Z"
   },
   {
    "duration": 41,
    "start_time": "2022-01-12T00:42:35.209Z"
   },
   {
    "duration": 231,
    "start_time": "2022-01-12T00:43:00.785Z"
   },
   {
    "duration": 236,
    "start_time": "2022-01-12T00:43:04.791Z"
   },
   {
    "duration": 248,
    "start_time": "2022-01-12T00:43:08.257Z"
   },
   {
    "duration": 65,
    "start_time": "2022-01-12T00:44:16.225Z"
   },
   {
    "duration": 60,
    "start_time": "2022-01-12T00:44:19.470Z"
   },
   {
    "duration": 52,
    "start_time": "2022-01-12T00:44:29.420Z"
   },
   {
    "duration": 46,
    "start_time": "2022-01-12T00:45:02.442Z"
   },
   {
    "duration": 36,
    "start_time": "2022-01-12T00:45:23.978Z"
   },
   {
    "duration": 27,
    "start_time": "2022-01-12T00:45:37.939Z"
   },
   {
    "duration": 47,
    "start_time": "2022-01-12T00:46:02.287Z"
   },
   {
    "duration": 49,
    "start_time": "2022-01-12T00:49:05.058Z"
   },
   {
    "duration": 52,
    "start_time": "2022-01-12T00:50:07.552Z"
   },
   {
    "duration": 47,
    "start_time": "2022-01-12T00:50:16.877Z"
   },
   {
    "duration": 46,
    "start_time": "2022-01-12T00:50:35.061Z"
   },
   {
    "duration": 44,
    "start_time": "2022-01-12T00:51:26.317Z"
   },
   {
    "duration": 45,
    "start_time": "2022-01-12T00:51:59.243Z"
   },
   {
    "duration": 42,
    "start_time": "2022-01-12T00:52:23.122Z"
   },
   {
    "duration": 38,
    "start_time": "2022-01-12T00:53:22.965Z"
   },
   {
    "duration": 43,
    "start_time": "2022-01-12T00:54:12.051Z"
   },
   {
    "duration": 71,
    "start_time": "2022-01-12T00:57:39.336Z"
   },
   {
    "duration": 9,
    "start_time": "2022-01-12T00:57:39.409Z"
   },
   {
    "duration": 11,
    "start_time": "2022-01-12T00:57:39.420Z"
   },
   {
    "duration": 13,
    "start_time": "2022-01-12T00:57:39.432Z"
   },
   {
    "duration": 61,
    "start_time": "2022-01-12T00:57:39.447Z"
   },
   {
    "duration": 40,
    "start_time": "2022-01-12T00:57:39.510Z"
   },
   {
    "duration": 896,
    "start_time": "2022-01-12T00:57:39.552Z"
   },
   {
    "duration": 4,
    "start_time": "2022-01-12T00:57:40.450Z"
   },
   {
    "duration": 11,
    "start_time": "2022-01-12T00:57:40.456Z"
   },
   {
    "duration": 55,
    "start_time": "2022-01-12T00:57:40.469Z"
   },
   {
    "duration": 104,
    "start_time": "2022-01-12T00:57:40.526Z"
   },
   {
    "duration": 60,
    "start_time": "2022-01-12T00:57:40.632Z"
   },
   {
    "duration": 752,
    "start_time": "2022-01-12T00:57:40.694Z"
   },
   {
    "duration": 2,
    "start_time": "2022-01-12T00:57:41.448Z"
   },
   {
    "duration": 6195,
    "start_time": "2022-01-12T00:57:41.452Z"
   },
   {
    "duration": 328,
    "start_time": "2022-01-12T00:57:47.649Z"
   },
   {
    "duration": 1045,
    "start_time": "2022-01-12T00:57:47.979Z"
   },
   {
    "duration": 495,
    "start_time": "2022-01-12T00:57:49.026Z"
   },
   {
    "duration": 24,
    "start_time": "2022-01-12T00:57:49.523Z"
   },
   {
    "duration": 46,
    "start_time": "2022-01-12T00:57:49.549Z"
   },
   {
    "duration": 15,
    "start_time": "2022-01-12T00:57:49.597Z"
   },
   {
    "duration": 29,
    "start_time": "2022-01-12T00:57:49.614Z"
   },
   {
    "duration": 50,
    "start_time": "2022-01-12T00:57:49.646Z"
   },
   {
    "duration": 38,
    "start_time": "2022-01-12T00:57:49.698Z"
   },
   {
    "duration": 63,
    "start_time": "2022-01-12T00:57:49.738Z"
   },
   {
    "duration": 5,
    "start_time": "2022-01-12T00:57:49.803Z"
   },
   {
    "duration": 29,
    "start_time": "2022-01-12T00:57:49.810Z"
   },
   {
    "duration": 51,
    "start_time": "2022-01-12T00:57:49.841Z"
   },
   {
    "duration": 45,
    "start_time": "2022-01-12T00:57:49.895Z"
   },
   {
    "duration": 69,
    "start_time": "2022-01-12T01:44:40.617Z"
   },
   {
    "duration": 9,
    "start_time": "2022-01-12T01:44:40.688Z"
   },
   {
    "duration": 14,
    "start_time": "2022-01-12T01:44:40.698Z"
   },
   {
    "duration": 24,
    "start_time": "2022-01-12T01:44:40.713Z"
   },
   {
    "duration": 33,
    "start_time": "2022-01-12T01:44:40.739Z"
   },
   {
    "duration": 51,
    "start_time": "2022-01-12T01:44:40.773Z"
   },
   {
    "duration": 894,
    "start_time": "2022-01-12T01:44:40.825Z"
   },
   {
    "duration": 3,
    "start_time": "2022-01-12T01:44:41.722Z"
   },
   {
    "duration": 40,
    "start_time": "2022-01-12T01:44:41.728Z"
   },
   {
    "duration": 60,
    "start_time": "2022-01-12T01:44:41.770Z"
   },
   {
    "duration": 123,
    "start_time": "2022-01-12T01:44:41.832Z"
   },
   {
    "duration": 94,
    "start_time": "2022-01-12T01:44:41.957Z"
   },
   {
    "duration": 752,
    "start_time": "2022-01-12T01:44:42.053Z"
   },
   {
    "duration": 2,
    "start_time": "2022-01-12T01:44:42.807Z"
   },
   {
    "duration": 5386,
    "start_time": "2022-01-12T01:44:42.811Z"
   },
   {
    "duration": 335,
    "start_time": "2022-01-12T01:44:48.199Z"
   },
   {
    "duration": 1032,
    "start_time": "2022-01-12T01:44:48.536Z"
   },
   {
    "duration": 35,
    "start_time": "2022-01-12T01:44:49.569Z"
   },
   {
    "duration": 30,
    "start_time": "2022-01-12T01:44:49.605Z"
   },
   {
    "duration": 37,
    "start_time": "2022-01-12T01:44:49.636Z"
   },
   {
    "duration": 40,
    "start_time": "2022-01-12T01:44:49.675Z"
   },
   {
    "duration": 29,
    "start_time": "2022-01-12T01:44:49.718Z"
   },
   {
    "duration": 43,
    "start_time": "2022-01-12T01:44:49.750Z"
   },
   {
    "duration": 38,
    "start_time": "2022-01-12T01:44:49.794Z"
   },
   {
    "duration": 5,
    "start_time": "2022-01-12T01:44:49.833Z"
   },
   {
    "duration": 65,
    "start_time": "2022-01-12T01:44:49.840Z"
   },
   {
    "duration": 2558,
    "start_time": "2022-01-12T01:44:47.349Z"
   },
   {
    "duration": 2552,
    "start_time": "2022-01-12T01:44:47.356Z"
   },
   {
    "duration": 2550,
    "start_time": "2022-01-12T01:44:47.359Z"
   },
   {
    "duration": 12,
    "start_time": "2022-01-12T01:47:47.137Z"
   },
   {
    "duration": 4,
    "start_time": "2022-01-12T01:56:25.018Z"
   },
   {
    "duration": 29,
    "start_time": "2022-01-12T01:56:53.311Z"
   },
   {
    "duration": 70,
    "start_time": "2022-01-12T01:57:09.563Z"
   },
   {
    "duration": 12,
    "start_time": "2022-01-12T01:57:09.636Z"
   },
   {
    "duration": 10,
    "start_time": "2022-01-12T01:57:09.651Z"
   },
   {
    "duration": 14,
    "start_time": "2022-01-12T01:57:09.693Z"
   },
   {
    "duration": 31,
    "start_time": "2022-01-12T01:57:09.709Z"
   },
   {
    "duration": 71,
    "start_time": "2022-01-12T01:57:09.742Z"
   },
   {
    "duration": 920,
    "start_time": "2022-01-12T01:57:09.815Z"
   },
   {
    "duration": 3,
    "start_time": "2022-01-12T01:57:10.738Z"
   },
   {
    "duration": 14,
    "start_time": "2022-01-12T01:57:10.743Z"
   },
   {
    "duration": 63,
    "start_time": "2022-01-12T01:57:10.758Z"
   },
   {
    "duration": 103,
    "start_time": "2022-01-12T01:57:10.823Z"
   },
   {
    "duration": 67,
    "start_time": "2022-01-12T01:57:10.927Z"
   },
   {
    "duration": 773,
    "start_time": "2022-01-12T01:57:10.995Z"
   },
   {
    "duration": 5877,
    "start_time": "2022-01-12T01:57:11.770Z"
   },
   {
    "duration": 337,
    "start_time": "2022-01-12T01:57:17.649Z"
   },
   {
    "duration": 1039,
    "start_time": "2022-01-12T01:57:17.987Z"
   },
   {
    "duration": 27,
    "start_time": "2022-01-12T01:57:19.028Z"
   },
   {
    "duration": 44,
    "start_time": "2022-01-12T01:57:19.057Z"
   },
   {
    "duration": 17,
    "start_time": "2022-01-12T01:57:19.103Z"
   },
   {
    "duration": 29,
    "start_time": "2022-01-12T01:57:19.121Z"
   },
   {
    "duration": 56,
    "start_time": "2022-01-12T01:57:19.152Z"
   },
   {
    "duration": 25,
    "start_time": "2022-01-12T01:57:19.210Z"
   },
   {
    "duration": 57,
    "start_time": "2022-01-12T01:57:19.238Z"
   },
   {
    "duration": 5,
    "start_time": "2022-01-12T01:57:19.297Z"
   },
   {
    "duration": 73,
    "start_time": "2022-01-12T01:57:19.304Z"
   },
   {
    "duration": 2573,
    "start_time": "2022-01-12T01:57:16.806Z"
   },
   {
    "duration": 2565,
    "start_time": "2022-01-12T01:57:16.815Z"
   },
   {
    "duration": 2562,
    "start_time": "2022-01-12T01:57:16.819Z"
   },
   {
    "duration": 2560,
    "start_time": "2022-01-12T01:57:16.822Z"
   },
   {
    "duration": 2559,
    "start_time": "2022-01-12T01:57:16.824Z"
   },
   {
    "duration": 70,
    "start_time": "2022-01-12T01:58:00.462Z"
   },
   {
    "duration": 10,
    "start_time": "2022-01-12T01:58:00.534Z"
   },
   {
    "duration": 22,
    "start_time": "2022-01-12T01:58:00.546Z"
   },
   {
    "duration": 21,
    "start_time": "2022-01-12T01:58:00.571Z"
   },
   {
    "duration": 34,
    "start_time": "2022-01-12T01:58:00.594Z"
   },
   {
    "duration": 39,
    "start_time": "2022-01-12T01:58:00.629Z"
   },
   {
    "duration": 1413,
    "start_time": "2022-01-12T01:58:00.670Z"
   },
   {
    "duration": 9,
    "start_time": "2022-01-12T01:58:02.085Z"
   },
   {
    "duration": 18,
    "start_time": "2022-01-12T01:58:02.096Z"
   },
   {
    "duration": 43,
    "start_time": "2022-01-12T01:58:02.116Z"
   },
   {
    "duration": 131,
    "start_time": "2022-01-12T01:58:02.160Z"
   },
   {
    "duration": 51,
    "start_time": "2022-01-12T01:58:02.293Z"
   },
   {
    "duration": 771,
    "start_time": "2022-01-12T01:58:02.346Z"
   },
   {
    "duration": 5694,
    "start_time": "2022-01-12T01:58:03.119Z"
   },
   {
    "duration": 345,
    "start_time": "2022-01-12T01:58:08.815Z"
   },
   {
    "duration": 1048,
    "start_time": "2022-01-12T01:58:09.162Z"
   },
   {
    "duration": 29,
    "start_time": "2022-01-12T01:58:10.212Z"
   },
   {
    "duration": 23,
    "start_time": "2022-01-12T01:58:10.243Z"
   },
   {
    "duration": 39,
    "start_time": "2022-01-12T01:58:10.267Z"
   },
   {
    "duration": 29,
    "start_time": "2022-01-12T01:58:10.308Z"
   },
   {
    "duration": 29,
    "start_time": "2022-01-12T01:58:10.339Z"
   },
   {
    "duration": 49,
    "start_time": "2022-01-12T01:58:10.369Z"
   },
   {
    "duration": 39,
    "start_time": "2022-01-12T01:58:10.422Z"
   },
   {
    "duration": 53,
    "start_time": "2022-01-12T01:58:10.463Z"
   },
   {
    "duration": 27,
    "start_time": "2022-01-12T01:58:10.518Z"
   },
   {
    "duration": 58,
    "start_time": "2022-01-12T01:58:10.547Z"
   },
   {
    "duration": 633,
    "start_time": "2022-01-13T12:58:09.415Z"
   },
   {
    "duration": 10,
    "start_time": "2022-01-13T12:58:10.051Z"
   },
   {
    "duration": 16,
    "start_time": "2022-01-13T12:58:10.064Z"
   },
   {
    "duration": 16,
    "start_time": "2022-01-13T12:58:10.092Z"
   },
   {
    "duration": 59,
    "start_time": "2022-01-13T12:58:10.109Z"
   },
   {
    "duration": 40,
    "start_time": "2022-01-13T12:58:10.170Z"
   },
   {
    "duration": 816,
    "start_time": "2022-01-13T12:58:10.211Z"
   },
   {
    "duration": 4,
    "start_time": "2022-01-13T12:58:11.030Z"
   },
   {
    "duration": 16,
    "start_time": "2022-01-13T12:58:11.036Z"
   },
   {
    "duration": 60,
    "start_time": "2022-01-13T12:58:11.054Z"
   },
   {
    "duration": 98,
    "start_time": "2022-01-13T12:58:11.115Z"
   },
   {
    "duration": 54,
    "start_time": "2022-01-13T12:58:11.215Z"
   },
   {
    "duration": 729,
    "start_time": "2022-01-13T12:58:11.290Z"
   },
   {
    "duration": 5763,
    "start_time": "2022-01-13T12:58:12.021Z"
   },
   {
    "duration": 311,
    "start_time": "2022-01-13T12:58:17.792Z"
   },
   {
    "duration": 1013,
    "start_time": "2022-01-13T12:58:18.105Z"
   },
   {
    "duration": 88,
    "start_time": "2022-01-13T12:58:19.119Z"
   },
   {
    "duration": 22,
    "start_time": "2022-01-13T12:58:19.209Z"
   },
   {
    "duration": 37,
    "start_time": "2022-01-13T12:58:19.232Z"
   },
   {
    "duration": 70,
    "start_time": "2022-01-13T12:58:19.271Z"
   },
   {
    "duration": 29,
    "start_time": "2022-01-13T12:58:19.343Z"
   },
   {
    "duration": 28,
    "start_time": "2022-01-13T12:58:19.373Z"
   },
   {
    "duration": 34,
    "start_time": "2022-01-13T12:58:19.405Z"
   },
   {
    "duration": 27,
    "start_time": "2022-01-13T12:58:19.440Z"
   },
   {
    "duration": 50,
    "start_time": "2022-01-13T12:58:19.469Z"
   },
   {
    "duration": 43,
    "start_time": "2022-01-13T12:58:19.520Z"
   },
   {
    "duration": 27,
    "start_time": "2022-01-13T13:06:50.476Z"
   },
   {
    "duration": 21,
    "start_time": "2022-01-13T13:14:55.264Z"
   },
   {
    "duration": 43,
    "start_time": "2022-01-13T13:15:21.413Z"
   },
   {
    "duration": 644,
    "start_time": "2022-01-13T13:15:34.196Z"
   },
   {
    "duration": 9,
    "start_time": "2022-01-13T13:15:34.842Z"
   },
   {
    "duration": 13,
    "start_time": "2022-01-13T13:15:34.853Z"
   },
   {
    "duration": 28,
    "start_time": "2022-01-13T13:15:34.868Z"
   },
   {
    "duration": 44,
    "start_time": "2022-01-13T13:15:34.898Z"
   },
   {
    "duration": 46,
    "start_time": "2022-01-13T13:15:34.944Z"
   },
   {
    "duration": 823,
    "start_time": "2022-01-13T13:15:34.992Z"
   },
   {
    "duration": 4,
    "start_time": "2022-01-13T13:15:35.817Z"
   },
   {
    "duration": 12,
    "start_time": "2022-01-13T13:15:35.823Z"
   },
   {
    "duration": 64,
    "start_time": "2022-01-13T13:15:35.837Z"
   },
   {
    "duration": 91,
    "start_time": "2022-01-13T13:15:35.903Z"
   },
   {
    "duration": 51,
    "start_time": "2022-01-13T13:15:35.997Z"
   },
   {
    "duration": 15,
    "start_time": "2022-01-13T13:15:36.049Z"
   },
   {
    "duration": 699,
    "start_time": "2022-01-13T13:15:36.092Z"
   },
   {
    "duration": 5606,
    "start_time": "2022-01-13T13:15:36.793Z"
   },
   {
    "duration": 317,
    "start_time": "2022-01-13T13:15:42.401Z"
   },
   {
    "duration": 1017,
    "start_time": "2022-01-13T13:15:42.721Z"
   },
   {
    "duration": 86,
    "start_time": "2022-01-13T13:15:43.740Z"
   },
   {
    "duration": 22,
    "start_time": "2022-01-13T13:15:43.828Z"
   },
   {
    "duration": 40,
    "start_time": "2022-01-13T13:15:43.851Z"
   },
   {
    "duration": 28,
    "start_time": "2022-01-13T13:15:43.893Z"
   },
   {
    "duration": 27,
    "start_time": "2022-01-13T13:15:43.922Z"
   },
   {
    "duration": 47,
    "start_time": "2022-01-13T13:15:43.950Z"
   },
   {
    "duration": 36,
    "start_time": "2022-01-13T13:15:43.998Z"
   },
   {
    "duration": 26,
    "start_time": "2022-01-13T13:15:44.035Z"
   },
   {
    "duration": 50,
    "start_time": "2022-01-13T13:15:44.062Z"
   },
   {
    "duration": 41,
    "start_time": "2022-01-13T13:15:44.114Z"
   },
   {
    "duration": 218,
    "start_time": "2022-01-14T17:16:53.188Z"
   },
   {
    "duration": 184,
    "start_time": "2022-01-14T17:16:58.044Z"
   },
   {
    "duration": 544,
    "start_time": "2022-01-14T17:17:00.785Z"
   },
   {
    "duration": 56,
    "start_time": "2022-01-14T17:17:02.803Z"
   },
   {
    "duration": 206,
    "start_time": "2022-01-14T17:17:04.285Z"
   },
   {
    "duration": 4,
    "start_time": "2022-01-14T17:17:18.880Z"
   },
   {
    "duration": 11,
    "start_time": "2022-01-14T17:27:03.901Z"
   },
   {
    "duration": 49,
    "start_time": "2022-01-14T17:29:04.417Z"
   },
   {
    "duration": 10,
    "start_time": "2022-01-14T17:29:06.498Z"
   },
   {
    "duration": 48,
    "start_time": "2022-01-14T17:29:58.247Z"
   },
   {
    "duration": 47,
    "start_time": "2022-01-14T17:30:03.726Z"
   },
   {
    "duration": 5,
    "start_time": "2022-01-14T17:33:41.350Z"
   },
   {
    "duration": 69,
    "start_time": "2022-01-14T17:35:04.288Z"
   },
   {
    "duration": 85,
    "start_time": "2022-01-14T17:35:12.094Z"
   },
   {
    "duration": 235,
    "start_time": "2022-01-14T17:49:24.721Z"
   },
   {
    "duration": 289,
    "start_time": "2022-01-14T17:49:41.391Z"
   },
   {
    "duration": 216,
    "start_time": "2022-01-14T17:50:13.688Z"
   },
   {
    "duration": 177,
    "start_time": "2022-01-14T17:50:21.502Z"
   },
   {
    "duration": 209,
    "start_time": "2022-01-14T17:50:32.603Z"
   },
   {
    "duration": 12,
    "start_time": "2022-01-14T17:52:27.439Z"
   },
   {
    "duration": 20,
    "start_time": "2022-01-14T17:52:39.393Z"
   },
   {
    "duration": 19,
    "start_time": "2022-01-14T17:52:44.441Z"
   },
   {
    "duration": 224,
    "start_time": "2022-01-14T17:52:48.302Z"
   },
   {
    "duration": 202,
    "start_time": "2022-01-14T17:52:58.215Z"
   },
   {
    "duration": 271,
    "start_time": "2022-01-14T18:01:15.402Z"
   },
   {
    "duration": 220,
    "start_time": "2022-01-14T18:01:29.783Z"
   },
   {
    "duration": 3,
    "start_time": "2022-01-14T18:15:40.903Z"
   },
   {
    "duration": 49,
    "start_time": "2022-01-14T18:15:40.908Z"
   },
   {
    "duration": 10,
    "start_time": "2022-01-14T18:15:40.959Z"
   },
   {
    "duration": 9,
    "start_time": "2022-01-14T18:15:40.971Z"
   },
   {
    "duration": 8,
    "start_time": "2022-01-14T18:15:40.981Z"
   },
   {
    "duration": 24,
    "start_time": "2022-01-14T18:15:40.991Z"
   },
   {
    "duration": 230,
    "start_time": "2022-01-14T18:15:41.017Z"
   },
   {
    "duration": 214,
    "start_time": "2022-01-14T18:15:41.249Z"
   },
   {
    "duration": 26,
    "start_time": "2022-01-14T18:15:41.465Z"
   },
   {
    "duration": 57,
    "start_time": "2022-01-14T18:15:41.493Z"
   },
   {
    "duration": 647,
    "start_time": "2022-01-14T18:15:41.551Z"
   },
   {
    "duration": 3,
    "start_time": "2022-01-14T18:15:42.199Z"
   },
   {
    "duration": 13,
    "start_time": "2022-01-14T18:15:42.211Z"
   },
   {
    "duration": 29,
    "start_time": "2022-01-14T18:15:42.226Z"
   },
   {
    "duration": 202,
    "start_time": "2022-01-14T18:15:42.256Z"
   },
   {
    "duration": 477,
    "start_time": "2022-01-14T18:15:41.983Z"
   },
   {
    "duration": 19,
    "start_time": "2022-01-14T18:16:48.401Z"
   },
   {
    "duration": 27,
    "start_time": "2022-01-14T18:17:38.550Z"
   },
   {
    "duration": 3,
    "start_time": "2022-01-14T18:17:46.488Z"
   },
   {
    "duration": 51,
    "start_time": "2022-01-14T18:17:46.503Z"
   },
   {
    "duration": 10,
    "start_time": "2022-01-14T18:17:46.556Z"
   },
   {
    "duration": 9,
    "start_time": "2022-01-14T18:17:46.568Z"
   },
   {
    "duration": 9,
    "start_time": "2022-01-14T18:17:46.579Z"
   },
   {
    "duration": 27,
    "start_time": "2022-01-14T18:17:46.589Z"
   },
   {
    "duration": 223,
    "start_time": "2022-01-14T18:17:46.618Z"
   },
   {
    "duration": 198,
    "start_time": "2022-01-14T18:17:46.842Z"
   },
   {
    "duration": 27,
    "start_time": "2022-01-14T18:17:47.042Z"
   },
   {
    "duration": 51,
    "start_time": "2022-01-14T18:17:47.070Z"
   },
   {
    "duration": 763,
    "start_time": "2022-01-14T18:17:47.123Z"
   },
   {
    "duration": 3,
    "start_time": "2022-01-14T18:17:47.887Z"
   },
   {
    "duration": 11,
    "start_time": "2022-01-14T18:17:47.891Z"
   },
   {
    "duration": 2,
    "start_time": "2022-01-14T18:17:58.099Z"
   },
   {
    "duration": 50,
    "start_time": "2022-01-14T18:17:58.113Z"
   },
   {
    "duration": 10,
    "start_time": "2022-01-14T18:17:58.165Z"
   },
   {
    "duration": 10,
    "start_time": "2022-01-14T18:17:58.177Z"
   },
   {
    "duration": 24,
    "start_time": "2022-01-14T18:17:58.188Z"
   },
   {
    "duration": 10,
    "start_time": "2022-01-14T18:17:58.213Z"
   },
   {
    "duration": 223,
    "start_time": "2022-01-14T18:17:58.224Z"
   },
   {
    "duration": 196,
    "start_time": "2022-01-14T18:17:58.448Z"
   },
   {
    "duration": 27,
    "start_time": "2022-01-14T18:17:58.646Z"
   },
   {
    "duration": 55,
    "start_time": "2022-01-14T18:17:58.676Z"
   },
   {
    "duration": 657,
    "start_time": "2022-01-14T18:17:58.733Z"
   },
   {
    "duration": 4,
    "start_time": "2022-01-14T18:17:59.391Z"
   },
   {
    "duration": 21,
    "start_time": "2022-01-14T18:17:59.397Z"
   },
   {
    "duration": 30,
    "start_time": "2022-01-14T18:17:59.419Z"
   },
   {
    "duration": 214,
    "start_time": "2022-01-14T18:17:59.450Z"
   },
   {
    "duration": 466,
    "start_time": "2022-01-14T18:17:59.200Z"
   },
   {
    "duration": 463,
    "start_time": "2022-01-14T18:17:59.204Z"
   },
   {
    "duration": 461,
    "start_time": "2022-01-14T18:17:59.207Z"
   },
   {
    "duration": 459,
    "start_time": "2022-01-14T18:17:59.210Z"
   },
   {
    "duration": 456,
    "start_time": "2022-01-14T18:17:59.213Z"
   },
   {
    "duration": 454,
    "start_time": "2022-01-14T18:17:59.217Z"
   },
   {
    "duration": 451,
    "start_time": "2022-01-14T18:17:59.220Z"
   },
   {
    "duration": 449,
    "start_time": "2022-01-14T18:17:59.223Z"
   },
   {
    "duration": 447,
    "start_time": "2022-01-14T18:17:59.226Z"
   },
   {
    "duration": 445,
    "start_time": "2022-01-14T18:17:59.229Z"
   },
   {
    "duration": 444,
    "start_time": "2022-01-14T18:17:59.231Z"
   },
   {
    "duration": 441,
    "start_time": "2022-01-14T18:17:59.235Z"
   },
   {
    "duration": 434,
    "start_time": "2022-01-14T18:17:59.243Z"
   },
   {
    "duration": 432,
    "start_time": "2022-01-14T18:17:59.246Z"
   },
   {
    "duration": 430,
    "start_time": "2022-01-14T18:17:59.249Z"
   },
   {
    "duration": 28,
    "start_time": "2022-01-14T18:20:11.204Z"
   },
   {
    "duration": 2,
    "start_time": "2022-01-14T18:20:17.570Z"
   },
   {
    "duration": 57,
    "start_time": "2022-01-14T18:20:17.574Z"
   },
   {
    "duration": 10,
    "start_time": "2022-01-14T18:20:17.633Z"
   },
   {
    "duration": 13,
    "start_time": "2022-01-14T18:20:17.645Z"
   },
   {
    "duration": 7,
    "start_time": "2022-01-14T18:20:17.659Z"
   },
   {
    "duration": 13,
    "start_time": "2022-01-14T18:20:17.667Z"
   },
   {
    "duration": 232,
    "start_time": "2022-01-14T18:20:17.682Z"
   },
   {
    "duration": 198,
    "start_time": "2022-01-14T18:20:17.915Z"
   },
   {
    "duration": 27,
    "start_time": "2022-01-14T18:20:18.114Z"
   },
   {
    "duration": 39,
    "start_time": "2022-01-14T18:20:18.142Z"
   },
   {
    "duration": 665,
    "start_time": "2022-01-14T18:20:18.182Z"
   },
   {
    "duration": 3,
    "start_time": "2022-01-14T18:20:18.848Z"
   },
   {
    "duration": 11,
    "start_time": "2022-01-14T18:20:18.852Z"
   },
   {
    "duration": 31,
    "start_time": "2022-01-14T18:20:23.149Z"
   },
   {
    "duration": 208,
    "start_time": "2022-01-14T18:21:23.750Z"
   },
   {
    "duration": 4,
    "start_time": "2022-01-14T18:21:59.026Z"
   },
   {
    "duration": 50,
    "start_time": "2022-01-14T18:21:59.032Z"
   },
   {
    "duration": 10,
    "start_time": "2022-01-14T18:21:59.084Z"
   },
   {
    "duration": 11,
    "start_time": "2022-01-14T18:21:59.096Z"
   },
   {
    "duration": 11,
    "start_time": "2022-01-14T18:21:59.112Z"
   },
   {
    "duration": 16,
    "start_time": "2022-01-14T18:21:59.124Z"
   },
   {
    "duration": 255,
    "start_time": "2022-01-14T18:21:59.142Z"
   },
   {
    "duration": 264,
    "start_time": "2022-01-14T18:21:59.400Z"
   },
   {
    "duration": 27,
    "start_time": "2022-01-14T18:21:59.666Z"
   },
   {
    "duration": 46,
    "start_time": "2022-01-14T18:21:59.694Z"
   },
   {
    "duration": 731,
    "start_time": "2022-01-14T18:21:59.742Z"
   },
   {
    "duration": 3,
    "start_time": "2022-01-14T18:22:00.475Z"
   },
   {
    "duration": 11,
    "start_time": "2022-01-14T18:22:00.480Z"
   },
   {
    "duration": 46,
    "start_time": "2022-01-14T18:22:00.493Z"
   },
   {
    "duration": 229,
    "start_time": "2022-01-14T18:22:47.896Z"
   },
   {
    "duration": 3,
    "start_time": "2022-01-14T18:23:04.116Z"
   },
   {
    "duration": 194,
    "start_time": "2022-01-14T18:25:35.767Z"
   },
   {
    "duration": 199,
    "start_time": "2022-01-14T18:27:29.561Z"
   },
   {
    "duration": 64,
    "start_time": "2022-01-14T18:28:21.683Z"
   },
   {
    "duration": 72,
    "start_time": "2022-01-14T18:29:50.719Z"
   },
   {
    "duration": 402,
    "start_time": "2022-01-14T18:29:55.986Z"
   },
   {
    "duration": 565,
    "start_time": "2022-01-14T18:30:03.142Z"
   },
   {
    "duration": 44,
    "start_time": "2022-01-14T18:30:08.821Z"
   },
   {
    "duration": 42,
    "start_time": "2022-01-14T18:30:31.827Z"
   },
   {
    "duration": 4,
    "start_time": "2022-01-14T18:32:10.217Z"
   },
   {
    "duration": 52,
    "start_time": "2022-01-14T18:32:10.223Z"
   },
   {
    "duration": 11,
    "start_time": "2022-01-14T18:32:10.277Z"
   },
   {
    "duration": 32,
    "start_time": "2022-01-14T18:32:10.290Z"
   },
   {
    "duration": 8,
    "start_time": "2022-01-14T18:32:10.324Z"
   },
   {
    "duration": 10,
    "start_time": "2022-01-14T18:32:10.334Z"
   },
   {
    "duration": 244,
    "start_time": "2022-01-14T18:32:10.346Z"
   },
   {
    "duration": 218,
    "start_time": "2022-01-14T18:32:10.592Z"
   },
   {
    "duration": 34,
    "start_time": "2022-01-14T18:32:10.812Z"
   },
   {
    "duration": 42,
    "start_time": "2022-01-14T18:32:10.847Z"
   },
   {
    "duration": 736,
    "start_time": "2022-01-14T18:32:10.891Z"
   },
   {
    "duration": 3,
    "start_time": "2022-01-14T18:32:11.629Z"
   },
   {
    "duration": 10,
    "start_time": "2022-01-14T18:32:11.634Z"
   },
   {
    "duration": 41,
    "start_time": "2022-01-14T18:32:14.541Z"
   },
   {
    "duration": 47,
    "start_time": "2022-01-14T18:33:20.438Z"
   },
   {
    "duration": 3,
    "start_time": "2022-01-14T18:34:39.050Z"
   },
   {
    "duration": 52,
    "start_time": "2022-01-14T18:34:39.055Z"
   },
   {
    "duration": 12,
    "start_time": "2022-01-14T18:34:39.109Z"
   },
   {
    "duration": 10,
    "start_time": "2022-01-14T18:34:39.122Z"
   },
   {
    "duration": 7,
    "start_time": "2022-01-14T18:34:39.133Z"
   },
   {
    "duration": 10,
    "start_time": "2022-01-14T18:34:39.142Z"
   },
   {
    "duration": 253,
    "start_time": "2022-01-14T18:34:39.154Z"
   },
   {
    "duration": 194,
    "start_time": "2022-01-14T18:34:39.414Z"
   },
   {
    "duration": 25,
    "start_time": "2022-01-14T18:34:39.609Z"
   },
   {
    "duration": 34,
    "start_time": "2022-01-14T18:34:39.636Z"
   },
   {
    "duration": 823,
    "start_time": "2022-01-14T18:34:39.671Z"
   },
   {
    "duration": 3,
    "start_time": "2022-01-14T18:34:40.495Z"
   },
   {
    "duration": 17,
    "start_time": "2022-01-14T18:34:40.500Z"
   },
   {
    "duration": 222,
    "start_time": "2022-01-14T18:34:40.519Z"
   },
   {
    "duration": 479,
    "start_time": "2022-01-14T18:34:40.264Z"
   },
   {
    "duration": 477,
    "start_time": "2022-01-14T18:34:40.267Z"
   },
   {
    "duration": 475,
    "start_time": "2022-01-14T18:34:40.270Z"
   },
   {
    "duration": 473,
    "start_time": "2022-01-14T18:34:40.273Z"
   },
   {
    "duration": 470,
    "start_time": "2022-01-14T18:34:40.276Z"
   },
   {
    "duration": 468,
    "start_time": "2022-01-14T18:34:40.279Z"
   },
   {
    "duration": 466,
    "start_time": "2022-01-14T18:34:40.282Z"
   },
   {
    "duration": 459,
    "start_time": "2022-01-14T18:34:40.290Z"
   },
   {
    "duration": 457,
    "start_time": "2022-01-14T18:34:40.293Z"
   },
   {
    "duration": 455,
    "start_time": "2022-01-14T18:34:40.295Z"
   },
   {
    "duration": 453,
    "start_time": "2022-01-14T18:34:40.298Z"
   },
   {
    "duration": 450,
    "start_time": "2022-01-14T18:34:40.302Z"
   },
   {
    "duration": 448,
    "start_time": "2022-01-14T18:34:40.305Z"
   },
   {
    "duration": 446,
    "start_time": "2022-01-14T18:34:40.308Z"
   },
   {
    "duration": 445,
    "start_time": "2022-01-14T18:34:40.310Z"
   },
   {
    "duration": 442,
    "start_time": "2022-01-14T18:34:40.313Z"
   },
   {
    "duration": 185,
    "start_time": "2022-01-14T18:36:06.627Z"
   },
   {
    "duration": 273,
    "start_time": "2022-01-14T18:36:45.953Z"
   },
   {
    "duration": 3,
    "start_time": "2022-01-14T18:37:03.376Z"
   },
   {
    "duration": 51,
    "start_time": "2022-01-14T18:37:03.381Z"
   },
   {
    "duration": 11,
    "start_time": "2022-01-14T18:37:03.435Z"
   },
   {
    "duration": 9,
    "start_time": "2022-01-14T18:37:03.448Z"
   },
   {
    "duration": 7,
    "start_time": "2022-01-14T18:37:03.458Z"
   },
   {
    "duration": 9,
    "start_time": "2022-01-14T18:37:03.467Z"
   },
   {
    "duration": 248,
    "start_time": "2022-01-14T18:37:03.478Z"
   },
   {
    "duration": 196,
    "start_time": "2022-01-14T18:37:03.728Z"
   },
   {
    "duration": 23,
    "start_time": "2022-01-14T18:37:03.926Z"
   },
   {
    "duration": 37,
    "start_time": "2022-01-14T18:37:03.951Z"
   },
   {
    "duration": 690,
    "start_time": "2022-01-14T18:37:03.989Z"
   },
   {
    "duration": 3,
    "start_time": "2022-01-14T18:37:04.681Z"
   },
   {
    "duration": 11,
    "start_time": "2022-01-14T18:37:04.685Z"
   },
   {
    "duration": 48,
    "start_time": "2022-01-14T18:37:38.190Z"
   },
   {
    "duration": 82,
    "start_time": "2022-01-14T18:38:27.171Z"
   },
   {
    "duration": 46,
    "start_time": "2022-01-14T18:38:54.412Z"
   },
   {
    "duration": 47,
    "start_time": "2022-01-14T18:39:32.070Z"
   },
   {
    "duration": 75,
    "start_time": "2022-01-14T18:39:49.216Z"
   },
   {
    "duration": 77,
    "start_time": "2022-01-14T18:40:02.480Z"
   },
   {
    "duration": 76,
    "start_time": "2022-01-14T18:40:13.816Z"
   },
   {
    "duration": 55,
    "start_time": "2022-01-14T18:40:43.015Z"
   },
   {
    "duration": 71,
    "start_time": "2022-01-14T18:40:53.384Z"
   },
   {
    "duration": 65,
    "start_time": "2022-01-14T18:41:37.045Z"
   },
   {
    "duration": 233,
    "start_time": "2022-01-14T18:41:58.108Z"
   },
   {
    "duration": 76,
    "start_time": "2022-01-14T18:42:11.703Z"
   },
   {
    "duration": 81,
    "start_time": "2022-01-14T18:43:19.377Z"
   },
   {
    "duration": 75,
    "start_time": "2022-01-14T18:43:28.851Z"
   },
   {
    "duration": 65,
    "start_time": "2022-01-14T18:43:50.624Z"
   },
   {
    "duration": 74,
    "start_time": "2022-01-14T18:43:55.963Z"
   },
   {
    "duration": 3,
    "start_time": "2022-01-14T18:46:33.222Z"
   },
   {
    "duration": 52,
    "start_time": "2022-01-14T18:46:33.227Z"
   },
   {
    "duration": 9,
    "start_time": "2022-01-14T18:46:33.281Z"
   },
   {
    "duration": 10,
    "start_time": "2022-01-14T18:46:33.292Z"
   },
   {
    "duration": 12,
    "start_time": "2022-01-14T18:46:33.304Z"
   },
   {
    "duration": 9,
    "start_time": "2022-01-14T18:46:33.318Z"
   },
   {
    "duration": 224,
    "start_time": "2022-01-14T18:46:33.328Z"
   },
   {
    "duration": 189,
    "start_time": "2022-01-14T18:46:33.554Z"
   },
   {
    "duration": 24,
    "start_time": "2022-01-14T18:46:33.745Z"
   },
   {
    "duration": 46,
    "start_time": "2022-01-14T18:46:33.770Z"
   },
   {
    "duration": 665,
    "start_time": "2022-01-14T18:46:33.818Z"
   },
   {
    "duration": 3,
    "start_time": "2022-01-14T18:46:34.484Z"
   },
   {
    "duration": 12,
    "start_time": "2022-01-14T18:46:34.489Z"
   },
   {
    "duration": 45,
    "start_time": "2022-01-14T18:46:34.512Z"
   },
   {
    "duration": 88,
    "start_time": "2022-01-14T18:46:34.558Z"
   },
   {
    "duration": 78,
    "start_time": "2022-01-14T18:46:36.659Z"
   },
   {
    "duration": 69,
    "start_time": "2022-01-14T18:46:57.057Z"
   },
   {
    "duration": 3,
    "start_time": "2022-01-14T18:52:11.644Z"
   },
   {
    "duration": 54,
    "start_time": "2022-01-14T18:52:11.648Z"
   },
   {
    "duration": 10,
    "start_time": "2022-01-14T18:52:11.703Z"
   },
   {
    "duration": 11,
    "start_time": "2022-01-14T18:52:11.714Z"
   },
   {
    "duration": 8,
    "start_time": "2022-01-14T18:52:11.726Z"
   },
   {
    "duration": 10,
    "start_time": "2022-01-14T18:52:11.735Z"
   },
   {
    "duration": 232,
    "start_time": "2022-01-14T18:52:11.747Z"
   },
   {
    "duration": 194,
    "start_time": "2022-01-14T18:52:11.980Z"
   },
   {
    "duration": 25,
    "start_time": "2022-01-14T18:52:12.175Z"
   },
   {
    "duration": 42,
    "start_time": "2022-01-14T18:52:12.201Z"
   },
   {
    "duration": 646,
    "start_time": "2022-01-14T18:52:12.245Z"
   },
   {
    "duration": 3,
    "start_time": "2022-01-14T18:52:12.892Z"
   },
   {
    "duration": 19,
    "start_time": "2022-01-14T18:52:12.896Z"
   },
   {
    "duration": 56,
    "start_time": "2022-01-14T18:52:12.916Z"
   },
   {
    "duration": 84,
    "start_time": "2022-01-14T18:52:12.973Z"
   },
   {
    "duration": 64,
    "start_time": "2022-01-14T18:52:15.411Z"
   },
   {
    "duration": 71,
    "start_time": "2022-01-14T19:06:12.438Z"
   },
   {
    "duration": 3,
    "start_time": "2022-01-14T19:10:24.762Z"
   },
   {
    "duration": 51,
    "start_time": "2022-01-14T19:10:24.767Z"
   },
   {
    "duration": 10,
    "start_time": "2022-01-14T19:10:24.819Z"
   },
   {
    "duration": 9,
    "start_time": "2022-01-14T19:10:24.831Z"
   },
   {
    "duration": 119,
    "start_time": "2022-01-14T19:10:24.842Z"
   },
   {
    "duration": 11,
    "start_time": "2022-01-14T19:10:24.963Z"
   },
   {
    "duration": 246,
    "start_time": "2022-01-14T19:10:24.976Z"
   },
   {
    "duration": 194,
    "start_time": "2022-01-14T19:10:25.223Z"
   },
   {
    "duration": 24,
    "start_time": "2022-01-14T19:10:25.418Z"
   },
   {
    "duration": 34,
    "start_time": "2022-01-14T19:10:25.444Z"
   },
   {
    "duration": 714,
    "start_time": "2022-01-14T19:10:25.480Z"
   },
   {
    "duration": 3,
    "start_time": "2022-01-14T19:10:26.196Z"
   },
   {
    "duration": 17,
    "start_time": "2022-01-14T19:10:26.201Z"
   },
   {
    "duration": 46,
    "start_time": "2022-01-14T19:10:26.219Z"
   },
   {
    "duration": 95,
    "start_time": "2022-01-14T19:10:26.267Z"
   },
   {
    "duration": 72,
    "start_time": "2022-01-14T19:10:26.363Z"
   },
   {
    "duration": 640,
    "start_time": "2022-01-14T19:10:26.437Z"
   },
   {
    "duration": 5069,
    "start_time": "2022-01-14T19:10:27.079Z"
   },
   {
    "duration": 275,
    "start_time": "2022-01-14T19:10:32.150Z"
   },
   {
    "duration": 1004,
    "start_time": "2022-01-14T19:10:32.426Z"
   },
   {
    "duration": 24,
    "start_time": "2022-01-14T19:10:33.431Z"
   },
   {
    "duration": 20,
    "start_time": "2022-01-14T19:10:33.456Z"
   },
   {
    "duration": 35,
    "start_time": "2022-01-14T19:10:33.478Z"
   },
   {
    "duration": 27,
    "start_time": "2022-01-14T19:10:33.515Z"
   },
   {
    "duration": 24,
    "start_time": "2022-01-14T19:10:33.545Z"
   },
   {
    "duration": 23,
    "start_time": "2022-01-14T19:10:33.570Z"
   },
   {
    "duration": 48,
    "start_time": "2022-01-14T19:10:33.594Z"
   },
   {
    "duration": 26,
    "start_time": "2022-01-14T19:10:33.644Z"
   },
   {
    "duration": 42,
    "start_time": "2022-01-14T19:10:33.671Z"
   },
   {
    "duration": 37,
    "start_time": "2022-01-14T19:10:33.714Z"
   },
   {
    "duration": 39,
    "start_time": "2022-01-14T19:18:57.127Z"
   },
   {
    "duration": 18,
    "start_time": "2022-01-14T19:20:58.078Z"
   },
   {
    "duration": 51,
    "start_time": "2022-01-14T19:20:58.098Z"
   },
   {
    "duration": 11,
    "start_time": "2022-01-14T19:20:58.151Z"
   },
   {
    "duration": 9,
    "start_time": "2022-01-14T19:20:58.164Z"
   },
   {
    "duration": 39,
    "start_time": "2022-01-14T19:20:58.174Z"
   },
   {
    "duration": 11,
    "start_time": "2022-01-14T19:20:58.214Z"
   },
   {
    "duration": 243,
    "start_time": "2022-01-14T19:20:58.227Z"
   },
   {
    "duration": 197,
    "start_time": "2022-01-14T19:20:58.472Z"
   },
   {
    "duration": 26,
    "start_time": "2022-01-14T19:20:58.671Z"
   },
   {
    "duration": 37,
    "start_time": "2022-01-14T19:20:58.712Z"
   },
   {
    "duration": 827,
    "start_time": "2022-01-14T19:20:58.751Z"
   },
   {
    "duration": 3,
    "start_time": "2022-01-14T19:20:59.579Z"
   },
   {
    "duration": 11,
    "start_time": "2022-01-14T19:20:59.584Z"
   },
   {
    "duration": 60,
    "start_time": "2022-01-14T19:20:59.596Z"
   },
   {
    "duration": 90,
    "start_time": "2022-01-14T19:20:59.657Z"
   },
   {
    "duration": 77,
    "start_time": "2022-01-14T19:20:59.749Z"
   },
   {
    "duration": 647,
    "start_time": "2022-01-14T19:20:59.828Z"
   },
   {
    "duration": 4902,
    "start_time": "2022-01-14T19:21:00.477Z"
   },
   {
    "duration": 271,
    "start_time": "2022-01-14T19:21:05.381Z"
   },
   {
    "duration": 865,
    "start_time": "2022-01-14T19:21:05.653Z"
   },
   {
    "duration": 142,
    "start_time": "2022-01-14T19:21:06.519Z"
   },
   {
    "duration": 20,
    "start_time": "2022-01-14T19:21:06.663Z"
   },
   {
    "duration": 30,
    "start_time": "2022-01-14T19:21:06.686Z"
   },
   {
    "duration": 22,
    "start_time": "2022-01-14T19:21:06.718Z"
   },
   {
    "duration": 23,
    "start_time": "2022-01-14T19:21:06.742Z"
   },
   {
    "duration": 21,
    "start_time": "2022-01-14T19:21:06.767Z"
   },
   {
    "duration": 52,
    "start_time": "2022-01-14T19:21:06.789Z"
   },
   {
    "duration": 22,
    "start_time": "2022-01-14T19:21:06.842Z"
   },
   {
    "duration": 21,
    "start_time": "2022-01-14T19:21:06.866Z"
   },
   {
    "duration": 59,
    "start_time": "2022-01-14T19:21:06.888Z"
   },
   {
    "duration": 165,
    "start_time": "2022-01-14T19:24:48.169Z"
   },
   {
    "duration": 184,
    "start_time": "2022-01-14T19:24:55.337Z"
   },
   {
    "duration": 16,
    "start_time": "2022-01-14T19:25:07.226Z"
   },
   {
    "duration": 47,
    "start_time": "2022-01-14T19:25:07.243Z"
   },
   {
    "duration": 10,
    "start_time": "2022-01-14T19:25:07.292Z"
   },
   {
    "duration": 11,
    "start_time": "2022-01-14T19:25:07.304Z"
   },
   {
    "duration": 7,
    "start_time": "2022-01-14T19:25:07.316Z"
   },
   {
    "duration": 10,
    "start_time": "2022-01-14T19:25:07.324Z"
   },
   {
    "duration": 177,
    "start_time": "2022-01-14T19:25:07.336Z"
   },
   {
    "duration": 203,
    "start_time": "2022-01-14T19:25:13.575Z"
   },
   {
    "duration": 3,
    "start_time": "2022-01-14T19:25:23.961Z"
   },
   {
    "duration": 47,
    "start_time": "2022-01-14T19:25:23.968Z"
   },
   {
    "duration": 10,
    "start_time": "2022-01-14T19:25:24.017Z"
   },
   {
    "duration": 8,
    "start_time": "2022-01-14T19:25:24.029Z"
   },
   {
    "duration": 7,
    "start_time": "2022-01-14T19:25:24.038Z"
   },
   {
    "duration": 12,
    "start_time": "2022-01-14T19:25:24.047Z"
   },
   {
    "duration": 255,
    "start_time": "2022-01-14T19:25:24.060Z"
   },
   {
    "duration": 185,
    "start_time": "2022-01-14T19:25:24.317Z"
   },
   {
    "duration": 25,
    "start_time": "2022-01-14T19:25:24.503Z"
   },
   {
    "duration": 33,
    "start_time": "2022-01-14T19:25:24.531Z"
   },
   {
    "duration": 794,
    "start_time": "2022-01-14T19:25:24.566Z"
   },
   {
    "duration": 4,
    "start_time": "2022-01-14T19:25:25.362Z"
   },
   {
    "duration": 11,
    "start_time": "2022-01-14T19:25:25.367Z"
   },
   {
    "duration": 70,
    "start_time": "2022-01-14T19:25:25.380Z"
   },
   {
    "duration": 88,
    "start_time": "2022-01-14T19:25:25.452Z"
   },
   {
    "duration": 76,
    "start_time": "2022-01-14T19:25:25.542Z"
   },
   {
    "duration": 626,
    "start_time": "2022-01-14T19:25:25.620Z"
   },
   {
    "duration": 4632,
    "start_time": "2022-01-14T19:25:26.248Z"
   },
   {
    "duration": 287,
    "start_time": "2022-01-14T19:25:30.882Z"
   },
   {
    "duration": 1023,
    "start_time": "2022-01-14T19:25:31.170Z"
   },
   {
    "duration": 29,
    "start_time": "2022-01-14T19:25:32.194Z"
   },
   {
    "duration": 20,
    "start_time": "2022-01-14T19:25:32.224Z"
   },
   {
    "duration": 15,
    "start_time": "2022-01-14T19:25:32.245Z"
   },
   {
    "duration": 22,
    "start_time": "2022-01-14T19:25:32.261Z"
   },
   {
    "duration": 44,
    "start_time": "2022-01-14T19:25:32.284Z"
   },
   {
    "duration": 21,
    "start_time": "2022-01-14T19:25:32.329Z"
   },
   {
    "duration": 29,
    "start_time": "2022-01-14T19:25:32.352Z"
   },
   {
    "duration": 43,
    "start_time": "2022-01-14T19:25:32.384Z"
   },
   {
    "duration": 21,
    "start_time": "2022-01-14T19:25:32.428Z"
   },
   {
    "duration": 36,
    "start_time": "2022-01-14T19:25:32.450Z"
   },
   {
    "duration": 17,
    "start_time": "2022-01-14T19:33:00.530Z"
   },
   {
    "duration": 48,
    "start_time": "2022-01-14T19:33:00.549Z"
   },
   {
    "duration": 11,
    "start_time": "2022-01-14T19:33:00.599Z"
   },
   {
    "duration": 10,
    "start_time": "2022-01-14T19:33:00.612Z"
   },
   {
    "duration": 9,
    "start_time": "2022-01-14T19:33:00.624Z"
   },
   {
    "duration": 10,
    "start_time": "2022-01-14T19:33:00.635Z"
   },
   {
    "duration": 234,
    "start_time": "2022-01-14T19:33:00.646Z"
   },
   {
    "duration": 195,
    "start_time": "2022-01-14T19:33:00.881Z"
   },
   {
    "duration": 34,
    "start_time": "2022-01-14T19:33:01.078Z"
   },
   {
    "duration": 35,
    "start_time": "2022-01-14T19:33:01.114Z"
   },
   {
    "duration": 823,
    "start_time": "2022-01-14T19:33:01.151Z"
   },
   {
    "duration": 4,
    "start_time": "2022-01-14T19:33:01.976Z"
   },
   {
    "duration": 15,
    "start_time": "2022-01-14T19:33:01.981Z"
   },
   {
    "duration": 50,
    "start_time": "2022-01-14T19:33:01.998Z"
   },
   {
    "duration": 79,
    "start_time": "2022-01-14T19:33:02.049Z"
   },
   {
    "duration": 63,
    "start_time": "2022-01-14T19:33:02.129Z"
   },
   {
    "duration": 707,
    "start_time": "2022-01-14T19:33:02.193Z"
   },
   {
    "duration": 4965,
    "start_time": "2022-01-14T19:33:02.902Z"
   },
   {
    "duration": 446,
    "start_time": "2022-01-14T19:33:07.868Z"
   },
   {
    "duration": 924,
    "start_time": "2022-01-14T19:33:08.316Z"
   },
   {
    "duration": 24,
    "start_time": "2022-01-14T19:33:09.241Z"
   },
   {
    "duration": 20,
    "start_time": "2022-01-14T19:33:09.267Z"
   },
   {
    "duration": 36,
    "start_time": "2022-01-14T19:33:09.288Z"
   },
   {
    "duration": 29,
    "start_time": "2022-01-14T19:33:09.326Z"
   },
   {
    "duration": 30,
    "start_time": "2022-01-14T19:33:09.356Z"
   },
   {
    "duration": 40,
    "start_time": "2022-01-14T19:33:09.388Z"
   },
   {
    "duration": 37,
    "start_time": "2022-01-14T19:33:09.431Z"
   },
   {
    "duration": 43,
    "start_time": "2022-01-14T19:33:09.470Z"
   },
   {
    "duration": 32,
    "start_time": "2022-01-14T19:33:09.515Z"
   },
   {
    "duration": 43,
    "start_time": "2022-01-14T19:33:09.549Z"
   },
   {
    "duration": 18,
    "start_time": "2022-01-14T19:33:50.314Z"
   },
   {
    "duration": 3,
    "start_time": "2022-01-14T19:34:07.069Z"
   },
   {
    "duration": 61,
    "start_time": "2022-01-14T19:36:45.509Z"
   },
   {
    "duration": 612,
    "start_time": "2022-01-14T19:39:16.882Z"
   },
   {
    "duration": 20,
    "start_time": "2022-01-14T19:39:20.158Z"
   },
   {
    "duration": 1221,
    "start_time": "2022-02-20T18:05:16.857Z"
   },
   {
    "duration": -531,
    "start_time": "2022-02-20T18:05:18.612Z"
   },
   {
    "duration": -535,
    "start_time": "2022-02-20T18:05:18.617Z"
   },
   {
    "duration": -539,
    "start_time": "2022-02-20T18:05:18.622Z"
   },
   {
    "duration": -556,
    "start_time": "2022-02-20T18:05:18.640Z"
   },
   {
    "duration": -565,
    "start_time": "2022-02-20T18:05:18.649Z"
   },
   {
    "duration": -570,
    "start_time": "2022-02-20T18:05:18.655Z"
   },
   {
    "duration": -574,
    "start_time": "2022-02-20T18:05:18.660Z"
   },
   {
    "duration": -581,
    "start_time": "2022-02-20T18:05:18.669Z"
   },
   {
    "duration": -585,
    "start_time": "2022-02-20T18:05:18.674Z"
   },
   {
    "duration": -592,
    "start_time": "2022-02-20T18:05:18.683Z"
   },
   {
    "duration": -597,
    "start_time": "2022-02-20T18:05:18.689Z"
   },
   {
    "duration": -601,
    "start_time": "2022-02-20T18:05:18.694Z"
   },
   {
    "duration": -605,
    "start_time": "2022-02-20T18:05:18.700Z"
   },
   {
    "duration": -609,
    "start_time": "2022-02-20T18:05:18.705Z"
   },
   {
    "duration": -616,
    "start_time": "2022-02-20T18:05:18.713Z"
   },
   {
    "duration": -622,
    "start_time": "2022-02-20T18:05:18.721Z"
   },
   {
    "duration": -626,
    "start_time": "2022-02-20T18:05:18.726Z"
   },
   {
    "duration": -630,
    "start_time": "2022-02-20T18:05:18.732Z"
   },
   {
    "duration": -634,
    "start_time": "2022-02-20T18:05:18.737Z"
   },
   {
    "duration": -637,
    "start_time": "2022-02-20T18:05:18.742Z"
   },
   {
    "duration": -641,
    "start_time": "2022-02-20T18:05:18.747Z"
   },
   {
    "duration": -648,
    "start_time": "2022-02-20T18:05:18.755Z"
   },
   {
    "duration": -652,
    "start_time": "2022-02-20T18:05:18.761Z"
   },
   {
    "duration": -657,
    "start_time": "2022-02-20T18:05:18.767Z"
   },
   {
    "duration": -661,
    "start_time": "2022-02-20T18:05:18.772Z"
   },
   {
    "duration": -665,
    "start_time": "2022-02-20T18:05:18.777Z"
   },
   {
    "duration": -668,
    "start_time": "2022-02-20T18:05:18.782Z"
   },
   {
    "duration": -673,
    "start_time": "2022-02-20T18:05:18.788Z"
   },
   {
    "duration": -684,
    "start_time": "2022-02-20T18:05:18.801Z"
   },
   {
    "duration": -688,
    "start_time": "2022-02-20T18:05:18.806Z"
   },
   {
    "duration": -691,
    "start_time": "2022-02-20T18:05:18.810Z"
   },
   {
    "duration": -695,
    "start_time": "2022-02-20T18:05:18.816Z"
   },
   {
    "duration": -699,
    "start_time": "2022-02-20T18:05:18.821Z"
   },
   {
    "duration": -704,
    "start_time": "2022-02-20T18:05:18.827Z"
   },
   {
    "duration": -675,
    "start_time": "2022-02-20T18:05:18.834Z"
   },
   {
    "duration": -678,
    "start_time": "2022-02-20T18:05:18.839Z"
   },
   {
    "duration": -682,
    "start_time": "2022-02-20T18:05:18.844Z"
   },
   {
    "duration": -685,
    "start_time": "2022-02-20T18:05:18.849Z"
   },
   {
    "duration": -689,
    "start_time": "2022-02-20T18:05:18.854Z"
   },
   {
    "duration": -696,
    "start_time": "2022-02-20T18:05:18.863Z"
   },
   {
    "duration": -704,
    "start_time": "2022-02-20T18:05:18.872Z"
   },
   {
    "duration": 3,
    "start_time": "2022-02-20T18:17:27.401Z"
   },
   {
    "duration": 1038,
    "start_time": "2022-02-20T18:17:49.713Z"
   },
   {
    "duration": 1485,
    "start_time": "2022-02-20T18:17:50.754Z"
   },
   {
    "duration": -539,
    "start_time": "2022-02-20T18:17:52.782Z"
   },
   {
    "duration": -543,
    "start_time": "2022-02-20T18:17:52.788Z"
   },
   {
    "duration": -550,
    "start_time": "2022-02-20T18:17:52.797Z"
   },
   {
    "duration": -553,
    "start_time": "2022-02-20T18:17:52.802Z"
   },
   {
    "duration": -559,
    "start_time": "2022-02-20T18:17:52.809Z"
   },
   {
    "duration": -562,
    "start_time": "2022-02-20T18:17:52.814Z"
   },
   {
    "duration": -571,
    "start_time": "2022-02-20T18:17:52.824Z"
   },
   {
    "duration": -574,
    "start_time": "2022-02-20T18:17:52.829Z"
   },
   {
    "duration": -579,
    "start_time": "2022-02-20T18:17:52.835Z"
   },
   {
    "duration": -583,
    "start_time": "2022-02-20T18:17:52.840Z"
   },
   {
    "duration": -589,
    "start_time": "2022-02-20T18:17:52.847Z"
   },
   {
    "duration": -592,
    "start_time": "2022-02-20T18:17:52.852Z"
   },
   {
    "duration": -597,
    "start_time": "2022-02-20T18:17:52.858Z"
   },
   {
    "duration": -600,
    "start_time": "2022-02-20T18:17:52.863Z"
   },
   {
    "duration": -604,
    "start_time": "2022-02-20T18:17:52.868Z"
   },
   {
    "duration": -608,
    "start_time": "2022-02-20T18:17:52.873Z"
   },
   {
    "duration": -613,
    "start_time": "2022-02-20T18:17:52.879Z"
   },
   {
    "duration": -616,
    "start_time": "2022-02-20T18:17:52.884Z"
   },
   {
    "duration": -620,
    "start_time": "2022-02-20T18:17:52.889Z"
   },
   {
    "duration": -626,
    "start_time": "2022-02-20T18:17:52.896Z"
   },
   {
    "duration": -630,
    "start_time": "2022-02-20T18:17:52.902Z"
   },
   {
    "duration": -635,
    "start_time": "2022-02-20T18:17:52.908Z"
   },
   {
    "duration": -638,
    "start_time": "2022-02-20T18:17:52.913Z"
   },
   {
    "duration": -641,
    "start_time": "2022-02-20T18:17:52.917Z"
   },
   {
    "duration": -648,
    "start_time": "2022-02-20T18:17:52.925Z"
   },
   {
    "duration": -652,
    "start_time": "2022-02-20T18:17:52.930Z"
   },
   {
    "duration": -657,
    "start_time": "2022-02-20T18:17:52.935Z"
   },
   {
    "duration": -661,
    "start_time": "2022-02-20T18:17:52.940Z"
   },
   {
    "duration": -666,
    "start_time": "2022-02-20T18:17:52.946Z"
   },
   {
    "duration": -670,
    "start_time": "2022-02-20T18:17:52.951Z"
   },
   {
    "duration": -674,
    "start_time": "2022-02-20T18:17:52.956Z"
   },
   {
    "duration": -680,
    "start_time": "2022-02-20T18:17:52.962Z"
   },
   {
    "duration": -684,
    "start_time": "2022-02-20T18:17:52.967Z"
   },
   {
    "duration": -689,
    "start_time": "2022-02-20T18:17:52.973Z"
   },
   {
    "duration": -693,
    "start_time": "2022-02-20T18:17:52.978Z"
   },
   {
    "duration": -697,
    "start_time": "2022-02-20T18:17:52.983Z"
   },
   {
    "duration": -699,
    "start_time": "2022-02-20T18:17:52.988Z"
   },
   {
    "duration": -704,
    "start_time": "2022-02-20T18:17:52.994Z"
   },
   {
    "duration": -708,
    "start_time": "2022-02-20T18:17:52.999Z"
   },
   {
    "duration": -713,
    "start_time": "2022-02-20T18:17:53.005Z"
   },
   {
    "duration": 210,
    "start_time": "2022-02-22T11:54:23.800Z"
   },
   {
    "duration": 912,
    "start_time": "2022-02-22T11:54:33.395Z"
   },
   {
    "duration": 43,
    "start_time": "2022-02-22T11:54:34.309Z"
   },
   {
    "duration": 239,
    "start_time": "2022-02-22T11:54:34.355Z"
   },
   {
    "duration": 200,
    "start_time": "2022-02-22T11:54:34.596Z"
   },
   {
    "duration": 141,
    "start_time": "2022-02-22T11:54:34.798Z"
   },
   {
    "duration": 22,
    "start_time": "2022-02-22T11:54:34.941Z"
   },
   {
    "duration": 7,
    "start_time": "2022-02-22T11:54:34.965Z"
   },
   {
    "duration": 4,
    "start_time": "2022-02-22T11:54:34.974Z"
   },
   {
    "duration": 13,
    "start_time": "2022-02-22T11:54:34.980Z"
   },
   {
    "duration": 141,
    "start_time": "2022-02-22T11:54:34.994Z"
   },
   {
    "duration": 16,
    "start_time": "2022-02-22T11:54:35.137Z"
   },
   {
    "duration": 6,
    "start_time": "2022-02-22T11:54:35.155Z"
   },
   {
    "duration": 237,
    "start_time": "2022-02-22T11:54:35.162Z"
   },
   {
    "duration": 104,
    "start_time": "2022-02-22T11:54:35.401Z"
   },
   {
    "duration": 27,
    "start_time": "2022-02-22T11:54:35.507Z"
   },
   {
    "duration": 3,
    "start_time": "2022-02-22T11:54:35.535Z"
   },
   {
    "duration": 9,
    "start_time": "2022-02-22T11:54:35.540Z"
   },
   {
    "duration": 8,
    "start_time": "2022-02-22T11:54:35.551Z"
   },
   {
    "duration": 66,
    "start_time": "2022-02-22T11:54:35.560Z"
   },
   {
    "duration": 16,
    "start_time": "2022-02-22T11:54:35.630Z"
   },
   {
    "duration": 14,
    "start_time": "2022-02-22T11:54:35.647Z"
   },
   {
    "duration": 24,
    "start_time": "2022-02-22T11:54:35.663Z"
   },
   {
    "duration": 4,
    "start_time": "2022-02-22T11:54:35.690Z"
   },
   {
    "duration": 3530,
    "start_time": "2022-02-22T11:54:35.696Z"
   },
   {
    "duration": 3,
    "start_time": "2022-02-22T11:54:39.230Z"
   },
   {
    "duration": 29,
    "start_time": "2022-02-22T11:54:39.234Z"
   },
   {
    "duration": 31,
    "start_time": "2022-02-22T11:54:39.265Z"
   },
   {
    "duration": 50,
    "start_time": "2022-02-22T11:54:39.298Z"
   },
   {
    "duration": 2,
    "start_time": "2022-02-22T11:54:39.350Z"
   },
   {
    "duration": 1232,
    "start_time": "2022-02-22T11:54:39.354Z"
   },
   {
    "duration": 1177,
    "start_time": "2022-02-22T11:54:40.588Z"
   },
   {
    "duration": 7,
    "start_time": "2022-02-22T11:54:41.767Z"
   },
   {
    "duration": 3472,
    "start_time": "2022-02-22T11:54:41.776Z"
   },
   {
    "duration": 30,
    "start_time": "2022-02-22T11:54:45.249Z"
   },
   {
    "duration": 3,
    "start_time": "2022-02-22T11:54:45.280Z"
   },
   {
    "duration": 24,
    "start_time": "2022-02-22T11:54:45.284Z"
   },
   {
    "duration": 1133,
    "start_time": "2022-02-22T11:54:45.310Z"
   },
   {
    "duration": 1143,
    "start_time": "2022-02-22T11:54:46.445Z"
   },
   {
    "duration": 44,
    "start_time": "2022-02-22T11:54:47.590Z"
   },
   {
    "duration": 24,
    "start_time": "2022-02-22T11:54:47.636Z"
   },
   {
    "duration": 22,
    "start_time": "2022-02-22T11:54:47.662Z"
   },
   {
    "duration": 28,
    "start_time": "2022-02-22T11:54:47.686Z"
   },
   {
    "duration": 2,
    "start_time": "2022-02-22T13:37:22.760Z"
   },
   {
    "duration": 35,
    "start_time": "2022-02-22T13:37:22.765Z"
   },
   {
    "duration": 156,
    "start_time": "2022-02-22T13:37:22.802Z"
   },
   {
    "duration": 143,
    "start_time": "2022-02-22T13:37:22.960Z"
   },
   {
    "duration": 97,
    "start_time": "2022-02-22T13:37:23.105Z"
   },
   {
    "duration": 19,
    "start_time": "2022-02-22T13:37:23.204Z"
   },
   {
    "duration": 6,
    "start_time": "2022-02-22T13:37:23.231Z"
   },
   {
    "duration": 3,
    "start_time": "2022-02-22T13:37:23.239Z"
   },
   {
    "duration": 13,
    "start_time": "2022-02-22T13:37:23.244Z"
   },
   {
    "duration": 131,
    "start_time": "2022-02-22T13:37:23.259Z"
   },
   {
    "duration": 12,
    "start_time": "2022-02-22T13:37:23.392Z"
   },
   {
    "duration": 5,
    "start_time": "2022-02-22T13:37:23.406Z"
   },
   {
    "duration": 181,
    "start_time": "2022-02-22T13:37:23.412Z"
   },
   {
    "duration": 85,
    "start_time": "2022-02-22T13:37:23.595Z"
   },
   {
    "duration": 16,
    "start_time": "2022-02-22T13:37:23.682Z"
   },
   {
    "duration": 2,
    "start_time": "2022-02-22T13:37:23.699Z"
   },
   {
    "duration": 4,
    "start_time": "2022-02-22T13:37:23.703Z"
   },
   {
    "duration": 22,
    "start_time": "2022-02-22T13:37:23.708Z"
   },
   {
    "duration": 63,
    "start_time": "2022-02-22T13:37:23.733Z"
   },
   {
    "duration": 20,
    "start_time": "2022-02-22T13:37:23.798Z"
   },
   {
    "duration": 31,
    "start_time": "2022-02-22T13:37:23.820Z"
   },
   {
    "duration": 30,
    "start_time": "2022-02-22T13:37:23.853Z"
   },
   {
    "duration": 6,
    "start_time": "2022-02-22T13:37:23.885Z"
   },
   {
    "duration": 3214,
    "start_time": "2022-02-22T13:37:23.893Z"
   },
   {
    "duration": 3,
    "start_time": "2022-02-22T13:37:27.109Z"
   },
   {
    "duration": 46,
    "start_time": "2022-02-22T13:37:27.114Z"
   },
   {
    "duration": 33,
    "start_time": "2022-02-22T13:37:27.161Z"
   },
   {
    "duration": 35,
    "start_time": "2022-02-22T13:37:27.195Z"
   },
   {
    "duration": 2,
    "start_time": "2022-02-22T13:37:27.232Z"
   },
   {
    "duration": 1155,
    "start_time": "2022-02-22T13:37:27.236Z"
   },
   {
    "duration": 1209,
    "start_time": "2022-02-22T13:37:28.393Z"
   },
   {
    "duration": 6,
    "start_time": "2022-02-22T13:37:29.604Z"
   },
   {
    "duration": 33,
    "start_time": "2022-02-22T13:37:29.612Z"
   },
   {
    "duration": 14,
    "start_time": "2022-02-22T13:37:29.647Z"
   },
   {
    "duration": 893,
    "start_time": "2022-02-22T22:39:40.680Z"
   },
   {
    "duration": 69,
    "start_time": "2022-02-22T22:39:41.575Z"
   },
   {
    "duration": 177,
    "start_time": "2022-02-22T22:39:41.646Z"
   },
   {
    "duration": 157,
    "start_time": "2022-02-22T22:39:41.832Z"
   },
   {
    "duration": 108,
    "start_time": "2022-02-22T22:39:41.991Z"
   },
   {
    "duration": 24,
    "start_time": "2022-02-22T22:39:42.100Z"
   },
   {
    "duration": 5,
    "start_time": "2022-02-22T22:39:42.132Z"
   },
   {
    "duration": 4,
    "start_time": "2022-02-22T22:39:42.139Z"
   },
   {
    "duration": 12,
    "start_time": "2022-02-22T22:39:42.146Z"
   },
   {
    "duration": 137,
    "start_time": "2022-02-22T22:39:42.160Z"
   },
   {
    "duration": 16,
    "start_time": "2022-02-22T22:39:42.299Z"
   },
   {
    "duration": 19,
    "start_time": "2022-02-22T22:39:42.317Z"
   },
   {
    "duration": 200,
    "start_time": "2022-02-22T22:39:42.338Z"
   },
   {
    "duration": 104,
    "start_time": "2022-02-22T22:39:42.540Z"
   },
   {
    "duration": 22,
    "start_time": "2022-02-22T22:39:42.646Z"
   },
   {
    "duration": 2,
    "start_time": "2022-02-22T22:39:42.670Z"
   },
   {
    "duration": 5,
    "start_time": "2022-02-22T22:39:42.674Z"
   },
   {
    "duration": 4,
    "start_time": "2022-02-22T22:39:42.681Z"
   },
   {
    "duration": 86,
    "start_time": "2022-02-22T22:39:42.687Z"
   },
   {
    "duration": 18,
    "start_time": "2022-02-22T22:39:42.774Z"
   },
   {
    "duration": 16,
    "start_time": "2022-02-22T22:39:42.793Z"
   },
   {
    "duration": 43,
    "start_time": "2022-02-22T22:39:42.811Z"
   },
   {
    "duration": 6,
    "start_time": "2022-02-22T22:39:42.856Z"
   },
   {
    "duration": 3251,
    "start_time": "2022-02-22T22:39:42.864Z"
   },
   {
    "duration": 3,
    "start_time": "2022-02-22T22:39:46.116Z"
   },
   {
    "duration": 21,
    "start_time": "2022-02-22T22:39:46.132Z"
   },
   {
    "duration": 28,
    "start_time": "2022-02-22T22:39:46.156Z"
   },
   {
    "duration": 22,
    "start_time": "2022-02-22T22:39:46.186Z"
   },
   {
    "duration": 2,
    "start_time": "2022-02-22T22:39:46.232Z"
   },
   {
    "duration": 1210,
    "start_time": "2022-02-22T22:39:46.235Z"
   },
   {
    "duration": 1126,
    "start_time": "2022-02-22T22:39:47.447Z"
   },
   {
    "duration": 6,
    "start_time": "2022-02-22T22:39:48.575Z"
   },
   {
    "duration": 23,
    "start_time": "2022-02-22T22:39:48.583Z"
   },
   {
    "duration": 33,
    "start_time": "2022-02-22T22:39:48.608Z"
   },
   {
    "duration": 11,
    "start_time": "2022-02-22T22:47:07.899Z"
   },
   {
    "duration": 26,
    "start_time": "2022-02-22T23:00:01.462Z"
   },
   {
    "duration": 915,
    "start_time": "2022-02-22T23:02:17.149Z"
   },
   {
    "duration": 53,
    "start_time": "2022-02-22T23:02:18.066Z"
   },
   {
    "duration": 177,
    "start_time": "2022-02-22T23:02:18.121Z"
   },
   {
    "duration": 152,
    "start_time": "2022-02-22T23:02:18.300Z"
   },
   {
    "duration": 105,
    "start_time": "2022-02-22T23:02:18.453Z"
   },
   {
    "duration": 24,
    "start_time": "2022-02-22T23:02:18.559Z"
   },
   {
    "duration": 7,
    "start_time": "2022-02-22T23:02:18.585Z"
   },
   {
    "duration": 2,
    "start_time": "2022-02-22T23:02:18.595Z"
   },
   {
    "duration": 11,
    "start_time": "2022-02-22T23:02:18.599Z"
   },
   {
    "duration": 142,
    "start_time": "2022-02-22T23:02:18.612Z"
   },
   {
    "duration": 15,
    "start_time": "2022-02-22T23:02:18.756Z"
   },
   {
    "duration": 5,
    "start_time": "2022-02-22T23:02:18.773Z"
   },
   {
    "duration": 207,
    "start_time": "2022-02-22T23:02:18.779Z"
   },
   {
    "duration": 98,
    "start_time": "2022-02-22T23:02:18.988Z"
   },
   {
    "duration": 19,
    "start_time": "2022-02-22T23:02:19.088Z"
   },
   {
    "duration": 2,
    "start_time": "2022-02-22T23:02:19.109Z"
   },
   {
    "duration": 6,
    "start_time": "2022-02-22T23:02:19.113Z"
   },
   {
    "duration": 2,
    "start_time": "2022-02-22T23:02:19.131Z"
   },
   {
    "duration": 62,
    "start_time": "2022-02-22T23:02:19.135Z"
   },
   {
    "duration": 17,
    "start_time": "2022-02-22T23:02:19.198Z"
   },
   {
    "duration": 25,
    "start_time": "2022-02-22T23:02:19.217Z"
   },
   {
    "duration": 25,
    "start_time": "2022-02-22T23:02:19.244Z"
   },
   {
    "duration": 21,
    "start_time": "2022-02-22T23:02:19.273Z"
   },
   {
    "duration": 4,
    "start_time": "2022-02-22T23:02:19.296Z"
   },
   {
    "duration": 3286,
    "start_time": "2022-02-22T23:02:19.302Z"
   },
   {
    "duration": 2,
    "start_time": "2022-02-22T23:02:22.590Z"
   },
   {
    "duration": 46,
    "start_time": "2022-02-22T23:02:22.594Z"
   },
   {
    "duration": 30,
    "start_time": "2022-02-22T23:02:22.642Z"
   },
   {
    "duration": 22,
    "start_time": "2022-02-22T23:02:22.674Z"
   },
   {
    "duration": 2,
    "start_time": "2022-02-22T23:02:22.698Z"
   },
   {
    "duration": 1237,
    "start_time": "2022-02-22T23:02:22.702Z"
   },
   {
    "duration": 1291,
    "start_time": "2022-02-22T23:02:23.941Z"
   },
   {
    "duration": 7,
    "start_time": "2022-02-22T23:02:25.234Z"
   },
   {
    "duration": 22,
    "start_time": "2022-02-22T23:02:25.243Z"
   },
   {
    "duration": 15,
    "start_time": "2022-02-22T23:02:25.267Z"
   },
   {
    "duration": 392,
    "start_time": "2022-02-22T23:16:28.887Z"
   },
   {
    "duration": 293,
    "start_time": "2022-02-22T23:17:16.125Z"
   },
   {
    "duration": 49,
    "start_time": "2022-03-21T15:37:16.343Z"
   },
   {
    "duration": 763,
    "start_time": "2022-03-21T15:37:31.076Z"
   },
   {
    "duration": 41,
    "start_time": "2022-03-21T15:37:31.841Z"
   },
   {
    "duration": 504,
    "start_time": "2022-03-21T15:37:31.884Z"
   },
   {
    "duration": 147,
    "start_time": "2022-03-21T15:37:32.391Z"
   },
   {
    "duration": 102,
    "start_time": "2022-03-21T15:37:32.539Z"
   },
   {
    "duration": 23,
    "start_time": "2022-03-21T15:37:32.643Z"
   },
   {
    "duration": 6,
    "start_time": "2022-03-21T15:37:32.668Z"
   },
   {
    "duration": 5,
    "start_time": "2022-03-21T15:37:32.676Z"
   },
   {
    "duration": 36,
    "start_time": "2022-03-21T15:37:32.682Z"
   },
   {
    "duration": 23,
    "start_time": "2022-03-21T15:37:32.722Z"
   },
   {
    "duration": 123,
    "start_time": "2022-03-21T15:37:32.746Z"
   },
   {
    "duration": 19,
    "start_time": "2022-03-21T15:37:32.870Z"
   },
   {
    "duration": 5,
    "start_time": "2022-03-21T15:37:32.890Z"
   },
   {
    "duration": 204,
    "start_time": "2022-03-21T15:37:32.909Z"
   },
   {
    "duration": 75,
    "start_time": "2022-03-21T15:37:33.114Z"
   },
   {
    "duration": 31,
    "start_time": "2022-03-21T15:37:33.191Z"
   },
   {
    "duration": 2,
    "start_time": "2022-03-21T15:37:33.224Z"
   },
   {
    "duration": 4,
    "start_time": "2022-03-21T15:37:33.228Z"
   },
   {
    "duration": 4,
    "start_time": "2022-03-21T15:37:33.234Z"
   },
   {
    "duration": 84,
    "start_time": "2022-03-21T15:37:33.239Z"
   },
   {
    "duration": 18,
    "start_time": "2022-03-21T15:37:33.325Z"
   },
   {
    "duration": 14,
    "start_time": "2022-03-21T15:37:33.345Z"
   },
   {
    "duration": 25,
    "start_time": "2022-03-21T15:37:33.361Z"
   },
   {
    "duration": 40,
    "start_time": "2022-03-21T15:37:33.387Z"
   },
   {
    "duration": 5,
    "start_time": "2022-03-21T15:37:33.428Z"
   },
   {
    "duration": 2108,
    "start_time": "2022-03-21T15:37:33.434Z"
   },
   {
    "duration": 2,
    "start_time": "2022-03-21T15:37:35.544Z"
   },
   {
    "duration": 22,
    "start_time": "2022-03-21T15:37:35.550Z"
   },
   {
    "duration": 53,
    "start_time": "2022-03-21T15:37:35.574Z"
   },
   {
    "duration": 24,
    "start_time": "2022-03-21T15:37:35.629Z"
   },
   {
    "duration": 3,
    "start_time": "2022-03-21T15:37:35.654Z"
   },
   {
    "duration": 1270,
    "start_time": "2022-03-21T15:37:35.658Z"
   },
   {
    "duration": 839,
    "start_time": "2022-03-21T15:37:36.930Z"
   },
   {
    "duration": 8,
    "start_time": "2022-03-21T15:37:37.771Z"
   },
   {
    "duration": 37,
    "start_time": "2022-03-21T15:37:37.781Z"
   },
   {
    "duration": 15,
    "start_time": "2022-03-21T15:37:37.820Z"
   },
   {
    "duration": 3,
    "start_time": "2022-03-21T15:39:33.782Z"
   },
   {
    "duration": 38,
    "start_time": "2022-03-21T15:39:33.787Z"
   },
   {
    "duration": 190,
    "start_time": "2022-03-21T15:39:33.827Z"
   },
   {
    "duration": 158,
    "start_time": "2022-03-21T15:39:34.019Z"
   },
   {
    "duration": 109,
    "start_time": "2022-03-21T15:39:34.180Z"
   },
   {
    "duration": 25,
    "start_time": "2022-03-21T15:39:34.292Z"
   },
   {
    "duration": 5,
    "start_time": "2022-03-21T15:39:34.319Z"
   },
   {
    "duration": 4,
    "start_time": "2022-03-21T15:39:34.325Z"
   },
   {
    "duration": 13,
    "start_time": "2022-03-21T15:39:34.330Z"
   },
   {
    "duration": 12,
    "start_time": "2022-03-21T15:39:34.345Z"
   },
   {
    "duration": 139,
    "start_time": "2022-03-21T15:39:34.358Z"
   },
   {
    "duration": 21,
    "start_time": "2022-03-21T15:39:34.499Z"
   },
   {
    "duration": 5,
    "start_time": "2022-03-21T15:39:34.521Z"
   },
   {
    "duration": 221,
    "start_time": "2022-03-21T15:39:34.528Z"
   },
   {
    "duration": 86,
    "start_time": "2022-03-21T15:39:34.751Z"
   },
   {
    "duration": 18,
    "start_time": "2022-03-21T15:39:34.839Z"
   },
   {
    "duration": 3,
    "start_time": "2022-03-21T15:39:34.858Z"
   },
   {
    "duration": 9,
    "start_time": "2022-03-21T15:39:34.862Z"
   },
   {
    "duration": 9,
    "start_time": "2022-03-21T15:39:34.873Z"
   },
   {
    "duration": 79,
    "start_time": "2022-03-21T15:39:34.884Z"
   },
   {
    "duration": 16,
    "start_time": "2022-03-21T15:39:34.964Z"
   },
   {
    "duration": 27,
    "start_time": "2022-03-21T15:39:34.982Z"
   },
   {
    "duration": 21,
    "start_time": "2022-03-21T15:39:35.011Z"
   },
   {
    "duration": 23,
    "start_time": "2022-03-21T15:39:35.034Z"
   },
   {
    "duration": 5,
    "start_time": "2022-03-21T15:39:35.059Z"
   },
   {
    "duration": 2153,
    "start_time": "2022-03-21T15:39:35.066Z"
   },
   {
    "duration": 2,
    "start_time": "2022-03-21T15:39:37.221Z"
   },
   {
    "duration": 27,
    "start_time": "2022-03-21T15:39:37.225Z"
   },
   {
    "duration": 29,
    "start_time": "2022-03-21T15:39:37.253Z"
   },
   {
    "duration": 44,
    "start_time": "2022-03-21T15:39:37.284Z"
   },
   {
    "duration": 3,
    "start_time": "2022-03-21T15:39:37.330Z"
   },
   {
    "duration": 808,
    "start_time": "2022-03-21T15:39:37.334Z"
   },
   {
    "duration": 917,
    "start_time": "2022-03-21T15:39:38.144Z"
   },
   {
    "duration": 8,
    "start_time": "2022-03-21T15:39:39.063Z"
   },
   {
    "duration": 39,
    "start_time": "2022-03-21T15:39:39.073Z"
   },
   {
    "duration": 17,
    "start_time": "2022-03-21T15:39:39.113Z"
   },
   {
    "duration": 68,
    "start_time": "2022-03-21T15:40:32.181Z"
   },
   {
    "duration": 121,
    "start_time": "2022-03-21T15:50:01.172Z"
   },
   {
    "duration": 131,
    "start_time": "2022-03-21T15:50:15.324Z"
   },
   {
    "duration": 3,
    "start_time": "2022-03-21T15:53:53.597Z"
   },
   {
    "duration": 9,
    "start_time": "2022-03-21T15:53:53.601Z"
   },
   {
    "duration": 50,
    "start_time": "2022-03-21T15:53:53.612Z"
   },
   {
    "duration": 169,
    "start_time": "2022-03-21T15:53:53.665Z"
   },
   {
    "duration": 144,
    "start_time": "2022-03-21T15:53:53.837Z"
   },
   {
    "duration": 101,
    "start_time": "2022-03-21T15:53:53.982Z"
   },
   {
    "duration": 1725,
    "start_time": "2022-03-21T15:53:54.085Z"
   },
   {
    "duration": 5,
    "start_time": "2022-03-21T15:53:55.812Z"
   },
   {
    "duration": 4,
    "start_time": "2022-03-21T15:53:55.819Z"
   },
   {
    "duration": 12,
    "start_time": "2022-03-21T15:53:55.825Z"
   },
   {
    "duration": 14,
    "start_time": "2022-03-21T15:53:55.839Z"
   },
   {
    "duration": 133,
    "start_time": "2022-03-21T15:53:55.854Z"
   },
   {
    "duration": 20,
    "start_time": "2022-03-21T15:53:55.989Z"
   },
   {
    "duration": 6,
    "start_time": "2022-03-21T15:53:56.012Z"
   },
   {
    "duration": 300,
    "start_time": "2022-03-21T15:53:56.020Z"
   },
   {
    "duration": 75,
    "start_time": "2022-03-21T15:53:56.322Z"
   },
   {
    "duration": 11,
    "start_time": "2022-03-21T15:53:56.408Z"
   },
   {
    "duration": 3,
    "start_time": "2022-03-21T15:55:15.694Z"
   },
   {
    "duration": 5,
    "start_time": "2022-03-21T15:55:15.699Z"
   },
   {
    "duration": 54,
    "start_time": "2022-03-21T15:55:15.705Z"
   },
   {
    "duration": 178,
    "start_time": "2022-03-21T15:55:15.760Z"
   },
   {
    "duration": 148,
    "start_time": "2022-03-21T15:55:15.940Z"
   },
   {
    "duration": 106,
    "start_time": "2022-03-21T15:55:16.090Z"
   },
   {
    "duration": 23,
    "start_time": "2022-03-21T15:55:16.198Z"
   },
   {
    "duration": 7,
    "start_time": "2022-03-21T15:55:16.223Z"
   },
   {
    "duration": 4,
    "start_time": "2022-03-21T15:55:16.232Z"
   },
   {
    "duration": 13,
    "start_time": "2022-03-21T15:55:16.237Z"
   },
   {
    "duration": 15,
    "start_time": "2022-03-21T15:55:16.252Z"
   },
   {
    "duration": 151,
    "start_time": "2022-03-21T15:55:16.269Z"
   },
   {
    "duration": 13,
    "start_time": "2022-03-21T15:55:16.422Z"
   },
   {
    "duration": 7,
    "start_time": "2022-03-21T15:55:16.438Z"
   },
   {
    "duration": 210,
    "start_time": "2022-03-21T15:55:16.447Z"
   },
   {
    "duration": 87,
    "start_time": "2022-03-21T15:55:16.659Z"
   },
   {
    "duration": 12,
    "start_time": "2022-03-21T15:55:16.747Z"
   },
   {
    "duration": 3,
    "start_time": "2022-03-21T15:55:16.761Z"
   },
   {
    "duration": 6,
    "start_time": "2022-03-21T15:55:16.765Z"
   },
   {
    "duration": 5,
    "start_time": "2022-03-21T15:55:16.772Z"
   },
   {
    "duration": 81,
    "start_time": "2022-03-21T15:55:16.778Z"
   },
   {
    "duration": 16,
    "start_time": "2022-03-21T15:55:16.861Z"
   },
   {
    "duration": 14,
    "start_time": "2022-03-21T15:55:16.879Z"
   },
   {
    "duration": 33,
    "start_time": "2022-03-21T15:55:16.895Z"
   },
   {
    "duration": 18,
    "start_time": "2022-03-21T15:55:16.930Z"
   },
   {
    "duration": 4,
    "start_time": "2022-03-21T15:55:16.950Z"
   },
   {
    "duration": 2216,
    "start_time": "2022-03-21T15:55:16.956Z"
   },
   {
    "duration": 2,
    "start_time": "2022-03-21T15:55:19.174Z"
   },
   {
    "duration": 35,
    "start_time": "2022-03-21T15:55:19.177Z"
   },
   {
    "duration": 26,
    "start_time": "2022-03-21T15:55:19.214Z"
   },
   {
    "duration": 19,
    "start_time": "2022-03-21T15:55:19.242Z"
   },
   {
    "duration": 2,
    "start_time": "2022-03-21T15:55:19.263Z"
   },
   {
    "duration": 845,
    "start_time": "2022-03-21T15:55:19.266Z"
   },
   {
    "duration": 917,
    "start_time": "2022-03-21T15:55:20.112Z"
   },
   {
    "duration": 8,
    "start_time": "2022-03-21T15:55:21.031Z"
   },
   {
    "duration": 20,
    "start_time": "2022-03-21T15:55:21.041Z"
   },
   {
    "duration": 14,
    "start_time": "2022-03-21T15:55:21.062Z"
   },
   {
    "duration": 67,
    "start_time": "2022-03-21T15:57:19.182Z"
   },
   {
    "duration": 3,
    "start_time": "2022-03-21T16:00:09.496Z"
   },
   {
    "duration": 6,
    "start_time": "2022-03-21T16:00:09.501Z"
   },
   {
    "duration": 41,
    "start_time": "2022-03-21T16:00:09.508Z"
   },
   {
    "duration": 176,
    "start_time": "2022-03-21T16:00:09.551Z"
   },
   {
    "duration": 155,
    "start_time": "2022-03-21T16:00:09.729Z"
   },
   {
    "duration": 101,
    "start_time": "2022-03-21T16:00:09.886Z"
   },
   {
    "duration": 32,
    "start_time": "2022-03-21T16:00:09.989Z"
   },
   {
    "duration": 7,
    "start_time": "2022-03-21T16:00:10.023Z"
   },
   {
    "duration": 8,
    "start_time": "2022-03-21T16:00:10.033Z"
   },
   {
    "duration": 21,
    "start_time": "2022-03-21T16:00:10.043Z"
   },
   {
    "duration": 6,
    "start_time": "2022-03-21T16:00:10.066Z"
   },
   {
    "duration": 1427,
    "start_time": "2022-03-21T16:00:10.074Z"
   },
   {
    "duration": 0,
    "start_time": "2022-03-21T16:00:11.503Z"
   },
   {
    "duration": 0,
    "start_time": "2022-03-21T16:00:11.504Z"
   },
   {
    "duration": 0,
    "start_time": "2022-03-21T16:00:11.506Z"
   },
   {
    "duration": 0,
    "start_time": "2022-03-21T16:00:11.507Z"
   },
   {
    "duration": 0,
    "start_time": "2022-03-21T16:00:11.508Z"
   },
   {
    "duration": 0,
    "start_time": "2022-03-21T16:00:11.509Z"
   },
   {
    "duration": 0,
    "start_time": "2022-03-21T16:00:11.510Z"
   },
   {
    "duration": 0,
    "start_time": "2022-03-21T16:00:11.512Z"
   },
   {
    "duration": 0,
    "start_time": "2022-03-21T16:00:11.513Z"
   },
   {
    "duration": 0,
    "start_time": "2022-03-21T16:00:11.514Z"
   },
   {
    "duration": 0,
    "start_time": "2022-03-21T16:00:11.515Z"
   },
   {
    "duration": 0,
    "start_time": "2022-03-21T16:00:11.516Z"
   },
   {
    "duration": 0,
    "start_time": "2022-03-21T16:00:11.517Z"
   },
   {
    "duration": 0,
    "start_time": "2022-03-21T16:00:11.518Z"
   },
   {
    "duration": 0,
    "start_time": "2022-03-21T16:00:11.519Z"
   },
   {
    "duration": 0,
    "start_time": "2022-03-21T16:00:11.520Z"
   },
   {
    "duration": 0,
    "start_time": "2022-03-21T16:00:11.521Z"
   },
   {
    "duration": 0,
    "start_time": "2022-03-21T16:00:11.522Z"
   },
   {
    "duration": 0,
    "start_time": "2022-03-21T16:00:11.522Z"
   },
   {
    "duration": 0,
    "start_time": "2022-03-21T16:00:11.523Z"
   },
   {
    "duration": 0,
    "start_time": "2022-03-21T16:00:11.524Z"
   },
   {
    "duration": 0,
    "start_time": "2022-03-21T16:00:11.525Z"
   },
   {
    "duration": 0,
    "start_time": "2022-03-21T16:00:11.526Z"
   },
   {
    "duration": 0,
    "start_time": "2022-03-21T16:00:11.527Z"
   },
   {
    "duration": 0,
    "start_time": "2022-03-21T16:00:11.528Z"
   },
   {
    "duration": 3,
    "start_time": "2022-03-21T16:00:29.350Z"
   },
   {
    "duration": 9,
    "start_time": "2022-03-21T16:00:29.355Z"
   },
   {
    "duration": 44,
    "start_time": "2022-03-21T16:00:29.366Z"
   },
   {
    "duration": 189,
    "start_time": "2022-03-21T16:00:29.412Z"
   },
   {
    "duration": 152,
    "start_time": "2022-03-21T16:00:29.608Z"
   },
   {
    "duration": 114,
    "start_time": "2022-03-21T16:00:29.762Z"
   },
   {
    "duration": 34,
    "start_time": "2022-03-21T16:00:29.878Z"
   },
   {
    "duration": 7,
    "start_time": "2022-03-21T16:00:29.913Z"
   },
   {
    "duration": 4,
    "start_time": "2022-03-21T16:00:29.922Z"
   },
   {
    "duration": 13,
    "start_time": "2022-03-21T16:00:29.927Z"
   },
   {
    "duration": 7,
    "start_time": "2022-03-21T16:00:29.942Z"
   },
   {
    "duration": 1369,
    "start_time": "2022-03-21T16:00:29.950Z"
   },
   {
    "duration": 0,
    "start_time": "2022-03-21T16:00:31.321Z"
   },
   {
    "duration": 0,
    "start_time": "2022-03-21T16:00:31.323Z"
   },
   {
    "duration": 0,
    "start_time": "2022-03-21T16:00:31.324Z"
   },
   {
    "duration": 0,
    "start_time": "2022-03-21T16:00:31.326Z"
   },
   {
    "duration": 0,
    "start_time": "2022-03-21T16:00:31.328Z"
   },
   {
    "duration": 0,
    "start_time": "2022-03-21T16:00:31.329Z"
   },
   {
    "duration": 0,
    "start_time": "2022-03-21T16:00:31.331Z"
   },
   {
    "duration": 0,
    "start_time": "2022-03-21T16:00:31.332Z"
   },
   {
    "duration": 0,
    "start_time": "2022-03-21T16:00:31.334Z"
   },
   {
    "duration": 0,
    "start_time": "2022-03-21T16:00:31.336Z"
   },
   {
    "duration": 0,
    "start_time": "2022-03-21T16:00:31.337Z"
   },
   {
    "duration": 0,
    "start_time": "2022-03-21T16:00:31.338Z"
   },
   {
    "duration": 0,
    "start_time": "2022-03-21T16:00:31.340Z"
   },
   {
    "duration": 0,
    "start_time": "2022-03-21T16:00:31.342Z"
   },
   {
    "duration": 0,
    "start_time": "2022-03-21T16:00:31.343Z"
   },
   {
    "duration": 0,
    "start_time": "2022-03-21T16:00:31.345Z"
   },
   {
    "duration": 0,
    "start_time": "2022-03-21T16:00:31.346Z"
   },
   {
    "duration": 0,
    "start_time": "2022-03-21T16:00:31.348Z"
   },
   {
    "duration": 0,
    "start_time": "2022-03-21T16:00:31.349Z"
   },
   {
    "duration": 0,
    "start_time": "2022-03-21T16:00:31.351Z"
   },
   {
    "duration": 0,
    "start_time": "2022-03-21T16:00:31.352Z"
   },
   {
    "duration": 0,
    "start_time": "2022-03-21T16:00:31.353Z"
   },
   {
    "duration": 0,
    "start_time": "2022-03-21T16:00:31.355Z"
   },
   {
    "duration": 0,
    "start_time": "2022-03-21T16:00:31.356Z"
   },
   {
    "duration": 0,
    "start_time": "2022-03-21T16:00:31.358Z"
   },
   {
    "duration": 3,
    "start_time": "2022-03-21T16:01:08.149Z"
   },
   {
    "duration": 7,
    "start_time": "2022-03-21T16:01:08.154Z"
   },
   {
    "duration": 33,
    "start_time": "2022-03-21T16:01:08.162Z"
   },
   {
    "duration": 168,
    "start_time": "2022-03-21T16:01:08.197Z"
   },
   {
    "duration": 153,
    "start_time": "2022-03-21T16:01:08.368Z"
   },
   {
    "duration": 129,
    "start_time": "2022-03-21T16:01:08.523Z"
   },
   {
    "duration": 24,
    "start_time": "2022-03-21T16:01:08.653Z"
   },
   {
    "duration": 6,
    "start_time": "2022-03-21T16:01:08.679Z"
   },
   {
    "duration": 22,
    "start_time": "2022-03-21T16:01:08.687Z"
   },
   {
    "duration": 24,
    "start_time": "2022-03-21T16:01:08.710Z"
   },
   {
    "duration": 6,
    "start_time": "2022-03-21T16:01:08.736Z"
   },
   {
    "duration": 121,
    "start_time": "2022-03-21T16:01:08.744Z"
   },
   {
    "duration": 16,
    "start_time": "2022-03-21T16:01:08.866Z"
   },
   {
    "duration": 1336,
    "start_time": "2022-03-21T16:01:08.885Z"
   },
   {
    "duration": 0,
    "start_time": "2022-03-21T16:01:10.223Z"
   },
   {
    "duration": 0,
    "start_time": "2022-03-21T16:01:10.225Z"
   },
   {
    "duration": 0,
    "start_time": "2022-03-21T16:01:10.226Z"
   },
   {
    "duration": 0,
    "start_time": "2022-03-21T16:01:10.227Z"
   },
   {
    "duration": 0,
    "start_time": "2022-03-21T16:01:10.228Z"
   },
   {
    "duration": 0,
    "start_time": "2022-03-21T16:01:10.229Z"
   },
   {
    "duration": 0,
    "start_time": "2022-03-21T16:01:10.230Z"
   },
   {
    "duration": 0,
    "start_time": "2022-03-21T16:01:10.231Z"
   },
   {
    "duration": 0,
    "start_time": "2022-03-21T16:01:10.231Z"
   },
   {
    "duration": 0,
    "start_time": "2022-03-21T16:01:10.232Z"
   },
   {
    "duration": 0,
    "start_time": "2022-03-21T16:01:10.233Z"
   },
   {
    "duration": 0,
    "start_time": "2022-03-21T16:01:10.234Z"
   },
   {
    "duration": 0,
    "start_time": "2022-03-21T16:01:10.235Z"
   },
   {
    "duration": 0,
    "start_time": "2022-03-21T16:01:10.236Z"
   },
   {
    "duration": 1,
    "start_time": "2022-03-21T16:01:10.237Z"
   },
   {
    "duration": 0,
    "start_time": "2022-03-21T16:01:10.238Z"
   },
   {
    "duration": 0,
    "start_time": "2022-03-21T16:01:10.239Z"
   },
   {
    "duration": 0,
    "start_time": "2022-03-21T16:01:10.240Z"
   },
   {
    "duration": 0,
    "start_time": "2022-03-21T16:01:10.241Z"
   },
   {
    "duration": 0,
    "start_time": "2022-03-21T16:01:10.242Z"
   },
   {
    "duration": 0,
    "start_time": "2022-03-21T16:01:10.243Z"
   },
   {
    "duration": 0,
    "start_time": "2022-03-21T16:01:10.245Z"
   },
   {
    "duration": 0,
    "start_time": "2022-03-21T16:01:10.246Z"
   },
   {
    "duration": 3,
    "start_time": "2022-03-21T16:01:45.117Z"
   },
   {
    "duration": 4,
    "start_time": "2022-03-21T16:01:45.123Z"
   },
   {
    "duration": 43,
    "start_time": "2022-03-21T16:01:45.129Z"
   },
   {
    "duration": 190,
    "start_time": "2022-03-21T16:01:45.175Z"
   },
   {
    "duration": 143,
    "start_time": "2022-03-21T16:01:45.367Z"
   },
   {
    "duration": 108,
    "start_time": "2022-03-21T16:01:45.511Z"
   },
   {
    "duration": 22,
    "start_time": "2022-03-21T16:01:45.620Z"
   },
   {
    "duration": 8,
    "start_time": "2022-03-21T16:01:45.644Z"
   },
   {
    "duration": 3,
    "start_time": "2022-03-21T16:01:45.654Z"
   },
   {
    "duration": 13,
    "start_time": "2022-03-21T16:01:45.659Z"
   },
   {
    "duration": 35,
    "start_time": "2022-03-21T16:01:45.674Z"
   },
   {
    "duration": 115,
    "start_time": "2022-03-21T16:01:45.711Z"
   },
   {
    "duration": 14,
    "start_time": "2022-03-21T16:01:45.829Z"
   },
   {
    "duration": 3,
    "start_time": "2022-03-21T16:01:45.845Z"
   },
   {
    "duration": 215,
    "start_time": "2022-03-21T16:01:45.850Z"
   },
   {
    "duration": 84,
    "start_time": "2022-03-21T16:01:46.067Z"
   },
   {
    "duration": 11,
    "start_time": "2022-03-21T16:01:46.153Z"
   },
   {
    "duration": 2,
    "start_time": "2022-03-21T16:01:46.165Z"
   },
   {
    "duration": 5,
    "start_time": "2022-03-21T16:01:46.169Z"
   },
   {
    "duration": 6,
    "start_time": "2022-03-21T16:01:46.176Z"
   },
   {
    "duration": 79,
    "start_time": "2022-03-21T16:01:46.183Z"
   },
   {
    "duration": 15,
    "start_time": "2022-03-21T16:01:46.264Z"
   },
   {
    "duration": 36,
    "start_time": "2022-03-21T16:01:46.281Z"
   },
   {
    "duration": 29,
    "start_time": "2022-03-21T16:01:46.318Z"
   },
   {
    "duration": 0,
    "start_time": "2022-03-21T16:01:46.348Z"
   },
   {
    "duration": 0,
    "start_time": "2022-03-21T16:01:46.349Z"
   },
   {
    "duration": 0,
    "start_time": "2022-03-21T16:01:46.350Z"
   },
   {
    "duration": 0,
    "start_time": "2022-03-21T16:01:46.351Z"
   },
   {
    "duration": 0,
    "start_time": "2022-03-21T16:01:46.352Z"
   },
   {
    "duration": 0,
    "start_time": "2022-03-21T16:01:46.353Z"
   },
   {
    "duration": 0,
    "start_time": "2022-03-21T16:01:46.354Z"
   },
   {
    "duration": 0,
    "start_time": "2022-03-21T16:01:46.355Z"
   },
   {
    "duration": 0,
    "start_time": "2022-03-21T16:01:46.356Z"
   },
   {
    "duration": 0,
    "start_time": "2022-03-21T16:01:46.357Z"
   },
   {
    "duration": 0,
    "start_time": "2022-03-21T16:01:46.358Z"
   },
   {
    "duration": 0,
    "start_time": "2022-03-21T16:01:46.359Z"
   },
   {
    "duration": 0,
    "start_time": "2022-03-21T16:01:46.360Z"
   },
   {
    "duration": 3,
    "start_time": "2022-03-21T16:02:22.312Z"
   },
   {
    "duration": 4,
    "start_time": "2022-03-21T16:02:22.318Z"
   },
   {
    "duration": 33,
    "start_time": "2022-03-21T16:02:22.324Z"
   },
   {
    "duration": 193,
    "start_time": "2022-03-21T16:02:22.359Z"
   },
   {
    "duration": 150,
    "start_time": "2022-03-21T16:02:22.554Z"
   },
   {
    "duration": 106,
    "start_time": "2022-03-21T16:02:22.709Z"
   },
   {
    "duration": 29,
    "start_time": "2022-03-21T16:02:22.817Z"
   },
   {
    "duration": 7,
    "start_time": "2022-03-21T16:02:22.847Z"
   },
   {
    "duration": 6,
    "start_time": "2022-03-21T16:02:22.857Z"
   },
   {
    "duration": 18,
    "start_time": "2022-03-21T16:02:22.864Z"
   },
   {
    "duration": 4,
    "start_time": "2022-03-21T16:02:22.909Z"
   },
   {
    "duration": 126,
    "start_time": "2022-03-21T16:02:22.915Z"
   },
   {
    "duration": 15,
    "start_time": "2022-03-21T16:02:23.042Z"
   },
   {
    "duration": 3,
    "start_time": "2022-03-21T16:02:23.061Z"
   },
   {
    "duration": 201,
    "start_time": "2022-03-21T16:02:23.066Z"
   },
   {
    "duration": 91,
    "start_time": "2022-03-21T16:02:23.268Z"
   },
   {
    "duration": 11,
    "start_time": "2022-03-21T16:02:23.362Z"
   },
   {
    "duration": 3,
    "start_time": "2022-03-21T16:02:23.375Z"
   },
   {
    "duration": 10,
    "start_time": "2022-03-21T16:02:23.380Z"
   },
   {
    "duration": 18,
    "start_time": "2022-03-21T16:02:23.392Z"
   },
   {
    "duration": 64,
    "start_time": "2022-03-21T16:02:23.412Z"
   },
   {
    "duration": 31,
    "start_time": "2022-03-21T16:02:23.478Z"
   },
   {
    "duration": 20,
    "start_time": "2022-03-21T16:02:23.511Z"
   },
   {
    "duration": 26,
    "start_time": "2022-03-21T16:02:23.533Z"
   },
   {
    "duration": 19,
    "start_time": "2022-03-21T16:02:23.561Z"
   },
   {
    "duration": 31,
    "start_time": "2022-03-21T16:02:23.582Z"
   },
   {
    "duration": 2230,
    "start_time": "2022-03-21T16:02:23.615Z"
   },
   {
    "duration": 2,
    "start_time": "2022-03-21T16:02:25.846Z"
   },
   {
    "duration": 80,
    "start_time": "2022-03-21T16:02:25.850Z"
   },
   {
    "duration": 84,
    "start_time": "2022-03-21T16:02:25.931Z"
   },
   {
    "duration": 19,
    "start_time": "2022-03-21T16:02:26.017Z"
   },
   {
    "duration": 2,
    "start_time": "2022-03-21T16:02:26.038Z"
   },
   {
    "duration": 1597,
    "start_time": "2022-03-21T16:02:26.042Z"
   },
   {
    "duration": 926,
    "start_time": "2022-03-21T16:02:27.641Z"
   },
   {
    "duration": 8,
    "start_time": "2022-03-21T16:02:28.569Z"
   },
   {
    "duration": 41,
    "start_time": "2022-03-21T16:02:28.579Z"
   },
   {
    "duration": 13,
    "start_time": "2022-03-21T16:02:28.622Z"
   },
   {
    "duration": 3,
    "start_time": "2022-03-21T16:09:34.261Z"
   },
   {
    "duration": 196,
    "start_time": "2022-03-21T16:09:45.882Z"
   },
   {
    "duration": 259,
    "start_time": "2022-03-21T16:10:28.864Z"
   },
   {
    "duration": 256,
    "start_time": "2022-03-21T16:10:31.815Z"
   },
   {
    "duration": 258,
    "start_time": "2022-03-21T16:10:34.992Z"
   },
   {
    "duration": 1084,
    "start_time": "2022-03-21T16:11:12.993Z"
   },
   {
    "duration": 415,
    "start_time": "2022-03-21T16:11:19.344Z"
   },
   {
    "duration": 14,
    "start_time": "2022-03-21T16:11:28.739Z"
   },
   {
    "duration": 823,
    "start_time": "2022-03-21T16:11:31.961Z"
   },
   {
    "duration": 5878,
    "start_time": "2022-03-21T16:11:48.625Z"
   },
   {
    "duration": 846,
    "start_time": "2022-03-21T16:12:02.672Z"
   },
   {
    "duration": 71,
    "start_time": "2022-03-21T16:12:15.541Z"
   },
   {
    "duration": 818,
    "start_time": "2022-03-21T16:12:23.505Z"
   },
   {
    "duration": 412,
    "start_time": "2022-03-21T16:12:47.993Z"
   },
   {
    "duration": 906,
    "start_time": "2022-03-21T16:12:53.714Z"
   },
   {
    "duration": 1040,
    "start_time": "2022-03-21T16:13:16.585Z"
   },
   {
    "duration": 1046,
    "start_time": "2022-03-21T16:13:25.570Z"
   },
   {
    "duration": 1102,
    "start_time": "2022-03-21T16:13:43.202Z"
   },
   {
    "duration": 514,
    "start_time": "2022-03-21T16:21:14.197Z"
   },
   {
    "duration": 656,
    "start_time": "2022-03-21T16:22:44.183Z"
   },
   {
    "duration": 13,
    "start_time": "2022-03-21T16:23:05.396Z"
   },
   {
    "duration": 18,
    "start_time": "2022-03-21T16:23:11.954Z"
   },
   {
    "duration": 251,
    "start_time": "2022-03-21T16:23:16.166Z"
   },
   {
    "duration": 3,
    "start_time": "2022-03-21T16:26:20.896Z"
   },
   {
    "duration": 5,
    "start_time": "2022-03-21T16:26:20.901Z"
   },
   {
    "duration": 33,
    "start_time": "2022-03-21T16:26:20.908Z"
   },
   {
    "duration": 184,
    "start_time": "2022-03-21T16:26:20.943Z"
   },
   {
    "duration": 160,
    "start_time": "2022-03-21T16:26:21.128Z"
   },
   {
    "duration": 110,
    "start_time": "2022-03-21T16:26:21.290Z"
   },
   {
    "duration": 22,
    "start_time": "2022-03-21T16:26:21.402Z"
   },
   {
    "duration": 5,
    "start_time": "2022-03-21T16:26:21.426Z"
   },
   {
    "duration": 3,
    "start_time": "2022-03-21T16:26:21.434Z"
   },
   {
    "duration": 12,
    "start_time": "2022-03-21T16:26:21.439Z"
   },
   {
    "duration": 6,
    "start_time": "2022-03-21T16:26:21.452Z"
   },
   {
    "duration": 140,
    "start_time": "2022-03-21T16:26:21.460Z"
   },
   {
    "duration": 18,
    "start_time": "2022-03-21T16:26:21.602Z"
   },
   {
    "duration": 2,
    "start_time": "2022-03-21T16:26:21.622Z"
   },
   {
    "duration": 208,
    "start_time": "2022-03-21T16:26:21.626Z"
   },
   {
    "duration": 86,
    "start_time": "2022-03-21T16:26:21.835Z"
   },
   {
    "duration": 11,
    "start_time": "2022-03-21T16:26:21.923Z"
   },
   {
    "duration": 285,
    "start_time": "2022-03-21T16:26:21.936Z"
   },
   {
    "duration": 15,
    "start_time": "2022-03-21T16:26:22.223Z"
   },
   {
    "duration": 272,
    "start_time": "2022-03-21T16:26:22.239Z"
   },
   {
    "duration": 274,
    "start_time": "2022-03-21T16:26:22.513Z"
   },
   {
    "duration": 667,
    "start_time": "2022-03-21T16:26:22.789Z"
   },
   {
    "duration": 66,
    "start_time": "2022-03-21T16:26:23.458Z"
   },
   {
    "duration": 18,
    "start_time": "2022-03-21T16:26:23.527Z"
   },
   {
    "duration": 17,
    "start_time": "2022-03-21T16:26:23.547Z"
   },
   {
    "duration": 20,
    "start_time": "2022-03-21T16:26:23.566Z"
   },
   {
    "duration": 19,
    "start_time": "2022-03-21T16:26:23.609Z"
   },
   {
    "duration": 5,
    "start_time": "2022-03-21T16:26:23.629Z"
   },
   {
    "duration": 2243,
    "start_time": "2022-03-21T16:26:23.636Z"
   },
   {
    "duration": 2,
    "start_time": "2022-03-21T16:26:25.881Z"
   },
   {
    "duration": 33,
    "start_time": "2022-03-21T16:26:25.885Z"
   },
   {
    "duration": 26,
    "start_time": "2022-03-21T16:26:25.920Z"
   },
   {
    "duration": 20,
    "start_time": "2022-03-21T16:26:25.948Z"
   },
   {
    "duration": 2,
    "start_time": "2022-03-21T16:26:25.970Z"
   },
   {
    "duration": 838,
    "start_time": "2022-03-21T16:26:25.974Z"
   },
   {
    "duration": 773,
    "start_time": "2022-03-21T16:26:26.813Z"
   },
   {
    "duration": 8,
    "start_time": "2022-03-21T16:26:27.587Z"
   },
   {
    "duration": 526,
    "start_time": "2022-03-21T16:26:27.609Z"
   },
   {
    "duration": 14,
    "start_time": "2022-03-21T16:26:28.137Z"
   },
   {
    "duration": 326,
    "start_time": "2022-03-21T16:31:49.547Z"
   },
   {
    "duration": 448,
    "start_time": "2022-03-21T16:32:06.558Z"
   },
   {
    "duration": 454,
    "start_time": "2022-03-21T16:32:27.626Z"
   },
   {
    "duration": 266,
    "start_time": "2022-03-21T16:33:20.504Z"
   },
   {
    "duration": 457,
    "start_time": "2022-03-21T16:34:01.058Z"
   },
   {
    "duration": 460,
    "start_time": "2022-03-21T16:34:10.904Z"
   },
   {
    "duration": 68,
    "start_time": "2022-03-21T16:35:11.181Z"
   },
   {
    "duration": 476,
    "start_time": "2022-03-21T16:35:15.894Z"
   },
   {
    "duration": 494,
    "start_time": "2022-03-21T16:37:20.059Z"
   },
   {
    "duration": 491,
    "start_time": "2022-03-21T16:37:26.411Z"
   },
   {
    "duration": 472,
    "start_time": "2022-03-21T16:38:07.718Z"
   },
   {
    "duration": 475,
    "start_time": "2022-03-21T16:39:43.128Z"
   },
   {
    "duration": 471,
    "start_time": "2022-03-21T16:39:48.166Z"
   },
   {
    "duration": 14,
    "start_time": "2022-03-21T16:40:04.553Z"
   },
   {
    "duration": 500,
    "start_time": "2022-03-21T16:40:10.088Z"
   },
   {
    "duration": 488,
    "start_time": "2022-03-21T16:40:17.386Z"
   },
   {
    "duration": 1094,
    "start_time": "2022-03-21T16:40:24.115Z"
   },
   {
    "duration": 484,
    "start_time": "2022-03-21T16:40:29.011Z"
   },
   {
    "duration": 475,
    "start_time": "2022-03-21T16:41:01.885Z"
   },
   {
    "duration": 475,
    "start_time": "2022-03-21T16:41:10.789Z"
   },
   {
    "duration": 487,
    "start_time": "2022-03-21T16:41:20.848Z"
   },
   {
    "duration": 483,
    "start_time": "2022-03-21T16:41:30.896Z"
   },
   {
    "duration": 481,
    "start_time": "2022-03-21T16:41:37.896Z"
   },
   {
    "duration": 490,
    "start_time": "2022-03-21T16:41:43.578Z"
   },
   {
    "duration": 849,
    "start_time": "2022-03-21T16:42:02.810Z"
   },
   {
    "duration": 485,
    "start_time": "2022-03-21T16:42:12.578Z"
   },
   {
    "duration": 63,
    "start_time": "2022-03-21T16:42:33.682Z"
   },
   {
    "duration": 810,
    "start_time": "2022-03-21T16:42:42.346Z"
   },
   {
    "duration": 489,
    "start_time": "2022-03-21T16:42:53.009Z"
   },
   {
    "duration": 822,
    "start_time": "2022-03-21T16:42:55.413Z"
   },
   {
    "duration": 1375,
    "start_time": "2022-03-21T16:43:03.980Z"
   },
   {
    "duration": 517,
    "start_time": "2022-03-21T16:46:40.521Z"
   },
   {
    "duration": 315,
    "start_time": "2022-03-21T16:46:46.392Z"
   },
   {
    "duration": 124,
    "start_time": "2022-03-21T16:47:09.970Z"
   },
   {
    "duration": 134,
    "start_time": "2022-03-21T16:47:25.114Z"
   },
   {
    "duration": 3,
    "start_time": "2022-03-21T16:47:57.611Z"
   },
   {
    "duration": 3,
    "start_time": "2022-03-21T16:47:58.667Z"
   },
   {
    "duration": 820,
    "start_time": "2022-03-21T16:48:00.579Z"
   },
   {
    "duration": 174,
    "start_time": "2022-03-21T16:48:29.029Z"
   },
   {
    "duration": 203,
    "start_time": "2022-03-21T16:48:40.677Z"
   },
   {
    "duration": 251,
    "start_time": "2022-03-21T16:49:04.307Z"
   },
   {
    "duration": 227,
    "start_time": "2022-03-21T16:49:15.960Z"
   },
   {
    "duration": 213,
    "start_time": "2022-03-21T16:50:12.792Z"
   },
   {
    "duration": 222,
    "start_time": "2022-03-21T16:50:54.789Z"
   },
   {
    "duration": 228,
    "start_time": "2022-03-21T16:50:59.899Z"
   },
   {
    "duration": 63,
    "start_time": "2022-03-21T16:51:09.531Z"
   },
   {
    "duration": 191,
    "start_time": "2022-03-21T16:51:12.005Z"
   },
   {
    "duration": 179,
    "start_time": "2022-03-21T16:51:24.564Z"
   },
   {
    "duration": 176,
    "start_time": "2022-03-21T16:51:29.481Z"
   },
   {
    "duration": 175,
    "start_time": "2022-03-21T16:51:33.338Z"
   },
   {
    "duration": 182,
    "start_time": "2022-03-21T16:53:01.197Z"
   },
   {
    "duration": 188,
    "start_time": "2022-03-21T16:53:05.127Z"
   },
   {
    "duration": 186,
    "start_time": "2022-03-21T16:53:14.760Z"
   },
   {
    "duration": 10,
    "start_time": "2022-03-21T16:58:59.474Z"
   },
   {
    "duration": 13,
    "start_time": "2022-03-21T16:59:23.467Z"
   },
   {
    "duration": 16,
    "start_time": "2022-03-21T17:01:05.156Z"
   },
   {
    "duration": 13,
    "start_time": "2022-03-21T17:01:14.447Z"
   },
   {
    "duration": 185,
    "start_time": "2022-03-21T17:01:58.849Z"
   },
   {
    "duration": 150,
    "start_time": "2022-03-21T17:02:47.689Z"
   },
   {
    "duration": 227,
    "start_time": "2022-03-21T17:02:57.554Z"
   },
   {
    "duration": 228,
    "start_time": "2022-03-21T17:03:08.165Z"
   },
   {
    "duration": 227,
    "start_time": "2022-03-21T17:03:13.137Z"
   },
   {
    "duration": 244,
    "start_time": "2022-03-21T17:03:29.969Z"
   },
   {
    "duration": 269,
    "start_time": "2022-03-21T17:09:31.675Z"
   },
   {
    "duration": 246,
    "start_time": "2022-03-21T17:10:09.925Z"
   },
   {
    "duration": 252,
    "start_time": "2022-03-21T17:10:25.733Z"
   },
   {
    "duration": 236,
    "start_time": "2022-03-21T17:10:31.845Z"
   },
   {
    "duration": 259,
    "start_time": "2022-03-21T17:10:35.925Z"
   },
   {
    "duration": 250,
    "start_time": "2022-03-21T17:10:51.389Z"
   },
   {
    "duration": 251,
    "start_time": "2022-03-21T17:10:57.049Z"
   },
   {
    "duration": 60,
    "start_time": "2022-03-21T17:13:27.133Z"
   },
   {
    "duration": 242,
    "start_time": "2022-03-21T17:15:21.968Z"
   },
   {
    "duration": 846,
    "start_time": "2022-03-21T17:19:25.065Z"
   },
   {
    "duration": 63,
    "start_time": "2022-03-21T17:20:17.604Z"
   },
   {
    "duration": 69,
    "start_time": "2022-03-21T17:20:24.682Z"
   },
   {
    "duration": 829,
    "start_time": "2022-03-21T17:20:34.868Z"
   },
   {
    "duration": 493,
    "start_time": "2022-03-21T17:20:41.054Z"
   },
   {
    "duration": 10,
    "start_time": "2022-03-21T17:20:49.893Z"
   },
   {
    "duration": 500,
    "start_time": "2022-03-21T17:21:15.919Z"
   },
   {
    "duration": 1619,
    "start_time": "2022-03-21T17:21:40.909Z"
   },
   {
    "duration": 349,
    "start_time": "2022-03-21T17:22:18.836Z"
   },
   {
    "duration": 375,
    "start_time": "2022-03-21T17:22:27.717Z"
   },
   {
    "duration": 343,
    "start_time": "2022-03-21T17:22:36.351Z"
   },
   {
    "duration": 336,
    "start_time": "2022-03-21T17:23:01.175Z"
   },
   {
    "duration": 332,
    "start_time": "2022-03-21T17:23:07.781Z"
   },
   {
    "duration": 328,
    "start_time": "2022-03-21T17:23:13.784Z"
   },
   {
    "duration": 370,
    "start_time": "2022-03-21T17:23:27.009Z"
   },
   {
    "duration": 187,
    "start_time": "2022-03-21T17:23:58.435Z"
   },
   {
    "duration": 350,
    "start_time": "2022-03-21T17:24:02.376Z"
   },
   {
    "duration": 318,
    "start_time": "2022-03-21T17:24:12.181Z"
   },
   {
    "duration": 353,
    "start_time": "2022-03-21T17:24:17.315Z"
   },
   {
    "duration": 3,
    "start_time": "2022-03-21T17:28:37.130Z"
   },
   {
    "duration": 4,
    "start_time": "2022-03-21T17:28:37.135Z"
   },
   {
    "duration": 41,
    "start_time": "2022-03-21T17:28:37.141Z"
   },
   {
    "duration": 193,
    "start_time": "2022-03-21T17:28:37.184Z"
   },
   {
    "duration": 153,
    "start_time": "2022-03-21T17:28:37.379Z"
   },
   {
    "duration": 107,
    "start_time": "2022-03-21T17:28:37.534Z"
   },
   {
    "duration": 21,
    "start_time": "2022-03-21T17:28:37.643Z"
   },
   {
    "duration": 6,
    "start_time": "2022-03-21T17:28:37.666Z"
   },
   {
    "duration": 18,
    "start_time": "2022-03-21T17:28:37.673Z"
   },
   {
    "duration": 16,
    "start_time": "2022-03-21T17:28:37.693Z"
   },
   {
    "duration": 5,
    "start_time": "2022-03-21T17:28:37.710Z"
   },
   {
    "duration": 123,
    "start_time": "2022-03-21T17:28:37.716Z"
   },
   {
    "duration": 13,
    "start_time": "2022-03-21T17:28:37.840Z"
   },
   {
    "duration": 3,
    "start_time": "2022-03-21T17:28:37.856Z"
   },
   {
    "duration": 195,
    "start_time": "2022-03-21T17:28:37.860Z"
   },
   {
    "duration": 85,
    "start_time": "2022-03-21T17:28:38.056Z"
   },
   {
    "duration": 10,
    "start_time": "2022-03-21T17:28:38.143Z"
   },
   {
    "duration": 276,
    "start_time": "2022-03-21T17:28:38.155Z"
   },
   {
    "duration": 16,
    "start_time": "2022-03-21T17:28:38.432Z"
   },
   {
    "duration": 314,
    "start_time": "2022-03-21T17:28:38.449Z"
   },
   {
    "duration": 280,
    "start_time": "2022-03-21T17:28:38.765Z"
   },
   {
    "duration": 682,
    "start_time": "2022-03-21T17:28:39.046Z"
   },
   {
    "duration": 55,
    "start_time": "2022-03-21T17:28:39.730Z"
   },
   {
    "duration": 29,
    "start_time": "2022-03-21T17:28:39.787Z"
   },
   {
    "duration": 15,
    "start_time": "2022-03-21T17:28:39.818Z"
   },
   {
    "duration": 20,
    "start_time": "2022-03-21T17:28:39.834Z"
   },
   {
    "duration": 16,
    "start_time": "2022-03-21T17:28:39.856Z"
   },
   {
    "duration": 5,
    "start_time": "2022-03-21T17:28:39.873Z"
   },
   {
    "duration": 2186,
    "start_time": "2022-03-21T17:28:39.880Z"
   },
   {
    "duration": 2,
    "start_time": "2022-03-21T17:28:42.068Z"
   },
   {
    "duration": 24,
    "start_time": "2022-03-21T17:28:42.071Z"
   },
   {
    "duration": 28,
    "start_time": "2022-03-21T17:28:42.109Z"
   },
   {
    "duration": 21,
    "start_time": "2022-03-21T17:28:42.139Z"
   },
   {
    "duration": 1,
    "start_time": "2022-03-21T17:28:42.162Z"
   },
   {
    "duration": 8,
    "start_time": "2022-03-21T17:28:42.165Z"
   },
   {
    "duration": 6,
    "start_time": "2022-03-21T17:28:42.174Z"
   },
   {
    "duration": 833,
    "start_time": "2022-03-21T17:28:42.182Z"
   },
   {
    "duration": 826,
    "start_time": "2022-03-21T17:28:43.017Z"
   },
   {
    "duration": 349,
    "start_time": "2022-03-21T17:28:43.845Z"
   },
   {
    "duration": 517,
    "start_time": "2022-03-21T17:28:44.196Z"
   },
   {
    "duration": 8,
    "start_time": "2022-03-21T17:28:44.717Z"
   },
   {
    "duration": 22,
    "start_time": "2022-03-21T17:28:44.726Z"
   },
   {
    "duration": 15,
    "start_time": "2022-03-21T17:28:44.750Z"
   },
   {
    "duration": 274,
    "start_time": "2022-03-21T17:28:44.767Z"
   },
   {
    "duration": 248,
    "start_time": "2022-03-21T17:28:45.042Z"
   },
   {
    "duration": 255,
    "start_time": "2022-03-21T17:28:45.292Z"
   },
   {
    "duration": 241,
    "start_time": "2022-03-21T17:29:25.673Z"
   },
   {
    "duration": 3,
    "start_time": "2022-03-21T17:31:14.281Z"
   },
   {
    "duration": 8,
    "start_time": "2022-03-21T17:31:14.285Z"
   },
   {
    "duration": 46,
    "start_time": "2022-03-21T17:31:14.294Z"
   },
   {
    "duration": 179,
    "start_time": "2022-03-21T17:31:14.342Z"
   },
   {
    "duration": 161,
    "start_time": "2022-03-21T17:31:14.524Z"
   },
   {
    "duration": 119,
    "start_time": "2022-03-21T17:31:14.687Z"
   },
   {
    "duration": 25,
    "start_time": "2022-03-21T17:31:14.807Z"
   },
   {
    "duration": 6,
    "start_time": "2022-03-21T17:31:14.833Z"
   },
   {
    "duration": 10,
    "start_time": "2022-03-21T17:31:14.841Z"
   },
   {
    "duration": 18,
    "start_time": "2022-03-21T17:31:14.852Z"
   },
   {
    "duration": 11,
    "start_time": "2022-03-21T17:31:14.872Z"
   },
   {
    "duration": 124,
    "start_time": "2022-03-21T17:31:14.884Z"
   },
   {
    "duration": 14,
    "start_time": "2022-03-21T17:31:15.010Z"
   },
   {
    "duration": 2,
    "start_time": "2022-03-21T17:31:15.028Z"
   },
   {
    "duration": 200,
    "start_time": "2022-03-21T17:31:15.031Z"
   },
   {
    "duration": 86,
    "start_time": "2022-03-21T17:31:15.233Z"
   },
   {
    "duration": 12,
    "start_time": "2022-03-21T17:31:15.321Z"
   },
   {
    "duration": 293,
    "start_time": "2022-03-21T17:31:15.334Z"
   },
   {
    "duration": 13,
    "start_time": "2022-03-21T17:31:15.629Z"
   },
   {
    "duration": 279,
    "start_time": "2022-03-21T17:31:15.644Z"
   },
   {
    "duration": 268,
    "start_time": "2022-03-21T17:31:15.925Z"
   },
   {
    "duration": 700,
    "start_time": "2022-03-21T17:31:16.194Z"
   },
   {
    "duration": 65,
    "start_time": "2022-03-21T17:31:16.895Z"
   },
   {
    "duration": 18,
    "start_time": "2022-03-21T17:31:16.962Z"
   },
   {
    "duration": 33,
    "start_time": "2022-03-21T17:31:16.982Z"
   },
   {
    "duration": 21,
    "start_time": "2022-03-21T17:31:17.016Z"
   },
   {
    "duration": 17,
    "start_time": "2022-03-21T17:31:17.038Z"
   },
   {
    "duration": 6,
    "start_time": "2022-03-21T17:31:17.057Z"
   },
   {
    "duration": 2250,
    "start_time": "2022-03-21T17:31:17.064Z"
   },
   {
    "duration": 2,
    "start_time": "2022-03-21T17:31:19.316Z"
   },
   {
    "duration": 27,
    "start_time": "2022-03-21T17:31:19.320Z"
   },
   {
    "duration": 30,
    "start_time": "2022-03-21T17:31:19.349Z"
   },
   {
    "duration": 45,
    "start_time": "2022-03-21T17:31:19.381Z"
   },
   {
    "duration": 2,
    "start_time": "2022-03-21T17:31:19.428Z"
   },
   {
    "duration": 14,
    "start_time": "2022-03-21T17:31:19.432Z"
   },
   {
    "duration": 7,
    "start_time": "2022-03-21T17:31:19.448Z"
   },
   {
    "duration": 838,
    "start_time": "2022-03-21T17:31:19.457Z"
   },
   {
    "duration": 1814,
    "start_time": "2022-03-21T17:31:20.297Z"
   },
   {
    "duration": 357,
    "start_time": "2022-03-21T17:31:22.113Z"
   },
   {
    "duration": 514,
    "start_time": "2022-03-21T17:31:22.472Z"
   },
   {
    "duration": 6,
    "start_time": "2022-03-21T17:31:22.990Z"
   },
   {
    "duration": 29,
    "start_time": "2022-03-21T17:31:22.998Z"
   },
   {
    "duration": 14,
    "start_time": "2022-03-21T17:31:23.029Z"
   },
   {
    "duration": 251,
    "start_time": "2022-03-21T17:31:23.045Z"
   },
   {
    "duration": 259,
    "start_time": "2022-03-21T17:31:23.297Z"
   },
   {
    "duration": 268,
    "start_time": "2022-03-21T17:31:23.558Z"
   },
   {
    "duration": 783,
    "start_time": "2022-03-22T17:01:41.374Z"
   },
   {
    "duration": 3,
    "start_time": "2022-03-22T17:01:42.160Z"
   },
   {
    "duration": 53,
    "start_time": "2022-03-22T17:01:42.164Z"
   },
   {
    "duration": 178,
    "start_time": "2022-03-22T17:01:42.218Z"
   },
   {
    "duration": 154,
    "start_time": "2022-03-22T17:01:42.397Z"
   },
   {
    "duration": 108,
    "start_time": "2022-03-22T17:01:42.552Z"
   },
   {
    "duration": 21,
    "start_time": "2022-03-22T17:01:42.662Z"
   },
   {
    "duration": 6,
    "start_time": "2022-03-22T17:01:42.685Z"
   },
   {
    "duration": 5,
    "start_time": "2022-03-22T17:01:42.692Z"
   },
   {
    "duration": 33,
    "start_time": "2022-03-22T17:01:42.700Z"
   },
   {
    "duration": 9,
    "start_time": "2022-03-22T17:01:42.735Z"
   },
   {
    "duration": 133,
    "start_time": "2022-03-22T17:01:42.745Z"
   },
   {
    "duration": 20,
    "start_time": "2022-03-22T17:01:42.880Z"
   },
   {
    "duration": 2,
    "start_time": "2022-03-22T17:01:42.902Z"
   },
   {
    "duration": 246,
    "start_time": "2022-03-22T17:01:42.905Z"
   },
   {
    "duration": 91,
    "start_time": "2022-03-22T17:01:43.153Z"
   },
   {
    "duration": 14,
    "start_time": "2022-03-22T17:01:43.246Z"
   },
   {
    "duration": 568,
    "start_time": "2022-03-22T17:01:43.262Z"
   },
   {
    "duration": 16,
    "start_time": "2022-03-22T17:01:43.833Z"
   },
   {
    "duration": 233,
    "start_time": "2022-03-22T17:01:43.851Z"
   },
   {
    "duration": 241,
    "start_time": "2022-03-22T17:01:44.085Z"
   },
   {
    "duration": 764,
    "start_time": "2022-03-22T17:01:44.327Z"
   },
   {
    "duration": 70,
    "start_time": "2022-03-22T17:01:45.093Z"
   },
   {
    "duration": 17,
    "start_time": "2022-03-22T17:01:45.165Z"
   },
   {
    "duration": 16,
    "start_time": "2022-03-22T17:01:45.183Z"
   },
   {
    "duration": 44,
    "start_time": "2022-03-22T17:01:45.200Z"
   },
   {
    "duration": 17,
    "start_time": "2022-03-22T17:01:45.247Z"
   },
   {
    "duration": 5,
    "start_time": "2022-03-22T17:01:45.268Z"
   },
   {
    "duration": 2125,
    "start_time": "2022-03-22T17:01:45.274Z"
   },
   {
    "duration": 2,
    "start_time": "2022-03-22T17:01:47.401Z"
   },
   {
    "duration": 38,
    "start_time": "2022-03-22T17:01:47.405Z"
   },
   {
    "duration": 27,
    "start_time": "2022-03-22T17:01:47.445Z"
   },
   {
    "duration": 23,
    "start_time": "2022-03-22T17:01:47.474Z"
   },
   {
    "duration": 2,
    "start_time": "2022-03-22T17:01:47.499Z"
   },
   {
    "duration": 35,
    "start_time": "2022-03-22T17:01:47.503Z"
   },
   {
    "duration": 5,
    "start_time": "2022-03-22T17:01:47.540Z"
   },
   {
    "duration": 755,
    "start_time": "2022-03-22T17:01:47.546Z"
   },
   {
    "duration": 942,
    "start_time": "2022-03-22T17:01:48.302Z"
   },
   {
    "duration": 360,
    "start_time": "2022-03-22T17:01:49.245Z"
   },
   {
    "duration": 462,
    "start_time": "2022-03-22T17:01:49.607Z"
   },
   {
    "duration": 9,
    "start_time": "2022-03-22T17:01:50.071Z"
   },
   {
    "duration": 27,
    "start_time": "2022-03-22T17:01:50.082Z"
   },
   {
    "duration": 30,
    "start_time": "2022-03-22T17:01:50.111Z"
   },
   {
    "duration": 235,
    "start_time": "2022-03-22T17:01:50.143Z"
   },
   {
    "duration": 243,
    "start_time": "2022-03-22T17:01:50.380Z"
   },
   {
    "duration": 237,
    "start_time": "2022-03-22T17:01:50.625Z"
   },
   {
    "duration": 4,
    "start_time": "2022-03-22T17:04:47.668Z"
   },
   {
    "duration": 89,
    "start_time": "2022-03-22T17:04:57.079Z"
   },
   {
    "duration": 4,
    "start_time": "2022-03-22T17:06:54.385Z"
   },
   {
    "duration": 865,
    "start_time": "2022-03-22T17:07:02.398Z"
   },
   {
    "duration": 2,
    "start_time": "2022-03-22T17:07:03.266Z"
   },
   {
    "duration": 62,
    "start_time": "2022-03-22T17:07:03.270Z"
   },
   {
    "duration": 178,
    "start_time": "2022-03-22T17:07:03.334Z"
   },
   {
    "duration": 156,
    "start_time": "2022-03-22T17:07:03.514Z"
   },
   {
    "duration": 119,
    "start_time": "2022-03-22T17:07:03.672Z"
   },
   {
    "duration": 27,
    "start_time": "2022-03-22T17:07:03.793Z"
   },
   {
    "duration": 7,
    "start_time": "2022-03-22T17:07:03.832Z"
   },
   {
    "duration": 5,
    "start_time": "2022-03-22T17:07:03.841Z"
   },
   {
    "duration": 17,
    "start_time": "2022-03-22T17:07:03.848Z"
   },
   {
    "duration": 11,
    "start_time": "2022-03-22T17:07:03.867Z"
   },
   {
    "duration": 7,
    "start_time": "2022-03-22T17:07:03.880Z"
   },
   {
    "duration": 134,
    "start_time": "2022-03-22T17:07:03.888Z"
   },
   {
    "duration": 25,
    "start_time": "2022-03-22T17:07:04.024Z"
   },
   {
    "duration": 2,
    "start_time": "2022-03-22T17:07:04.051Z"
   },
   {
    "duration": 238,
    "start_time": "2022-03-22T17:07:04.054Z"
   },
   {
    "duration": 98,
    "start_time": "2022-03-22T17:07:04.294Z"
   },
   {
    "duration": 18,
    "start_time": "2022-03-22T17:07:04.394Z"
   },
   {
    "duration": 612,
    "start_time": "2022-03-22T17:07:04.414Z"
   },
   {
    "duration": 21,
    "start_time": "2022-03-22T17:07:05.028Z"
   },
   {
    "duration": 409,
    "start_time": "2022-03-22T17:07:05.052Z"
   },
   {
    "duration": 514,
    "start_time": "2022-03-22T17:07:05.463Z"
   },
   {
    "duration": 1192,
    "start_time": "2022-03-22T17:07:05.979Z"
   },
   {
    "duration": 72,
    "start_time": "2022-03-22T17:07:07.173Z"
   },
   {
    "duration": 18,
    "start_time": "2022-03-22T17:07:07.247Z"
   },
   {
    "duration": 19,
    "start_time": "2022-03-22T17:07:07.266Z"
   },
   {
    "duration": 20,
    "start_time": "2022-03-22T17:07:07.287Z"
   },
   {
    "duration": 37,
    "start_time": "2022-03-22T17:07:07.309Z"
   },
   {
    "duration": 5,
    "start_time": "2022-03-22T17:07:07.348Z"
   },
   {
    "duration": 2126,
    "start_time": "2022-03-22T17:07:07.354Z"
   },
   {
    "duration": 2,
    "start_time": "2022-03-22T17:07:09.482Z"
   },
   {
    "duration": 26,
    "start_time": "2022-03-22T17:07:09.486Z"
   },
   {
    "duration": 29,
    "start_time": "2022-03-22T17:07:09.532Z"
   },
   {
    "duration": 22,
    "start_time": "2022-03-22T17:07:09.563Z"
   },
   {
    "duration": 2,
    "start_time": "2022-03-22T17:07:09.587Z"
   },
   {
    "duration": 8,
    "start_time": "2022-03-22T17:07:09.591Z"
   },
   {
    "duration": 7,
    "start_time": "2022-03-22T17:07:09.600Z"
   },
   {
    "duration": 754,
    "start_time": "2022-03-22T17:07:09.609Z"
   },
   {
    "duration": 853,
    "start_time": "2022-03-22T17:07:10.365Z"
   },
   {
    "duration": 315,
    "start_time": "2022-03-22T17:07:11.219Z"
   },
   {
    "duration": 469,
    "start_time": "2022-03-22T17:07:11.538Z"
   },
   {
    "duration": 8,
    "start_time": "2022-03-22T17:07:12.008Z"
   },
   {
    "duration": 36,
    "start_time": "2022-03-22T17:07:12.018Z"
   },
   {
    "duration": 15,
    "start_time": "2022-03-22T17:07:12.056Z"
   },
   {
    "duration": 225,
    "start_time": "2022-03-22T17:07:12.073Z"
   },
   {
    "duration": 227,
    "start_time": "2022-03-22T17:07:12.300Z"
   },
   {
    "duration": 241,
    "start_time": "2022-03-22T17:07:12.533Z"
   },
   {
    "duration": 838,
    "start_time": "2022-03-22T17:07:30.610Z"
   },
   {
    "duration": 3,
    "start_time": "2022-03-22T17:07:31.450Z"
   },
   {
    "duration": 58,
    "start_time": "2022-03-22T17:07:31.454Z"
   },
   {
    "duration": 186,
    "start_time": "2022-03-22T17:07:31.513Z"
   },
   {
    "duration": 161,
    "start_time": "2022-03-22T17:07:31.700Z"
   },
   {
    "duration": 107,
    "start_time": "2022-03-22T17:07:31.863Z"
   },
   {
    "duration": 21,
    "start_time": "2022-03-22T17:07:31.972Z"
   },
   {
    "duration": 7,
    "start_time": "2022-03-22T17:07:31.995Z"
   },
   {
    "duration": 6,
    "start_time": "2022-03-22T17:07:32.004Z"
   },
   {
    "duration": 11,
    "start_time": "2022-03-22T17:07:32.032Z"
   },
   {
    "duration": 8,
    "start_time": "2022-03-22T17:07:32.045Z"
   },
   {
    "duration": 10,
    "start_time": "2022-03-22T17:07:32.055Z"
   },
   {
    "duration": 9,
    "start_time": "2022-03-22T17:07:32.066Z"
   },
   {
    "duration": 140,
    "start_time": "2022-03-22T17:07:32.077Z"
   },
   {
    "duration": 23,
    "start_time": "2022-03-22T17:07:32.219Z"
   },
   {
    "duration": 2,
    "start_time": "2022-03-22T17:07:32.244Z"
   },
   {
    "duration": 265,
    "start_time": "2022-03-22T17:07:32.248Z"
   },
   {
    "duration": 115,
    "start_time": "2022-03-22T17:07:32.514Z"
   },
   {
    "duration": 20,
    "start_time": "2022-03-22T17:07:32.631Z"
   },
   {
    "duration": 634,
    "start_time": "2022-03-22T17:07:32.653Z"
   },
   {
    "duration": 18,
    "start_time": "2022-03-22T17:07:33.289Z"
   },
   {
    "duration": 363,
    "start_time": "2022-03-22T17:07:33.309Z"
   },
   {
    "duration": 493,
    "start_time": "2022-03-22T17:07:33.674Z"
   },
   {
    "duration": 1209,
    "start_time": "2022-03-22T17:07:34.168Z"
   },
   {
    "duration": 69,
    "start_time": "2022-03-22T17:07:35.379Z"
   },
   {
    "duration": 18,
    "start_time": "2022-03-22T17:07:35.450Z"
   },
   {
    "duration": 16,
    "start_time": "2022-03-22T17:07:35.470Z"
   },
   {
    "duration": 46,
    "start_time": "2022-03-22T17:07:35.490Z"
   },
   {
    "duration": 18,
    "start_time": "2022-03-22T17:07:35.537Z"
   },
   {
    "duration": 6,
    "start_time": "2022-03-22T17:07:35.556Z"
   },
   {
    "duration": 2089,
    "start_time": "2022-03-22T17:07:35.564Z"
   },
   {
    "duration": 2,
    "start_time": "2022-03-22T17:07:37.655Z"
   },
   {
    "duration": 29,
    "start_time": "2022-03-22T17:07:37.658Z"
   },
   {
    "duration": 45,
    "start_time": "2022-03-22T17:07:37.689Z"
   },
   {
    "duration": 21,
    "start_time": "2022-03-22T17:07:37.735Z"
   },
   {
    "duration": 2,
    "start_time": "2022-03-22T17:07:37.757Z"
   },
   {
    "duration": 8,
    "start_time": "2022-03-22T17:07:37.761Z"
   },
   {
    "duration": 5,
    "start_time": "2022-03-22T17:07:37.770Z"
   },
   {
    "duration": 739,
    "start_time": "2022-03-22T17:07:37.776Z"
   },
   {
    "duration": 844,
    "start_time": "2022-03-22T17:07:38.517Z"
   },
   {
    "duration": 321,
    "start_time": "2022-03-22T17:07:39.363Z"
   },
   {
    "duration": 449,
    "start_time": "2022-03-22T17:07:39.686Z"
   },
   {
    "duration": 7,
    "start_time": "2022-03-22T17:07:40.138Z"
   },
   {
    "duration": 25,
    "start_time": "2022-03-22T17:07:40.147Z"
   },
   {
    "duration": 15,
    "start_time": "2022-03-22T17:07:40.174Z"
   },
   {
    "duration": 238,
    "start_time": "2022-03-22T17:07:40.190Z"
   },
   {
    "duration": 220,
    "start_time": "2022-03-22T17:07:40.432Z"
   },
   {
    "duration": 227,
    "start_time": "2022-03-22T17:07:40.654Z"
   },
   {
    "duration": 11,
    "start_time": "2022-03-22T17:08:32.263Z"
   },
   {
    "duration": 11,
    "start_time": "2022-03-22T17:10:14.973Z"
   },
   {
    "duration": 11,
    "start_time": "2022-03-22T17:10:36.177Z"
   },
   {
    "duration": 287,
    "start_time": "2022-03-22T17:18:41.838Z"
   },
   {
    "duration": 0,
    "start_time": "2022-03-22T17:19:35.063Z"
   },
   {
    "duration": 3617,
    "start_time": "2022-03-22T17:19:38.874Z"
   },
   {
    "duration": 13,
    "start_time": "2022-03-22T17:20:11.675Z"
   },
   {
    "duration": 15,
    "start_time": "2022-03-22T17:20:57.503Z"
   },
   {
    "duration": 18,
    "start_time": "2022-03-22T17:22:16.469Z"
   },
   {
    "duration": 18,
    "start_time": "2022-03-22T17:25:03.664Z"
   }
  ],
  "colab": {
   "collapsed_sections": [],
   "name": "Project4.ipynb",
   "provenance": [],
   "toc_visible": true
  },
  "kernelspec": {
   "display_name": "Python 3 (ipykernel)",
   "language": "python",
   "name": "python3"
  },
  "language_info": {
   "codemirror_mode": {
    "name": "ipython",
    "version": 3
   },
   "file_extension": ".py",
   "mimetype": "text/x-python",
   "name": "python",
   "nbconvert_exporter": "python",
   "pygments_lexer": "ipython3",
   "version": "3.10.6"
  },
  "toc": {
   "base_numbering": 1,
   "nav_menu": {},
   "number_sections": false,
   "sideBar": true,
   "skip_h1_title": false,
   "title_cell": "Table of Contents",
   "title_sidebar": "Contents",
   "toc_cell": false,
   "toc_position": {
    "height": "calc(100% - 180px)",
    "left": "10px",
    "top": "150px",
    "width": "309.188px"
   },
   "toc_section_display": true,
   "toc_window_display": true
  }
 },
 "nbformat": 4,
 "nbformat_minor": 4
}
