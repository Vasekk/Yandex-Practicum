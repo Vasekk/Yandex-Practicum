{
 "cells": [
  {
   "cell_type": "markdown",
   "metadata": {
    "id": "LQeSqvvortME"
   },
   "source": [
    "# Обнаружение токсичных комментариев"
   ]
  },
  {
   "cell_type": "markdown",
   "metadata": {
    "id": "xfoe94c1rtME"
   },
   "source": [
    "Интернет-магазин «Викишоп» запускает новый сервис. Теперь пользователи могут редактировать и дополнять описания товаров, как в вики-сообществах. То есть клиенты предлагают свои правки и комментируют изменения других. Магазину нужен инструмент, который будет искать токсичные комментарии и отправлять их на модерацию. \n",
    "\n",
    "Необходимо обучить модель классифицировать комментарии на позитивные и негативные. В распоряжении набор данных с разметкой о токсичности правок.\n",
    "\n",
    "Построить модель со значением метрики качества *F1* не меньше 0.75. \n",
    "\n",
    "План: \n",
    "\n",
    "1. Загрузите и подготовьте данные.\n",
    "2. Обучите разные модели. \n",
    "3. Сделайте выводы.\n",
    "\n",
    "**Описание данных**\n",
    "\n",
    "Данные находятся в файле `toxic_comments.csv`. Столбец *text* в нём содержит текст комментария на английском языке, а *toxic* — целевой признак."
   ]
  },
  {
   "cell_type": "code",
   "execution_count": 1,
   "metadata": {
    "colab": {
     "base_uri": "https://localhost:8080/"
    },
    "id": "ctNx6m8Hzq-4",
    "outputId": "c507a481-7cff-48ce-8828-0f7fb732c3b3"
   },
   "outputs": [],
   "source": [
    "#!pip install pattern"
   ]
  },
  {
   "cell_type": "code",
   "execution_count": 2,
   "metadata": {
    "colab": {
     "base_uri": "https://localhost:8080/"
    },
    "id": "XIg8cVc_rtMF",
    "outputId": "a463ca63-6bd7-4080-f09b-c53910ad3264"
   },
   "outputs": [
    {
     "name": "stderr",
     "output_type": "stream",
     "text": [
      "[nltk_data] Downloading package wordnet to\n",
      "[nltk_data]     C:\\Users\\Vasekk\\AppData\\Roaming\\nltk_data...\n",
      "[nltk_data]   Package wordnet is already up-to-date!\n",
      "[nltk_data] Downloading package stopwords to\n",
      "[nltk_data]     C:\\Users\\Vasekk\\AppData\\Roaming\\nltk_data...\n",
      "[nltk_data]   Package stopwords is already up-to-date!\n",
      "[nltk_data] Downloading package averaged_perceptron_tagger to\n",
      "[nltk_data]     C:\\Users\\Vasekk\\AppData\\Roaming\\nltk_data...\n",
      "[nltk_data]   Package averaged_perceptron_tagger is already up-to-\n",
      "[nltk_data]       date!\n"
     ]
    }
   ],
   "source": [
    "from pattern.en import lemma\n",
    "\n",
    "import pandas as pd\n",
    "import re\n",
    "\n",
    "from sklearn.feature_extraction.text import TfidfVectorizer\n",
    "from nltk.corpus import stopwords \n",
    "from sklearn.model_selection  import cross_val_score,train_test_split\n",
    "from sklearn.linear_model import LogisticRegression\n",
    "from sklearn.ensemble import RandomForestClassifier\n",
    "from sklearn.tree import DecisionTreeClassifier\n",
    "from sklearn.metrics import f1_score\n",
    "from sklearn.pipeline import Pipeline\n",
    "\n",
    "import nltk\n",
    "from nltk.stem import WordNetLemmatizer\n",
    "from nltk.corpus import wordnet\n",
    "nltk.download('wordnet')\n",
    "nltk.download('stopwords')\n",
    "nltk.download('averaged_perceptron_tagger')\n",
    "\n",
    "import warnings\n",
    "warnings.filterwarnings(\"ignore\")"
   ]
  },
  {
   "cell_type": "markdown",
   "metadata": {
    "id": "5HHJFhTdrtMG"
   },
   "source": [
    "## Подготовка\n",
    "План \n",
    "1. загрузка данных, просмотр\n",
    "2. лемматизация\n",
    "3. очистка от лишних символов \n",
    "4. очистка от стопслов\n",
    "5. разделение на обучающую и тестовую выборки\n",
    "6. расчет tf-idf\n",
    "7. подготовка признаков"
   ]
  },
  {
   "cell_type": "code",
   "execution_count": 3,
   "metadata": {
    "colab": {
     "base_uri": "https://localhost:8080/",
     "height": 424
    },
    "id": "3_USP7NPrtMG",
    "outputId": "ca27d1dd-c246-44c6-c3b3-a5d245560f64"
   },
   "outputs": [
    {
     "data": {
      "text/html": [
       "<div>\n",
       "<style scoped>\n",
       "    .dataframe tbody tr th:only-of-type {\n",
       "        vertical-align: middle;\n",
       "    }\n",
       "\n",
       "    .dataframe tbody tr th {\n",
       "        vertical-align: top;\n",
       "    }\n",
       "\n",
       "    .dataframe thead th {\n",
       "        text-align: right;\n",
       "    }\n",
       "</style>\n",
       "<table border=\"1\" class=\"dataframe\">\n",
       "  <thead>\n",
       "    <tr style=\"text-align: right;\">\n",
       "      <th></th>\n",
       "      <th>Unnamed: 0</th>\n",
       "      <th>text</th>\n",
       "      <th>toxic</th>\n",
       "    </tr>\n",
       "  </thead>\n",
       "  <tbody>\n",
       "    <tr>\n",
       "      <th>0</th>\n",
       "      <td>0</td>\n",
       "      <td>Explanation\\nWhy the edits made under my usern...</td>\n",
       "      <td>0</td>\n",
       "    </tr>\n",
       "    <tr>\n",
       "      <th>1</th>\n",
       "      <td>1</td>\n",
       "      <td>D'aww! He matches this background colour I'm s...</td>\n",
       "      <td>0</td>\n",
       "    </tr>\n",
       "    <tr>\n",
       "      <th>2</th>\n",
       "      <td>2</td>\n",
       "      <td>Hey man, I'm really not trying to edit war. It...</td>\n",
       "      <td>0</td>\n",
       "    </tr>\n",
       "    <tr>\n",
       "      <th>3</th>\n",
       "      <td>3</td>\n",
       "      <td>\"\\nMore\\nI can't make any real suggestions on ...</td>\n",
       "      <td>0</td>\n",
       "    </tr>\n",
       "    <tr>\n",
       "      <th>4</th>\n",
       "      <td>4</td>\n",
       "      <td>You, sir, are my hero. Any chance you remember...</td>\n",
       "      <td>0</td>\n",
       "    </tr>\n",
       "    <tr>\n",
       "      <th>...</th>\n",
       "      <td>...</td>\n",
       "      <td>...</td>\n",
       "      <td>...</td>\n",
       "    </tr>\n",
       "    <tr>\n",
       "      <th>159287</th>\n",
       "      <td>159446</td>\n",
       "      <td>\":::::And for the second time of asking, when ...</td>\n",
       "      <td>0</td>\n",
       "    </tr>\n",
       "    <tr>\n",
       "      <th>159288</th>\n",
       "      <td>159447</td>\n",
       "      <td>You should be ashamed of yourself \\n\\nThat is ...</td>\n",
       "      <td>0</td>\n",
       "    </tr>\n",
       "    <tr>\n",
       "      <th>159289</th>\n",
       "      <td>159448</td>\n",
       "      <td>Spitzer \\n\\nUmm, theres no actual article for ...</td>\n",
       "      <td>0</td>\n",
       "    </tr>\n",
       "    <tr>\n",
       "      <th>159290</th>\n",
       "      <td>159449</td>\n",
       "      <td>And it looks like it was actually you who put ...</td>\n",
       "      <td>0</td>\n",
       "    </tr>\n",
       "    <tr>\n",
       "      <th>159291</th>\n",
       "      <td>159450</td>\n",
       "      <td>\"\\nAnd ... I really don't think you understand...</td>\n",
       "      <td>0</td>\n",
       "    </tr>\n",
       "  </tbody>\n",
       "</table>\n",
       "<p>159292 rows × 3 columns</p>\n",
       "</div>"
      ],
      "text/plain": [
       "        Unnamed: 0                                               text  toxic\n",
       "0                0  Explanation\\nWhy the edits made under my usern...      0\n",
       "1                1  D'aww! He matches this background colour I'm s...      0\n",
       "2                2  Hey man, I'm really not trying to edit war. It...      0\n",
       "3                3  \"\\nMore\\nI can't make any real suggestions on ...      0\n",
       "4                4  You, sir, are my hero. Any chance you remember...      0\n",
       "...            ...                                                ...    ...\n",
       "159287      159446  \":::::And for the second time of asking, when ...      0\n",
       "159288      159447  You should be ashamed of yourself \\n\\nThat is ...      0\n",
       "159289      159448  Spitzer \\n\\nUmm, theres no actual article for ...      0\n",
       "159290      159449  And it looks like it was actually you who put ...      0\n",
       "159291      159450  \"\\nAnd ... I really don't think you understand...      0\n",
       "\n",
       "[159292 rows x 3 columns]"
      ]
     },
     "execution_count": 3,
     "metadata": {},
     "output_type": "execute_result"
    }
   ],
   "source": [
    "df = pd.read_csv('f:/yandex-practicum/datasets/toxic_comments.csv')\n",
    "df"
   ]
  },
  {
   "cell_type": "code",
   "execution_count": 4,
   "metadata": {
    "id": "nwUjT9PNrtMI"
   },
   "outputs": [],
   "source": [
    "# Функция лемматизация и очистки от лишних символов\n",
    "\n",
    "\n",
    "# функция принимает на вход текст и возвращает текст, в котором остались буквы и апострофы, join и split обеспечивают удаление лишних пробелов между леммами слов, леммы определяются функцией библиотеки pattern\n",
    "def lemm_clear_text(text):\n",
    "    return \" \".join(lemma(word) for word in re.sub(r\"[^a-zA-Z']\", ' ', text).split())\n",
    "\n",
    "\n",
    "lemmatizer = WordNetLemmatizer()\n",
    "\n",
    "def get_wordnet_pos(word):\n",
    "    tag = nltk.pos_tag([word])[0][1][0].upper()\n",
    "    tag_dict = {\"J\": wordnet.ADJ,\n",
    "                \"N\": wordnet.NOUN,\n",
    "                \"V\": wordnet.VERB,\n",
    "                \"R\": wordnet.ADV}\n",
    "    return tag_dict.get(tag, wordnet.NOUN)\n",
    "\n",
    "def lemm_clear_text_nltk(text):\n",
    "    return \" \".join(lemmatizer.lemmatize(word, get_wordnet_pos(word)) for word in re.sub(r\"[^a-zA-Z']\", ' ', text).split())"
   ]
  },
  {
   "cell_type": "code",
   "execution_count": 5,
   "metadata": {
    "id": "iE9dQPWOXCmq"
   },
   "outputs": [],
   "source": [
    "# Готовый словарь сокращений\n",
    "contractions_dict = { \"ain't\": \"are not\", \"'s\":\" is\", \"aren't\": \"are not\", \"can't\": \"cannot\", \n",
    "                     \"can't've\": \"cannot have\", \"‘cause\": \"because\", \"could've\": \"could have\", \n",
    "                     \"couldn't\": \"could not\", \"couldn't've\": \"could not have\", \"didn't\": \"did not\", \n",
    "                     \"doesn't\": \"does not\", \"don't\": \"do not\", \"hadn't\": \"had not\", \"hadn't've\": \"had not have\", \n",
    "                     \"hasn't\": \"has not\", \"haven't\": \"have not\", \"he'd\": \"he would\", \"he'd've\": \"he would have\", \n",
    "                     \"he'll\": \"he will\", \"he'll've\": \"he will have\", \"how'd\": \"how did\", \"how'd'y\": \"how do you\", \n",
    "                     \"how'll\": \"how will\", \"I'd\": \"I would\", \"I'd've\": \"I would have\", \"I'll\": \"I will\", \n",
    "                     \"I'll've\": \"I will have\", \"I'm\": \"I am\", \"I've\": \"I have\", \"isn't\": \"is not\", \"it'd\": \"it would\", \n",
    "                     \"it'd've\": \"it would have\", \"it'll\": \"it will\", \"it'll've\": \"it will have\", \"let's\": \"let us\", \n",
    "                     \"ma'am\": \"madam\", \"mayn't\": \"may not\", \"might've\": \"might have\", \"mightn't\": \"might not\", \n",
    "                     \"mightn't've\": \"might not have\", \"must've\": \"must have\", \"mustn't\": \"must not\", \n",
    "                     \"mustn't've\": \"must not have\", \"needn't\": \"need not\", \"needn't've\": \"need not have\", \n",
    "                     \"o'clock\": \"of the clock\", \"oughtn't\": \"ought not\", \"oughtn't've\": \"ought not have\", \n",
    "                     \"shan't\": \"shall not\", \"sha'n't\": \"shall not\", \"shan't've\": \"shall not have\", \"she'd\": \"she would\", \n",
    "                     \"she'd've\": \"she would have\", \"she'll\": \"she will\", \"she'll've\": \"she will have\", \n",
    "                     \"should've\": \"should have\", \"shouldn't\": \"should not\", \"shouldn't've\": \"should not have\", \n",
    "                     \"so've\": \"so have\", \"that'd\": \"that would\", \"that'd've\": \"that would have\", \"there'd\": \"there would\", \n",
    "                     \"there'd've\": \"there would have\", \"they'd\": \"they would\", \"they'd've\": \"they would have\",\n",
    "                     \"they'll\": \"they will\",\"they'll've\": \"they will have\", \"they're\": \"they are\", \"they've\": \"they have\", \n",
    "                     \"to've\": \"to have\", \"wasn't\": \"was not\", \"we'd\": \"we would\", \"we'd've\": \"we would have\", \n",
    "                     \"we'll\": \"we will\", \"we'll've\": \"we will have\", \"we're\": \"we are\", \"we've\": \"we have\", \n",
    "                     \"weren't\": \"were not\",\"what'll\": \"what will\", \"what'll've\": \"what will have\", \"what're\": \"what are\", \n",
    "                     \"what've\": \"what have\", \"when've\": \"when have\", \"where'd\": \"where did\", \"where've\": \"where have\", \n",
    "                     \"who'll\": \"who will\", \"who'll've\": \"who will have\", \"who've\": \"who have\", \"why've\": \"why have\", \n",
    "                     \"will've\": \"will have\", \"won't\": \"will not\", \"won't've\": \"will not have\", \"would've\": \"would have\", \n",
    "                     \"wouldn't\": \"would not\", \"wouldn't've\": \"would not have\", \"y'all\": \"you all\", \"y'all'd\": \"you all would\", \n",
    "                     \"y'all'd've\": \"you all would have\", \"y'all're\": \"you all are\", \"y'all've\": \"you all have\", \n",
    "                     \"you'd\": \"you would\", \"you'd've\": \"you would have\", \"you'll\": \"you will\", \"you'll've\": \"you will have\", \n",
    "                     \"you're\": \"you are\", \"you've\": \"you have\"}"
   ]
  },
  {
   "cell_type": "code",
   "execution_count": 6,
   "metadata": {
    "id": "vGguT4FdXCmq"
   },
   "outputs": [],
   "source": [
    "# функция восстановления сокращений\n",
    "contractions_re = re.compile('(%s)'%'|'.join(contractions_dict.keys()))\n",
    "def expand_contractions(s, contractions_dict=contractions_dict):\n",
    "    def replace(match):\n",
    "        return contractions_dict[match.group(0)].lower()\n",
    "    return contractions_re.sub(replace, s)"
   ]
  },
  {
   "cell_type": "code",
   "execution_count": 8,
   "metadata": {
    "colab": {
     "base_uri": "https://localhost:8080/"
    },
    "id": "fYnxsEE1XCmq",
    "outputId": "6b90e01d-e1bb-46e8-cd78-a4cb4960d441"
   },
   "outputs": [
    {
     "name": "stdout",
     "output_type": "stream",
     "text": [
      "До лематизации:\n",
      " \"\n",
      "More\n",
      "I can't make any real suggestions on improvement - I wondered if the section statistics should be later on, or a subsection of \"\"types of accidents\"\"  -I think the references may need tidying so that they are all in the exact same format ie date format etc. I can do that later on, if no-one else does first - if you have any preferences for formatting style on references or want to do it yourself please let me know.\n",
      "\n",
      "There appears to be a backlog on articles for review so I guess there may be a delay until a reviewer turns up. It's listed in the relevant form eg Wikipedia:Good_article_nominations#Transport  \" \n",
      "\n",
      "После лемматизации:\n",
      "NLTK:\n",
      " More I cannot make any real suggestion on improvement I wonder if the section statistic should be later on or a subsection of type of accident I think the reference may need tidy so that they be all in the exact same format ie date format etc I can do that later on if no one else do first if you have any preference for format style on reference or want to do it yourself please let me know There appear to be a backlog on article for review so I guess there may be a delay until a reviewer turn up It be list in the relevant form eg Wikipedia Good article nomination Transport\n",
      "Pattern:\n",
      " more i cannot make any real suggestion on improvement i wonder if the section statistic should be later on or a subsection of type of accident i think the reference may need tidy so that they be all in the exact same format ie date format etc i can do that later on if no one else do first if you have any preference for format style on reference or want to do it yourself please let me know there appear to be a backlog on article for review so i guess there may be a delay until a reviewer turn up it be list in the relevant form eg wikipedia good article nomination transport\n"
     ]
    }
   ],
   "source": [
    "#просмотр результатов лемматизации\n",
    "ind = 3\n",
    "print('До лематизации:\\n', df.loc[ind,'text'],'\\n\\nПосле лемматизации:')\n",
    "print('NLTK:\\n', lemm_clear_text_nltk(expand_contractions(df.loc[ind,'text'])))\n",
    "print('Pattern:\\n', lemm_clear_text(expand_contractions(df.loc[ind,'text'])))\n"
   ]
  },
  {
   "cell_type": "code",
   "execution_count": 9,
   "metadata": {
    "colab": {
     "base_uri": "https://localhost:8080/"
    },
    "id": "ydXDmvzDrtMI",
    "outputId": "7a6533bb-3b8e-4c4a-95b1-1242c4532cad"
   },
   "outputs": [
    {
     "name": "stdout",
     "output_type": "stream",
     "text": [
      "CPU times: total: 19.6 s\n",
      "Wall time: 19.6 s\n"
     ]
    }
   ],
   "source": [
    "%%time\n",
    "# corpus = list(df['text'])\n",
    "# corpus_lemm = []\n",
    "# for i in corpus:\n",
    "#     corpus_lemm.append(lemm_clear_text(expand_contractions(i)))\n",
    "    \n",
    "corpus_lemm = df['text'].apply(expand_contractions).apply(lemm_clear_text)\n",
    "# CPU times: total: 59min 58s\n",
    "# Wall time: 1h 12s NLTK&POS\n",
    "#Pattern Wall time: 19.5 s"
   ]
  },
  {
   "cell_type": "markdown",
   "metadata": {
    "id": "jpZKZV5vXCmr"
   },
   "source": [
    "Cлова приведены к единому регистру, восстановлены сокращения.\n",
    "Лемматизация с учетом POS выполняется более 60 минут, поэтому заменил лемматизатор NLTK на Pattern (время работы 20 секунд)"
   ]
  },
  {
   "cell_type": "code",
   "execution_count": 10,
   "metadata": {},
   "outputs": [],
   "source": [
    "# Разделение на обучающую и тестовую выборку\n",
    "X_train, X_test, y_train, y_test = train_test_split(corpus_lemm, df['toxic'], test_size=0.25, random_state=12345)"
   ]
  },
  {
   "cell_type": "markdown",
   "metadata": {
    "id": "TbCdhh1g3Cdu"
   },
   "source": [
    "### Вывод\n",
    "\n",
    "1. Данные загружены и просмотрены. В выборке содержится 159571 записей. \n",
    "2. Подготовлена функция, выполняющая лемматизацию и очистку от лишних символов\n",
    "3. Выполнена лемматизация\n"
   ]
  },
  {
   "cell_type": "markdown",
   "metadata": {
    "id": "puXlWZarrtMJ"
   },
   "source": [
    "## Обучение\n",
    "Обучение разных моделей с помощью Pipeline для расчета кросс-валидации.\n",
    "Подбор параметров\n"
   ]
  },
  {
   "cell_type": "code",
   "execution_count": 11,
   "metadata": {
    "id": "5v8v731uXCms"
   },
   "outputs": [],
   "source": [
    "# словарь стоп слов nltk\n",
    "stop_words = set(stopwords.words('english'))\n",
    "# Модель подсчета tf-idf\n",
    "count_tf_idf = TfidfVectorizer(stop_words=stop_words)"
   ]
  },
  {
   "cell_type": "code",
   "execution_count": 12,
   "metadata": {
    "colab": {
     "base_uri": "https://localhost:8080/"
    },
    "id": "BwVqBkOuYgI5",
    "outputId": "a2c90380-c82c-4d81-8d48-32a4b7f53bdc"
   },
   "outputs": [
    {
     "name": "stdout",
     "output_type": "stream",
     "text": [
      "0.7411370737064806\n",
      "CPU times: total: 609 ms\n",
      "Wall time: 13.1 s\n"
     ]
    }
   ],
   "source": [
    "%%time\n",
    "clf = Pipeline(steps=[(\"TFIDF\", count_tf_idf), \n",
    "                      (\"classifier\", LogisticRegression(\n",
    "                          random_state=12345, solver='saga', \n",
    "                          penalty='l2', class_weight='balanced'))])\n",
    "print(cross_val_score(clf, X_train, y_train, cv=3, scoring='f1',n_jobs=-1).mean())\n",
    "#print(cross_val_score(clf, corpus_lemm, df['toxic'], cv=3, scoring='f1').mean())\n",
    "\n",
    "# 0.7411370737064806\n",
    "# CPU times: total: 28.1 s\n",
    "# Wall time: 28.1 s"
   ]
  },
  {
   "cell_type": "code",
   "execution_count": 13,
   "metadata": {
    "colab": {
     "base_uri": "https://localhost:8080/"
    },
    "id": "3CpPY7Dnd7Dk",
    "outputId": "14d013ce-2ef1-4f69-be42-0a9330a54021"
   },
   "outputs": [
    {
     "name": "stdout",
     "output_type": "stream",
     "text": [
      "0.6963064457043298\n",
      "CPU times: total: 312 ms\n",
      "Wall time: 1min 55s\n"
     ]
    }
   ],
   "source": [
    "%%time\n",
    "clf = Pipeline(steps=[(\"TFIDF\", count_tf_idf), \n",
    "                      (\"classifier\", RandomForestClassifier(random_state=12345, max_depth=40, max_features=4000))])\n",
    "\n",
    "print(cross_val_score(clf, X_train, y_train, cv=3, scoring='f1',n_jobs=-1).mean())\n",
    "#print(cross_val_score(clf, corpus_lemm, df['toxic'], cv=3, scoring='f1').mean())\n",
    "# 0.6963064457043298\n",
    "# CPU times: total: 281 ms\n",
    "# Wall time: 2min"
   ]
  },
  {
   "cell_type": "code",
   "execution_count": 14,
   "metadata": {
    "colab": {
     "base_uri": "https://localhost:8080/"
    },
    "id": "rJ3HCxXqd8zp",
    "outputId": "6e858661-5f92-4500-8c45-7734a0866e84"
   },
   "outputs": [
    {
     "name": "stdout",
     "output_type": "stream",
     "text": [
      "0.7087821503051828\n",
      "CPU times: total: 344 ms\n",
      "Wall time: 30.9 s\n"
     ]
    }
   ],
   "source": [
    "%%time\n",
    "clf = Pipeline(steps=[(\"TFIDF\", count_tf_idf), \n",
    "                      (\"classifier\", DecisionTreeClassifier(random_state=12345, max_depth=80))])\n",
    "print(cross_val_score(clf, X_train, y_train, cv=3, scoring='f1',n_jobs=-1).mean())\n",
    "#print(cross_val_score(clf, corpus_lemm, df['toxic'], cv=3, scoring='f1').mean())\n",
    "# 0.7087821503051828\n",
    "# CPU times: total: 469 ms\n",
    "# Wall time: 35.8 s"
   ]
  },
  {
   "cell_type": "code",
   "execution_count": 15,
   "metadata": {
    "colab": {
     "base_uri": "https://localhost:8080/"
    },
    "id": "0qZUCX3TeRB-",
    "outputId": "7fd8251a-cba1-4aa1-9343-1b91377e6f86"
   },
   "outputs": [
    {
     "name": "stdout",
     "output_type": "stream",
     "text": [
      "0.759614706290583\n",
      "CPU times: total: 328 ms\n",
      "Wall time: 20.1 s\n"
     ]
    }
   ],
   "source": [
    "%%time\n",
    "clf = Pipeline(steps=[(\"TFIDF\", count_tf_idf), \n",
    "                      (\"classifier\", LogisticRegression(random_state=12345, solver='saga',  penalty='l1'))])\n",
    "print(cross_val_score(clf, X_train, y_train, cv=3, scoring='f1',n_jobs=-1).mean())\n",
    "# 0.759614706290583\n",
    "# CPU times: total: 250 ms\n",
    "# Wall time: 22.8 s"
   ]
  },
  {
   "cell_type": "code",
   "execution_count": 16,
   "metadata": {},
   "outputs": [
    {
     "data": {
      "text/plain": [
       "0.7851436580238262"
      ]
     },
     "execution_count": 16,
     "metadata": {},
     "output_type": "execute_result"
    }
   ],
   "source": [
    "# Метрика на тестовой выборке\n",
    "clf.fit(X_train, y_train)\n",
    "f1_score(y_test, clf.predict(X_test))\n",
    "# 0.7851436580238262"
   ]
  },
  {
   "cell_type": "code",
   "execution_count": 17,
   "metadata": {
    "colab": {
     "base_uri": "https://localhost:8080/"
    },
    "id": "EDJ0jD-i8NMn",
    "outputId": "dbb94117-4f63-4bce-a06b-f55365f6e80e"
   },
   "outputs": [
    {
     "data": {
      "text/plain": [
       "0.18447896602423097"
      ]
     },
     "execution_count": 17,
     "metadata": {},
     "output_type": "execute_result"
    }
   ],
   "source": [
    "# Константная модель\n",
    "f1_score(df['toxic'], [1]*len(df['toxic']))\n",
    "# 0.1845889553800997"
   ]
  },
  {
   "cell_type": "markdown",
   "metadata": {
    "id": "DX9Y22-j4Z-G"
   },
   "source": [
    "### Вывод\n",
    "\n",
    "Обучены модели LogisticRegression, DecisionTreeClassifier, LogisticRegression.\n",
    "подобраны параметры, обеспечивающие F1> 0.75.\n"
   ]
  },
  {
   "cell_type": "markdown",
   "metadata": {
    "id": "0NPVsOsvrtMK"
   },
   "source": [
    "## Выводы\n",
    "Выполнена загрузка данных, подготовлены признаки для обучения.\n",
    "\n",
    "С использованием пайплайнов и кросс-валидации проверено качество моделей LogisticRegression, DecisionTreeClassifier, LogisticRegression. Лучшая модель - LogisticRegression с подобранными гиперпараметрами (solver='saga', penalty='l1') имеет cv_F1 = 0.7596. На тестовой выборке модель имеет метрику 0.7851. Для сравнения F1 константной модели равна 0.1845 \n",
    "\n",
    "Разработанная модель позволит выявлять токсичные комментарии и отправлять их на модерацию.\n"
   ]
  }
 ],
 "metadata": {
  "ExecuteTimeLog": [
   {
    "duration": 455,
    "start_time": "2022-06-08T14:48:21.845Z"
   },
   {
    "duration": 81,
    "start_time": "2022-06-08T14:49:16.398Z"
   },
   {
    "duration": 40,
    "start_time": "2022-06-08T14:49:28.904Z"
   },
   {
    "duration": 2637,
    "start_time": "2022-06-08T14:49:49.889Z"
   },
   {
    "duration": 2089,
    "start_time": "2022-06-08T15:00:03.816Z"
   },
   {
    "duration": 50,
    "start_time": "2022-06-08T16:45:41.760Z"
   },
   {
    "duration": 463,
    "start_time": "2022-06-08T16:45:47.149Z"
   },
   {
    "duration": 2422,
    "start_time": "2022-06-08T16:45:48.766Z"
   },
   {
    "duration": 29,
    "start_time": "2022-06-08T16:45:53.612Z"
   },
   {
    "duration": 32,
    "start_time": "2022-06-08T16:45:58.789Z"
   },
   {
    "duration": 86,
    "start_time": "2022-06-08T16:46:05.083Z"
   },
   {
    "duration": 46,
    "start_time": "2022-06-08T16:46:13.733Z"
   },
   {
    "duration": 440,
    "start_time": "2022-06-08T16:46:17.602Z"
   },
   {
    "duration": 2356,
    "start_time": "2022-06-08T16:46:19.272Z"
   },
   {
    "duration": 47,
    "start_time": "2022-06-08T16:46:35.054Z"
   },
   {
    "duration": 7,
    "start_time": "2022-06-08T16:46:38.444Z"
   },
   {
    "duration": 380,
    "start_time": "2022-06-08T16:46:41.025Z"
   },
   {
    "duration": 2313,
    "start_time": "2022-06-08T16:46:42.725Z"
   },
   {
    "duration": 54,
    "start_time": "2022-06-08T16:46:52.438Z"
   },
   {
    "duration": 7,
    "start_time": "2022-06-08T16:46:54.605Z"
   },
   {
    "duration": 7,
    "start_time": "2022-06-08T16:46:55.889Z"
   },
   {
    "duration": 433,
    "start_time": "2022-06-08T16:47:23.115Z"
   },
   {
    "duration": 2351,
    "start_time": "2022-06-08T16:47:23.550Z"
   },
   {
    "duration": 45,
    "start_time": "2022-06-08T16:47:41.932Z"
   },
   {
    "duration": 7,
    "start_time": "2022-06-08T16:47:45.628Z"
   },
   {
    "duration": 425,
    "start_time": "2022-06-08T16:47:48.285Z"
   },
   {
    "duration": 2439,
    "start_time": "2022-06-08T16:47:51.405Z"
   },
   {
    "duration": 53,
    "start_time": "2022-06-08T16:47:55.708Z"
   },
   {
    "duration": 967,
    "start_time": "2022-06-08T18:16:34.592Z"
   },
   {
    "duration": 30,
    "start_time": "2022-06-08T18:18:11.052Z"
   },
   {
    "duration": 3,
    "start_time": "2022-06-08T18:36:57.245Z"
   },
   {
    "duration": 806,
    "start_time": "2022-06-08T18:36:59.078Z"
   },
   {
    "duration": 786,
    "start_time": "2022-06-08T18:37:49.629Z"
   },
   {
    "duration": 32,
    "start_time": "2022-06-08T18:37:56.498Z"
   },
   {
    "duration": 3,
    "start_time": "2022-06-08T18:38:01.701Z"
   },
   {
    "duration": 4,
    "start_time": "2022-06-08T18:38:39.008Z"
   },
   {
    "duration": 30,
    "start_time": "2022-06-08T18:38:42.170Z"
   },
   {
    "duration": 4,
    "start_time": "2022-06-08T18:38:58.103Z"
   },
   {
    "duration": 15,
    "start_time": "2022-06-08T18:39:00.754Z"
   },
   {
    "duration": 828,
    "start_time": "2022-06-08T18:39:06.147Z"
   },
   {
    "duration": 690,
    "start_time": "2022-06-08T18:39:10.325Z"
   },
   {
    "duration": 20,
    "start_time": "2022-06-08T18:39:20.269Z"
   },
   {
    "duration": 9,
    "start_time": "2022-06-08T18:40:25.984Z"
   },
   {
    "duration": 127753,
    "start_time": "2022-06-08T18:45:39.454Z"
   },
   {
    "duration": 75973,
    "start_time": "2022-06-08T18:48:08.751Z"
   },
   {
    "duration": 36,
    "start_time": "2022-06-08T18:49:29.007Z"
   },
   {
    "duration": 14426,
    "start_time": "2022-06-08T18:49:40.241Z"
   },
   {
    "duration": 13666,
    "start_time": "2022-06-08T18:50:09.451Z"
   },
   {
    "duration": 24850,
    "start_time": "2022-06-08T18:50:57.244Z"
   },
   {
    "duration": 72,
    "start_time": "2022-06-09T07:19:14.878Z"
   },
   {
    "duration": 1466,
    "start_time": "2022-06-09T07:19:27.504Z"
   },
   {
    "duration": 2485,
    "start_time": "2022-06-09T07:19:28.972Z"
   },
   {
    "duration": 3,
    "start_time": "2022-06-09T07:19:31.459Z"
   },
   {
    "duration": 35677,
    "start_time": "2022-06-09T07:19:31.464Z"
   },
   {
    "duration": 5,
    "start_time": "2022-06-09T07:20:07.144Z"
   },
   {
    "duration": 88,
    "start_time": "2022-06-09T07:20:07.150Z"
   },
   {
    "duration": 4,
    "start_time": "2022-06-09T07:20:07.240Z"
   },
   {
    "duration": 6,
    "start_time": "2022-06-09T07:20:07.246Z"
   },
   {
    "duration": 0,
    "start_time": "2022-06-09T07:20:07.254Z"
   },
   {
    "duration": 0,
    "start_time": "2022-06-09T07:20:07.266Z"
   },
   {
    "duration": 0,
    "start_time": "2022-06-09T07:20:07.278Z"
   },
   {
    "duration": 0,
    "start_time": "2022-06-09T07:20:07.280Z"
   },
   {
    "duration": 0,
    "start_time": "2022-06-09T07:20:07.281Z"
   },
   {
    "duration": 0,
    "start_time": "2022-06-09T07:20:07.282Z"
   },
   {
    "duration": 9,
    "start_time": "2022-06-09T10:02:44.218Z"
   },
   {
    "duration": 1541,
    "start_time": "2022-06-09T10:27:24.699Z"
   },
   {
    "duration": 881,
    "start_time": "2022-06-09T10:27:26.242Z"
   },
   {
    "duration": 4,
    "start_time": "2022-06-09T10:27:27.125Z"
   },
   {
    "duration": 35929,
    "start_time": "2022-06-09T10:27:27.130Z"
   },
   {
    "duration": 4,
    "start_time": "2022-06-09T10:28:03.064Z"
   },
   {
    "duration": 69,
    "start_time": "2022-06-09T10:28:03.071Z"
   },
   {
    "duration": 4,
    "start_time": "2022-06-09T10:28:03.142Z"
   },
   {
    "duration": 15,
    "start_time": "2022-06-09T10:28:03.148Z"
   },
   {
    "duration": 0,
    "start_time": "2022-06-09T10:28:03.165Z"
   },
   {
    "duration": 0,
    "start_time": "2022-06-09T10:28:03.175Z"
   },
   {
    "duration": 0,
    "start_time": "2022-06-09T10:28:03.177Z"
   },
   {
    "duration": 0,
    "start_time": "2022-06-09T10:28:03.177Z"
   },
   {
    "duration": 0,
    "start_time": "2022-06-09T10:28:03.179Z"
   },
   {
    "duration": 0,
    "start_time": "2022-06-09T10:28:03.180Z"
   },
   {
    "duration": 116,
    "start_time": "2022-06-09T10:35:59.479Z"
   },
   {
    "duration": 4,
    "start_time": "2022-06-09T10:36:01.624Z"
   },
   {
    "duration": 3,
    "start_time": "2022-06-09T10:36:09.384Z"
   },
   {
    "duration": 24,
    "start_time": "2022-06-09T12:32:47.355Z"
   },
   {
    "duration": 4,
    "start_time": "2022-06-09T12:32:49.457Z"
   },
   {
    "duration": 5405,
    "start_time": "2022-06-09T12:43:31.254Z"
   },
   {
    "duration": 5594,
    "start_time": "2022-06-09T12:47:09.071Z"
   },
   {
    "duration": 185,
    "start_time": "2022-06-09T12:47:17.357Z"
   },
   {
    "duration": 807,
    "start_time": "2022-06-09T12:47:20.453Z"
   },
   {
    "duration": 4,
    "start_time": "2022-06-09T12:47:23.552Z"
   },
   {
    "duration": 33841,
    "start_time": "2022-06-09T12:47:28.212Z"
   },
   {
    "duration": 10,
    "start_time": "2022-06-09T12:48:02.055Z"
   },
   {
    "duration": 86,
    "start_time": "2022-06-09T12:48:02.067Z"
   },
   {
    "duration": 10,
    "start_time": "2022-06-09T12:48:02.155Z"
   },
   {
    "duration": 11,
    "start_time": "2022-06-09T12:48:02.167Z"
   },
   {
    "duration": 5200,
    "start_time": "2022-06-09T12:56:59.568Z"
   },
   {
    "duration": 1691,
    "start_time": "2022-06-09T13:20:57.805Z"
   },
   {
    "duration": 962,
    "start_time": "2022-06-09T13:20:59.498Z"
   },
   {
    "duration": 9,
    "start_time": "2022-06-09T13:21:00.462Z"
   },
   {
    "duration": 45439,
    "start_time": "2022-06-09T13:21:00.472Z"
   },
   {
    "duration": 5,
    "start_time": "2022-06-09T13:21:45.913Z"
   },
   {
    "duration": 97,
    "start_time": "2022-06-09T13:21:45.920Z"
   },
   {
    "duration": 5,
    "start_time": "2022-06-09T13:21:46.019Z"
   },
   {
    "duration": 30,
    "start_time": "2022-06-09T13:21:46.026Z"
   },
   {
    "duration": 0,
    "start_time": "2022-06-09T13:21:46.059Z"
   },
   {
    "duration": 0,
    "start_time": "2022-06-09T13:21:46.072Z"
   },
   {
    "duration": 0,
    "start_time": "2022-06-09T13:21:46.074Z"
   },
   {
    "duration": 0,
    "start_time": "2022-06-09T13:21:46.075Z"
   },
   {
    "duration": 0,
    "start_time": "2022-06-09T13:21:46.076Z"
   },
   {
    "duration": 0,
    "start_time": "2022-06-09T13:21:46.078Z"
   },
   {
    "duration": 0,
    "start_time": "2022-06-09T13:21:46.079Z"
   },
   {
    "duration": 12,
    "start_time": "2022-06-13T07:45:46.699Z"
   },
   {
    "duration": 1547,
    "start_time": "2022-06-13T07:46:48.701Z"
   },
   {
    "duration": 2364,
    "start_time": "2022-06-13T07:46:50.249Z"
   },
   {
    "duration": 3,
    "start_time": "2022-06-13T07:46:52.615Z"
   },
   {
    "duration": 14,
    "start_time": "2022-06-13T07:46:52.620Z"
   },
   {
    "duration": 34467,
    "start_time": "2022-06-13T07:46:52.636Z"
   },
   {
    "duration": 111,
    "start_time": "2022-06-13T07:47:38.040Z"
   },
   {
    "duration": 5,
    "start_time": "2022-06-13T07:47:47.410Z"
   },
   {
    "duration": 4,
    "start_time": "2022-06-13T07:52:26.720Z"
   },
   {
    "duration": 5,
    "start_time": "2022-06-13T07:52:55.271Z"
   },
   {
    "duration": 12,
    "start_time": "2022-06-13T07:53:16.722Z"
   },
   {
    "duration": 10,
    "start_time": "2022-06-13T07:53:44.631Z"
   },
   {
    "duration": 12,
    "start_time": "2022-06-13T07:55:28.012Z"
   },
   {
    "duration": 14,
    "start_time": "2022-06-13T08:04:32.906Z"
   },
   {
    "duration": 3,
    "start_time": "2022-06-13T08:04:44.681Z"
   },
   {
    "duration": 4,
    "start_time": "2022-06-13T08:05:19.206Z"
   },
   {
    "duration": 4,
    "start_time": "2022-06-13T08:05:36.954Z"
   },
   {
    "duration": 5,
    "start_time": "2022-06-13T08:07:03.176Z"
   },
   {
    "duration": 4,
    "start_time": "2022-06-13T08:07:18.544Z"
   },
   {
    "duration": 4,
    "start_time": "2022-06-13T08:07:28.475Z"
   },
   {
    "duration": 4,
    "start_time": "2022-06-13T08:07:34.840Z"
   },
   {
    "duration": 5,
    "start_time": "2022-06-13T08:08:15.576Z"
   },
   {
    "duration": 5,
    "start_time": "2022-06-13T08:08:23.020Z"
   },
   {
    "duration": 4,
    "start_time": "2022-06-13T08:08:28.189Z"
   },
   {
    "duration": 4,
    "start_time": "2022-06-13T08:08:32.321Z"
   },
   {
    "duration": 4,
    "start_time": "2022-06-13T08:08:59.725Z"
   },
   {
    "duration": 4,
    "start_time": "2022-06-13T08:09:12.398Z"
   },
   {
    "duration": 4,
    "start_time": "2022-06-13T08:09:26.123Z"
   },
   {
    "duration": 4,
    "start_time": "2022-06-13T08:09:38.331Z"
   },
   {
    "duration": 46396,
    "start_time": "2022-06-13T08:10:14.107Z"
   },
   {
    "duration": 4,
    "start_time": "2022-06-13T08:15:59.581Z"
   },
   {
    "duration": 23,
    "start_time": "2022-06-13T08:16:05.644Z"
   },
   {
    "duration": 5,
    "start_time": "2022-06-13T08:18:10.074Z"
   },
   {
    "duration": 4,
    "start_time": "2022-06-13T08:18:26.936Z"
   },
   {
    "duration": 30,
    "start_time": "2022-06-13T08:18:29.848Z"
   },
   {
    "duration": 543,
    "start_time": "2022-06-13T08:19:10.872Z"
   },
   {
    "duration": 157,
    "start_time": "2022-06-13T08:19:17.262Z"
   },
   {
    "duration": 13,
    "start_time": "2022-06-13T08:21:11.510Z"
   },
   {
    "duration": 19,
    "start_time": "2022-06-13T08:21:17.371Z"
   },
   {
    "duration": 19,
    "start_time": "2022-06-13T08:23:12.827Z"
   },
   {
    "duration": 19,
    "start_time": "2022-06-13T08:23:38.068Z"
   },
   {
    "duration": 18,
    "start_time": "2022-06-13T08:23:47.977Z"
   },
   {
    "duration": 18,
    "start_time": "2022-06-13T08:23:58.578Z"
   },
   {
    "duration": 18,
    "start_time": "2022-06-13T08:24:10.227Z"
   },
   {
    "duration": 17,
    "start_time": "2022-06-13T08:24:17.275Z"
   },
   {
    "duration": 18,
    "start_time": "2022-06-13T08:24:25.968Z"
   },
   {
    "duration": 19,
    "start_time": "2022-06-13T08:24:38.728Z"
   },
   {
    "duration": 4,
    "start_time": "2022-06-13T08:35:26.567Z"
   },
   {
    "duration": 34,
    "start_time": "2022-06-13T08:35:30.238Z"
   },
   {
    "duration": 230,
    "start_time": "2022-06-13T09:11:00.323Z"
   },
   {
    "duration": 806,
    "start_time": "2022-06-13T09:11:00.555Z"
   },
   {
    "duration": 4,
    "start_time": "2022-06-13T09:11:01.363Z"
   },
   {
    "duration": 18,
    "start_time": "2022-06-13T09:11:01.370Z"
   },
   {
    "duration": 21,
    "start_time": "2022-06-13T09:11:01.390Z"
   },
   {
    "duration": 43,
    "start_time": "2022-06-13T09:11:01.413Z"
   },
   {
    "duration": 4,
    "start_time": "2022-06-13T23:42:12.772Z"
   },
   {
    "duration": 51,
    "start_time": "2022-06-13T23:42:12.778Z"
   },
   {
    "duration": 0,
    "start_time": "2022-06-13T23:42:12.831Z"
   },
   {
    "duration": 0,
    "start_time": "2022-06-13T23:42:12.832Z"
   },
   {
    "duration": 0,
    "start_time": "2022-06-13T23:42:12.834Z"
   },
   {
    "duration": 0,
    "start_time": "2022-06-13T23:42:12.835Z"
   },
   {
    "duration": 0,
    "start_time": "2022-06-13T23:42:12.836Z"
   },
   {
    "duration": 0,
    "start_time": "2022-06-13T23:42:12.838Z"
   },
   {
    "duration": 0,
    "start_time": "2022-06-13T23:42:12.839Z"
   },
   {
    "duration": 0,
    "start_time": "2022-06-13T23:42:12.840Z"
   },
   {
    "duration": 0,
    "start_time": "2022-06-13T23:42:12.841Z"
   },
   {
    "duration": 0,
    "start_time": "2022-06-13T23:42:12.842Z"
   },
   {
    "duration": 0,
    "start_time": "2022-06-13T23:42:12.843Z"
   },
   {
    "duration": 0,
    "start_time": "2022-06-13T23:42:12.844Z"
   },
   {
    "duration": 0,
    "start_time": "2022-06-13T23:42:12.844Z"
   },
   {
    "duration": 0,
    "start_time": "2022-06-13T23:42:12.845Z"
   },
   {
    "duration": 0,
    "start_time": "2022-06-13T23:42:12.847Z"
   },
   {
    "duration": 3,
    "start_time": "2022-06-13T23:48:21.867Z"
   },
   {
    "duration": 43,
    "start_time": "2022-06-13T23:48:21.872Z"
   },
   {
    "duration": 0,
    "start_time": "2022-06-13T23:48:21.917Z"
   },
   {
    "duration": 0,
    "start_time": "2022-06-13T23:48:21.918Z"
   },
   {
    "duration": 0,
    "start_time": "2022-06-13T23:48:21.919Z"
   },
   {
    "duration": 0,
    "start_time": "2022-06-13T23:48:21.920Z"
   },
   {
    "duration": 0,
    "start_time": "2022-06-13T23:48:21.921Z"
   },
   {
    "duration": 0,
    "start_time": "2022-06-13T23:48:21.922Z"
   },
   {
    "duration": 0,
    "start_time": "2022-06-13T23:48:21.923Z"
   },
   {
    "duration": 0,
    "start_time": "2022-06-13T23:48:21.923Z"
   },
   {
    "duration": 0,
    "start_time": "2022-06-13T23:48:21.924Z"
   },
   {
    "duration": 0,
    "start_time": "2022-06-13T23:48:21.925Z"
   },
   {
    "duration": 0,
    "start_time": "2022-06-13T23:48:21.927Z"
   },
   {
    "duration": 0,
    "start_time": "2022-06-13T23:48:21.927Z"
   },
   {
    "duration": 0,
    "start_time": "2022-06-13T23:48:21.929Z"
   },
   {
    "duration": 0,
    "start_time": "2022-06-13T23:48:21.930Z"
   },
   {
    "duration": 0,
    "start_time": "2022-06-13T23:48:21.931Z"
   },
   {
    "duration": 4,
    "start_time": "2022-06-13T23:59:43.562Z"
   },
   {
    "duration": 45,
    "start_time": "2022-06-13T23:59:43.568Z"
   },
   {
    "duration": 0,
    "start_time": "2022-06-13T23:59:43.614Z"
   },
   {
    "duration": 0,
    "start_time": "2022-06-13T23:59:43.615Z"
   },
   {
    "duration": 0,
    "start_time": "2022-06-13T23:59:43.616Z"
   },
   {
    "duration": 0,
    "start_time": "2022-06-13T23:59:43.618Z"
   },
   {
    "duration": 0,
    "start_time": "2022-06-13T23:59:43.620Z"
   },
   {
    "duration": 0,
    "start_time": "2022-06-13T23:59:43.626Z"
   },
   {
    "duration": 0,
    "start_time": "2022-06-13T23:59:43.627Z"
   },
   {
    "duration": 0,
    "start_time": "2022-06-13T23:59:43.628Z"
   },
   {
    "duration": 0,
    "start_time": "2022-06-13T23:59:43.629Z"
   },
   {
    "duration": 0,
    "start_time": "2022-06-13T23:59:43.630Z"
   },
   {
    "duration": 0,
    "start_time": "2022-06-13T23:59:43.631Z"
   },
   {
    "duration": 0,
    "start_time": "2022-06-13T23:59:43.632Z"
   },
   {
    "duration": 0,
    "start_time": "2022-06-13T23:59:43.633Z"
   },
   {
    "duration": 0,
    "start_time": "2022-06-13T23:59:43.634Z"
   },
   {
    "duration": 0,
    "start_time": "2022-06-13T23:59:43.636Z"
   },
   {
    "duration": 14277,
    "start_time": "2022-06-14T00:01:29.911Z"
   },
   {
    "duration": 44,
    "start_time": "2022-06-14T00:01:44.190Z"
   },
   {
    "duration": 0,
    "start_time": "2022-06-14T00:01:44.236Z"
   },
   {
    "duration": 0,
    "start_time": "2022-06-14T00:01:44.237Z"
   },
   {
    "duration": 0,
    "start_time": "2022-06-14T00:01:44.238Z"
   },
   {
    "duration": 0,
    "start_time": "2022-06-14T00:01:44.239Z"
   },
   {
    "duration": 0,
    "start_time": "2022-06-14T00:01:44.240Z"
   },
   {
    "duration": 0,
    "start_time": "2022-06-14T00:01:44.241Z"
   },
   {
    "duration": 0,
    "start_time": "2022-06-14T00:01:44.242Z"
   },
   {
    "duration": 0,
    "start_time": "2022-06-14T00:01:44.243Z"
   },
   {
    "duration": 0,
    "start_time": "2022-06-14T00:01:44.244Z"
   },
   {
    "duration": 0,
    "start_time": "2022-06-14T00:01:44.245Z"
   },
   {
    "duration": 0,
    "start_time": "2022-06-14T00:01:44.246Z"
   },
   {
    "duration": 0,
    "start_time": "2022-06-14T00:01:44.247Z"
   },
   {
    "duration": 0,
    "start_time": "2022-06-14T00:01:44.248Z"
   },
   {
    "duration": 0,
    "start_time": "2022-06-14T00:01:44.248Z"
   },
   {
    "duration": 0,
    "start_time": "2022-06-14T00:01:44.249Z"
   }
  ],
  "colab": {
   "collapsed_sections": [],
   "name": "Project_3.4_v.2_13.06.2022",
   "provenance": [],
   "toc_visible": true
  },
  "kernelspec": {
   "display_name": "Python 3 (ipykernel)",
   "language": "python",
   "name": "python3"
  },
  "language_info": {
   "codemirror_mode": {
    "name": "ipython",
    "version": 3
   },
   "file_extension": ".py",
   "mimetype": "text/x-python",
   "name": "python",
   "nbconvert_exporter": "python",
   "pygments_lexer": "ipython3",
   "version": "3.10.6"
  },
  "toc": {
   "base_numbering": 1,
   "nav_menu": {},
   "number_sections": true,
   "sideBar": true,
   "skip_h1_title": true,
   "title_cell": "Содержание",
   "title_sidebar": "Contents",
   "toc_cell": true,
   "toc_position": {
    "height": "calc(100% - 180px)",
    "left": "10px",
    "top": "150px",
    "width": "302.391px"
   },
   "toc_section_display": true,
   "toc_window_display": false
  }
 },
 "nbformat": 4,
 "nbformat_minor": 4
}
