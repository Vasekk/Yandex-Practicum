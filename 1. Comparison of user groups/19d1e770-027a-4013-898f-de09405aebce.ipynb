{
 "cells": [
  {
   "cell_type": "markdown",
   "metadata": {},
   "source": [
    "<div style=\"border:solid green 3px; padding: 20px\">\n",
    "\n",
    "<b>Привет, Василь! :)</b>\n",
    "\n",
    "Меня зовут Сороколетов Илья и я буду проверять твой проект. \n",
    "\n",
    "Предлагаю общаться на «**ты**», но если тебе будет комфортнее общаться на «**вы**», то сообщи об этом в комментариях)\n",
    "\n",
    "\n",
    "Для твоего удобства, я буду выделять свои комментарии следующим образом:\n",
    "\n",
    "<div class=\"alert alert-danger\">\n",
    "<b>❌ Комментарий ревьюера:</b> Самые важные замечания. Они указывают на ключевые моменты, которые влияют на конечный результат проекта. </div>\n",
    "\n",
    "<div class=\"alert alert-warning\">\n",
    "<b>⚠️ Комментарий ревьюера:</b> Советы или замечания, которые помогут сделать твою работу лучше, но необязательны к выполнению.\n",
    "\n",
    "</div>\n",
    "\n",
    "<div class=\"alert alert-success\">\n",
    "<b>✔️ Комментарий ревьюера:</b> Так я выделяю все остальные комментарии.</div>\n",
    "\n",
    "Давай работать над проектом в диалоге: если ты что-то меняешь в проекте по моим рекомендациям — пиши об этом. Выбери для своих комментариев какой-то заметный цвет, так мне будет легче отследить изменения, например вот так:\n",
    "<div class=\"alert alert-info\">\n",
    "<b>Комментарий студента:</b>\n",
    "<br>\n",
    "</div>\n",
    "\n",
    "Пожалуйста, не перемещай, не изменяй и не удаляй мои комментарии. Всё это поможет выполнить повторную проверку твоего проекта оперативнее. \n",
    "\n",
    "Обязательно задавай вопросы если они возникнут, а я перехожу к проверке)"
   ]
  },
  {
   "cell_type": "markdown",
   "metadata": {
    "id": "E0vqbgi9ay0H"
   },
   "source": [
    "# Яндекс.Музыка"
   ]
  },
  {
   "cell_type": "markdown",
   "metadata": {
    "id": "VUC88oWjTJw2"
   },
   "source": [
    "Сравнение Москвы и Петербурга окружено мифами. Например:\n",
    " * Москва — мегаполис, подчинённый жёсткому ритму рабочей недели;\n",
    " * Петербург — культурная столица, со своими вкусами.\n",
    "\n",
    "На данных Яндекс.Музыки вы сравните поведение пользователей двух столиц.\n",
    "\n",
    "**Цель исследования** — проверьте три гипотезы:\n",
    "1. Активность пользователей зависит от дня недели. Причём в Москве и Петербурге это проявляется по-разному.\n",
    "2. В понедельник утром в Москве преобладают одни жанры, а в Петербурге — другие. Так же и вечером пятницы преобладают разные жанры — в зависимости от города. \n",
    "3. Москва и Петербург предпочитают разные жанры музыки. В Москве чаще слушают поп-музыку, в Петербурге — русский рэп.\n",
    "\n",
    "**Ход исследования**\n",
    "\n",
    "Данные о поведении пользователей вы получите из файла `yandex_music_project.csv`. О качестве данных ничего не известно. Поэтому перед проверкой гипотез понадобится обзор данных. \n",
    "\n",
    "Вы проверите данные на ошибки и оцените их влияние на исследование. Затем, на этапе предобработки вы поищете возможность исправить самые критичные ошибки данных.\n",
    " \n",
    "Таким образом, исследование пройдёт в три этапа:\n",
    " 1. Обзор данных.\n",
    " 2. Предобработка данных.\n",
    " 3. Проверка гипотез.\n",
    "\n"
   ]
  },
  {
   "cell_type": "markdown",
   "metadata": {
    "id": "Ml1hmfXC_Zcs"
   },
   "source": [
    "## Обзор данных\n",
    "\n",
    "Составьте первое представление о данных Яндекс.Музыки.\n",
    "\n",
    "\n"
   ]
  },
  {
   "cell_type": "markdown",
   "metadata": {
    "id": "57eAOGIz_Zcs"
   },
   "source": [
    "Основной инструмент аналитика — `pandas`. Импортируйте эту библиотеку."
   ]
  },
  {
   "cell_type": "code",
   "execution_count": 1,
   "metadata": {
    "id": "AXN7PHPN_Zcs"
   },
   "outputs": [],
   "source": [
    "# импорт библиотеки pandas\n",
    "import pandas as pd"
   ]
  },
  {
   "cell_type": "markdown",
   "metadata": {},
   "source": [
    "<div class=\"alert alert-success\">\n",
    "<b>✔️ Комментарий ревьюера:</b> \n",
    "<br>Очень здорово, что ты используешь сокращение pd для Pandas, это общепринятое сокращение для этой библиотеки для удобной дальнейшей работы.\n",
    "</div>"
   ]
  },
  {
   "cell_type": "markdown",
   "metadata": {
    "id": "SG23P8tt_Zcs"
   },
   "source": [
    "Прочитайте файл `yandex_music_project.csv` из папки `/datasets` и сохраните его в переменной `df`:"
   ]
  },
  {
   "cell_type": "code",
   "execution_count": 2,
   "metadata": {
    "id": "fFVu7vqh_Zct"
   },
   "outputs": [],
   "source": [
    "# чтение файла с данными и сохранение в df\n",
    "df = pd.read_csv('/datasets/yandex_music_project.csv')"
   ]
  },
  {
   "cell_type": "markdown",
   "metadata": {
    "id": "rDoOMd3uTqnZ"
   },
   "source": [
    "Выведите на экран первые десять строк таблицы:"
   ]
  },
  {
   "cell_type": "code",
   "execution_count": 3,
   "metadata": {
    "id": "oWTVX3gW_Zct"
   },
   "outputs": [
    {
     "data": {
      "text/html": [
       "<div>\n",
       "<style scoped>\n",
       "    .dataframe tbody tr th:only-of-type {\n",
       "        vertical-align: middle;\n",
       "    }\n",
       "\n",
       "    .dataframe tbody tr th {\n",
       "        vertical-align: top;\n",
       "    }\n",
       "\n",
       "    .dataframe thead th {\n",
       "        text-align: right;\n",
       "    }\n",
       "</style>\n",
       "<table border=\"1\" class=\"dataframe\">\n",
       "  <thead>\n",
       "    <tr style=\"text-align: right;\">\n",
       "      <th></th>\n",
       "      <th>userID</th>\n",
       "      <th>Track</th>\n",
       "      <th>artist</th>\n",
       "      <th>genre</th>\n",
       "      <th>City</th>\n",
       "      <th>time</th>\n",
       "      <th>Day</th>\n",
       "    </tr>\n",
       "  </thead>\n",
       "  <tbody>\n",
       "    <tr>\n",
       "      <td>0</td>\n",
       "      <td>FFB692EC</td>\n",
       "      <td>Kamigata To Boots</td>\n",
       "      <td>The Mass Missile</td>\n",
       "      <td>rock</td>\n",
       "      <td>Saint-Petersburg</td>\n",
       "      <td>20:28:33</td>\n",
       "      <td>Wednesday</td>\n",
       "    </tr>\n",
       "    <tr>\n",
       "      <td>1</td>\n",
       "      <td>55204538</td>\n",
       "      <td>Delayed Because of Accident</td>\n",
       "      <td>Andreas Rönnberg</td>\n",
       "      <td>rock</td>\n",
       "      <td>Moscow</td>\n",
       "      <td>14:07:09</td>\n",
       "      <td>Friday</td>\n",
       "    </tr>\n",
       "    <tr>\n",
       "      <td>2</td>\n",
       "      <td>20EC38</td>\n",
       "      <td>Funiculì funiculà</td>\n",
       "      <td>Mario Lanza</td>\n",
       "      <td>pop</td>\n",
       "      <td>Saint-Petersburg</td>\n",
       "      <td>20:58:07</td>\n",
       "      <td>Wednesday</td>\n",
       "    </tr>\n",
       "    <tr>\n",
       "      <td>3</td>\n",
       "      <td>A3DD03C9</td>\n",
       "      <td>Dragons in the Sunset</td>\n",
       "      <td>Fire + Ice</td>\n",
       "      <td>folk</td>\n",
       "      <td>Saint-Petersburg</td>\n",
       "      <td>08:37:09</td>\n",
       "      <td>Monday</td>\n",
       "    </tr>\n",
       "    <tr>\n",
       "      <td>4</td>\n",
       "      <td>E2DC1FAE</td>\n",
       "      <td>Soul People</td>\n",
       "      <td>Space Echo</td>\n",
       "      <td>dance</td>\n",
       "      <td>Moscow</td>\n",
       "      <td>08:34:34</td>\n",
       "      <td>Monday</td>\n",
       "    </tr>\n",
       "    <tr>\n",
       "      <td>5</td>\n",
       "      <td>842029A1</td>\n",
       "      <td>Преданная</td>\n",
       "      <td>IMPERVTOR</td>\n",
       "      <td>rusrap</td>\n",
       "      <td>Saint-Petersburg</td>\n",
       "      <td>13:09:41</td>\n",
       "      <td>Friday</td>\n",
       "    </tr>\n",
       "    <tr>\n",
       "      <td>6</td>\n",
       "      <td>4CB90AA5</td>\n",
       "      <td>True</td>\n",
       "      <td>Roman Messer</td>\n",
       "      <td>dance</td>\n",
       "      <td>Moscow</td>\n",
       "      <td>13:00:07</td>\n",
       "      <td>Wednesday</td>\n",
       "    </tr>\n",
       "    <tr>\n",
       "      <td>7</td>\n",
       "      <td>F03E1C1F</td>\n",
       "      <td>Feeling This Way</td>\n",
       "      <td>Polina Griffith</td>\n",
       "      <td>dance</td>\n",
       "      <td>Moscow</td>\n",
       "      <td>20:47:49</td>\n",
       "      <td>Wednesday</td>\n",
       "    </tr>\n",
       "    <tr>\n",
       "      <td>8</td>\n",
       "      <td>8FA1D3BE</td>\n",
       "      <td>И вновь продолжается бой</td>\n",
       "      <td>NaN</td>\n",
       "      <td>ruspop</td>\n",
       "      <td>Moscow</td>\n",
       "      <td>09:17:40</td>\n",
       "      <td>Friday</td>\n",
       "    </tr>\n",
       "    <tr>\n",
       "      <td>9</td>\n",
       "      <td>E772D5C0</td>\n",
       "      <td>Pessimist</td>\n",
       "      <td>NaN</td>\n",
       "      <td>dance</td>\n",
       "      <td>Saint-Petersburg</td>\n",
       "      <td>21:20:49</td>\n",
       "      <td>Wednesday</td>\n",
       "    </tr>\n",
       "  </tbody>\n",
       "</table>\n",
       "</div>"
      ],
      "text/plain": [
       "     userID                        Track            artist   genre  \\\n",
       "0  FFB692EC            Kamigata To Boots  The Mass Missile    rock   \n",
       "1  55204538  Delayed Because of Accident  Andreas Rönnberg    rock   \n",
       "2    20EC38            Funiculì funiculà       Mario Lanza     pop   \n",
       "3  A3DD03C9        Dragons in the Sunset        Fire + Ice    folk   \n",
       "4  E2DC1FAE                  Soul People        Space Echo   dance   \n",
       "5  842029A1                    Преданная         IMPERVTOR  rusrap   \n",
       "6  4CB90AA5                         True      Roman Messer   dance   \n",
       "7  F03E1C1F             Feeling This Way   Polina Griffith   dance   \n",
       "8  8FA1D3BE     И вновь продолжается бой               NaN  ruspop   \n",
       "9  E772D5C0                    Pessimist               NaN   dance   \n",
       "\n",
       "             City        time        Day  \n",
       "0  Saint-Petersburg  20:28:33  Wednesday  \n",
       "1            Moscow  14:07:09     Friday  \n",
       "2  Saint-Petersburg  20:58:07  Wednesday  \n",
       "3  Saint-Petersburg  08:37:09     Monday  \n",
       "4            Moscow  08:34:34     Monday  \n",
       "5  Saint-Petersburg  13:09:41     Friday  \n",
       "6            Moscow  13:00:07  Wednesday  \n",
       "7            Moscow  20:47:49  Wednesday  \n",
       "8            Moscow  09:17:40     Friday  \n",
       "9  Saint-Petersburg  21:20:49  Wednesday  "
      ]
     },
     "execution_count": 3,
     "metadata": {},
     "output_type": "execute_result"
    }
   ],
   "source": [
    "# получение первых 10 строк таблицы df\n",
    "df.head(10)"
   ]
  },
  {
   "cell_type": "markdown",
   "metadata": {
    "id": "EO73Kwic_Zct"
   },
   "source": [
    "Одной командой получить общую информацию о таблице:"
   ]
  },
  {
   "cell_type": "code",
   "execution_count": 4,
   "metadata": {
    "id": "DSf2kIb-_Zct"
   },
   "outputs": [
    {
     "name": "stdout",
     "output_type": "stream",
     "text": [
      "<class 'pandas.core.frame.DataFrame'>\n",
      "RangeIndex: 65079 entries, 0 to 65078\n",
      "Data columns (total 7 columns):\n",
      "  userID    65079 non-null object\n",
      "Track       63848 non-null object\n",
      "artist      57876 non-null object\n",
      "genre       63881 non-null object\n",
      "  City      65079 non-null object\n",
      "time        65079 non-null object\n",
      "Day         65079 non-null object\n",
      "dtypes: object(7)\n",
      "memory usage: 3.5+ MB\n"
     ]
    }
   ],
   "source": [
    "# получение общей информации о данных в таблице df\n",
    "df.info()"
   ]
  },
  {
   "cell_type": "markdown",
   "metadata": {
    "id": "TaQ2Iwbr_Zct"
   },
   "source": [
    "Итак, в таблице семь столбцов. Тип данных во всех столбцах — `object`.\n",
    "\n",
    "Согласно документации к данным:\n",
    "* `userID` — идентификатор пользователя;\n",
    "* `Track` — название трека;  \n",
    "* `artist` — имя исполнителя;\n",
    "* `genre` — название жанра;\n",
    "* `City` — город пользователя;\n",
    "* `time` — время начала прослушивания;\n",
    "* `Day` — день недели.\n",
    "\n",
    "В названиях колонок видны три нарушения стиля:\n",
    "1. Строчные буквы сочетаются с прописными.\n",
    "2. Встречаются пробелы.\n",
    "3. Не \"змеиный\" стиль\n",
    "\n",
    "\n",
    "Количество значений в столбцах различается. Значит, в данных есть пропущенные значения.\n"
   ]
  },
  {
   "cell_type": "markdown",
   "metadata": {},
   "source": [
    "<div class=\"alert alert-success\">\n",
    "<b>✔️ Комментарий ревьюера:</b> \n",
    "<br>И это правильный ответ! Отличная работа!\n",
    "</div>"
   ]
  },
  {
   "cell_type": "markdown",
   "metadata": {
    "id": "MCB6-dXG_Zct"
   },
   "source": [
    "**Выводы**\n",
    "\n",
    "В каждой строке таблицы — данные о прослушанном треке. Часть колонок описывает саму композицию: название, исполнителя и жанр. Остальные данные рассказывают о пользователе: из какого он города, когда он слушал музыку. \n",
    "\n",
    "Предварительно можно утверждать, что, данных достаточно для проверки гипотез. Но встречаются пропуски в данных, а в названиях колонок — расхождения с хорошим стилем.\n",
    "\n",
    "Чтобы двигаться дальше, нужно устранить проблемы в данных."
   ]
  },
  {
   "cell_type": "markdown",
   "metadata": {
    "id": "SjYF6Ub9_Zct"
   },
   "source": [
    "## Предобработка данных\n",
    "Исправьте стиль в заголовках столбцов, исключите пропуски. Затем проверьте данные на дубликаты."
   ]
  },
  {
   "cell_type": "markdown",
   "metadata": {
    "id": "dIaKXr29_Zct"
   },
   "source": [
    "### Стиль заголовков\n",
    "Выведите на экран названия столбцов:"
   ]
  },
  {
   "cell_type": "code",
   "execution_count": 5,
   "metadata": {
    "id": "oKOTdF_Q_Zct"
   },
   "outputs": [
    {
     "data": {
      "text/plain": [
       "Index(['  userID', 'Track', 'artist', 'genre', '  City  ', 'time', 'Day'], dtype='object')"
      ]
     },
     "execution_count": 5,
     "metadata": {},
     "output_type": "execute_result"
    }
   ],
   "source": [
    "# перечень названий столбцов таблицы df\n",
    "df.columns"
   ]
  },
  {
   "cell_type": "markdown",
   "metadata": {},
   "source": [
    "<div class=\"alert alert-success\">\n",
    "<b>✔️ Комментарий ревьюера:</b> \n",
    "<br>Отлично, что здесь не использована функцию print() для вывода: ведь это последняя строчка ячейки.\n",
    "</div>"
   ]
  },
  {
   "cell_type": "markdown",
   "metadata": {
    "id": "zj5534cv_Zct"
   },
   "source": [
    "Приведите названия в соответствие с хорошим стилем:\n",
    "* несколько слов в названии запишите в «змеином_регистре»,\n",
    "* все символы сделайте строчными,\n",
    "* устраните пробелы.\n",
    "\n",
    "Для этого переименуйте колонки так:\n",
    "* `'  userID'` → `'user_id'`;\n",
    "* `'Track'` → `'track'`;\n",
    "* `'  City  '` → `'city'`;\n",
    "* `'Day'` → `'day'`."
   ]
  },
  {
   "cell_type": "code",
   "execution_count": 6,
   "metadata": {
    "id": "ISlFqs5y_Zct"
   },
   "outputs": [],
   "source": [
    "# переименование столбцов\n",
    "df = df.rename(columns={'  userID': 'user_id', 'Track': 'track', '  City  ': 'city','Day': 'day'})"
   ]
  },
  {
   "cell_type": "markdown",
   "metadata": {
    "id": "1dqbh00J_Zct"
   },
   "source": [
    "Проверьте результат. Для этого ещё раз выведите на экран названия столбцов:"
   ]
  },
  {
   "cell_type": "code",
   "execution_count": 7,
   "metadata": {
    "id": "d4NOAmTW_Zct"
   },
   "outputs": [
    {
     "data": {
      "text/plain": [
       "Index(['user_id', 'track', 'artist', 'genre', 'city', 'time', 'day'], dtype='object')"
      ]
     },
     "execution_count": 7,
     "metadata": {},
     "output_type": "execute_result"
    }
   ],
   "source": [
    "df.columns"
   ]
  },
  {
   "cell_type": "markdown",
   "metadata": {
    "id": "5ISfbcfY_Zct"
   },
   "source": [
    "### Пропуски значений\n",
    "Сначала посчитайте, сколько в таблице пропущенных значений. Для этого достаточно двух методов `pandas`:"
   ]
  },
  {
   "cell_type": "code",
   "execution_count": 8,
   "metadata": {
    "id": "RskX29qr_Zct"
   },
   "outputs": [
    {
     "data": {
      "text/plain": [
       "user_id       0\n",
       "track      1231\n",
       "artist     7203\n",
       "genre      1198\n",
       "city          0\n",
       "time          0\n",
       "day           0\n",
       "dtype: int64"
      ]
     },
     "execution_count": 8,
     "metadata": {},
     "output_type": "execute_result"
    }
   ],
   "source": [
    "# подсчёт пропусков\n",
    "df.isna().sum()"
   ]
  },
  {
   "cell_type": "markdown",
   "metadata": {
    "id": "qubhgnlO_Zct"
   },
   "source": [
    "Не все пропущенные значения влияют на исследование. Так в `track` и `artist` пропуски не важны для вашей работы. Достаточно заменить их явными обозначениями.\n",
    "\n",
    "Но пропуски в `genre` могут помешать сравнению музыкальных вкусов в Москве и Санкт-Петербурге. На практике было бы правильно установить причину пропусков и восстановить данные. Такой возможности нет в учебном проекте. Придётся:\n",
    "* заполнить и эти пропуски явными обозначениями,\n",
    "* оценить, насколько они повредят расчётам. "
   ]
  },
  {
   "cell_type": "markdown",
   "metadata": {
    "id": "fSv2laPA_Zct"
   },
   "source": [
    "Замените пропущенные значения в столбцах `track`, `artist` и `genre` на строку `'unknown'`. Для этого создайте список `columns_to_replace`, переберите его элементы циклом `for` и для каждого столбца выполните замену пропущенных значений:"
   ]
  },
  {
   "cell_type": "code",
   "execution_count": 9,
   "metadata": {
    "id": "KplB5qWs_Zct"
   },
   "outputs": [],
   "source": [
    "# перебор названий столбцов в цикле и замена пропущенных значений на 'unknown'\n",
    "columns_to_replace = ['track', 'artist', 'genre']\n",
    "for i in columns_to_replace:\n",
    "    df[i] = df[i].fillna('unknown')"
   ]
  },
  {
   "cell_type": "markdown",
   "metadata": {
    "id": "Ilsm-MZo_Zct"
   },
   "source": [
    "Убедитесь, что в таблице не осталось пропусков. Для этого ещё раз посчитайте пропущенные значения."
   ]
  },
  {
   "cell_type": "code",
   "execution_count": 10,
   "metadata": {
    "id": "Tq4nYRX4_Zct"
   },
   "outputs": [
    {
     "data": {
      "text/plain": [
       "user_id    0\n",
       "track      0\n",
       "artist     0\n",
       "genre      0\n",
       "city       0\n",
       "time       0\n",
       "day        0\n",
       "dtype: int64"
      ]
     },
     "execution_count": 10,
     "metadata": {},
     "output_type": "execute_result"
    }
   ],
   "source": [
    "# подсчёт пропусков\n",
    "df.isna().sum()"
   ]
  },
  {
   "cell_type": "markdown",
   "metadata": {},
   "source": [
    "<div class=\"alert alert-success\">\n",
    "<b>✔️ Комментарий ревьюера:</b> \n",
    "<br>Пропуски заменены верно!\n",
    "</div>"
   ]
  },
  {
   "cell_type": "markdown",
   "metadata": {},
   "source": [
    "Посмотрим распределение пропусков жанра по категориям, и распределение пропусков, которые можно попробовать восстановить по названию трека или исполнителю."
   ]
  },
  {
   "cell_type": "code",
   "execution_count": 11,
   "metadata": {
    "scrolled": true
   },
   "outputs": [
    {
     "name": "stdout",
     "output_type": "stream",
     "text": [
      "Распределение пропусков жанра по городам и дням недели (всего 1198 )\n",
      " city\n",
      "Moscow              904\n",
      "Saint-Petersburg    294\n",
      "Name: city, dtype: int64 \n",
      " day\n",
      "Friday       375\n",
      "Monday       516\n",
      "Wednesday    307\n",
      "Name: day, dtype: int64\n",
      "\n",
      "Распределение по городам и дням недели для \"восстанавливаемых\" пропусков (всего  537 )\n",
      " city\n",
      "Moscow              395\n",
      "Saint-Petersburg    142\n",
      "Name: city, dtype: int64 \n",
      " day\n",
      "Friday       205\n",
      "Monday       179\n",
      "Wednesday    153\n",
      "Name: day, dtype: int64\n"
     ]
    }
   ],
   "source": [
    "#Распределение пропусков жанра по городам и дням недели\n",
    "df_without_genre=df[df['genre'] == 'unknown']\n",
    "print('Распределение пропусков жанра по городам и дням недели (всего', df_without_genre['user_id'].count(), ')\\n', \n",
    "df_without_genre.groupby('city')['city'].count(), '\\n', \n",
    "df_without_genre.groupby('day')['day'].count())\n",
    "# Распределение по городам и дням недели для \"восстанавливаемых\" пропусков жанра \n",
    "print('\\nРаспределение по городам и дням недели для \"восстанавливаемых\" пропусков (всего ', \n",
    "      df_without_genre[(df_without_genre['track'] != 'unknown') \n",
    "                       | (df_without_genre['artist'] != 'unknown')]['user_id'].count(),  ')\\n',\n",
    "      df_without_genre[(df_without_genre['track'] != 'unknown')\n",
    "                       | (df_without_genre['artist'] != 'unknown')].groupby('city')['city'].count(), '\\n',\n",
    "      df_without_genre[(df_without_genre['track'] != 'unknown') \n",
    "                       | (df_without_genre['artist'] != 'unknown')].groupby('day')['day'].count())"
   ]
  },
  {
   "cell_type": "markdown",
   "metadata": {},
   "source": [
    "<div class=\"alert alert-success\">\n",
    "<b>✔️ Комментарий ревьюера:</b>\n",
    "<br>👏🏻👏🏻👏🏻 Круто!\n",
    "</div>"
   ]
  },
  {
   "cell_type": "markdown",
   "metadata": {
    "id": "BWKRtBJ3_Zct"
   },
   "source": [
    "### Дубликаты\n",
    "Посчитайте явные дубликаты в таблице одной командой:"
   ]
  },
  {
   "cell_type": "code",
   "execution_count": 12,
   "metadata": {
    "id": "36eES_S0_Zct"
   },
   "outputs": [
    {
     "data": {
      "text/plain": [
       "3826"
      ]
     },
     "execution_count": 12,
     "metadata": {},
     "output_type": "execute_result"
    }
   ],
   "source": [
    "# подсчёт явных дубликатов\n",
    "df.duplicated().sum()"
   ]
  },
  {
   "cell_type": "markdown",
   "metadata": {
    "id": "Ot25h6XR_Zct"
   },
   "source": [
    "Вызовите специальный метод `pandas`, чтобы удалить явные дубликаты:"
   ]
  },
  {
   "cell_type": "code",
   "execution_count": 13,
   "metadata": {
    "id": "exFHq6tt_Zct"
   },
   "outputs": [],
   "source": [
    "# удаление явных дубликатов (с удалением старых индексов и формированием новых)\n",
    "df = df.drop_duplicates().reset_index(drop=True)"
   ]
  },
  {
   "cell_type": "markdown",
   "metadata": {
    "id": "Im2YwBEG_Zct"
   },
   "source": [
    "Ещё раз посчитайте явные дубликаты в таблице — убедитесь, что полностью от них избавились:"
   ]
  },
  {
   "cell_type": "code",
   "execution_count": 14,
   "metadata": {
    "id": "-8PuNWQ0_Zct"
   },
   "outputs": [
    {
     "data": {
      "text/plain": [
       "0"
      ]
     },
     "execution_count": 14,
     "metadata": {},
     "output_type": "execute_result"
    }
   ],
   "source": [
    "# проверка на отсутствие дубликатов\n",
    "df.duplicated().sum()"
   ]
  },
  {
   "cell_type": "markdown",
   "metadata": {
    "id": "QlFBsxAr_Zct"
   },
   "source": [
    "Теперь избавьтесь от неявных дубликатов в колонке `genre`. Например, название одного и того же жанра может быть записано немного по-разному. Такие ошибки тоже повлияют на результат исследования."
   ]
  },
  {
   "cell_type": "markdown",
   "metadata": {
    "id": "eSjWwsOh_Zct"
   },
   "source": [
    "Выведите на экран список уникальных названий жанров, отсортированный в алфавитном порядке. Для этого:\n",
    "* извлеките нужный столбец датафрейма, \n",
    "* примените к нему метод сортировки,\n",
    "* для отсортированного столбца вызовите метод, который вернёт уникальные значения из столбца."
   ]
  },
  {
   "cell_type": "code",
   "execution_count": 15,
   "metadata": {
    "id": "JIUcqzZN_Zct"
   },
   "outputs": [
    {
     "data": {
      "text/plain": [
       "array(['acid', 'acoustic', 'action', 'adult', 'africa', 'afrikaans',\n",
       "       'alternative', 'alternativepunk', 'ambient', 'americana',\n",
       "       'animated', 'anime', 'arabesk', 'arabic', 'arena',\n",
       "       'argentinetango', 'art', 'audiobook', 'author', 'avantgarde',\n",
       "       'axé', 'baile', 'balkan', 'beats', 'bigroom', 'black', 'bluegrass',\n",
       "       'blues', 'bollywood', 'bossa', 'brazilian', 'breakbeat', 'breaks',\n",
       "       'broadway', 'cantautori', 'cantopop', 'canzone', 'caribbean',\n",
       "       'caucasian', 'celtic', 'chamber', 'chanson', 'children', 'chill',\n",
       "       'chinese', 'choral', 'christian', 'christmas', 'classical',\n",
       "       'classicmetal', 'club', 'colombian', 'comedy', 'conjazz',\n",
       "       'contemporary', 'country', 'cuban', 'dance', 'dancehall',\n",
       "       'dancepop', 'dark', 'death', 'deep', 'deutschrock', 'deutschspr',\n",
       "       'dirty', 'disco', 'dnb', 'documentary', 'downbeat', 'downtempo',\n",
       "       'drum', 'dub', 'dubstep', 'eastern', 'easy', 'electronic',\n",
       "       'electropop', 'emo', 'entehno', 'epicmetal', 'estrada', 'ethnic',\n",
       "       'eurofolk', 'european', 'experimental', 'extrememetal', 'fado',\n",
       "       'fairytail', 'film', 'fitness', 'flamenco', 'folk', 'folklore',\n",
       "       'folkmetal', 'folkrock', 'folktronica', 'forró', 'frankreich',\n",
       "       'französisch', 'french', 'funk', 'future', 'gangsta', 'garage',\n",
       "       'german', 'ghazal', 'gitarre', 'glitch', 'gospel', 'gothic',\n",
       "       'grime', 'grunge', 'gypsy', 'handsup', \"hard'n'heavy\", 'hardcore',\n",
       "       'hardstyle', 'hardtechno', 'hip', 'hip-hop', 'hiphop',\n",
       "       'historisch', 'holiday', 'hop', 'horror', 'house', 'hymn', 'idm',\n",
       "       'independent', 'indian', 'indie', 'indipop', 'industrial',\n",
       "       'inspirational', 'instrumental', 'international', 'irish', 'jam',\n",
       "       'japanese', 'jazz', 'jewish', 'jpop', 'jungle', 'k-pop',\n",
       "       'karadeniz', 'karaoke', 'kayokyoku', 'korean', 'laiko', 'latin',\n",
       "       'latino', 'leftfield', 'local', 'lounge', 'loungeelectronic',\n",
       "       'lovers', 'malaysian', 'mandopop', 'marschmusik', 'meditative',\n",
       "       'mediterranean', 'melodic', 'metal', 'metalcore', 'mexican',\n",
       "       'middle', 'minimal', 'miscellaneous', 'modern', 'mood', 'mpb',\n",
       "       'muslim', 'native', 'neoklassik', 'neue', 'new', 'newage',\n",
       "       'newwave', 'nu', 'nujazz', 'numetal', 'oceania', 'old', 'opera',\n",
       "       'orchestral', 'other', 'piano', 'podcasts', 'pop', 'popdance',\n",
       "       'popelectronic', 'popeurodance', 'poprussian', 'post',\n",
       "       'posthardcore', 'postrock', 'power', 'progmetal', 'progressive',\n",
       "       'psychedelic', 'punjabi', 'punk', 'quebecois', 'ragga', 'ram',\n",
       "       'rancheras', 'rap', 'rave', 'reggae', 'reggaeton', 'regional',\n",
       "       'relax', 'religious', 'retro', 'rhythm', 'rnb', 'rnr', 'rock',\n",
       "       'rockabilly', 'rockalternative', 'rockindie', 'rockother',\n",
       "       'romance', 'roots', 'ruspop', 'rusrap', 'rusrock', 'russian',\n",
       "       'salsa', 'samba', 'scenic', 'schlager', 'self', 'sertanejo',\n",
       "       'shanson', 'shoegazing', 'showtunes', 'singer', 'ska', 'skarock',\n",
       "       'slow', 'smooth', 'soft', 'soul', 'soulful', 'sound', 'soundtrack',\n",
       "       'southern', 'specialty', 'speech', 'spiritual', 'sport',\n",
       "       'stonerrock', 'surf', 'swing', 'synthpop', 'synthrock',\n",
       "       'sängerportrait', 'tango', 'tanzorchester', 'taraftar', 'tatar',\n",
       "       'tech', 'techno', 'teen', 'thrash', 'top', 'traditional',\n",
       "       'tradjazz', 'trance', 'tribal', 'trip', 'triphop', 'tropical',\n",
       "       'türk', 'türkçe', 'ukrrock', 'unknown', 'urban', 'uzbek',\n",
       "       'variété', 'vi', 'videogame', 'vocal', 'western', 'world',\n",
       "       'worldbeat', 'ïîï', 'электроника'], dtype=object)"
      ]
     },
     "execution_count": 15,
     "metadata": {},
     "output_type": "execute_result"
    }
   ],
   "source": [
    "# Просмотр уникальных названий жанров\n",
    "#sorted(df['genre'].unique())\n",
    "df['genre'].sort_values().unique()"
   ]
  },
  {
   "cell_type": "markdown",
   "metadata": {},
   "source": [
    "<div class=\"alert alert-warning\">\n",
    "<b>⚠️ Комментарий ревьюера:</b> \n",
    "<br>Для сортировки датафрейма, лучше использьзовать метод .sort_values():\n",
    "    \n",
    "    df['genre'].sort_values().unique()\n",
    "</div>"
   ]
  },
  {
   "cell_type": "markdown",
   "metadata": {},
   "source": [
    "<div class=\"alert alert-info\">\n",
    "<b>Комментарий студента:</b>\n",
    "<br> Спасибо, исправил здесь и [ниже](#correction_2).\n",
    "    \n",
    "И тут возник вопрос. В блоке комментария почему-то не срабатывает внутренняя ссылка на второе изменение.\n",
    "</div>\n",
    "[ниже](#correction_2) и здесь тоже, а в следующем блоке (строчкой ниже) все работает. Как сделать, чтобы срабатывало в этих случаях? "
   ]
  },
  {
   "cell_type": "markdown",
   "metadata": {},
   "source": [
    "<div class=\"alert alert-success\">\n",
    "<b>✔️ Комментарий ревьюера v2:</b>\n",
    "<br>Думаю, что это связано с конфликтом html и markdown\n",
    "</div>"
   ]
  },
  {
   "cell_type": "markdown",
   "metadata": {
    "id": "qej-Qmuo_Zct"
   },
   "source": [
    "и [ниже](#correction_2)\n",
    "\n",
    "\n",
    "Просмотрите список и найдите неявные дубликаты названия `hiphop`. Это могут быть названия с ошибками или альтернативные названия того же жанра.\n",
    "\n",
    "Вы увидите следующие неявные дубликаты:\n",
    "* *hip*,\n",
    "* *hop*,\n",
    "* *hip-hop*.\n",
    "\n",
    "Чтобы очистить от них таблицу, напишите функцию `replace_wrong_genres()` с двумя параметрами: \n",
    "* `wrong_genres` — список дубликатов,\n",
    "* `correct_genre` — строка с правильным значением.\n",
    "\n",
    "Функция должна исправить колонку `genre` в таблице `df`: заменить каждое значение из списка `wrong_genres` на значение из `correct_genre`."
   ]
  },
  {
   "cell_type": "code",
   "execution_count": 16,
   "metadata": {
    "id": "ErNDkmns_Zct"
   },
   "outputs": [],
   "source": [
    "# Функция для замены неявных дубликатов\n",
    "def replace_wrong_genres(wrong_genres,correct_genre):\n",
    "    for i in wrong_genres:\n",
    "        df['genre'] = df['genre'].replace(i, correct_genre)"
   ]
  },
  {
   "cell_type": "markdown",
   "metadata": {
    "id": "aDoBJxbA_Zct"
   },
   "source": [
    "Вызовите `replace_wrong_genres()` и передайте ей такие аргументы, чтобы она устранила неявные дубликаты: вместо `hip`, `hop` и `hip-hop` в таблице должно быть значение `hiphop`:"
   ]
  },
  {
   "cell_type": "code",
   "execution_count": 17,
   "metadata": {
    "id": "YN5i2hpmSo09"
   },
   "outputs": [],
   "source": [
    "# Устранение неявных дубликатов\n",
    "replace_wrong_genres(['hip', 'hop', 'hip-hop'], 'hiphop')\n",
    "# Дополнительно устраняется дублирование\n",
    "replace_wrong_genres(['электроника'], 'electronic')\n"
   ]
  },
  {
   "cell_type": "markdown",
   "metadata": {},
   "source": [
    "**Нужно дополнительно проверить (проконсультироваться) следующие жанры на дублирование**\n",
    "* (['poprussian'], 'ruspop')\n",
    "* (['türk'], 'türkçe')\n",
    "* ['latino'], 'latin')\n",
    "* (['frankreich', 'französisch'], 'french')\n",
    "* ['neue'], 'new')\n",
    "\n",
    "Проверяем встречаемость дублирующихся жанров"
   ]
  },
  {
   "cell_type": "code",
   "execution_count": 18,
   "metadata": {},
   "outputs": [
    {
     "name": "stdout",
     "output_type": "stream",
     "text": [
      "Количество использований дублирующихся жанров:\n",
      "poprussian - 1\n",
      "ruspop - 1910\n",
      "türk - 4\n",
      "türkçe - 25\n",
      "latino - 2\n",
      "latin - 921\n",
      "frankreich - 1\n",
      "französisch - 1\n",
      "french - 83\n",
      "neue - 1\n",
      "new - 568\n"
     ]
    }
   ],
   "source": [
    "duplicated_genre_name = ['poprussian', 'ruspop', \n",
    "                          'türk', 'türkçe',\n",
    "                         'latino', 'latin',\n",
    "                          'frankreich', 'französisch', 'french',\n",
    "                          'neue', 'new'\n",
    "                         ]\n",
    "print('Количество использований дублирующихся жанров:')\n",
    "for i in duplicated_genre_name:\n",
    "    print(i, '-', df[df['genre'] == i]['genre'].count())"
   ]
  },
  {
   "cell_type": "markdown",
   "metadata": {},
   "source": [
    "Переименовываем редко встречающиеся дублирующиеся жанры на часто встречающиеся"
   ]
  },
  {
   "cell_type": "code",
   "execution_count": 19,
   "metadata": {},
   "outputs": [],
   "source": [
    "replace_wrong_genres(['poprussian'], 'ruspop')\n",
    "replace_wrong_genres(['türk'], 'türkçe')\n",
    "replace_wrong_genres(['latino'], 'latin')\n",
    "replace_wrong_genres(['frankreich', 'französisch'], 'french')\n",
    "replace_wrong_genres(['neue'], 'new')"
   ]
  },
  {
   "cell_type": "markdown",
   "metadata": {},
   "source": [
    "<div class=\"alert alert-success\">\n",
    "<b>✔️ Комментарий ревьюера:</b> \n",
    "<br>Круто, что ты вышел за рамки задания и решил заменить дубликаты ещё для нескольких значений!\n",
    "</div>"
   ]
  },
  {
   "cell_type": "markdown",
   "metadata": {
    "id": "zQKF16_RG15m"
   },
   "source": [
    "Проверьте, что заменили неправильные названия: <a id='correction_2'></a>\n",
    "\n",
    "*   hip\n",
    "*   hop\n",
    "*   hip-hop\n",
    "\n",
    "Выведите отсортированный список уникальных значений столбца `genre`: "
   ]
  },
  {
   "cell_type": "code",
   "execution_count": 20,
   "metadata": {
    "id": "wvixALnFG15m"
   },
   "outputs": [
    {
     "data": {
      "text/plain": [
       "array(['acid', 'acoustic', 'action', 'adult', 'africa', 'afrikaans',\n",
       "       'alternative', 'alternativepunk', 'ambient', 'americana',\n",
       "       'animated', 'anime', 'arabesk', 'arabic', 'arena',\n",
       "       'argentinetango', 'art', 'audiobook', 'author', 'avantgarde',\n",
       "       'axé', 'baile', 'balkan', 'beats', 'bigroom', 'black', 'bluegrass',\n",
       "       'blues', 'bollywood', 'bossa', 'brazilian', 'breakbeat', 'breaks',\n",
       "       'broadway', 'cantautori', 'cantopop', 'canzone', 'caribbean',\n",
       "       'caucasian', 'celtic', 'chamber', 'chanson', 'children', 'chill',\n",
       "       'chinese', 'choral', 'christian', 'christmas', 'classical',\n",
       "       'classicmetal', 'club', 'colombian', 'comedy', 'conjazz',\n",
       "       'contemporary', 'country', 'cuban', 'dance', 'dancehall',\n",
       "       'dancepop', 'dark', 'death', 'deep', 'deutschrock', 'deutschspr',\n",
       "       'dirty', 'disco', 'dnb', 'documentary', 'downbeat', 'downtempo',\n",
       "       'drum', 'dub', 'dubstep', 'eastern', 'easy', 'electronic',\n",
       "       'electropop', 'emo', 'entehno', 'epicmetal', 'estrada', 'ethnic',\n",
       "       'eurofolk', 'european', 'experimental', 'extrememetal', 'fado',\n",
       "       'fairytail', 'film', 'fitness', 'flamenco', 'folk', 'folklore',\n",
       "       'folkmetal', 'folkrock', 'folktronica', 'forró', 'french', 'funk',\n",
       "       'future', 'gangsta', 'garage', 'german', 'ghazal', 'gitarre',\n",
       "       'glitch', 'gospel', 'gothic', 'grime', 'grunge', 'gypsy',\n",
       "       'handsup', \"hard'n'heavy\", 'hardcore', 'hardstyle', 'hardtechno',\n",
       "       'hiphop', 'historisch', 'holiday', 'horror', 'house', 'hymn',\n",
       "       'idm', 'independent', 'indian', 'indie', 'indipop', 'industrial',\n",
       "       'inspirational', 'instrumental', 'international', 'irish', 'jam',\n",
       "       'japanese', 'jazz', 'jewish', 'jpop', 'jungle', 'k-pop',\n",
       "       'karadeniz', 'karaoke', 'kayokyoku', 'korean', 'laiko', 'latin',\n",
       "       'leftfield', 'local', 'lounge', 'loungeelectronic', 'lovers',\n",
       "       'malaysian', 'mandopop', 'marschmusik', 'meditative',\n",
       "       'mediterranean', 'melodic', 'metal', 'metalcore', 'mexican',\n",
       "       'middle', 'minimal', 'miscellaneous', 'modern', 'mood', 'mpb',\n",
       "       'muslim', 'native', 'neoklassik', 'new', 'newage', 'newwave', 'nu',\n",
       "       'nujazz', 'numetal', 'oceania', 'old', 'opera', 'orchestral',\n",
       "       'other', 'piano', 'podcasts', 'pop', 'popdance', 'popelectronic',\n",
       "       'popeurodance', 'post', 'posthardcore', 'postrock', 'power',\n",
       "       'progmetal', 'progressive', 'psychedelic', 'punjabi', 'punk',\n",
       "       'quebecois', 'ragga', 'ram', 'rancheras', 'rap', 'rave', 'reggae',\n",
       "       'reggaeton', 'regional', 'relax', 'religious', 'retro', 'rhythm',\n",
       "       'rnb', 'rnr', 'rock', 'rockabilly', 'rockalternative', 'rockindie',\n",
       "       'rockother', 'romance', 'roots', 'ruspop', 'rusrap', 'rusrock',\n",
       "       'russian', 'salsa', 'samba', 'scenic', 'schlager', 'self',\n",
       "       'sertanejo', 'shanson', 'shoegazing', 'showtunes', 'singer', 'ska',\n",
       "       'skarock', 'slow', 'smooth', 'soft', 'soul', 'soulful', 'sound',\n",
       "       'soundtrack', 'southern', 'specialty', 'speech', 'spiritual',\n",
       "       'sport', 'stonerrock', 'surf', 'swing', 'synthpop', 'synthrock',\n",
       "       'sängerportrait', 'tango', 'tanzorchester', 'taraftar', 'tatar',\n",
       "       'tech', 'techno', 'teen', 'thrash', 'top', 'traditional',\n",
       "       'tradjazz', 'trance', 'tribal', 'trip', 'triphop', 'tropical',\n",
       "       'türkçe', 'ukrrock', 'unknown', 'urban', 'uzbek', 'variété', 'vi',\n",
       "       'videogame', 'vocal', 'western', 'world', 'worldbeat', 'ïîï'],\n",
       "      dtype=object)"
      ]
     },
     "execution_count": 20,
     "metadata": {},
     "output_type": "execute_result"
    }
   ],
   "source": [
    "\n",
    "# Проверка на неявные дубликаты\n",
    "#sorted(df['genre'].unique())\n",
    "df['genre'].sort_values().unique()"
   ]
  },
  {
   "cell_type": "markdown",
   "metadata": {
    "id": "jz6a9-7HQUDd"
   },
   "source": [
    "**Выводы**\n",
    "\n",
    "Предобработка обнаружила три проблемы в данных:\n",
    "\n",
    "- нарушения в стиле заголовков,\n",
    "- пропущенные значения,\n",
    "- дубликаты — явные и неявные.\n",
    "\n",
    "Вы исправили заголовки, чтобы упростить работу с таблицей. Без дубликатов исследование станет более точным.\n",
    "\n",
    "Пропущенные значения вы заменили на `'unknown'`. Ещё предстоит увидеть, не повредят ли исследованию пропуски в колонке `genre`.\n",
    "\n",
    "Примерно половина записей с отсутствующим жанром содержит название и/или исполнителя, по которым можно попробовать восстановить жанр.\n",
    "\n",
    "Теперь можно перейти к проверке гипотез. "
   ]
  },
  {
   "cell_type": "markdown",
   "metadata": {},
   "source": [
    "<div class=\"alert alert-success\">\n",
    "<b>✔️ Комментарий ревьюера:</b> \n",
    "<br>Супер! Дубликаты победили)\n",
    "</div>"
   ]
  },
  {
   "cell_type": "code",
   "execution_count": 21,
   "metadata": {},
   "outputs": [
    {
     "name": "stdout",
     "output_type": "stream",
     "text": [
      "Распределение пропусков жанра по городам и дням недели (всего 1127 )\n",
      " city\n",
      "Moscow              849\n",
      "Saint-Petersburg    278\n",
      "Name: city, dtype: int64 \n",
      " day\n",
      "Friday       358\n",
      "Monday       488\n",
      "Wednesday    281\n",
      "Name: day, dtype: int64\n",
      "\n",
      "Распределение по городам и дням недели для \"восстанавливаемых\" пропусков (всего  508 )\n",
      " city\n",
      "Moscow              377\n",
      "Saint-Petersburg    131\n",
      "Name: city, dtype: int64 \n",
      " day\n",
      "Friday       193\n",
      "Monday       172\n",
      "Wednesday    143\n",
      "Name: day, dtype: int64\n"
     ]
    }
   ],
   "source": [
    "#Распределение пропусков жанра по городам и дням недели\n",
    "df_without_genre=df[df['genre'] == 'unknown']\n",
    "print('Распределение пропусков жанра по городам и дням недели (всего', df_without_genre['user_id'].count(), ')\\n', \n",
    "df_without_genre.groupby('city')['city'].count(), '\\n', \n",
    "df_without_genre.groupby('day')['day'].count())\n",
    "# Распределение по городам и дням недели для \"восстанавливаемых\" пропусков жанра \n",
    "print('\\nРаспределение по городам и дням недели для \"восстанавливаемых\" пропусков (всего ', \n",
    "      df_without_genre[(df_without_genre['track'] != 'unknown') \n",
    "                       | (df_without_genre['artist'] != 'unknown')]['user_id'].count(),  ')\\n',\n",
    "      df_without_genre[(df_without_genre['track'] != 'unknown')\n",
    "                       | (df_without_genre['artist'] != 'unknown')].groupby('city')['city'].count(), '\\n',\n",
    "      df_without_genre[(df_without_genre['track'] != 'unknown') \n",
    "                       | (df_without_genre['artist'] != 'unknown')].groupby('day')['day'].count())\n"
   ]
  },
  {
   "cell_type": "code",
   "execution_count": 22,
   "metadata": {},
   "outputs": [
    {
     "data": {
      "text/html": [
       "<div>\n",
       "<style scoped>\n",
       "    .dataframe tbody tr th:only-of-type {\n",
       "        vertical-align: middle;\n",
       "    }\n",
       "\n",
       "    .dataframe tbody tr th {\n",
       "        vertical-align: top;\n",
       "    }\n",
       "\n",
       "    .dataframe thead th {\n",
       "        text-align: right;\n",
       "    }\n",
       "</style>\n",
       "<table border=\"1\" class=\"dataframe\">\n",
       "  <thead>\n",
       "    <tr style=\"text-align: right;\">\n",
       "      <th></th>\n",
       "      <th>user_id</th>\n",
       "      <th>track</th>\n",
       "      <th>artist</th>\n",
       "      <th>genre</th>\n",
       "      <th>city</th>\n",
       "      <th>time</th>\n",
       "      <th>day</th>\n",
       "    </tr>\n",
       "  </thead>\n",
       "  <tbody>\n",
       "    <tr>\n",
       "      <td>613</td>\n",
       "      <td>647B7722</td>\n",
       "      <td>Thing Called Love</td>\n",
       "      <td>Wolfram</td>\n",
       "      <td>unknown</td>\n",
       "      <td>Moscow</td>\n",
       "      <td>20:23:26</td>\n",
       "      <td>Monday</td>\n",
       "    </tr>\n",
       "    <tr>\n",
       "      <td>17097</td>\n",
       "      <td>E166EE5B</td>\n",
       "      <td>A Thing Called Love</td>\n",
       "      <td>Wolfram</td>\n",
       "      <td>indie</td>\n",
       "      <td>Saint-Petersburg</td>\n",
       "      <td>21:43:28</td>\n",
       "      <td>Friday</td>\n",
       "    </tr>\n",
       "    <tr>\n",
       "      <td>1378</td>\n",
       "      <td>C1C70D5C</td>\n",
       "      <td>Only for Tonight</td>\n",
       "      <td>Late Night Alumni</td>\n",
       "      <td>unknown</td>\n",
       "      <td>Moscow</td>\n",
       "      <td>20:15:09</td>\n",
       "      <td>Friday</td>\n",
       "    </tr>\n",
       "    <tr>\n",
       "      <td>42762</td>\n",
       "      <td>49602641</td>\n",
       "      <td>Lament</td>\n",
       "      <td>Late Night Alumni</td>\n",
       "      <td>electronic</td>\n",
       "      <td>Saint-Petersburg</td>\n",
       "      <td>09:55:56</td>\n",
       "      <td>Monday</td>\n",
       "    </tr>\n",
       "    <tr>\n",
       "      <td>47793</td>\n",
       "      <td>58909942</td>\n",
       "      <td>Empty Streets</td>\n",
       "      <td>Late Night Alumni</td>\n",
       "      <td>dance</td>\n",
       "      <td>Saint-Petersburg</td>\n",
       "      <td>13:17:19</td>\n",
       "      <td>Wednesday</td>\n",
       "    </tr>\n",
       "    <tr>\n",
       "      <td>...</td>\n",
       "      <td>...</td>\n",
       "      <td>...</td>\n",
       "      <td>...</td>\n",
       "      <td>...</td>\n",
       "      <td>...</td>\n",
       "      <td>...</td>\n",
       "      <td>...</td>\n",
       "    </tr>\n",
       "    <tr>\n",
       "      <td>57593</td>\n",
       "      <td>33A091A7</td>\n",
       "      <td>Groupies Anthem (F.U.C.K.)</td>\n",
       "      <td>Coockoo</td>\n",
       "      <td>unknown</td>\n",
       "      <td>Moscow</td>\n",
       "      <td>13:26:39</td>\n",
       "      <td>Wednesday</td>\n",
       "    </tr>\n",
       "    <tr>\n",
       "      <td>6599</td>\n",
       "      <td>51B80D88</td>\n",
       "      <td>Separation</td>\n",
       "      <td>David Parsons</td>\n",
       "      <td>electronic</td>\n",
       "      <td>Saint-Petersburg</td>\n",
       "      <td>20:20:22</td>\n",
       "      <td>Wednesday</td>\n",
       "    </tr>\n",
       "    <tr>\n",
       "      <td>59126</td>\n",
       "      <td>184FE40F</td>\n",
       "      <td>Om</td>\n",
       "      <td>David Parsons</td>\n",
       "      <td>unknown</td>\n",
       "      <td>Moscow</td>\n",
       "      <td>09:39:28</td>\n",
       "      <td>Monday</td>\n",
       "    </tr>\n",
       "    <tr>\n",
       "      <td>52951</td>\n",
       "      <td>3BD7DA</td>\n",
       "      <td>EDM Festival</td>\n",
       "      <td>DJ Mix</td>\n",
       "      <td>electronic</td>\n",
       "      <td>Moscow</td>\n",
       "      <td>21:21:53</td>\n",
       "      <td>Wednesday</td>\n",
       "    </tr>\n",
       "    <tr>\n",
       "      <td>60103</td>\n",
       "      <td>2885F2AA</td>\n",
       "      <td>Dolbit normalno</td>\n",
       "      <td>DJ Mix</td>\n",
       "      <td>unknown</td>\n",
       "      <td>Moscow</td>\n",
       "      <td>08:31:46</td>\n",
       "      <td>Friday</td>\n",
       "    </tr>\n",
       "  </tbody>\n",
       "</table>\n",
       "<p>115 rows × 7 columns</p>\n",
       "</div>"
      ],
      "text/plain": [
       "        user_id                       track             artist       genre  \\\n",
       "613    647B7722           Thing Called Love            Wolfram     unknown   \n",
       "17097  E166EE5B         A Thing Called Love            Wolfram       indie   \n",
       "1378   C1C70D5C            Only for Tonight  Late Night Alumni     unknown   \n",
       "42762  49602641                      Lament  Late Night Alumni  electronic   \n",
       "47793  58909942               Empty Streets  Late Night Alumni       dance   \n",
       "...         ...                         ...                ...         ...   \n",
       "57593  33A091A7  Groupies Anthem (F.U.C.K.)            Coockoo     unknown   \n",
       "6599   51B80D88                  Separation      David Parsons  electronic   \n",
       "59126  184FE40F                          Om      David Parsons     unknown   \n",
       "52951    3BD7DA                EDM Festival             DJ Mix  electronic   \n",
       "60103  2885F2AA             Dolbit normalno             DJ Mix     unknown   \n",
       "\n",
       "                   city      time        day  \n",
       "613              Moscow  20:23:26     Monday  \n",
       "17097  Saint-Petersburg  21:43:28     Friday  \n",
       "1378             Moscow  20:15:09     Friday  \n",
       "42762  Saint-Petersburg  09:55:56     Monday  \n",
       "47793  Saint-Petersburg  13:17:19  Wednesday  \n",
       "...                 ...       ...        ...  \n",
       "57593            Moscow  13:26:39  Wednesday  \n",
       "6599   Saint-Petersburg  20:20:22  Wednesday  \n",
       "59126            Moscow  09:39:28     Monday  \n",
       "52951            Moscow  21:21:53  Wednesday  \n",
       "60103            Moscow  08:31:46     Friday  \n",
       "\n",
       "[115 rows x 7 columns]"
      ]
     },
     "execution_count": 22,
     "metadata": {},
     "output_type": "execute_result"
    }
   ],
   "source": [
    "res = pd.DataFrame()\n",
    "genre_dictionary = {} # словарь для восстановления жанра по автору\n",
    "for i in df_without_genre['artist'].unique():\n",
    "    if ((i != 'unknown')\n",
    "        and (len(df[(df['artist'] == i) & (df['genre'] != 'unknown')]) != 0)):\n",
    "        # для анализа добавляю треки с пустым жанром исполнителя i\n",
    "        #res = res.append(df_without_genre[(df_without_genre['artist'] == i)]) \n",
    "        # добавляю  треки с известным жанром исполнителя i\n",
    "        #res = res.append(df[(df['artist'] == i) & (df['genre'] != 'unknown') & (df['artist'] == i)]) \n",
    "        res = res.append(df.query('@i==artist')) # Все вместе\n",
    "\n",
    "res#.groupby('genre')['genre'].count().sort_values()"
   ]
  },
  {
   "cell_type": "markdown",
   "metadata": {},
   "source": [
    "<div class=\"alert alert-info\">\n",
    "<b>Комментарий студента:</b>\n",
    "    \n",
    "Проверил предположение о возможности восстановления жанра трека по исполнителю и названию. \n",
    "    \n",
    "Получил таблицу треков с неизвестным жанром, у исполнителей которых есть треки с известным жанром, и объеденил их.\n",
    "\n",
    "В результате анализа выявлены исполнители, треки которых имеют разные жанры, например, у \"Late Night Alumni\" есть треки жанров electronic и dance.\n",
    "\n",
    "<b> Значит, восстановление жанра по автору не может быть выполнено однозначно и достоверно :( </b> \n",
    "        \n",
    "Кроме того, кол-во таких треков мало, и в лучшем случае можно было бы восстановить около 5 % треков от общего числа треков с неизвестным жанром.\n",
    "Затея с восстановлением только по названию композиции может дать еще менее достоверные результаты.\n",
    "<br>\n",
    "</div>"
   ]
  },
  {
   "cell_type": "markdown",
   "metadata": {
    "id": "WttZHXH0SqKk"
   },
   "source": [
    "## Проверка гипотез"
   ]
  },
  {
   "cell_type": "markdown",
   "metadata": {
    "id": "Im936VVi_Zcu"
   },
   "source": [
    "### Сравнение поведения пользователей двух столиц"
   ]
  },
  {
   "cell_type": "markdown",
   "metadata": {
    "id": "nwt_MuaL_Zcu"
   },
   "source": [
    "Первая гипотеза утверждает, что пользователи по-разному слушают музыку в Москве и Санкт-Петербурге. Проверьте это предположение по данным о трёх днях недели — понедельнике, среде и пятнице. Для этого:\n",
    "\n",
    "* Разделите пользователей Москвы и Санкт-Петербурга\n",
    "* Сравните, сколько треков послушала каждая группа пользователей в понедельник, среду и пятницу.\n"
   ]
  },
  {
   "cell_type": "markdown",
   "metadata": {
    "id": "8Dw_YMmT_Zcu"
   },
   "source": [
    "Для тренировки сначала выполните каждый из расчётов по отдельности. \n",
    "\n",
    "Оцените активность пользователей в каждом городе. Сгруппируйте данные по городу и посчитайте прослушивания в каждой группе.\n",
    "\n"
   ]
  },
  {
   "cell_type": "code",
   "execution_count": 23,
   "metadata": {
    "id": "0_Qs96oh_Zcu"
   },
   "outputs": [
    {
     "data": {
      "text/plain": [
       "city\n",
       "Moscow              42741\n",
       "Saint-Petersburg    18512\n",
       "Name: time, dtype: int64"
      ]
     },
     "execution_count": 23,
     "metadata": {},
     "output_type": "execute_result"
    }
   ],
   "source": [
    "# Подсчёт прослушиваний в каждом городе\n",
    "df.groupby('city')['time'].count()"
   ]
  },
  {
   "cell_type": "markdown",
   "metadata": {
    "id": "dzli3w8o_Zcu"
   },
   "source": [
    "В Москве прослушиваний больше, чем в Петербурге. Из этого не следует, что московские пользователи чаще слушают музыку. Просто самих пользователей в Москве больше.\n",
    "\n",
    "Теперь сгруппируйте данные по дню недели и подсчитайте прослушивания в понедельник, среду и пятницу. Учтите, что в данных есть информация только о прослушиваниях только за эти дни.\n"
   ]
  },
  {
   "cell_type": "code",
   "execution_count": 24,
   "metadata": {
    "id": "uZMKjiJz_Zcu"
   },
   "outputs": [
    {
     "data": {
      "text/plain": [
       "day\n",
       "Friday       21840\n",
       "Monday       21354\n",
       "Wednesday    18059\n",
       "Name: time, dtype: int64"
      ]
     },
     "execution_count": 24,
     "metadata": {},
     "output_type": "execute_result"
    }
   ],
   "source": [
    "# Подсчёт прослушиваний в каждый из трёх дней\n",
    "df.groupby('day')['time'].count()"
   ]
  },
  {
   "cell_type": "markdown",
   "metadata": {
    "id": "cC2tNrlL_Zcu"
   },
   "source": [
    "В среднем пользователи из двух городов менее активны по средам. Но картина может измениться, если рассмотреть каждый город в отдельности."
   ]
  },
  {
   "cell_type": "markdown",
   "metadata": {
    "id": "POzs8bGa_Zcu"
   },
   "source": [
    "Вы видели, как работает группировка по городу и по дням недели. Теперь напишите функцию, которая объединит два эти расчёта.\n",
    "\n",
    "Создайте функцию `number_tracks()`, которая посчитает прослушивания для заданного дня и города. Ей понадобятся два параметра:\n",
    "* день недели,\n",
    "* название города.\n",
    "\n",
    "В функции сохраните в переменную строки исходной таблицы, у которых значение:\n",
    "  * в колонке `day` равно параметру `day`,\n",
    "  * в колонке `city` равно параметру `city`.\n",
    "\n",
    "Для этого примените последовательную фильтрацию с логической индексацией.\n",
    "\n",
    "Затем посчитайте значения в столбце `user_id` получившейся таблицы. Результат сохраните в новую переменную. Верните эту переменную из функции."
   ]
  },
  {
   "cell_type": "code",
   "execution_count": 25,
   "metadata": {
    "id": "Nz3GdQB1_Zcu"
   },
   "outputs": [],
   "source": [
    "# <создание функции number_tracks()>\n",
    "# Объявляется функция с двумя параметрами: day, city.\n",
    "def number_tracks(day,city):\n",
    "    \n",
    "# В переменной track_list сохраняются те строки таблицы df, для которых \n",
    "# значение в столбце 'day' равно параметру day и одновременно значение\n",
    "# в столбце 'city' равно параметру city (используйте последовательную фильтрацию\n",
    "# с помощью логической индексации).\n",
    "    track_list = df[(df['day'] == day) & (df['city'] == city)]\n",
    "    \n",
    "# В переменной track_list_count сохраняется число значений столбца 'user_id',\n",
    "# рассчитанное методом count() для таблицы track_list.\n",
    "    track_list_count = track_list['user_id'].count()\n",
    "    \n",
    "# Функция возвращает число - значение track_list_count.\n",
    "    return track_list_count\n",
    "\n",
    "# Функция для подсчёта прослушиваний для конкретного города и дня.\n",
    "# С помощью последовательной фильтрации с логической индексацией она \n",
    "# сначала получит из исходной таблицы строки с нужным днём,\n",
    "# затем из результата отфильтрует строки с нужным городом,\n",
    "# методом count() посчитает количество значений в колонке user_id. \n",
    "# Это количество функция вернёт в качестве результата"
   ]
  },
  {
   "cell_type": "markdown",
   "metadata": {
    "id": "ytf7xFrFJQ2r"
   },
   "source": [
    "Вызовите `number_tracks()` шесть раз, меняя значение параметров — так, чтобы получить данные для каждого города в каждый из трёх дней."
   ]
  },
  {
   "cell_type": "code",
   "execution_count": 26,
   "metadata": {
    "id": "rJcRATNQ_Zcu"
   },
   "outputs": [
    {
     "name": "stdout",
     "output_type": "stream",
     "text": [
      "Количество прослушиваний в городе Москва в понедельник - 15740\n",
      "Количество прослушиваний в городе Санкт-Петербург в понедельник - 5614\n",
      "Количество прослушиваний в городе Москва в среду - 11056\n",
      "Количество прослушиваний в городе Санкт-Петербург в среду - 7003\n",
      "Количество прослушиваний в городе Москва в пятницу - 15945\n",
      "Количество прослушиваний в городе Санкт-Петербург в пятницу - 5895\n"
     ]
    }
   ],
   "source": [
    "# количество прослушиваний в Москве по понедельникам\n",
    "number_tracks('Friday','Moscow')\n",
    "# Англо-русский словарь \n",
    "dictionary = { \n",
    "    'Moscow': 'Москва', \n",
    "    'Saint-Petersburg': 'Санкт-Петербург', \n",
    "    'Friday': 'пятницу', \n",
    "    'Monday': 'понедельник', \n",
    "    'Wednesday': 'среду'}\n",
    "for j in ['Monday', 'Wednesday', 'Friday']:\n",
    "    for i in ['Moscow', 'Saint-Petersburg']:\n",
    "        \n",
    "        print(f'Количество прослушиваний в городе {dictionary[i]} в {dictionary[j]} - {number_tracks(j,i)}')"
   ]
  },
  {
   "cell_type": "code",
   "execution_count": 27,
   "metadata": {
    "id": "hq_ncZ5T_Zcu"
   },
   "outputs": [],
   "source": [
    "# количество прослушиваний в Санкт-Петербурге по понедельникам"
   ]
  },
  {
   "cell_type": "code",
   "execution_count": 28,
   "metadata": {
    "id": "_NTy2VPU_Zcu"
   },
   "outputs": [],
   "source": [
    "# количество прослушиваний в Москве по средам"
   ]
  },
  {
   "cell_type": "code",
   "execution_count": 29,
   "metadata": {
    "id": "j2y3TAwo_Zcu"
   },
   "outputs": [],
   "source": [
    "# количество прослушиваний в Санкт-Петербурге по средам"
   ]
  },
  {
   "cell_type": "code",
   "execution_count": 30,
   "metadata": {
    "id": "vYDw5u_K_Zcu"
   },
   "outputs": [],
   "source": [
    "# количество прослушиваний в Москве по пятницам"
   ]
  },
  {
   "cell_type": "code",
   "execution_count": 31,
   "metadata": {
    "id": "8_yzFtW3_Zcu"
   },
   "outputs": [],
   "source": [
    "# количество прослушиваний в Санкт-Петербурге по пятницам"
   ]
  },
  {
   "cell_type": "markdown",
   "metadata": {
    "id": "7QXffbO-_Zcu"
   },
   "source": [
    "Создайте c помощью конструктора `pd.DataFrame` таблицу, где\n",
    "* названия колонок — `['city', 'monday', 'wednesday', 'friday']`;\n",
    "* данные — результаты, которые вы получили с помощью `number_tracks`."
   ]
  },
  {
   "cell_type": "code",
   "execution_count": 32,
   "metadata": {
    "id": "APAcLpOr_Zcu"
   },
   "outputs": [
    {
     "data": {
      "text/html": [
       "<div>\n",
       "<style scoped>\n",
       "    .dataframe tbody tr th:only-of-type {\n",
       "        vertical-align: middle;\n",
       "    }\n",
       "\n",
       "    .dataframe tbody tr th {\n",
       "        vertical-align: top;\n",
       "    }\n",
       "\n",
       "    .dataframe thead th {\n",
       "        text-align: right;\n",
       "    }\n",
       "</style>\n",
       "<table border=\"1\" class=\"dataframe\">\n",
       "  <thead>\n",
       "    <tr style=\"text-align: right;\">\n",
       "      <th></th>\n",
       "      <th>city</th>\n",
       "      <th>monday</th>\n",
       "      <th>wednesday</th>\n",
       "      <th>friday</th>\n",
       "    </tr>\n",
       "  </thead>\n",
       "  <tbody>\n",
       "    <tr>\n",
       "      <td>0</td>\n",
       "      <td>Moscow</td>\n",
       "      <td>15740</td>\n",
       "      <td>11056</td>\n",
       "      <td>15945</td>\n",
       "    </tr>\n",
       "    <tr>\n",
       "      <td>1</td>\n",
       "      <td>Saint-Petersburg</td>\n",
       "      <td>5614</td>\n",
       "      <td>7003</td>\n",
       "      <td>5895</td>\n",
       "    </tr>\n",
       "  </tbody>\n",
       "</table>\n",
       "</div>"
      ],
      "text/plain": [
       "               city  monday  wednesday  friday\n",
       "0            Moscow   15740      11056   15945\n",
       "1  Saint-Petersburg    5614       7003    5895"
      ]
     },
     "execution_count": 32,
     "metadata": {},
     "output_type": "execute_result"
    }
   ],
   "source": [
    "# Таблица с результатами\n",
    "tracks_in_city_on_day = [['Moscow'], ['Saint-Petersburg']]\n",
    "for i in range(2):\n",
    "    for j in ['Monday', 'Wednesday', 'Friday']:\n",
    "        tracks_in_city_on_day[i].append(number_tracks(j,tracks_in_city_on_day[i][0]))\n",
    "\n",
    "pd.DataFrame(data=tracks_in_city_on_day,columns=['city', 'monday', 'wednesday', 'friday'])"
   ]
  },
  {
   "cell_type": "markdown",
   "metadata": {},
   "source": [
    "<div class=\"alert alert-success\">\n",
    "<b>✔️ Комментарий ревьюера:</b> \n",
    "<br>Датафрейм построен верно. Молодец!\n",
    "</div>"
   ]
  },
  {
   "cell_type": "markdown",
   "metadata": {
    "id": "-EgPIHYu_Zcu"
   },
   "source": [
    "**Выводы**\n",
    "\n",
    "Данные показывают разницу поведения пользователей:\n",
    "\n",
    "- В Москве пик прослушиваний приходится на понедельник и пятницу, а в среду заметен спад.\n",
    "- В Петербурге, наоборот, больше слушают музыку по средам. Активность в понедельник и пятницу здесь почти в равной мере уступает среде.\n",
    "\n",
    "Значит, данные говорят в пользу первой гипотезы."
   ]
  },
  {
   "cell_type": "markdown",
   "metadata": {
    "id": "atZAxtq4_Zcu"
   },
   "source": [
    "### Музыка в начале и в конце недели"
   ]
  },
  {
   "cell_type": "markdown",
   "metadata": {
    "id": "eXrQqXFH_Zcu"
   },
   "source": [
    "Согласно второй гипотезе, утром в понедельник в Москве преобладают одни жанры, а в Петербурге — другие. Так же и вечером пятницы преобладают разные жанры — в зависимости от города."
   ]
  },
  {
   "cell_type": "markdown",
   "metadata": {
    "id": "S8UcW6Hw_Zcu"
   },
   "source": [
    "Сохраните таблицы с данными в две переменные:\n",
    "* по Москве — в `moscow_general`;\n",
    "* по Санкт-Петербургу — в `spb_general`."
   ]
  },
  {
   "cell_type": "code",
   "execution_count": 33,
   "metadata": {
    "id": "qeaFfM_P_Zcu"
   },
   "outputs": [],
   "source": [
    "# получение таблицы moscow_general из тех строк таблицы df, \n",
    "# для которых значение в столбце 'city' равно 'Moscow'\n",
    "moscow_general = df[df['city'] == 'Moscow']"
   ]
  },
  {
   "cell_type": "code",
   "execution_count": 34,
   "metadata": {
    "id": "ORaVRKto_Zcu"
   },
   "outputs": [],
   "source": [
    "# получение таблицы spb_general из тех строк таблицы df,\n",
    "# для которых значение в столбце 'city' равно 'Saint-Petersburg'\n",
    "spb_general = df[df['city'] == 'Saint-Petersburg']"
   ]
  },
  {
   "cell_type": "markdown",
   "metadata": {
    "id": "MEJV-CX2_Zcu"
   },
   "source": [
    "Создайте функцию `genre_weekday()` с четырьмя параметрами:\n",
    "* таблица (датафрейм) с данными,\n",
    "* день недели,\n",
    "* начальная временная метка в формате 'hh:mm', \n",
    "* последняя временная метка в формате 'hh:mm'.\n",
    "\n",
    "Функция должна вернуть информацию о топ-10 жанров тех треков, которые прослушивали в указанный день, в промежутке между двумя отметками времени."
   ]
  },
  {
   "cell_type": "code",
   "execution_count": 35,
   "metadata": {
    "id": "laJT9BYl_Zcu"
   },
   "outputs": [],
   "source": [
    "# Объявление функции genre_weekday() с параметрами table, day, time1, time2,\n",
    "# которая возвращает информацию о самых популярных жанрах в указанный день в\n",
    "# заданное время:\n",
    "# 1) в переменную genre_df сохраняются те строки переданного датафрейма table, для\n",
    "#    которых одновременно:\n",
    "#    - значение в столбце day равно значению аргумента day\n",
    "#    - значение в столбце time больше значения аргумента time1\n",
    "#    - значение в столбце time меньше значения аргумента time2\n",
    "#    Используйте последовательную фильтрацию с помощью логической индексации.\n",
    "# 2) сгруппировать датафрейм genre_df по столбцу genre, взять один из его\n",
    "#    столбцов и посчитать методом count() количество записей для каждого из\n",
    "#    присутствующих жанров, получившийся Series записать в переменную\n",
    "#    genre_df_count\n",
    "# 3) отсортировать genre_df_count по убыванию встречаемости и сохранить\n",
    "#    в переменную genre_df_sorted\n",
    "# 4) вернуть Series из 10 первых значений genre_df_sorted, это будут топ-10\n",
    "#    популярных жанров (в указанный день, в заданное время)\n",
    "def genre_weekday(table, day, time1, time2):\n",
    "    #genre_df = table[(table['day'] == day) & (table['time'] > time1) & (table['time'] < time2)]\n",
    "    genre_df = table.query('@day==day and @time1 < time < @time2')\n",
    "    genre_df_count = genre_df.groupby('genre')['genre'].count()\n",
    "    genre_df_count = genre_df_count.sort_values(ascending=False)\n",
    "    return genre_df_count.head(10)\n",
    "\n",
    "# вывод процента от общего числа\n",
    "def genre_weekday_percents(table, day, time1, time2):\n",
    "    #genre_df = table[(table['day'] == day) & (table['time'] > time1) & (table['time'] < time2)]\n",
    "    genre_df = table.query('@day==day and @time1 < time < @time2')\n",
    "    genre_df_count = genre_df.groupby('genre')['genre'].count()\n",
    "    genre_df_count = genre_df_count.sort_values(ascending=False)\n",
    "    return (genre_df_count.head(15)/genre_df_count.sum()*100).round(decimals=1) #отбросить дробную часть"
   ]
  },
  {
   "cell_type": "markdown",
   "metadata": {},
   "source": [
    "<div class=\"alert alert-success\">\n",
    "<b>✔️ Комментарий ревьюера: </b> \n",
    "<br>Замечательно! Здесь тоже все верно.\n",
    "</div>\n",
    "\n",
    "<div class=\"alert alert-warning\">\n",
    "<b>⚠️ Комментарий ревьюера:</b> \n",
    "<br>Как можно это сделать другим способом:\n",
    "<br>Через метод query(): \n",
    "\n",
    "    genre_df = table.query('@day==day and @time1 < time < @time2')\n",
    "<br>Метод query вы будете изучать в следующем спринте, а пока про него можно почитать в документации pandas:\n",
    "\n",
    "\thttps://pandas.pydata.org/docs/reference/api/pandas.DataFrame.query.html\n",
    "</div>"
   ]
  },
  {
   "cell_type": "markdown",
   "metadata": {},
   "source": [
    "<div class=\"alert alert-info\">\n",
    "<b>Комментарий студента:</b>\n",
    "<br> Попробовал, работает) так компактнее и удобнее, спасибо! \n",
    "</div>"
   ]
  },
  {
   "cell_type": "markdown",
   "metadata": {},
   "source": [
    "<div class=\"alert alert-success\">\n",
    "<b>✔️ Комментарий ревьюера v2:</b>\n",
    "<br>Рад был помочь)\n",
    "</div>"
   ]
  },
  {
   "cell_type": "markdown",
   "metadata": {
    "id": "la2s2_PF_Zcu"
   },
   "source": [
    "Cравните результаты функции `genre_weekday()` для Москвы и Санкт-Петербурга в понедельник утром (с 7:00 до 11:00) и в пятницу вечером (с 17:00 до 23:00):"
   ]
  },
  {
   "cell_type": "markdown",
   "metadata": {},
   "source": [
    "**В датасете данные только в диапазонах с 08:00 до 10:01, с 13:00 до 15:01, с 20:00 до 22:01.**"
   ]
  },
  {
   "cell_type": "code",
   "execution_count": 36,
   "metadata": {},
   "outputs": [
    {
     "name": "stdout",
     "output_type": "stream",
     "text": [
      "кол-во треков c 00 до 01 ч. 0\n",
      "кол-во треков c 01 до 02 ч. 0\n",
      "кол-во треков c 02 до 03 ч. 0\n",
      "кол-во треков c 03 до 04 ч. 0\n",
      "кол-во треков c 04 до 05 ч. 0\n",
      "кол-во треков c 05 до 06 ч. 0\n",
      "кол-во треков c 06 до 07 ч. 0\n",
      "кол-во треков c 07 до 08 ч. 0\n",
      "кол-во треков c 08 до 09 ч. 9512\n",
      "кол-во треков c 09 до 10 ч. 9511\n",
      "кол-во треков c 10 до 11 ч. 169\n",
      "кол-во треков c 11 до 12 ч. 0\n",
      "кол-во треков c 12 до 13 ч. 0\n",
      "кол-во треков c 13 до 14 ч. 10304\n",
      "кол-во треков c 14 до 15 ч. 10722\n",
      "кол-во треков c 15 до 16 ч. 176\n",
      "кол-во треков c 16 до 17 ч. 0\n",
      "кол-во треков c 17 до 18 ч. 0\n",
      "кол-во треков c 18 до 19 ч. 0\n",
      "кол-во треков c 19 до 20 ч. 0\n",
      "кол-во треков c 20 до 21 ч. 10829\n",
      "кол-во треков c 21 до 22 ч. 9858\n",
      "кол-во треков c 22 до 23 ч. 172\n",
      "кол-во треков c 23 до 24 ч. 0\n"
     ]
    }
   ],
   "source": [
    "for i in range(24):\n",
    "    if i <= 8:\n",
    "        ii = f'0{i}'\n",
    "        jj = f'0{i+1}'\n",
    "    elif i == 9:\n",
    "        ii = f'0{i}'\n",
    "        jj = f'{i+1}'\n",
    "    else:\n",
    "        ii = f'{i}'\n",
    "        jj = f'{i+1}'\n",
    "    print(f'кол-во треков c {ii} до {jj} ч.', df[(df['time'] >= f'{ii}:00') & (df['time'] < f'{jj}:00')]['time'].count())\n",
    "#df[(df['time'] >= '08:00') & (df['time'] < '08:01')]['time'].count()\n"
   ]
  },
  {
   "cell_type": "code",
   "execution_count": 37,
   "metadata": {
    "id": "yz7itPUQ_Zcu"
   },
   "outputs": [
    {
     "data": {
      "text/plain": [
       "genre\n",
       "pop            781\n",
       "dance          549\n",
       "electronic     480\n",
       "rock           474\n",
       "hiphop         286\n",
       "ruspop         186\n",
       "world          181\n",
       "rusrap         175\n",
       "alternative    164\n",
       "unknown        161\n",
       "Name: genre, dtype: int64"
      ]
     },
     "execution_count": 37,
     "metadata": {},
     "output_type": "execute_result"
    }
   ],
   "source": [
    "# вызов функции для утра понедельника в Москве (вместо df — таблица moscow_general)\n",
    "# объекты, хранящие время, являются строками и сравниваются как строки\n",
    "# пример вызова: genre_weekday(moscow_general, 'Monday', '07:00', '11:00')\n",
    "genre_weekday(moscow_general, 'Monday', '07:00', '11:00')"
   ]
  },
  {
   "cell_type": "code",
   "execution_count": 38,
   "metadata": {
    "id": "kwUcHPdy_Zcu"
   },
   "outputs": [
    {
     "data": {
      "text/plain": [
       "genre\n",
       "pop            218\n",
       "dance          182\n",
       "rock           162\n",
       "electronic     147\n",
       "hiphop          80\n",
       "ruspop          64\n",
       "alternative     58\n",
       "rusrap          55\n",
       "jazz            44\n",
       "classical       40\n",
       "Name: genre, dtype: int64"
      ]
     },
     "execution_count": 38,
     "metadata": {},
     "output_type": "execute_result"
    }
   ],
   "source": [
    "# вызов функции для утра понедельника в Петербурге (вместо df — таблица spb_general)\n",
    "genre_weekday(spb_general, 'Monday', '07:00', '11:00')"
   ]
  },
  {
   "cell_type": "code",
   "execution_count": 39,
   "metadata": {
    "id": "EzXVRE1o_Zcu"
   },
   "outputs": [
    {
     "data": {
      "text/plain": [
       "genre\n",
       "pop            713\n",
       "rock           517\n",
       "dance          495\n",
       "electronic     482\n",
       "hiphop         273\n",
       "world          208\n",
       "ruspop         170\n",
       "classical      163\n",
       "alternative    163\n",
       "rusrap         142\n",
       "Name: genre, dtype: int64"
      ]
     },
     "execution_count": 39,
     "metadata": {},
     "output_type": "execute_result"
    }
   ],
   "source": [
    "# вызов функции для вечера пятницы в Москве\n",
    "genre_weekday(moscow_general, 'Friday', '17:00', '23:00')"
   ]
  },
  {
   "cell_type": "code",
   "execution_count": 40,
   "metadata": {
    "id": "JZaEKu5v_Zcu"
   },
   "outputs": [
    {
     "data": {
      "text/plain": [
       "genre\n",
       "pop            256\n",
       "electronic     216\n",
       "rock           216\n",
       "dance          210\n",
       "hiphop          97\n",
       "alternative     63\n",
       "jazz            61\n",
       "classical       60\n",
       "rusrap          59\n",
       "world           54\n",
       "Name: genre, dtype: int64"
      ]
     },
     "execution_count": 40,
     "metadata": {},
     "output_type": "execute_result"
    }
   ],
   "source": [
    "# вызов функции для вечера пятницы в Петербурге\n",
    "genre_weekday(spb_general, 'Friday', '17:00', '23:00')"
   ]
  },
  {
   "cell_type": "code",
   "execution_count": 41,
   "metadata": {},
   "outputs": [
    {
     "name": "stdout",
     "output_type": "stream",
     "text": [
      "\n",
      "Распределение жанров в городах по утрам понедельника, %\n"
     ]
    },
    {
     "data": {
      "text/html": [
       "<div>\n",
       "<style scoped>\n",
       "    .dataframe tbody tr th:only-of-type {\n",
       "        vertical-align: middle;\n",
       "    }\n",
       "\n",
       "    .dataframe tbody tr th {\n",
       "        vertical-align: top;\n",
       "    }\n",
       "\n",
       "    .dataframe thead th {\n",
       "        text-align: right;\n",
       "    }\n",
       "</style>\n",
       "<table border=\"1\" class=\"dataframe\">\n",
       "  <thead>\n",
       "    <tr style=\"text-align: right;\">\n",
       "      <th></th>\n",
       "      <th>Moscow</th>\n",
       "      <th>Saint-Petersburg</th>\n",
       "    </tr>\n",
       "  </thead>\n",
       "  <tbody>\n",
       "    <tr>\n",
       "      <td>pop</td>\n",
       "      <td>14.9</td>\n",
       "      <td>13.6</td>\n",
       "    </tr>\n",
       "    <tr>\n",
       "      <td>dance</td>\n",
       "      <td>10.4</td>\n",
       "      <td>11.3</td>\n",
       "    </tr>\n",
       "    <tr>\n",
       "      <td>electronic</td>\n",
       "      <td>9.1</td>\n",
       "      <td>9.2</td>\n",
       "    </tr>\n",
       "    <tr>\n",
       "      <td>rock</td>\n",
       "      <td>9.0</td>\n",
       "      <td>10.1</td>\n",
       "    </tr>\n",
       "    <tr>\n",
       "      <td>hiphop</td>\n",
       "      <td>5.4</td>\n",
       "      <td>5.0</td>\n",
       "    </tr>\n",
       "    <tr>\n",
       "      <td>ruspop</td>\n",
       "      <td>3.5</td>\n",
       "      <td>4.0</td>\n",
       "    </tr>\n",
       "    <tr>\n",
       "      <td>world</td>\n",
       "      <td>3.4</td>\n",
       "      <td>2.2</td>\n",
       "    </tr>\n",
       "    <tr>\n",
       "      <td>rusrap</td>\n",
       "      <td>3.3</td>\n",
       "      <td>3.4</td>\n",
       "    </tr>\n",
       "    <tr>\n",
       "      <td>alternative</td>\n",
       "      <td>3.1</td>\n",
       "      <td>3.6</td>\n",
       "    </tr>\n",
       "    <tr>\n",
       "      <td>unknown</td>\n",
       "      <td>3.1</td>\n",
       "      <td>NaN</td>\n",
       "    </tr>\n",
       "    <tr>\n",
       "      <td>classical</td>\n",
       "      <td>3.0</td>\n",
       "      <td>2.5</td>\n",
       "    </tr>\n",
       "    <tr>\n",
       "      <td>metal</td>\n",
       "      <td>2.3</td>\n",
       "      <td>1.7</td>\n",
       "    </tr>\n",
       "    <tr>\n",
       "      <td>jazz</td>\n",
       "      <td>1.9</td>\n",
       "      <td>2.7</td>\n",
       "    </tr>\n",
       "    <tr>\n",
       "      <td>folk</td>\n",
       "      <td>1.8</td>\n",
       "      <td>NaN</td>\n",
       "    </tr>\n",
       "    <tr>\n",
       "      <td>soundtrack</td>\n",
       "      <td>1.8</td>\n",
       "      <td>1.9</td>\n",
       "    </tr>\n",
       "    <tr>\n",
       "      <td>rap</td>\n",
       "      <td>NaN</td>\n",
       "      <td>2.0</td>\n",
       "    </tr>\n",
       "    <tr>\n",
       "      <td>rnb</td>\n",
       "      <td>NaN</td>\n",
       "      <td>1.7</td>\n",
       "    </tr>\n",
       "  </tbody>\n",
       "</table>\n",
       "</div>"
      ],
      "text/plain": [
       "             Moscow  Saint-Petersburg\n",
       "pop            14.9              13.6\n",
       "dance          10.4              11.3\n",
       "electronic      9.1               9.2\n",
       "rock            9.0              10.1\n",
       "hiphop          5.4               5.0\n",
       "ruspop          3.5               4.0\n",
       "world           3.4               2.2\n",
       "rusrap          3.3               3.4\n",
       "alternative     3.1               3.6\n",
       "unknown         3.1               NaN\n",
       "classical       3.0               2.5\n",
       "metal           2.3               1.7\n",
       "jazz            1.9               2.7\n",
       "folk            1.8               NaN\n",
       "soundtrack      1.8               1.9\n",
       "rap             NaN               2.0\n",
       "rnb             NaN               1.7"
      ]
     },
     "execution_count": 41,
     "metadata": {},
     "output_type": "execute_result"
    }
   ],
   "source": [
    "print('\\nРаспределение жанров в городах по утрам понедельника, %')\n",
    "pd.concat([genre_weekday_percents(moscow_general, 'Monday', '07:00', '11:00'),\n",
    "           genre_weekday_percents(spb_general, 'Monday', '07:00', '11:00')], \n",
    "          axis=1, sort=False, keys=['Moscow', 'Saint-Petersburg'])"
   ]
  },
  {
   "cell_type": "code",
   "execution_count": 42,
   "metadata": {},
   "outputs": [
    {
     "name": "stdout",
     "output_type": "stream",
     "text": [
      "\n",
      "Распределение жанров в городах в среду в обед, %\n"
     ]
    },
    {
     "data": {
      "text/html": [
       "<div>\n",
       "<style scoped>\n",
       "    .dataframe tbody tr th:only-of-type {\n",
       "        vertical-align: middle;\n",
       "    }\n",
       "\n",
       "    .dataframe tbody tr th {\n",
       "        vertical-align: top;\n",
       "    }\n",
       "\n",
       "    .dataframe thead th {\n",
       "        text-align: right;\n",
       "    }\n",
       "</style>\n",
       "<table border=\"1\" class=\"dataframe\">\n",
       "  <thead>\n",
       "    <tr style=\"text-align: right;\">\n",
       "      <th></th>\n",
       "      <th>Moscow</th>\n",
       "      <th>Saint-Petersburg</th>\n",
       "    </tr>\n",
       "  </thead>\n",
       "  <tbody>\n",
       "    <tr>\n",
       "      <td>pop</td>\n",
       "      <td>13.8</td>\n",
       "      <td>14.3</td>\n",
       "    </tr>\n",
       "    <tr>\n",
       "      <td>dance</td>\n",
       "      <td>10.7</td>\n",
       "      <td>9.8</td>\n",
       "    </tr>\n",
       "    <tr>\n",
       "      <td>rock</td>\n",
       "      <td>9.4</td>\n",
       "      <td>10.5</td>\n",
       "    </tr>\n",
       "    <tr>\n",
       "      <td>electronic</td>\n",
       "      <td>8.3</td>\n",
       "      <td>8.4</td>\n",
       "    </tr>\n",
       "    <tr>\n",
       "      <td>classical</td>\n",
       "      <td>4.5</td>\n",
       "      <td>3.6</td>\n",
       "    </tr>\n",
       "    <tr>\n",
       "      <td>hiphop</td>\n",
       "      <td>4.2</td>\n",
       "      <td>4.9</td>\n",
       "    </tr>\n",
       "    <tr>\n",
       "      <td>world</td>\n",
       "      <td>3.4</td>\n",
       "      <td>2.9</td>\n",
       "    </tr>\n",
       "    <tr>\n",
       "      <td>alternative</td>\n",
       "      <td>3.0</td>\n",
       "      <td>3.1</td>\n",
       "    </tr>\n",
       "    <tr>\n",
       "      <td>ruspop</td>\n",
       "      <td>3.0</td>\n",
       "      <td>2.9</td>\n",
       "    </tr>\n",
       "    <tr>\n",
       "      <td>jazz</td>\n",
       "      <td>2.9</td>\n",
       "      <td>2.8</td>\n",
       "    </tr>\n",
       "    <tr>\n",
       "      <td>unknown</td>\n",
       "      <td>2.4</td>\n",
       "      <td>NaN</td>\n",
       "    </tr>\n",
       "    <tr>\n",
       "      <td>metal</td>\n",
       "      <td>2.2</td>\n",
       "      <td>2.2</td>\n",
       "    </tr>\n",
       "    <tr>\n",
       "      <td>rusrap</td>\n",
       "      <td>2.2</td>\n",
       "      <td>2.8</td>\n",
       "    </tr>\n",
       "    <tr>\n",
       "      <td>soundtrack</td>\n",
       "      <td>1.9</td>\n",
       "      <td>1.6</td>\n",
       "    </tr>\n",
       "    <tr>\n",
       "      <td>folk</td>\n",
       "      <td>1.6</td>\n",
       "      <td>NaN</td>\n",
       "    </tr>\n",
       "    <tr>\n",
       "      <td>rnb</td>\n",
       "      <td>NaN</td>\n",
       "      <td>2.2</td>\n",
       "    </tr>\n",
       "    <tr>\n",
       "      <td>rap</td>\n",
       "      <td>NaN</td>\n",
       "      <td>2.0</td>\n",
       "    </tr>\n",
       "  </tbody>\n",
       "</table>\n",
       "</div>"
      ],
      "text/plain": [
       "             Moscow  Saint-Petersburg\n",
       "pop            13.8              14.3\n",
       "dance          10.7               9.8\n",
       "rock            9.4              10.5\n",
       "electronic      8.3               8.4\n",
       "classical       4.5               3.6\n",
       "hiphop          4.2               4.9\n",
       "world           3.4               2.9\n",
       "alternative     3.0               3.1\n",
       "ruspop          3.0               2.9\n",
       "jazz            2.9               2.8\n",
       "unknown         2.4               NaN\n",
       "metal           2.2               2.2\n",
       "rusrap          2.2               2.8\n",
       "soundtrack      1.9               1.6\n",
       "folk            1.6               NaN\n",
       "rnb             NaN               2.2\n",
       "rap             NaN               2.0"
      ]
     },
     "execution_count": 42,
     "metadata": {},
     "output_type": "execute_result"
    }
   ],
   "source": [
    "print('\\nРаспределение жанров в городах в среду в обед, %')\n",
    "pd.concat([genre_weekday_percents(moscow_general, 'Wednesday', '12:00', '16:00'),\n",
    "           genre_weekday_percents(spb_general, 'Wednesday', '12:00', '16:00')], \n",
    "          axis=1, sort=False, keys=['Moscow', 'Saint-Petersburg'])"
   ]
  },
  {
   "cell_type": "code",
   "execution_count": 43,
   "metadata": {},
   "outputs": [
    {
     "name": "stdout",
     "output_type": "stream",
     "text": [
      "\n",
      "Распределение жанров в городах по вечерам пятницы, %\n"
     ]
    },
    {
     "data": {
      "text/html": [
       "<div>\n",
       "<style scoped>\n",
       "    .dataframe tbody tr th:only-of-type {\n",
       "        vertical-align: middle;\n",
       "    }\n",
       "\n",
       "    .dataframe tbody tr th {\n",
       "        vertical-align: top;\n",
       "    }\n",
       "\n",
       "    .dataframe thead th {\n",
       "        text-align: right;\n",
       "    }\n",
       "</style>\n",
       "<table border=\"1\" class=\"dataframe\">\n",
       "  <thead>\n",
       "    <tr style=\"text-align: right;\">\n",
       "      <th></th>\n",
       "      <th>Moscow</th>\n",
       "      <th>Saint-Petersburg</th>\n",
       "    </tr>\n",
       "  </thead>\n",
       "  <tbody>\n",
       "    <tr>\n",
       "      <td>pop</td>\n",
       "      <td>13.5</td>\n",
       "      <td>12.4</td>\n",
       "    </tr>\n",
       "    <tr>\n",
       "      <td>rock</td>\n",
       "      <td>9.8</td>\n",
       "      <td>10.5</td>\n",
       "    </tr>\n",
       "    <tr>\n",
       "      <td>dance</td>\n",
       "      <td>9.4</td>\n",
       "      <td>10.2</td>\n",
       "    </tr>\n",
       "    <tr>\n",
       "      <td>electronic</td>\n",
       "      <td>9.1</td>\n",
       "      <td>10.5</td>\n",
       "    </tr>\n",
       "    <tr>\n",
       "      <td>hiphop</td>\n",
       "      <td>5.2</td>\n",
       "      <td>4.7</td>\n",
       "    </tr>\n",
       "    <tr>\n",
       "      <td>world</td>\n",
       "      <td>3.9</td>\n",
       "      <td>2.6</td>\n",
       "    </tr>\n",
       "    <tr>\n",
       "      <td>ruspop</td>\n",
       "      <td>3.2</td>\n",
       "      <td>2.3</td>\n",
       "    </tr>\n",
       "    <tr>\n",
       "      <td>classical</td>\n",
       "      <td>3.1</td>\n",
       "      <td>2.9</td>\n",
       "    </tr>\n",
       "    <tr>\n",
       "      <td>alternative</td>\n",
       "      <td>3.1</td>\n",
       "      <td>3.0</td>\n",
       "    </tr>\n",
       "    <tr>\n",
       "      <td>rusrap</td>\n",
       "      <td>2.7</td>\n",
       "      <td>2.9</td>\n",
       "    </tr>\n",
       "    <tr>\n",
       "      <td>jazz</td>\n",
       "      <td>2.1</td>\n",
       "      <td>3.0</td>\n",
       "    </tr>\n",
       "    <tr>\n",
       "      <td>unknown</td>\n",
       "      <td>2.1</td>\n",
       "      <td>2.3</td>\n",
       "    </tr>\n",
       "    <tr>\n",
       "      <td>soundtrack</td>\n",
       "      <td>2.0</td>\n",
       "      <td>1.9</td>\n",
       "    </tr>\n",
       "    <tr>\n",
       "      <td>rnb</td>\n",
       "      <td>1.7</td>\n",
       "      <td>NaN</td>\n",
       "    </tr>\n",
       "    <tr>\n",
       "      <td>metal</td>\n",
       "      <td>1.7</td>\n",
       "      <td>1.9</td>\n",
       "    </tr>\n",
       "    <tr>\n",
       "      <td>rap</td>\n",
       "      <td>NaN</td>\n",
       "      <td>1.7</td>\n",
       "    </tr>\n",
       "  </tbody>\n",
       "</table>\n",
       "</div>"
      ],
      "text/plain": [
       "             Moscow  Saint-Petersburg\n",
       "pop            13.5              12.4\n",
       "rock            9.8              10.5\n",
       "dance           9.4              10.2\n",
       "electronic      9.1              10.5\n",
       "hiphop          5.2               4.7\n",
       "world           3.9               2.6\n",
       "ruspop          3.2               2.3\n",
       "classical       3.1               2.9\n",
       "alternative     3.1               3.0\n",
       "rusrap          2.7               2.9\n",
       "jazz            2.1               3.0\n",
       "unknown         2.1               2.3\n",
       "soundtrack      2.0               1.9\n",
       "rnb             1.7               NaN\n",
       "metal           1.7               1.9\n",
       "rap             NaN               1.7"
      ]
     },
     "execution_count": 43,
     "metadata": {},
     "output_type": "execute_result"
    }
   ],
   "source": [
    "print('\\nРаспределение жанров в городах по вечерам пятницы, %')\n",
    "pd.concat([genre_weekday_percents(moscow_general, 'Friday', '17:00', '23:00'),\n",
    "           genre_weekday_percents(spb_general, 'Friday', '17:00', '23:00')], \n",
    "          axis=1, sort=False, keys=['Moscow', 'Saint-Petersburg'])"
   ]
  },
  {
   "cell_type": "markdown",
   "metadata": {
    "id": "wrCe4MNX_Zcu"
   },
   "source": [
    "**Выводы**\n",
    "\n",
    "Если сравнить топ-10 жанров в понедельник утром, можно сделать такие выводы:\n",
    "\n",
    "1. В Москве и Петербурге слушают похожую музыку. Единственное отличие — в московский рейтинг вошёл жанр “world”, а в петербургский — джаз и классика.\n",
    "\n",
    "2. В Москве пропущенных значений оказалось так много, что значение `'unknown'` заняло десятое место среди самых популярных жанров. Значит, пропущенные значения занимают существенную долю в данных и угрожают достоверности исследования.\n",
    "\n",
    "Вечер пятницы не меняет эту картину. Некоторые жанры поднимаются немного выше, другие спускаются, но в целом топ-10 остаётся тем же самым.\n",
    "\n",
    "Таким образом, вторая гипотеза подтвердилась лишь частично:\n",
    "* Пользователи слушают похожую музыку в начале недели и в конце.\n",
    "* Разница между Москвой и Петербургом не слишком выражена. В Москве чаще слушают русскую популярную музыку, в Петербурге — джаз.\n",
    "\n",
    "Однако пропуски в данных ставят под сомнение этот результат. В Москве их так много, что рейтинг топ-10 мог бы выглядеть иначе, если бы не утерянные  данные о жанрах."
   ]
  },
  {
   "cell_type": "markdown",
   "metadata": {},
   "source": [
    "<div class=\"alert alert-info\">\n",
    "<b>Комментарий студента:</b>\n",
    "<br> Посмотрел еще жанры в среду в обед. В Москве популярность классической музыкы и джаза заметно подрастает (примерно в 1,5 раза), а в Питере такого нет)  \n",
    "</div>"
   ]
  },
  {
   "cell_type": "markdown",
   "metadata": {},
   "source": [
    "<div class=\"alert alert-success\">\n",
    "<b>✔️ Комментарий ревьюера v2:</b>\n",
    "<br>Интересное наблюдение)\n",
    "</div>"
   ]
  },
  {
   "cell_type": "markdown",
   "metadata": {
    "id": "JolODAqr_Zcu"
   },
   "source": [
    "### Жанровые предпочтения в Москве и Петербурге\n",
    "\n",
    "Гипотеза: Петербург — столица рэпа, музыку этого жанра там слушают чаще, чем в Москве.  А Москва — город контрастов, в котором, тем не менее, преобладает поп-музыка."
   ]
  },
  {
   "cell_type": "markdown",
   "metadata": {
    "id": "DlegSvaT_Zcu"
   },
   "source": [
    "Сгруппируйте таблицу `moscow_general` по жанру и посчитайте прослушивания треков каждого жанра методом `count()`. Затем отсортируйте результат в порядке убывания и сохраните его в таблице `moscow_genres`."
   ]
  },
  {
   "cell_type": "code",
   "execution_count": 44,
   "metadata": {
    "id": "r19lIPke_Zcu"
   },
   "outputs": [],
   "source": [
    "# одной строкой: группировка таблицы moscow_general по столбцу 'genre', \n",
    "# подсчёт числа значений 'genre' в этой группировке методом count(), \n",
    "# сортировка получившегося Series в порядке убывания и сохранение в moscow_genres\n",
    "moscow_genres = moscow_general.groupby('genre')['genre'].count().sort_values(ascending=False)"
   ]
  },
  {
   "cell_type": "markdown",
   "metadata": {
    "id": "6kMuomxTiIr8"
   },
   "source": [
    "Выведите на экран первые десять строк `moscow_genres`:"
   ]
  },
  {
   "cell_type": "code",
   "execution_count": 45,
   "metadata": {
    "id": "WhCSooF8_Zcv"
   },
   "outputs": [
    {
     "data": {
      "text/plain": [
       "genre\n",
       "pop            5892\n",
       "dance          4435\n",
       "rock           3965\n",
       "electronic     3786\n",
       "hiphop         2096\n",
       "classical      1616\n",
       "world          1432\n",
       "alternative    1379\n",
       "ruspop         1372\n",
       "rusrap         1161\n",
       "Name: genre, dtype: int64"
      ]
     },
     "execution_count": 45,
     "metadata": {},
     "output_type": "execute_result"
    }
   ],
   "source": [
    "# просмотр первых 10 строк moscow_genres\n",
    "moscow_genres.head(10)"
   ]
  },
  {
   "cell_type": "markdown",
   "metadata": {
    "id": "cnPG2vnN_Zcv"
   },
   "source": [
    "Теперь повторите то же и для Петербурга.\n",
    "\n",
    "Сгруппируйте таблицу `spb_general` по жанру. Посчитайте прослушивания треков каждого жанра. Результат отсортируйте в порядке убывания и сохраните в таблице `spb_genres`:\n"
   ]
  },
  {
   "cell_type": "code",
   "execution_count": 46,
   "metadata": {
    "id": "gluLIpE7_Zcv"
   },
   "outputs": [],
   "source": [
    "# одной строкой: группировка таблицы spb_general по столбцу 'genre', \n",
    "# подсчёт числа значений 'genre' в этой группировке методом count(), \n",
    "# сортировка получившегося Series в порядке убывания и сохранение в spb_genres\n",
    "spb_genres = spb_general.groupby('genre')['genre'].count().sort_values(ascending=False)"
   ]
  },
  {
   "cell_type": "markdown",
   "metadata": {
    "id": "5Doha_ODgyQ8"
   },
   "source": [
    "Выведите на экран первые десять строк `spb_genres`:"
   ]
  },
  {
   "cell_type": "code",
   "execution_count": 47,
   "metadata": {
    "id": "uaGJHjVU_Zcv"
   },
   "outputs": [
    {
     "data": {
      "text/plain": [
       "genre\n",
       "pop            2431\n",
       "dance          1932\n",
       "rock           1879\n",
       "electronic     1737\n",
       "hiphop          960\n",
       "alternative     649\n",
       "classical       646\n",
       "rusrap          564\n",
       "ruspop          539\n",
       "world           515\n",
       "Name: genre, dtype: int64"
      ]
     },
     "execution_count": 47,
     "metadata": {},
     "output_type": "execute_result"
    }
   ],
   "source": [
    "# просмотр первых 10 строк spb_genres\n",
    "spb_genres.head(10)"
   ]
  },
  {
   "cell_type": "markdown",
   "metadata": {
    "id": "RY51YJYu_Zcv"
   },
   "source": [
    "**Выводы**"
   ]
  },
  {
   "cell_type": "markdown",
   "metadata": {
    "id": "nVhnJEm__Zcv"
   },
   "source": [
    "Гипотеза частично подтвердилась:\n",
    "* Поп-музыка — самый популярный жанр в Москве, как и предполагала гипотеза. Более того, в топ-10 жанров встречается близкий жанр — русская популярная музыка.\n",
    "* Вопреки ожиданиям, рэп одинаково популярен в Москве и Петербурге. \n"
   ]
  },
  {
   "cell_type": "markdown",
   "metadata": {},
   "source": [
    "<div class=\"alert alert-success\">\n",
    "<b>✔️ Комментарий ревьюера: </b> \n",
    "<br>Отлично, с жанровыми предпочтениями тоже разобрались.\n",
    "</div>"
   ]
  },
  {
   "cell_type": "markdown",
   "metadata": {
    "id": "ykKQ0N65_Zcv"
   },
   "source": [
    "## Итоги исследования"
   ]
  },
  {
   "cell_type": "markdown",
   "metadata": {
    "id": "tjUwbHb3_Zcv"
   },
   "source": [
    "Вы проверили три гипотезы и установили:\n",
    "\n",
    "1. День недели по-разному влияет на активность пользователей в Москве и Петербурге. \n",
    "\n",
    "Первая гипотеза полностью подтвердилась.\n",
    "\n",
    "2. Музыкальные предпочтения не сильно меняются в течение недели — будь то Москва или Петербург. Небольшие различия заметны в начале недели, по понедельникам:\n",
    "* в Москве слушают музыку жанра “world”,\n",
    "* в Петербурге — джаз и классику.\n",
    "\n",
    "Но по вечерам пятницы в Петербурге русский поп вылетает из топ 10, а в Москве джаз не входит в топ 10.\n",
    "\n",
    "Таким образом, вторая гипотеза подтвердилась лишь отчасти. Этот результат мог оказаться иным, если бы не пропуски в данных.\n",
    "\n",
    "3. Во вкусах пользователей Москвы и Петербурга больше общего чем различий. Вопреки ожиданиям, предпочтения жанров в Петербурге напоминают московские.\n",
    "\n",
    "Третья гипотеза не подтвердилась. Если различия в предпочтениях и существуют, на основной массе пользователей они незаметны.\n",
    "\n",
    "**На практике исследования содержат проверки статистических гипотез.**\n",
    "Из данных одного сервиса не всегда можно сделать вывод о всех жителях города.\n",
    "Проверки статистических гипотез покажут, насколько они достоверны, исходя из имеющихся данных. \n",
    "С методами проверок гипотез вы ещё познакомитесь в следующих темах."
   ]
  },
  {
   "cell_type": "markdown",
   "metadata": {},
   "source": [
    "<div class=\"alert alert-success\">\n",
    "<b>✔️ Итоговый комментарий ревьюера:</b>\n",
    "<br>Я бы мог принять твою работу с первого раза, но хочу дать тебе возможность задать мне вопросы) Если вопросов нет, то я с радостью приму проект)\n",
    "</div>"
   ]
  },
  {
   "cell_type": "markdown",
   "metadata": {},
   "source": [
    "<div class=\"alert alert-info\">\n",
    "<b>Комментарий студента:</b>\n",
    "<br> Cпасибо за замечания! \n",
    "</div>"
   ]
  },
  {
   "cell_type": "markdown",
   "metadata": {},
   "source": [
    "<div class=\"alert alert-success\">\n",
    "<b>✔️ Итоговый комментарий ревьюера v2:</b>\n",
    "<br>У тебя отличная работа! Здорово, что ты проработал жёлтые комментарии. Практика никогда не бывает лишней) Мне очень понравилось, что ты выходил за рамки заданий и делал собственные исследования!\n",
    "<br>Ты продемонстрировал владение базовыми методами pandas, которые очень пригодятся тебе в будущих проектах. Желаю удачи в дальнейшем обучении! 😉\n",
    "</div>"
   ]
  }
 ],
 "metadata": {
  "ExecuteTimeLog": [
   {
    "duration": 824,
    "start_time": "2021-12-13T20:37:36.907Z"
   },
   {
    "duration": 330,
    "start_time": "2021-12-13T20:37:38.810Z"
   },
   {
    "duration": 200,
    "start_time": "2021-12-13T20:38:03.795Z"
   },
   {
    "duration": 25,
    "start_time": "2021-12-13T20:38:17.232Z"
   },
   {
    "duration": 36,
    "start_time": "2021-12-13T20:38:44.693Z"
   },
   {
    "duration": 301,
    "start_time": "2021-12-13T20:42:05.466Z"
   },
   {
    "duration": 6,
    "start_time": "2021-12-13T20:42:13.639Z"
   },
   {
    "duration": 43,
    "start_time": "2021-12-13T20:43:42.585Z"
   },
   {
    "duration": 6,
    "start_time": "2021-12-13T20:44:01.035Z"
   },
   {
    "duration": 23,
    "start_time": "2021-12-13T20:44:14.385Z"
   },
   {
    "duration": 22,
    "start_time": "2021-12-13T20:44:16.865Z"
   },
   {
    "duration": 7,
    "start_time": "2021-12-13T20:44:19.613Z"
   },
   {
    "duration": 34,
    "start_time": "2021-12-13T20:48:19.250Z"
   },
   {
    "duration": 38,
    "start_time": "2021-12-13T20:50:28.997Z"
   },
   {
    "duration": 21,
    "start_time": "2021-12-13T20:53:14.901Z"
   },
   {
    "duration": 35,
    "start_time": "2021-12-13T20:53:21.916Z"
   },
   {
    "duration": 22,
    "start_time": "2021-12-13T20:54:20.064Z"
   },
   {
    "duration": 29,
    "start_time": "2021-12-13T20:54:21.956Z"
   },
   {
    "duration": 88,
    "start_time": "2021-12-13T20:55:29.689Z"
   },
   {
    "duration": 2,
    "start_time": "2021-12-13T20:55:36.731Z"
   },
   {
    "duration": 83,
    "start_time": "2021-12-13T20:56:38.840Z"
   },
   {
    "duration": 96,
    "start_time": "2021-12-13T20:56:41.757Z"
   },
   {
    "duration": 82,
    "start_time": "2021-12-13T20:56:44.087Z"
   },
   {
    "duration": 77,
    "start_time": "2021-12-13T20:56:50.055Z"
   },
   {
    "duration": 4,
    "start_time": "2021-12-13T20:57:01.068Z"
   },
   {
    "duration": 250,
    "start_time": "2021-12-13T20:57:01.074Z"
   },
   {
    "duration": 15,
    "start_time": "2021-12-13T20:57:01.329Z"
   },
   {
    "duration": 43,
    "start_time": "2021-12-13T20:57:01.347Z"
   },
   {
    "duration": 7,
    "start_time": "2021-12-13T20:57:01.393Z"
   },
   {
    "duration": 26,
    "start_time": "2021-12-13T20:57:01.403Z"
   },
   {
    "duration": 6,
    "start_time": "2021-12-13T20:57:01.432Z"
   },
   {
    "duration": 34,
    "start_time": "2021-12-13T20:57:01.441Z"
   },
   {
    "duration": 55,
    "start_time": "2021-12-13T20:57:01.480Z"
   },
   {
    "duration": 31,
    "start_time": "2021-12-13T20:57:01.538Z"
   },
   {
    "duration": 113,
    "start_time": "2021-12-13T20:57:01.572Z"
   },
   {
    "duration": 112,
    "start_time": "2021-12-13T20:57:01.688Z"
   },
   {
    "duration": 88,
    "start_time": "2021-12-13T20:57:01.802Z"
   },
   {
    "duration": 3,
    "start_time": "2021-12-13T20:57:01.893Z"
   },
   {
    "duration": 6,
    "start_time": "2021-12-13T20:57:01.917Z"
   },
   {
    "duration": 8,
    "start_time": "2021-12-13T20:57:01.926Z"
   },
   {
    "duration": 9,
    "start_time": "2021-12-13T20:57:01.936Z"
   },
   {
    "duration": 5,
    "start_time": "2021-12-13T20:57:01.948Z"
   },
   {
    "duration": 5,
    "start_time": "2021-12-13T20:57:01.956Z"
   },
   {
    "duration": 9,
    "start_time": "2021-12-13T20:57:01.963Z"
   },
   {
    "duration": 7,
    "start_time": "2021-12-13T20:57:01.974Z"
   },
   {
    "duration": 13,
    "start_time": "2021-12-13T20:57:01.983Z"
   },
   {
    "duration": 7,
    "start_time": "2021-12-13T20:57:02.018Z"
   },
   {
    "duration": 11,
    "start_time": "2021-12-13T20:57:02.027Z"
   },
   {
    "duration": 8,
    "start_time": "2021-12-13T20:57:02.041Z"
   },
   {
    "duration": 9,
    "start_time": "2021-12-13T20:57:02.051Z"
   },
   {
    "duration": 12,
    "start_time": "2021-12-13T20:57:02.065Z"
   },
   {
    "duration": 6,
    "start_time": "2021-12-13T20:57:02.079Z"
   },
   {
    "duration": 12,
    "start_time": "2021-12-13T20:57:02.087Z"
   },
   {
    "duration": 23,
    "start_time": "2021-12-13T20:57:02.102Z"
   },
   {
    "duration": 12,
    "start_time": "2021-12-13T20:57:02.128Z"
   },
   {
    "duration": 10,
    "start_time": "2021-12-13T20:57:02.142Z"
   },
   {
    "duration": 14,
    "start_time": "2021-12-13T20:57:02.155Z"
   },
   {
    "duration": 5,
    "start_time": "2021-12-13T20:57:02.172Z"
   },
   {
    "duration": 9,
    "start_time": "2021-12-13T20:57:02.180Z"
   },
   {
    "duration": 5,
    "start_time": "2021-12-13T20:57:02.192Z"
   },
   {
    "duration": 37,
    "start_time": "2021-12-13T20:57:02.200Z"
   },
   {
    "duration": 6,
    "start_time": "2021-12-13T20:57:02.240Z"
   },
   {
    "duration": 9,
    "start_time": "2021-12-13T20:57:31.181Z"
   },
   {
    "duration": 14,
    "start_time": "2021-12-13T20:59:15.865Z"
   },
   {
    "duration": 444,
    "start_time": "2021-12-13T21:05:21.189Z"
   },
   {
    "duration": 488,
    "start_time": "2021-12-13T21:05:41.899Z"
   },
   {
    "duration": 27,
    "start_time": "2021-12-13T21:05:53.913Z"
   },
   {
    "duration": 4,
    "start_time": "2021-12-13T21:06:13.991Z"
   },
   {
    "duration": 13,
    "start_time": "2021-12-13T21:06:55.581Z"
   },
   {
    "duration": 13,
    "start_time": "2021-12-13T21:06:58.052Z"
   },
   {
    "duration": 51,
    "start_time": "2021-12-13T21:08:19.202Z"
   },
   {
    "duration": 14,
    "start_time": "2021-12-13T21:08:22.453Z"
   },
   {
    "duration": 44,
    "start_time": "2021-12-13T21:08:30.457Z"
   },
   {
    "duration": 13,
    "start_time": "2021-12-13T21:08:33.960Z"
   },
   {
    "duration": 20,
    "start_time": "2021-12-13T21:08:48.118Z"
   },
   {
    "duration": 15,
    "start_time": "2021-12-13T21:08:49.541Z"
   },
   {
    "duration": 49,
    "start_time": "2021-12-13T21:09:00.402Z"
   },
   {
    "duration": 16,
    "start_time": "2021-12-13T21:09:10.866Z"
   },
   {
    "duration": 16,
    "start_time": "2021-12-13T21:09:12.683Z"
   },
   {
    "duration": 24,
    "start_time": "2021-12-13T21:53:38.308Z"
   },
   {
    "duration": 29,
    "start_time": "2021-12-13T21:54:09.452Z"
   },
   {
    "duration": 30,
    "start_time": "2021-12-13T21:54:22.501Z"
   },
   {
    "duration": 22,
    "start_time": "2021-12-13T21:54:41.378Z"
   },
   {
    "duration": 26,
    "start_time": "2021-12-13T21:54:49.949Z"
   },
   {
    "duration": 21,
    "start_time": "2021-12-13T21:55:23.232Z"
   },
   {
    "duration": 27,
    "start_time": "2021-12-13T21:55:33.960Z"
   },
   {
    "duration": 23,
    "start_time": "2021-12-13T21:55:51.123Z"
   },
   {
    "duration": 22,
    "start_time": "2021-12-13T21:56:01.054Z"
   },
   {
    "duration": 24,
    "start_time": "2021-12-13T21:56:10.099Z"
   },
   {
    "duration": 41,
    "start_time": "2021-12-13T21:56:17.109Z"
   },
   {
    "duration": 22,
    "start_time": "2021-12-13T21:56:43.960Z"
   },
   {
    "duration": 29,
    "start_time": "2021-12-13T21:56:53.873Z"
   },
   {
    "duration": 20,
    "start_time": "2021-12-13T21:58:21.536Z"
   },
   {
    "duration": 27,
    "start_time": "2021-12-13T21:58:45.943Z"
   },
   {
    "duration": 28,
    "start_time": "2021-12-13T21:58:59.762Z"
   },
   {
    "duration": 26,
    "start_time": "2021-12-13T21:59:11.371Z"
   },
   {
    "duration": 29,
    "start_time": "2021-12-13T21:59:18.000Z"
   },
   {
    "duration": 29,
    "start_time": "2021-12-13T21:59:24.130Z"
   },
   {
    "duration": 36,
    "start_time": "2021-12-13T21:59:50.910Z"
   },
   {
    "duration": 22,
    "start_time": "2021-12-13T21:59:58.657Z"
   },
   {
    "duration": 20,
    "start_time": "2021-12-13T22:01:45.171Z"
   },
   {
    "duration": 21,
    "start_time": "2021-12-13T22:02:10.782Z"
   },
   {
    "duration": 26,
    "start_time": "2021-12-13T22:03:04.580Z"
   },
   {
    "duration": 27,
    "start_time": "2021-12-13T22:03:12.090Z"
   },
   {
    "duration": 21,
    "start_time": "2021-12-13T22:03:22.042Z"
   },
   {
    "duration": 17,
    "start_time": "2021-12-13T22:10:32.060Z"
   },
   {
    "duration": 14,
    "start_time": "2021-12-13T22:19:02.064Z"
   },
   {
    "duration": 5,
    "start_time": "2021-12-13T22:30:12.669Z"
   },
   {
    "duration": 16,
    "start_time": "2021-12-13T22:31:13.168Z"
   },
   {
    "duration": 17,
    "start_time": "2021-12-13T22:32:48.593Z"
   },
   {
    "duration": 17,
    "start_time": "2021-12-13T22:33:27.479Z"
   },
   {
    "duration": 4,
    "start_time": "2021-12-13T22:33:32.205Z"
   },
   {
    "duration": 4,
    "start_time": "2021-12-13T22:33:36.872Z"
   },
   {
    "duration": 11,
    "start_time": "2021-12-13T22:33:55.122Z"
   },
   {
    "duration": 254,
    "start_time": "2021-12-13T22:34:13.102Z"
   },
   {
    "duration": 236,
    "start_time": "2021-12-13T22:35:49.728Z"
   },
   {
    "duration": 240,
    "start_time": "2021-12-13T22:35:56.165Z"
   },
   {
    "duration": 256,
    "start_time": "2021-12-13T22:36:05.691Z"
   },
   {
    "duration": 89,
    "start_time": "2021-12-13T22:36:58.266Z"
   },
   {
    "duration": 111,
    "start_time": "2021-12-13T22:37:30.822Z"
   },
   {
    "duration": 81,
    "start_time": "2021-12-13T22:38:00.966Z"
   },
   {
    "duration": 333,
    "start_time": "2021-12-13T22:38:16.264Z"
   },
   {
    "duration": 385,
    "start_time": "2021-12-13T22:38:42.314Z"
   },
   {
    "duration": 12,
    "start_time": "2021-12-13T22:39:39.678Z"
   },
   {
    "duration": 16,
    "start_time": "2021-12-13T22:39:49.214Z"
   },
   {
    "duration": 15,
    "start_time": "2021-12-13T22:39:51.723Z"
   },
   {
    "duration": 11,
    "start_time": "2021-12-13T22:39:54.261Z"
   },
   {
    "duration": 264,
    "start_time": "2021-12-13T22:40:14.947Z"
   },
   {
    "duration": 270,
    "start_time": "2021-12-13T22:40:21.695Z"
   },
   {
    "duration": 14,
    "start_time": "2021-12-13T22:40:29.609Z"
   },
   {
    "duration": 11,
    "start_time": "2021-12-13T22:40:34.537Z"
   },
   {
    "duration": 12,
    "start_time": "2021-12-13T22:42:36.044Z"
   },
   {
    "duration": 13,
    "start_time": "2021-12-13T22:42:40.304Z"
   },
   {
    "duration": 16,
    "start_time": "2021-12-13T22:42:55.481Z"
   },
   {
    "duration": 8467,
    "start_time": "2021-12-13T22:43:45.868Z"
   },
   {
    "duration": 8046,
    "start_time": "2021-12-13T22:44:15.288Z"
   },
   {
    "duration": 16,
    "start_time": "2021-12-13T22:47:14.642Z"
   },
   {
    "duration": 90,
    "start_time": "2021-12-13T22:48:10.647Z"
   },
   {
    "duration": 7978,
    "start_time": "2021-12-13T22:48:17.920Z"
   },
   {
    "duration": 6977,
    "start_time": "2021-12-13T22:48:59.663Z"
   },
   {
    "duration": 8087,
    "start_time": "2021-12-13T22:49:13.447Z"
   },
   {
    "duration": 8772,
    "start_time": "2021-12-13T22:49:34.212Z"
   },
   {
    "duration": 8995,
    "start_time": "2021-12-13T22:50:33.245Z"
   },
   {
    "duration": 15,
    "start_time": "2021-12-13T22:50:53.647Z"
   },
   {
    "duration": 330,
    "start_time": "2021-12-13T22:52:32.118Z"
   },
   {
    "duration": 301,
    "start_time": "2021-12-13T22:52:39.413Z"
   },
   {
    "duration": 261,
    "start_time": "2021-12-13T22:52:59.182Z"
   },
   {
    "duration": 284,
    "start_time": "2021-12-13T22:53:09.046Z"
   },
   {
    "duration": 269,
    "start_time": "2021-12-13T22:53:21.105Z"
   },
   {
    "duration": 305,
    "start_time": "2021-12-13T22:53:26.750Z"
   },
   {
    "duration": 6447,
    "start_time": "2021-12-13T22:54:02.010Z"
   },
   {
    "duration": 6061,
    "start_time": "2021-12-13T22:54:22.828Z"
   },
   {
    "duration": 19,
    "start_time": "2021-12-13T22:59:45.109Z"
   },
   {
    "duration": 14,
    "start_time": "2021-12-13T22:59:53.338Z"
   },
   {
    "duration": 111,
    "start_time": "2021-12-13T23:01:25.107Z"
   },
   {
    "duration": 255,
    "start_time": "2021-12-13T23:01:40.285Z"
   },
   {
    "duration": 272,
    "start_time": "2021-12-13T23:01:59.066Z"
   },
   {
    "duration": 92,
    "start_time": "2021-12-13T23:02:16.470Z"
   },
   {
    "duration": 65,
    "start_time": "2021-12-13T23:02:40.510Z"
   },
   {
    "duration": 61,
    "start_time": "2021-12-13T23:02:53.910Z"
   },
   {
    "duration": 98,
    "start_time": "2021-12-13T23:03:56.679Z"
   },
   {
    "duration": 71,
    "start_time": "2021-12-13T23:04:07.572Z"
   },
   {
    "duration": 61,
    "start_time": "2021-12-13T23:04:18.938Z"
   },
   {
    "duration": 68,
    "start_time": "2021-12-13T23:04:33.186Z"
   },
   {
    "duration": 70,
    "start_time": "2021-12-13T23:05:13.119Z"
   },
   {
    "duration": 102,
    "start_time": "2021-12-13T23:05:18.248Z"
   },
   {
    "duration": 70,
    "start_time": "2021-12-13T23:09:05.393Z"
   },
   {
    "duration": 69,
    "start_time": "2021-12-13T23:10:04.061Z"
   },
   {
    "duration": 269,
    "start_time": "2021-12-13T23:10:10.392Z"
   },
   {
    "duration": 74,
    "start_time": "2021-12-13T23:10:32.650Z"
   },
   {
    "duration": 79,
    "start_time": "2021-12-13T23:12:15.575Z"
   },
   {
    "duration": 13,
    "start_time": "2021-12-13T23:14:00.469Z"
   },
   {
    "duration": 25,
    "start_time": "2021-12-13T23:14:11.451Z"
   },
   {
    "duration": 14,
    "start_time": "2021-12-13T23:14:13.682Z"
   },
   {
    "duration": 339,
    "start_time": "2021-12-14T19:59:03.841Z"
   },
   {
    "duration": 793,
    "start_time": "2021-12-14T19:59:09.921Z"
   },
   {
    "duration": 202,
    "start_time": "2021-12-14T19:59:10.717Z"
   },
   {
    "duration": 27,
    "start_time": "2021-12-14T19:59:10.922Z"
   },
   {
    "duration": 47,
    "start_time": "2021-12-14T19:59:10.953Z"
   },
   {
    "duration": 11,
    "start_time": "2021-12-14T19:59:11.003Z"
   },
   {
    "duration": 53,
    "start_time": "2021-12-14T19:59:11.017Z"
   },
   {
    "duration": 7,
    "start_time": "2021-12-14T19:59:11.073Z"
   },
   {
    "duration": 34,
    "start_time": "2021-12-14T19:59:11.086Z"
   },
   {
    "duration": 58,
    "start_time": "2021-12-14T19:59:11.124Z"
   },
   {
    "duration": 41,
    "start_time": "2021-12-14T19:59:11.185Z"
   },
   {
    "duration": 110,
    "start_time": "2021-12-14T19:59:11.228Z"
   },
   {
    "duration": 115,
    "start_time": "2021-12-14T19:59:11.340Z"
   },
   {
    "duration": 104,
    "start_time": "2021-12-14T19:59:11.466Z"
   },
   {
    "duration": 17,
    "start_time": "2021-12-14T19:59:11.573Z"
   },
   {
    "duration": 5,
    "start_time": "2021-12-14T19:59:11.592Z"
   },
   {
    "duration": 23,
    "start_time": "2021-12-14T19:59:11.600Z"
   },
   {
    "duration": 104,
    "start_time": "2021-12-14T19:59:11.626Z"
   },
   {
    "duration": 48,
    "start_time": "2021-12-14T19:59:11.733Z"
   },
   {
    "duration": 15,
    "start_time": "2021-12-14T19:59:11.784Z"
   },
   {
    "duration": 16,
    "start_time": "2021-12-14T19:59:11.801Z"
   },
   {
    "duration": 3,
    "start_time": "2021-12-14T19:59:11.820Z"
   },
   {
    "duration": 45,
    "start_time": "2021-12-14T19:59:11.826Z"
   },
   {
    "duration": 7,
    "start_time": "2021-12-14T19:59:11.877Z"
   },
   {
    "duration": 5,
    "start_time": "2021-12-14T19:59:11.888Z"
   },
   {
    "duration": 6,
    "start_time": "2021-12-14T19:59:11.895Z"
   },
   {
    "duration": 8,
    "start_time": "2021-12-14T19:59:11.903Z"
   },
   {
    "duration": 10,
    "start_time": "2021-12-14T19:59:11.913Z"
   },
   {
    "duration": 9,
    "start_time": "2021-12-14T19:59:11.925Z"
   },
   {
    "duration": 33,
    "start_time": "2021-12-14T19:59:11.936Z"
   },
   {
    "duration": 19,
    "start_time": "2021-12-14T19:59:11.971Z"
   },
   {
    "duration": 12,
    "start_time": "2021-12-14T19:59:11.992Z"
   },
   {
    "duration": 16,
    "start_time": "2021-12-14T19:59:12.007Z"
   },
   {
    "duration": 13,
    "start_time": "2021-12-14T19:59:12.025Z"
   },
   {
    "duration": 13,
    "start_time": "2021-12-14T19:59:12.040Z"
   },
   {
    "duration": 15,
    "start_time": "2021-12-14T19:59:12.056Z"
   },
   {
    "duration": 20,
    "start_time": "2021-12-14T19:59:12.074Z"
   },
   {
    "duration": 18,
    "start_time": "2021-12-14T19:59:12.100Z"
   },
   {
    "duration": 11,
    "start_time": "2021-12-14T19:59:12.122Z"
   },
   {
    "duration": 9,
    "start_time": "2021-12-14T19:59:12.136Z"
   },
   {
    "duration": 7,
    "start_time": "2021-12-14T19:59:12.148Z"
   },
   {
    "duration": 16,
    "start_time": "2021-12-14T19:59:25.337Z"
   },
   {
    "duration": 302,
    "start_time": "2021-12-14T20:00:17.466Z"
   },
   {
    "duration": 5,
    "start_time": "2021-12-14T20:03:51.222Z"
   },
   {
    "duration": 107,
    "start_time": "2021-12-14T20:03:54.177Z"
   },
   {
    "duration": 101,
    "start_time": "2021-12-14T20:04:03.007Z"
   },
   {
    "duration": 14,
    "start_time": "2021-12-14T20:04:31.522Z"
   },
   {
    "duration": 13,
    "start_time": "2021-12-14T20:04:34.015Z"
   },
   {
    "duration": 6,
    "start_time": "2021-12-14T20:04:37.164Z"
   },
   {
    "duration": 24,
    "start_time": "2021-12-14T20:04:39.606Z"
   },
   {
    "duration": 19,
    "start_time": "2021-12-14T20:05:27.463Z"
   },
   {
    "duration": 24,
    "start_time": "2021-12-14T20:05:45.954Z"
   },
   {
    "duration": 45,
    "start_time": "2021-12-14T20:11:17.612Z"
   },
   {
    "duration": 41,
    "start_time": "2021-12-14T20:11:22.206Z"
   },
   {
    "duration": 36,
    "start_time": "2021-12-14T20:11:38.859Z"
   },
   {
    "duration": 30,
    "start_time": "2021-12-14T20:12:00.843Z"
   },
   {
    "duration": 30,
    "start_time": "2021-12-14T20:12:45.977Z"
   },
   {
    "duration": 42,
    "start_time": "2021-12-14T20:12:50.071Z"
   },
   {
    "duration": 24,
    "start_time": "2021-12-14T20:15:15.997Z"
   },
   {
    "duration": 19,
    "start_time": "2021-12-14T20:15:18.970Z"
   },
   {
    "duration": 26,
    "start_time": "2021-12-14T20:15:22.047Z"
   },
   {
    "duration": 17,
    "start_time": "2021-12-14T20:15:24.407Z"
   },
   {
    "duration": 281,
    "start_time": "2021-12-14T20:20:40.546Z"
   },
   {
    "duration": 286,
    "start_time": "2021-12-14T20:21:12.708Z"
   },
   {
    "duration": 35,
    "start_time": "2021-12-14T20:21:46.616Z"
   },
   {
    "duration": 89,
    "start_time": "2021-12-14T20:23:11.872Z"
   },
   {
    "duration": 37,
    "start_time": "2021-12-14T20:23:14.816Z"
   },
   {
    "duration": 298,
    "start_time": "2021-12-14T20:23:56.455Z"
   },
   {
    "duration": 315,
    "start_time": "2021-12-14T20:24:03.196Z"
   },
   {
    "duration": 36,
    "start_time": "2021-12-14T20:24:10.841Z"
   },
   {
    "duration": 1844,
    "start_time": "2021-12-14T20:25:07.193Z"
   },
   {
    "duration": 44,
    "start_time": "2021-12-14T20:25:28.374Z"
   },
   {
    "duration": 102,
    "start_time": "2021-12-14T20:26:06.744Z"
   },
   {
    "duration": 86,
    "start_time": "2021-12-14T20:26:18.755Z"
   },
   {
    "duration": 761,
    "start_time": "2021-12-14T20:26:22.251Z"
   },
   {
    "duration": 41,
    "start_time": "2021-12-14T20:26:33.157Z"
   },
   {
    "duration": 316,
    "start_time": "2021-12-14T20:27:11.076Z"
   },
   {
    "duration": 43,
    "start_time": "2021-12-14T20:27:14.868Z"
   },
   {
    "duration": 304,
    "start_time": "2021-12-14T20:30:18.291Z"
   },
   {
    "duration": 43,
    "start_time": "2021-12-14T20:31:59.709Z"
   },
   {
    "duration": 42,
    "start_time": "2021-12-14T20:32:06.999Z"
   },
   {
    "duration": 8,
    "start_time": "2021-12-14T20:33:20.570Z"
   },
   {
    "duration": 8,
    "start_time": "2021-12-14T20:34:01.987Z"
   },
   {
    "duration": 44,
    "start_time": "2021-12-14T20:34:05.962Z"
   },
   {
    "duration": 82,
    "start_time": "2021-12-14T20:34:26.497Z"
   },
   {
    "duration": 99,
    "start_time": "2021-12-14T20:34:30.645Z"
   },
   {
    "duration": 90,
    "start_time": "2021-12-14T20:34:35.311Z"
   },
   {
    "duration": 100,
    "start_time": "2021-12-14T20:34:39.450Z"
   },
   {
    "duration": 114,
    "start_time": "2021-12-14T20:34:53.441Z"
   },
   {
    "duration": 7,
    "start_time": "2021-12-14T20:35:28.983Z"
   },
   {
    "duration": 44,
    "start_time": "2021-12-14T20:35:35.616Z"
   },
   {
    "duration": 8,
    "start_time": "2021-12-14T20:35:43.370Z"
   },
   {
    "duration": 44,
    "start_time": "2021-12-14T20:35:48.439Z"
   },
   {
    "duration": 92,
    "start_time": "2021-12-14T20:37:32.993Z"
   },
   {
    "duration": 46,
    "start_time": "2021-12-14T20:37:38.132Z"
   },
   {
    "duration": 107,
    "start_time": "2021-12-14T20:38:03.432Z"
   },
   {
    "duration": 97,
    "start_time": "2021-12-14T20:38:11.592Z"
   },
   {
    "duration": 349,
    "start_time": "2021-12-14T20:38:18.958Z"
   },
   {
    "duration": 48,
    "start_time": "2021-12-14T20:38:43.766Z"
   },
   {
    "duration": 8,
    "start_time": "2021-12-14T20:40:25.583Z"
   },
   {
    "duration": 582,
    "start_time": "2021-12-14T20:40:29.832Z"
   },
   {
    "duration": 7,
    "start_time": "2021-12-14T20:40:47.932Z"
   },
   {
    "duration": 44,
    "start_time": "2021-12-14T20:40:52.234Z"
   },
   {
    "duration": 99,
    "start_time": "2021-12-14T20:43:17.238Z"
   },
   {
    "duration": 7,
    "start_time": "2021-12-14T20:43:23.991Z"
   },
   {
    "duration": 7,
    "start_time": "2021-12-14T20:43:40.185Z"
   },
   {
    "duration": 8,
    "start_time": "2021-12-14T20:43:43.269Z"
   },
   {
    "duration": 47,
    "start_time": "2021-12-14T20:43:48.205Z"
   },
   {
    "duration": 8,
    "start_time": "2021-12-14T20:43:57.179Z"
   },
   {
    "duration": 45,
    "start_time": "2021-12-14T20:44:00.973Z"
   },
   {
    "duration": 321,
    "start_time": "2021-12-14T20:52:43.794Z"
   },
   {
    "duration": 288,
    "start_time": "2021-12-14T20:52:54.584Z"
   },
   {
    "duration": 37,
    "start_time": "2021-12-14T20:53:10.080Z"
   },
   {
    "duration": 39,
    "start_time": "2021-12-14T20:53:19.804Z"
   },
   {
    "duration": 45,
    "start_time": "2021-12-14T20:53:55.468Z"
   },
   {
    "duration": 98,
    "start_time": "2021-12-14T20:54:44.734Z"
   },
   {
    "duration": 95,
    "start_time": "2021-12-14T20:54:53.099Z"
   },
   {
    "duration": 84,
    "start_time": "2021-12-14T20:55:03.697Z"
   },
   {
    "duration": 45,
    "start_time": "2021-12-14T20:55:12.080Z"
   },
   {
    "duration": 52,
    "start_time": "2021-12-14T20:55:16.924Z"
   },
   {
    "duration": 1272,
    "start_time": "2021-12-14T20:55:25.468Z"
   },
   {
    "duration": 312,
    "start_time": "2021-12-14T20:55:28.078Z"
   },
   {
    "duration": 44,
    "start_time": "2021-12-14T20:55:35.506Z"
   },
   {
    "duration": 45,
    "start_time": "2021-12-14T20:56:25.823Z"
   },
   {
    "duration": 43,
    "start_time": "2021-12-14T20:56:36.423Z"
   },
   {
    "duration": 42,
    "start_time": "2021-12-14T20:56:40.357Z"
   },
   {
    "duration": 43,
    "start_time": "2021-12-14T20:56:45.589Z"
   },
   {
    "duration": 305,
    "start_time": "2021-12-14T20:57:38.955Z"
   },
   {
    "duration": 298,
    "start_time": "2021-12-14T20:57:40.911Z"
   },
   {
    "duration": 44,
    "start_time": "2021-12-14T20:58:51.489Z"
   },
   {
    "duration": 40,
    "start_time": "2021-12-14T20:59:22.515Z"
   },
   {
    "duration": 45,
    "start_time": "2021-12-14T21:00:23.458Z"
   },
   {
    "duration": 43,
    "start_time": "2021-12-14T21:01:00.373Z"
   },
   {
    "duration": 43,
    "start_time": "2021-12-14T21:02:01.477Z"
   },
   {
    "duration": 47,
    "start_time": "2021-12-14T21:02:05.342Z"
   },
   {
    "duration": 298,
    "start_time": "2021-12-14T21:03:32.483Z"
   },
   {
    "duration": 41,
    "start_time": "2021-12-14T21:04:19.295Z"
   },
   {
    "duration": 14,
    "start_time": "2021-12-14T21:04:42.285Z"
   },
   {
    "duration": 268,
    "start_time": "2021-12-14T21:05:17.609Z"
   },
   {
    "duration": 10,
    "start_time": "2021-12-14T21:05:23.348Z"
   },
   {
    "duration": 9,
    "start_time": "2021-12-14T21:05:26.755Z"
   },
   {
    "duration": 11,
    "start_time": "2021-12-14T21:06:09.937Z"
   },
   {
    "duration": 7,
    "start_time": "2021-12-14T21:06:10.781Z"
   },
   {
    "duration": 26,
    "start_time": "2021-12-14T21:17:32.891Z"
   },
   {
    "duration": 96,
    "start_time": "2021-12-14T21:18:11.009Z"
   },
   {
    "duration": 30,
    "start_time": "2021-12-14T21:18:16.842Z"
   },
   {
    "duration": 29,
    "start_time": "2021-12-14T21:18:27.437Z"
   },
   {
    "duration": 20,
    "start_time": "2021-12-14T21:18:39.189Z"
   },
   {
    "duration": 19,
    "start_time": "2021-12-14T21:18:41.450Z"
   },
   {
    "duration": 29,
    "start_time": "2021-12-14T21:18:44.614Z"
   },
   {
    "duration": 17,
    "start_time": "2021-12-14T21:19:05.501Z"
   },
   {
    "duration": 25,
    "start_time": "2021-12-14T21:19:41.564Z"
   },
   {
    "duration": 35,
    "start_time": "2021-12-14T21:20:04.702Z"
   },
   {
    "duration": 25,
    "start_time": "2021-12-14T21:20:11.905Z"
   },
   {
    "duration": 26,
    "start_time": "2021-12-14T21:20:50.801Z"
   },
   {
    "duration": 25,
    "start_time": "2021-12-14T21:21:14.020Z"
   },
   {
    "duration": 30,
    "start_time": "2021-12-14T21:21:22.286Z"
   },
   {
    "duration": 29,
    "start_time": "2021-12-14T21:22:19.305Z"
   },
   {
    "duration": 35,
    "start_time": "2021-12-14T21:22:53.316Z"
   },
   {
    "duration": 42,
    "start_time": "2021-12-14T21:23:36.917Z"
   },
   {
    "duration": 42,
    "start_time": "2021-12-14T21:23:47.638Z"
   },
   {
    "duration": 43,
    "start_time": "2021-12-14T21:24:05.309Z"
   },
   {
    "duration": 32,
    "start_time": "2021-12-14T21:24:21.975Z"
   },
   {
    "duration": 31,
    "start_time": "2021-12-14T21:24:38.111Z"
   },
   {
    "duration": 41,
    "start_time": "2021-12-14T21:24:55.350Z"
   },
   {
    "duration": 40,
    "start_time": "2021-12-14T21:25:05.065Z"
   },
   {
    "duration": 38,
    "start_time": "2021-12-14T21:25:14.196Z"
   },
   {
    "duration": 40,
    "start_time": "2021-12-14T21:25:18.449Z"
   },
   {
    "duration": 42,
    "start_time": "2021-12-14T21:28:12.763Z"
   },
   {
    "duration": 39,
    "start_time": "2021-12-14T21:28:36.049Z"
   },
   {
    "duration": 295,
    "start_time": "2021-12-14T21:29:24.256Z"
   },
   {
    "duration": 31,
    "start_time": "2021-12-14T21:29:35.027Z"
   },
   {
    "duration": 36,
    "start_time": "2021-12-14T21:29:49.734Z"
   },
   {
    "duration": 29,
    "start_time": "2021-12-14T21:30:07.573Z"
   },
   {
    "duration": 288,
    "start_time": "2021-12-14T21:30:33.713Z"
   },
   {
    "duration": 285,
    "start_time": "2021-12-14T21:30:49.931Z"
   },
   {
    "duration": 30,
    "start_time": "2021-12-14T21:31:00.541Z"
   },
   {
    "duration": 294,
    "start_time": "2021-12-14T21:31:35.662Z"
   },
   {
    "duration": 30,
    "start_time": "2021-12-14T21:31:55.160Z"
   },
   {
    "duration": 26,
    "start_time": "2021-12-14T21:32:05.745Z"
   },
   {
    "duration": 30,
    "start_time": "2021-12-14T21:32:11.130Z"
   },
   {
    "duration": 47,
    "start_time": "2021-12-14T21:35:18.410Z"
   },
   {
    "duration": 36,
    "start_time": "2021-12-14T21:35:41.173Z"
   },
   {
    "duration": 24,
    "start_time": "2021-12-14T21:36:20.303Z"
   },
   {
    "duration": 25,
    "start_time": "2021-12-14T21:36:44.246Z"
   },
   {
    "duration": 23,
    "start_time": "2021-12-14T21:36:52.298Z"
   },
   {
    "duration": 35,
    "start_time": "2021-12-14T21:37:11.724Z"
   },
   {
    "duration": 33,
    "start_time": "2021-12-14T21:38:12.455Z"
   },
   {
    "duration": 30,
    "start_time": "2021-12-14T21:38:21.988Z"
   },
   {
    "duration": 31,
    "start_time": "2021-12-14T21:38:39.296Z"
   },
   {
    "duration": 32,
    "start_time": "2021-12-14T21:39:09.279Z"
   },
   {
    "duration": 30,
    "start_time": "2021-12-14T21:39:15.413Z"
   },
   {
    "duration": 52,
    "start_time": "2021-12-14T21:39:33.706Z"
   },
   {
    "duration": 294,
    "start_time": "2021-12-14T21:39:55.506Z"
   },
   {
    "duration": 296,
    "start_time": "2021-12-14T21:40:16.201Z"
   },
   {
    "duration": 780,
    "start_time": "2021-12-14T21:40:24.750Z"
   },
   {
    "duration": 52,
    "start_time": "2021-12-14T21:40:38.506Z"
   },
   {
    "duration": 124,
    "start_time": "2021-12-14T21:40:53.897Z"
   },
   {
    "duration": 414,
    "start_time": "2021-12-14T21:41:00.340Z"
   },
   {
    "duration": 45,
    "start_time": "2021-12-14T21:41:04.052Z"
   },
   {
    "duration": 46,
    "start_time": "2021-12-14T21:41:24.872Z"
   },
   {
    "duration": 44,
    "start_time": "2021-12-14T21:41:46.020Z"
   },
   {
    "duration": 106,
    "start_time": "2021-12-14T21:42:02.475Z"
   },
   {
    "duration": 47,
    "start_time": "2021-12-14T21:42:08.622Z"
   },
   {
    "duration": 45,
    "start_time": "2021-12-14T21:42:42.303Z"
   },
   {
    "duration": 43,
    "start_time": "2021-12-14T21:42:57.314Z"
   },
   {
    "duration": 42,
    "start_time": "2021-12-14T21:43:12.104Z"
   },
   {
    "duration": 44,
    "start_time": "2021-12-14T21:43:24.722Z"
   },
   {
    "duration": 45,
    "start_time": "2021-12-14T21:43:44.664Z"
   },
   {
    "duration": 44,
    "start_time": "2021-12-14T21:43:53.560Z"
   },
   {
    "duration": 49,
    "start_time": "2021-12-14T21:44:45.281Z"
   },
   {
    "duration": 49,
    "start_time": "2021-12-14T21:45:03.279Z"
   },
   {
    "duration": 49,
    "start_time": "2021-12-14T21:45:16.221Z"
   },
   {
    "duration": 49,
    "start_time": "2021-12-14T21:45:22.041Z"
   },
   {
    "duration": 85,
    "start_time": "2021-12-14T21:45:39.447Z"
   },
   {
    "duration": 100,
    "start_time": "2021-12-14T21:45:45.986Z"
   },
   {
    "duration": 94,
    "start_time": "2021-12-14T21:45:50.134Z"
   },
   {
    "duration": 48,
    "start_time": "2021-12-14T21:45:55.828Z"
   },
   {
    "duration": 61,
    "start_time": "2021-12-14T21:46:04.500Z"
   },
   {
    "duration": 58,
    "start_time": "2021-12-14T21:46:36.555Z"
   },
   {
    "duration": 310,
    "start_time": "2021-12-14T21:46:53.195Z"
   },
   {
    "duration": 57,
    "start_time": "2021-12-14T21:47:09.916Z"
   },
   {
    "duration": 49,
    "start_time": "2021-12-14T21:47:36.420Z"
   },
   {
    "duration": 51,
    "start_time": "2021-12-14T21:48:07.361Z"
   },
   {
    "duration": 86,
    "start_time": "2021-12-14T21:48:21.653Z"
   },
   {
    "duration": 54,
    "start_time": "2021-12-14T21:48:49.535Z"
   },
   {
    "duration": 51,
    "start_time": "2021-12-14T21:50:23.113Z"
   },
   {
    "duration": 80,
    "start_time": "2021-12-14T21:50:36.393Z"
   },
   {
    "duration": 81,
    "start_time": "2021-12-14T21:50:41.342Z"
   },
   {
    "duration": 98,
    "start_time": "2021-12-14T21:50:46.727Z"
   },
   {
    "duration": 81,
    "start_time": "2021-12-14T21:50:58.387Z"
   },
   {
    "duration": 161,
    "start_time": "2021-12-14T21:51:27.079Z"
   },
   {
    "duration": 161,
    "start_time": "2021-12-14T21:51:42.120Z"
   },
   {
    "duration": 186,
    "start_time": "2021-12-14T21:53:08.668Z"
   },
   {
    "duration": 184,
    "start_time": "2021-12-14T21:53:12.841Z"
   },
   {
    "duration": 155,
    "start_time": "2021-12-14T21:53:28.814Z"
   },
   {
    "duration": 142,
    "start_time": "2021-12-14T21:53:35.016Z"
   },
   {
    "duration": 138,
    "start_time": "2021-12-14T21:53:39.671Z"
   },
   {
    "duration": 218,
    "start_time": "2021-12-14T21:53:56.461Z"
   },
   {
    "duration": 229,
    "start_time": "2021-12-14T21:54:02.029Z"
   },
   {
    "duration": 221,
    "start_time": "2021-12-14T21:54:06.683Z"
   },
   {
    "duration": 144,
    "start_time": "2021-12-14T21:54:22.044Z"
   },
   {
    "duration": 210,
    "start_time": "2021-12-14T21:54:25.791Z"
   },
   {
    "duration": 137,
    "start_time": "2021-12-14T21:54:37.587Z"
   },
   {
    "duration": 150,
    "start_time": "2021-12-14T21:54:40.567Z"
   },
   {
    "duration": 85,
    "start_time": "2021-12-14T21:57:56.447Z"
   },
   {
    "duration": 83,
    "start_time": "2021-12-14T21:58:58.395Z"
   },
   {
    "duration": 52,
    "start_time": "2021-12-14T21:59:20.206Z"
   },
   {
    "duration": 93,
    "start_time": "2021-12-14T21:59:52.176Z"
   },
   {
    "duration": 93,
    "start_time": "2021-12-14T22:00:01.167Z"
   },
   {
    "duration": 63,
    "start_time": "2021-12-14T22:00:15.936Z"
   },
   {
    "duration": 353,
    "start_time": "2021-12-14T22:00:29.644Z"
   },
   {
    "duration": 320,
    "start_time": "2021-12-14T22:00:50.807Z"
   },
   {
    "duration": 358,
    "start_time": "2021-12-14T22:01:18.354Z"
   },
   {
    "duration": 307,
    "start_time": "2021-12-14T22:02:00.630Z"
   },
   {
    "duration": 354,
    "start_time": "2021-12-14T22:02:05.730Z"
   },
   {
    "duration": 337,
    "start_time": "2021-12-14T22:02:11.415Z"
   },
   {
    "duration": 354,
    "start_time": "2021-12-14T22:02:46.338Z"
   },
   {
    "duration": -118,
    "start_time": "2021-12-14T22:04:43.927Z"
   },
   {
    "duration": 86,
    "start_time": "2021-12-14T22:04:49.818Z"
   },
   {
    "duration": 93,
    "start_time": "2021-12-14T22:05:49.874Z"
   },
   {
    "duration": 96,
    "start_time": "2021-12-14T22:06:07.146Z"
   },
   {
    "duration": 300,
    "start_time": "2021-12-14T22:06:26.046Z"
   },
   {
    "duration": 452,
    "start_time": "2021-12-14T22:06:53.887Z"
   },
   {
    "duration": 301,
    "start_time": "2021-12-14T22:09:16.666Z"
   },
   {
    "duration": 391,
    "start_time": "2021-12-14T22:09:35.168Z"
   },
   {
    "duration": 309,
    "start_time": "2021-12-14T22:09:51.104Z"
   },
   {
    "duration": 25,
    "start_time": "2021-12-14T22:10:00.424Z"
   },
   {
    "duration": 334,
    "start_time": "2021-12-14T22:10:18.123Z"
   },
   {
    "duration": 326,
    "start_time": "2021-12-14T22:10:21.782Z"
   },
   {
    "duration": 334,
    "start_time": "2021-12-14T22:10:31.452Z"
   },
   {
    "duration": 580,
    "start_time": "2021-12-14T22:12:06.380Z"
   },
   {
    "duration": 322,
    "start_time": "2021-12-14T22:12:12.418Z"
   },
   {
    "duration": 38,
    "start_time": "2021-12-14T22:12:17.745Z"
   },
   {
    "duration": 343,
    "start_time": "2021-12-14T22:12:32.705Z"
   },
   {
    "duration": 38,
    "start_time": "2021-12-14T22:12:53.890Z"
   },
   {
    "duration": 39,
    "start_time": "2021-12-14T22:12:58.727Z"
   },
   {
    "duration": 44,
    "start_time": "2021-12-14T22:13:01.734Z"
   },
   {
    "duration": 38,
    "start_time": "2021-12-14T22:13:05.884Z"
   },
   {
    "duration": 39,
    "start_time": "2021-12-14T22:13:12.321Z"
   },
   {
    "duration": 44,
    "start_time": "2021-12-14T22:13:24.407Z"
   },
   {
    "duration": 37,
    "start_time": "2021-12-14T22:13:32.353Z"
   },
   {
    "duration": 62,
    "start_time": "2021-12-14T22:13:37.376Z"
   },
   {
    "duration": 39,
    "start_time": "2021-12-14T22:13:45.197Z"
   },
   {
    "duration": 39,
    "start_time": "2021-12-14T22:13:48.560Z"
   },
   {
    "duration": 36,
    "start_time": "2021-12-14T22:13:52.595Z"
   },
   {
    "duration": 319,
    "start_time": "2021-12-14T22:14:19.108Z"
   },
   {
    "duration": 318,
    "start_time": "2021-12-14T22:14:45.529Z"
   },
   {
    "duration": 336,
    "start_time": "2021-12-14T22:14:52.035Z"
   },
   {
    "duration": 306,
    "start_time": "2021-12-14T22:14:55.336Z"
   },
   {
    "duration": 324,
    "start_time": "2021-12-14T22:15:11.970Z"
   },
   {
    "duration": 341,
    "start_time": "2021-12-14T22:15:15.640Z"
   },
   {
    "duration": 324,
    "start_time": "2021-12-14T22:15:22.214Z"
   },
   {
    "duration": 88,
    "start_time": "2021-12-14T22:17:34.019Z"
   },
   {
    "duration": 272,
    "start_time": "2021-12-14T22:18:50.409Z"
   },
   {
    "duration": 304,
    "start_time": "2021-12-14T22:20:15.186Z"
   },
   {
    "duration": 85,
    "start_time": "2021-12-14T22:21:05.359Z"
   },
   {
    "duration": 326,
    "start_time": "2021-12-14T22:21:10.071Z"
   },
   {
    "duration": 310,
    "start_time": "2021-12-14T22:21:28.629Z"
   },
   {
    "duration": 352,
    "start_time": "2021-12-14T22:21:37.930Z"
   },
   {
    "duration": 59,
    "start_time": "2021-12-14T22:27:22.829Z"
   },
   {
    "duration": 51,
    "start_time": "2021-12-14T22:27:33.944Z"
   },
   {
    "duration": 82,
    "start_time": "2021-12-14T22:27:43.856Z"
   },
   {
    "duration": 51,
    "start_time": "2021-12-14T22:27:49.701Z"
   },
   {
    "duration": 50,
    "start_time": "2021-12-14T22:28:08.699Z"
   },
   {
    "duration": 47,
    "start_time": "2021-12-14T22:28:26.108Z"
   },
   {
    "duration": 45,
    "start_time": "2021-12-14T22:29:29.327Z"
   },
   {
    "duration": 41,
    "start_time": "2021-12-14T22:29:55.323Z"
   },
   {
    "duration": 42,
    "start_time": "2021-12-14T22:30:00.967Z"
   },
   {
    "duration": 86,
    "start_time": "2021-12-14T22:31:29.318Z"
   },
   {
    "duration": 57,
    "start_time": "2021-12-14T22:33:58.307Z"
   },
   {
    "duration": 320,
    "start_time": "2021-12-14T22:34:11.750Z"
   },
   {
    "duration": 288,
    "start_time": "2021-12-14T22:34:19.124Z"
   },
   {
    "duration": 59,
    "start_time": "2021-12-14T22:34:26.611Z"
   },
   {
    "duration": 108,
    "start_time": "2021-12-14T22:36:06.947Z"
   },
   {
    "duration": 91,
    "start_time": "2021-12-14T22:36:57.299Z"
   },
   {
    "duration": 85,
    "start_time": "2021-12-14T22:37:31.646Z"
   },
   {
    "duration": 56,
    "start_time": "2021-12-14T22:37:42.969Z"
   },
   {
    "duration": 56,
    "start_time": "2021-12-14T22:37:59.358Z"
   },
   {
    "duration": 62,
    "start_time": "2021-12-14T22:38:19.602Z"
   },
   {
    "duration": 57,
    "start_time": "2021-12-14T22:38:32.267Z"
   },
   {
    "duration": 67,
    "start_time": "2021-12-14T22:39:24.361Z"
   },
   {
    "duration": 59,
    "start_time": "2021-12-14T22:39:35.808Z"
   },
   {
    "duration": 52,
    "start_time": "2021-12-14T22:40:56.243Z"
   },
   {
    "duration": 64,
    "start_time": "2021-12-14T22:41:14.208Z"
   },
   {
    "duration": 65,
    "start_time": "2021-12-14T22:41:23.938Z"
   },
   {
    "duration": 64,
    "start_time": "2021-12-14T22:41:37.117Z"
   },
   {
    "duration": 57,
    "start_time": "2021-12-14T22:41:59.293Z"
   },
   {
    "duration": 58,
    "start_time": "2021-12-14T22:42:10.488Z"
   },
   {
    "duration": 101,
    "start_time": "2021-12-14T22:43:22.879Z"
   },
   {
    "duration": 85,
    "start_time": "2021-12-14T22:43:27.572Z"
   },
   {
    "duration": 89,
    "start_time": "2021-12-14T22:44:10.430Z"
   },
   {
    "duration": 100,
    "start_time": "2021-12-14T22:44:30.029Z"
   },
   {
    "duration": 90,
    "start_time": "2021-12-14T22:44:52.143Z"
   },
   {
    "duration": 65,
    "start_time": "2021-12-14T22:45:20.023Z"
   },
   {
    "duration": 57,
    "start_time": "2021-12-14T22:46:13.403Z"
   },
   {
    "duration": 61,
    "start_time": "2021-12-14T22:46:53.491Z"
   },
   {
    "duration": 91,
    "start_time": "2021-12-14T22:47:51.410Z"
   },
   {
    "duration": 101,
    "start_time": "2021-12-14T22:48:03.107Z"
   },
   {
    "duration": 94,
    "start_time": "2021-12-14T22:48:15.259Z"
   },
   {
    "duration": 105,
    "start_time": "2021-12-14T22:48:29.834Z"
   },
   {
    "duration": 101,
    "start_time": "2021-12-14T22:49:22.460Z"
   },
   {
    "duration": 102,
    "start_time": "2021-12-14T22:49:58.954Z"
   },
   {
    "duration": 699,
    "start_time": "2021-12-14T22:50:38.152Z"
   },
   {
    "duration": -86,
    "start_time": "2021-12-14T22:51:34.875Z"
   },
   {
    "duration": 702,
    "start_time": "2021-12-14T22:52:19.468Z"
   },
   {
    "duration": 67,
    "start_time": "2021-12-14T22:52:38.979Z"
   },
   {
    "duration": 288,
    "start_time": "2021-12-14T22:53:37.732Z"
   },
   {
    "duration": 84,
    "start_time": "2021-12-14T22:53:48.710Z"
   },
   {
    "duration": 31,
    "start_time": "2021-12-14T22:56:11.695Z"
   },
   {
    "duration": 4,
    "start_time": "2021-12-14T22:56:27.524Z"
   },
   {
    "duration": 196,
    "start_time": "2021-12-14T22:56:27.531Z"
   },
   {
    "duration": 16,
    "start_time": "2021-12-14T22:56:27.730Z"
   },
   {
    "duration": 48,
    "start_time": "2021-12-14T22:56:27.749Z"
   },
   {
    "duration": 6,
    "start_time": "2021-12-14T22:56:27.799Z"
   },
   {
    "duration": 28,
    "start_time": "2021-12-14T22:56:27.807Z"
   },
   {
    "duration": 32,
    "start_time": "2021-12-14T22:56:27.837Z"
   },
   {
    "duration": 31,
    "start_time": "2021-12-14T22:56:32.541Z"
   },
   {
    "duration": 22,
    "start_time": "2021-12-14T22:56:49.985Z"
   },
   {
    "duration": 31,
    "start_time": "2021-12-14T22:56:53.822Z"
   },
   {
    "duration": 83,
    "start_time": "2021-12-14T22:56:58.605Z"
   },
   {
    "duration": 84,
    "start_time": "2021-12-14T22:57:18.365Z"
   },
   {
    "duration": 96,
    "start_time": "2021-12-14T22:57:44.612Z"
   },
   {
    "duration": 77,
    "start_time": "2021-12-14T22:57:56.277Z"
   },
   {
    "duration": 15,
    "start_time": "2021-12-14T22:58:02.383Z"
   },
   {
    "duration": 4,
    "start_time": "2021-12-14T22:58:30.028Z"
   },
   {
    "duration": 17,
    "start_time": "2021-12-14T22:58:33.728Z"
   },
   {
    "duration": 92,
    "start_time": "2021-12-14T23:09:48.936Z"
   },
   {
    "duration": 8,
    "start_time": "2021-12-14T23:10:25.541Z"
   },
   {
    "duration": 309,
    "start_time": "2021-12-14T23:10:27.798Z"
   },
   {
    "duration": 25,
    "start_time": "2021-12-14T23:10:49.025Z"
   },
   {
    "duration": 308,
    "start_time": "2021-12-14T23:11:02.531Z"
   },
   {
    "duration": 430,
    "start_time": "2021-12-14T23:13:07.448Z"
   },
   {
    "duration": 425,
    "start_time": "2021-12-14T23:13:19.109Z"
   },
   {
    "duration": 296,
    "start_time": "2021-12-14T23:13:37.333Z"
   },
   {
    "duration": 435,
    "start_time": "2021-12-14T23:13:47.175Z"
   },
   {
    "duration": 326,
    "start_time": "2021-12-14T23:13:55.955Z"
   },
   {
    "duration": 426,
    "start_time": "2021-12-14T23:14:13.883Z"
   },
   {
    "duration": 418,
    "start_time": "2021-12-14T23:14:22.381Z"
   },
   {
    "duration": 314,
    "start_time": "2021-12-14T23:14:33.229Z"
   },
   {
    "duration": 44,
    "start_time": "2021-12-14T23:15:53.517Z"
   },
   {
    "duration": 47,
    "start_time": "2021-12-14T23:16:02.364Z"
   },
   {
    "duration": 568,
    "start_time": "2021-12-15T20:49:17.165Z"
   },
   {
    "duration": 135,
    "start_time": "2021-12-15T20:49:17.735Z"
   },
   {
    "duration": 21,
    "start_time": "2021-12-15T20:49:17.872Z"
   },
   {
    "duration": 25,
    "start_time": "2021-12-15T20:49:17.895Z"
   },
   {
    "duration": 4,
    "start_time": "2021-12-15T20:49:17.922Z"
   },
   {
    "duration": 21,
    "start_time": "2021-12-15T20:49:17.928Z"
   },
   {
    "duration": 5,
    "start_time": "2021-12-15T20:49:17.951Z"
   },
   {
    "duration": 23,
    "start_time": "2021-12-15T20:49:17.991Z"
   },
   {
    "duration": 16,
    "start_time": "2021-12-15T20:49:18.017Z"
   },
   {
    "duration": 22,
    "start_time": "2021-12-15T20:49:18.036Z"
   },
   {
    "duration": 84,
    "start_time": "2021-12-15T20:49:18.060Z"
   },
   {
    "duration": 75,
    "start_time": "2021-12-15T20:49:18.145Z"
   },
   {
    "duration": 82,
    "start_time": "2021-12-15T20:49:18.221Z"
   },
   {
    "duration": 49,
    "start_time": "2021-12-15T20:49:18.306Z"
   },
   {
    "duration": 9,
    "start_time": "2021-12-15T20:49:18.357Z"
   },
   {
    "duration": 3,
    "start_time": "2021-12-15T20:49:18.367Z"
   },
   {
    "duration": 11,
    "start_time": "2021-12-15T20:49:18.391Z"
   },
   {
    "duration": 45,
    "start_time": "2021-12-15T20:49:18.403Z"
   },
   {
    "duration": 15,
    "start_time": "2021-12-15T20:49:18.449Z"
   },
   {
    "duration": 33,
    "start_time": "2021-12-15T20:49:18.466Z"
   },
   {
    "duration": 12,
    "start_time": "2021-12-15T20:49:18.500Z"
   },
   {
    "duration": 9,
    "start_time": "2021-12-15T20:49:18.514Z"
   },
   {
    "duration": 3,
    "start_time": "2021-12-15T20:49:18.527Z"
   },
   {
    "duration": 105,
    "start_time": "2021-12-15T20:49:18.532Z"
   },
   {
    "duration": 2,
    "start_time": "2021-12-15T20:49:18.639Z"
   },
   {
    "duration": 6,
    "start_time": "2021-12-15T20:49:18.643Z"
   },
   {
    "duration": 5,
    "start_time": "2021-12-15T20:49:18.650Z"
   },
   {
    "duration": 6,
    "start_time": "2021-12-15T20:49:18.656Z"
   },
   {
    "duration": 5,
    "start_time": "2021-12-15T20:49:18.664Z"
   },
   {
    "duration": 79,
    "start_time": "2021-12-15T20:49:18.670Z"
   },
   {
    "duration": 9,
    "start_time": "2021-12-15T20:49:18.750Z"
   },
   {
    "duration": 13,
    "start_time": "2021-12-15T20:49:18.761Z"
   },
   {
    "duration": 16,
    "start_time": "2021-12-15T20:49:18.776Z"
   },
   {
    "duration": 205,
    "start_time": "2021-12-15T20:49:18.794Z"
   },
   {
    "duration": 16,
    "start_time": "2021-12-15T20:49:19.000Z"
   },
   {
    "duration": 11,
    "start_time": "2021-12-15T20:49:19.018Z"
   },
   {
    "duration": 17,
    "start_time": "2021-12-15T20:49:19.032Z"
   },
   {
    "duration": 11,
    "start_time": "2021-12-15T20:49:19.051Z"
   },
   {
    "duration": 59,
    "start_time": "2021-12-15T20:49:19.064Z"
   },
   {
    "duration": 30,
    "start_time": "2021-12-15T20:49:19.125Z"
   },
   {
    "duration": 35,
    "start_time": "2021-12-15T20:49:19.157Z"
   },
   {
    "duration": 5,
    "start_time": "2021-12-15T20:49:19.194Z"
   },
   {
    "duration": 8,
    "start_time": "2021-12-15T20:49:19.200Z"
   },
   {
    "duration": 12,
    "start_time": "2021-12-15T20:49:19.209Z"
   },
   {
    "duration": 118,
    "start_time": "2021-12-16T14:28:17.773Z"
   },
   {
    "duration": 345,
    "start_time": "2021-12-16T14:31:34.852Z"
   },
   {
    "duration": 826,
    "start_time": "2021-12-16T14:31:39.683Z"
   },
   {
    "duration": 160,
    "start_time": "2021-12-16T14:31:40.512Z"
   },
   {
    "duration": 25,
    "start_time": "2021-12-16T14:31:40.675Z"
   },
   {
    "duration": 41,
    "start_time": "2021-12-16T14:31:40.703Z"
   },
   {
    "duration": 7,
    "start_time": "2021-12-16T14:31:40.746Z"
   },
   {
    "duration": 28,
    "start_time": "2021-12-16T14:31:40.756Z"
   },
   {
    "duration": 15,
    "start_time": "2021-12-16T14:31:40.787Z"
   },
   {
    "duration": 42,
    "start_time": "2021-12-16T14:31:40.805Z"
   },
   {
    "duration": 19,
    "start_time": "2021-12-16T14:31:40.850Z"
   },
   {
    "duration": 52,
    "start_time": "2021-12-16T14:31:40.872Z"
   },
   {
    "duration": 102,
    "start_time": "2021-12-16T14:31:40.927Z"
   },
   {
    "duration": 92,
    "start_time": "2021-12-16T14:31:41.032Z"
   },
   {
    "duration": 96,
    "start_time": "2021-12-16T14:31:41.127Z"
   },
   {
    "duration": 67,
    "start_time": "2021-12-16T14:31:41.226Z"
   },
   {
    "duration": 13,
    "start_time": "2021-12-16T14:31:44.269Z"
   },
   {
    "duration": 9,
    "start_time": "2021-12-16T14:31:50.413Z"
   },
   {
    "duration": 360,
    "start_time": "2021-12-16T14:32:03.213Z"
   },
   {
    "duration": 125,
    "start_time": "2021-12-16T14:32:15.966Z"
   },
   {
    "duration": 93,
    "start_time": "2021-12-16T14:32:24.540Z"
   },
   {
    "duration": 56,
    "start_time": "2021-12-16T14:32:29.647Z"
   },
   {
    "duration": 14,
    "start_time": "2021-12-16T14:33:46.176Z"
   },
   {
    "duration": 56,
    "start_time": "2021-12-16T14:34:34.792Z"
   },
   {
    "duration": 3,
    "start_time": "2021-12-16T14:56:32.563Z"
   },
   {
    "duration": 207,
    "start_time": "2021-12-16T14:56:32.569Z"
   },
   {
    "duration": 14,
    "start_time": "2021-12-16T14:56:32.779Z"
   },
   {
    "duration": 47,
    "start_time": "2021-12-16T14:56:32.795Z"
   },
   {
    "duration": 5,
    "start_time": "2021-12-16T14:56:32.845Z"
   },
   {
    "duration": 18,
    "start_time": "2021-12-16T14:56:32.852Z"
   },
   {
    "duration": 6,
    "start_time": "2021-12-16T14:56:32.873Z"
   },
   {
    "duration": 60,
    "start_time": "2021-12-16T14:56:32.881Z"
   },
   {
    "duration": 27,
    "start_time": "2021-12-16T14:56:32.944Z"
   },
   {
    "duration": 35,
    "start_time": "2021-12-16T14:56:32.973Z"
   },
   {
    "duration": 77,
    "start_time": "2021-12-16T14:56:33.024Z"
   },
   {
    "duration": 106,
    "start_time": "2021-12-16T14:56:33.123Z"
   },
   {
    "duration": 116,
    "start_time": "2021-12-16T14:56:33.232Z"
   },
   {
    "duration": 79,
    "start_time": "2021-12-16T14:56:33.350Z"
   },
   {
    "duration": 54,
    "start_time": "2021-12-16T14:56:33.432Z"
   },
   {
    "duration": 4,
    "start_time": "2021-12-16T14:56:33.488Z"
   },
   {
    "duration": 43,
    "start_time": "2021-12-16T14:56:33.494Z"
   },
   {
    "duration": 84,
    "start_time": "2021-12-16T14:56:33.539Z"
   },
   {
    "duration": 24,
    "start_time": "2021-12-16T14:56:33.628Z"
   },
   {
    "duration": 75,
    "start_time": "2021-12-16T14:56:33.655Z"
   },
   {
    "duration": 14,
    "start_time": "2021-12-16T14:56:33.733Z"
   },
   {
    "duration": 19,
    "start_time": "2021-12-16T14:56:33.750Z"
   },
   {
    "duration": 9,
    "start_time": "2021-12-16T14:56:33.772Z"
   },
   {
    "duration": 119,
    "start_time": "2021-12-16T14:56:33.783Z"
   },
   {
    "duration": 3,
    "start_time": "2021-12-16T14:56:33.905Z"
   },
   {
    "duration": 26,
    "start_time": "2021-12-16T14:56:33.910Z"
   },
   {
    "duration": 23,
    "start_time": "2021-12-16T14:56:33.938Z"
   },
   {
    "duration": 19,
    "start_time": "2021-12-16T14:56:33.963Z"
   },
   {
    "duration": 26,
    "start_time": "2021-12-16T14:56:33.984Z"
   },
   {
    "duration": 118,
    "start_time": "2021-12-16T14:56:34.012Z"
   },
   {
    "duration": 14,
    "start_time": "2021-12-16T14:56:34.132Z"
   },
   {
    "duration": 24,
    "start_time": "2021-12-16T14:56:34.148Z"
   },
   {
    "duration": 37,
    "start_time": "2021-12-16T14:56:34.174Z"
   },
   {
    "duration": 430,
    "start_time": "2021-12-16T14:56:34.214Z"
   },
   {
    "duration": 35,
    "start_time": "2021-12-16T14:56:34.647Z"
   },
   {
    "duration": 45,
    "start_time": "2021-12-16T14:56:34.685Z"
   },
   {
    "duration": 35,
    "start_time": "2021-12-16T14:56:34.733Z"
   },
   {
    "duration": 22,
    "start_time": "2021-12-16T14:56:34.771Z"
   },
   {
    "duration": 84,
    "start_time": "2021-12-16T14:56:34.796Z"
   },
   {
    "duration": 59,
    "start_time": "2021-12-16T14:56:34.882Z"
   },
   {
    "duration": 10,
    "start_time": "2021-12-16T14:56:34.944Z"
   },
   {
    "duration": 31,
    "start_time": "2021-12-16T14:56:34.956Z"
   },
   {
    "duration": 42,
    "start_time": "2021-12-16T14:56:34.989Z"
   },
   {
    "duration": 28,
    "start_time": "2021-12-16T14:56:35.034Z"
   },
   {
    "duration": 7,
    "start_time": "2021-12-16T15:01:23.610Z"
   },
   {
    "duration": 29,
    "start_time": "2021-12-16T15:01:31.880Z"
   },
   {
    "duration": 27,
    "start_time": "2021-12-16T15:01:33.907Z"
   },
   {
    "duration": 25,
    "start_time": "2021-12-16T15:01:36.080Z"
   },
   {
    "duration": 46,
    "start_time": "2021-12-16T15:01:39.948Z"
   },
   {
    "duration": 47,
    "start_time": "2021-12-16T15:01:44.847Z"
   },
   {
    "duration": 47,
    "start_time": "2021-12-16T15:05:36.733Z"
   },
   {
    "duration": 43,
    "start_time": "2021-12-16T15:08:07.693Z"
   },
   {
    "duration": 44,
    "start_time": "2021-12-16T15:08:09.557Z"
   },
   {
    "duration": 7,
    "start_time": "2021-12-16T15:08:19.700Z"
   },
   {
    "duration": 7,
    "start_time": "2021-12-16T15:08:22.516Z"
   },
   {
    "duration": 46,
    "start_time": "2021-12-16T15:08:28.036Z"
   },
   {
    "duration": 43,
    "start_time": "2021-12-16T15:08:42.717Z"
   },
   {
    "duration": 52,
    "start_time": "2021-12-16T15:09:36.343Z"
   },
   {
    "duration": 43,
    "start_time": "2021-12-16T15:09:42.327Z"
   },
   {
    "duration": 45,
    "start_time": "2021-12-16T15:10:41.321Z"
   },
   {
    "duration": 44,
    "start_time": "2021-12-16T15:10:44.032Z"
   },
   {
    "duration": 44,
    "start_time": "2021-12-16T15:10:58.966Z"
   },
   {
    "duration": 44,
    "start_time": "2021-12-16T15:12:40.615Z"
   },
   {
    "duration": 44,
    "start_time": "2021-12-16T15:12:45.992Z"
   },
   {
    "duration": 46,
    "start_time": "2021-12-16T15:13:00.160Z"
   },
   {
    "duration": 100,
    "start_time": "2021-12-16T15:15:37.401Z"
   },
   {
    "duration": 106,
    "start_time": "2021-12-16T15:21:28.486Z"
   },
   {
    "duration": 163,
    "start_time": "2021-12-16T15:23:34.286Z"
   },
   {
    "duration": 52,
    "start_time": "2021-12-16T15:27:42.186Z"
   },
   {
    "duration": 53,
    "start_time": "2021-12-16T15:28:12.321Z"
   },
   {
    "duration": 16,
    "start_time": "2021-12-16T15:28:23.418Z"
   },
   {
    "duration": 53,
    "start_time": "2021-12-16T15:28:52.737Z"
   },
   {
    "duration": 58,
    "start_time": "2021-12-16T15:30:02.051Z"
   },
   {
    "duration": 30,
    "start_time": "2021-12-16T15:30:14.388Z"
   },
   {
    "duration": 30,
    "start_time": "2021-12-16T15:30:48.237Z"
   },
   {
    "duration": 42,
    "start_time": "2021-12-16T15:38:31.704Z"
   },
   {
    "duration": 92,
    "start_time": "2021-12-16T15:40:02.312Z"
   },
   {
    "duration": 7222,
    "start_time": "2021-12-16T15:40:26.593Z"
   },
   {
    "duration": 7485,
    "start_time": "2021-12-16T15:40:40.673Z"
   },
   {
    "duration": -563,
    "start_time": "2021-12-16T15:44:49.290Z"
   },
   {
    "duration": 7389,
    "start_time": "2021-12-16T15:45:39.211Z"
   },
   {
    "duration": 8,
    "start_time": "2021-12-16T15:45:58.148Z"
   },
   {
    "duration": -562,
    "start_time": "2021-12-16T15:46:16.752Z"
   },
   {
    "duration": 7605,
    "start_time": "2021-12-16T15:46:27.661Z"
   },
   {
    "duration": 7,
    "start_time": "2021-12-16T15:47:50.885Z"
   },
   {
    "duration": 19,
    "start_time": "2021-12-16T15:48:05.103Z"
   },
   {
    "duration": 1412,
    "start_time": "2021-12-16T15:51:18.264Z"
   },
   {
    "duration": 2356,
    "start_time": "2021-12-16T15:51:42.305Z"
   },
   {
    "duration": 1478,
    "start_time": "2021-12-16T15:52:02.608Z"
   },
   {
    "duration": 1514,
    "start_time": "2021-12-16T15:52:23.496Z"
   },
   {
    "duration": 1737,
    "start_time": "2021-12-16T15:52:37.138Z"
   },
   {
    "duration": 1619,
    "start_time": "2021-12-16T15:53:08.961Z"
   },
   {
    "duration": 1613,
    "start_time": "2021-12-16T15:53:16.801Z"
   },
   {
    "duration": 1479,
    "start_time": "2021-12-16T15:53:45.818Z"
   },
   {
    "duration": 1430,
    "start_time": "2021-12-16T15:54:02.834Z"
   },
   {
    "duration": 1435,
    "start_time": "2021-12-16T15:54:09.570Z"
   },
   {
    "duration": 1531,
    "start_time": "2021-12-16T15:54:15.154Z"
   },
   {
    "duration": 1553,
    "start_time": "2021-12-16T15:54:30.884Z"
   },
   {
    "duration": 2490,
    "start_time": "2021-12-16T15:54:36.875Z"
   },
   {
    "duration": 1538,
    "start_time": "2021-12-16T15:55:43.947Z"
   },
   {
    "duration": 1880,
    "start_time": "2021-12-16T15:55:50.460Z"
   },
   {
    "duration": 1536,
    "start_time": "2021-12-16T15:56:36.477Z"
   },
   {
    "duration": 1913,
    "start_time": "2021-12-16T15:57:04.389Z"
   },
   {
    "duration": 1625,
    "start_time": "2021-12-16T15:57:13.251Z"
   },
   {
    "duration": 1477,
    "start_time": "2021-12-16T15:57:25.771Z"
   },
   {
    "duration": 1457,
    "start_time": "2021-12-16T15:57:39.388Z"
   },
   {
    "duration": 1510,
    "start_time": "2021-12-16T15:59:01.093Z"
   },
   {
    "duration": 1536,
    "start_time": "2021-12-16T15:59:19.356Z"
   },
   {
    "duration": 1818,
    "start_time": "2021-12-16T16:00:15.971Z"
   },
   {
    "duration": 102,
    "start_time": "2021-12-16T16:01:14.662Z"
   },
   {
    "duration": 1442,
    "start_time": "2021-12-16T16:01:21.701Z"
   },
   {
    "duration": 1468,
    "start_time": "2021-12-16T16:01:25.901Z"
   },
   {
    "duration": 1459,
    "start_time": "2021-12-16T16:02:03.544Z"
   },
   {
    "duration": 1486,
    "start_time": "2021-12-16T16:02:59.974Z"
   },
   {
    "duration": 1607,
    "start_time": "2021-12-16T16:03:03.784Z"
   },
   {
    "duration": 284,
    "start_time": "2021-12-16T16:06:47.440Z"
   },
   {
    "duration": 312,
    "start_time": "2021-12-16T16:07:36.730Z"
   },
   {
    "duration": 483,
    "start_time": "2021-12-16T16:07:51.000Z"
   },
   {
    "duration": 347,
    "start_time": "2021-12-16T16:08:09.491Z"
   },
   {
    "duration": 101,
    "start_time": "2021-12-16T16:08:18.586Z"
   },
   {
    "duration": 12,
    "start_time": "2021-12-16T16:08:33.627Z"
   },
   {
    "duration": 90,
    "start_time": "2021-12-16T16:10:17.660Z"
   },
   {
    "duration": 441,
    "start_time": "2021-12-16T16:10:37.380Z"
   },
   {
    "duration": 430,
    "start_time": "2021-12-16T16:11:01.408Z"
   },
   {
    "duration": 322,
    "start_time": "2021-12-16T16:11:19.005Z"
   },
   {
    "duration": 307,
    "start_time": "2021-12-16T16:11:28.469Z"
   },
   {
    "duration": 5495,
    "start_time": "2021-12-16T16:12:29.485Z"
   },
   {
    "duration": 4576,
    "start_time": "2021-12-16T16:16:17.427Z"
   },
   {
    "duration": 4414,
    "start_time": "2021-12-16T16:16:31.199Z"
   },
   {
    "duration": 4612,
    "start_time": "2021-12-16T16:18:26.105Z"
   },
   {
    "duration": 4867,
    "start_time": "2021-12-16T16:19:30.564Z"
   },
   {
    "duration": 4749,
    "start_time": "2021-12-16T16:19:46.714Z"
   },
   {
    "duration": 4571,
    "start_time": "2021-12-16T16:20:15.490Z"
   },
   {
    "duration": 4399,
    "start_time": "2021-12-16T16:21:19.828Z"
   },
   {
    "duration": 4533,
    "start_time": "2021-12-16T16:21:38.716Z"
   },
   {
    "duration": 4418,
    "start_time": "2021-12-16T16:21:50.151Z"
   },
   {
    "duration": 4687,
    "start_time": "2021-12-16T16:22:02.627Z"
   },
   {
    "duration": 4515,
    "start_time": "2021-12-16T16:22:59.572Z"
   },
   {
    "duration": 4527,
    "start_time": "2021-12-16T16:23:24.425Z"
   },
   {
    "duration": 4870,
    "start_time": "2021-12-16T16:29:08.026Z"
   },
   {
    "duration": 3,
    "start_time": "2021-12-16T16:32:38.556Z"
   },
   {
    "duration": 206,
    "start_time": "2021-12-16T16:32:38.561Z"
   },
   {
    "duration": 14,
    "start_time": "2021-12-16T16:32:38.769Z"
   },
   {
    "duration": 47,
    "start_time": "2021-12-16T16:32:38.786Z"
   },
   {
    "duration": 21,
    "start_time": "2021-12-16T16:32:38.836Z"
   },
   {
    "duration": 38,
    "start_time": "2021-12-16T16:32:38.859Z"
   },
   {
    "duration": 7,
    "start_time": "2021-12-16T16:32:38.901Z"
   },
   {
    "duration": 49,
    "start_time": "2021-12-16T16:32:38.911Z"
   },
   {
    "duration": 32,
    "start_time": "2021-12-16T16:32:38.963Z"
   },
   {
    "duration": 45,
    "start_time": "2021-12-16T16:32:38.997Z"
   },
   {
    "duration": 47,
    "start_time": "2021-12-16T16:32:39.045Z"
   },
   {
    "duration": 91,
    "start_time": "2021-12-16T16:32:39.094Z"
   },
   {
    "duration": 87,
    "start_time": "2021-12-16T16:32:39.188Z"
   },
   {
    "duration": 79,
    "start_time": "2021-12-16T16:32:39.278Z"
   },
   {
    "duration": 66,
    "start_time": "2021-12-16T16:32:39.359Z"
   },
   {
    "duration": 12,
    "start_time": "2021-12-16T16:32:39.428Z"
   },
   {
    "duration": 38,
    "start_time": "2021-12-16T16:32:39.442Z"
   },
   {
    "duration": 109,
    "start_time": "2021-12-16T16:32:39.482Z"
   },
   {
    "duration": 27,
    "start_time": "2021-12-16T16:32:39.596Z"
   },
   {
    "duration": 59,
    "start_time": "2021-12-16T16:32:39.626Z"
   },
   {
    "duration": 47,
    "start_time": "2021-12-16T16:32:39.688Z"
   },
   {
    "duration": 4645,
    "start_time": "2021-12-16T16:32:39.738Z"
   },
   {
    "duration": 14,
    "start_time": "2021-12-16T16:32:44.385Z"
   },
   {
    "duration": 22,
    "start_time": "2021-12-16T16:32:44.424Z"
   },
   {
    "duration": 6,
    "start_time": "2021-12-16T16:32:44.449Z"
   },
   {
    "duration": 302,
    "start_time": "2021-12-16T16:32:44.458Z"
   },
   {
    "duration": 4,
    "start_time": "2021-12-16T16:32:44.763Z"
   },
   {
    "duration": 12,
    "start_time": "2021-12-16T16:32:44.824Z"
   },
   {
    "duration": 16,
    "start_time": "2021-12-16T16:32:44.839Z"
   },
   {
    "duration": 25,
    "start_time": "2021-12-16T16:32:44.858Z"
   },
   {
    "duration": 37,
    "start_time": "2021-12-16T16:32:44.886Z"
   },
   {
    "duration": 243,
    "start_time": "2021-12-16T16:32:44.926Z"
   },
   {
    "duration": 24,
    "start_time": "2021-12-16T16:32:45.223Z"
   },
   {
    "duration": 73,
    "start_time": "2021-12-16T16:32:45.250Z"
   },
   {
    "duration": 10,
    "start_time": "2021-12-16T16:32:45.336Z"
   },
   {
    "duration": 377,
    "start_time": "2021-12-16T16:32:45.349Z"
   },
   {
    "duration": 22,
    "start_time": "2021-12-16T16:32:45.729Z"
   },
   {
    "duration": 16,
    "start_time": "2021-12-16T16:32:45.754Z"
   },
   {
    "duration": 52,
    "start_time": "2021-12-16T16:32:45.772Z"
   },
   {
    "duration": 17,
    "start_time": "2021-12-16T16:32:45.826Z"
   },
   {
    "duration": 43,
    "start_time": "2021-12-16T16:32:45.846Z"
   },
   {
    "duration": 74,
    "start_time": "2021-12-16T16:32:45.891Z"
   },
   {
    "duration": 85,
    "start_time": "2021-12-16T16:32:45.968Z"
   },
   {
    "duration": 10,
    "start_time": "2021-12-16T16:32:46.055Z"
   },
   {
    "duration": 58,
    "start_time": "2021-12-16T16:32:46.068Z"
   },
   {
    "duration": 9,
    "start_time": "2021-12-16T16:32:46.129Z"
   },
   {
    "duration": 6,
    "start_time": "2021-12-16T16:32:46.140Z"
   },
   {
    "duration": 4724,
    "start_time": "2021-12-16T16:45:52.235Z"
   },
   {
    "duration": 118,
    "start_time": "2021-12-16T16:47:33.340Z"
   },
   {
    "duration": 5842,
    "start_time": "2021-12-16T16:47:39.052Z"
   },
   {
    "duration": 3047,
    "start_time": "2021-12-16T16:49:29.477Z"
   },
   {
    "duration": 3755,
    "start_time": "2021-12-16T16:50:40.471Z"
   },
   {
    "duration": 5001,
    "start_time": "2021-12-16T16:55:15.003Z"
   },
   {
    "duration": 4,
    "start_time": "2021-12-16T16:57:27.299Z"
   },
   {
    "duration": 283,
    "start_time": "2021-12-16T16:57:27.306Z"
   },
   {
    "duration": 20,
    "start_time": "2021-12-16T16:57:27.593Z"
   },
   {
    "duration": 40,
    "start_time": "2021-12-16T16:57:27.624Z"
   },
   {
    "duration": 26,
    "start_time": "2021-12-16T16:57:27.666Z"
   },
   {
    "duration": 29,
    "start_time": "2021-12-16T16:57:27.695Z"
   },
   {
    "duration": 7,
    "start_time": "2021-12-16T16:57:27.728Z"
   },
   {
    "duration": 51,
    "start_time": "2021-12-16T16:57:27.738Z"
   },
   {
    "duration": 37,
    "start_time": "2021-12-16T16:57:27.791Z"
   },
   {
    "duration": 31,
    "start_time": "2021-12-16T16:57:27.830Z"
   },
   {
    "duration": 44,
    "start_time": "2021-12-16T16:57:27.864Z"
   },
   {
    "duration": 100,
    "start_time": "2021-12-16T16:57:27.924Z"
   },
   {
    "duration": 101,
    "start_time": "2021-12-16T16:57:28.027Z"
   },
   {
    "duration": 111,
    "start_time": "2021-12-16T16:57:28.131Z"
   },
   {
    "duration": 81,
    "start_time": "2021-12-16T16:57:28.245Z"
   },
   {
    "duration": 4,
    "start_time": "2021-12-16T16:57:28.328Z"
   },
   {
    "duration": 31,
    "start_time": "2021-12-16T16:57:28.335Z"
   },
   {
    "duration": 101,
    "start_time": "2021-12-16T16:57:28.368Z"
   },
   {
    "duration": 23,
    "start_time": "2021-12-16T16:57:28.476Z"
   },
   {
    "duration": 73,
    "start_time": "2021-12-16T16:57:28.503Z"
   },
   {
    "duration": 49,
    "start_time": "2021-12-16T16:57:28.579Z"
   },
   {
    "duration": 3618,
    "start_time": "2021-12-16T16:57:28.631Z"
   },
   {
    "duration": 15,
    "start_time": "2021-12-16T16:57:32.252Z"
   },
   {
    "duration": 52,
    "start_time": "2021-12-16T16:57:32.269Z"
   },
   {
    "duration": 16,
    "start_time": "2021-12-16T16:57:32.323Z"
   },
   {
    "duration": 181,
    "start_time": "2021-12-16T16:57:32.342Z"
   },
   {
    "duration": 4,
    "start_time": "2021-12-16T16:57:32.526Z"
   },
   {
    "duration": 25,
    "start_time": "2021-12-16T16:57:32.533Z"
   },
   {
    "duration": 29,
    "start_time": "2021-12-16T16:57:32.561Z"
   },
   {
    "duration": 13,
    "start_time": "2021-12-16T16:57:32.593Z"
   },
   {
    "duration": 25,
    "start_time": "2021-12-16T16:57:32.609Z"
   },
   {
    "duration": 97,
    "start_time": "2021-12-16T16:57:32.637Z"
   },
   {
    "duration": 16,
    "start_time": "2021-12-16T16:57:32.737Z"
   },
   {
    "duration": 23,
    "start_time": "2021-12-16T16:57:32.755Z"
   },
   {
    "duration": 22,
    "start_time": "2021-12-16T16:57:32.780Z"
   },
   {
    "duration": 333,
    "start_time": "2021-12-16T16:57:32.804Z"
   },
   {
    "duration": 26,
    "start_time": "2021-12-16T16:57:33.139Z"
   },
   {
    "duration": 30,
    "start_time": "2021-12-16T16:57:33.168Z"
   },
   {
    "duration": 45,
    "start_time": "2021-12-16T16:57:33.201Z"
   },
   {
    "duration": 30,
    "start_time": "2021-12-16T16:57:33.249Z"
   },
   {
    "duration": 66,
    "start_time": "2021-12-16T16:57:33.282Z"
   },
   {
    "duration": 52,
    "start_time": "2021-12-16T16:57:33.351Z"
   },
   {
    "duration": 58,
    "start_time": "2021-12-16T16:57:33.405Z"
   },
   {
    "duration": 11,
    "start_time": "2021-12-16T16:57:33.465Z"
   },
   {
    "duration": 25,
    "start_time": "2021-12-16T16:57:33.478Z"
   },
   {
    "duration": 20,
    "start_time": "2021-12-16T16:57:33.505Z"
   },
   {
    "duration": 29,
    "start_time": "2021-12-16T16:57:33.528Z"
   },
   {
    "duration": 737,
    "start_time": "2021-12-16T20:55:23.268Z"
   },
   {
    "duration": 186,
    "start_time": "2021-12-16T20:55:24.009Z"
   },
   {
    "duration": 40,
    "start_time": "2021-12-16T20:55:24.197Z"
   },
   {
    "duration": 33,
    "start_time": "2021-12-16T20:55:24.240Z"
   },
   {
    "duration": 6,
    "start_time": "2021-12-16T20:55:24.276Z"
   },
   {
    "duration": 57,
    "start_time": "2021-12-16T20:55:24.284Z"
   },
   {
    "duration": 5,
    "start_time": "2021-12-16T20:55:24.343Z"
   },
   {
    "duration": 39,
    "start_time": "2021-12-16T20:55:24.351Z"
   },
   {
    "duration": 31,
    "start_time": "2021-12-16T20:55:24.394Z"
   },
   {
    "duration": 50,
    "start_time": "2021-12-16T20:55:24.430Z"
   },
   {
    "duration": 35,
    "start_time": "2021-12-16T20:55:24.482Z"
   },
   {
    "duration": 86,
    "start_time": "2021-12-16T20:55:24.520Z"
   },
   {
    "duration": 114,
    "start_time": "2021-12-16T20:55:24.609Z"
   },
   {
    "duration": 80,
    "start_time": "2021-12-16T20:55:24.727Z"
   },
   {
    "duration": 65,
    "start_time": "2021-12-16T20:55:24.823Z"
   },
   {
    "duration": 4,
    "start_time": "2021-12-16T20:55:24.891Z"
   },
   {
    "duration": 47,
    "start_time": "2021-12-16T20:55:24.898Z"
   },
   {
    "duration": 96,
    "start_time": "2021-12-16T20:55:24.948Z"
   },
   {
    "duration": 24,
    "start_time": "2021-12-16T20:55:25.046Z"
   },
   {
    "duration": 75,
    "start_time": "2021-12-16T20:55:25.072Z"
   },
   {
    "duration": 40,
    "start_time": "2021-12-16T20:55:25.149Z"
   },
   {
    "duration": 3011,
    "start_time": "2021-12-16T20:55:25.192Z"
   },
   {
    "duration": 23,
    "start_time": "2021-12-16T20:55:28.205Z"
   },
   {
    "duration": 34,
    "start_time": "2021-12-16T20:55:28.230Z"
   },
   {
    "duration": 7,
    "start_time": "2021-12-16T20:55:28.267Z"
   },
   {
    "duration": 148,
    "start_time": "2021-12-16T20:55:28.279Z"
   },
   {
    "duration": 5,
    "start_time": "2021-12-16T20:55:28.434Z"
   },
   {
    "duration": 9,
    "start_time": "2021-12-16T20:55:28.443Z"
   },
   {
    "duration": 19,
    "start_time": "2021-12-16T20:55:28.454Z"
   },
   {
    "duration": 10,
    "start_time": "2021-12-16T20:55:28.475Z"
   },
   {
    "duration": 16,
    "start_time": "2021-12-16T20:55:28.488Z"
   },
   {
    "duration": 100,
    "start_time": "2021-12-16T20:55:28.506Z"
   },
   {
    "duration": 22,
    "start_time": "2021-12-16T20:55:28.608Z"
   },
   {
    "duration": 11,
    "start_time": "2021-12-16T20:55:28.633Z"
   },
   {
    "duration": 13,
    "start_time": "2021-12-16T20:55:28.647Z"
   },
   {
    "duration": 344,
    "start_time": "2021-12-16T20:55:28.662Z"
   },
   {
    "duration": 36,
    "start_time": "2021-12-16T20:55:29.009Z"
   },
   {
    "duration": 19,
    "start_time": "2021-12-16T20:55:29.047Z"
   },
   {
    "duration": 23,
    "start_time": "2021-12-16T20:55:29.068Z"
   },
   {
    "duration": 25,
    "start_time": "2021-12-16T20:55:29.125Z"
   },
   {
    "duration": 46,
    "start_time": "2021-12-16T20:55:29.153Z"
   },
   {
    "duration": 45,
    "start_time": "2021-12-16T20:55:29.223Z"
   },
   {
    "duration": 80,
    "start_time": "2021-12-16T20:55:29.271Z"
   },
   {
    "duration": 10,
    "start_time": "2021-12-16T20:55:29.353Z"
   },
   {
    "duration": 6,
    "start_time": "2021-12-16T20:55:29.365Z"
   },
   {
    "duration": 7,
    "start_time": "2021-12-16T20:55:29.373Z"
   },
   {
    "duration": 6,
    "start_time": "2021-12-16T20:55:29.383Z"
   }
  ],
  "colab": {
   "collapsed_sections": [
    "E0vqbgi9ay0H",
    "VUC88oWjTJw2"
   ],
   "name": "yandex_music_project_2021.2.ipynb",
   "provenance": []
  },
  "kernelspec": {
   "display_name": "Python 3 (ipykernel)",
   "language": "python",
   "name": "python3"
  },
  "language_info": {
   "codemirror_mode": {
    "name": "ipython",
    "version": 3
   },
   "file_extension": ".py",
   "mimetype": "text/x-python",
   "name": "python",
   "nbconvert_exporter": "python",
   "pygments_lexer": "ipython3",
   "version": "3.9.5"
  },
  "toc": {
   "base_numbering": 1,
   "nav_menu": {},
   "number_sections": true,
   "sideBar": true,
   "skip_h1_title": true,
   "title_cell": "Table of Contents",
   "title_sidebar": "Contents",
   "toc_cell": false,
   "toc_position": {
    "height": "calc(100% - 180px)",
    "left": "10px",
    "top": "150px",
    "width": "354px"
   },
   "toc_section_display": true,
   "toc_window_display": true
  }
 },
 "nbformat": 4,
 "nbformat_minor": 1
}
