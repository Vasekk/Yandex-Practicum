{
 "cells": [
  {
   "cell_type": "markdown",
   "metadata": {},
   "source": [
    "# Исследование надёжности заёмщиков\n",
    "\n",
    "Заказчик — кредитный отдел банка. Нужно разобраться, влияет ли семейное положение и количество детей клиента на факт погашения кредита в срок. Входные данные от банка — статистика о платёжеспособности клиентов.\n",
    "\n",
    "Результаты исследования будут учтены при построении модели кредитного скоринга\n",
    "\n",
    "\n",
    "Имеющиеся данные: \n",
    "- children — количество детей в семье\n",
    "- days_employed — общий трудовой стаж в днях\n",
    "- dob_years — возраст клиента в годах\n",
    "- education — уровень образования клиента\n",
    "- education_id — идентификатор уровня образования\n",
    "- family_status — семейное положение\n",
    "- family_status_id — идентификатор семейного положения\n",
    "- gender — пол клиента\n",
    "- income_type — тип занятости\n",
    "- debt — имел ли задолженность по возврату кредитов\n",
    "- total_income — ежемесячный доход\n",
    "- purpose — цель получения кредита\n",
    "\n",
    "План работы:\n",
    "1. Загрузка данных\n",
    "2. Предобработка данных\n",
    "3. Анализ данных\n",
    "4. Общий вывод"
   ]
  },
  {
   "cell_type": "code",
   "execution_count": 1,
   "metadata": {},
   "outputs": [],
   "source": [
    "# Импорт библиотек\n",
    "import pandas as pd\n",
    "from collections import Counter\n",
    "from pymystem3 import Mystem"
   ]
  },
  {
   "cell_type": "markdown",
   "metadata": {},
   "source": [
    "## Шаг 1. Загрузка данных"
   ]
  },
  {
   "cell_type": "code",
   "execution_count": 2,
   "metadata": {
    "scrolled": true
   },
   "outputs": [
    {
     "name": "stdout",
     "output_type": "stream",
     "text": [
      "<class 'pandas.core.frame.DataFrame'>\n",
      "RangeIndex: 21525 entries, 0 to 21524\n",
      "Data columns (total 12 columns):\n",
      " #   Column            Non-Null Count  Dtype  \n",
      "---  ------            --------------  -----  \n",
      " 0   children          21525 non-null  int64  \n",
      " 1   days_employed     19351 non-null  float64\n",
      " 2   dob_years         21525 non-null  int64  \n",
      " 3   education         21525 non-null  object \n",
      " 4   education_id      21525 non-null  int64  \n",
      " 5   family_status     21525 non-null  object \n",
      " 6   family_status_id  21525 non-null  int64  \n",
      " 7   gender            21525 non-null  object \n",
      " 8   income_type       21525 non-null  object \n",
      " 9   debt              21525 non-null  int64  \n",
      " 10  total_income      19351 non-null  float64\n",
      " 11  purpose           21525 non-null  object \n",
      "dtypes: float64(2), int64(5), object(5)\n",
      "memory usage: 2.0+ MB\n"
     ]
    }
   ],
   "source": [
    "df=pd.read_csv('/datasets/data.csv') # чтение данных\n",
    "df.info() # просмотр размера таблицы, типов данных, количества non-null"
   ]
  },
  {
   "cell_type": "code",
   "execution_count": 3,
   "metadata": {},
   "outputs": [
    {
     "data": {
      "text/html": [
       "<div>\n",
       "<style scoped>\n",
       "    .dataframe tbody tr th:only-of-type {\n",
       "        vertical-align: middle;\n",
       "    }\n",
       "\n",
       "    .dataframe tbody tr th {\n",
       "        vertical-align: top;\n",
       "    }\n",
       "\n",
       "    .dataframe thead th {\n",
       "        text-align: right;\n",
       "    }\n",
       "</style>\n",
       "<table border=\"1\" class=\"dataframe\">\n",
       "  <thead>\n",
       "    <tr style=\"text-align: right;\">\n",
       "      <th></th>\n",
       "      <th>children</th>\n",
       "      <th>days_employed</th>\n",
       "      <th>dob_years</th>\n",
       "      <th>education</th>\n",
       "      <th>education_id</th>\n",
       "      <th>family_status</th>\n",
       "      <th>family_status_id</th>\n",
       "      <th>gender</th>\n",
       "      <th>income_type</th>\n",
       "      <th>debt</th>\n",
       "      <th>total_income</th>\n",
       "      <th>purpose</th>\n",
       "    </tr>\n",
       "  </thead>\n",
       "  <tbody>\n",
       "    <tr>\n",
       "      <th>0</th>\n",
       "      <td>1</td>\n",
       "      <td>-8437.673028</td>\n",
       "      <td>42</td>\n",
       "      <td>высшее</td>\n",
       "      <td>0</td>\n",
       "      <td>женат / замужем</td>\n",
       "      <td>0</td>\n",
       "      <td>F</td>\n",
       "      <td>сотрудник</td>\n",
       "      <td>0</td>\n",
       "      <td>253875.639453</td>\n",
       "      <td>покупка жилья</td>\n",
       "    </tr>\n",
       "    <tr>\n",
       "      <th>1</th>\n",
       "      <td>1</td>\n",
       "      <td>-4024.803754</td>\n",
       "      <td>36</td>\n",
       "      <td>среднее</td>\n",
       "      <td>1</td>\n",
       "      <td>женат / замужем</td>\n",
       "      <td>0</td>\n",
       "      <td>F</td>\n",
       "      <td>сотрудник</td>\n",
       "      <td>0</td>\n",
       "      <td>112080.014102</td>\n",
       "      <td>приобретение автомобиля</td>\n",
       "    </tr>\n",
       "    <tr>\n",
       "      <th>2</th>\n",
       "      <td>0</td>\n",
       "      <td>-5623.422610</td>\n",
       "      <td>33</td>\n",
       "      <td>Среднее</td>\n",
       "      <td>1</td>\n",
       "      <td>женат / замужем</td>\n",
       "      <td>0</td>\n",
       "      <td>M</td>\n",
       "      <td>сотрудник</td>\n",
       "      <td>0</td>\n",
       "      <td>145885.952297</td>\n",
       "      <td>покупка жилья</td>\n",
       "    </tr>\n",
       "    <tr>\n",
       "      <th>3</th>\n",
       "      <td>3</td>\n",
       "      <td>-4124.747207</td>\n",
       "      <td>32</td>\n",
       "      <td>среднее</td>\n",
       "      <td>1</td>\n",
       "      <td>женат / замужем</td>\n",
       "      <td>0</td>\n",
       "      <td>M</td>\n",
       "      <td>сотрудник</td>\n",
       "      <td>0</td>\n",
       "      <td>267628.550329</td>\n",
       "      <td>дополнительное образование</td>\n",
       "    </tr>\n",
       "    <tr>\n",
       "      <th>4</th>\n",
       "      <td>0</td>\n",
       "      <td>340266.072047</td>\n",
       "      <td>53</td>\n",
       "      <td>среднее</td>\n",
       "      <td>1</td>\n",
       "      <td>гражданский брак</td>\n",
       "      <td>1</td>\n",
       "      <td>F</td>\n",
       "      <td>пенсионер</td>\n",
       "      <td>0</td>\n",
       "      <td>158616.077870</td>\n",
       "      <td>сыграть свадьбу</td>\n",
       "    </tr>\n",
       "  </tbody>\n",
       "</table>\n",
       "</div>"
      ],
      "text/plain": [
       "   children  days_employed  dob_years education  education_id  \\\n",
       "0         1   -8437.673028         42    высшее             0   \n",
       "1         1   -4024.803754         36   среднее             1   \n",
       "2         0   -5623.422610         33   Среднее             1   \n",
       "3         3   -4124.747207         32   среднее             1   \n",
       "4         0  340266.072047         53   среднее             1   \n",
       "\n",
       "      family_status  family_status_id gender income_type  debt   total_income  \\\n",
       "0   женат / замужем                 0      F   сотрудник     0  253875.639453   \n",
       "1   женат / замужем                 0      F   сотрудник     0  112080.014102   \n",
       "2   женат / замужем                 0      M   сотрудник     0  145885.952297   \n",
       "3   женат / замужем                 0      M   сотрудник     0  267628.550329   \n",
       "4  гражданский брак                 1      F   пенсионер     0  158616.077870   \n",
       "\n",
       "                      purpose  \n",
       "0               покупка жилья  \n",
       "1     приобретение автомобиля  \n",
       "2               покупка жилья  \n",
       "3  дополнительное образование  \n",
       "4             сыграть свадьбу  "
      ]
     },
     "execution_count": 3,
     "metadata": {},
     "output_type": "execute_result"
    }
   ],
   "source": [
    "df.head() # просмотр первых строк данных"
   ]
  },
  {
   "cell_type": "markdown",
   "metadata": {},
   "source": [
    "**Вывод**"
   ]
  },
  {
   "cell_type": "markdown",
   "metadata": {},
   "source": [
    "В исходной таблице имеется 21 525 записей с 12 полями."
   ]
  },
  {
   "cell_type": "markdown",
   "metadata": {},
   "source": [
    "## Шаг 2. Предобработка данных"
   ]
  },
  {
   "cell_type": "markdown",
   "metadata": {},
   "source": [
    "### План предобработки данных\n",
    "\n",
    "1. Проверить наличие пропусков в данных, заполнить пропуски\n",
    "\n",
    "2. Преобразовать вещественных данные в целочисленные\n",
    "\n",
    "3. Проверить наличие дубликатов, обработать дубликаты\n",
    "\n",
    "4. Лемматизировать цели кредита для их категоризации\n",
    "\n",
    "5. Категоризировать данные и создать соответствующие словари для упрощения последующего анализа данных"
   ]
  },
  {
   "cell_type": "markdown",
   "metadata": {},
   "source": [
    "### Обработка пропусков"
   ]
  },
  {
   "cell_type": "code",
   "execution_count": 4,
   "metadata": {},
   "outputs": [
    {
     "data": {
      "text/plain": [
       "children               0\n",
       "days_employed       2174\n",
       "dob_years              0\n",
       "education              0\n",
       "education_id           0\n",
       "family_status          0\n",
       "family_status_id       0\n",
       "gender                 0\n",
       "income_type            0\n",
       "debt                   0\n",
       "total_income        2174\n",
       "purpose                0\n",
       "dtype: int64"
      ]
     },
     "execution_count": 4,
     "metadata": {},
     "output_type": "execute_result"
    }
   ],
   "source": [
    "df.isna().sum() #Количество пропущенных значений"
   ]
  },
  {
   "cell_type": "markdown",
   "metadata": {},
   "source": [
    "В исходных данных имеются пропуски в столбцах days_employed и  total_income, количесво пропусков одинаковое 2174, нужно проверить пропуски в одинаковых строках или в разных.\n"
   ]
  },
  {
   "cell_type": "code",
   "execution_count": 5,
   "metadata": {},
   "outputs": [
    {
     "name": "stdout",
     "output_type": "stream",
     "text": [
      "<class 'pandas.core.frame.DataFrame'>\n",
      "Int64Index: 2174 entries, 12 to 21510\n",
      "Data columns (total 12 columns):\n",
      " #   Column            Non-Null Count  Dtype  \n",
      "---  ------            --------------  -----  \n",
      " 0   children          2174 non-null   int64  \n",
      " 1   days_employed     0 non-null      float64\n",
      " 2   dob_years         2174 non-null   int64  \n",
      " 3   education         2174 non-null   object \n",
      " 4   education_id      2174 non-null   int64  \n",
      " 5   family_status     2174 non-null   object \n",
      " 6   family_status_id  2174 non-null   int64  \n",
      " 7   gender            2174 non-null   object \n",
      " 8   income_type       2174 non-null   object \n",
      " 9   debt              2174 non-null   int64  \n",
      " 10  total_income      0 non-null      float64\n",
      " 11  purpose           2174 non-null   object \n",
      "dtypes: float64(2), int64(5), object(5)\n",
      "memory usage: 220.8+ KB\n"
     ]
    }
   ],
   "source": [
    "df_with_na = df[df['days_employed'].isna() == 1]\n",
    "df_with_na.info() #Смотрим количество пропусков доходов в строках с пропущенным стажем"
   ]
  },
  {
   "cell_type": "markdown",
   "metadata": {},
   "source": [
    "Пропуски значений \"общий трудовой стаж в днях\" и \"ежемесячный доход\" расположены в одинаковых строках"
   ]
  },
  {
   "cell_type": "code",
   "execution_count": 6,
   "metadata": {},
   "outputs": [
    {
     "data": {
      "text/html": [
       "<div>\n",
       "<style scoped>\n",
       "    .dataframe tbody tr th:only-of-type {\n",
       "        vertical-align: middle;\n",
       "    }\n",
       "\n",
       "    .dataframe tbody tr th {\n",
       "        vertical-align: top;\n",
       "    }\n",
       "\n",
       "    .dataframe thead th {\n",
       "        text-align: right;\n",
       "    }\n",
       "</style>\n",
       "<table border=\"1\" class=\"dataframe\">\n",
       "  <thead>\n",
       "    <tr style=\"text-align: right;\">\n",
       "      <th></th>\n",
       "      <th>children</th>\n",
       "      <th>days_employed</th>\n",
       "      <th>dob_years</th>\n",
       "      <th>education</th>\n",
       "      <th>education_id</th>\n",
       "      <th>family_status</th>\n",
       "      <th>family_status_id</th>\n",
       "      <th>gender</th>\n",
       "      <th>income_type</th>\n",
       "      <th>debt</th>\n",
       "      <th>total_income</th>\n",
       "      <th>purpose</th>\n",
       "    </tr>\n",
       "  </thead>\n",
       "  <tbody>\n",
       "    <tr>\n",
       "      <th>12</th>\n",
       "      <td>0</td>\n",
       "      <td>NaN</td>\n",
       "      <td>65</td>\n",
       "      <td>среднее</td>\n",
       "      <td>1</td>\n",
       "      <td>гражданский брак</td>\n",
       "      <td>1</td>\n",
       "      <td>M</td>\n",
       "      <td>пенсионер</td>\n",
       "      <td>0</td>\n",
       "      <td>NaN</td>\n",
       "      <td>сыграть свадьбу</td>\n",
       "    </tr>\n",
       "    <tr>\n",
       "      <th>26</th>\n",
       "      <td>0</td>\n",
       "      <td>NaN</td>\n",
       "      <td>41</td>\n",
       "      <td>среднее</td>\n",
       "      <td>1</td>\n",
       "      <td>женат / замужем</td>\n",
       "      <td>0</td>\n",
       "      <td>M</td>\n",
       "      <td>госслужащий</td>\n",
       "      <td>0</td>\n",
       "      <td>NaN</td>\n",
       "      <td>образование</td>\n",
       "    </tr>\n",
       "    <tr>\n",
       "      <th>29</th>\n",
       "      <td>0</td>\n",
       "      <td>NaN</td>\n",
       "      <td>63</td>\n",
       "      <td>среднее</td>\n",
       "      <td>1</td>\n",
       "      <td>Не женат / не замужем</td>\n",
       "      <td>4</td>\n",
       "      <td>F</td>\n",
       "      <td>пенсионер</td>\n",
       "      <td>0</td>\n",
       "      <td>NaN</td>\n",
       "      <td>строительство жилой недвижимости</td>\n",
       "    </tr>\n",
       "    <tr>\n",
       "      <th>41</th>\n",
       "      <td>0</td>\n",
       "      <td>NaN</td>\n",
       "      <td>50</td>\n",
       "      <td>среднее</td>\n",
       "      <td>1</td>\n",
       "      <td>женат / замужем</td>\n",
       "      <td>0</td>\n",
       "      <td>F</td>\n",
       "      <td>госслужащий</td>\n",
       "      <td>0</td>\n",
       "      <td>NaN</td>\n",
       "      <td>сделка с подержанным автомобилем</td>\n",
       "    </tr>\n",
       "    <tr>\n",
       "      <th>55</th>\n",
       "      <td>0</td>\n",
       "      <td>NaN</td>\n",
       "      <td>54</td>\n",
       "      <td>среднее</td>\n",
       "      <td>1</td>\n",
       "      <td>гражданский брак</td>\n",
       "      <td>1</td>\n",
       "      <td>F</td>\n",
       "      <td>пенсионер</td>\n",
       "      <td>1</td>\n",
       "      <td>NaN</td>\n",
       "      <td>сыграть свадьбу</td>\n",
       "    </tr>\n",
       "  </tbody>\n",
       "</table>\n",
       "</div>"
      ],
      "text/plain": [
       "    children  days_employed  dob_years education  education_id  \\\n",
       "12         0            NaN         65   среднее             1   \n",
       "26         0            NaN         41   среднее             1   \n",
       "29         0            NaN         63   среднее             1   \n",
       "41         0            NaN         50   среднее             1   \n",
       "55         0            NaN         54   среднее             1   \n",
       "\n",
       "            family_status  family_status_id gender  income_type  debt  \\\n",
       "12       гражданский брак                 1      M    пенсионер     0   \n",
       "26        женат / замужем                 0      M  госслужащий     0   \n",
       "29  Не женат / не замужем                 4      F    пенсионер     0   \n",
       "41        женат / замужем                 0      F  госслужащий     0   \n",
       "55       гражданский брак                 1      F    пенсионер     1   \n",
       "\n",
       "    total_income                           purpose  \n",
       "12           NaN                   сыграть свадьбу  \n",
       "26           NaN                       образование  \n",
       "29           NaN  строительство жилой недвижимости  \n",
       "41           NaN  сделка с подержанным автомобилем  \n",
       "55           NaN                   сыграть свадьбу  "
      ]
     },
     "execution_count": 6,
     "metadata": {},
     "output_type": "execute_result"
    }
   ],
   "source": [
    "df_with_na.head(5) "
   ]
  },
  {
   "cell_type": "markdown",
   "metadata": {},
   "source": [
    "Закономерностей в пропусках нет, все поля изменяются.\n",
    "Можно восстановить доход по медианной зарплате группы занятости, а стаж как средний по возрасту\n"
   ]
  },
  {
   "cell_type": "markdown",
   "metadata": {},
   "source": [
    "Неявные дубликаты могут присутствать из-за разного написания в образовании и в целях. \n",
    "\n",
    "Также присутствуют некорректные значения в столбцах кол-во детей (-1 и 20?), возраст (0), пол (XNA?)"
   ]
  },
  {
   "cell_type": "code",
   "execution_count": 7,
   "metadata": {},
   "outputs": [
    {
     "data": {
      "image/png": "[encoded data removed]",
      "text/plain": [
       "<Figure size 432x288 with 1 Axes>"
      ]
     },
     "metadata": {
      "needs_background": "light"
     },
     "output_type": "display_data"
    }
   ],
   "source": [
    "# Гистограмма количества детей\n",
    "df['children'].hist(bins=44);"
   ]
  },
  {
   "cell_type": "code",
   "execution_count": 8,
   "metadata": {},
   "outputs": [
    {
     "data": {
      "image/png": "[encoded data removed]",
      "text/plain": [
       "<Figure size 432x288 with 1 Axes>"
      ]
     },
     "metadata": {
      "needs_background": "light"
     },
     "output_type": "display_data"
    }
   ],
   "source": [
    "# замена некорректных значений количества детей\n",
    "df.loc[df['children'] == -1,'children'] = 1\n",
    "df.loc[df['children'] == 20,'children'] = 2\n",
    "df['children'].hist(bins=20);"
   ]
  },
  {
   "cell_type": "code",
   "execution_count": 9,
   "metadata": {},
   "outputs": [
    {
     "data": {
      "text/plain": [
       "{'сотрудник': 142594.39684740017,\n",
       " 'пенсионер': 118514.48641164352,\n",
       " 'компаньон': 172357.95096577113,\n",
       " 'госслужащий': 150447.9352830068,\n",
       " 'безработный': 131339.7516762103,\n",
       " 'студент': 98201.62531401133,\n",
       " 'предприниматель': 499163.1449470857,\n",
       " 'в декрете': 53829.13072905995}"
      ]
     },
     "execution_count": 9,
     "metadata": {},
     "output_type": "execute_result"
    }
   ],
   "source": [
    "# определение медианных доходов\n",
    "df_without_na = df.dropna(subset=['days_employed', 'total_income'])\n",
    "income_types = df_without_na['income_type'].unique()\n",
    "median_in_types = {}\n",
    "for i in income_types: \n",
    "    median_in_types[i] = (df_without_na[df_without_na['income_type'] == i]['total_income'].median())\n",
    "median_in_types"
   ]
  },
  {
   "cell_type": "markdown",
   "metadata": {},
   "source": [
    "Для восстановления пропусков построен словарь с медианной зарплатой для каждой категории занятости"
   ]
  },
  {
   "cell_type": "code",
   "execution_count": 10,
   "metadata": {
    "scrolled": true
   },
   "outputs": [
    {
     "data": {
      "text/html": [
       "<div>\n",
       "<style scoped>\n",
       "    .dataframe tbody tr th:only-of-type {\n",
       "        vertical-align: middle;\n",
       "    }\n",
       "\n",
       "    .dataframe tbody tr th {\n",
       "        vertical-align: top;\n",
       "    }\n",
       "\n",
       "    .dataframe thead th {\n",
       "        text-align: right;\n",
       "    }\n",
       "</style>\n",
       "<table border=\"1\" class=\"dataframe\">\n",
       "  <thead>\n",
       "    <tr style=\"text-align: right;\">\n",
       "      <th></th>\n",
       "      <th>children</th>\n",
       "      <th>days_employed</th>\n",
       "      <th>dob_years</th>\n",
       "      <th>education</th>\n",
       "      <th>education_id</th>\n",
       "      <th>family_status</th>\n",
       "      <th>family_status_id</th>\n",
       "      <th>gender</th>\n",
       "      <th>income_type</th>\n",
       "      <th>debt</th>\n",
       "      <th>total_income</th>\n",
       "      <th>purpose</th>\n",
       "    </tr>\n",
       "  </thead>\n",
       "  <tbody>\n",
       "    <tr>\n",
       "      <th>12</th>\n",
       "      <td>0</td>\n",
       "      <td>NaN</td>\n",
       "      <td>65</td>\n",
       "      <td>среднее</td>\n",
       "      <td>1</td>\n",
       "      <td>гражданский брак</td>\n",
       "      <td>1</td>\n",
       "      <td>M</td>\n",
       "      <td>пенсионер</td>\n",
       "      <td>0</td>\n",
       "      <td>118514.486412</td>\n",
       "      <td>сыграть свадьбу</td>\n",
       "    </tr>\n",
       "    <tr>\n",
       "      <th>26</th>\n",
       "      <td>0</td>\n",
       "      <td>NaN</td>\n",
       "      <td>41</td>\n",
       "      <td>среднее</td>\n",
       "      <td>1</td>\n",
       "      <td>женат / замужем</td>\n",
       "      <td>0</td>\n",
       "      <td>M</td>\n",
       "      <td>госслужащий</td>\n",
       "      <td>0</td>\n",
       "      <td>150447.935283</td>\n",
       "      <td>образование</td>\n",
       "    </tr>\n",
       "    <tr>\n",
       "      <th>29</th>\n",
       "      <td>0</td>\n",
       "      <td>NaN</td>\n",
       "      <td>63</td>\n",
       "      <td>среднее</td>\n",
       "      <td>1</td>\n",
       "      <td>Не женат / не замужем</td>\n",
       "      <td>4</td>\n",
       "      <td>F</td>\n",
       "      <td>пенсионер</td>\n",
       "      <td>0</td>\n",
       "      <td>118514.486412</td>\n",
       "      <td>строительство жилой недвижимости</td>\n",
       "    </tr>\n",
       "    <tr>\n",
       "      <th>41</th>\n",
       "      <td>0</td>\n",
       "      <td>NaN</td>\n",
       "      <td>50</td>\n",
       "      <td>среднее</td>\n",
       "      <td>1</td>\n",
       "      <td>женат / замужем</td>\n",
       "      <td>0</td>\n",
       "      <td>F</td>\n",
       "      <td>госслужащий</td>\n",
       "      <td>0</td>\n",
       "      <td>150447.935283</td>\n",
       "      <td>сделка с подержанным автомобилем</td>\n",
       "    </tr>\n",
       "    <tr>\n",
       "      <th>55</th>\n",
       "      <td>0</td>\n",
       "      <td>NaN</td>\n",
       "      <td>54</td>\n",
       "      <td>среднее</td>\n",
       "      <td>1</td>\n",
       "      <td>гражданский брак</td>\n",
       "      <td>1</td>\n",
       "      <td>F</td>\n",
       "      <td>пенсионер</td>\n",
       "      <td>1</td>\n",
       "      <td>118514.486412</td>\n",
       "      <td>сыграть свадьбу</td>\n",
       "    </tr>\n",
       "    <tr>\n",
       "      <th>65</th>\n",
       "      <td>0</td>\n",
       "      <td>NaN</td>\n",
       "      <td>21</td>\n",
       "      <td>среднее</td>\n",
       "      <td>1</td>\n",
       "      <td>Не женат / не замужем</td>\n",
       "      <td>4</td>\n",
       "      <td>M</td>\n",
       "      <td>компаньон</td>\n",
       "      <td>0</td>\n",
       "      <td>172357.950966</td>\n",
       "      <td>операции с коммерческой недвижимостью</td>\n",
       "    </tr>\n",
       "    <tr>\n",
       "      <th>67</th>\n",
       "      <td>0</td>\n",
       "      <td>NaN</td>\n",
       "      <td>52</td>\n",
       "      <td>высшее</td>\n",
       "      <td>0</td>\n",
       "      <td>женат / замужем</td>\n",
       "      <td>0</td>\n",
       "      <td>F</td>\n",
       "      <td>пенсионер</td>\n",
       "      <td>0</td>\n",
       "      <td>118514.486412</td>\n",
       "      <td>покупка жилья для семьи</td>\n",
       "    </tr>\n",
       "    <tr>\n",
       "      <th>72</th>\n",
       "      <td>1</td>\n",
       "      <td>NaN</td>\n",
       "      <td>32</td>\n",
       "      <td>высшее</td>\n",
       "      <td>0</td>\n",
       "      <td>женат / замужем</td>\n",
       "      <td>0</td>\n",
       "      <td>M</td>\n",
       "      <td>госслужащий</td>\n",
       "      <td>0</td>\n",
       "      <td>150447.935283</td>\n",
       "      <td>операции с коммерческой недвижимостью</td>\n",
       "    </tr>\n",
       "    <tr>\n",
       "      <th>82</th>\n",
       "      <td>2</td>\n",
       "      <td>NaN</td>\n",
       "      <td>50</td>\n",
       "      <td>высшее</td>\n",
       "      <td>0</td>\n",
       "      <td>женат / замужем</td>\n",
       "      <td>0</td>\n",
       "      <td>F</td>\n",
       "      <td>сотрудник</td>\n",
       "      <td>0</td>\n",
       "      <td>142594.396847</td>\n",
       "      <td>жилье</td>\n",
       "    </tr>\n",
       "    <tr>\n",
       "      <th>83</th>\n",
       "      <td>0</td>\n",
       "      <td>NaN</td>\n",
       "      <td>52</td>\n",
       "      <td>среднее</td>\n",
       "      <td>1</td>\n",
       "      <td>женат / замужем</td>\n",
       "      <td>0</td>\n",
       "      <td>M</td>\n",
       "      <td>сотрудник</td>\n",
       "      <td>0</td>\n",
       "      <td>142594.396847</td>\n",
       "      <td>жилье</td>\n",
       "    </tr>\n",
       "  </tbody>\n",
       "</table>\n",
       "</div>"
      ],
      "text/plain": [
       "    children  days_employed  dob_years education  education_id  \\\n",
       "12         0            NaN         65   среднее             1   \n",
       "26         0            NaN         41   среднее             1   \n",
       "29         0            NaN         63   среднее             1   \n",
       "41         0            NaN         50   среднее             1   \n",
       "55         0            NaN         54   среднее             1   \n",
       "65         0            NaN         21   среднее             1   \n",
       "67         0            NaN         52    высшее             0   \n",
       "72         1            NaN         32    высшее             0   \n",
       "82         2            NaN         50    высшее             0   \n",
       "83         0            NaN         52   среднее             1   \n",
       "\n",
       "            family_status  family_status_id gender  income_type  debt  \\\n",
       "12       гражданский брак                 1      M    пенсионер     0   \n",
       "26        женат / замужем                 0      M  госслужащий     0   \n",
       "29  Не женат / не замужем                 4      F    пенсионер     0   \n",
       "41        женат / замужем                 0      F  госслужащий     0   \n",
       "55       гражданский брак                 1      F    пенсионер     1   \n",
       "65  Не женат / не замужем                 4      M    компаньон     0   \n",
       "67        женат / замужем                 0      F    пенсионер     0   \n",
       "72        женат / замужем                 0      M  госслужащий     0   \n",
       "82        женат / замужем                 0      F    сотрудник     0   \n",
       "83        женат / замужем                 0      M    сотрудник     0   \n",
       "\n",
       "     total_income                                purpose  \n",
       "12  118514.486412                        сыграть свадьбу  \n",
       "26  150447.935283                            образование  \n",
       "29  118514.486412       строительство жилой недвижимости  \n",
       "41  150447.935283       сделка с подержанным автомобилем  \n",
       "55  118514.486412                        сыграть свадьбу  \n",
       "65  172357.950966  операции с коммерческой недвижимостью  \n",
       "67  118514.486412                покупка жилья для семьи  \n",
       "72  150447.935283  операции с коммерческой недвижимостью  \n",
       "82  142594.396847                                  жилье  \n",
       "83  142594.396847                                  жилье  "
      ]
     },
     "execution_count": 10,
     "metadata": {},
     "output_type": "execute_result"
    }
   ],
   "source": [
    "# Восстановление пропущенных доходов\n",
    "for key, value in median_in_types.items():\n",
    "    df.loc[(df['days_employed'].isna() == 1) & (df['income_type'] == key),'total_income'] = value \n",
    "df[df['days_employed'].isna() == 1].head(10)  # проверяем измененые значения"
   ]
  },
  {
   "cell_type": "code",
   "execution_count": 11,
   "metadata": {},
   "outputs": [
    {
     "data": {
      "text/plain": [
       "<AxesSubplot:xlabel='days_employed', ylabel='dob_years'>"
      ]
     },
     "metadata": {},
     "output_type": "display_data"
    },
    {
     "data": {
      "text/plain": [
       "<AxesSubplot:xlabel='days_employed', ylabel='dob_years'>"
      ]
     },
     "metadata": {},
     "output_type": "display_data"
    },
    {
     "data": {
      "image/png": "[encoded data removed]",
      "text/plain": [
       "<Figure size 432x288 with 1 Axes>"
      ]
     },
     "metadata": {
      "needs_background": "light"
     },
     "output_type": "display_data"
    },
    {
     "data": {
      "image/png": "[encoded data removed]",
      "text/plain": [
       "<Figure size 432x288 with 1 Axes>"
      ]
     },
     "metadata": {
      "needs_background": "light"
     },
     "output_type": "display_data"
    }
   ],
   "source": [
    "display(df[df['days_employed'] <= 0].plot.scatter(x='days_employed',y='dob_years'));\n",
    "display(df[df['days_employed'] > 0].plot.scatter(x='days_employed',y='dob_years'));\n"
   ]
  },
  {
   "cell_type": "markdown",
   "metadata": {},
   "source": [
    "Значения стажа делятся на две группы:\n",
    "\n",
    "1) нулевые и отрицательные значения, прослеживается линейная зависимость максимального стажа от возраста, по модулю величины стажа в днях адекватные. Для восстановления данных необходимо умножить на -1. Кроме того можно восстановить часть данных с нулевым возрастом по среднему/медианному возрасту для узких диапазонов стажа.\n",
    "\n",
    "2) Во второй группе значения значительно превосходят разумные - стаж больше возраста. Не прослеживается зависимость максимального возраста от стажа, соответственно искажение данных не линейное. Могут быть восстановлены, если есть внешняя информация о закономерности искажения."
   ]
  },
  {
   "cell_type": "code",
   "execution_count": 12,
   "metadata": {},
   "outputs": [],
   "source": [
    "df['days_employed'] = df['days_employed'].fillna(1) # замена пропусков в стаже на 1"
   ]
  },
  {
   "cell_type": "markdown",
   "metadata": {},
   "source": [
    "**Вывод**\n",
    "В исходных данных в 2174 строках имелись пропуски значений стажа и дохода.\n",
    "\n",
    "Значения дохода были восстановлены по медианной зарплате категории занятости. \n",
    "\n",
    "Значения стажа не требуются для целей исследования, поэтому не восстанавливались, а были заполнены значением 5, отсутствующим в исходных данных. "
   ]
  },
  {
   "cell_type": "markdown",
   "metadata": {},
   "source": [
    "### Замена типа данных"
   ]
  },
  {
   "cell_type": "code",
   "execution_count": 13,
   "metadata": {},
   "outputs": [
    {
     "name": "stdout",
     "output_type": "stream",
     "text": [
      "Типы данных: \n",
      " children              int64\n",
      "days_employed       float64\n",
      "dob_years             int64\n",
      "education            object\n",
      "education_id          int64\n",
      "family_status        object\n",
      "family_status_id      int64\n",
      "gender               object\n",
      "income_type          object\n",
      "debt                  int64\n",
      "total_income        float64\n",
      "purpose              object\n",
      "dtype: object \n",
      "\n",
      "Типы данных после преобразования: \n",
      " children             int64\n",
      "days_employed        int64\n",
      "dob_years            int64\n",
      "education           object\n",
      "education_id         int64\n",
      "family_status       object\n",
      "family_status_id     int64\n",
      "gender              object\n",
      "income_type         object\n",
      "debt                 int64\n",
      "total_income         int64\n",
      "purpose             object\n",
      "dtype: object\n"
     ]
    }
   ],
   "source": [
    "print('Типы данных: \\n', df.dtypes,'\\n')# проверка типов до изменения\n",
    "# преобразование данных столбцов стаж и зарплата в целые числа путем отбрасывания дробной части\n",
    "df.loc[:, ['days_employed', 'total_income']] = df.loc[:, ['days_employed', 'total_income']].astype('int')\n",
    "print('Типы данных после преобразования: \\n',df.dtypes) # проверка типов после изменения"
   ]
  },
  {
   "cell_type": "markdown",
   "metadata": {},
   "source": [
    "**Вывод**\n",
    "Значения столбцов стаж и зарплата были преобразованы в целые числа путем отбрасывания дробной части\n"
   ]
  },
  {
   "cell_type": "markdown",
   "metadata": {},
   "source": [
    "### Обработка дубликатов"
   ]
  },
  {
   "cell_type": "code",
   "execution_count": 14,
   "metadata": {},
   "outputs": [
    {
     "name": "stdout",
     "output_type": "stream",
     "text": [
      "Явных дубликатов: 54 , из них в строках без пропусков: 0\n"
     ]
    },
    {
     "data": {
      "text/plain": [
       "0"
      ]
     },
     "execution_count": 14,
     "metadata": {},
     "output_type": "execute_result"
    }
   ],
   "source": [
    "# число явных дубликатов, число явных дубликатов в данных без пропусков\n",
    "print('Явных дубликатов:', df.duplicated().sum(),', из них в строках без пропусков:', df_without_na.duplicated().sum())\n",
    "df = df.drop_duplicates().reset_index(drop=True)\n",
    "df.duplicated().sum()"
   ]
  },
  {
   "cell_type": "markdown",
   "metadata": {},
   "source": [
    "Все явные дубликаты удалены"
   ]
  },
  {
   "cell_type": "code",
   "execution_count": 15,
   "metadata": {},
   "outputs": [
    {
     "name": "stdout",
     "output_type": "stream",
     "text": [
      "[0 1 2 3 4 5]\n",
      "[-18388 -17615 -16593 ... 401675 401715 401755]\n",
      "[ 0 19 20 21 22 23 24 25 26 27 28 29 30 31 32 33 34 35 36 37 38 39 40 41\n",
      " 42 43 44 45 46 47 48 49 50 51 52 53 54 55 56 57 58 59 60 61 62 63 64 65\n",
      " 66 67 68 69 70 71 72 73 74 75]\n",
      "['ВЫСШЕЕ' 'Высшее' 'НАЧАЛЬНОЕ' 'НЕОКОНЧЕННОЕ ВЫСШЕЕ' 'Начальное'\n",
      " 'Неоконченное высшее' 'СРЕДНЕЕ' 'Среднее' 'УЧЕНАЯ СТЕПЕНЬ'\n",
      " 'Ученая степень' 'высшее' 'начальное' 'неоконченное высшее' 'среднее'\n",
      " 'ученая степень']\n",
      "[0 1 2 3 4]\n",
      "['Не женат / не замужем' 'в разводе' 'вдовец / вдова' 'гражданский брак'\n",
      " 'женат / замужем']\n",
      "[0 1 2 3 4]\n",
      "['F' 'M' 'XNA']\n",
      "['безработный' 'в декрете' 'госслужащий' 'компаньон' 'пенсионер'\n",
      " 'предприниматель' 'сотрудник' 'студент']\n",
      "[0 1]\n",
      "[  20667   21205   21367 ... 1726276 2200852 2265604]\n",
      "['автомобили' 'автомобиль' 'высшее образование'\n",
      " 'дополнительное образование' 'жилье' 'заняться высшим образованием'\n",
      " 'заняться образованием' 'на покупку автомобиля'\n",
      " 'на покупку подержанного автомобиля' 'на покупку своего автомобиля'\n",
      " 'на проведение свадьбы' 'недвижимость' 'образование' 'операции с жильем'\n",
      " 'операции с коммерческой недвижимостью' 'операции с недвижимостью'\n",
      " 'операции со своей недвижимостью' 'покупка жилой недвижимости'\n",
      " 'покупка жилья' 'покупка жилья для сдачи' 'покупка жилья для семьи'\n",
      " 'покупка коммерческой недвижимости' 'покупка недвижимости'\n",
      " 'покупка своего жилья' 'получение высшего образования'\n",
      " 'получение дополнительного образования' 'получение образования'\n",
      " 'приобретение автомобиля' 'профильное образование' 'ремонт жилью'\n",
      " 'свадьба' 'свой автомобиль' 'сделка с автомобилем'\n",
      " 'сделка с подержанным автомобилем' 'строительство жилой недвижимости'\n",
      " 'строительство недвижимости' 'строительство собственной недвижимости'\n",
      " 'сыграть свадьбу']\n"
     ]
    }
   ],
   "source": [
    "# вывод уникальных значений каждого столбца\n",
    "for col_name in df.columns:\n",
    "        print(df.sort_values(by = col_name)[col_name].unique())\n",
    "\n",
    "            "
   ]
  },
  {
   "cell_type": "markdown",
   "metadata": {},
   "source": [
    "Неявные дубликаты могут присутствать из-за разного написания в образовании и в целях. \n",
    "\n",
    "Также остались некорректные значения в столбцах , возраст (0), пол (XNA?)"
   ]
  },
  {
   "cell_type": "code",
   "execution_count": 16,
   "metadata": {},
   "outputs": [
    {
     "data": {
      "text/plain": [
       "array(['высшее', 'среднее', 'неоконченное высшее', 'начальное',\n",
       "       'ученая степень'], dtype=object)"
      ]
     },
     "metadata": {},
     "output_type": "display_data"
    },
    {
     "name": "stdout",
     "output_type": "stream",
     "text": [
      "Неявных дубликатов: 17 , из них в строках без пропусков: 0\n"
     ]
    },
    {
     "data": {
      "text/plain": [
       "0"
      ]
     },
     "execution_count": 16,
     "metadata": {},
     "output_type": "execute_result"
    }
   ],
   "source": [
    "df['education'] = df['education'].str.lower()\n",
    "df_without_na.loc[:,'education'] = df_without_na.loc[:,'education'].str.lower()\n",
    "display(df['education'].unique())\n",
    "print('Неявных дубликатов:', df.duplicated().sum(),', из них в строках без пропусков:', df_without_na.duplicated().sum())\n",
    "df = df.drop_duplicates().reset_index(drop=True)\n",
    "df.duplicated().sum()"
   ]
  },
  {
   "cell_type": "markdown",
   "metadata": {},
   "source": [
    "После приведения к нижнему регистру написания значений столбца образование число дубликатов увеличилось на 17.\n",
    "В изначальных данных без пропусков число дубликатов осталось нулевым."
   ]
  },
  {
   "cell_type": "markdown",
   "metadata": {},
   "source": [
    "**Вывод**"
   ]
  },
  {
   "cell_type": "markdown",
   "metadata": {},
   "source": [
    "Были выявлены 54 строки-дубликата среди строк с пропусками стажа и дохода, строки дубликаты были удалены. \n",
    "\n",
    "После приведения к нижнему регистру написания значений столбца образование появилось еще 17 дубликатов, ~~однако они не были удалены, в связи с предположением об уникальности этих записей из-за разного написания образования.~~ неявные дубликаты удалены.\n",
    "\n",
    "В строках без пропусков дубликаты отсутствовали. "
   ]
  },
  {
   "cell_type": "markdown",
   "metadata": {},
   "source": [
    "Все дубликаты удалил, но 17 дублей можно было оставить. \n",
    "\n",
    "В данной таблице записи, делающие заемщика уникальным, -- это преимущественно доход и стаж, прочие параметры имеют относительно малые вариации. В оставленных дублях были пропуски именно в доходах и стаже, т.е. в \"уникальных\" признаках. Пропуски были восстановлены одинаковыми значениями. Но у этих заемщиков было уникальное написание образования. Поэтому можем считать, что это уникальные заемщики, и если удалить их, то может исказиться статистика невозвратов. И если бы восстанавливали зарплату не одинаковыми медианнными значениями, а случайными (уникальными) значениями по распределению данных без пропусков, то дублей в данных с пропусками не было бы."
   ]
  },
  {
   "cell_type": "markdown",
   "metadata": {},
   "source": [
    "### Лемматизация"
   ]
  },
  {
   "cell_type": "code",
   "execution_count": 17,
   "metadata": {},
   "outputs": [
    {
     "data": {
      "text/plain": [
       "[(' ', 96),\n",
       " ('покупка', 10),\n",
       " ('недвижимость', 10),\n",
       " ('автомобиль', 9),\n",
       " ('образование', 9),\n",
       " ('жилье', 7),\n",
       " ('с', 5),\n",
       " ('операция', 4),\n",
       " ('на', 4),\n",
       " ('свой', 4),\n",
       " ('свадьба', 3),\n",
       " ('строительство', 3),\n",
       " ('получение', 3),\n",
       " ('высокий', 3),\n",
       " ('дополнительный', 2),\n",
       " ('для', 2),\n",
       " ('коммерческий', 2),\n",
       " ('жилой', 2),\n",
       " ('подержать', 2),\n",
       " ('заниматься', 2),\n",
       " ('сделка', 2),\n",
       " ('приобретение', 1),\n",
       " ('сыграть', 1),\n",
       " ('проведение', 1),\n",
       " ('семья', 1),\n",
       " ('собственный', 1),\n",
       " ('со', 1),\n",
       " ('профильный', 1),\n",
       " ('сдача', 1),\n",
       " ('ремонт', 1),\n",
       " ('\\n', 1)]"
      ]
     },
     "execution_count": 17,
     "metadata": {},
     "output_type": "execute_result"
    }
   ],
   "source": [
    "# вывод всех лемм целей в порядке уменьшения частоты использования\n",
    "m = Mystem()\n",
    "all_unique_purposes = ' '.join(df['purpose'].unique())\n",
    "lemm_counter = Counter(m.lemmatize(all_unique_purposes))\n",
    "sorted_purp = sorted(lemm_counter.items(), key=lambda x: x[1], reverse=True)\n",
    "sorted_purp"
   ]
  },
  {
   "cell_type": "code",
   "execution_count": 18,
   "metadata": {},
   "outputs": [
    {
     "data": {
      "text/plain": [
       "array(['автомобили', 'автомобиль', 'высшее образование',\n",
       "       'дополнительное образование', 'жилье',\n",
       "       'заняться высшим образованием', 'заняться образованием',\n",
       "       'на покупку автомобиля', 'на покупку подержанного автомобиля',\n",
       "       'на покупку своего автомобиля', 'на проведение свадьбы',\n",
       "       'недвижимость', 'образование', 'операции с жильем',\n",
       "       'операции с коммерческой недвижимостью',\n",
       "       'операции с недвижимостью', 'операции со своей недвижимостью',\n",
       "       'покупка жилой недвижимости', 'покупка жилья',\n",
       "       'покупка жилья для сдачи', 'покупка жилья для семьи',\n",
       "       'покупка коммерческой недвижимости', 'покупка недвижимости',\n",
       "       'покупка своего жилья', 'получение высшего образования',\n",
       "       'получение дополнительного образования', 'получение образования',\n",
       "       'приобретение автомобиля', 'профильное образование',\n",
       "       'ремонт жилью', 'свадьба', 'свой автомобиль',\n",
       "       'сделка с автомобилем', 'сделка с подержанным автомобилем',\n",
       "       'строительство жилой недвижимости', 'строительство недвижимости',\n",
       "       'строительство собственной недвижимости', 'сыграть свадьбу'],\n",
       "      dtype=object)"
      ]
     },
     "execution_count": 18,
     "metadata": {},
     "output_type": "execute_result"
    }
   ],
   "source": [
    "# вывод уникальных значений целей\n",
    "df.sort_values(by = 'purpose')['purpose'].unique()"
   ]
  },
  {
   "cell_type": "markdown",
   "metadata": {},
   "source": [
    "В результате анализа уникальных значений целей и их лемм были получены четыре ключевые категории целей: 1) жилье и недвижимость, 2) автомобиль,  3) образование, 4) свадьба.\n",
    "\n",
    "При этом категория \"1) жилье и недвижимость\" при необходимости может быть разбита на подкатегории: коммерческая, жилая, ремонт, сторительство и прочее."
   ]
  },
  {
   "cell_type": "code",
   "execution_count": 19,
   "metadata": {},
   "outputs": [],
   "source": [
    "# Создание функции, возвращающей одну из 4х категорий цели для каждой строки \n",
    "def purpose_cat(row):\n",
    "    if ('жилье' in row) or ('недвижимость' in row):\n",
    "        return 0\n",
    "    elif 'автомобиль' in row:\n",
    "        return 1\n",
    "    elif 'образование' in row:\n",
    "        return 2\n",
    "    elif 'свадьба' in row:\n",
    "        return 3\n",
    "    else:\n",
    "        return 4 #Иное\n",
    "    \n",
    "def purpose_subcat(row):\n",
    "    if ('жилье' in row) or ('недвижимость' in row):\n",
    "        if 'коммерческий' in row:\n",
    "            return 1\n",
    "        elif 'строительство' in row:\n",
    "            return 2\n",
    "        elif 'ремонт' in row:\n",
    "            return 3\n",
    "        elif 'жилой' in row:\n",
    "            return 4\n",
    "        else:\n",
    "            return 0 # Прочие цели связанные с недвижимостью\n",
    "    elif 'подержать' in row:\n",
    "        return 11 \n",
    "    else:\n",
    "        return 0 # Остальные категории без подкатегорий\n",
    "    "
   ]
  },
  {
   "cell_type": "code",
   "execution_count": 20,
   "metadata": {},
   "outputs": [
    {
     "data": {
      "text/html": [
       "<div>\n",
       "<style scoped>\n",
       "    .dataframe tbody tr th:only-of-type {\n",
       "        vertical-align: middle;\n",
       "    }\n",
       "\n",
       "    .dataframe tbody tr th {\n",
       "        vertical-align: top;\n",
       "    }\n",
       "\n",
       "    .dataframe thead th {\n",
       "        text-align: right;\n",
       "    }\n",
       "</style>\n",
       "<table border=\"1\" class=\"dataframe\">\n",
       "  <thead>\n",
       "    <tr style=\"text-align: right;\">\n",
       "      <th></th>\n",
       "      <th>children</th>\n",
       "      <th>days_employed</th>\n",
       "      <th>dob_years</th>\n",
       "      <th>education</th>\n",
       "      <th>education_id</th>\n",
       "      <th>family_status</th>\n",
       "      <th>family_status_id</th>\n",
       "      <th>gender</th>\n",
       "      <th>income_type</th>\n",
       "      <th>debt</th>\n",
       "      <th>total_income</th>\n",
       "      <th>purpose</th>\n",
       "      <th>purpose_category</th>\n",
       "      <th>purpose_subcategory</th>\n",
       "    </tr>\n",
       "  </thead>\n",
       "  <tbody>\n",
       "    <tr>\n",
       "      <th>0</th>\n",
       "      <td>1</td>\n",
       "      <td>-8437</td>\n",
       "      <td>42</td>\n",
       "      <td>высшее</td>\n",
       "      <td>0</td>\n",
       "      <td>женат / замужем</td>\n",
       "      <td>0</td>\n",
       "      <td>F</td>\n",
       "      <td>сотрудник</td>\n",
       "      <td>0</td>\n",
       "      <td>253875</td>\n",
       "      <td>покупка жилья</td>\n",
       "      <td>0</td>\n",
       "      <td>0</td>\n",
       "    </tr>\n",
       "    <tr>\n",
       "      <th>1</th>\n",
       "      <td>1</td>\n",
       "      <td>-4024</td>\n",
       "      <td>36</td>\n",
       "      <td>среднее</td>\n",
       "      <td>1</td>\n",
       "      <td>женат / замужем</td>\n",
       "      <td>0</td>\n",
       "      <td>F</td>\n",
       "      <td>сотрудник</td>\n",
       "      <td>0</td>\n",
       "      <td>112080</td>\n",
       "      <td>приобретение автомобиля</td>\n",
       "      <td>1</td>\n",
       "      <td>0</td>\n",
       "    </tr>\n",
       "    <tr>\n",
       "      <th>2</th>\n",
       "      <td>0</td>\n",
       "      <td>-5623</td>\n",
       "      <td>33</td>\n",
       "      <td>среднее</td>\n",
       "      <td>1</td>\n",
       "      <td>женат / замужем</td>\n",
       "      <td>0</td>\n",
       "      <td>M</td>\n",
       "      <td>сотрудник</td>\n",
       "      <td>0</td>\n",
       "      <td>145885</td>\n",
       "      <td>покупка жилья</td>\n",
       "      <td>0</td>\n",
       "      <td>0</td>\n",
       "    </tr>\n",
       "    <tr>\n",
       "      <th>3</th>\n",
       "      <td>3</td>\n",
       "      <td>-4124</td>\n",
       "      <td>32</td>\n",
       "      <td>среднее</td>\n",
       "      <td>1</td>\n",
       "      <td>женат / замужем</td>\n",
       "      <td>0</td>\n",
       "      <td>M</td>\n",
       "      <td>сотрудник</td>\n",
       "      <td>0</td>\n",
       "      <td>267628</td>\n",
       "      <td>дополнительное образование</td>\n",
       "      <td>2</td>\n",
       "      <td>0</td>\n",
       "    </tr>\n",
       "    <tr>\n",
       "      <th>4</th>\n",
       "      <td>0</td>\n",
       "      <td>340266</td>\n",
       "      <td>53</td>\n",
       "      <td>среднее</td>\n",
       "      <td>1</td>\n",
       "      <td>гражданский брак</td>\n",
       "      <td>1</td>\n",
       "      <td>F</td>\n",
       "      <td>пенсионер</td>\n",
       "      <td>0</td>\n",
       "      <td>158616</td>\n",
       "      <td>сыграть свадьбу</td>\n",
       "      <td>3</td>\n",
       "      <td>0</td>\n",
       "    </tr>\n",
       "  </tbody>\n",
       "</table>\n",
       "</div>"
      ],
      "text/plain": [
       "   children  days_employed  dob_years education  education_id  \\\n",
       "0         1          -8437         42    высшее             0   \n",
       "1         1          -4024         36   среднее             1   \n",
       "2         0          -5623         33   среднее             1   \n",
       "3         3          -4124         32   среднее             1   \n",
       "4         0         340266         53   среднее             1   \n",
       "\n",
       "      family_status  family_status_id gender income_type  debt  total_income  \\\n",
       "0   женат / замужем                 0      F   сотрудник     0        253875   \n",
       "1   женат / замужем                 0      F   сотрудник     0        112080   \n",
       "2   женат / замужем                 0      M   сотрудник     0        145885   \n",
       "3   женат / замужем                 0      M   сотрудник     0        267628   \n",
       "4  гражданский брак                 1      F   пенсионер     0        158616   \n",
       "\n",
       "                      purpose  purpose_category  purpose_subcategory  \n",
       "0               покупка жилья                 0                    0  \n",
       "1     приобретение автомобиля                 1                    0  \n",
       "2               покупка жилья                 0                    0  \n",
       "3  дополнительное образование                 2                    0  \n",
       "4             сыграть свадьбу                 3                    0  "
      ]
     },
     "execution_count": 20,
     "metadata": {},
     "output_type": "execute_result"
    }
   ],
   "source": [
    "# Добавление столбца категория цели\n",
    "df.loc[:,'purpose_category'] = df['purpose'].apply(m.lemmatize).apply(purpose_cat)\n",
    "# Добавление столбца подкатегория цели\n",
    "df.loc[:,'purpose_subcategory'] = df['purpose'].apply(m.lemmatize).apply(purpose_subcat)\n",
    "df.head()"
   ]
  },
  {
   "cell_type": "markdown",
   "metadata": {},
   "source": [
    "**Вывод**\n",
    "\n",
    "В исходных данных формулировка целей кредита свободная. Для категоризации цели были лемматизированы и по леммам разделены на 4 группы: 1) жилье и недвижимость, 2) автомобиль,  3) образование, 4) свадьба.\n",
    "\n",
    "Категория \"1) жилье и недвижимость\" была разбита на подкатегории: коммерческая, жилая, ремонт, сторительство и прочее. В категории автомобиль была выделена подкатегория \"подержанный\"."
   ]
  },
  {
   "cell_type": "markdown",
   "metadata": {},
   "source": [
    "### Категоризация данных"
   ]
  },
  {
   "cell_type": "markdown",
   "metadata": {},
   "source": [
    "Категории данных вынесены в словари: Цель, Образование, Семейное положение, Возраст, Доход.\n",
    "Рассмотрим подробнее распределения возраста и доходов\n"
   ]
  },
  {
   "cell_type": "code",
   "execution_count": 21,
   "metadata": {},
   "outputs": [
    {
     "data": {
      "image/png": "[encoded data removed]",
      "text/plain": [
       "<Figure size 432x288 with 1 Axes>"
      ]
     },
     "metadata": {
      "needs_background": "light"
     },
     "output_type": "display_data"
    }
   ],
   "source": [
    " # распределение клиентов по возрасту\n",
    "df['dob_years'].hist(bins=76);"
   ]
  },
  {
   "cell_type": "markdown",
   "metadata": {},
   "source": [
    "Распределение клиентов по возрасту почти равномерное внутри, центр можно разбивать на равные интервалы.\n",
    "\n",
    "Некорректное значение ноль выделяю в отдельную группу, в данных отсутствуют 18ти летние, но 0й возраст не может соответсвовать этому возрасту, т.к. не впишется в распределение\n"
   ]
  },
  {
   "cell_type": "code",
   "execution_count": 22,
   "metadata": {},
   "outputs": [
    {
     "data": {
      "image/png": "[encoded data removed]",
      "text/plain": [
       "<Figure size 432x288 with 1 Axes>"
      ]
     },
     "metadata": {
      "needs_background": "light"
     },
     "output_type": "display_data"
    }
   ],
   "source": [
    "# Распределение клиентов по доходу\n",
    "df['total_income'].hist(bins=500);"
   ]
  },
  {
   "cell_type": "markdown",
   "metadata": {},
   "source": [
    "Распределение доходов логнормальное, заполненное медианное значение выбивается. Делю на 8 категорий по процентилям 5, 20, 35, 50, 65, 80, 95, используя данные без пропусков."
   ]
  },
  {
   "cell_type": "code",
   "execution_count": 23,
   "metadata": {},
   "outputs": [
    {
     "data": {
      "text/plain": [
       "{0: 63322,\n",
       " 1: 94836,\n",
       " 2: 119370,\n",
       " 3: 145017,\n",
       " 4: 175056,\n",
       " 5: 223107,\n",
       " 6: 340590,\n",
       " 7: 2265604}"
      ]
     },
     "execution_count": 23,
     "metadata": {},
     "output_type": "execute_result"
    }
   ],
   "source": [
    "purpose_dict = {0: 'жилье/недвижимость', 1: 'автомобиль',  2:'образование', 3:'свадьба', 4:'иное'}\n",
    "purpose_subcat_dict = {0: '', 1: 'коммерческая',  2:'строительство', 3:'ремонт', 4:'жилая', 11:'подержанный'}\n",
    "education_dict = dict(df.loc[:,['education_id','education']].drop_duplicates().reset_index(drop=True).to_numpy())\n",
    "family_dict = dict(df.loc[:,['family_status_id','family_status']].drop_duplicates().reset_index(drop=True).to_numpy())\n",
    "#gender_dict = {0: 'M', 1: 'F',  2:'XNA'}\n",
    "\n",
    "dob_years_cat_dict = {0: '0', 1: '18-25', 2: '26-35', 3: '36-45', 4: '46-55', 5: '56-65', 6: '66 и выше'}\n",
    "\n",
    "total_cat_quantile = [i / 100 for i in [5, 20, 35, 50, 65, 80, 95, 100]]\n",
    "total_cat_dict={}\n",
    "for key, value in enumerate(total_cat_quantile):\n",
    "    total_cat_dict[key] = int(df_without_na['total_income'].quantile(value))\n",
    "total_cat_dict #границы диапазонов зарплат"
   ]
  },
  {
   "cell_type": "code",
   "execution_count": 24,
   "metadata": {},
   "outputs": [
    {
     "data": {
      "text/html": [
       "<div>\n",
       "<style scoped>\n",
       "    .dataframe tbody tr th:only-of-type {\n",
       "        vertical-align: middle;\n",
       "    }\n",
       "\n",
       "    .dataframe tbody tr th {\n",
       "        vertical-align: top;\n",
       "    }\n",
       "\n",
       "    .dataframe thead th {\n",
       "        text-align: right;\n",
       "    }\n",
       "</style>\n",
       "<table border=\"1\" class=\"dataframe\">\n",
       "  <thead>\n",
       "    <tr style=\"text-align: right;\">\n",
       "      <th></th>\n",
       "      <th>children</th>\n",
       "      <th>days_employed</th>\n",
       "      <th>dob_years</th>\n",
       "      <th>education</th>\n",
       "      <th>education_id</th>\n",
       "      <th>family_status</th>\n",
       "      <th>family_status_id</th>\n",
       "      <th>gender</th>\n",
       "      <th>income_type</th>\n",
       "      <th>debt</th>\n",
       "      <th>total_income</th>\n",
       "      <th>purpose</th>\n",
       "      <th>purpose_category</th>\n",
       "      <th>purpose_subcategory</th>\n",
       "      <th>dob_years_category</th>\n",
       "    </tr>\n",
       "  </thead>\n",
       "  <tbody>\n",
       "    <tr>\n",
       "      <th>0</th>\n",
       "      <td>1</td>\n",
       "      <td>-8437</td>\n",
       "      <td>42</td>\n",
       "      <td>высшее</td>\n",
       "      <td>0</td>\n",
       "      <td>женат / замужем</td>\n",
       "      <td>0</td>\n",
       "      <td>F</td>\n",
       "      <td>сотрудник</td>\n",
       "      <td>0</td>\n",
       "      <td>253875</td>\n",
       "      <td>покупка жилья</td>\n",
       "      <td>0</td>\n",
       "      <td>0</td>\n",
       "      <td>3</td>\n",
       "    </tr>\n",
       "    <tr>\n",
       "      <th>1</th>\n",
       "      <td>1</td>\n",
       "      <td>-4024</td>\n",
       "      <td>36</td>\n",
       "      <td>среднее</td>\n",
       "      <td>1</td>\n",
       "      <td>женат / замужем</td>\n",
       "      <td>0</td>\n",
       "      <td>F</td>\n",
       "      <td>сотрудник</td>\n",
       "      <td>0</td>\n",
       "      <td>112080</td>\n",
       "      <td>приобретение автомобиля</td>\n",
       "      <td>1</td>\n",
       "      <td>0</td>\n",
       "      <td>3</td>\n",
       "    </tr>\n",
       "    <tr>\n",
       "      <th>2</th>\n",
       "      <td>0</td>\n",
       "      <td>-5623</td>\n",
       "      <td>33</td>\n",
       "      <td>среднее</td>\n",
       "      <td>1</td>\n",
       "      <td>женат / замужем</td>\n",
       "      <td>0</td>\n",
       "      <td>M</td>\n",
       "      <td>сотрудник</td>\n",
       "      <td>0</td>\n",
       "      <td>145885</td>\n",
       "      <td>покупка жилья</td>\n",
       "      <td>0</td>\n",
       "      <td>0</td>\n",
       "      <td>2</td>\n",
       "    </tr>\n",
       "    <tr>\n",
       "      <th>3</th>\n",
       "      <td>3</td>\n",
       "      <td>-4124</td>\n",
       "      <td>32</td>\n",
       "      <td>среднее</td>\n",
       "      <td>1</td>\n",
       "      <td>женат / замужем</td>\n",
       "      <td>0</td>\n",
       "      <td>M</td>\n",
       "      <td>сотрудник</td>\n",
       "      <td>0</td>\n",
       "      <td>267628</td>\n",
       "      <td>дополнительное образование</td>\n",
       "      <td>2</td>\n",
       "      <td>0</td>\n",
       "      <td>2</td>\n",
       "    </tr>\n",
       "    <tr>\n",
       "      <th>4</th>\n",
       "      <td>0</td>\n",
       "      <td>340266</td>\n",
       "      <td>53</td>\n",
       "      <td>среднее</td>\n",
       "      <td>1</td>\n",
       "      <td>гражданский брак</td>\n",
       "      <td>1</td>\n",
       "      <td>F</td>\n",
       "      <td>пенсионер</td>\n",
       "      <td>0</td>\n",
       "      <td>158616</td>\n",
       "      <td>сыграть свадьбу</td>\n",
       "      <td>3</td>\n",
       "      <td>0</td>\n",
       "      <td>4</td>\n",
       "    </tr>\n",
       "  </tbody>\n",
       "</table>\n",
       "</div>"
      ],
      "text/plain": [
       "   children  days_employed  dob_years education  education_id  \\\n",
       "0         1          -8437         42    высшее             0   \n",
       "1         1          -4024         36   среднее             1   \n",
       "2         0          -5623         33   среднее             1   \n",
       "3         3          -4124         32   среднее             1   \n",
       "4         0         340266         53   среднее             1   \n",
       "\n",
       "      family_status  family_status_id gender income_type  debt  total_income  \\\n",
       "0   женат / замужем                 0      F   сотрудник     0        253875   \n",
       "1   женат / замужем                 0      F   сотрудник     0        112080   \n",
       "2   женат / замужем                 0      M   сотрудник     0        145885   \n",
       "3   женат / замужем                 0      M   сотрудник     0        267628   \n",
       "4  гражданский брак                 1      F   пенсионер     0        158616   \n",
       "\n",
       "                      purpose  purpose_category  purpose_subcategory  \\\n",
       "0               покупка жилья                 0                    0   \n",
       "1     приобретение автомобиля                 1                    0   \n",
       "2               покупка жилья                 0                    0   \n",
       "3  дополнительное образование                 2                    0   \n",
       "4             сыграть свадьбу                 3                    0   \n",
       "\n",
       "   dob_years_category  \n",
       "0                   3  \n",
       "1                   3  \n",
       "2                   2  \n",
       "3                   2  \n",
       "4                   4  "
      ]
     },
     "execution_count": 24,
     "metadata": {},
     "output_type": "execute_result"
    }
   ],
   "source": [
    "# Создание функции, возвращающей одну из категорий возраста для каждой строки \n",
    "def dob_years_cat(row):\n",
    "    if row == 0:\n",
    "        return 0\n",
    "    elif (row >= 18) & (row <= 25):\n",
    "        return 1\n",
    "    elif row <= 35:\n",
    "        return 2\n",
    "    elif row <= 45:\n",
    "        return 3\n",
    "    elif row <= 55:\n",
    "        return 4\n",
    "    elif row <= 65:\n",
    "        return 5\n",
    "    else:\n",
    "        return 6 #Иное\n",
    "\n",
    "\n",
    "# Добавление столбца категория цели\n",
    "df.loc[:,'dob_years_category'] = df['dob_years'].apply(dob_years_cat)\n",
    "df.head()"
   ]
  },
  {
   "cell_type": "code",
   "execution_count": 25,
   "metadata": {},
   "outputs": [],
   "source": [
    "# Создание функции, возвращающей одну из категорий доходов для каждой строки \n",
    "def total_cat(row, cat=total_cat_dict):\n",
    "    if row <= cat[0]:\n",
    "        return 0\n",
    "    elif row <= cat[1]:\n",
    "        return 1\n",
    "    elif row <= cat[2]:\n",
    "        return 2\n",
    "    elif row <= cat[3]:\n",
    "        return 3\n",
    "    elif row <= cat[4]:\n",
    "        return 4\n",
    "    elif row <= cat[5]:\n",
    "        return 5\n",
    "    elif row <= cat[6]:\n",
    "        return 6\n",
    "    else:\n",
    "        return 7 \n",
    "    \n",
    "# Добавление столбца категория цели\n",
    "df.loc[:,'total_income_category'] = df['total_income'].apply(total_cat)"
   ]
  },
  {
   "cell_type": "markdown",
   "metadata": {},
   "source": [
    "**Вывод**"
   ]
  },
  {
   "cell_type": "markdown",
   "metadata": {},
   "source": [
    "Рассмотрено распределение клиентов по возрасту, доходу. Для категоризации возраста выбраны равные интервалы, для дохода выбраны неравные интервалы с примерно равным количеством клиентов в каждом, кроме крайних интервалов. \n",
    "Составлены словари для категории данных: Цель, Образование, Семейное положение. Для Цели дополнительно составлен словарь подкатегорий."
   ]
  },
  {
   "cell_type": "markdown",
   "metadata": {},
   "source": [
    "### Выводы по предобработке:\n",
    "\n",
    "**1. Найдены и заполнены пропуски в данных:**\n",
    "\n",
    "найдены и заполнены пропущенные значения в 2174 строках, отсутствовали значения стажа и дохода. Значения дохода были восстановлены медианными доходами соответсвующих групп занятости. Значения стажа - заполнены уникальным числом.\n",
    "\n",
    "**2. Преобразованы типы данных:**\n",
    "\n",
    "выполнена замена типа данных с вещественного на целочисленный для значений стажа и дохода заемщиков.\n",
    "\n",
    "**3. Найдены и удалены дубликаты:**\n",
    "\n",
    "осуществлен поиск и удаление явных дубликатов, все дубликаты (54 явных и 17 неявных) содержались среди строк с пропусками. Возможной причиной появления дубликатов является восстановление значений зарплаты одинаковым медианным значением, и отсутствие уникального ID клиента/заявки.\n",
    "\n",
    "**4. Лемматизированы цели кредита:**\n",
    "\n",
    "для категоризации целей получения кредита были осуществлена лемматизация формулировок. Что позволило выделить 4 категории целей: 1) жилье и недвижимость, 2) автомобиль, 3) образование, 4) свадьба. Дополнительно были выделены подкатегории недвижимости коммерческая, жилая, ремонт, сторительство и др., а также подкатегория \"подержанные\" для автомобилей.\n",
    "\n",
    "**5. Категоризированы данные:**\n",
    "\n",
    "составлены словари категоризации данных по цели, образованию, семейному положению, возрасту, доходу. Для выделения категорий дохода и возраста были рассмотрены распределения их значений, для возраста выбраны равные интервалы, а для дохода - интервалы с примерно равным количеством значений.\n"
   ]
  },
  {
   "cell_type": "markdown",
   "metadata": {},
   "source": [
    "## Шаг 3. Анализ данных\n",
    "\n",
    "Задачи анализа данных\n",
    "\n",
    "Необходимо исследовать наличие зависимостей невозвратов\n",
    "\n",
    "- от количества детей в семье;\n",
    "- от семейного положения;\n",
    "- от уровня дохода;\n",
    "- от категории цели.\n",
    "\n",
    "Дополнительно можно посмотреть наличие зависимости невозвратов:\n",
    "\n",
    "- от пола заемщика;\n",
    "- от возраста заемщика;\n",
    "- от нескольких параметров сразу. \n"
   ]
  },
  {
   "cell_type": "markdown",
   "metadata": {},
   "source": [
    "### Есть ли зависимость между наличием детей и возвратом кредита в срок?"
   ]
  },
  {
   "cell_type": "code",
   "execution_count": 26,
   "metadata": {},
   "outputs": [
    {
     "data": {
      "text/html": [
       "<div>\n",
       "<style scoped>\n",
       "    .dataframe tbody tr th:only-of-type {\n",
       "        vertical-align: middle;\n",
       "    }\n",
       "\n",
       "    .dataframe tbody tr th {\n",
       "        vertical-align: top;\n",
       "    }\n",
       "\n",
       "    .dataframe thead th {\n",
       "        text-align: right;\n",
       "    }\n",
       "</style>\n",
       "<table border=\"1\" class=\"dataframe\">\n",
       "  <thead>\n",
       "    <tr style=\"text-align: right;\">\n",
       "      <th></th>\n",
       "      <th>Ко-во клиентов</th>\n",
       "      <th>Кол-во невозвратов</th>\n",
       "      <th>Доля невозвратов</th>\n",
       "    </tr>\n",
       "    <tr>\n",
       "      <th>Количество детей</th>\n",
       "      <th></th>\n",
       "      <th></th>\n",
       "      <th></th>\n",
       "    </tr>\n",
       "  </thead>\n",
       "  <tbody>\n",
       "    <tr>\n",
       "      <th>0</th>\n",
       "      <td>14091</td>\n",
       "      <td>1063</td>\n",
       "      <td>0.075438</td>\n",
       "    </tr>\n",
       "    <tr>\n",
       "      <th>1</th>\n",
       "      <td>4855</td>\n",
       "      <td>445</td>\n",
       "      <td>0.091658</td>\n",
       "    </tr>\n",
       "    <tr>\n",
       "      <th>2</th>\n",
       "      <td>2128</td>\n",
       "      <td>202</td>\n",
       "      <td>0.094925</td>\n",
       "    </tr>\n",
       "    <tr>\n",
       "      <th>3</th>\n",
       "      <td>330</td>\n",
       "      <td>27</td>\n",
       "      <td>0.081818</td>\n",
       "    </tr>\n",
       "    <tr>\n",
       "      <th>4</th>\n",
       "      <td>41</td>\n",
       "      <td>4</td>\n",
       "      <td>0.097561</td>\n",
       "    </tr>\n",
       "    <tr>\n",
       "      <th>5</th>\n",
       "      <td>9</td>\n",
       "      <td>0</td>\n",
       "      <td>0.000000</td>\n",
       "    </tr>\n",
       "  </tbody>\n",
       "</table>\n",
       "</div>"
      ],
      "text/plain": [
       "                  Ко-во клиентов  Кол-во невозвратов  Доля невозвратов\n",
       "Количество детей                                                      \n",
       "0                          14091                1063          0.075438\n",
       "1                           4855                 445          0.091658\n",
       "2                           2128                 202          0.094925\n",
       "3                            330                  27          0.081818\n",
       "4                             41                   4          0.097561\n",
       "5                              9                   0          0.000000"
      ]
     },
     "execution_count": 26,
     "metadata": {},
     "output_type": "execute_result"
    }
   ],
   "source": [
    "(df.pivot_table(index='children', values='debt', aggfunc=['count', 'sum', 'mean'])\n",
    " .set_axis(['Ко-во клиентов', 'Кол-во невозвратов', 'Доля невозвратов'], axis='columns', inplace=False)\n",
    " .rename_axis('Количество детей'))"
   ]
  },
  {
   "cell_type": "markdown",
   "metadata": {},
   "source": [
    "**Вывод**\n",
    "\n",
    "Исключается из рассмотрения клиентов с 5ю детьми, т.к. слишком маленькое количество клиентов.\n",
    "Минимальная доля (7,5 %) невозвратов кредита в срок характерна для заемщиков без детей. Максимальная доля невозвратов для заемщиков с 2 и 4 детьми - 9,5 % и 9,8 % соответственно.\n",
    "Таким образом, выявлена зависимость между количеством детей и возвратом кредита в срок.\n"
   ]
  },
  {
   "cell_type": "markdown",
   "metadata": {},
   "source": [
    "### Есть ли зависимость между семейным положением и возвратом кредита в срок?"
   ]
  },
  {
   "cell_type": "code",
   "execution_count": 27,
   "metadata": {},
   "outputs": [
    {
     "data": {
      "text/html": [
       "<div>\n",
       "<style scoped>\n",
       "    .dataframe tbody tr th:only-of-type {\n",
       "        vertical-align: middle;\n",
       "    }\n",
       "\n",
       "    .dataframe tbody tr th {\n",
       "        vertical-align: top;\n",
       "    }\n",
       "\n",
       "    .dataframe thead th {\n",
       "        text-align: right;\n",
       "    }\n",
       "</style>\n",
       "<table border=\"1\" class=\"dataframe\">\n",
       "  <thead>\n",
       "    <tr style=\"text-align: right;\">\n",
       "      <th></th>\n",
       "      <th>Ко-во клиентов</th>\n",
       "      <th>Кол-во невозвратов</th>\n",
       "      <th>Доля невозвратов</th>\n",
       "    </tr>\n",
       "    <tr>\n",
       "      <th>Семейное положение</th>\n",
       "      <th></th>\n",
       "      <th></th>\n",
       "      <th></th>\n",
       "    </tr>\n",
       "  </thead>\n",
       "  <tbody>\n",
       "    <tr>\n",
       "      <th>Не женат / не замужем</th>\n",
       "      <td>2810</td>\n",
       "      <td>274</td>\n",
       "      <td>0.097509</td>\n",
       "    </tr>\n",
       "    <tr>\n",
       "      <th>в разводе</th>\n",
       "      <td>1195</td>\n",
       "      <td>85</td>\n",
       "      <td>0.071130</td>\n",
       "    </tr>\n",
       "    <tr>\n",
       "      <th>вдовец / вдова</th>\n",
       "      <td>959</td>\n",
       "      <td>63</td>\n",
       "      <td>0.065693</td>\n",
       "    </tr>\n",
       "    <tr>\n",
       "      <th>гражданский брак</th>\n",
       "      <td>4151</td>\n",
       "      <td>388</td>\n",
       "      <td>0.093471</td>\n",
       "    </tr>\n",
       "    <tr>\n",
       "      <th>женат / замужем</th>\n",
       "      <td>12339</td>\n",
       "      <td>931</td>\n",
       "      <td>0.075452</td>\n",
       "    </tr>\n",
       "  </tbody>\n",
       "</table>\n",
       "</div>"
      ],
      "text/plain": [
       "                       Ко-во клиентов  Кол-во невозвратов  Доля невозвратов\n",
       "Семейное положение                                                         \n",
       "Не женат / не замужем            2810                 274          0.097509\n",
       "в разводе                        1195                  85          0.071130\n",
       "вдовец / вдова                    959                  63          0.065693\n",
       "гражданский брак                 4151                 388          0.093471\n",
       "женат / замужем                 12339                 931          0.075452"
      ]
     },
     "execution_count": 27,
     "metadata": {},
     "output_type": "execute_result"
    }
   ],
   "source": [
    "(df.pivot_table(index='family_status', values='debt', aggfunc=['count', 'sum', 'mean'])\n",
    " .set_axis(['Ко-во клиентов', 'Кол-во невозвратов', 'Доля невозвратов'], axis='columns', inplace=False)\n",
    " .rename_axis('Семейное положение'))"
   ]
  },
  {
   "cell_type": "markdown",
   "metadata": {},
   "source": [
    "**Вывод**\n",
    "\n",
    "Выявлена зависимость между семейным положением и возвратом кредита в срок, минимальный невозврат для категории \"вдовец / вдова\"- 6,6 %, максимальная доля невозвратов для категории \"Не женат / не замужем\" - 9,8 %."
   ]
  },
  {
   "cell_type": "markdown",
   "metadata": {},
   "source": [
    "### Есть ли зависимость между уровнем дохода и возвратом кредита в срок?"
   ]
  },
  {
   "cell_type": "code",
   "execution_count": 28,
   "metadata": {},
   "outputs": [
    {
     "data": {
      "text/html": [
       "<div>\n",
       "<style scoped>\n",
       "    .dataframe tbody tr th:only-of-type {\n",
       "        vertical-align: middle;\n",
       "    }\n",
       "\n",
       "    .dataframe tbody tr th {\n",
       "        vertical-align: top;\n",
       "    }\n",
       "\n",
       "    .dataframe thead th {\n",
       "        text-align: right;\n",
       "    }\n",
       "</style>\n",
       "<table border=\"1\" class=\"dataframe\">\n",
       "  <thead>\n",
       "    <tr style=\"text-align: right;\">\n",
       "      <th></th>\n",
       "      <th>Ко-во клиентов</th>\n",
       "      <th>Кол-во невозвратов</th>\n",
       "      <th>Доля невозвратов</th>\n",
       "    </tr>\n",
       "    <tr>\n",
       "      <th>Размер дохода, р. до</th>\n",
       "      <th></th>\n",
       "      <th></th>\n",
       "      <th></th>\n",
       "    </tr>\n",
       "  </thead>\n",
       "  <tbody>\n",
       "    <tr>\n",
       "      <th>63322</th>\n",
       "      <td>968</td>\n",
       "      <td>60</td>\n",
       "      <td>0.061983</td>\n",
       "    </tr>\n",
       "    <tr>\n",
       "      <th>94836</th>\n",
       "      <td>2903</td>\n",
       "      <td>249</td>\n",
       "      <td>0.085773</td>\n",
       "    </tr>\n",
       "    <tr>\n",
       "      <th>119370</th>\n",
       "      <td>3288</td>\n",
       "      <td>273</td>\n",
       "      <td>0.083029</td>\n",
       "    </tr>\n",
       "    <tr>\n",
       "      <th>145017</th>\n",
       "      <td>3973</td>\n",
       "      <td>355</td>\n",
       "      <td>0.089353</td>\n",
       "    </tr>\n",
       "    <tr>\n",
       "      <th>175056</th>\n",
       "      <td>3548</td>\n",
       "      <td>297</td>\n",
       "      <td>0.083709</td>\n",
       "    </tr>\n",
       "    <tr>\n",
       "      <th>223107</th>\n",
       "      <td>2903</td>\n",
       "      <td>233</td>\n",
       "      <td>0.080262</td>\n",
       "    </tr>\n",
       "    <tr>\n",
       "      <th>340590</th>\n",
       "      <td>2902</td>\n",
       "      <td>209</td>\n",
       "      <td>0.072019</td>\n",
       "    </tr>\n",
       "    <tr>\n",
       "      <th>2265604</th>\n",
       "      <td>969</td>\n",
       "      <td>65</td>\n",
       "      <td>0.067079</td>\n",
       "    </tr>\n",
       "  </tbody>\n",
       "</table>\n",
       "</div>"
      ],
      "text/plain": [
       "                      Ко-во клиентов  Кол-во невозвратов  Доля невозвратов\n",
       "Размер дохода, р. до                                                      \n",
       "63322                            968                  60          0.061983\n",
       "94836                           2903                 249          0.085773\n",
       "119370                          3288                 273          0.083029\n",
       "145017                          3973                 355          0.089353\n",
       "175056                          3548                 297          0.083709\n",
       "223107                          2903                 233          0.080262\n",
       "340590                          2902                 209          0.072019\n",
       "2265604                          969                  65          0.067079"
      ]
     },
     "execution_count": 28,
     "metadata": {},
     "output_type": "execute_result"
    }
   ],
   "source": [
    "(df.pivot_table(index='total_income_category', values='debt', aggfunc=['count', 'sum', 'mean'])\n",
    " .rename(total_cat_dict).rename_axis('Размер дохода, р. до')\n",
    " .set_axis(['Ко-во клиентов', 'Кол-во невозвратов', 'Доля невозвратов'], axis='columns', inplace=False)\n",
    ")\n",
    "                  \n"
   ]
  },
  {
   "cell_type": "markdown",
   "metadata": {},
   "source": [
    "**Вывод**\n",
    "\n",
    "Есть слабая зависимость между уровнем дохода и возвратом кредита в срок. Минимальный уровень невозвратов наблюдается для клиентов с минимальным (6,2 %) и максимальным (6,7 %) уровнем дохода. Максимальная доля невозвратов для клиентов с доходом чуть меньше медианного - 8,9 %"
   ]
  },
  {
   "cell_type": "markdown",
   "metadata": {},
   "source": [
    "### Как разные цели кредита влияют на его возврат в срок?"
   ]
  },
  {
   "cell_type": "code",
   "execution_count": 29,
   "metadata": {},
   "outputs": [
    {
     "data": {
      "text/html": [
       "<div>\n",
       "<style scoped>\n",
       "    .dataframe tbody tr th:only-of-type {\n",
       "        vertical-align: middle;\n",
       "    }\n",
       "\n",
       "    .dataframe tbody tr th {\n",
       "        vertical-align: top;\n",
       "    }\n",
       "\n",
       "    .dataframe thead th {\n",
       "        text-align: right;\n",
       "    }\n",
       "</style>\n",
       "<table border=\"1\" class=\"dataframe\">\n",
       "  <thead>\n",
       "    <tr style=\"text-align: right;\">\n",
       "      <th></th>\n",
       "      <th></th>\n",
       "      <th>Ко-во клиентов</th>\n",
       "      <th>Кол-во невозвратов</th>\n",
       "      <th>Доля невозвратов</th>\n",
       "    </tr>\n",
       "    <tr>\n",
       "      <th>Категория цели</th>\n",
       "      <th>Подкатегория</th>\n",
       "      <th></th>\n",
       "      <th></th>\n",
       "      <th></th>\n",
       "    </tr>\n",
       "  </thead>\n",
       "  <tbody>\n",
       "    <tr>\n",
       "      <th rowspan=\"5\" valign=\"top\">жилье/недвижимость</th>\n",
       "      <th></th>\n",
       "      <td>6409</td>\n",
       "      <td>463</td>\n",
       "      <td>0.072242</td>\n",
       "    </tr>\n",
       "    <tr>\n",
       "      <th>коммерческая</th>\n",
       "      <td>1311</td>\n",
       "      <td>99</td>\n",
       "      <td>0.075515</td>\n",
       "    </tr>\n",
       "    <tr>\n",
       "      <th>строительство</th>\n",
       "      <td>1878</td>\n",
       "      <td>144</td>\n",
       "      <td>0.076677</td>\n",
       "    </tr>\n",
       "    <tr>\n",
       "      <th>ремонт</th>\n",
       "      <td>607</td>\n",
       "      <td>35</td>\n",
       "      <td>0.057661</td>\n",
       "    </tr>\n",
       "    <tr>\n",
       "      <th>жилая</th>\n",
       "      <td>606</td>\n",
       "      <td>41</td>\n",
       "      <td>0.067657</td>\n",
       "    </tr>\n",
       "    <tr>\n",
       "      <th rowspan=\"2\" valign=\"top\">автомобиль</th>\n",
       "      <th></th>\n",
       "      <td>3828</td>\n",
       "      <td>367</td>\n",
       "      <td>0.095873</td>\n",
       "    </tr>\n",
       "    <tr>\n",
       "      <th>подержанный</th>\n",
       "      <td>478</td>\n",
       "      <td>36</td>\n",
       "      <td>0.075314</td>\n",
       "    </tr>\n",
       "    <tr>\n",
       "      <th>образование</th>\n",
       "      <th></th>\n",
       "      <td>4013</td>\n",
       "      <td>370</td>\n",
       "      <td>0.092200</td>\n",
       "    </tr>\n",
       "    <tr>\n",
       "      <th>свадьба</th>\n",
       "      <th></th>\n",
       "      <td>2324</td>\n",
       "      <td>186</td>\n",
       "      <td>0.080034</td>\n",
       "    </tr>\n",
       "  </tbody>\n",
       "</table>\n",
       "</div>"
      ],
      "text/plain": [
       "                                  Ко-во клиентов  Кол-во невозвратов  \\\n",
       "Категория цели     Подкатегория                                        \n",
       "жилье/недвижимость                          6409                 463   \n",
       "                   коммерческая             1311                  99   \n",
       "                   строительство            1878                 144   \n",
       "                   ремонт                    607                  35   \n",
       "                   жилая                     606                  41   \n",
       "автомобиль                                  3828                 367   \n",
       "                   подержанный               478                  36   \n",
       "образование                                 4013                 370   \n",
       "свадьба                                     2324                 186   \n",
       "\n",
       "                                  Доля невозвратов  \n",
       "Категория цели     Подкатегория                     \n",
       "жилье/недвижимость                        0.072242  \n",
       "                   коммерческая           0.075515  \n",
       "                   строительство          0.076677  \n",
       "                   ремонт                 0.057661  \n",
       "                   жилая                  0.067657  \n",
       "автомобиль                                0.095873  \n",
       "                   подержанный            0.075314  \n",
       "образование                               0.092200  \n",
       "свадьба                                   0.080034  "
      ]
     },
     "execution_count": 29,
     "metadata": {},
     "output_type": "execute_result"
    }
   ],
   "source": [
    "(df.pivot_table(index=['purpose_category', 'purpose_subcategory'], values='debt', aggfunc=['count', 'sum', 'mean'])\n",
    " .rename(purpose_dict,level=0).rename(purpose_subcat_dict,level=1).rename_axis(['Категория цели', 'Подкатегория'])\n",
    " .set_axis(['Ко-во клиентов', 'Кол-во невозвратов', 'Доля невозвратов'], axis='columns', inplace=False)\n",
    ")"
   ]
  },
  {
   "cell_type": "markdown",
   "metadata": {},
   "source": [
    "**Вывод**\n",
    "\n",
    "Цели кредита также влияют на его возврат в срок. Наилучшие возвраты наблюдаются для кредитов с целью ремонта жилья.\n",
    "Худшая возвращаемость для категории покупки автомобиля - 9,6 %, при этом для подкатегории подержанных автомобилей возвращаемость больше примерно на 2 %."
   ]
  },
  {
   "cell_type": "markdown",
   "metadata": {},
   "source": [
    "### Как пол клиента влияет на возврат в срок кредита"
   ]
  },
  {
   "cell_type": "code",
   "execution_count": 30,
   "metadata": {},
   "outputs": [
    {
     "data": {
      "text/html": [
       "<div>\n",
       "<style scoped>\n",
       "    .dataframe tbody tr th:only-of-type {\n",
       "        vertical-align: middle;\n",
       "    }\n",
       "\n",
       "    .dataframe tbody tr th {\n",
       "        vertical-align: top;\n",
       "    }\n",
       "\n",
       "    .dataframe thead th {\n",
       "        text-align: right;\n",
       "    }\n",
       "</style>\n",
       "<table border=\"1\" class=\"dataframe\">\n",
       "  <thead>\n",
       "    <tr style=\"text-align: right;\">\n",
       "      <th></th>\n",
       "      <th>Ко-во клиентов</th>\n",
       "      <th>Кол-во невозвратов</th>\n",
       "      <th>Доля невозвратов</th>\n",
       "    </tr>\n",
       "    <tr>\n",
       "      <th>Пол</th>\n",
       "      <th></th>\n",
       "      <th></th>\n",
       "      <th></th>\n",
       "    </tr>\n",
       "  </thead>\n",
       "  <tbody>\n",
       "    <tr>\n",
       "      <th>F</th>\n",
       "      <td>14174</td>\n",
       "      <td>994</td>\n",
       "      <td>0.070128</td>\n",
       "    </tr>\n",
       "    <tr>\n",
       "      <th>M</th>\n",
       "      <td>7279</td>\n",
       "      <td>747</td>\n",
       "      <td>0.102624</td>\n",
       "    </tr>\n",
       "    <tr>\n",
       "      <th>XNA</th>\n",
       "      <td>1</td>\n",
       "      <td>0</td>\n",
       "      <td>0.000000</td>\n",
       "    </tr>\n",
       "  </tbody>\n",
       "</table>\n",
       "</div>"
      ],
      "text/plain": [
       "     Ко-во клиентов  Кол-во невозвратов  Доля невозвратов\n",
       "Пол                                                      \n",
       "F             14174                 994          0.070128\n",
       "M              7279                 747          0.102624\n",
       "XNA               1                   0          0.000000"
      ]
     },
     "execution_count": 30,
     "metadata": {},
     "output_type": "execute_result"
    }
   ],
   "source": [
    "(df.pivot_table(index='gender', values='debt', aggfunc=['count', 'sum', 'mean'])\n",
    " .rename_axis('Пол')\n",
    " .set_axis(['Ко-во клиентов', 'Кол-во невозвратов', 'Доля невозвратов'], axis='columns', inplace=False))"
   ]
  },
  {
   "cell_type": "markdown",
   "metadata": {},
   "source": [
    "**Вывод**\n",
    "\n",
    "Рассмотрено вияние пола клиента на возвращаемость в срок кредита, установлено, что женщины примерно на 3 % лучше возвращают кредиты."
   ]
  },
  {
   "cell_type": "markdown",
   "metadata": {},
   "source": [
    "### Как возраст клиента влияет на возврат в срок кредита?"
   ]
  },
  {
   "cell_type": "code",
   "execution_count": 31,
   "metadata": {},
   "outputs": [
    {
     "data": {
      "text/html": [
       "<div>\n",
       "<style scoped>\n",
       "    .dataframe tbody tr th:only-of-type {\n",
       "        vertical-align: middle;\n",
       "    }\n",
       "\n",
       "    .dataframe tbody tr th {\n",
       "        vertical-align: top;\n",
       "    }\n",
       "\n",
       "    .dataframe thead th {\n",
       "        text-align: right;\n",
       "    }\n",
       "</style>\n",
       "<table border=\"1\" class=\"dataframe\">\n",
       "  <thead>\n",
       "    <tr style=\"text-align: right;\">\n",
       "      <th></th>\n",
       "      <th>Ко-во клиентов</th>\n",
       "      <th>Кол-во невозвратов</th>\n",
       "      <th>Доля невозвратов</th>\n",
       "    </tr>\n",
       "    <tr>\n",
       "      <th>Возраст</th>\n",
       "      <th></th>\n",
       "      <th></th>\n",
       "      <th></th>\n",
       "    </tr>\n",
       "  </thead>\n",
       "  <tbody>\n",
       "    <tr>\n",
       "      <th>0</th>\n",
       "      <td>101</td>\n",
       "      <td>8</td>\n",
       "      <td>0.079208</td>\n",
       "    </tr>\n",
       "    <tr>\n",
       "      <th>18-25</th>\n",
       "      <td>1232</td>\n",
       "      <td>131</td>\n",
       "      <td>0.106331</td>\n",
       "    </tr>\n",
       "    <tr>\n",
       "      <th>26-35</th>\n",
       "      <td>5351</td>\n",
       "      <td>567</td>\n",
       "      <td>0.105962</td>\n",
       "    </tr>\n",
       "    <tr>\n",
       "      <th>36-45</th>\n",
       "      <td>5620</td>\n",
       "      <td>467</td>\n",
       "      <td>0.083096</td>\n",
       "    </tr>\n",
       "    <tr>\n",
       "      <th>46-55</th>\n",
       "      <td>4814</td>\n",
       "      <td>328</td>\n",
       "      <td>0.068135</td>\n",
       "    </tr>\n",
       "    <tr>\n",
       "      <th>56-65</th>\n",
       "      <td>3634</td>\n",
       "      <td>205</td>\n",
       "      <td>0.056412</td>\n",
       "    </tr>\n",
       "    <tr>\n",
       "      <th>66 и выше</th>\n",
       "      <td>702</td>\n",
       "      <td>35</td>\n",
       "      <td>0.049858</td>\n",
       "    </tr>\n",
       "  </tbody>\n",
       "</table>\n",
       "</div>"
      ],
      "text/plain": [
       "           Ко-во клиентов  Кол-во невозвратов  Доля невозвратов\n",
       "Возраст                                                        \n",
       "0                     101                   8          0.079208\n",
       "18-25                1232                 131          0.106331\n",
       "26-35                5351                 567          0.105962\n",
       "36-45                5620                 467          0.083096\n",
       "46-55                4814                 328          0.068135\n",
       "56-65                3634                 205          0.056412\n",
       "66 и выше             702                  35          0.049858"
      ]
     },
     "execution_count": 31,
     "metadata": {},
     "output_type": "execute_result"
    }
   ],
   "source": [
    "(df.pivot_table(index='dob_years_category', values='debt', aggfunc=['count', 'sum', 'mean'])\n",
    " .rename(dob_years_cat_dict).rename_axis('Возраст')\n",
    " .set_axis(['Ко-во клиентов', 'Кол-во невозвратов', 'Доля невозвратов'], axis='columns', inplace=False))"
   ]
  },
  {
   "cell_type": "markdown",
   "metadata": {},
   "source": [
    "**Вывод**\n",
    "\n",
    "Рассмотрено вияние возраста клиента на возвращаемость в срок кредита, установлено, что с возрастом процент невозвратов сокращается, максимальный процент невозвратов для категории 18-25 лет - 10,6%, а минимальный - для категории 65 и выше составляет 5 %."
   ]
  },
  {
   "cell_type": "markdown",
   "metadata": {},
   "source": [
    "### Как меняется статистика невозвратов при группировке данных по 3 параметрам (семейному положению, полу и возрасту)"
   ]
  },
  {
   "cell_type": "code",
   "execution_count": 32,
   "metadata": {
    "scrolled": true
   },
   "outputs": [
    {
     "data": {
      "text/html": [
       "<div>\n",
       "<style scoped>\n",
       "    .dataframe tbody tr th:only-of-type {\n",
       "        vertical-align: middle;\n",
       "    }\n",
       "\n",
       "    .dataframe tbody tr th {\n",
       "        vertical-align: top;\n",
       "    }\n",
       "\n",
       "    .dataframe thead th {\n",
       "        text-align: right;\n",
       "    }\n",
       "</style>\n",
       "<table border=\"1\" class=\"dataframe\">\n",
       "  <thead>\n",
       "    <tr style=\"text-align: right;\">\n",
       "      <th></th>\n",
       "      <th></th>\n",
       "      <th></th>\n",
       "      <th>mean</th>\n",
       "      <th>count</th>\n",
       "      <th>sum</th>\n",
       "    </tr>\n",
       "    <tr>\n",
       "      <th>family_status</th>\n",
       "      <th>gender</th>\n",
       "      <th>dob_years_category</th>\n",
       "      <th></th>\n",
       "      <th></th>\n",
       "      <th></th>\n",
       "    </tr>\n",
       "  </thead>\n",
       "  <tbody>\n",
       "    <tr>\n",
       "      <th rowspan=\"2\" valign=\"top\">вдовец / вдова</th>\n",
       "      <th rowspan=\"2\" valign=\"top\">M</th>\n",
       "      <th>6</th>\n",
       "      <td>0.333333</td>\n",
       "      <td>3</td>\n",
       "      <td>1</td>\n",
       "    </tr>\n",
       "    <tr>\n",
       "      <th>5</th>\n",
       "      <td>0.260870</td>\n",
       "      <td>23</td>\n",
       "      <td>6</td>\n",
       "    </tr>\n",
       "    <tr>\n",
       "      <th>гражданский брак</th>\n",
       "      <th>M</th>\n",
       "      <th>0</th>\n",
       "      <td>0.200000</td>\n",
       "      <td>5</td>\n",
       "      <td>1</td>\n",
       "    </tr>\n",
       "    <tr>\n",
       "      <th>вдовец / вдова</th>\n",
       "      <th>F</th>\n",
       "      <th>0</th>\n",
       "      <td>0.200000</td>\n",
       "      <td>5</td>\n",
       "      <td>1</td>\n",
       "    </tr>\n",
       "    <tr>\n",
       "      <th>в разводе</th>\n",
       "      <th>M</th>\n",
       "      <th>1</th>\n",
       "      <td>0.200000</td>\n",
       "      <td>5</td>\n",
       "      <td>1</td>\n",
       "    </tr>\n",
       "    <tr>\n",
       "      <th>вдовец / вдова</th>\n",
       "      <th>M</th>\n",
       "      <th>4</th>\n",
       "      <td>0.176471</td>\n",
       "      <td>17</td>\n",
       "      <td>3</td>\n",
       "    </tr>\n",
       "    <tr>\n",
       "      <th>в разводе</th>\n",
       "      <th>F</th>\n",
       "      <th>1</th>\n",
       "      <td>0.176471</td>\n",
       "      <td>17</td>\n",
       "      <td>3</td>\n",
       "    </tr>\n",
       "    <tr>\n",
       "      <th rowspan=\"2\" valign=\"top\">Не женат / не замужем</th>\n",
       "      <th rowspan=\"2\" valign=\"top\">M</th>\n",
       "      <th>3</th>\n",
       "      <td>0.170213</td>\n",
       "      <td>188</td>\n",
       "      <td>32</td>\n",
       "    </tr>\n",
       "    <tr>\n",
       "      <th>1</th>\n",
       "      <td>0.156250</td>\n",
       "      <td>256</td>\n",
       "      <td>40</td>\n",
       "    </tr>\n",
       "    <tr>\n",
       "      <th>в разводе</th>\n",
       "      <th>M</th>\n",
       "      <th>2</th>\n",
       "      <td>0.145455</td>\n",
       "      <td>55</td>\n",
       "      <td>8</td>\n",
       "    </tr>\n",
       "    <tr>\n",
       "      <th>Не женат / не замужем</th>\n",
       "      <th>M</th>\n",
       "      <th>2</th>\n",
       "      <td>0.141612</td>\n",
       "      <td>459</td>\n",
       "      <td>65</td>\n",
       "    </tr>\n",
       "    <tr>\n",
       "      <th>гражданский брак</th>\n",
       "      <th>M</th>\n",
       "      <th>6</th>\n",
       "      <td>0.136364</td>\n",
       "      <td>22</td>\n",
       "      <td>3</td>\n",
       "    </tr>\n",
       "    <tr>\n",
       "      <th>Не женат / не замужем</th>\n",
       "      <th>M</th>\n",
       "      <th>4</th>\n",
       "      <td>0.135922</td>\n",
       "      <td>103</td>\n",
       "      <td>14</td>\n",
       "    </tr>\n",
       "    <tr>\n",
       "      <th rowspan=\"3\" valign=\"top\">гражданский брак</th>\n",
       "      <th rowspan=\"3\" valign=\"top\">M</th>\n",
       "      <th>4</th>\n",
       "      <td>0.130112</td>\n",
       "      <td>269</td>\n",
       "      <td>35</td>\n",
       "    </tr>\n",
       "    <tr>\n",
       "      <th>3</th>\n",
       "      <td>0.125348</td>\n",
       "      <td>359</td>\n",
       "      <td>45</td>\n",
       "    </tr>\n",
       "    <tr>\n",
       "      <th>1</th>\n",
       "      <td>0.125000</td>\n",
       "      <td>120</td>\n",
       "      <td>15</td>\n",
       "    </tr>\n",
       "    <tr>\n",
       "      <th>Не женат / не замужем</th>\n",
       "      <th>M</th>\n",
       "      <th>0</th>\n",
       "      <td>0.125000</td>\n",
       "      <td>8</td>\n",
       "      <td>1</td>\n",
       "    </tr>\n",
       "    <tr>\n",
       "      <th>гражданский брак</th>\n",
       "      <th>F</th>\n",
       "      <th>2</th>\n",
       "      <td>0.114943</td>\n",
       "      <td>696</td>\n",
       "      <td>80</td>\n",
       "    </tr>\n",
       "    <tr>\n",
       "      <th>в разводе</th>\n",
       "      <th>F</th>\n",
       "      <th>6</th>\n",
       "      <td>0.114286</td>\n",
       "      <td>35</td>\n",
       "      <td>4</td>\n",
       "    </tr>\n",
       "    <tr>\n",
       "      <th>женат / замужем</th>\n",
       "      <th>F</th>\n",
       "      <th>1</th>\n",
       "      <td>0.109929</td>\n",
       "      <td>282</td>\n",
       "      <td>31</td>\n",
       "    </tr>\n",
       "  </tbody>\n",
       "</table>\n",
       "</div>"
      ],
      "text/plain": [
       "                                                     mean  count  sum\n",
       "family_status         gender dob_years_category                      \n",
       "вдовец / вдова        M      6                   0.333333      3    1\n",
       "                             5                   0.260870     23    6\n",
       "гражданский брак      M      0                   0.200000      5    1\n",
       "вдовец / вдова        F      0                   0.200000      5    1\n",
       "в разводе             M      1                   0.200000      5    1\n",
       "вдовец / вдова        M      4                   0.176471     17    3\n",
       "в разводе             F      1                   0.176471     17    3\n",
       "Не женат / не замужем M      3                   0.170213    188   32\n",
       "                             1                   0.156250    256   40\n",
       "в разводе             M      2                   0.145455     55    8\n",
       "Не женат / не замужем M      2                   0.141612    459   65\n",
       "гражданский брак      M      6                   0.136364     22    3\n",
       "Не женат / не замужем M      4                   0.135922    103   14\n",
       "гражданский брак      M      4                   0.130112    269   35\n",
       "                             3                   0.125348    359   45\n",
       "                             1                   0.125000    120   15\n",
       "Не женат / не замужем M      0                   0.125000      8    1\n",
       "гражданский брак      F      2                   0.114943    696   80\n",
       "в разводе             F      6                   0.114286     35    4\n",
       "женат / замужем       F      1                   0.109929    282   31"
      ]
     },
     "execution_count": 32,
     "metadata": {},
     "output_type": "execute_result"
    }
   ],
   "source": [
    "(df.pivot_table(index=['family_status', 'gender','dob_years_category'], values='debt', aggfunc=['mean','count', 'sum']).\n",
    "      set_axis(['mean','count', 'sum'], axis='columns', inplace=False).sort_values(by='mean', ascending=False).head(20))"
   ]
  },
  {
   "cell_type": "markdown",
   "metadata": {},
   "source": [
    "В узких категориях клиентов процент невозвратов может быть более 20 %, например, для мужчин вдовцов в возрасте 56 лет и выше.\n",
    "Для задач кредитного скоринга целесообразно увеличить размер выборки и исследовать более узкие группы на предмет высоких рисков невозврата."
   ]
  },
  {
   "cell_type": "markdown",
   "metadata": {},
   "source": [
    "## Шаг 4. Общий вывод"
   ]
  },
  {
   "cell_type": "markdown",
   "metadata": {},
   "source": [
    "Целью проекта является исследование надёжности заёмщиков различных категорий.\n",
    "\n",
    "**1. В ходе работы был проанализированы исходные данные. В них содержится следующая информация:**\n",
    "\n",
    "- количество детей в семье\n",
    "- общий трудовой стаж в днях\n",
    "- возраст клиента в годах\n",
    "- уровень образования клиента\n",
    "- семейное положение\n",
    "- пол клиента\n",
    "- тип занятости\n",
    "- имел ли задолженность по возврату кредитов\n",
    "- ежемесячный доход\n",
    "- цель получения кредита\n",
    "\n",
    "**2. Была выполнена предобработка данных, в том числе:**\n",
    "- найдены и заполнены пропущенные значения в 2174 строках, отсутствовали значения стажа и дохода. Значения дохода были восстановлены медианными доходами соответсвующих групп занятости. Значения стажа - заполнены уникальным числом. \n",
    "- выполнена замена типа данных с вещественного на целочисленный для значений стажа и дохода заемщиков.\n",
    "- осуществлен поиск и удаление явных дубликатов, все дубликаты (54 явных и 17 неявных) содержались среди строк с пропусками. Возможной причиной появления дубликатов является восстановление значений зарплаты одинаковым медианным значением, и отсутствие уникального ID клиента/заявки.\n",
    "- для категоризации целей получения кредита были осуществлена лемматизация формулировок. Что позволило выделить 4 категории целей:  1) жилье и недвижимость, 2) автомобиль, 3) образование, 4) свадьба. Дополнительно были выделены подкатегории недвижимости коммерческая, жилая, ремонт, сторительство и др., а также подкатегория \"подержанные\" для автомобилей.\n",
    "- составлены словари категоризации данных по цели, образованию, семейному положению, возрасту, доходу. Для выделения категорий дохода и возраста были рассмотрены распределения их значений, для возраста выбраны равные интервалы, а для дохода - интервалы с примерно равным количеством значений. \n",
    "\n",
    "**В данных были встречены следующие артефакты:**\n",
    "- отрицательные значения стажа (может быть вызвано неправильным расчетом стажа, например, вычитание из года начала стажа текущего года),\n",
    "- слишком большие значения стажа(искажения данных не линейных, восстановление маловероятно), \n",
    "- некорректное количество детей -1 и 20 (что может быть вызвано ошибками при введении данных -1 вместо 1, 20 вместо 2),\n",
    "- нулевой возраст клиентов (значения могут быть частично восстановлены по стажу),\n",
    "- пол 'XNA', всего одно значение, может быть исключено.\n",
    "\n",
    "**3. Исследованы и установлены зависимости доли возвратов в срок от различных факторов:**\n",
    "- от количества детей в семье, изменения от 7,5 % до 9,8 %;\n",
    "- от семейного положения - от 6,6 % до 9,8 %;\n",
    "- от уровня дохода - от 6,7 % до 8,9 %;\n",
    "- от категории цели - от 5,8 % до 9,5 %;\n",
    "- от пола заемщика - от 7 % до 10,2 %;\n",
    "- от возраста заемщика - от 5 % до 10,6 %.\n",
    "\n",
    "Также были рассмотрены более узкие категории и выявлено наличие категорий с высокой долей невозвратов, например, вдовец в возрасте 56 лет и выше имеет более **20 %** невозвратов. Однако для достаточной репрезентативности необходимо увеличить размер выборки, что позволит выявить узкие категории заемщиков с высоким риском невозвратов. \n",
    "\n"
   ]
  }
 ],
 "metadata": {
  "ExecuteTimeLog": [
   {
    "duration": 616,
    "start_time": "2022-01-09T08:57:57.214Z"
   },
   {
    "duration": 55,
    "start_time": "2022-01-09T09:02:24.457Z"
   },
   {
    "duration": 9,
    "start_time": "2022-01-09T09:06:17.037Z"
   },
   {
    "duration": 13,
    "start_time": "2022-01-09T09:09:50.650Z"
   },
   {
    "duration": 10,
    "start_time": "2022-01-09T09:09:55.929Z"
   },
   {
    "duration": 228,
    "start_time": "2022-01-09T09:10:49.253Z"
   },
   {
    "duration": 195,
    "start_time": "2022-01-09T09:10:59.972Z"
   },
   {
    "duration": 165,
    "start_time": "2022-01-09T09:11:06.875Z"
   },
   {
    "duration": 21,
    "start_time": "2022-01-09T09:11:21.993Z"
   },
   {
    "duration": 8,
    "start_time": "2022-01-09T09:11:33.579Z"
   },
   {
    "duration": 11,
    "start_time": "2022-01-09T09:11:51.717Z"
   },
   {
    "duration": 10,
    "start_time": "2022-01-09T09:18:03.115Z"
   },
   {
    "duration": 65,
    "start_time": "2022-01-09T09:20:42.536Z"
   },
   {
    "duration": 4,
    "start_time": "2022-01-09T09:21:37.627Z"
   },
   {
    "duration": 10,
    "start_time": "2022-01-09T09:22:10.829Z"
   },
   {
    "duration": 12,
    "start_time": "2022-01-09T09:22:21.157Z"
   },
   {
    "duration": 12,
    "start_time": "2022-01-09T09:24:18.494Z"
   },
   {
    "duration": 68,
    "start_time": "2022-01-09T09:28:21.060Z"
   },
   {
    "duration": 66,
    "start_time": "2022-01-09T09:28:28.472Z"
   },
   {
    "duration": 194,
    "start_time": "2022-01-09T09:39:15.376Z"
   },
   {
    "duration": 20,
    "start_time": "2022-01-09T09:40:37.393Z"
   },
   {
    "duration": 17,
    "start_time": "2022-01-09T09:41:36.501Z"
   },
   {
    "duration": 4907,
    "start_time": "2022-01-09T09:42:12.589Z"
   },
   {
    "duration": 5774,
    "start_time": "2022-01-09T09:43:02.539Z"
   },
   {
    "duration": 19,
    "start_time": "2022-01-09T09:44:40.102Z"
   },
   {
    "duration": 619,
    "start_time": "2022-01-09T09:48:44.995Z"
   },
   {
    "duration": 177,
    "start_time": "2022-01-09T09:49:03.089Z"
   },
   {
    "duration": 54,
    "start_time": "2022-01-09T09:50:02.161Z"
   },
   {
    "duration": 23,
    "start_time": "2022-01-09T09:50:10.208Z"
   },
   {
    "duration": 64,
    "start_time": "2022-01-09T09:54:34.077Z"
   },
   {
    "duration": 8,
    "start_time": "2022-01-09T09:54:34.143Z"
   },
   {
    "duration": 8,
    "start_time": "2022-01-09T09:54:34.153Z"
   },
   {
    "duration": 36,
    "start_time": "2022-01-09T09:54:34.162Z"
   },
   {
    "duration": 26,
    "start_time": "2022-01-09T09:54:34.199Z"
   },
   {
    "duration": 15,
    "start_time": "2022-01-09T09:56:19.980Z"
   },
   {
    "duration": 64,
    "start_time": "2022-01-09T09:56:26.666Z"
   },
   {
    "duration": 9,
    "start_time": "2022-01-09T09:56:26.732Z"
   },
   {
    "duration": 9,
    "start_time": "2022-01-09T09:56:26.743Z"
   },
   {
    "duration": 37,
    "start_time": "2022-01-09T09:56:26.754Z"
   },
   {
    "duration": 15,
    "start_time": "2022-01-09T09:56:26.793Z"
   },
   {
    "duration": 5,
    "start_time": "2022-01-09T09:58:08.826Z"
   },
   {
    "duration": 5,
    "start_time": "2022-01-09T09:58:31.284Z"
   },
   {
    "duration": 245,
    "start_time": "2022-01-09T09:58:43.754Z"
   },
   {
    "duration": 53,
    "start_time": "2022-01-09T09:59:14.712Z"
   },
   {
    "duration": 12,
    "start_time": "2022-01-09T09:59:40.048Z"
   },
   {
    "duration": 24,
    "start_time": "2022-01-09T09:59:51.278Z"
   },
   {
    "duration": 15,
    "start_time": "2022-01-09T09:59:57.216Z"
   },
   {
    "duration": 14,
    "start_time": "2022-01-09T10:01:03.571Z"
   },
   {
    "duration": 194,
    "start_time": "2022-01-09T10:01:39.651Z"
   },
   {
    "duration": 28,
    "start_time": "2022-01-09T10:05:27.279Z"
   },
   {
    "duration": 25,
    "start_time": "2022-01-09T10:05:46.770Z"
   },
   {
    "duration": 14,
    "start_time": "2022-01-09T10:07:30.678Z"
   },
   {
    "duration": 14,
    "start_time": "2022-01-09T10:07:33.672Z"
   },
   {
    "duration": 14,
    "start_time": "2022-01-09T10:08:12.316Z"
   },
   {
    "duration": 16,
    "start_time": "2022-01-09T10:11:10.168Z"
   },
   {
    "duration": 181,
    "start_time": "2022-01-09T10:12:35.478Z"
   },
   {
    "duration": 58,
    "start_time": "2022-01-09T10:12:57.431Z"
   },
   {
    "duration": 38,
    "start_time": "2022-01-09T10:13:04.067Z"
   },
   {
    "duration": 161,
    "start_time": "2022-01-09T10:14:16.965Z"
   },
   {
    "duration": 81,
    "start_time": "2022-01-09T10:14:42.381Z"
   },
   {
    "duration": 16,
    "start_time": "2022-01-09T10:27:38.193Z"
   },
   {
    "duration": 13,
    "start_time": "2022-01-09T10:27:51.100Z"
   },
   {
    "duration": 14,
    "start_time": "2022-01-09T10:27:58.940Z"
   },
   {
    "duration": 13,
    "start_time": "2022-01-09T10:31:21.066Z"
   },
   {
    "duration": 15,
    "start_time": "2022-01-09T10:31:48.148Z"
   },
   {
    "duration": 24,
    "start_time": "2022-01-09T10:32:07.768Z"
   },
   {
    "duration": 13,
    "start_time": "2022-01-09T10:32:30.424Z"
   },
   {
    "duration": 751,
    "start_time": "2022-01-09T10:41:01.003Z"
   },
   {
    "duration": 12,
    "start_time": "2022-01-09T10:41:25.334Z"
   },
   {
    "duration": 6210,
    "start_time": "2022-01-09T10:41:37.857Z"
   },
   {
    "duration": 4200,
    "start_time": "2022-01-09T10:41:52.227Z"
   },
   {
    "duration": 172,
    "start_time": "2022-01-09T10:41:58.334Z"
   },
   {
    "duration": 655,
    "start_time": "2022-01-09T10:42:08.880Z"
   },
   {
    "duration": 659,
    "start_time": "2022-01-09T10:44:09.214Z"
   },
   {
    "duration": 21,
    "start_time": "2022-01-09T10:47:28.738Z"
   },
   {
    "duration": 190,
    "start_time": "2022-01-09T11:32:53.024Z"
   },
   {
    "duration": 6,
    "start_time": "2022-01-09T11:33:38.241Z"
   },
   {
    "duration": 7,
    "start_time": "2022-01-09T11:33:59.026Z"
   },
   {
    "duration": 186,
    "start_time": "2022-01-09T11:34:17.016Z"
   },
   {
    "duration": 171,
    "start_time": "2022-01-09T11:34:42.405Z"
   },
   {
    "duration": 7,
    "start_time": "2022-01-09T11:34:55.289Z"
   },
   {
    "duration": 5,
    "start_time": "2022-01-09T11:35:10.346Z"
   },
   {
    "duration": 7,
    "start_time": "2022-01-09T11:36:32.546Z"
   },
   {
    "duration": 644,
    "start_time": "2022-01-09T11:36:51.960Z"
   },
   {
    "duration": 672,
    "start_time": "2022-01-09T11:37:36.854Z"
   },
   {
    "duration": 54,
    "start_time": "2022-01-09T11:38:29.833Z"
   },
   {
    "duration": 674,
    "start_time": "2022-01-09T11:38:40.789Z"
   },
   {
    "duration": 842,
    "start_time": "2022-01-09T11:39:27.620Z"
   },
   {
    "duration": 835,
    "start_time": "2022-01-09T11:39:35.268Z"
   },
   {
    "duration": 661,
    "start_time": "2022-01-09T11:39:43.651Z"
   },
   {
    "duration": 660,
    "start_time": "2022-01-09T11:39:58.416Z"
   },
   {
    "duration": 677,
    "start_time": "2022-01-09T11:40:10.900Z"
   },
   {
    "duration": 22,
    "start_time": "2022-01-09T11:41:12.651Z"
   },
   {
    "duration": 6,
    "start_time": "2022-01-09T11:41:25.586Z"
   },
   {
    "duration": 643,
    "start_time": "2022-01-09T11:41:51.821Z"
   },
   {
    "duration": 678,
    "start_time": "2022-01-09T11:44:58.332Z"
   },
   {
    "duration": 835,
    "start_time": "2022-01-09T11:47:39.627Z"
   },
   {
    "duration": 669,
    "start_time": "2022-01-09T11:50:02.454Z"
   },
   {
    "duration": 660,
    "start_time": "2022-01-09T11:50:09.304Z"
   },
   {
    "duration": 657,
    "start_time": "2022-01-09T11:50:16.671Z"
   },
   {
    "duration": 949,
    "start_time": "2022-01-09T11:50:39.824Z"
   },
   {
    "duration": 700,
    "start_time": "2022-01-09T11:51:39.826Z"
   },
   {
    "duration": 188,
    "start_time": "2022-01-09T12:05:36.960Z"
   },
   {
    "duration": 174,
    "start_time": "2022-01-09T12:05:54.095Z"
   },
   {
    "duration": 173,
    "start_time": "2022-01-09T12:08:03.289Z"
   },
   {
    "duration": 177,
    "start_time": "2022-01-09T12:08:27.648Z"
   },
   {
    "duration": 173,
    "start_time": "2022-01-09T12:08:47.222Z"
   },
   {
    "duration": 195,
    "start_time": "2022-01-09T12:09:04.563Z"
   },
   {
    "duration": 2144,
    "start_time": "2022-01-09T12:09:08.137Z"
   },
   {
    "duration": 768,
    "start_time": "2022-01-09T12:09:40.006Z"
   },
   {
    "duration": 2547,
    "start_time": "2022-01-09T12:09:44.920Z"
   },
   {
    "duration": 2530,
    "start_time": "2022-01-09T12:10:44.744Z"
   },
   {
    "duration": 2611,
    "start_time": "2022-01-09T12:10:53.656Z"
   },
   {
    "duration": 2548,
    "start_time": "2022-01-09T12:40:50.908Z"
   },
   {
    "duration": 2679,
    "start_time": "2022-01-09T12:45:48.095Z"
   },
   {
    "duration": 2633,
    "start_time": "2022-01-09T12:45:53.571Z"
   },
   {
    "duration": 2634,
    "start_time": "2022-01-09T12:45:59.505Z"
   },
   {
    "duration": 2660,
    "start_time": "2022-01-09T12:46:06.290Z"
   },
   {
    "duration": 2536,
    "start_time": "2022-01-09T12:46:20.580Z"
   },
   {
    "duration": 2501,
    "start_time": "2022-01-09T12:46:26.445Z"
   },
   {
    "duration": 59,
    "start_time": "2022-01-09T12:46:44.187Z"
   },
   {
    "duration": 2529,
    "start_time": "2022-01-09T12:46:47.835Z"
   },
   {
    "duration": 2663,
    "start_time": "2022-01-09T12:53:03.489Z"
   },
   {
    "duration": 2600,
    "start_time": "2022-01-09T13:00:10.051Z"
   },
   {
    "duration": 2533,
    "start_time": "2022-01-09T13:01:25.516Z"
   },
   {
    "duration": 2989,
    "start_time": "2022-01-09T13:02:29.678Z"
   },
   {
    "duration": 2656,
    "start_time": "2022-01-09T13:03:48.883Z"
   },
   {
    "duration": 2651,
    "start_time": "2022-01-09T13:03:59.369Z"
   },
   {
    "duration": 2805,
    "start_time": "2022-01-09T13:04:21.269Z"
   },
   {
    "duration": 71,
    "start_time": "2022-01-09T13:08:57.887Z"
   },
   {
    "duration": 57,
    "start_time": "2022-01-09T13:09:05.513Z"
   },
   {
    "duration": 4,
    "start_time": "2022-01-09T13:09:18.601Z"
   },
   {
    "duration": 280,
    "start_time": "2022-01-09T13:12:18.363Z"
   },
   {
    "duration": 321,
    "start_time": "2022-01-09T13:12:34.126Z"
   },
   {
    "duration": 2507,
    "start_time": "2022-01-09T13:12:59.983Z"
   },
   {
    "duration": 234,
    "start_time": "2022-01-09T13:13:46.979Z"
   },
   {
    "duration": 4380,
    "start_time": "2022-01-09T13:13:50.854Z"
   },
   {
    "duration": 4452,
    "start_time": "2022-01-09T13:14:04.567Z"
   },
   {
    "duration": 4439,
    "start_time": "2022-01-09T13:14:11.321Z"
   },
   {
    "duration": 2686,
    "start_time": "2022-01-09T13:14:54.490Z"
   },
   {
    "duration": 2715,
    "start_time": "2022-01-09T13:15:51.704Z"
   },
   {
    "duration": 2835,
    "start_time": "2022-01-09T13:15:55.237Z"
   },
   {
    "duration": 7262,
    "start_time": "2022-01-09T13:16:00.395Z"
   },
   {
    "duration": 7117,
    "start_time": "2022-01-09T13:16:07.878Z"
   },
   {
    "duration": 7053,
    "start_time": "2022-01-09T13:16:35.414Z"
   },
   {
    "duration": 7288,
    "start_time": "2022-01-09T13:17:42.978Z"
   },
   {
    "duration": 2875,
    "start_time": "2022-01-09T13:18:00.592Z"
   },
   {
    "duration": 4815,
    "start_time": "2022-01-09T13:18:06.038Z"
   },
   {
    "duration": 2760,
    "start_time": "2022-01-09T13:19:29.596Z"
   },
   {
    "duration": 6851,
    "start_time": "2022-01-09T13:19:52.319Z"
   },
   {
    "duration": 168,
    "start_time": "2022-01-09T13:28:24.964Z"
   },
   {
    "duration": 693,
    "start_time": "2022-01-09T13:28:32.584Z"
   },
   {
    "duration": 13,
    "start_time": "2022-01-09T13:28:48.386Z"
   },
   {
    "duration": 19,
    "start_time": "2022-01-09T13:30:20.664Z"
   },
   {
    "duration": 16,
    "start_time": "2022-01-09T13:30:53.682Z"
   },
   {
    "duration": 18,
    "start_time": "2022-01-09T13:31:22.957Z"
   },
   {
    "duration": 15,
    "start_time": "2022-01-09T13:31:28.765Z"
   },
   {
    "duration": 18,
    "start_time": "2022-01-09T13:31:37.515Z"
   },
   {
    "duration": 33,
    "start_time": "2022-01-09T13:31:46.346Z"
   },
   {
    "duration": 70,
    "start_time": "2022-01-09T15:10:59.792Z"
   },
   {
    "duration": 11,
    "start_time": "2022-01-09T15:10:59.865Z"
   },
   {
    "duration": 23,
    "start_time": "2022-01-09T15:10:59.878Z"
   },
   {
    "duration": 30,
    "start_time": "2022-01-09T15:10:59.903Z"
   },
   {
    "duration": 40,
    "start_time": "2022-01-09T15:11:06.306Z"
   },
   {
    "duration": 8,
    "start_time": "2022-01-09T15:11:55.756Z"
   },
   {
    "duration": 14,
    "start_time": "2022-01-09T15:12:16.225Z"
   },
   {
    "duration": 8,
    "start_time": "2022-01-09T15:13:07.827Z"
   },
   {
    "duration": 22,
    "start_time": "2022-01-09T15:13:34.674Z"
   },
   {
    "duration": 211,
    "start_time": "2022-01-11T18:14:50.008Z"
   },
   {
    "duration": 644,
    "start_time": "2022-01-11T18:14:56.065Z"
   },
   {
    "duration": 9,
    "start_time": "2022-01-11T18:14:56.711Z"
   },
   {
    "duration": 9,
    "start_time": "2022-01-11T18:14:56.721Z"
   },
   {
    "duration": 12,
    "start_time": "2022-01-11T18:14:56.731Z"
   },
   {
    "duration": 6817,
    "start_time": "2022-01-11T18:14:58.983Z"
   },
   {
    "duration": 6,
    "start_time": "2022-01-11T18:16:19.868Z"
   },
   {
    "duration": 26,
    "start_time": "2022-01-11T18:19:43.648Z"
   },
   {
    "duration": 204,
    "start_time": "2022-01-11T18:24:02.186Z"
   },
   {
    "duration": 28,
    "start_time": "2022-01-11T18:24:07.984Z"
   },
   {
    "duration": 29,
    "start_time": "2022-01-11T18:28:49.463Z"
   },
   {
    "duration": 186,
    "start_time": "2022-01-11T18:29:41.077Z"
   },
   {
    "duration": 28,
    "start_time": "2022-01-11T18:33:10.511Z"
   },
   {
    "duration": 27,
    "start_time": "2022-01-11T18:33:19.078Z"
   },
   {
    "duration": 33,
    "start_time": "2022-01-11T18:36:14.863Z"
   },
   {
    "duration": 28,
    "start_time": "2022-01-11T18:36:30.399Z"
   },
   {
    "duration": 56,
    "start_time": "2022-01-11T18:40:24.774Z"
   },
   {
    "duration": 316,
    "start_time": "2022-01-11T18:40:50.523Z"
   },
   {
    "duration": 8,
    "start_time": "2022-01-11T18:41:57.448Z"
   },
   {
    "duration": 177,
    "start_time": "2022-01-11T18:42:23.283Z"
   },
   {
    "duration": 46,
    "start_time": "2022-01-11T18:47:06.799Z"
   },
   {
    "duration": 44,
    "start_time": "2022-01-11T18:47:17.246Z"
   },
   {
    "duration": 85,
    "start_time": "2022-01-11T18:47:45.714Z"
   },
   {
    "duration": 189,
    "start_time": "2022-01-11T18:52:59.124Z"
   },
   {
    "duration": 4,
    "start_time": "2022-01-11T18:56:20.823Z"
   },
   {
    "duration": 11,
    "start_time": "2022-01-11T18:56:23.262Z"
   },
   {
    "duration": 17,
    "start_time": "2022-01-11T18:57:26.403Z"
   },
   {
    "duration": 20,
    "start_time": "2022-01-11T18:57:41.712Z"
   },
   {
    "duration": 35,
    "start_time": "2022-01-11T18:58:25.043Z"
   },
   {
    "duration": 34,
    "start_time": "2022-01-11T18:58:38.210Z"
   },
   {
    "duration": 67,
    "start_time": "2022-01-11T18:58:52.761Z"
   },
   {
    "duration": 10,
    "start_time": "2022-01-11T18:58:52.830Z"
   },
   {
    "duration": 10,
    "start_time": "2022-01-11T18:58:52.842Z"
   },
   {
    "duration": 43,
    "start_time": "2022-01-11T18:58:52.853Z"
   },
   {
    "duration": 28,
    "start_time": "2022-01-11T18:58:52.898Z"
   },
   {
    "duration": 40,
    "start_time": "2022-01-11T18:58:54.991Z"
   },
   {
    "duration": 20,
    "start_time": "2022-01-11T19:00:06.320Z"
   },
   {
    "duration": 20,
    "start_time": "2022-01-11T19:00:40.877Z"
   },
   {
    "duration": 231,
    "start_time": "2022-01-11T19:00:51.015Z"
   },
   {
    "duration": 31,
    "start_time": "2022-01-11T19:01:00.667Z"
   },
   {
    "duration": 14,
    "start_time": "2022-01-11T19:02:16.323Z"
   },
   {
    "duration": 13,
    "start_time": "2022-01-11T19:02:51.760Z"
   },
   {
    "duration": 15,
    "start_time": "2022-01-11T19:03:04.273Z"
   },
   {
    "duration": 29,
    "start_time": "2022-01-11T19:03:28.885Z"
   },
   {
    "duration": 36,
    "start_time": "2022-01-11T19:05:45.741Z"
   },
   {
    "duration": 36,
    "start_time": "2022-01-11T19:06:12.313Z"
   },
   {
    "duration": 36,
    "start_time": "2022-01-11T19:06:27.583Z"
   },
   {
    "duration": 2456,
    "start_time": "2022-01-11T19:06:42.431Z"
   },
   {
    "duration": 72,
    "start_time": "2022-01-11T19:06:53.042Z"
   },
   {
    "duration": 9,
    "start_time": "2022-01-11T19:06:53.116Z"
   },
   {
    "duration": 10,
    "start_time": "2022-01-11T19:06:53.127Z"
   },
   {
    "duration": 13,
    "start_time": "2022-01-11T19:06:53.138Z"
   },
   {
    "duration": 52,
    "start_time": "2022-01-11T19:06:53.153Z"
   },
   {
    "duration": 42,
    "start_time": "2022-01-11T19:06:53.207Z"
   },
   {
    "duration": 4,
    "start_time": "2022-01-11T19:06:53.250Z"
   },
   {
    "duration": 35,
    "start_time": "2022-01-11T19:06:53.257Z"
   },
   {
    "duration": 28,
    "start_time": "2022-01-11T19:06:53.294Z"
   },
   {
    "duration": 113,
    "start_time": "2022-01-11T19:06:53.324Z"
   },
   {
    "duration": 49,
    "start_time": "2022-01-11T19:06:55.428Z"
   },
   {
    "duration": 51,
    "start_time": "2022-01-11T19:07:09.548Z"
   },
   {
    "duration": 1574,
    "start_time": "2022-01-11T19:07:20.643Z"
   },
   {
    "duration": 51,
    "start_time": "2022-01-11T19:07:29.817Z"
   },
   {
    "duration": 38,
    "start_time": "2022-01-11T19:10:53.570Z"
   },
   {
    "duration": 66,
    "start_time": "2022-01-11T19:11:05.131Z"
   },
   {
    "duration": 9,
    "start_time": "2022-01-11T19:11:05.198Z"
   },
   {
    "duration": 41,
    "start_time": "2022-01-11T19:11:05.209Z"
   },
   {
    "duration": 25,
    "start_time": "2022-01-11T19:11:05.252Z"
   },
   {
    "duration": 40,
    "start_time": "2022-01-11T19:11:05.279Z"
   },
   {
    "duration": 37,
    "start_time": "2022-01-11T19:11:05.321Z"
   },
   {
    "duration": 3,
    "start_time": "2022-01-11T19:11:05.360Z"
   },
   {
    "duration": 26,
    "start_time": "2022-01-11T19:11:05.365Z"
   },
   {
    "duration": 40,
    "start_time": "2022-01-11T19:11:07.536Z"
   },
   {
    "duration": 91,
    "start_time": "2022-01-11T19:11:10.149Z"
   },
   {
    "duration": 45,
    "start_time": "2022-01-11T19:11:14.145Z"
   },
   {
    "duration": 50,
    "start_time": "2022-01-11T19:11:34.021Z"
   },
   {
    "duration": 59,
    "start_time": "2022-01-11T19:15:37.986Z"
   },
   {
    "duration": 52,
    "start_time": "2022-01-11T19:17:25.690Z"
   },
   {
    "duration": 656,
    "start_time": "2022-01-11T19:18:27.274Z"
   },
   {
    "duration": 672,
    "start_time": "2022-01-11T19:18:44.233Z"
   },
   {
    "duration": 743,
    "start_time": "2022-01-11T19:21:20.121Z"
   },
   {
    "duration": 3323,
    "start_time": "2022-01-11T19:29:54.076Z"
   },
   {
    "duration": 3028,
    "start_time": "2022-01-11T19:30:08.734Z"
   },
   {
    "duration": 3042,
    "start_time": "2022-01-11T19:30:51.385Z"
   },
   {
    "duration": 5329,
    "start_time": "2022-01-11T19:44:54.905Z"
   },
   {
    "duration": 206,
    "start_time": "2022-01-11T19:45:18.091Z"
   },
   {
    "duration": 180,
    "start_time": "2022-01-11T19:45:28.272Z"
   },
   {
    "duration": 173,
    "start_time": "2022-01-11T19:45:46.124Z"
   },
   {
    "duration": 178,
    "start_time": "2022-01-11T19:45:51.865Z"
   },
   {
    "duration": 200,
    "start_time": "2022-01-11T19:45:56.770Z"
   },
   {
    "duration": 388,
    "start_time": "2022-01-11T19:46:07.718Z"
   },
   {
    "duration": 61,
    "start_time": "2022-01-11T19:46:56.438Z"
   },
   {
    "duration": 13,
    "start_time": "2022-01-11T19:47:02.235Z"
   },
   {
    "duration": 12,
    "start_time": "2022-01-11T19:47:24.409Z"
   },
   {
    "duration": 178,
    "start_time": "2022-01-11T19:47:33.687Z"
   },
   {
    "duration": 12,
    "start_time": "2022-01-11T19:47:40.559Z"
   },
   {
    "duration": 11,
    "start_time": "2022-01-11T19:47:50.663Z"
   },
   {
    "duration": 1386,
    "start_time": "2022-01-11T19:48:19.848Z"
   },
   {
    "duration": 10,
    "start_time": "2022-01-11T19:48:42.503Z"
   },
   {
    "duration": 12,
    "start_time": "2022-01-11T19:48:58.804Z"
   },
   {
    "duration": 11,
    "start_time": "2022-01-11T19:49:54.606Z"
   },
   {
    "duration": 185,
    "start_time": "2022-01-11T19:52:27.621Z"
   },
   {
    "duration": 10,
    "start_time": "2022-01-11T19:53:25.033Z"
   },
   {
    "duration": 191,
    "start_time": "2022-01-11T19:53:38.406Z"
   },
   {
    "duration": 12,
    "start_time": "2022-01-11T19:53:47.713Z"
   },
   {
    "duration": 10,
    "start_time": "2022-01-11T19:54:23.744Z"
   },
   {
    "duration": 10,
    "start_time": "2022-01-11T19:58:02.558Z"
   },
   {
    "duration": 9,
    "start_time": "2022-01-11T19:58:14.885Z"
   },
   {
    "duration": 10,
    "start_time": "2022-01-11T19:58:43.757Z"
   },
   {
    "duration": 11,
    "start_time": "2022-01-11T19:58:54.191Z"
   },
   {
    "duration": 12,
    "start_time": "2022-01-11T19:59:00.470Z"
   },
   {
    "duration": 15,
    "start_time": "2022-01-11T20:00:16.303Z"
   },
   {
    "duration": 13,
    "start_time": "2022-01-11T20:01:30.631Z"
   },
   {
    "duration": 5,
    "start_time": "2022-01-11T20:07:52.464Z"
   },
   {
    "duration": 15,
    "start_time": "2022-01-11T20:08:00.867Z"
   },
   {
    "duration": 64,
    "start_time": "2022-01-11T20:16:30.658Z"
   },
   {
    "duration": 61,
    "start_time": "2022-01-11T20:16:58.669Z"
   },
   {
    "duration": 85,
    "start_time": "2022-01-11T20:17:05.928Z"
   },
   {
    "duration": 10,
    "start_time": "2022-01-11T20:18:51.924Z"
   },
   {
    "duration": 72,
    "start_time": "2022-01-11T20:20:29.061Z"
   },
   {
    "duration": 11,
    "start_time": "2022-01-11T20:20:34.718Z"
   },
   {
    "duration": 19,
    "start_time": "2022-01-11T20:20:39.114Z"
   },
   {
    "duration": 7,
    "start_time": "2022-01-11T20:20:52.840Z"
   },
   {
    "duration": 59,
    "start_time": "2022-01-11T20:23:34.602Z"
   },
   {
    "duration": 14,
    "start_time": "2022-01-11T20:23:38.251Z"
   },
   {
    "duration": 14,
    "start_time": "2022-01-11T20:23:46.337Z"
   },
   {
    "duration": 20,
    "start_time": "2022-01-11T20:24:19.465Z"
   },
   {
    "duration": 22,
    "start_time": "2022-01-11T20:24:59.695Z"
   },
   {
    "duration": 28,
    "start_time": "2022-01-11T20:25:49.907Z"
   },
   {
    "duration": 34,
    "start_time": "2022-01-11T20:26:47.313Z"
   },
   {
    "duration": 65,
    "start_time": "2022-01-11T20:27:13.156Z"
   },
   {
    "duration": 57,
    "start_time": "2022-01-11T20:27:27.605Z"
   },
   {
    "duration": 80,
    "start_time": "2022-01-11T20:27:37.603Z"
   },
   {
    "duration": 5031,
    "start_time": "2022-01-11T20:27:40.563Z"
   },
   {
    "duration": 31,
    "start_time": "2022-01-11T20:27:55.301Z"
   },
   {
    "duration": 203,
    "start_time": "2022-01-11T20:28:19.587Z"
   },
   {
    "duration": 29,
    "start_time": "2022-01-11T20:28:30.481Z"
   },
   {
    "duration": 29,
    "start_time": "2022-01-11T20:28:52.331Z"
   },
   {
    "duration": 218,
    "start_time": "2022-01-11T20:29:16.930Z"
   },
   {
    "duration": 187,
    "start_time": "2022-01-11T20:29:28.342Z"
   },
   {
    "duration": 193,
    "start_time": "2022-01-11T20:29:42.557Z"
   },
   {
    "duration": 26,
    "start_time": "2022-01-11T20:29:51.874Z"
   },
   {
    "duration": 30,
    "start_time": "2022-01-11T20:29:56.263Z"
   },
   {
    "duration": 195,
    "start_time": "2022-01-11T20:31:19.190Z"
   },
   {
    "duration": 31,
    "start_time": "2022-01-11T20:32:11.329Z"
   },
   {
    "duration": 31,
    "start_time": "2022-01-11T20:32:16.942Z"
   },
   {
    "duration": 53,
    "start_time": "2022-01-11T20:32:20.189Z"
   },
   {
    "duration": 31,
    "start_time": "2022-01-11T20:32:42.313Z"
   },
   {
    "duration": 29,
    "start_time": "2022-01-11T20:32:54.849Z"
   },
   {
    "duration": 25,
    "start_time": "2022-01-11T20:33:18.452Z"
   },
   {
    "duration": 26,
    "start_time": "2022-01-11T20:35:22.065Z"
   },
   {
    "duration": 26,
    "start_time": "2022-01-11T20:35:32.533Z"
   },
   {
    "duration": 72,
    "start_time": "2022-01-11T20:35:53.020Z"
   },
   {
    "duration": 25,
    "start_time": "2022-01-11T20:35:57.549Z"
   },
   {
    "duration": 26,
    "start_time": "2022-01-11T20:36:02.528Z"
   },
   {
    "duration": 331,
    "start_time": "2022-01-11T20:36:10.848Z"
   },
   {
    "duration": 26,
    "start_time": "2022-01-11T20:36:17.494Z"
   },
   {
    "duration": 29,
    "start_time": "2022-01-11T20:36:29.880Z"
   },
   {
    "duration": 28,
    "start_time": "2022-01-11T20:37:12.750Z"
   },
   {
    "duration": 37,
    "start_time": "2022-01-11T20:37:21.191Z"
   },
   {
    "duration": 6,
    "start_time": "2022-01-11T20:58:32.748Z"
   },
   {
    "duration": 266,
    "start_time": "2022-01-11T20:58:37.415Z"
   },
   {
    "duration": 204,
    "start_time": "2022-01-11T20:59:58.130Z"
   },
   {
    "duration": 206,
    "start_time": "2022-01-11T21:00:04.915Z"
   },
   {
    "duration": 220,
    "start_time": "2022-01-11T21:01:14.994Z"
   },
   {
    "duration": 345,
    "start_time": "2022-01-11T21:01:24.576Z"
   },
   {
    "duration": 390,
    "start_time": "2022-01-11T21:05:11.682Z"
   },
   {
    "duration": 56,
    "start_time": "2022-01-11T21:06:06.618Z"
   },
   {
    "duration": 368,
    "start_time": "2022-01-11T21:06:10.474Z"
   },
   {
    "duration": 322,
    "start_time": "2022-01-11T21:09:13.253Z"
   },
   {
    "duration": 320,
    "start_time": "2022-01-11T21:09:28.386Z"
   },
   {
    "duration": 343,
    "start_time": "2022-01-11T21:13:46.868Z"
   },
   {
    "duration": 2071,
    "start_time": "2022-01-11T21:14:51.132Z"
   },
   {
    "duration": 639,
    "start_time": "2022-01-11T21:15:25.356Z"
   },
   {
    "duration": 736,
    "start_time": "2022-01-11T21:15:29.441Z"
   },
   {
    "duration": 1066,
    "start_time": "2022-01-11T21:15:51.014Z"
   },
   {
    "duration": 696,
    "start_time": "2022-01-11T21:22:37.134Z"
   },
   {
    "duration": 760,
    "start_time": "2022-01-11T21:22:42.888Z"
   },
   {
    "duration": 284,
    "start_time": "2022-01-11T21:23:15.705Z"
   },
   {
    "duration": 594,
    "start_time": "2022-01-11T21:23:30.064Z"
   },
   {
    "duration": 227,
    "start_time": "2022-01-11T21:24:05.106Z"
   },
   {
    "duration": 185,
    "start_time": "2022-01-11T21:24:17.986Z"
   },
   {
    "duration": 352,
    "start_time": "2022-01-11T21:24:31.607Z"
   },
   {
    "duration": 181,
    "start_time": "2022-01-11T21:27:08.192Z"
   },
   {
    "duration": 182,
    "start_time": "2022-01-11T21:27:13.906Z"
   },
   {
    "duration": 59,
    "start_time": "2022-01-11T21:27:55.683Z"
   },
   {
    "duration": 15,
    "start_time": "2022-01-11T21:28:10.176Z"
   },
   {
    "duration": 17,
    "start_time": "2022-01-11T21:28:21.011Z"
   },
   {
    "duration": 17,
    "start_time": "2022-01-11T21:28:29.100Z"
   },
   {
    "duration": 191,
    "start_time": "2022-01-11T21:32:49.861Z"
   },
   {
    "duration": 205,
    "start_time": "2022-01-11T21:32:57.210Z"
   },
   {
    "duration": 1124,
    "start_time": "2022-01-11T21:33:45.300Z"
   },
   {
    "duration": 195,
    "start_time": "2022-01-11T21:34:09.974Z"
   },
   {
    "duration": 184,
    "start_time": "2022-01-11T21:35:36.153Z"
   },
   {
    "duration": 188,
    "start_time": "2022-01-11T21:35:51.452Z"
   },
   {
    "duration": 18,
    "start_time": "2022-01-11T21:42:45.816Z"
   },
   {
    "duration": 17,
    "start_time": "2022-01-11T21:43:19.912Z"
   },
   {
    "duration": 284,
    "start_time": "2022-01-11T21:49:16.400Z"
   },
   {
    "duration": 31,
    "start_time": "2022-01-11T21:49:23.466Z"
   },
   {
    "duration": 24,
    "start_time": "2022-01-11T21:49:48.140Z"
   },
   {
    "duration": 27,
    "start_time": "2022-01-11T21:50:02.036Z"
   },
   {
    "duration": 25,
    "start_time": "2022-01-11T21:52:02.836Z"
   },
   {
    "duration": 98,
    "start_time": "2022-01-11T21:55:52.553Z"
   },
   {
    "duration": 38,
    "start_time": "2022-01-11T21:55:52.654Z"
   },
   {
    "duration": 15,
    "start_time": "2022-01-11T21:55:52.695Z"
   },
   {
    "duration": 23,
    "start_time": "2022-01-11T21:55:52.713Z"
   },
   {
    "duration": 81,
    "start_time": "2022-01-11T21:55:52.739Z"
   },
   {
    "duration": 91,
    "start_time": "2022-01-11T21:55:52.823Z"
   },
   {
    "duration": 4,
    "start_time": "2022-01-11T21:55:52.917Z"
   },
   {
    "duration": 17,
    "start_time": "2022-01-11T21:55:52.925Z"
   },
   {
    "duration": 95,
    "start_time": "2022-01-11T21:55:52.945Z"
   },
   {
    "duration": 149,
    "start_time": "2022-01-11T21:55:53.042Z"
   },
   {
    "duration": 61,
    "start_time": "2022-01-11T21:55:53.194Z"
   },
   {
    "duration": 817,
    "start_time": "2022-01-11T21:55:53.257Z"
   },
   {
    "duration": 3,
    "start_time": "2022-01-11T21:55:54.077Z"
   },
   {
    "duration": 4128,
    "start_time": "2022-01-11T21:55:54.092Z"
   },
   {
    "duration": 389,
    "start_time": "2022-01-11T21:55:58.223Z"
   },
   {
    "duration": 1248,
    "start_time": "2022-01-11T21:55:58.614Z"
   },
   {
    "duration": 41,
    "start_time": "2022-01-11T21:55:59.865Z"
   },
   {
    "duration": 25,
    "start_time": "2022-01-11T21:55:59.908Z"
   },
   {
    "duration": 63,
    "start_time": "2022-01-11T21:55:59.936Z"
   },
   {
    "duration": 216,
    "start_time": "2022-01-11T21:58:47.491Z"
   },
   {
    "duration": 256,
    "start_time": "2022-01-11T21:58:54.486Z"
   },
   {
    "duration": 26,
    "start_time": "2022-01-11T21:59:12.424Z"
   },
   {
    "duration": 37,
    "start_time": "2022-01-11T21:59:23.018Z"
   },
   {
    "duration": 37,
    "start_time": "2022-01-11T21:59:35.537Z"
   },
   {
    "duration": 766,
    "start_time": "2022-01-11T21:59:42.520Z"
   },
   {
    "duration": 46,
    "start_time": "2022-01-11T21:59:46.043Z"
   },
   {
    "duration": 56,
    "start_time": "2022-01-11T21:59:53.622Z"
   },
   {
    "duration": 905,
    "start_time": "2022-01-11T22:00:33.725Z"
   },
   {
    "duration": 217,
    "start_time": "2022-01-11T22:01:21.716Z"
   },
   {
    "duration": 231,
    "start_time": "2022-01-11T22:01:30.101Z"
   },
   {
    "duration": 206,
    "start_time": "2022-01-11T22:01:37.467Z"
   },
   {
    "duration": 22,
    "start_time": "2022-01-11T22:01:53.289Z"
   },
   {
    "duration": 1266,
    "start_time": "2022-01-11T22:02:02.239Z"
   },
   {
    "duration": 269,
    "start_time": "2022-01-11T22:02:09.914Z"
   },
   {
    "duration": 69,
    "start_time": "2022-01-11T22:02:29.430Z"
   },
   {
    "duration": 13,
    "start_time": "2022-01-11T22:02:29.502Z"
   },
   {
    "duration": 9,
    "start_time": "2022-01-11T22:02:29.517Z"
   },
   {
    "duration": 13,
    "start_time": "2022-01-11T22:02:29.528Z"
   },
   {
    "duration": 59,
    "start_time": "2022-01-11T22:02:29.543Z"
   },
   {
    "duration": 41,
    "start_time": "2022-01-11T22:02:29.604Z"
   },
   {
    "duration": 3,
    "start_time": "2022-01-11T22:02:29.647Z"
   },
   {
    "duration": 39,
    "start_time": "2022-01-11T22:02:29.653Z"
   },
   {
    "duration": 42,
    "start_time": "2022-01-11T22:02:29.695Z"
   },
   {
    "duration": 108,
    "start_time": "2022-01-11T22:02:29.738Z"
   },
   {
    "duration": 64,
    "start_time": "2022-01-11T22:02:29.848Z"
   },
   {
    "duration": 749,
    "start_time": "2022-01-11T22:02:29.914Z"
   },
   {
    "duration": 3,
    "start_time": "2022-01-11T22:02:30.665Z"
   },
   {
    "duration": 3084,
    "start_time": "2022-01-11T22:02:30.669Z"
   },
   {
    "duration": 338,
    "start_time": "2022-01-11T22:02:33.755Z"
   },
   {
    "duration": 1242,
    "start_time": "2022-01-11T22:02:34.095Z"
   },
   {
    "duration": 27,
    "start_time": "2022-01-11T22:02:35.339Z"
   },
   {
    "duration": 40,
    "start_time": "2022-01-11T22:02:35.369Z"
   },
   {
    "duration": 36,
    "start_time": "2022-01-11T22:02:35.411Z"
   },
   {
    "duration": 17,
    "start_time": "2022-01-11T22:02:35.449Z"
   },
   {
    "duration": 53,
    "start_time": "2022-01-11T22:02:35.467Z"
   },
   {
    "duration": 31,
    "start_time": "2022-01-11T22:02:35.522Z"
   },
   {
    "duration": 567,
    "start_time": "2022-01-11T22:02:42.386Z"
   },
   {
    "duration": 24,
    "start_time": "2022-01-11T22:03:35.165Z"
   },
   {
    "duration": 71,
    "start_time": "2022-01-11T22:03:59.288Z"
   },
   {
    "duration": 10,
    "start_time": "2022-01-11T22:03:59.361Z"
   },
   {
    "duration": 26,
    "start_time": "2022-01-11T22:03:59.373Z"
   },
   {
    "duration": 13,
    "start_time": "2022-01-11T22:03:59.401Z"
   },
   {
    "duration": 31,
    "start_time": "2022-01-11T22:03:59.416Z"
   },
   {
    "duration": 72,
    "start_time": "2022-01-11T22:03:59.449Z"
   },
   {
    "duration": 4,
    "start_time": "2022-01-11T22:03:59.523Z"
   },
   {
    "duration": 13,
    "start_time": "2022-01-11T22:03:59.530Z"
   },
   {
    "duration": 60,
    "start_time": "2022-01-11T22:03:59.545Z"
   },
   {
    "duration": 109,
    "start_time": "2022-01-11T22:03:59.607Z"
   },
   {
    "duration": 72,
    "start_time": "2022-01-11T22:03:59.719Z"
   },
   {
    "duration": 748,
    "start_time": "2022-01-11T22:03:59.793Z"
   },
   {
    "duration": 5,
    "start_time": "2022-01-11T22:04:00.545Z"
   },
   {
    "duration": 3375,
    "start_time": "2022-01-11T22:04:00.553Z"
   },
   {
    "duration": 344,
    "start_time": "2022-01-11T22:04:03.929Z"
   },
   {
    "duration": 1078,
    "start_time": "2022-01-11T22:04:04.275Z"
   },
   {
    "duration": 250,
    "start_time": "2022-01-11T22:04:05.356Z"
   },
   {
    "duration": 27,
    "start_time": "2022-01-11T22:04:05.609Z"
   },
   {
    "duration": 20,
    "start_time": "2022-01-11T22:04:05.638Z"
   },
   {
    "duration": 40,
    "start_time": "2022-01-11T22:04:05.660Z"
   },
   {
    "duration": 31,
    "start_time": "2022-01-11T22:04:05.702Z"
   },
   {
    "duration": 30,
    "start_time": "2022-01-11T22:04:05.735Z"
   },
   {
    "duration": 26,
    "start_time": "2022-01-11T22:04:14.147Z"
   },
   {
    "duration": 29,
    "start_time": "2022-01-11T22:04:17.845Z"
   },
   {
    "duration": 70,
    "start_time": "2022-01-11T22:04:57.728Z"
   },
   {
    "duration": 10,
    "start_time": "2022-01-11T22:04:57.799Z"
   },
   {
    "duration": 10,
    "start_time": "2022-01-11T22:04:57.812Z"
   },
   {
    "duration": 14,
    "start_time": "2022-01-11T22:04:57.824Z"
   },
   {
    "duration": 60,
    "start_time": "2022-01-11T22:04:57.840Z"
   },
   {
    "duration": 42,
    "start_time": "2022-01-11T22:04:57.903Z"
   },
   {
    "duration": 4,
    "start_time": "2022-01-11T22:04:57.948Z"
   },
   {
    "duration": 10,
    "start_time": "2022-01-11T22:04:57.955Z"
   },
   {
    "duration": 41,
    "start_time": "2022-01-11T22:04:57.992Z"
   },
   {
    "duration": 124,
    "start_time": "2022-01-11T22:04:58.035Z"
   },
   {
    "duration": 82,
    "start_time": "2022-01-11T22:04:58.162Z"
   },
   {
    "duration": 716,
    "start_time": "2022-01-11T22:04:58.246Z"
   },
   {
    "duration": 3,
    "start_time": "2022-01-11T22:04:58.965Z"
   },
   {
    "duration": 3425,
    "start_time": "2022-01-11T22:04:58.970Z"
   },
   {
    "duration": 361,
    "start_time": "2022-01-11T22:05:02.398Z"
   },
   {
    "duration": 1117,
    "start_time": "2022-01-11T22:05:02.762Z"
   },
   {
    "duration": 31,
    "start_time": "2022-01-11T22:05:03.881Z"
   },
   {
    "duration": 25,
    "start_time": "2022-01-11T22:05:03.914Z"
   },
   {
    "duration": 19,
    "start_time": "2022-01-11T22:05:03.941Z"
   },
   {
    "duration": 44,
    "start_time": "2022-01-11T22:05:03.962Z"
   },
   {
    "duration": 31,
    "start_time": "2022-01-11T22:05:04.008Z"
   },
   {
    "duration": 61,
    "start_time": "2022-01-11T22:05:04.041Z"
   },
   {
    "duration": 32,
    "start_time": "2022-01-11T22:05:04.105Z"
   },
   {
    "duration": 31,
    "start_time": "2022-01-11T22:05:17.611Z"
   },
   {
    "duration": 35,
    "start_time": "2022-01-11T22:06:13.625Z"
   },
   {
    "duration": 39,
    "start_time": "2022-01-11T22:06:17.436Z"
   },
   {
    "duration": 41,
    "start_time": "2022-01-11T22:06:21.735Z"
   },
   {
    "duration": 40,
    "start_time": "2022-01-11T22:06:29.236Z"
   },
   {
    "duration": 778,
    "start_time": "2022-01-11T22:06:42.798Z"
   },
   {
    "duration": 70,
    "start_time": "2022-01-11T22:07:05.508Z"
   },
   {
    "duration": 719,
    "start_time": "2022-01-11T22:07:18.745Z"
   },
   {
    "duration": 32,
    "start_time": "2022-01-11T22:07:28.637Z"
   },
   {
    "duration": 803,
    "start_time": "2022-01-11T22:07:35.085Z"
   },
   {
    "duration": 39,
    "start_time": "2022-01-11T22:07:43.564Z"
   },
   {
    "duration": 726,
    "start_time": "2022-01-11T22:07:51.005Z"
   },
   {
    "duration": 37,
    "start_time": "2022-01-11T22:07:59.145Z"
   },
   {
    "duration": 96,
    "start_time": "2022-01-11T22:08:29.633Z"
   },
   {
    "duration": 15,
    "start_time": "2022-01-11T22:08:29.732Z"
   },
   {
    "duration": 11,
    "start_time": "2022-01-11T22:08:29.750Z"
   },
   {
    "duration": 39,
    "start_time": "2022-01-11T22:08:29.764Z"
   },
   {
    "duration": 32,
    "start_time": "2022-01-11T22:08:29.806Z"
   },
   {
    "duration": 67,
    "start_time": "2022-01-11T22:08:29.840Z"
   },
   {
    "duration": 5,
    "start_time": "2022-01-11T22:08:29.909Z"
   },
   {
    "duration": 14,
    "start_time": "2022-01-11T22:08:29.917Z"
   },
   {
    "duration": 71,
    "start_time": "2022-01-11T22:08:29.933Z"
   },
   {
    "duration": 109,
    "start_time": "2022-01-11T22:08:30.006Z"
   },
   {
    "duration": 74,
    "start_time": "2022-01-11T22:08:30.117Z"
   },
   {
    "duration": 744,
    "start_time": "2022-01-11T22:08:30.194Z"
   },
   {
    "duration": 4,
    "start_time": "2022-01-11T22:08:30.941Z"
   },
   {
    "duration": 3980,
    "start_time": "2022-01-11T22:08:30.947Z"
   },
   {
    "duration": 370,
    "start_time": "2022-01-11T22:08:34.929Z"
   },
   {
    "duration": 1148,
    "start_time": "2022-01-11T22:08:35.301Z"
   },
   {
    "duration": 41,
    "start_time": "2022-01-11T22:08:36.451Z"
   },
   {
    "duration": 25,
    "start_time": "2022-01-11T22:08:36.494Z"
   },
   {
    "duration": 39,
    "start_time": "2022-01-11T22:08:36.521Z"
   },
   {
    "duration": 39,
    "start_time": "2022-01-11T22:08:36.562Z"
   },
   {
    "duration": 32,
    "start_time": "2022-01-11T22:08:36.604Z"
   },
   {
    "duration": 68,
    "start_time": "2022-01-11T22:08:36.639Z"
   },
   {
    "duration": 32,
    "start_time": "2022-01-11T22:08:36.711Z"
   },
   {
    "duration": 30,
    "start_time": "2022-01-11T22:08:48.860Z"
   },
   {
    "duration": 28,
    "start_time": "2022-01-11T22:08:54.047Z"
   },
   {
    "duration": 29,
    "start_time": "2022-01-11T22:09:28.407Z"
   },
   {
    "duration": 40,
    "start_time": "2022-01-11T22:09:37.392Z"
   },
   {
    "duration": 32,
    "start_time": "2022-01-11T22:09:44.317Z"
   },
   {
    "duration": 33,
    "start_time": "2022-01-11T22:09:48.618Z"
   },
   {
    "duration": 221,
    "start_time": "2022-01-11T22:11:34.361Z"
   },
   {
    "duration": 207,
    "start_time": "2022-01-11T22:11:48.974Z"
   },
   {
    "duration": 221,
    "start_time": "2022-01-11T22:12:03.178Z"
   },
   {
    "duration": 30,
    "start_time": "2022-01-11T22:13:48.553Z"
   },
   {
    "duration": 61,
    "start_time": "2022-01-11T22:14:34.884Z"
   },
   {
    "duration": 68,
    "start_time": "2022-01-11T22:14:46.991Z"
   },
   {
    "duration": 30,
    "start_time": "2022-01-11T22:14:57.179Z"
   },
   {
    "duration": 59,
    "start_time": "2022-01-11T22:15:19.619Z"
   },
   {
    "duration": 89,
    "start_time": "2022-01-11T22:15:27.421Z"
   },
   {
    "duration": 29,
    "start_time": "2022-01-11T22:16:08.191Z"
   },
   {
    "duration": 28,
    "start_time": "2022-01-11T22:16:15.984Z"
   },
   {
    "duration": 718,
    "start_time": "2022-01-11T22:16:30.128Z"
   },
   {
    "duration": 31,
    "start_time": "2022-01-11T22:17:10.489Z"
   },
   {
    "duration": 25,
    "start_time": "2022-01-11T22:17:17.609Z"
   },
   {
    "duration": 202,
    "start_time": "2022-01-11T22:18:19.941Z"
   },
   {
    "duration": 905,
    "start_time": "2022-01-11T22:20:23.093Z"
   },
   {
    "duration": 32,
    "start_time": "2022-01-11T22:20:44.423Z"
   },
   {
    "duration": 200,
    "start_time": "2022-01-11T22:20:51.523Z"
   },
   {
    "duration": 31,
    "start_time": "2022-01-11T22:20:55.889Z"
   },
   {
    "duration": 706,
    "start_time": "2022-01-11T22:21:03.748Z"
   },
   {
    "duration": 936,
    "start_time": "2022-01-11T22:21:14.624Z"
   },
   {
    "duration": 32,
    "start_time": "2022-01-11T22:21:25.627Z"
   },
   {
    "duration": 30,
    "start_time": "2022-01-11T22:21:30.906Z"
   },
   {
    "duration": 265,
    "start_time": "2022-01-11T22:21:34.353Z"
   },
   {
    "duration": 33,
    "start_time": "2022-01-11T22:21:37.740Z"
   },
   {
    "duration": 29,
    "start_time": "2022-01-11T22:22:09.225Z"
   },
   {
    "duration": 29,
    "start_time": "2022-01-11T22:22:13.546Z"
   },
   {
    "duration": 28,
    "start_time": "2022-01-11T22:22:23.512Z"
   },
   {
    "duration": 33,
    "start_time": "2022-01-11T22:26:16.775Z"
   },
   {
    "duration": 34,
    "start_time": "2022-01-11T22:26:33.394Z"
   },
   {
    "duration": 720,
    "start_time": "2022-01-11T22:26:37.947Z"
   },
   {
    "duration": 30,
    "start_time": "2022-01-11T22:26:43.217Z"
   },
   {
    "duration": 28,
    "start_time": "2022-01-11T22:26:47.758Z"
   },
   {
    "duration": 29,
    "start_time": "2022-01-11T22:26:56.183Z"
   },
   {
    "duration": 31,
    "start_time": "2022-01-11T22:32:37.262Z"
   },
   {
    "duration": 202,
    "start_time": "2022-01-11T22:32:43.488Z"
   },
   {
    "duration": 28,
    "start_time": "2022-01-11T22:32:48.549Z"
   },
   {
    "duration": 62,
    "start_time": "2022-01-11T22:33:48.076Z"
   },
   {
    "duration": 58,
    "start_time": "2022-01-11T22:33:55.034Z"
   },
   {
    "duration": 1015,
    "start_time": "2022-01-11T22:34:00.707Z"
   },
   {
    "duration": 56,
    "start_time": "2022-01-11T22:34:11.864Z"
   },
   {
    "duration": 1237,
    "start_time": "2022-01-11T22:34:16.121Z"
   },
   {
    "duration": 701,
    "start_time": "2022-01-11T22:34:26.136Z"
   },
   {
    "duration": 30,
    "start_time": "2022-01-11T22:34:30.636Z"
   },
   {
    "duration": 37,
    "start_time": "2022-01-11T22:34:54.089Z"
   },
   {
    "duration": 29,
    "start_time": "2022-01-11T22:35:00.759Z"
   },
   {
    "duration": 201,
    "start_time": "2022-01-11T22:35:27.952Z"
   },
   {
    "duration": 29,
    "start_time": "2022-01-11T22:35:32.956Z"
   },
   {
    "duration": 198,
    "start_time": "2022-01-11T22:38:26.319Z"
   },
   {
    "duration": 31,
    "start_time": "2022-01-11T22:38:40.494Z"
   },
   {
    "duration": 61,
    "start_time": "2022-01-11T22:39:56.909Z"
   },
   {
    "duration": 34,
    "start_time": "2022-01-11T22:40:00.509Z"
   },
   {
    "duration": 31,
    "start_time": "2022-01-11T22:40:42.157Z"
   },
   {
    "duration": 29,
    "start_time": "2022-01-11T22:40:58.567Z"
   },
   {
    "duration": 70,
    "start_time": "2022-01-11T22:42:32.581Z"
   },
   {
    "duration": 9,
    "start_time": "2022-01-11T22:42:32.653Z"
   },
   {
    "duration": 30,
    "start_time": "2022-01-11T22:42:32.664Z"
   },
   {
    "duration": 14,
    "start_time": "2022-01-11T22:42:32.697Z"
   },
   {
    "duration": 30,
    "start_time": "2022-01-11T22:42:32.713Z"
   },
   {
    "duration": 74,
    "start_time": "2022-01-11T22:42:32.745Z"
   },
   {
    "duration": 3,
    "start_time": "2022-01-11T22:42:32.821Z"
   },
   {
    "duration": 11,
    "start_time": "2022-01-11T22:42:32.827Z"
   },
   {
    "duration": 66,
    "start_time": "2022-01-11T22:42:32.840Z"
   },
   {
    "duration": 98,
    "start_time": "2022-01-11T22:42:32.908Z"
   },
   {
    "duration": 52,
    "start_time": "2022-01-11T22:42:33.008Z"
   },
   {
    "duration": 786,
    "start_time": "2022-01-11T22:42:33.061Z"
   },
   {
    "duration": 4,
    "start_time": "2022-01-11T22:42:33.849Z"
   },
   {
    "duration": 3403,
    "start_time": "2022-01-11T22:42:33.855Z"
   },
   {
    "duration": 340,
    "start_time": "2022-01-11T22:42:37.260Z"
   },
   {
    "duration": 1335,
    "start_time": "2022-01-11T22:42:37.602Z"
   },
   {
    "duration": 25,
    "start_time": "2022-01-11T22:42:38.939Z"
   },
   {
    "duration": 37,
    "start_time": "2022-01-11T22:42:38.966Z"
   },
   {
    "duration": 18,
    "start_time": "2022-01-11T22:42:39.004Z"
   },
   {
    "duration": 17,
    "start_time": "2022-01-11T22:42:39.024Z"
   },
   {
    "duration": 50,
    "start_time": "2022-01-11T22:42:39.042Z"
   },
   {
    "duration": 30,
    "start_time": "2022-01-11T22:42:39.094Z"
   },
   {
    "duration": 27,
    "start_time": "2022-01-11T22:42:39.126Z"
   },
   {
    "duration": 31,
    "start_time": "2022-01-11T22:45:04.690Z"
   },
   {
    "duration": 2879,
    "start_time": "2022-01-11T22:45:55.682Z"
   },
   {
    "duration": 2982,
    "start_time": "2022-01-11T22:47:18.029Z"
   },
   {
    "duration": 2748,
    "start_time": "2022-01-11T22:47:29.901Z"
   },
   {
    "duration": 68,
    "start_time": "2022-01-11T22:47:54.430Z"
   },
   {
    "duration": 10,
    "start_time": "2022-01-11T22:47:54.500Z"
   },
   {
    "duration": 10,
    "start_time": "2022-01-11T22:47:54.512Z"
   },
   {
    "duration": 13,
    "start_time": "2022-01-11T22:47:54.524Z"
   },
   {
    "duration": 69,
    "start_time": "2022-01-11T22:47:54.539Z"
   },
   {
    "duration": 41,
    "start_time": "2022-01-11T22:47:54.610Z"
   },
   {
    "duration": 4,
    "start_time": "2022-01-11T22:47:54.653Z"
   },
   {
    "duration": 37,
    "start_time": "2022-01-11T22:47:54.659Z"
   },
   {
    "duration": 41,
    "start_time": "2022-01-11T22:47:54.698Z"
   },
   {
    "duration": 105,
    "start_time": "2022-01-11T22:47:54.741Z"
   },
   {
    "duration": 80,
    "start_time": "2022-01-11T22:47:54.849Z"
   },
   {
    "duration": 791,
    "start_time": "2022-01-11T22:47:54.931Z"
   },
   {
    "duration": 3,
    "start_time": "2022-01-11T22:47:55.724Z"
   },
   {
    "duration": 2768,
    "start_time": "2022-01-11T22:47:55.729Z"
   },
   {
    "duration": 318,
    "start_time": "2022-01-11T22:47:58.499Z"
   },
   {
    "duration": 1021,
    "start_time": "2022-01-11T22:47:58.819Z"
   },
   {
    "duration": 26,
    "start_time": "2022-01-11T22:47:59.842Z"
   },
   {
    "duration": 35,
    "start_time": "2022-01-11T22:47:59.869Z"
   },
   {
    "duration": 18,
    "start_time": "2022-01-11T22:47:59.907Z"
   },
   {
    "duration": 15,
    "start_time": "2022-01-11T22:47:59.927Z"
   },
   {
    "duration": 54,
    "start_time": "2022-01-11T22:47:59.943Z"
   },
   {
    "duration": 30,
    "start_time": "2022-01-11T22:47:59.999Z"
   },
   {
    "duration": 30,
    "start_time": "2022-01-11T22:48:00.031Z"
   },
   {
    "duration": 755,
    "start_time": "2022-01-11T22:48:00.063Z"
   },
   {
    "duration": 27,
    "start_time": "2022-01-11T22:48:15.979Z"
   },
   {
    "duration": 28,
    "start_time": "2022-01-11T22:50:20.853Z"
   },
   {
    "duration": 28,
    "start_time": "2022-01-11T22:50:42.199Z"
   },
   {
    "duration": 42,
    "start_time": "2022-01-11T22:50:59.699Z"
   },
   {
    "duration": 73,
    "start_time": "2022-01-11T22:52:04.587Z"
   },
   {
    "duration": 12,
    "start_time": "2022-01-11T22:52:04.662Z"
   },
   {
    "duration": 13,
    "start_time": "2022-01-11T22:52:04.692Z"
   },
   {
    "duration": 31,
    "start_time": "2022-01-11T22:52:04.707Z"
   },
   {
    "duration": 36,
    "start_time": "2022-01-11T22:52:04.740Z"
   },
   {
    "duration": 52,
    "start_time": "2022-01-11T22:52:04.777Z"
   },
   {
    "duration": 4,
    "start_time": "2022-01-11T22:52:04.832Z"
   },
   {
    "duration": 20,
    "start_time": "2022-01-11T22:52:04.840Z"
   },
   {
    "duration": 72,
    "start_time": "2022-01-11T22:52:04.862Z"
   },
   {
    "duration": 109,
    "start_time": "2022-01-11T22:52:04.937Z"
   },
   {
    "duration": 68,
    "start_time": "2022-01-11T22:52:05.049Z"
   },
   {
    "duration": 795,
    "start_time": "2022-01-11T22:52:05.119Z"
   },
   {
    "duration": 3,
    "start_time": "2022-01-11T22:52:05.917Z"
   },
   {
    "duration": 3227,
    "start_time": "2022-01-11T22:52:05.922Z"
   },
   {
    "duration": 353,
    "start_time": "2022-01-11T22:52:09.152Z"
   },
   {
    "duration": 1380,
    "start_time": "2022-01-11T22:52:09.507Z"
   },
   {
    "duration": 28,
    "start_time": "2022-01-11T22:52:10.892Z"
   },
   {
    "duration": 25,
    "start_time": "2022-01-11T22:52:10.922Z"
   },
   {
    "duration": 43,
    "start_time": "2022-01-11T22:52:10.949Z"
   },
   {
    "duration": 15,
    "start_time": "2022-01-11T22:52:10.994Z"
   },
   {
    "duration": 31,
    "start_time": "2022-01-11T22:52:11.011Z"
   },
   {
    "duration": 53,
    "start_time": "2022-01-11T22:52:11.043Z"
   },
   {
    "duration": 27,
    "start_time": "2022-01-11T22:52:11.100Z"
   },
   {
    "duration": 26,
    "start_time": "2022-01-11T22:52:11.129Z"
   },
   {
    "duration": 60,
    "start_time": "2022-01-11T22:59:29.367Z"
   },
   {
    "duration": 7057,
    "start_time": "2022-01-11T22:59:32.479Z"
   },
   {
    "duration": 515,
    "start_time": "2022-01-11T23:00:34.779Z"
   },
   {
    "duration": 180,
    "start_time": "2022-01-11T23:03:11.520Z"
   },
   {
    "duration": 461,
    "start_time": "2022-01-11T23:03:24.633Z"
   },
   {
    "duration": 454,
    "start_time": "2022-01-11T23:03:30.272Z"
   },
   {
    "duration": 780,
    "start_time": "2022-01-11T23:03:40.054Z"
   },
   {
    "duration": 86,
    "start_time": "2022-01-11T23:04:03.969Z"
   },
   {
    "duration": 11,
    "start_time": "2022-01-11T23:04:04.057Z"
   },
   {
    "duration": 32,
    "start_time": "2022-01-11T23:04:04.070Z"
   },
   {
    "duration": 14,
    "start_time": "2022-01-11T23:04:04.104Z"
   },
   {
    "duration": 31,
    "start_time": "2022-01-11T23:04:04.120Z"
   },
   {
    "duration": 75,
    "start_time": "2022-01-11T23:04:04.153Z"
   },
   {
    "duration": 796,
    "start_time": "2022-01-11T23:04:04.231Z"
   },
   {
    "duration": 3,
    "start_time": "2022-01-11T23:04:05.030Z"
   },
   {
    "duration": 12,
    "start_time": "2022-01-11T23:04:05.035Z"
   },
   {
    "duration": 65,
    "start_time": "2022-01-11T23:04:05.049Z"
   },
   {
    "duration": 101,
    "start_time": "2022-01-11T23:04:05.116Z"
   },
   {
    "duration": 52,
    "start_time": "2022-01-11T23:04:05.219Z"
   },
   {
    "duration": 759,
    "start_time": "2022-01-11T23:04:05.273Z"
   },
   {
    "duration": 3,
    "start_time": "2022-01-11T23:04:06.034Z"
   },
   {
    "duration": 3212,
    "start_time": "2022-01-11T23:04:06.039Z"
   },
   {
    "duration": 343,
    "start_time": "2022-01-11T23:04:09.253Z"
   },
   {
    "duration": 924,
    "start_time": "2022-01-11T23:04:09.598Z"
   },
   {
    "duration": 30,
    "start_time": "2022-01-11T23:04:10.523Z"
   },
   {
    "duration": 24,
    "start_time": "2022-01-11T23:04:10.555Z"
   },
   {
    "duration": 28,
    "start_time": "2022-01-11T23:04:10.581Z"
   },
   {
    "duration": 16,
    "start_time": "2022-01-11T23:04:10.611Z"
   },
   {
    "duration": 30,
    "start_time": "2022-01-11T23:04:10.629Z"
   },
   {
    "duration": 57,
    "start_time": "2022-01-11T23:04:10.663Z"
   },
   {
    "duration": 27,
    "start_time": "2022-01-11T23:04:10.722Z"
   },
   {
    "duration": 47,
    "start_time": "2022-01-11T23:04:10.751Z"
   },
   {
    "duration": 67,
    "start_time": "2022-01-11T23:04:23.379Z"
   },
   {
    "duration": 9,
    "start_time": "2022-01-11T23:04:23.448Z"
   },
   {
    "duration": 23,
    "start_time": "2022-01-11T23:04:23.459Z"
   },
   {
    "duration": 19,
    "start_time": "2022-01-11T23:04:23.484Z"
   },
   {
    "duration": 46,
    "start_time": "2022-01-11T23:04:23.504Z"
   },
   {
    "duration": 40,
    "start_time": "2022-01-11T23:04:23.552Z"
   },
   {
    "duration": 866,
    "start_time": "2022-01-11T23:04:27.256Z"
   },
   {
    "duration": 729,
    "start_time": "2022-01-11T23:17:41.769Z"
   },
   {
    "duration": 890,
    "start_time": "2022-01-11T23:27:02.803Z"
   },
   {
    "duration": 740,
    "start_time": "2022-01-11T23:27:53.682Z"
   },
   {
    "duration": 801,
    "start_time": "2022-01-11T23:28:02.863Z"
   },
   {
    "duration": 69,
    "start_time": "2022-01-11T23:29:03.902Z"
   },
   {
    "duration": 9,
    "start_time": "2022-01-11T23:29:03.973Z"
   },
   {
    "duration": 9,
    "start_time": "2022-01-11T23:29:03.992Z"
   },
   {
    "duration": 13,
    "start_time": "2022-01-11T23:29:04.003Z"
   },
   {
    "duration": 30,
    "start_time": "2022-01-11T23:29:04.017Z"
   },
   {
    "duration": 69,
    "start_time": "2022-01-11T23:29:04.049Z"
   },
   {
    "duration": 812,
    "start_time": "2022-01-11T23:29:04.120Z"
   },
   {
    "duration": 4,
    "start_time": "2022-01-11T23:29:04.935Z"
   },
   {
    "duration": 13,
    "start_time": "2022-01-11T23:29:04.941Z"
   },
   {
    "duration": 65,
    "start_time": "2022-01-11T23:29:04.955Z"
   },
   {
    "duration": 96,
    "start_time": "2022-01-11T23:29:05.022Z"
   },
   {
    "duration": 51,
    "start_time": "2022-01-11T23:29:05.119Z"
   },
   {
    "duration": 735,
    "start_time": "2022-01-11T23:29:05.192Z"
   },
   {
    "duration": 3,
    "start_time": "2022-01-11T23:29:05.929Z"
   },
   {
    "duration": 3355,
    "start_time": "2022-01-11T23:29:08.917Z"
   },
   {
    "duration": 5664,
    "start_time": "2022-01-11T23:29:24.984Z"
   },
   {
    "duration": 26,
    "start_time": "2022-01-11T23:30:55.372Z"
   },
   {
    "duration": 205,
    "start_time": "2022-01-11T23:32:16.144Z"
   },
   {
    "duration": 75,
    "start_time": "2022-01-11T23:32:19.863Z"
   },
   {
    "duration": 10,
    "start_time": "2022-01-11T23:32:19.939Z"
   },
   {
    "duration": 9,
    "start_time": "2022-01-11T23:32:19.951Z"
   },
   {
    "duration": 41,
    "start_time": "2022-01-11T23:32:19.961Z"
   },
   {
    "duration": 41,
    "start_time": "2022-01-11T23:32:20.004Z"
   },
   {
    "duration": 58,
    "start_time": "2022-01-11T23:32:20.047Z"
   },
   {
    "duration": 846,
    "start_time": "2022-01-11T23:32:20.107Z"
   },
   {
    "duration": 4,
    "start_time": "2022-01-11T23:32:20.955Z"
   },
   {
    "duration": 16,
    "start_time": "2022-01-11T23:32:20.961Z"
   },
   {
    "duration": 52,
    "start_time": "2022-01-11T23:32:20.979Z"
   },
   {
    "duration": 105,
    "start_time": "2022-01-11T23:32:21.032Z"
   },
   {
    "duration": 61,
    "start_time": "2022-01-11T23:32:21.139Z"
   },
   {
    "duration": 792,
    "start_time": "2022-01-11T23:32:21.202Z"
   },
   {
    "duration": 3,
    "start_time": "2022-01-11T23:32:21.997Z"
   },
   {
    "duration": 6313,
    "start_time": "2022-01-11T23:32:22.003Z"
   },
   {
    "duration": 384,
    "start_time": "2022-01-11T23:32:28.319Z"
   },
   {
    "duration": 1094,
    "start_time": "2022-01-11T23:32:28.706Z"
   },
   {
    "duration": 27,
    "start_time": "2022-01-11T23:32:29.802Z"
   },
   {
    "duration": 24,
    "start_time": "2022-01-11T23:32:29.831Z"
   },
   {
    "duration": 41,
    "start_time": "2022-01-11T23:32:29.857Z"
   },
   {
    "duration": 19,
    "start_time": "2022-01-11T23:32:29.900Z"
   },
   {
    "duration": 32,
    "start_time": "2022-01-11T23:32:29.921Z"
   },
   {
    "duration": 49,
    "start_time": "2022-01-11T23:32:29.956Z"
   },
   {
    "duration": 31,
    "start_time": "2022-01-11T23:32:30.007Z"
   },
   {
    "duration": 836,
    "start_time": "2022-01-11T23:32:30.040Z"
   },
   {
    "duration": 32,
    "start_time": "2022-01-11T23:32:36.315Z"
   },
   {
    "duration": 64,
    "start_time": "2022-01-11T23:33:27.209Z"
   },
   {
    "duration": 1695,
    "start_time": "2022-01-11T23:33:34.755Z"
   },
   {
    "duration": 2002,
    "start_time": "2022-01-11T23:33:42.535Z"
   },
   {
    "duration": 35,
    "start_time": "2022-01-11T23:33:51.451Z"
   },
   {
    "duration": 47,
    "start_time": "2022-01-11T23:34:41.534Z"
   },
   {
    "duration": 921,
    "start_time": "2022-01-11T23:35:06.843Z"
   },
   {
    "duration": 38,
    "start_time": "2022-01-11T23:35:12.426Z"
   },
   {
    "duration": 223,
    "start_time": "2022-01-11T23:35:30.685Z"
   },
   {
    "duration": 48,
    "start_time": "2022-01-11T23:36:14.901Z"
   },
   {
    "duration": 67,
    "start_time": "2022-01-11T23:37:56.418Z"
   },
   {
    "duration": 10,
    "start_time": "2022-01-11T23:37:56.487Z"
   },
   {
    "duration": 9,
    "start_time": "2022-01-11T23:37:56.499Z"
   },
   {
    "duration": 14,
    "start_time": "2022-01-11T23:37:56.510Z"
   },
   {
    "duration": 28,
    "start_time": "2022-01-11T23:37:56.526Z"
   },
   {
    "duration": 69,
    "start_time": "2022-01-11T23:37:56.556Z"
   },
   {
    "duration": 889,
    "start_time": "2022-01-11T23:37:56.627Z"
   },
   {
    "duration": 4,
    "start_time": "2022-01-11T23:37:57.519Z"
   },
   {
    "duration": 13,
    "start_time": "2022-01-11T23:37:57.525Z"
   },
   {
    "duration": 64,
    "start_time": "2022-01-11T23:37:57.540Z"
   },
   {
    "duration": 103,
    "start_time": "2022-01-11T23:37:57.606Z"
   },
   {
    "duration": 53,
    "start_time": "2022-01-11T23:37:57.711Z"
   },
   {
    "duration": 770,
    "start_time": "2022-01-11T23:37:57.765Z"
   },
   {
    "duration": 3,
    "start_time": "2022-01-11T23:37:58.537Z"
   },
   {
    "duration": 6382,
    "start_time": "2022-01-11T23:37:58.542Z"
   },
   {
    "duration": 339,
    "start_time": "2022-01-11T23:38:04.926Z"
   },
   {
    "duration": 1053,
    "start_time": "2022-01-11T23:38:05.267Z"
   },
   {
    "duration": 27,
    "start_time": "2022-01-11T23:38:06.322Z"
   },
   {
    "duration": 43,
    "start_time": "2022-01-11T23:38:06.350Z"
   },
   {
    "duration": 19,
    "start_time": "2022-01-11T23:38:06.395Z"
   },
   {
    "duration": 16,
    "start_time": "2022-01-11T23:38:06.415Z"
   },
   {
    "duration": 30,
    "start_time": "2022-01-11T23:38:06.432Z"
   },
   {
    "duration": 53,
    "start_time": "2022-01-11T23:38:06.465Z"
   },
   {
    "duration": 29,
    "start_time": "2022-01-11T23:38:06.519Z"
   },
   {
    "duration": 63,
    "start_time": "2022-01-11T23:38:06.550Z"
   },
   {
    "duration": 68,
    "start_time": "2022-01-11T23:43:16.951Z"
   },
   {
    "duration": 9,
    "start_time": "2022-01-11T23:43:17.021Z"
   },
   {
    "duration": 9,
    "start_time": "2022-01-11T23:43:17.032Z"
   },
   {
    "duration": 13,
    "start_time": "2022-01-11T23:43:17.043Z"
   },
   {
    "duration": 60,
    "start_time": "2022-01-11T23:43:17.057Z"
   },
   {
    "duration": 38,
    "start_time": "2022-01-11T23:43:17.119Z"
   },
   {
    "duration": 852,
    "start_time": "2022-01-11T23:43:17.159Z"
   },
   {
    "duration": 4,
    "start_time": "2022-01-11T23:43:18.013Z"
   },
   {
    "duration": 12,
    "start_time": "2022-01-11T23:43:18.018Z"
   },
   {
    "duration": 60,
    "start_time": "2022-01-11T23:43:18.031Z"
   },
   {
    "duration": 85,
    "start_time": "2022-01-11T23:43:18.093Z"
   },
   {
    "duration": 57,
    "start_time": "2022-01-11T23:43:18.180Z"
   },
   {
    "duration": 762,
    "start_time": "2022-01-11T23:43:18.239Z"
   },
   {
    "duration": 3,
    "start_time": "2022-01-11T23:43:19.002Z"
   },
   {
    "duration": 5684,
    "start_time": "2022-01-11T23:43:19.007Z"
   },
   {
    "duration": 333,
    "start_time": "2022-01-11T23:43:24.693Z"
   },
   {
    "duration": 1058,
    "start_time": "2022-01-11T23:43:25.028Z"
   },
   {
    "duration": 432,
    "start_time": "2022-01-11T23:43:26.088Z"
   },
   {
    "duration": 23,
    "start_time": "2022-01-11T23:43:26.522Z"
   },
   {
    "duration": 22,
    "start_time": "2022-01-11T23:43:26.546Z"
   },
   {
    "duration": 32,
    "start_time": "2022-01-11T23:43:26.569Z"
   },
   {
    "duration": 30,
    "start_time": "2022-01-11T23:43:26.602Z"
   },
   {
    "duration": 28,
    "start_time": "2022-01-11T23:43:26.635Z"
   },
   {
    "duration": 49,
    "start_time": "2022-01-11T23:43:26.665Z"
   },
   {
    "duration": 37,
    "start_time": "2022-01-11T23:43:26.715Z"
   },
   {
    "duration": 74,
    "start_time": "2022-01-11T23:47:37.664Z"
   },
   {
    "duration": 11,
    "start_time": "2022-01-11T23:47:37.741Z"
   },
   {
    "duration": 11,
    "start_time": "2022-01-11T23:47:37.754Z"
   },
   {
    "duration": 17,
    "start_time": "2022-01-11T23:47:37.792Z"
   },
   {
    "duration": 30,
    "start_time": "2022-01-11T23:47:37.811Z"
   },
   {
    "duration": 73,
    "start_time": "2022-01-11T23:47:37.843Z"
   },
   {
    "duration": 812,
    "start_time": "2022-01-11T23:47:37.919Z"
   },
   {
    "duration": 4,
    "start_time": "2022-01-11T23:47:38.734Z"
   },
   {
    "duration": 14,
    "start_time": "2022-01-11T23:47:38.739Z"
   },
   {
    "duration": 59,
    "start_time": "2022-01-11T23:47:38.755Z"
   },
   {
    "duration": 89,
    "start_time": "2022-01-11T23:47:38.816Z"
   },
   {
    "duration": 50,
    "start_time": "2022-01-11T23:47:38.907Z"
   },
   {
    "duration": 754,
    "start_time": "2022-01-11T23:47:38.959Z"
   },
   {
    "duration": 3,
    "start_time": "2022-01-11T23:47:39.716Z"
   },
   {
    "duration": 5595,
    "start_time": "2022-01-11T23:47:39.721Z"
   },
   {
    "duration": 325,
    "start_time": "2022-01-11T23:47:45.318Z"
   },
   {
    "duration": 1014,
    "start_time": "2022-01-11T23:47:45.644Z"
   },
   {
    "duration": 35,
    "start_time": "2022-01-11T23:47:46.660Z"
   },
   {
    "duration": 24,
    "start_time": "2022-01-11T23:47:46.697Z"
   },
   {
    "duration": 18,
    "start_time": "2022-01-11T23:47:46.722Z"
   },
   {
    "duration": 18,
    "start_time": "2022-01-11T23:47:46.742Z"
   },
   {
    "duration": 55,
    "start_time": "2022-01-11T23:47:46.761Z"
   },
   {
    "duration": 28,
    "start_time": "2022-01-11T23:47:46.819Z"
   },
   {
    "duration": 46,
    "start_time": "2022-01-11T23:47:46.849Z"
   },
   {
    "duration": 36,
    "start_time": "2022-01-11T23:47:46.897Z"
   },
   {
    "duration": 27,
    "start_time": "2022-01-11T23:52:57.918Z"
   },
   {
    "duration": 48,
    "start_time": "2022-01-11T23:54:17.450Z"
   },
   {
    "duration": 29,
    "start_time": "2022-01-11T23:56:09.267Z"
   },
   {
    "duration": 30,
    "start_time": "2022-01-12T00:11:07.971Z"
   },
   {
    "duration": 185,
    "start_time": "2022-01-12T00:12:47.752Z"
   },
   {
    "duration": 31,
    "start_time": "2022-01-12T00:12:58.239Z"
   },
   {
    "duration": 28,
    "start_time": "2022-01-12T00:13:36.878Z"
   },
   {
    "duration": 217,
    "start_time": "2022-01-12T00:13:59.041Z"
   },
   {
    "duration": 662,
    "start_time": "2022-01-12T00:14:31.096Z"
   },
   {
    "duration": 28,
    "start_time": "2022-01-12T00:14:40.196Z"
   },
   {
    "duration": 28,
    "start_time": "2022-01-12T00:18:56.681Z"
   },
   {
    "duration": 57,
    "start_time": "2022-01-12T00:19:15.127Z"
   },
   {
    "duration": 26,
    "start_time": "2022-01-12T00:19:31.770Z"
   },
   {
    "duration": 65,
    "start_time": "2022-01-12T00:30:02.521Z"
   },
   {
    "duration": 96,
    "start_time": "2022-01-12T00:30:09.012Z"
   },
   {
    "duration": 37,
    "start_time": "2022-01-12T00:30:14.069Z"
   },
   {
    "duration": 65,
    "start_time": "2022-01-12T00:31:09.169Z"
   },
   {
    "duration": 56,
    "start_time": "2022-01-12T00:31:13.550Z"
   },
   {
    "duration": 176,
    "start_time": "2022-01-12T00:31:28.650Z"
   },
   {
    "duration": 44,
    "start_time": "2022-01-12T00:32:06.399Z"
   },
   {
    "duration": 35,
    "start_time": "2022-01-12T00:32:30.343Z"
   },
   {
    "duration": 34,
    "start_time": "2022-01-12T00:33:12.748Z"
   },
   {
    "duration": 45,
    "start_time": "2022-01-12T00:33:40.328Z"
   },
   {
    "duration": 28,
    "start_time": "2022-01-12T00:35:22.478Z"
   },
   {
    "duration": 178,
    "start_time": "2022-01-12T00:35:34.612Z"
   },
   {
    "duration": 184,
    "start_time": "2022-01-12T00:35:48.277Z"
   },
   {
    "duration": 23,
    "start_time": "2022-01-12T00:36:02.886Z"
   },
   {
    "duration": 20,
    "start_time": "2022-01-12T00:36:20.807Z"
   },
   {
    "duration": 18,
    "start_time": "2022-01-12T00:36:30.212Z"
   },
   {
    "duration": 19,
    "start_time": "2022-01-12T00:36:41.059Z"
   },
   {
    "duration": 20,
    "start_time": "2022-01-12T00:36:47.531Z"
   },
   {
    "duration": 202,
    "start_time": "2022-01-12T00:37:35.590Z"
   },
   {
    "duration": 193,
    "start_time": "2022-01-12T00:37:41.146Z"
   },
   {
    "duration": 197,
    "start_time": "2022-01-12T00:37:59.237Z"
   },
   {
    "duration": 238,
    "start_time": "2022-01-12T00:38:05.698Z"
   },
   {
    "duration": 202,
    "start_time": "2022-01-12T00:38:17.454Z"
   },
   {
    "duration": 208,
    "start_time": "2022-01-12T00:38:23.310Z"
   },
   {
    "duration": 17,
    "start_time": "2022-01-12T00:39:15.641Z"
   },
   {
    "duration": 28,
    "start_time": "2022-01-12T00:39:23.477Z"
   },
   {
    "duration": 28,
    "start_time": "2022-01-12T00:39:37.343Z"
   },
   {
    "duration": 340,
    "start_time": "2022-01-12T00:39:47.422Z"
   },
   {
    "duration": 18,
    "start_time": "2022-01-12T00:40:04.324Z"
   },
   {
    "duration": 182,
    "start_time": "2022-01-12T00:40:09.860Z"
   },
   {
    "duration": 4528,
    "start_time": "2022-01-12T00:40:21.784Z"
   },
   {
    "duration": 39,
    "start_time": "2022-01-12T00:41:06.257Z"
   },
   {
    "duration": 40,
    "start_time": "2022-01-12T00:41:35.623Z"
   },
   {
    "duration": 43,
    "start_time": "2022-01-12T00:42:02.145Z"
   },
   {
    "duration": 41,
    "start_time": "2022-01-12T00:42:35.209Z"
   },
   {
    "duration": 231,
    "start_time": "2022-01-12T00:43:00.785Z"
   },
   {
    "duration": 236,
    "start_time": "2022-01-12T00:43:04.791Z"
   },
   {
    "duration": 248,
    "start_time": "2022-01-12T00:43:08.257Z"
   },
   {
    "duration": 65,
    "start_time": "2022-01-12T00:44:16.225Z"
   },
   {
    "duration": 60,
    "start_time": "2022-01-12T00:44:19.470Z"
   },
   {
    "duration": 52,
    "start_time": "2022-01-12T00:44:29.420Z"
   },
   {
    "duration": 46,
    "start_time": "2022-01-12T00:45:02.442Z"
   },
   {
    "duration": 36,
    "start_time": "2022-01-12T00:45:23.978Z"
   },
   {
    "duration": 27,
    "start_time": "2022-01-12T00:45:37.939Z"
   },
   {
    "duration": 47,
    "start_time": "2022-01-12T00:46:02.287Z"
   },
   {
    "duration": 49,
    "start_time": "2022-01-12T00:49:05.058Z"
   },
   {
    "duration": 52,
    "start_time": "2022-01-12T00:50:07.552Z"
   },
   {
    "duration": 47,
    "start_time": "2022-01-12T00:50:16.877Z"
   },
   {
    "duration": 46,
    "start_time": "2022-01-12T00:50:35.061Z"
   },
   {
    "duration": 44,
    "start_time": "2022-01-12T00:51:26.317Z"
   },
   {
    "duration": 45,
    "start_time": "2022-01-12T00:51:59.243Z"
   },
   {
    "duration": 42,
    "start_time": "2022-01-12T00:52:23.122Z"
   },
   {
    "duration": 38,
    "start_time": "2022-01-12T00:53:22.965Z"
   },
   {
    "duration": 43,
    "start_time": "2022-01-12T00:54:12.051Z"
   },
   {
    "duration": 71,
    "start_time": "2022-01-12T00:57:39.336Z"
   },
   {
    "duration": 9,
    "start_time": "2022-01-12T00:57:39.409Z"
   },
   {
    "duration": 11,
    "start_time": "2022-01-12T00:57:39.420Z"
   },
   {
    "duration": 13,
    "start_time": "2022-01-12T00:57:39.432Z"
   },
   {
    "duration": 61,
    "start_time": "2022-01-12T00:57:39.447Z"
   },
   {
    "duration": 40,
    "start_time": "2022-01-12T00:57:39.510Z"
   },
   {
    "duration": 896,
    "start_time": "2022-01-12T00:57:39.552Z"
   },
   {
    "duration": 4,
    "start_time": "2022-01-12T00:57:40.450Z"
   },
   {
    "duration": 11,
    "start_time": "2022-01-12T00:57:40.456Z"
   },
   {
    "duration": 55,
    "start_time": "2022-01-12T00:57:40.469Z"
   },
   {
    "duration": 104,
    "start_time": "2022-01-12T00:57:40.526Z"
   },
   {
    "duration": 60,
    "start_time": "2022-01-12T00:57:40.632Z"
   },
   {
    "duration": 752,
    "start_time": "2022-01-12T00:57:40.694Z"
   },
   {
    "duration": 2,
    "start_time": "2022-01-12T00:57:41.448Z"
   },
   {
    "duration": 6195,
    "start_time": "2022-01-12T00:57:41.452Z"
   },
   {
    "duration": 328,
    "start_time": "2022-01-12T00:57:47.649Z"
   },
   {
    "duration": 1045,
    "start_time": "2022-01-12T00:57:47.979Z"
   },
   {
    "duration": 495,
    "start_time": "2022-01-12T00:57:49.026Z"
   },
   {
    "duration": 24,
    "start_time": "2022-01-12T00:57:49.523Z"
   },
   {
    "duration": 46,
    "start_time": "2022-01-12T00:57:49.549Z"
   },
   {
    "duration": 15,
    "start_time": "2022-01-12T00:57:49.597Z"
   },
   {
    "duration": 29,
    "start_time": "2022-01-12T00:57:49.614Z"
   },
   {
    "duration": 50,
    "start_time": "2022-01-12T00:57:49.646Z"
   },
   {
    "duration": 38,
    "start_time": "2022-01-12T00:57:49.698Z"
   },
   {
    "duration": 63,
    "start_time": "2022-01-12T00:57:49.738Z"
   },
   {
    "duration": 5,
    "start_time": "2022-01-12T00:57:49.803Z"
   },
   {
    "duration": 29,
    "start_time": "2022-01-12T00:57:49.810Z"
   },
   {
    "duration": 51,
    "start_time": "2022-01-12T00:57:49.841Z"
   },
   {
    "duration": 45,
    "start_time": "2022-01-12T00:57:49.895Z"
   },
   {
    "duration": 69,
    "start_time": "2022-01-12T01:44:40.617Z"
   },
   {
    "duration": 9,
    "start_time": "2022-01-12T01:44:40.688Z"
   },
   {
    "duration": 14,
    "start_time": "2022-01-12T01:44:40.698Z"
   },
   {
    "duration": 24,
    "start_time": "2022-01-12T01:44:40.713Z"
   },
   {
    "duration": 33,
    "start_time": "2022-01-12T01:44:40.739Z"
   },
   {
    "duration": 51,
    "start_time": "2022-01-12T01:44:40.773Z"
   },
   {
    "duration": 894,
    "start_time": "2022-01-12T01:44:40.825Z"
   },
   {
    "duration": 3,
    "start_time": "2022-01-12T01:44:41.722Z"
   },
   {
    "duration": 40,
    "start_time": "2022-01-12T01:44:41.728Z"
   },
   {
    "duration": 60,
    "start_time": "2022-01-12T01:44:41.770Z"
   },
   {
    "duration": 123,
    "start_time": "2022-01-12T01:44:41.832Z"
   },
   {
    "duration": 94,
    "start_time": "2022-01-12T01:44:41.957Z"
   },
   {
    "duration": 752,
    "start_time": "2022-01-12T01:44:42.053Z"
   },
   {
    "duration": 2,
    "start_time": "2022-01-12T01:44:42.807Z"
   },
   {
    "duration": 5386,
    "start_time": "2022-01-12T01:44:42.811Z"
   },
   {
    "duration": 335,
    "start_time": "2022-01-12T01:44:48.199Z"
   },
   {
    "duration": 1032,
    "start_time": "2022-01-12T01:44:48.536Z"
   },
   {
    "duration": 35,
    "start_time": "2022-01-12T01:44:49.569Z"
   },
   {
    "duration": 30,
    "start_time": "2022-01-12T01:44:49.605Z"
   },
   {
    "duration": 37,
    "start_time": "2022-01-12T01:44:49.636Z"
   },
   {
    "duration": 40,
    "start_time": "2022-01-12T01:44:49.675Z"
   },
   {
    "duration": 29,
    "start_time": "2022-01-12T01:44:49.718Z"
   },
   {
    "duration": 43,
    "start_time": "2022-01-12T01:44:49.750Z"
   },
   {
    "duration": 38,
    "start_time": "2022-01-12T01:44:49.794Z"
   },
   {
    "duration": 5,
    "start_time": "2022-01-12T01:44:49.833Z"
   },
   {
    "duration": 65,
    "start_time": "2022-01-12T01:44:49.840Z"
   },
   {
    "duration": 2558,
    "start_time": "2022-01-12T01:44:47.349Z"
   },
   {
    "duration": 2552,
    "start_time": "2022-01-12T01:44:47.356Z"
   },
   {
    "duration": 2550,
    "start_time": "2022-01-12T01:44:47.359Z"
   },
   {
    "duration": 12,
    "start_time": "2022-01-12T01:47:47.137Z"
   },
   {
    "duration": 4,
    "start_time": "2022-01-12T01:56:25.018Z"
   },
   {
    "duration": 29,
    "start_time": "2022-01-12T01:56:53.311Z"
   },
   {
    "duration": 70,
    "start_time": "2022-01-12T01:57:09.563Z"
   },
   {
    "duration": 12,
    "start_time": "2022-01-12T01:57:09.636Z"
   },
   {
    "duration": 10,
    "start_time": "2022-01-12T01:57:09.651Z"
   },
   {
    "duration": 14,
    "start_time": "2022-01-12T01:57:09.693Z"
   },
   {
    "duration": 31,
    "start_time": "2022-01-12T01:57:09.709Z"
   },
   {
    "duration": 71,
    "start_time": "2022-01-12T01:57:09.742Z"
   },
   {
    "duration": 920,
    "start_time": "2022-01-12T01:57:09.815Z"
   },
   {
    "duration": 3,
    "start_time": "2022-01-12T01:57:10.738Z"
   },
   {
    "duration": 14,
    "start_time": "2022-01-12T01:57:10.743Z"
   },
   {
    "duration": 63,
    "start_time": "2022-01-12T01:57:10.758Z"
   },
   {
    "duration": 103,
    "start_time": "2022-01-12T01:57:10.823Z"
   },
   {
    "duration": 67,
    "start_time": "2022-01-12T01:57:10.927Z"
   },
   {
    "duration": 773,
    "start_time": "2022-01-12T01:57:10.995Z"
   },
   {
    "duration": 5877,
    "start_time": "2022-01-12T01:57:11.770Z"
   },
   {
    "duration": 337,
    "start_time": "2022-01-12T01:57:17.649Z"
   },
   {
    "duration": 1039,
    "start_time": "2022-01-12T01:57:17.987Z"
   },
   {
    "duration": 27,
    "start_time": "2022-01-12T01:57:19.028Z"
   },
   {
    "duration": 44,
    "start_time": "2022-01-12T01:57:19.057Z"
   },
   {
    "duration": 17,
    "start_time": "2022-01-12T01:57:19.103Z"
   },
   {
    "duration": 29,
    "start_time": "2022-01-12T01:57:19.121Z"
   },
   {
    "duration": 56,
    "start_time": "2022-01-12T01:57:19.152Z"
   },
   {
    "duration": 25,
    "start_time": "2022-01-12T01:57:19.210Z"
   },
   {
    "duration": 57,
    "start_time": "2022-01-12T01:57:19.238Z"
   },
   {
    "duration": 5,
    "start_time": "2022-01-12T01:57:19.297Z"
   },
   {
    "duration": 73,
    "start_time": "2022-01-12T01:57:19.304Z"
   },
   {
    "duration": 2573,
    "start_time": "2022-01-12T01:57:16.806Z"
   },
   {
    "duration": 2565,
    "start_time": "2022-01-12T01:57:16.815Z"
   },
   {
    "duration": 2562,
    "start_time": "2022-01-12T01:57:16.819Z"
   },
   {
    "duration": 2560,
    "start_time": "2022-01-12T01:57:16.822Z"
   },
   {
    "duration": 2559,
    "start_time": "2022-01-12T01:57:16.824Z"
   },
   {
    "duration": 70,
    "start_time": "2022-01-12T01:58:00.462Z"
   },
   {
    "duration": 10,
    "start_time": "2022-01-12T01:58:00.534Z"
   },
   {
    "duration": 22,
    "start_time": "2022-01-12T01:58:00.546Z"
   },
   {
    "duration": 21,
    "start_time": "2022-01-12T01:58:00.571Z"
   },
   {
    "duration": 34,
    "start_time": "2022-01-12T01:58:00.594Z"
   },
   {
    "duration": 39,
    "start_time": "2022-01-12T01:58:00.629Z"
   },
   {
    "duration": 1413,
    "start_time": "2022-01-12T01:58:00.670Z"
   },
   {
    "duration": 9,
    "start_time": "2022-01-12T01:58:02.085Z"
   },
   {
    "duration": 18,
    "start_time": "2022-01-12T01:58:02.096Z"
   },
   {
    "duration": 43,
    "start_time": "2022-01-12T01:58:02.116Z"
   },
   {
    "duration": 131,
    "start_time": "2022-01-12T01:58:02.160Z"
   },
   {
    "duration": 51,
    "start_time": "2022-01-12T01:58:02.293Z"
   },
   {
    "duration": 771,
    "start_time": "2022-01-12T01:58:02.346Z"
   },
   {
    "duration": 5694,
    "start_time": "2022-01-12T01:58:03.119Z"
   },
   {
    "duration": 345,
    "start_time": "2022-01-12T01:58:08.815Z"
   },
   {
    "duration": 1048,
    "start_time": "2022-01-12T01:58:09.162Z"
   },
   {
    "duration": 29,
    "start_time": "2022-01-12T01:58:10.212Z"
   },
   {
    "duration": 23,
    "start_time": "2022-01-12T01:58:10.243Z"
   },
   {
    "duration": 39,
    "start_time": "2022-01-12T01:58:10.267Z"
   },
   {
    "duration": 29,
    "start_time": "2022-01-12T01:58:10.308Z"
   },
   {
    "duration": 29,
    "start_time": "2022-01-12T01:58:10.339Z"
   },
   {
    "duration": 49,
    "start_time": "2022-01-12T01:58:10.369Z"
   },
   {
    "duration": 39,
    "start_time": "2022-01-12T01:58:10.422Z"
   },
   {
    "duration": 53,
    "start_time": "2022-01-12T01:58:10.463Z"
   },
   {
    "duration": 27,
    "start_time": "2022-01-12T01:58:10.518Z"
   },
   {
    "duration": 58,
    "start_time": "2022-01-12T01:58:10.547Z"
   },
   {
    "duration": 633,
    "start_time": "2022-01-13T12:58:09.415Z"
   },
   {
    "duration": 10,
    "start_time": "2022-01-13T12:58:10.051Z"
   },
   {
    "duration": 16,
    "start_time": "2022-01-13T12:58:10.064Z"
   },
   {
    "duration": 16,
    "start_time": "2022-01-13T12:58:10.092Z"
   },
   {
    "duration": 59,
    "start_time": "2022-01-13T12:58:10.109Z"
   },
   {
    "duration": 40,
    "start_time": "2022-01-13T12:58:10.170Z"
   },
   {
    "duration": 816,
    "start_time": "2022-01-13T12:58:10.211Z"
   },
   {
    "duration": 4,
    "start_time": "2022-01-13T12:58:11.030Z"
   },
   {
    "duration": 16,
    "start_time": "2022-01-13T12:58:11.036Z"
   },
   {
    "duration": 60,
    "start_time": "2022-01-13T12:58:11.054Z"
   },
   {
    "duration": 98,
    "start_time": "2022-01-13T12:58:11.115Z"
   },
   {
    "duration": 54,
    "start_time": "2022-01-13T12:58:11.215Z"
   },
   {
    "duration": 729,
    "start_time": "2022-01-13T12:58:11.290Z"
   },
   {
    "duration": 5763,
    "start_time": "2022-01-13T12:58:12.021Z"
   },
   {
    "duration": 311,
    "start_time": "2022-01-13T12:58:17.792Z"
   },
   {
    "duration": 1013,
    "start_time": "2022-01-13T12:58:18.105Z"
   },
   {
    "duration": 88,
    "start_time": "2022-01-13T12:58:19.119Z"
   },
   {
    "duration": 22,
    "start_time": "2022-01-13T12:58:19.209Z"
   },
   {
    "duration": 37,
    "start_time": "2022-01-13T12:58:19.232Z"
   },
   {
    "duration": 70,
    "start_time": "2022-01-13T12:58:19.271Z"
   },
   {
    "duration": 29,
    "start_time": "2022-01-13T12:58:19.343Z"
   },
   {
    "duration": 28,
    "start_time": "2022-01-13T12:58:19.373Z"
   },
   {
    "duration": 34,
    "start_time": "2022-01-13T12:58:19.405Z"
   },
   {
    "duration": 27,
    "start_time": "2022-01-13T12:58:19.440Z"
   },
   {
    "duration": 50,
    "start_time": "2022-01-13T12:58:19.469Z"
   },
   {
    "duration": 43,
    "start_time": "2022-01-13T12:58:19.520Z"
   },
   {
    "duration": 27,
    "start_time": "2022-01-13T13:06:50.476Z"
   },
   {
    "duration": 21,
    "start_time": "2022-01-13T13:14:55.264Z"
   },
   {
    "duration": 43,
    "start_time": "2022-01-13T13:15:21.413Z"
   },
   {
    "duration": 644,
    "start_time": "2022-01-13T13:15:34.196Z"
   },
   {
    "duration": 9,
    "start_time": "2022-01-13T13:15:34.842Z"
   },
   {
    "duration": 13,
    "start_time": "2022-01-13T13:15:34.853Z"
   },
   {
    "duration": 28,
    "start_time": "2022-01-13T13:15:34.868Z"
   },
   {
    "duration": 44,
    "start_time": "2022-01-13T13:15:34.898Z"
   },
   {
    "duration": 46,
    "start_time": "2022-01-13T13:15:34.944Z"
   },
   {
    "duration": 823,
    "start_time": "2022-01-13T13:15:34.992Z"
   },
   {
    "duration": 4,
    "start_time": "2022-01-13T13:15:35.817Z"
   },
   {
    "duration": 12,
    "start_time": "2022-01-13T13:15:35.823Z"
   },
   {
    "duration": 64,
    "start_time": "2022-01-13T13:15:35.837Z"
   },
   {
    "duration": 91,
    "start_time": "2022-01-13T13:15:35.903Z"
   },
   {
    "duration": 51,
    "start_time": "2022-01-13T13:15:35.997Z"
   },
   {
    "duration": 15,
    "start_time": "2022-01-13T13:15:36.049Z"
   },
   {
    "duration": 699,
    "start_time": "2022-01-13T13:15:36.092Z"
   },
   {
    "duration": 5606,
    "start_time": "2022-01-13T13:15:36.793Z"
   },
   {
    "duration": 317,
    "start_time": "2022-01-13T13:15:42.401Z"
   },
   {
    "duration": 1017,
    "start_time": "2022-01-13T13:15:42.721Z"
   },
   {
    "duration": 86,
    "start_time": "2022-01-13T13:15:43.740Z"
   },
   {
    "duration": 22,
    "start_time": "2022-01-13T13:15:43.828Z"
   },
   {
    "duration": 40,
    "start_time": "2022-01-13T13:15:43.851Z"
   },
   {
    "duration": 28,
    "start_time": "2022-01-13T13:15:43.893Z"
   },
   {
    "duration": 27,
    "start_time": "2022-01-13T13:15:43.922Z"
   },
   {
    "duration": 47,
    "start_time": "2022-01-13T13:15:43.950Z"
   },
   {
    "duration": 36,
    "start_time": "2022-01-13T13:15:43.998Z"
   },
   {
    "duration": 26,
    "start_time": "2022-01-13T13:15:44.035Z"
   },
   {
    "duration": 50,
    "start_time": "2022-01-13T13:15:44.062Z"
   },
   {
    "duration": 41,
    "start_time": "2022-01-13T13:15:44.114Z"
   },
   {
    "duration": 218,
    "start_time": "2022-01-14T17:16:53.188Z"
   },
   {
    "duration": 184,
    "start_time": "2022-01-14T17:16:58.044Z"
   },
   {
    "duration": 544,
    "start_time": "2022-01-14T17:17:00.785Z"
   },
   {
    "duration": 56,
    "start_time": "2022-01-14T17:17:02.803Z"
   },
   {
    "duration": 206,
    "start_time": "2022-01-14T17:17:04.285Z"
   },
   {
    "duration": 4,
    "start_time": "2022-01-14T17:17:18.880Z"
   },
   {
    "duration": 11,
    "start_time": "2022-01-14T17:27:03.901Z"
   },
   {
    "duration": 49,
    "start_time": "2022-01-14T17:29:04.417Z"
   },
   {
    "duration": 10,
    "start_time": "2022-01-14T17:29:06.498Z"
   },
   {
    "duration": 48,
    "start_time": "2022-01-14T17:29:58.247Z"
   },
   {
    "duration": 47,
    "start_time": "2022-01-14T17:30:03.726Z"
   },
   {
    "duration": 5,
    "start_time": "2022-01-14T17:33:41.350Z"
   },
   {
    "duration": 69,
    "start_time": "2022-01-14T17:35:04.288Z"
   },
   {
    "duration": 85,
    "start_time": "2022-01-14T17:35:12.094Z"
   },
   {
    "duration": 235,
    "start_time": "2022-01-14T17:49:24.721Z"
   },
   {
    "duration": 289,
    "start_time": "2022-01-14T17:49:41.391Z"
   },
   {
    "duration": 216,
    "start_time": "2022-01-14T17:50:13.688Z"
   },
   {
    "duration": 177,
    "start_time": "2022-01-14T17:50:21.502Z"
   },
   {
    "duration": 209,
    "start_time": "2022-01-14T17:50:32.603Z"
   },
   {
    "duration": 12,
    "start_time": "2022-01-14T17:52:27.439Z"
   },
   {
    "duration": 20,
    "start_time": "2022-01-14T17:52:39.393Z"
   },
   {
    "duration": 19,
    "start_time": "2022-01-14T17:52:44.441Z"
   },
   {
    "duration": 224,
    "start_time": "2022-01-14T17:52:48.302Z"
   },
   {
    "duration": 202,
    "start_time": "2022-01-14T17:52:58.215Z"
   },
   {
    "duration": 271,
    "start_time": "2022-01-14T18:01:15.402Z"
   },
   {
    "duration": 220,
    "start_time": "2022-01-14T18:01:29.783Z"
   },
   {
    "duration": 3,
    "start_time": "2022-01-14T18:15:40.903Z"
   },
   {
    "duration": 49,
    "start_time": "2022-01-14T18:15:40.908Z"
   },
   {
    "duration": 10,
    "start_time": "2022-01-14T18:15:40.959Z"
   },
   {
    "duration": 9,
    "start_time": "2022-01-14T18:15:40.971Z"
   },
   {
    "duration": 8,
    "start_time": "2022-01-14T18:15:40.981Z"
   },
   {
    "duration": 24,
    "start_time": "2022-01-14T18:15:40.991Z"
   },
   {
    "duration": 230,
    "start_time": "2022-01-14T18:15:41.017Z"
   },
   {
    "duration": 214,
    "start_time": "2022-01-14T18:15:41.249Z"
   },
   {
    "duration": 26,
    "start_time": "2022-01-14T18:15:41.465Z"
   },
   {
    "duration": 57,
    "start_time": "2022-01-14T18:15:41.493Z"
   },
   {
    "duration": 647,
    "start_time": "2022-01-14T18:15:41.551Z"
   },
   {
    "duration": 3,
    "start_time": "2022-01-14T18:15:42.199Z"
   },
   {
    "duration": 13,
    "start_time": "2022-01-14T18:15:42.211Z"
   },
   {
    "duration": 29,
    "start_time": "2022-01-14T18:15:42.226Z"
   },
   {
    "duration": 202,
    "start_time": "2022-01-14T18:15:42.256Z"
   },
   {
    "duration": 477,
    "start_time": "2022-01-14T18:15:41.983Z"
   },
   {
    "duration": 19,
    "start_time": "2022-01-14T18:16:48.401Z"
   },
   {
    "duration": 27,
    "start_time": "2022-01-14T18:17:38.550Z"
   },
   {
    "duration": 3,
    "start_time": "2022-01-14T18:17:46.488Z"
   },
   {
    "duration": 51,
    "start_time": "2022-01-14T18:17:46.503Z"
   },
   {
    "duration": 10,
    "start_time": "2022-01-14T18:17:46.556Z"
   },
   {
    "duration": 9,
    "start_time": "2022-01-14T18:17:46.568Z"
   },
   {
    "duration": 9,
    "start_time": "2022-01-14T18:17:46.579Z"
   },
   {
    "duration": 27,
    "start_time": "2022-01-14T18:17:46.589Z"
   },
   {
    "duration": 223,
    "start_time": "2022-01-14T18:17:46.618Z"
   },
   {
    "duration": 198,
    "start_time": "2022-01-14T18:17:46.842Z"
   },
   {
    "duration": 27,
    "start_time": "2022-01-14T18:17:47.042Z"
   },
   {
    "duration": 51,
    "start_time": "2022-01-14T18:17:47.070Z"
   },
   {
    "duration": 763,
    "start_time": "2022-01-14T18:17:47.123Z"
   },
   {
    "duration": 3,
    "start_time": "2022-01-14T18:17:47.887Z"
   },
   {
    "duration": 11,
    "start_time": "2022-01-14T18:17:47.891Z"
   },
   {
    "duration": 2,
    "start_time": "2022-01-14T18:17:58.099Z"
   },
   {
    "duration": 50,
    "start_time": "2022-01-14T18:17:58.113Z"
   },
   {
    "duration": 10,
    "start_time": "2022-01-14T18:17:58.165Z"
   },
   {
    "duration": 10,
    "start_time": "2022-01-14T18:17:58.177Z"
   },
   {
    "duration": 24,
    "start_time": "2022-01-14T18:17:58.188Z"
   },
   {
    "duration": 10,
    "start_time": "2022-01-14T18:17:58.213Z"
   },
   {
    "duration": 223,
    "start_time": "2022-01-14T18:17:58.224Z"
   },
   {
    "duration": 196,
    "start_time": "2022-01-14T18:17:58.448Z"
   },
   {
    "duration": 27,
    "start_time": "2022-01-14T18:17:58.646Z"
   },
   {
    "duration": 55,
    "start_time": "2022-01-14T18:17:58.676Z"
   },
   {
    "duration": 657,
    "start_time": "2022-01-14T18:17:58.733Z"
   },
   {
    "duration": 4,
    "start_time": "2022-01-14T18:17:59.391Z"
   },
   {
    "duration": 21,
    "start_time": "2022-01-14T18:17:59.397Z"
   },
   {
    "duration": 30,
    "start_time": "2022-01-14T18:17:59.419Z"
   },
   {
    "duration": 214,
    "start_time": "2022-01-14T18:17:59.450Z"
   },
   {
    "duration": 466,
    "start_time": "2022-01-14T18:17:59.200Z"
   },
   {
    "duration": 463,
    "start_time": "2022-01-14T18:17:59.204Z"
   },
   {
    "duration": 461,
    "start_time": "2022-01-14T18:17:59.207Z"
   },
   {
    "duration": 459,
    "start_time": "2022-01-14T18:17:59.210Z"
   },
   {
    "duration": 456,
    "start_time": "2022-01-14T18:17:59.213Z"
   },
   {
    "duration": 454,
    "start_time": "2022-01-14T18:17:59.217Z"
   },
   {
    "duration": 451,
    "start_time": "2022-01-14T18:17:59.220Z"
   },
   {
    "duration": 449,
    "start_time": "2022-01-14T18:17:59.223Z"
   },
   {
    "duration": 447,
    "start_time": "2022-01-14T18:17:59.226Z"
   },
   {
    "duration": 445,
    "start_time": "2022-01-14T18:17:59.229Z"
   },
   {
    "duration": 444,
    "start_time": "2022-01-14T18:17:59.231Z"
   },
   {
    "duration": 441,
    "start_time": "2022-01-14T18:17:59.235Z"
   },
   {
    "duration": 434,
    "start_time": "2022-01-14T18:17:59.243Z"
   },
   {
    "duration": 432,
    "start_time": "2022-01-14T18:17:59.246Z"
   },
   {
    "duration": 430,
    "start_time": "2022-01-14T18:17:59.249Z"
   },
   {
    "duration": 28,
    "start_time": "2022-01-14T18:20:11.204Z"
   },
   {
    "duration": 2,
    "start_time": "2022-01-14T18:20:17.570Z"
   },
   {
    "duration": 57,
    "start_time": "2022-01-14T18:20:17.574Z"
   },
   {
    "duration": 10,
    "start_time": "2022-01-14T18:20:17.633Z"
   },
   {
    "duration": 13,
    "start_time": "2022-01-14T18:20:17.645Z"
   },
   {
    "duration": 7,
    "start_time": "2022-01-14T18:20:17.659Z"
   },
   {
    "duration": 13,
    "start_time": "2022-01-14T18:20:17.667Z"
   },
   {
    "duration": 232,
    "start_time": "2022-01-14T18:20:17.682Z"
   },
   {
    "duration": 198,
    "start_time": "2022-01-14T18:20:17.915Z"
   },
   {
    "duration": 27,
    "start_time": "2022-01-14T18:20:18.114Z"
   },
   {
    "duration": 39,
    "start_time": "2022-01-14T18:20:18.142Z"
   },
   {
    "duration": 665,
    "start_time": "2022-01-14T18:20:18.182Z"
   },
   {
    "duration": 3,
    "start_time": "2022-01-14T18:20:18.848Z"
   },
   {
    "duration": 11,
    "start_time": "2022-01-14T18:20:18.852Z"
   },
   {
    "duration": 31,
    "start_time": "2022-01-14T18:20:23.149Z"
   },
   {
    "duration": 208,
    "start_time": "2022-01-14T18:21:23.750Z"
   },
   {
    "duration": 4,
    "start_time": "2022-01-14T18:21:59.026Z"
   },
   {
    "duration": 50,
    "start_time": "2022-01-14T18:21:59.032Z"
   },
   {
    "duration": 10,
    "start_time": "2022-01-14T18:21:59.084Z"
   },
   {
    "duration": 11,
    "start_time": "2022-01-14T18:21:59.096Z"
   },
   {
    "duration": 11,
    "start_time": "2022-01-14T18:21:59.112Z"
   },
   {
    "duration": 16,
    "start_time": "2022-01-14T18:21:59.124Z"
   },
   {
    "duration": 255,
    "start_time": "2022-01-14T18:21:59.142Z"
   },
   {
    "duration": 264,
    "start_time": "2022-01-14T18:21:59.400Z"
   },
   {
    "duration": 27,
    "start_time": "2022-01-14T18:21:59.666Z"
   },
   {
    "duration": 46,
    "start_time": "2022-01-14T18:21:59.694Z"
   },
   {
    "duration": 731,
    "start_time": "2022-01-14T18:21:59.742Z"
   },
   {
    "duration": 3,
    "start_time": "2022-01-14T18:22:00.475Z"
   },
   {
    "duration": 11,
    "start_time": "2022-01-14T18:22:00.480Z"
   },
   {
    "duration": 46,
    "start_time": "2022-01-14T18:22:00.493Z"
   },
   {
    "duration": 229,
    "start_time": "2022-01-14T18:22:47.896Z"
   },
   {
    "duration": 3,
    "start_time": "2022-01-14T18:23:04.116Z"
   },
   {
    "duration": 194,
    "start_time": "2022-01-14T18:25:35.767Z"
   },
   {
    "duration": 199,
    "start_time": "2022-01-14T18:27:29.561Z"
   },
   {
    "duration": 64,
    "start_time": "2022-01-14T18:28:21.683Z"
   },
   {
    "duration": 72,
    "start_time": "2022-01-14T18:29:50.719Z"
   },
   {
    "duration": 402,
    "start_time": "2022-01-14T18:29:55.986Z"
   },
   {
    "duration": 565,
    "start_time": "2022-01-14T18:30:03.142Z"
   },
   {
    "duration": 44,
    "start_time": "2022-01-14T18:30:08.821Z"
   },
   {
    "duration": 42,
    "start_time": "2022-01-14T18:30:31.827Z"
   },
   {
    "duration": 4,
    "start_time": "2022-01-14T18:32:10.217Z"
   },
   {
    "duration": 52,
    "start_time": "2022-01-14T18:32:10.223Z"
   },
   {
    "duration": 11,
    "start_time": "2022-01-14T18:32:10.277Z"
   },
   {
    "duration": 32,
    "start_time": "2022-01-14T18:32:10.290Z"
   },
   {
    "duration": 8,
    "start_time": "2022-01-14T18:32:10.324Z"
   },
   {
    "duration": 10,
    "start_time": "2022-01-14T18:32:10.334Z"
   },
   {
    "duration": 244,
    "start_time": "2022-01-14T18:32:10.346Z"
   },
   {
    "duration": 218,
    "start_time": "2022-01-14T18:32:10.592Z"
   },
   {
    "duration": 34,
    "start_time": "2022-01-14T18:32:10.812Z"
   },
   {
    "duration": 42,
    "start_time": "2022-01-14T18:32:10.847Z"
   },
   {
    "duration": 736,
    "start_time": "2022-01-14T18:32:10.891Z"
   },
   {
    "duration": 3,
    "start_time": "2022-01-14T18:32:11.629Z"
   },
   {
    "duration": 10,
    "start_time": "2022-01-14T18:32:11.634Z"
   },
   {
    "duration": 41,
    "start_time": "2022-01-14T18:32:14.541Z"
   },
   {
    "duration": 47,
    "start_time": "2022-01-14T18:33:20.438Z"
   },
   {
    "duration": 3,
    "start_time": "2022-01-14T18:34:39.050Z"
   },
   {
    "duration": 52,
    "start_time": "2022-01-14T18:34:39.055Z"
   },
   {
    "duration": 12,
    "start_time": "2022-01-14T18:34:39.109Z"
   },
   {
    "duration": 10,
    "start_time": "2022-01-14T18:34:39.122Z"
   },
   {
    "duration": 7,
    "start_time": "2022-01-14T18:34:39.133Z"
   },
   {
    "duration": 10,
    "start_time": "2022-01-14T18:34:39.142Z"
   },
   {
    "duration": 253,
    "start_time": "2022-01-14T18:34:39.154Z"
   },
   {
    "duration": 194,
    "start_time": "2022-01-14T18:34:39.414Z"
   },
   {
    "duration": 25,
    "start_time": "2022-01-14T18:34:39.609Z"
   },
   {
    "duration": 34,
    "start_time": "2022-01-14T18:34:39.636Z"
   },
   {
    "duration": 823,
    "start_time": "2022-01-14T18:34:39.671Z"
   },
   {
    "duration": 3,
    "start_time": "2022-01-14T18:34:40.495Z"
   },
   {
    "duration": 17,
    "start_time": "2022-01-14T18:34:40.500Z"
   },
   {
    "duration": 222,
    "start_time": "2022-01-14T18:34:40.519Z"
   },
   {
    "duration": 479,
    "start_time": "2022-01-14T18:34:40.264Z"
   },
   {
    "duration": 477,
    "start_time": "2022-01-14T18:34:40.267Z"
   },
   {
    "duration": 475,
    "start_time": "2022-01-14T18:34:40.270Z"
   },
   {
    "duration": 473,
    "start_time": "2022-01-14T18:34:40.273Z"
   },
   {
    "duration": 470,
    "start_time": "2022-01-14T18:34:40.276Z"
   },
   {
    "duration": 468,
    "start_time": "2022-01-14T18:34:40.279Z"
   },
   {
    "duration": 466,
    "start_time": "2022-01-14T18:34:40.282Z"
   },
   {
    "duration": 459,
    "start_time": "2022-01-14T18:34:40.290Z"
   },
   {
    "duration": 457,
    "start_time": "2022-01-14T18:34:40.293Z"
   },
   {
    "duration": 455,
    "start_time": "2022-01-14T18:34:40.295Z"
   },
   {
    "duration": 453,
    "start_time": "2022-01-14T18:34:40.298Z"
   },
   {
    "duration": 450,
    "start_time": "2022-01-14T18:34:40.302Z"
   },
   {
    "duration": 448,
    "start_time": "2022-01-14T18:34:40.305Z"
   },
   {
    "duration": 446,
    "start_time": "2022-01-14T18:34:40.308Z"
   },
   {
    "duration": 445,
    "start_time": "2022-01-14T18:34:40.310Z"
   },
   {
    "duration": 442,
    "start_time": "2022-01-14T18:34:40.313Z"
   },
   {
    "duration": 185,
    "start_time": "2022-01-14T18:36:06.627Z"
   },
   {
    "duration": 273,
    "start_time": "2022-01-14T18:36:45.953Z"
   },
   {
    "duration": 3,
    "start_time": "2022-01-14T18:37:03.376Z"
   },
   {
    "duration": 51,
    "start_time": "2022-01-14T18:37:03.381Z"
   },
   {
    "duration": 11,
    "start_time": "2022-01-14T18:37:03.435Z"
   },
   {
    "duration": 9,
    "start_time": "2022-01-14T18:37:03.448Z"
   },
   {
    "duration": 7,
    "start_time": "2022-01-14T18:37:03.458Z"
   },
   {
    "duration": 9,
    "start_time": "2022-01-14T18:37:03.467Z"
   },
   {
    "duration": 248,
    "start_time": "2022-01-14T18:37:03.478Z"
   },
   {
    "duration": 196,
    "start_time": "2022-01-14T18:37:03.728Z"
   },
   {
    "duration": 23,
    "start_time": "2022-01-14T18:37:03.926Z"
   },
   {
    "duration": 37,
    "start_time": "2022-01-14T18:37:03.951Z"
   },
   {
    "duration": 690,
    "start_time": "2022-01-14T18:37:03.989Z"
   },
   {
    "duration": 3,
    "start_time": "2022-01-14T18:37:04.681Z"
   },
   {
    "duration": 11,
    "start_time": "2022-01-14T18:37:04.685Z"
   },
   {
    "duration": 48,
    "start_time": "2022-01-14T18:37:38.190Z"
   },
   {
    "duration": 82,
    "start_time": "2022-01-14T18:38:27.171Z"
   },
   {
    "duration": 46,
    "start_time": "2022-01-14T18:38:54.412Z"
   },
   {
    "duration": 47,
    "start_time": "2022-01-14T18:39:32.070Z"
   },
   {
    "duration": 75,
    "start_time": "2022-01-14T18:39:49.216Z"
   },
   {
    "duration": 77,
    "start_time": "2022-01-14T18:40:02.480Z"
   },
   {
    "duration": 76,
    "start_time": "2022-01-14T18:40:13.816Z"
   },
   {
    "duration": 55,
    "start_time": "2022-01-14T18:40:43.015Z"
   },
   {
    "duration": 71,
    "start_time": "2022-01-14T18:40:53.384Z"
   },
   {
    "duration": 65,
    "start_time": "2022-01-14T18:41:37.045Z"
   },
   {
    "duration": 233,
    "start_time": "2022-01-14T18:41:58.108Z"
   },
   {
    "duration": 76,
    "start_time": "2022-01-14T18:42:11.703Z"
   },
   {
    "duration": 81,
    "start_time": "2022-01-14T18:43:19.377Z"
   },
   {
    "duration": 75,
    "start_time": "2022-01-14T18:43:28.851Z"
   },
   {
    "duration": 65,
    "start_time": "2022-01-14T18:43:50.624Z"
   },
   {
    "duration": 74,
    "start_time": "2022-01-14T18:43:55.963Z"
   },
   {
    "duration": 3,
    "start_time": "2022-01-14T18:46:33.222Z"
   },
   {
    "duration": 52,
    "start_time": "2022-01-14T18:46:33.227Z"
   },
   {
    "duration": 9,
    "start_time": "2022-01-14T18:46:33.281Z"
   },
   {
    "duration": 10,
    "start_time": "2022-01-14T18:46:33.292Z"
   },
   {
    "duration": 12,
    "start_time": "2022-01-14T18:46:33.304Z"
   },
   {
    "duration": 9,
    "start_time": "2022-01-14T18:46:33.318Z"
   },
   {
    "duration": 224,
    "start_time": "2022-01-14T18:46:33.328Z"
   },
   {
    "duration": 189,
    "start_time": "2022-01-14T18:46:33.554Z"
   },
   {
    "duration": 24,
    "start_time": "2022-01-14T18:46:33.745Z"
   },
   {
    "duration": 46,
    "start_time": "2022-01-14T18:46:33.770Z"
   },
   {
    "duration": 665,
    "start_time": "2022-01-14T18:46:33.818Z"
   },
   {
    "duration": 3,
    "start_time": "2022-01-14T18:46:34.484Z"
   },
   {
    "duration": 12,
    "start_time": "2022-01-14T18:46:34.489Z"
   },
   {
    "duration": 45,
    "start_time": "2022-01-14T18:46:34.512Z"
   },
   {
    "duration": 88,
    "start_time": "2022-01-14T18:46:34.558Z"
   },
   {
    "duration": 78,
    "start_time": "2022-01-14T18:46:36.659Z"
   },
   {
    "duration": 69,
    "start_time": "2022-01-14T18:46:57.057Z"
   },
   {
    "duration": 3,
    "start_time": "2022-01-14T18:52:11.644Z"
   },
   {
    "duration": 54,
    "start_time": "2022-01-14T18:52:11.648Z"
   },
   {
    "duration": 10,
    "start_time": "2022-01-14T18:52:11.703Z"
   },
   {
    "duration": 11,
    "start_time": "2022-01-14T18:52:11.714Z"
   },
   {
    "duration": 8,
    "start_time": "2022-01-14T18:52:11.726Z"
   },
   {
    "duration": 10,
    "start_time": "2022-01-14T18:52:11.735Z"
   },
   {
    "duration": 232,
    "start_time": "2022-01-14T18:52:11.747Z"
   },
   {
    "duration": 194,
    "start_time": "2022-01-14T18:52:11.980Z"
   },
   {
    "duration": 25,
    "start_time": "2022-01-14T18:52:12.175Z"
   },
   {
    "duration": 42,
    "start_time": "2022-01-14T18:52:12.201Z"
   },
   {
    "duration": 646,
    "start_time": "2022-01-14T18:52:12.245Z"
   },
   {
    "duration": 3,
    "start_time": "2022-01-14T18:52:12.892Z"
   },
   {
    "duration": 19,
    "start_time": "2022-01-14T18:52:12.896Z"
   },
   {
    "duration": 56,
    "start_time": "2022-01-14T18:52:12.916Z"
   },
   {
    "duration": 84,
    "start_time": "2022-01-14T18:52:12.973Z"
   },
   {
    "duration": 64,
    "start_time": "2022-01-14T18:52:15.411Z"
   },
   {
    "duration": 71,
    "start_time": "2022-01-14T19:06:12.438Z"
   },
   {
    "duration": 3,
    "start_time": "2022-01-14T19:10:24.762Z"
   },
   {
    "duration": 51,
    "start_time": "2022-01-14T19:10:24.767Z"
   },
   {
    "duration": 10,
    "start_time": "2022-01-14T19:10:24.819Z"
   },
   {
    "duration": 9,
    "start_time": "2022-01-14T19:10:24.831Z"
   },
   {
    "duration": 119,
    "start_time": "2022-01-14T19:10:24.842Z"
   },
   {
    "duration": 11,
    "start_time": "2022-01-14T19:10:24.963Z"
   },
   {
    "duration": 246,
    "start_time": "2022-01-14T19:10:24.976Z"
   },
   {
    "duration": 194,
    "start_time": "2022-01-14T19:10:25.223Z"
   },
   {
    "duration": 24,
    "start_time": "2022-01-14T19:10:25.418Z"
   },
   {
    "duration": 34,
    "start_time": "2022-01-14T19:10:25.444Z"
   },
   {
    "duration": 714,
    "start_time": "2022-01-14T19:10:25.480Z"
   },
   {
    "duration": 3,
    "start_time": "2022-01-14T19:10:26.196Z"
   },
   {
    "duration": 17,
    "start_time": "2022-01-14T19:10:26.201Z"
   },
   {
    "duration": 46,
    "start_time": "2022-01-14T19:10:26.219Z"
   },
   {
    "duration": 95,
    "start_time": "2022-01-14T19:10:26.267Z"
   },
   {
    "duration": 72,
    "start_time": "2022-01-14T19:10:26.363Z"
   },
   {
    "duration": 640,
    "start_time": "2022-01-14T19:10:26.437Z"
   },
   {
    "duration": 5069,
    "start_time": "2022-01-14T19:10:27.079Z"
   },
   {
    "duration": 275,
    "start_time": "2022-01-14T19:10:32.150Z"
   },
   {
    "duration": 1004,
    "start_time": "2022-01-14T19:10:32.426Z"
   },
   {
    "duration": 24,
    "start_time": "2022-01-14T19:10:33.431Z"
   },
   {
    "duration": 20,
    "start_time": "2022-01-14T19:10:33.456Z"
   },
   {
    "duration": 35,
    "start_time": "2022-01-14T19:10:33.478Z"
   },
   {
    "duration": 27,
    "start_time": "2022-01-14T19:10:33.515Z"
   },
   {
    "duration": 24,
    "start_time": "2022-01-14T19:10:33.545Z"
   },
   {
    "duration": 23,
    "start_time": "2022-01-14T19:10:33.570Z"
   },
   {
    "duration": 48,
    "start_time": "2022-01-14T19:10:33.594Z"
   },
   {
    "duration": 26,
    "start_time": "2022-01-14T19:10:33.644Z"
   },
   {
    "duration": 42,
    "start_time": "2022-01-14T19:10:33.671Z"
   },
   {
    "duration": 37,
    "start_time": "2022-01-14T19:10:33.714Z"
   },
   {
    "duration": 39,
    "start_time": "2022-01-14T19:18:57.127Z"
   },
   {
    "duration": 18,
    "start_time": "2022-01-14T19:20:58.078Z"
   },
   {
    "duration": 51,
    "start_time": "2022-01-14T19:20:58.098Z"
   },
   {
    "duration": 11,
    "start_time": "2022-01-14T19:20:58.151Z"
   },
   {
    "duration": 9,
    "start_time": "2022-01-14T19:20:58.164Z"
   },
   {
    "duration": 39,
    "start_time": "2022-01-14T19:20:58.174Z"
   },
   {
    "duration": 11,
    "start_time": "2022-01-14T19:20:58.214Z"
   },
   {
    "duration": 243,
    "start_time": "2022-01-14T19:20:58.227Z"
   },
   {
    "duration": 197,
    "start_time": "2022-01-14T19:20:58.472Z"
   },
   {
    "duration": 26,
    "start_time": "2022-01-14T19:20:58.671Z"
   },
   {
    "duration": 37,
    "start_time": "2022-01-14T19:20:58.712Z"
   },
   {
    "duration": 827,
    "start_time": "2022-01-14T19:20:58.751Z"
   },
   {
    "duration": 3,
    "start_time": "2022-01-14T19:20:59.579Z"
   },
   {
    "duration": 11,
    "start_time": "2022-01-14T19:20:59.584Z"
   },
   {
    "duration": 60,
    "start_time": "2022-01-14T19:20:59.596Z"
   },
   {
    "duration": 90,
    "start_time": "2022-01-14T19:20:59.657Z"
   },
   {
    "duration": 77,
    "start_time": "2022-01-14T19:20:59.749Z"
   },
   {
    "duration": 647,
    "start_time": "2022-01-14T19:20:59.828Z"
   },
   {
    "duration": 4902,
    "start_time": "2022-01-14T19:21:00.477Z"
   },
   {
    "duration": 271,
    "start_time": "2022-01-14T19:21:05.381Z"
   },
   {
    "duration": 865,
    "start_time": "2022-01-14T19:21:05.653Z"
   },
   {
    "duration": 142,
    "start_time": "2022-01-14T19:21:06.519Z"
   },
   {
    "duration": 20,
    "start_time": "2022-01-14T19:21:06.663Z"
   },
   {
    "duration": 30,
    "start_time": "2022-01-14T19:21:06.686Z"
   },
   {
    "duration": 22,
    "start_time": "2022-01-14T19:21:06.718Z"
   },
   {
    "duration": 23,
    "start_time": "2022-01-14T19:21:06.742Z"
   },
   {
    "duration": 21,
    "start_time": "2022-01-14T19:21:06.767Z"
   },
   {
    "duration": 52,
    "start_time": "2022-01-14T19:21:06.789Z"
   },
   {
    "duration": 22,
    "start_time": "2022-01-14T19:21:06.842Z"
   },
   {
    "duration": 21,
    "start_time": "2022-01-14T19:21:06.866Z"
   },
   {
    "duration": 59,
    "start_time": "2022-01-14T19:21:06.888Z"
   },
   {
    "duration": 165,
    "start_time": "2022-01-14T19:24:48.169Z"
   },
   {
    "duration": 184,
    "start_time": "2022-01-14T19:24:55.337Z"
   },
   {
    "duration": 16,
    "start_time": "2022-01-14T19:25:07.226Z"
   },
   {
    "duration": 47,
    "start_time": "2022-01-14T19:25:07.243Z"
   },
   {
    "duration": 10,
    "start_time": "2022-01-14T19:25:07.292Z"
   },
   {
    "duration": 11,
    "start_time": "2022-01-14T19:25:07.304Z"
   },
   {
    "duration": 7,
    "start_time": "2022-01-14T19:25:07.316Z"
   },
   {
    "duration": 10,
    "start_time": "2022-01-14T19:25:07.324Z"
   },
   {
    "duration": 177,
    "start_time": "2022-01-14T19:25:07.336Z"
   },
   {
    "duration": 203,
    "start_time": "2022-01-14T19:25:13.575Z"
   },
   {
    "duration": 3,
    "start_time": "2022-01-14T19:25:23.961Z"
   },
   {
    "duration": 47,
    "start_time": "2022-01-14T19:25:23.968Z"
   },
   {
    "duration": 10,
    "start_time": "2022-01-14T19:25:24.017Z"
   },
   {
    "duration": 8,
    "start_time": "2022-01-14T19:25:24.029Z"
   },
   {
    "duration": 7,
    "start_time": "2022-01-14T19:25:24.038Z"
   },
   {
    "duration": 12,
    "start_time": "2022-01-14T19:25:24.047Z"
   },
   {
    "duration": 255,
    "start_time": "2022-01-14T19:25:24.060Z"
   },
   {
    "duration": 185,
    "start_time": "2022-01-14T19:25:24.317Z"
   },
   {
    "duration": 25,
    "start_time": "2022-01-14T19:25:24.503Z"
   },
   {
    "duration": 33,
    "start_time": "2022-01-14T19:25:24.531Z"
   },
   {
    "duration": 794,
    "start_time": "2022-01-14T19:25:24.566Z"
   },
   {
    "duration": 4,
    "start_time": "2022-01-14T19:25:25.362Z"
   },
   {
    "duration": 11,
    "start_time": "2022-01-14T19:25:25.367Z"
   },
   {
    "duration": 70,
    "start_time": "2022-01-14T19:25:25.380Z"
   },
   {
    "duration": 88,
    "start_time": "2022-01-14T19:25:25.452Z"
   },
   {
    "duration": 76,
    "start_time": "2022-01-14T19:25:25.542Z"
   },
   {
    "duration": 626,
    "start_time": "2022-01-14T19:25:25.620Z"
   },
   {
    "duration": 4632,
    "start_time": "2022-01-14T19:25:26.248Z"
   },
   {
    "duration": 287,
    "start_time": "2022-01-14T19:25:30.882Z"
   },
   {
    "duration": 1023,
    "start_time": "2022-01-14T19:25:31.170Z"
   },
   {
    "duration": 29,
    "start_time": "2022-01-14T19:25:32.194Z"
   },
   {
    "duration": 20,
    "start_time": "2022-01-14T19:25:32.224Z"
   },
   {
    "duration": 15,
    "start_time": "2022-01-14T19:25:32.245Z"
   },
   {
    "duration": 22,
    "start_time": "2022-01-14T19:25:32.261Z"
   },
   {
    "duration": 44,
    "start_time": "2022-01-14T19:25:32.284Z"
   },
   {
    "duration": 21,
    "start_time": "2022-01-14T19:25:32.329Z"
   },
   {
    "duration": 29,
    "start_time": "2022-01-14T19:25:32.352Z"
   },
   {
    "duration": 43,
    "start_time": "2022-01-14T19:25:32.384Z"
   },
   {
    "duration": 21,
    "start_time": "2022-01-14T19:25:32.428Z"
   },
   {
    "duration": 36,
    "start_time": "2022-01-14T19:25:32.450Z"
   },
   {
    "duration": 17,
    "start_time": "2022-01-14T19:33:00.530Z"
   },
   {
    "duration": 48,
    "start_time": "2022-01-14T19:33:00.549Z"
   },
   {
    "duration": 11,
    "start_time": "2022-01-14T19:33:00.599Z"
   },
   {
    "duration": 10,
    "start_time": "2022-01-14T19:33:00.612Z"
   },
   {
    "duration": 9,
    "start_time": "2022-01-14T19:33:00.624Z"
   },
   {
    "duration": 10,
    "start_time": "2022-01-14T19:33:00.635Z"
   },
   {
    "duration": 234,
    "start_time": "2022-01-14T19:33:00.646Z"
   },
   {
    "duration": 195,
    "start_time": "2022-01-14T19:33:00.881Z"
   },
   {
    "duration": 34,
    "start_time": "2022-01-14T19:33:01.078Z"
   },
   {
    "duration": 35,
    "start_time": "2022-01-14T19:33:01.114Z"
   },
   {
    "duration": 823,
    "start_time": "2022-01-14T19:33:01.151Z"
   },
   {
    "duration": 4,
    "start_time": "2022-01-14T19:33:01.976Z"
   },
   {
    "duration": 15,
    "start_time": "2022-01-14T19:33:01.981Z"
   },
   {
    "duration": 50,
    "start_time": "2022-01-14T19:33:01.998Z"
   },
   {
    "duration": 79,
    "start_time": "2022-01-14T19:33:02.049Z"
   },
   {
    "duration": 63,
    "start_time": "2022-01-14T19:33:02.129Z"
   },
   {
    "duration": 707,
    "start_time": "2022-01-14T19:33:02.193Z"
   },
   {
    "duration": 4965,
    "start_time": "2022-01-14T19:33:02.902Z"
   },
   {
    "duration": 446,
    "start_time": "2022-01-14T19:33:07.868Z"
   },
   {
    "duration": 924,
    "start_time": "2022-01-14T19:33:08.316Z"
   },
   {
    "duration": 24,
    "start_time": "2022-01-14T19:33:09.241Z"
   },
   {
    "duration": 20,
    "start_time": "2022-01-14T19:33:09.267Z"
   },
   {
    "duration": 36,
    "start_time": "2022-01-14T19:33:09.288Z"
   },
   {
    "duration": 29,
    "start_time": "2022-01-14T19:33:09.326Z"
   },
   {
    "duration": 30,
    "start_time": "2022-01-14T19:33:09.356Z"
   },
   {
    "duration": 40,
    "start_time": "2022-01-14T19:33:09.388Z"
   },
   {
    "duration": 37,
    "start_time": "2022-01-14T19:33:09.431Z"
   },
   {
    "duration": 43,
    "start_time": "2022-01-14T19:33:09.470Z"
   },
   {
    "duration": 32,
    "start_time": "2022-01-14T19:33:09.515Z"
   },
   {
    "duration": 43,
    "start_time": "2022-01-14T19:33:09.549Z"
   },
   {
    "duration": 18,
    "start_time": "2022-01-14T19:33:50.314Z"
   },
   {
    "duration": 3,
    "start_time": "2022-01-14T19:34:07.069Z"
   },
   {
    "duration": 61,
    "start_time": "2022-01-14T19:36:45.509Z"
   },
   {
    "duration": 612,
    "start_time": "2022-01-14T19:39:16.882Z"
   },
   {
    "duration": 20,
    "start_time": "2022-01-14T19:39:20.158Z"
   },
   {
    "duration": 368,
    "start_time": "2022-09-01T05:59:23.437Z"
   },
   {
    "duration": 675,
    "start_time": "2022-09-01T05:59:23.806Z"
   },
   {
    "duration": 28,
    "start_time": "2022-09-01T05:59:24.482Z"
   },
   {
    "duration": 19,
    "start_time": "2022-09-01T05:59:24.512Z"
   },
   {
    "duration": 20,
    "start_time": "2022-09-01T05:59:24.533Z"
   },
   {
    "duration": 15,
    "start_time": "2022-09-01T05:59:24.555Z"
   },
   {
    "duration": 554,
    "start_time": "2022-09-01T05:59:24.571Z"
   },
   {
    "duration": 144,
    "start_time": "2022-09-01T05:59:25.127Z"
   },
   {
    "duration": 30,
    "start_time": "2022-09-01T05:59:25.272Z"
   },
   {
    "duration": 28,
    "start_time": "2022-09-01T05:59:25.304Z"
   },
   {
    "duration": 465,
    "start_time": "2022-09-01T05:59:25.333Z"
   },
   {
    "duration": 3,
    "start_time": "2022-09-01T05:59:25.800Z"
   },
   {
    "duration": 26,
    "start_time": "2022-09-01T05:59:25.805Z"
   },
   {
    "duration": 191,
    "start_time": "2022-09-01T05:59:25.834Z"
   },
   {
    "duration": 182,
    "start_time": "2022-09-01T05:59:26.026Z"
   },
   {
    "duration": 126,
    "start_time": "2022-09-01T05:59:26.210Z"
   },
   {
    "duration": 1100,
    "start_time": "2022-09-01T05:59:26.337Z"
   },
   {
    "duration": 19,
    "start_time": "2022-09-01T05:59:27.439Z"
   },
   {
    "duration": 6,
    "start_time": "2022-09-01T05:59:27.459Z"
   },
   {
    "duration": 5542,
    "start_time": "2022-09-01T05:59:27.466Z"
   },
   {
    "duration": 188,
    "start_time": "2022-09-01T05:59:33.010Z"
   },
   {
    "duration": 602,
    "start_time": "2022-09-01T05:59:33.199Z"
   },
   {
    "duration": 22,
    "start_time": "2022-09-01T05:59:33.802Z"
   },
   {
    "duration": 19,
    "start_time": "2022-09-01T05:59:33.826Z"
   },
   {
    "duration": 28,
    "start_time": "2022-09-01T05:59:33.846Z"
   },
   {
    "duration": 27,
    "start_time": "2022-09-01T05:59:33.876Z"
   },
   {
    "duration": 23,
    "start_time": "2022-09-01T05:59:33.905Z"
   },
   {
    "duration": 20,
    "start_time": "2022-09-01T05:59:33.930Z"
   },
   {
    "duration": 51,
    "start_time": "2022-09-01T05:59:33.951Z"
   },
   {
    "duration": 25,
    "start_time": "2022-09-01T05:59:34.004Z"
   },
   {
    "duration": 22,
    "start_time": "2022-09-01T05:59:34.031Z"
   },
   {
    "duration": 63,
    "start_time": "2022-09-01T05:59:34.055Z"
   }
  ],
  "kernelspec": {
   "display_name": "Python 3 (ipykernel)",
   "language": "python",
   "name": "python3"
  },
  "language_info": {
   "codemirror_mode": {
    "name": "ipython",
    "version": 3
   },
   "file_extension": ".py",
   "mimetype": "text/x-python",
   "name": "python",
   "nbconvert_exporter": "python",
   "pygments_lexer": "ipython3",
   "version": "3.10.6"
  },
  "toc": {
   "base_numbering": 1,
   "nav_menu": {},
   "number_sections": false,
   "sideBar": true,
   "skip_h1_title": false,
   "title_cell": "Table of Contents",
   "title_sidebar": "Contents",
   "toc_cell": false,
   "toc_position": {
    "height": "calc(100% - 180px)",
    "left": "10px",
    "top": "150px",
    "width": "383.188px"
   },
   "toc_section_display": true,
   "toc_window_display": true
  }
 },
 "nbformat": 4,
 "nbformat_minor": 4
}
