{
 "cells": [
  {
   "cell_type": "markdown",
   "metadata": {
    "id": "rTbnD8lLEDq2"
   },
   "source": [
    "# Модель классификации для выбора подходящего мобильного тарифа \n",
    "\n",
    "Оператор мобильной связи «Мегалайн» выяснил: многие клиенты пользуются архивными тарифами. Они хотят построить систему, способную проанализировать поведение клиентов и предложить пользователям новый тариф: «Смарт» или «Ультра».\n",
    "В распоряжении данные о поведении клиентов, которые уже перешли на эти тарифы. Нужно построить модель для задачи классификации, которая выберет подходящий тариф. Предобработка данных не требуется, так как была сделана ранее.\n",
    "Цель работы - построить модель классификации с максимально большим значением Accuracy.\n",
    "\n",
    "План работы\n",
    "1. Открыть файл с данными и изучить его. Путь к файлу: datasets/users_behavior.csv. \n",
    "2. Разделить исходные данные на обучающую, валидационную и тестовую выборки.\n",
    "3. Исследовать качество разных моделей, меняя гиперпараметры.\n",
    "4. Проверить качество модели на тестовой выборке.\n",
    "5. Дополнительное задание: проверить модели на вменяемость. "
   ]
  },
  {
   "cell_type": "code",
   "execution_count": 1,
   "metadata": {
    "id": "ECZRFCfPEDq6"
   },
   "outputs": [],
   "source": [
    "# Импорт библиотек\n",
    "import pandas as pd\n",
    "\n",
    "from sklearn.model_selection import train_test_split\n",
    "from sklearn.tree import DecisionTreeClassifier\n",
    "from sklearn.ensemble import RandomForestClassifier\n",
    "from sklearn.linear_model import LogisticRegression\n",
    "from sklearn.metrics import accuracy_score, recall_score, precision_score\n",
    "from sklearn.dummy import DummyClassifier"
   ]
  },
  {
   "cell_type": "markdown",
   "metadata": {
    "id": "hwcxjCNOEDq3"
   },
   "source": [
    "## Шаг 1. Открытие файла с данными и изучение общей информации"
   ]
  },
  {
   "cell_type": "code",
   "execution_count": 2,
   "metadata": {
    "colab": {
     "base_uri": "https://localhost:8080/",
     "height": 715
    },
    "id": "qmiD9FznEDq8",
    "outputId": "fcc84017-9d9e-4835-f690-c38b1ce53ed7"
   },
   "outputs": [
    {
     "name": "stdout",
     "output_type": "stream",
     "text": [
      "<class 'pandas.core.frame.DataFrame'>\n",
      "RangeIndex: 3214 entries, 0 to 3213\n",
      "Data columns (total 5 columns):\n",
      " #   Column    Non-Null Count  Dtype  \n",
      "---  ------    --------------  -----  \n",
      " 0   calls     3214 non-null   float64\n",
      " 1   minutes   3214 non-null   float64\n",
      " 2   messages  3214 non-null   float64\n",
      " 3   mb_used   3214 non-null   float64\n",
      " 4   is_ultra  3214 non-null   int64  \n",
      "dtypes: float64(4), int64(1)\n",
      "memory usage: 125.7 KB\n"
     ]
    },
    {
     "data": {
      "text/html": [
       "<div>\n",
       "<style scoped>\n",
       "    .dataframe tbody tr th:only-of-type {\n",
       "        vertical-align: middle;\n",
       "    }\n",
       "\n",
       "    .dataframe tbody tr th {\n",
       "        vertical-align: top;\n",
       "    }\n",
       "\n",
       "    .dataframe thead th {\n",
       "        text-align: right;\n",
       "    }\n",
       "</style>\n",
       "<table border=\"1\" class=\"dataframe\">\n",
       "  <thead>\n",
       "    <tr style=\"text-align: right;\">\n",
       "      <th></th>\n",
       "      <th>calls</th>\n",
       "      <th>minutes</th>\n",
       "      <th>messages</th>\n",
       "      <th>mb_used</th>\n",
       "      <th>is_ultra</th>\n",
       "    </tr>\n",
       "  </thead>\n",
       "  <tbody>\n",
       "    <tr>\n",
       "      <th>0</th>\n",
       "      <td>40.0</td>\n",
       "      <td>311.90</td>\n",
       "      <td>83.0</td>\n",
       "      <td>19915.42</td>\n",
       "      <td>0</td>\n",
       "    </tr>\n",
       "    <tr>\n",
       "      <th>1</th>\n",
       "      <td>85.0</td>\n",
       "      <td>516.75</td>\n",
       "      <td>56.0</td>\n",
       "      <td>22696.96</td>\n",
       "      <td>0</td>\n",
       "    </tr>\n",
       "    <tr>\n",
       "      <th>2</th>\n",
       "      <td>77.0</td>\n",
       "      <td>467.66</td>\n",
       "      <td>86.0</td>\n",
       "      <td>21060.45</td>\n",
       "      <td>0</td>\n",
       "    </tr>\n",
       "    <tr>\n",
       "      <th>3</th>\n",
       "      <td>106.0</td>\n",
       "      <td>745.53</td>\n",
       "      <td>81.0</td>\n",
       "      <td>8437.39</td>\n",
       "      <td>1</td>\n",
       "    </tr>\n",
       "    <tr>\n",
       "      <th>4</th>\n",
       "      <td>66.0</td>\n",
       "      <td>418.74</td>\n",
       "      <td>1.0</td>\n",
       "      <td>14502.75</td>\n",
       "      <td>0</td>\n",
       "    </tr>\n",
       "  </tbody>\n",
       "</table>\n",
       "</div>"
      ],
      "text/plain": [
       "   calls  minutes  messages   mb_used  is_ultra\n",
       "0   40.0   311.90      83.0  19915.42         0\n",
       "1   85.0   516.75      56.0  22696.96         0\n",
       "2   77.0   467.66      86.0  21060.45         0\n",
       "3  106.0   745.53      81.0   8437.39         1\n",
       "4   66.0   418.74       1.0  14502.75         0"
      ]
     },
     "metadata": {},
     "output_type": "display_data"
    },
    {
     "data": {
      "text/html": [
       "<div>\n",
       "<style scoped>\n",
       "    .dataframe tbody tr th:only-of-type {\n",
       "        vertical-align: middle;\n",
       "    }\n",
       "\n",
       "    .dataframe tbody tr th {\n",
       "        vertical-align: top;\n",
       "    }\n",
       "\n",
       "    .dataframe thead th {\n",
       "        text-align: right;\n",
       "    }\n",
       "</style>\n",
       "<table border=\"1\" class=\"dataframe\">\n",
       "  <thead>\n",
       "    <tr style=\"text-align: right;\">\n",
       "      <th></th>\n",
       "      <th>calls</th>\n",
       "      <th>minutes</th>\n",
       "      <th>messages</th>\n",
       "      <th>mb_used</th>\n",
       "      <th>is_ultra</th>\n",
       "    </tr>\n",
       "  </thead>\n",
       "  <tbody>\n",
       "    <tr>\n",
       "      <th>count</th>\n",
       "      <td>3214.000000</td>\n",
       "      <td>3214.000000</td>\n",
       "      <td>3214.000000</td>\n",
       "      <td>3214.000000</td>\n",
       "      <td>3214.000000</td>\n",
       "    </tr>\n",
       "    <tr>\n",
       "      <th>mean</th>\n",
       "      <td>63.038892</td>\n",
       "      <td>438.208787</td>\n",
       "      <td>38.281269</td>\n",
       "      <td>17207.673836</td>\n",
       "      <td>0.306472</td>\n",
       "    </tr>\n",
       "    <tr>\n",
       "      <th>std</th>\n",
       "      <td>33.236368</td>\n",
       "      <td>234.569872</td>\n",
       "      <td>36.148326</td>\n",
       "      <td>7570.968246</td>\n",
       "      <td>0.461100</td>\n",
       "    </tr>\n",
       "    <tr>\n",
       "      <th>min</th>\n",
       "      <td>0.000000</td>\n",
       "      <td>0.000000</td>\n",
       "      <td>0.000000</td>\n",
       "      <td>0.000000</td>\n",
       "      <td>0.000000</td>\n",
       "    </tr>\n",
       "    <tr>\n",
       "      <th>25%</th>\n",
       "      <td>40.000000</td>\n",
       "      <td>274.575000</td>\n",
       "      <td>9.000000</td>\n",
       "      <td>12491.902500</td>\n",
       "      <td>0.000000</td>\n",
       "    </tr>\n",
       "    <tr>\n",
       "      <th>50%</th>\n",
       "      <td>62.000000</td>\n",
       "      <td>430.600000</td>\n",
       "      <td>30.000000</td>\n",
       "      <td>16943.235000</td>\n",
       "      <td>0.000000</td>\n",
       "    </tr>\n",
       "    <tr>\n",
       "      <th>75%</th>\n",
       "      <td>82.000000</td>\n",
       "      <td>571.927500</td>\n",
       "      <td>57.000000</td>\n",
       "      <td>21424.700000</td>\n",
       "      <td>1.000000</td>\n",
       "    </tr>\n",
       "    <tr>\n",
       "      <th>max</th>\n",
       "      <td>244.000000</td>\n",
       "      <td>1632.060000</td>\n",
       "      <td>224.000000</td>\n",
       "      <td>49745.730000</td>\n",
       "      <td>1.000000</td>\n",
       "    </tr>\n",
       "  </tbody>\n",
       "</table>\n",
       "</div>"
      ],
      "text/plain": [
       "             calls      minutes     messages       mb_used     is_ultra\n",
       "count  3214.000000  3214.000000  3214.000000   3214.000000  3214.000000\n",
       "mean     63.038892   438.208787    38.281269  17207.673836     0.306472\n",
       "std      33.236368   234.569872    36.148326   7570.968246     0.461100\n",
       "min       0.000000     0.000000     0.000000      0.000000     0.000000\n",
       "25%      40.000000   274.575000     9.000000  12491.902500     0.000000\n",
       "50%      62.000000   430.600000    30.000000  16943.235000     0.000000\n",
       "75%      82.000000   571.927500    57.000000  21424.700000     1.000000\n",
       "max     244.000000  1632.060000   224.000000  49745.730000     1.000000"
      ]
     },
     "execution_count": 2,
     "metadata": {},
     "output_type": "execute_result"
    }
   ],
   "source": [
    "df = pd.read_csv('f:/yandex-practicum/datasets/users_behavior.csv')\n",
    "\n",
    "df.info() # просмотр размера таблицы, типов данных, количества non-null\n",
    "display(df.head()) # просмотр первых строк данных\n",
    "df.describe()\n"
   ]
  },
  {
   "cell_type": "code",
   "execution_count": 3,
   "metadata": {
    "colab": {
     "base_uri": "https://localhost:8080/"
    },
    "id": "boOBl2AWyl7r",
    "outputId": "2ddac067-0d9b-4bc0-da7a-8d99e7b8ff4b"
   },
   "outputs": [
    {
     "data": {
      "text/plain": [
       "0"
      ]
     },
     "execution_count": 3,
     "metadata": {},
     "output_type": "execute_result"
    }
   ],
   "source": [
    "df.duplicated().sum() # поиск явных дубликатов"
   ]
  },
  {
   "cell_type": "code",
   "execution_count": 4,
   "metadata": {
    "colab": {
     "base_uri": "https://localhost:8080/"
    },
    "id": "k8EzDeo_ypVb",
    "outputId": "9df3a839-c0a7-4847-e53f-b473185e5fad"
   },
   "outputs": [
    {
     "data": {
      "text/plain": [
       "calls         int32\n",
       "minutes     float64\n",
       "messages      int32\n",
       "mb_used     float64\n",
       "is_ultra      int64\n",
       "dtype: object"
      ]
     },
     "execution_count": 4,
     "metadata": {},
     "output_type": "execute_result"
    }
   ],
   "source": [
    "df['calls'] = df['calls'].astype(int)\n",
    "df['messages'] = df['messages'].astype(int)\n",
    "df.dtypes"
   ]
  },
  {
   "cell_type": "code",
   "execution_count": 5,
   "metadata": {
    "colab": {
     "base_uri": "https://localhost:8080/",
     "height": 403
    },
    "id": "ceMQtYdNzwWy",
    "outputId": "bf2234b1-067b-439c-9025-c3a1538cfc60"
   },
   "outputs": [
    {
     "data": {
      "image/png": "[encoded data removed]",
      "text/plain": [
       "<Figure size 640x480 with 6 Axes>"
      ]
     },
     "metadata": {},
     "output_type": "display_data"
    }
   ],
   "source": [
    "df.hist();"
   ]
  },
  {
   "cell_type": "markdown",
   "metadata": {
    "id": "rly1YcJYEDq9"
   },
   "source": [
    "### Вывод\n",
    "Данные содержат 3214 записей. Каждый строка в наборе данных — это информация о поведении одного пользователя за месяц. Известно:\n",
    "сalls — количество звонков,\n",
    "minutes — суммарная длительность звонков в минутах,\n",
    "messages — количество sms-сообщений,\n",
    "mb_used — израсходованный интернет-трафик в Мб,\n",
    "is_ultra — каким тарифом пользовался в течение месяца («Ультра» — 1, «Смарт» — 0).\n",
    "\n",
    "Пропусков в данных нет. Явных дубликатов нет. Выбросов в данных нет.\n",
    "\n",
    "Данные в столбцах calls и messages преобразованы в целочисленные. "
   ]
  },
  {
   "cell_type": "markdown",
   "metadata": {
    "id": "y_HCiaskEDq-"
   },
   "source": [
    "## Шаг 2. Подготовка данных. Разделение исходных данных на обучающую, валидационную и тестовую выборки\n",
    "\n",
    "В качестве признаков используются минуты, сообщения, трафик. Количество звонков исключено из признаков, т.к. в явном виде не участвует в тарификации. \n",
    "Целевой признак - тариф. Обучающая, валидационная и тестовая выборки разбиваются в пропорции 3:1:1\n",
    "\n",
    "\n"
   ]
  },
  {
   "cell_type": "code",
   "execution_count": 6,
   "metadata": {
    "colab": {
     "base_uri": "https://localhost:8080/"
    },
    "id": "xjrvUVtEEDrA",
    "outputId": "80fdc76a-b96a-4b3b-ec31-095536772266"
   },
   "outputs": [
    {
     "name": "stdout",
     "output_type": "stream",
     "text": [
      "Доли тарифа Ультра в выборках: 0.30549792531120334 0.3048211508553655 0.3110419906687403\n"
     ]
    }
   ],
   "source": [
    "features = df.drop(['is_ultra','calls'],axis=1)# признаки \n",
    "target = df['is_ultra']# целевой признак\n",
    "features_train, features_valid, target_train, target_valid = train_test_split(\n",
    "    features, target, test_size=.20, random_state=12345)\n",
    "\n",
    "features_train, features_test, target_train, target_test = train_test_split(\n",
    "    features_train, target_train, test_size=.25, random_state=12345)\n",
    "print('Доли тарифа Ультра в выборках:', target_train.mean(), target_valid.mean(),target_test.mean())\n",
    " "
   ]
  },
  {
   "cell_type": "code",
   "execution_count": 7,
   "metadata": {},
   "outputs": [
    {
     "name": "stdout",
     "output_type": "stream",
     "text": [
      "Размер выборки features_train: (1928, 3)\n",
      "Размер выборки features_valid: (643, 3)\n",
      "Размер выборки features_test: (643, 3)\n",
      "Размер выборки target_train: (1928,)\n",
      "Размер выборки target_valid: (643,)\n",
      "Размер выборки target_test: (643,)\n"
     ]
    }
   ],
   "source": [
    "# Размеры выборок\n",
    "for name,i in zip(['features_train', 'features_valid', 'features_test', 'target_train','target_valid', 'target_test'],\n",
    "    [features_train, features_valid, features_test, target_train,target_valid, target_test]):\n",
    "    print(f'Размер выборки {name}: {i.shape}')"
   ]
  },
  {
   "cell_type": "markdown",
   "metadata": {
    "id": "-yGtNGHVOeru"
   },
   "source": [
    "### Вывод\n",
    "Данные (3214 записей) разбиты на 3 части тренировочную, валидационную и тестовую выборки в пропорции 3:1:1. \n",
    "признаки и целевой признак (тариф) разделены по разным переменным.\n",
    "Доли каждого тарифа в разных выборках примерно равны."
   ]
  },
  {
   "cell_type": "markdown",
   "metadata": {
    "id": "1lZbT_DsIkUY"
   },
   "source": [
    "## Шаг 3. Исследование качества разных моделей с разными гиперпараметрами\n",
    "\n",
    "Создаются и анализируются модели классификации: \n",
    "- Решающее дерево\n",
    "- Случайный лес\n",
    "- Логистическая регрессия"
   ]
  },
  {
   "cell_type": "markdown",
   "metadata": {
    "id": "1nKHA5GVN9VU"
   },
   "source": [
    "### 3.1. Решающее дерево"
   ]
  },
  {
   "cell_type": "code",
   "execution_count": 8,
   "metadata": {
    "colab": {
     "base_uri": "https://localhost:8080/"
    },
    "id": "Yc6bjr2I-med",
    "outputId": "80e5eb78-a3ea-4235-cbcd-cee4d544c514"
   },
   "outputs": [
    {
     "name": "stdout",
     "output_type": "stream",
     "text": [
      "Accuracy лучшей модели решающего дерева: 0.80715\n",
      "Гиперпараметры: max_depth - 12, criterion - gini, splitter - random, min_samples_split - 11\n",
      "Метрики: точность - 0.76087, полнота - 0.53571\n"
     ]
    }
   ],
   "source": [
    "# Решающее дерево\n",
    "best_accuracy = 0\n",
    "for splitt in ['best', 'random']:\n",
    "  for criter in ['gini', 'entropy']:\n",
    "    for min_samples_split_i in range(10,20):\n",
    "      for depth in range (7,15):\n",
    "        model = DecisionTreeClassifier(\n",
    "            random_state=12345, max_depth=depth, criterion=criter, splitter=splitt,\n",
    "            min_samples_split=min_samples_split_i)\n",
    "        model.fit(features_train, target_train)\n",
    "        accuracy = accuracy_score(target_valid, model.predict(features_valid))\n",
    "        #accuracy = min(model.score(features_train, target_train), model.score(features_valid, target_valid))        \n",
    "        if accuracy > best_accuracy:\n",
    "          best_accuracy = accuracy\n",
    "          best_tree_model = model\n",
    "          best_depth = depth\n",
    "          best_criterion = criter\n",
    "          best_splitter = splitt\n",
    "          best_min_samples_split = min_samples_split_i\n",
    "#было print(\"Accuracy лучшей модели решающего дерева:\", best_accuracy, \n",
    "#      'при максимальной глубине', best_depth, \n",
    "#      criter, best_splitter, best_min_samples_split)\n",
    "print(f\"Accuracy лучшей модели решающего дерева: {best_accuracy:.5f}\") \n",
    "print(f\"Гиперпараметры: max_depth - {best_depth}, criterion - {best_criterion}, splitter - {best_splitter}, min_samples_split - {best_min_samples_split}\") \n",
    "print(f\"Метрики: точность - {precision_score(target_valid, best_tree_model.predict(features_valid)):.5f}, полнота - {recall_score(target_valid, best_tree_model.predict(features_valid)):.5f}\")\n",
    "\n",
    "\n",
    "#0.807153965785381 при максимальной глубине 12 entropy random 11"
   ]
  },
  {
   "cell_type": "markdown",
   "metadata": {
    "id": "J31x-McXODva"
   },
   "source": [
    "### 3.2. Случайный лес"
   ]
  },
  {
   "cell_type": "code",
   "execution_count": 9,
   "metadata": {
    "colab": {
     "base_uri": "https://localhost:8080/"
    },
    "id": "C6b6AtA47PiF",
    "outputId": "d3c60d82-9519-4967-a201-3c24a5e56f19"
   },
   "outputs": [
    {
     "name": "stdout",
     "output_type": "stream",
     "text": [
      "Accuracy лучшей модели случаного леса: 0.80560\n",
      "Гиперпараметры: n_estimators - 4, max_depth - 9, criterion - entropy, min_samples_split - 14\n",
      "Метрики: точность - 0.77519, полнота - 0.51020\n"
     ]
    }
   ],
   "source": [
    "# Случайный лес\n",
    "best_accuracy = 0\n",
    "for n_estimator in range(2,7):\n",
    "  for criter in ['gini', 'entropy']:\n",
    "    for min_samples_split_i in range(7,16):\n",
    "      for depth in range (5,11):\n",
    "        model = RandomForestClassifier(random_state=12345, n_estimators=n_estimator,\n",
    "            max_depth=depth, criterion=criter,\n",
    "            min_samples_split=min_samples_split_i)\n",
    "        model.fit(features_train, target_train)\n",
    "        accuracy = accuracy_score(target_valid, model.predict(features_valid)) \n",
    "        if accuracy > best_accuracy:\n",
    "          best_accuracy = accuracy\n",
    "          best_forest_model = model\n",
    "          best_depth = depth\n",
    "          best_criterion = criter\n",
    "          best_n_estimator = n_estimator\n",
    "          best_min_samples_split = min_samples_split_i\n",
    "#print(\"Accuracy лучшей модели случаного леса:\", best_accuracy, \n",
    "#      'при максимальной глубине', best_depth, \n",
    "#      criter, best_n_estimator, best_min_samples_split)\n",
    "print(f\"Accuracy лучшей модели случаного леса: {best_accuracy:.5f}\") \n",
    "print(f\"Гиперпараметры: n_estimators - {best_n_estimator}, max_depth - {best_depth}, criterion - {best_criterion}, min_samples_split - {best_min_samples_split}\") \n",
    "print(f\"Метрики: точность - {precision_score(target_valid, best_forest_model.predict(features_valid)):.5f}, полнота - {recall_score(target_valid, best_forest_model.predict(features_valid)):.5f}\")\n",
    "\n",
    "#Accuracy лучшей модели случаного леса: 0.8055987558320373 при максимальной глубине 9 entropy 4 14"
   ]
  },
  {
   "cell_type": "markdown",
   "metadata": {
    "id": "rKRkqtG0OHn9"
   },
   "source": [
    "### 3.3. Логистическая регрессия"
   ]
  },
  {
   "cell_type": "code",
   "execution_count": 10,
   "metadata": {
    "colab": {
     "base_uri": "https://localhost:8080/"
    },
    "id": "5IKniQBfEXAB",
    "outputId": "a3676da8-74b7-42c5-ff36-b3d1f849005a"
   },
   "outputs": [
    {
     "name": "stdout",
     "output_type": "stream",
     "text": [
      "Accuracy лучшей модели логистической регрессии: 0.75894\n",
      "Гиперпараметры: solver - lbfgs, max_iter - 100\n",
      "Метрики: точность - 0.88679, полнота - 0.23980\n"
     ]
    }
   ],
   "source": [
    "#Логистическая регрессия\n",
    "best_accuracy = 0\n",
    "#for penalty in ['l1', 'l2', 'elasticnet', 'none']:\n",
    "for solver in ['lbfgs', 'liblinear']:# ,'newton-cg'  ,'sag', 'saga'\n",
    "  for max_iter in range(100,150,10):\n",
    "    model = LogisticRegression(random_state=12345, solver=solver, max_iter=max_iter)\n",
    "    model.fit(features_train, target_train)\n",
    "    accuracy = model.score(features_valid, target_valid)\n",
    "    #accuracy = min(model.score(features_train, target_train), model.score(features_valid, target_valid))\n",
    "    if accuracy > best_accuracy:\n",
    "      best_accuracy = accuracy\n",
    "      best_regression_model = model\n",
    "      best_solver = solver\n",
    "      best_max_iter = max_iter\n",
    "#print(\"Accuracy лучшей модели логистической регрессии:\", best_accuracy, best_solver, \n",
    "#      best_max_iter)\n",
    "print(f\"Accuracy лучшей модели логистической регрессии: {best_accuracy:.5f}\") \n",
    "print(f\"Гиперпараметры: solver - {best_solver}, max_iter - {best_max_iter}\") \n",
    "print(f\"Метрики: точность - {precision_score(target_valid, best_regression_model.predict(features_valid)):.5f}, полнота - {recall_score(target_valid, best_regression_model.predict(features_valid)):.5f}\")\n"
   ]
  },
  {
   "cell_type": "markdown",
   "metadata": {
    "id": "B2yaxyXyEDrG"
   },
   "source": [
    "### Вывод\n",
    "Для моделей Решающее дерево, Случайный лес, Логистическая регрессия подобраны гиперпараметры максимизирующие качество модели на валидационной выборке.\n",
    "Наилучшее качество модели (accuracy = 0.807) наблюдается у решающего дерева\n",
    "с параметрами max_depth=12, criterion=entropy, splitter='random', min_samples_split=11, для Случайного леса наилучшее качество модели (accuracy = 0.8056) при гиперпараметрах n_estimators=4, max_depth=9, criterion=entropy, min_samples_split=14.\n",
    "случайные ответы дадут accuracy = 0.5, созданные модели качественнее  "
   ]
  },
  {
   "cell_type": "markdown",
   "metadata": {
    "id": "C2ekaVuoRSEE"
   },
   "source": [
    "## Шаг 4. Проверка качества моделей на тестовой выборке\n",
    "\n",
    "Рассматриваются модели: \n",
    "- Решающее дерево\n",
    "- Случайный лес\n",
    "- Логистическая регрессия"
   ]
  },
  {
   "cell_type": "code",
   "execution_count": 11,
   "metadata": {
    "colab": {
     "base_uri": "https://localhost:8080/"
    },
    "id": "KkKtWlQhRjO6",
    "outputId": "fa34aef7-ff93-4a18-f538-044ba3d97a6a"
   },
   "outputs": [
    {
     "name": "stdout",
     "output_type": "stream",
     "text": [
      "Accuracy тестовой выборки лучшей модели решающего дерева: 0.7729393468118196\n",
      "Accuracy тестовой выборки лучшей модели случайного леса: 0.7807153965785381\n",
      "Accuracy тестовой выборки лучшей модели логистической регрессии: 0.7262830482115086\n",
      "Точность (tp / (tp + fp)): 0.684931506849315 0.7322834645669292 0.74\n",
      "Полнота (tp / (tp + fn)): 0.5 0.465 0.185\n"
     ]
    }
   ],
   "source": [
    "print(\"Accuracy тестовой выборки лучшей модели решающего дерева:\", best_tree_model.score(features_test, target_test))\n",
    "print(\"Accuracy тестовой выборки лучшей модели случайного леса:\", best_forest_model.score(features_test, target_test))\n",
    "print(\"Accuracy тестовой выборки лучшей модели логистической регрессии:\", best_regression_model.score(features_test, target_test))\n",
    "\n",
    "print('Точность (tp / (tp + fp)):',\n",
    "      precision_score(target_test, best_tree_model.predict(features_test)),\n",
    "      precision_score(target_test, best_forest_model.predict(features_test)),\n",
    "      precision_score(target_test, best_regression_model.predict(features_test)))\n",
    "\n",
    "print('Полнота (tp / (tp + fn)):',\n",
    "      recall_score(target_test, best_tree_model.predict(features_test)),\n",
    "      recall_score(target_test, best_forest_model.predict(features_test)),\n",
    "      recall_score(target_test, best_regression_model.predict(features_test)))\n"
   ]
  },
  {
   "cell_type": "markdown",
   "metadata": {
    "id": "o1jcnwf3EDrB"
   },
   "source": [
    "### Вывод\n",
    "Для моделей Решающее дерево и Случайный лес при сравнимых accuracy на валидационных выборках, качество моделей на тестовых выборках немного ниже и составляет 0,7729 и 0,7807 соответственно. Для логистической регрессии качество модели ниже: на валидационной - 0,7589, на тестовой - 0,7262\n"
   ]
  },
  {
   "cell_type": "markdown",
   "metadata": {
    "id": "dtWzW4Z4eZyo"
   },
   "source": [
    "## Шаг 5. Проверка вменяемости модели\n",
    "Проверка адекватности модели, анализ результатов предсказаний"
   ]
  },
  {
   "cell_type": "code",
   "execution_count": 12,
   "metadata": {},
   "outputs": [
    {
     "name": "stdout",
     "output_type": "stream",
     "text": [
      "0    0.688958\n",
      "1    0.311042\n",
      "Name: is_ultra, dtype: float64\n",
      "Accuracy константной модели: 0.689\n"
     ]
    }
   ],
   "source": [
    "# доли классов целевого признака\n",
    "print (target_test.value_counts(normalize=True))\n",
    "# предсказание константной модели\n",
    "\n",
    "dummy_clf = DummyClassifier(strategy=\"most_frequent\")\n",
    "dummy_clf.fit(features_train, target_train)\n",
    "dummy_clf.predict(features_test)\n",
    "print(f\"Accuracy константной модели: {accuracy_score(target_test,dummy_clf.predict(features_test)):.3f}\") "
   ]
  },
  {
   "cell_type": "markdown",
   "metadata": {},
   "source": [
    "Accuracy обученной и улучшеной модели случайного леса (0,78) превышает accuracy константой модели (0,69) на 0,09. \n",
    "    \n",
    "Целесообразно предсказывать клиентов, которым может подойти более дорогой тариф, т.е. \"1\" в целевом признаке. Точность и полнота предсказаний для случайного леса  0.732 и  0.465 , т.е. 73% предсказаний о переходе на дорогой тариф верны, 27 процентам предсказаных клиентов дорогой тариф не подойдет. Из всех клиентов, которым может подойти дорогой тариф, модель предсказывает только 46,5%.\n"
   ]
  },
  {
   "cell_type": "markdown",
   "metadata": {},
   "source": [
    "Для проверки корректности результатов предсказаний моделей решающего дерева и случайного леса используются записи с максимальными затратами минут смс и трафика для каждого тарифа\n",
    "\n",
    "Описание тарифов\n",
    "- Тариф «Смарт»\n",
    "Включено 500 минут разговора, 50 сообщений и 15 Гб интернет-трафика\n",
    "Ежемесячная плата: 550 рублей. Стоимость услуг сверх тарифного пакета: минута разговора- 3 рубля, сообщение- 3 рубля, 1 Гб интернет-трафика- 200 рублей\n",
    "- Тариф «Ультра»\n",
    "Включено 3000 минут разговора, 1000 сообщений и 30 Гб интернет-трафика\n",
    "Ежемесячная плата: 1950 рублей. Стоимость услуг сверх тарифного пакета:\n",
    "минута разговора - 1 рубль\n",
    "сообщение - 1 рубль\n",
    "1 Гб интернет-трафика - 150 рублей"
   ]
  },
  {
   "cell_type": "code",
   "execution_count": 13,
   "metadata": {
    "colab": {
     "base_uri": "https://localhost:8080/"
    },
    "id": "uPl4jh1dehrK",
    "outputId": "c7eec3a0-0aed-4978-fe0b-e4d5d574c585"
   },
   "outputs": [
    {
     "name": "stdout",
     "output_type": "stream",
     "text": [
      "[1 1 1 1 1] [1 0 1 1 1] [0 1 1 1 1]\n"
     ]
    }
   ],
   "source": [
    "features_ultra = pd.DataFrame({'minutes':[0, 0, 3000,3000,1500], 'messages':[0, 1000, 0,1000,500], 'mb_used':[30720, 0, 0,30720,15360]})\n",
    "print(best_forest_model.predict(features_ultra), best_tree_model.predict(features_ultra), best_regression_model.predict(features_ultra))\n"
   ]
  },
  {
   "cell_type": "code",
   "execution_count": 14,
   "metadata": {
    "colab": {
     "base_uri": "https://localhost:8080/"
    },
    "id": "2gfc6oq4g_tj",
    "outputId": "69598741-f16b-4a42-b430-bdeb98ac27f4"
   },
   "outputs": [
    {
     "name": "stdout",
     "output_type": "stream",
     "text": [
      "[1 1 1 0 0] [0 1 1 0 0] [0 0 0 0 0]\n"
     ]
    }
   ],
   "source": [
    "features_smart = pd.DataFrame({'minutes':[0, 0, 500,500,250], 'messages':[0, 50, 0,50,25], 'mb_used':[15360, 0, 0,15360,7680]})\n",
    "print(best_forest_model.predict(features_smart), best_tree_model.predict(features_smart), best_regression_model.predict(features_smart))\n"
   ]
  },
  {
   "cell_type": "markdown",
   "metadata": {
    "id": "c1j0OGOEhmup"
   },
   "source": [
    "### Вывод\n",
    "Для проверки адекватности модели получена метрика константной модели, которая совпадает с долей частого класса и равняется 0.69.\n",
    "\n",
    "Дополнительно для анализа корректности результатов работы модели предсказаны тарифы для характерных использований услуг связи: \n",
    "1-3. полностью использован лимит одной из услуг тарифа; 4. полностью использован лимит всех услуг тарифа; 5. использована половина лимита каждой услуги.\n",
    "В результате анализа установлено: \n",
    "- модель случайного леса при полном использовании только одной из 3х услуг тарифа Смарт рекомендует перейти на тариф Ультра, что не может считаться корректной рекомендацией, однако при использовании всех услуг пакета (полностью или половины) правильно рекомендует использовать тариф Смарт.\n",
    "- модель решающего дерева имеет схожие проблемы: при полном использовании сообщений или минут пакета смарт некорректно рекомендует перейти на тариф Ультра, при полном использовании пакета сообщений тарифа Ультра некорректно рекомендует перейти на тариф Смарт.\n",
    "- модель логистической регрессии выдает наиболее адекватные рекомендации, но некорректно рекомендует перейти на смарт только при использовании полного  пакета интернета тарифа Ультра"
   ]
  },
  {
   "cell_type": "markdown",
   "metadata": {
    "id": "wqZ4CqaplpY3",
    "tags": []
   },
   "source": [
    "## Шаг 6. Общий вывод\n",
    "\n",
    "\n",
    "В ходе разработки модели классификации для выбора подходящего тарифа оператора \"Мегалайн\" было выполнено: \n",
    "1. Открыт и изучен файл с данными.\n",
    "2. Исходные данные разделены на обучающую, валидационную и тестовую выборки в пропорции 3:1:1. Выделены признаки: количество минут, сообщений и интернет трафика. Выделен целевой признак - тариф.\n",
    "3. Построены модели классификации: решающее дерево, случайный лес, логистическая регрессия. Исследовано влияние гиперпараметров на качество моделй. Выбраны наилучшие модели в каждом классе. \n",
    "4. Проверено качество моделей на тестовой выборке. \n",
    "5. Модели проверены на адекватность. Качество всех разработанных моделей выше качества константной модели.\n",
    "\n",
    "Дополнительно для анализа корректности результатов работы модели предсказаны тарифы для характерных использований услуг связи: \n",
    "1-3. полностью использован лимит одной из услуг тарифа; 4. полностью использован лимит всех услуг тарифа; 5. использована половина лимита каждой услуги.\n",
    "В результате анализа установлено: \n",
    "- модель случайного леса при полном использовании только одной из 3х услуг тарифа Смарт рекомендует перейти на тариф Ультра, что не может считаться корректной рекомендацией, однако при использовании всех услуг пакета (полностью или половины) правильно рекомендует использовать тариф Смарт.\n",
    "- модель решающего дерева имеет схожие проблемы: при полном использовании сообщений или минут пакета смарт некорректно рекомендует перейти на тариф Ультра, при полном использовании пакета сообщений тарифа Ультра некорректно рекомендует перейти на тариф Смарт.\n",
    "- модель логистической регрессии выдает наиболее адекватные рекомендации, но некорректно рекомендует перейти на смарт только при использовании полного  пакета интернета тарифа Ультра\n",
    "\n",
    "Итак, модели Решающее дерево и Случайный лес имеют сравнимые accuracy на валидационной выборке - (0.8072 и 0.8056) и на тестовой выборке - (0,7729 и 0,7807 соответственно). Для логистической регрессии качество модели заметно ниже: на валидационной - 0,7589, на тестовой - 0,7262. При этом качество всех разработанных моделей выше качества константной модели (0.69).\n",
    "\n",
    "Рекомендуемая модель - модель решающего дерева (с наибольшим accuracy на валидационной выборке) с гиперпараметрами: max_depth - 12, criterion - gini, splitter - random, min_samples_split - 11. Однако в ее работе прослеживаются некорректные рекомендации: при полном использовании сообщений(1) или минут(2) пакета Смарт некорректно рекомендуется переход на тариф Ультра, а при полном использовании только пакета сообщений(3) тарифа Ультра - переход на тариф Смарт. При этом финансовые затраты от таких рекомендаций могут сокращаться, например, для рекомендации (3) оплата сократиться на 450 р., но построенная модель обучалась только на поведении пользователей, и ничего не знает о деньгах. Поэтому для улучшения предсказаний можно учесть стоимости тарифов и услуг сверх тарифа.\n"
   ]
  }
 ],
 "metadata": {
  "ExecuteTimeLog": [
   {
    "duration": 616,
    "start_time": "2022-01-09T08:57:57.214Z"
   },
   {
    "duration": 55,
    "start_time": "2022-01-09T09:02:24.457Z"
   },
   {
    "duration": 9,
    "start_time": "2022-01-09T09:06:17.037Z"
   },
   {
    "duration": 13,
    "start_time": "2022-01-09T09:09:50.650Z"
   },
   {
    "duration": 10,
    "start_time": "2022-01-09T09:09:55.929Z"
   },
   {
    "duration": 228,
    "start_time": "2022-01-09T09:10:49.253Z"
   },
   {
    "duration": 195,
    "start_time": "2022-01-09T09:10:59.972Z"
   },
   {
    "duration": 165,
    "start_time": "2022-01-09T09:11:06.875Z"
   },
   {
    "duration": 21,
    "start_time": "2022-01-09T09:11:21.993Z"
   },
   {
    "duration": 8,
    "start_time": "2022-01-09T09:11:33.579Z"
   },
   {
    "duration": 11,
    "start_time": "2022-01-09T09:11:51.717Z"
   },
   {
    "duration": 10,
    "start_time": "2022-01-09T09:18:03.115Z"
   },
   {
    "duration": 65,
    "start_time": "2022-01-09T09:20:42.536Z"
   },
   {
    "duration": 4,
    "start_time": "2022-01-09T09:21:37.627Z"
   },
   {
    "duration": 10,
    "start_time": "2022-01-09T09:22:10.829Z"
   },
   {
    "duration": 12,
    "start_time": "2022-01-09T09:22:21.157Z"
   },
   {
    "duration": 12,
    "start_time": "2022-01-09T09:24:18.494Z"
   },
   {
    "duration": 68,
    "start_time": "2022-01-09T09:28:21.060Z"
   },
   {
    "duration": 66,
    "start_time": "2022-01-09T09:28:28.472Z"
   },
   {
    "duration": 194,
    "start_time": "2022-01-09T09:39:15.376Z"
   },
   {
    "duration": 20,
    "start_time": "2022-01-09T09:40:37.393Z"
   },
   {
    "duration": 17,
    "start_time": "2022-01-09T09:41:36.501Z"
   },
   {
    "duration": 4907,
    "start_time": "2022-01-09T09:42:12.589Z"
   },
   {
    "duration": 5774,
    "start_time": "2022-01-09T09:43:02.539Z"
   },
   {
    "duration": 19,
    "start_time": "2022-01-09T09:44:40.102Z"
   },
   {
    "duration": 619,
    "start_time": "2022-01-09T09:48:44.995Z"
   },
   {
    "duration": 177,
    "start_time": "2022-01-09T09:49:03.089Z"
   },
   {
    "duration": 54,
    "start_time": "2022-01-09T09:50:02.161Z"
   },
   {
    "duration": 23,
    "start_time": "2022-01-09T09:50:10.208Z"
   },
   {
    "duration": 64,
    "start_time": "2022-01-09T09:54:34.077Z"
   },
   {
    "duration": 8,
    "start_time": "2022-01-09T09:54:34.143Z"
   },
   {
    "duration": 8,
    "start_time": "2022-01-09T09:54:34.153Z"
   },
   {
    "duration": 36,
    "start_time": "2022-01-09T09:54:34.162Z"
   },
   {
    "duration": 26,
    "start_time": "2022-01-09T09:54:34.199Z"
   },
   {
    "duration": 15,
    "start_time": "2022-01-09T09:56:19.980Z"
   },
   {
    "duration": 64,
    "start_time": "2022-01-09T09:56:26.666Z"
   },
   {
    "duration": 9,
    "start_time": "2022-01-09T09:56:26.732Z"
   },
   {
    "duration": 9,
    "start_time": "2022-01-09T09:56:26.743Z"
   },
   {
    "duration": 37,
    "start_time": "2022-01-09T09:56:26.754Z"
   },
   {
    "duration": 15,
    "start_time": "2022-01-09T09:56:26.793Z"
   },
   {
    "duration": 5,
    "start_time": "2022-01-09T09:58:08.826Z"
   },
   {
    "duration": 5,
    "start_time": "2022-01-09T09:58:31.284Z"
   },
   {
    "duration": 245,
    "start_time": "2022-01-09T09:58:43.754Z"
   },
   {
    "duration": 53,
    "start_time": "2022-01-09T09:59:14.712Z"
   },
   {
    "duration": 12,
    "start_time": "2022-01-09T09:59:40.048Z"
   },
   {
    "duration": 24,
    "start_time": "2022-01-09T09:59:51.278Z"
   },
   {
    "duration": 15,
    "start_time": "2022-01-09T09:59:57.216Z"
   },
   {
    "duration": 14,
    "start_time": "2022-01-09T10:01:03.571Z"
   },
   {
    "duration": 194,
    "start_time": "2022-01-09T10:01:39.651Z"
   },
   {
    "duration": 28,
    "start_time": "2022-01-09T10:05:27.279Z"
   },
   {
    "duration": 25,
    "start_time": "2022-01-09T10:05:46.770Z"
   },
   {
    "duration": 14,
    "start_time": "2022-01-09T10:07:30.678Z"
   },
   {
    "duration": 14,
    "start_time": "2022-01-09T10:07:33.672Z"
   },
   {
    "duration": 14,
    "start_time": "2022-01-09T10:08:12.316Z"
   },
   {
    "duration": 16,
    "start_time": "2022-01-09T10:11:10.168Z"
   },
   {
    "duration": 181,
    "start_time": "2022-01-09T10:12:35.478Z"
   },
   {
    "duration": 58,
    "start_time": "2022-01-09T10:12:57.431Z"
   },
   {
    "duration": 38,
    "start_time": "2022-01-09T10:13:04.067Z"
   },
   {
    "duration": 161,
    "start_time": "2022-01-09T10:14:16.965Z"
   },
   {
    "duration": 81,
    "start_time": "2022-01-09T10:14:42.381Z"
   },
   {
    "duration": 16,
    "start_time": "2022-01-09T10:27:38.193Z"
   },
   {
    "duration": 13,
    "start_time": "2022-01-09T10:27:51.100Z"
   },
   {
    "duration": 14,
    "start_time": "2022-01-09T10:27:58.940Z"
   },
   {
    "duration": 13,
    "start_time": "2022-01-09T10:31:21.066Z"
   },
   {
    "duration": 15,
    "start_time": "2022-01-09T10:31:48.148Z"
   },
   {
    "duration": 24,
    "start_time": "2022-01-09T10:32:07.768Z"
   },
   {
    "duration": 13,
    "start_time": "2022-01-09T10:32:30.424Z"
   },
   {
    "duration": 751,
    "start_time": "2022-01-09T10:41:01.003Z"
   },
   {
    "duration": 12,
    "start_time": "2022-01-09T10:41:25.334Z"
   },
   {
    "duration": 6210,
    "start_time": "2022-01-09T10:41:37.857Z"
   },
   {
    "duration": 4200,
    "start_time": "2022-01-09T10:41:52.227Z"
   },
   {
    "duration": 172,
    "start_time": "2022-01-09T10:41:58.334Z"
   },
   {
    "duration": 655,
    "start_time": "2022-01-09T10:42:08.880Z"
   },
   {
    "duration": 659,
    "start_time": "2022-01-09T10:44:09.214Z"
   },
   {
    "duration": 21,
    "start_time": "2022-01-09T10:47:28.738Z"
   },
   {
    "duration": 190,
    "start_time": "2022-01-09T11:32:53.024Z"
   },
   {
    "duration": 6,
    "start_time": "2022-01-09T11:33:38.241Z"
   },
   {
    "duration": 7,
    "start_time": "2022-01-09T11:33:59.026Z"
   },
   {
    "duration": 186,
    "start_time": "2022-01-09T11:34:17.016Z"
   },
   {
    "duration": 171,
    "start_time": "2022-01-09T11:34:42.405Z"
   },
   {
    "duration": 7,
    "start_time": "2022-01-09T11:34:55.289Z"
   },
   {
    "duration": 5,
    "start_time": "2022-01-09T11:35:10.346Z"
   },
   {
    "duration": 7,
    "start_time": "2022-01-09T11:36:32.546Z"
   },
   {
    "duration": 644,
    "start_time": "2022-01-09T11:36:51.960Z"
   },
   {
    "duration": 672,
    "start_time": "2022-01-09T11:37:36.854Z"
   },
   {
    "duration": 54,
    "start_time": "2022-01-09T11:38:29.833Z"
   },
   {
    "duration": 674,
    "start_time": "2022-01-09T11:38:40.789Z"
   },
   {
    "duration": 842,
    "start_time": "2022-01-09T11:39:27.620Z"
   },
   {
    "duration": 835,
    "start_time": "2022-01-09T11:39:35.268Z"
   },
   {
    "duration": 661,
    "start_time": "2022-01-09T11:39:43.651Z"
   },
   {
    "duration": 660,
    "start_time": "2022-01-09T11:39:58.416Z"
   },
   {
    "duration": 677,
    "start_time": "2022-01-09T11:40:10.900Z"
   },
   {
    "duration": 22,
    "start_time": "2022-01-09T11:41:12.651Z"
   },
   {
    "duration": 6,
    "start_time": "2022-01-09T11:41:25.586Z"
   },
   {
    "duration": 643,
    "start_time": "2022-01-09T11:41:51.821Z"
   },
   {
    "duration": 678,
    "start_time": "2022-01-09T11:44:58.332Z"
   },
   {
    "duration": 835,
    "start_time": "2022-01-09T11:47:39.627Z"
   },
   {
    "duration": 669,
    "start_time": "2022-01-09T11:50:02.454Z"
   },
   {
    "duration": 660,
    "start_time": "2022-01-09T11:50:09.304Z"
   },
   {
    "duration": 657,
    "start_time": "2022-01-09T11:50:16.671Z"
   },
   {
    "duration": 949,
    "start_time": "2022-01-09T11:50:39.824Z"
   },
   {
    "duration": 700,
    "start_time": "2022-01-09T11:51:39.826Z"
   },
   {
    "duration": 188,
    "start_time": "2022-01-09T12:05:36.960Z"
   },
   {
    "duration": 174,
    "start_time": "2022-01-09T12:05:54.095Z"
   },
   {
    "duration": 173,
    "start_time": "2022-01-09T12:08:03.289Z"
   },
   {
    "duration": 177,
    "start_time": "2022-01-09T12:08:27.648Z"
   },
   {
    "duration": 173,
    "start_time": "2022-01-09T12:08:47.222Z"
   },
   {
    "duration": 195,
    "start_time": "2022-01-09T12:09:04.563Z"
   },
   {
    "duration": 2144,
    "start_time": "2022-01-09T12:09:08.137Z"
   },
   {
    "duration": 768,
    "start_time": "2022-01-09T12:09:40.006Z"
   },
   {
    "duration": 2547,
    "start_time": "2022-01-09T12:09:44.920Z"
   },
   {
    "duration": 2530,
    "start_time": "2022-01-09T12:10:44.744Z"
   },
   {
    "duration": 2611,
    "start_time": "2022-01-09T12:10:53.656Z"
   },
   {
    "duration": 2548,
    "start_time": "2022-01-09T12:40:50.908Z"
   },
   {
    "duration": 2679,
    "start_time": "2022-01-09T12:45:48.095Z"
   },
   {
    "duration": 2633,
    "start_time": "2022-01-09T12:45:53.571Z"
   },
   {
    "duration": 2634,
    "start_time": "2022-01-09T12:45:59.505Z"
   },
   {
    "duration": 2660,
    "start_time": "2022-01-09T12:46:06.290Z"
   },
   {
    "duration": 2536,
    "start_time": "2022-01-09T12:46:20.580Z"
   },
   {
    "duration": 2501,
    "start_time": "2022-01-09T12:46:26.445Z"
   },
   {
    "duration": 59,
    "start_time": "2022-01-09T12:46:44.187Z"
   },
   {
    "duration": 2529,
    "start_time": "2022-01-09T12:46:47.835Z"
   },
   {
    "duration": 2663,
    "start_time": "2022-01-09T12:53:03.489Z"
   },
   {
    "duration": 2600,
    "start_time": "2022-01-09T13:00:10.051Z"
   },
   {
    "duration": 2533,
    "start_time": "2022-01-09T13:01:25.516Z"
   },
   {
    "duration": 2989,
    "start_time": "2022-01-09T13:02:29.678Z"
   },
   {
    "duration": 2656,
    "start_time": "2022-01-09T13:03:48.883Z"
   },
   {
    "duration": 2651,
    "start_time": "2022-01-09T13:03:59.369Z"
   },
   {
    "duration": 2805,
    "start_time": "2022-01-09T13:04:21.269Z"
   },
   {
    "duration": 71,
    "start_time": "2022-01-09T13:08:57.887Z"
   },
   {
    "duration": 57,
    "start_time": "2022-01-09T13:09:05.513Z"
   },
   {
    "duration": 4,
    "start_time": "2022-01-09T13:09:18.601Z"
   },
   {
    "duration": 280,
    "start_time": "2022-01-09T13:12:18.363Z"
   },
   {
    "duration": 321,
    "start_time": "2022-01-09T13:12:34.126Z"
   },
   {
    "duration": 2507,
    "start_time": "2022-01-09T13:12:59.983Z"
   },
   {
    "duration": 234,
    "start_time": "2022-01-09T13:13:46.979Z"
   },
   {
    "duration": 4380,
    "start_time": "2022-01-09T13:13:50.854Z"
   },
   {
    "duration": 4452,
    "start_time": "2022-01-09T13:14:04.567Z"
   },
   {
    "duration": 4439,
    "start_time": "2022-01-09T13:14:11.321Z"
   },
   {
    "duration": 2686,
    "start_time": "2022-01-09T13:14:54.490Z"
   },
   {
    "duration": 2715,
    "start_time": "2022-01-09T13:15:51.704Z"
   },
   {
    "duration": 2835,
    "start_time": "2022-01-09T13:15:55.237Z"
   },
   {
    "duration": 7262,
    "start_time": "2022-01-09T13:16:00.395Z"
   },
   {
    "duration": 7117,
    "start_time": "2022-01-09T13:16:07.878Z"
   },
   {
    "duration": 7053,
    "start_time": "2022-01-09T13:16:35.414Z"
   },
   {
    "duration": 7288,
    "start_time": "2022-01-09T13:17:42.978Z"
   },
   {
    "duration": 2875,
    "start_time": "2022-01-09T13:18:00.592Z"
   },
   {
    "duration": 4815,
    "start_time": "2022-01-09T13:18:06.038Z"
   },
   {
    "duration": 2760,
    "start_time": "2022-01-09T13:19:29.596Z"
   },
   {
    "duration": 6851,
    "start_time": "2022-01-09T13:19:52.319Z"
   },
   {
    "duration": 168,
    "start_time": "2022-01-09T13:28:24.964Z"
   },
   {
    "duration": 693,
    "start_time": "2022-01-09T13:28:32.584Z"
   },
   {
    "duration": 13,
    "start_time": "2022-01-09T13:28:48.386Z"
   },
   {
    "duration": 19,
    "start_time": "2022-01-09T13:30:20.664Z"
   },
   {
    "duration": 16,
    "start_time": "2022-01-09T13:30:53.682Z"
   },
   {
    "duration": 18,
    "start_time": "2022-01-09T13:31:22.957Z"
   },
   {
    "duration": 15,
    "start_time": "2022-01-09T13:31:28.765Z"
   },
   {
    "duration": 18,
    "start_time": "2022-01-09T13:31:37.515Z"
   },
   {
    "duration": 33,
    "start_time": "2022-01-09T13:31:46.346Z"
   },
   {
    "duration": 70,
    "start_time": "2022-01-09T15:10:59.792Z"
   },
   {
    "duration": 11,
    "start_time": "2022-01-09T15:10:59.865Z"
   },
   {
    "duration": 23,
    "start_time": "2022-01-09T15:10:59.878Z"
   },
   {
    "duration": 30,
    "start_time": "2022-01-09T15:10:59.903Z"
   },
   {
    "duration": 40,
    "start_time": "2022-01-09T15:11:06.306Z"
   },
   {
    "duration": 8,
    "start_time": "2022-01-09T15:11:55.756Z"
   },
   {
    "duration": 14,
    "start_time": "2022-01-09T15:12:16.225Z"
   },
   {
    "duration": 8,
    "start_time": "2022-01-09T15:13:07.827Z"
   },
   {
    "duration": 22,
    "start_time": "2022-01-09T15:13:34.674Z"
   },
   {
    "duration": 211,
    "start_time": "2022-01-11T18:14:50.008Z"
   },
   {
    "duration": 644,
    "start_time": "2022-01-11T18:14:56.065Z"
   },
   {
    "duration": 9,
    "start_time": "2022-01-11T18:14:56.711Z"
   },
   {
    "duration": 9,
    "start_time": "2022-01-11T18:14:56.721Z"
   },
   {
    "duration": 12,
    "start_time": "2022-01-11T18:14:56.731Z"
   },
   {
    "duration": 6817,
    "start_time": "2022-01-11T18:14:58.983Z"
   },
   {
    "duration": 6,
    "start_time": "2022-01-11T18:16:19.868Z"
   },
   {
    "duration": 26,
    "start_time": "2022-01-11T18:19:43.648Z"
   },
   {
    "duration": 204,
    "start_time": "2022-01-11T18:24:02.186Z"
   },
   {
    "duration": 28,
    "start_time": "2022-01-11T18:24:07.984Z"
   },
   {
    "duration": 29,
    "start_time": "2022-01-11T18:28:49.463Z"
   },
   {
    "duration": 186,
    "start_time": "2022-01-11T18:29:41.077Z"
   },
   {
    "duration": 28,
    "start_time": "2022-01-11T18:33:10.511Z"
   },
   {
    "duration": 27,
    "start_time": "2022-01-11T18:33:19.078Z"
   },
   {
    "duration": 33,
    "start_time": "2022-01-11T18:36:14.863Z"
   },
   {
    "duration": 28,
    "start_time": "2022-01-11T18:36:30.399Z"
   },
   {
    "duration": 56,
    "start_time": "2022-01-11T18:40:24.774Z"
   },
   {
    "duration": 316,
    "start_time": "2022-01-11T18:40:50.523Z"
   },
   {
    "duration": 8,
    "start_time": "2022-01-11T18:41:57.448Z"
   },
   {
    "duration": 177,
    "start_time": "2022-01-11T18:42:23.283Z"
   },
   {
    "duration": 46,
    "start_time": "2022-01-11T18:47:06.799Z"
   },
   {
    "duration": 44,
    "start_time": "2022-01-11T18:47:17.246Z"
   },
   {
    "duration": 85,
    "start_time": "2022-01-11T18:47:45.714Z"
   },
   {
    "duration": 189,
    "start_time": "2022-01-11T18:52:59.124Z"
   },
   {
    "duration": 4,
    "start_time": "2022-01-11T18:56:20.823Z"
   },
   {
    "duration": 11,
    "start_time": "2022-01-11T18:56:23.262Z"
   },
   {
    "duration": 17,
    "start_time": "2022-01-11T18:57:26.403Z"
   },
   {
    "duration": 20,
    "start_time": "2022-01-11T18:57:41.712Z"
   },
   {
    "duration": 35,
    "start_time": "2022-01-11T18:58:25.043Z"
   },
   {
    "duration": 34,
    "start_time": "2022-01-11T18:58:38.210Z"
   },
   {
    "duration": 67,
    "start_time": "2022-01-11T18:58:52.761Z"
   },
   {
    "duration": 10,
    "start_time": "2022-01-11T18:58:52.830Z"
   },
   {
    "duration": 10,
    "start_time": "2022-01-11T18:58:52.842Z"
   },
   {
    "duration": 43,
    "start_time": "2022-01-11T18:58:52.853Z"
   },
   {
    "duration": 28,
    "start_time": "2022-01-11T18:58:52.898Z"
   },
   {
    "duration": 40,
    "start_time": "2022-01-11T18:58:54.991Z"
   },
   {
    "duration": 20,
    "start_time": "2022-01-11T19:00:06.320Z"
   },
   {
    "duration": 20,
    "start_time": "2022-01-11T19:00:40.877Z"
   },
   {
    "duration": 231,
    "start_time": "2022-01-11T19:00:51.015Z"
   },
   {
    "duration": 31,
    "start_time": "2022-01-11T19:01:00.667Z"
   },
   {
    "duration": 14,
    "start_time": "2022-01-11T19:02:16.323Z"
   },
   {
    "duration": 13,
    "start_time": "2022-01-11T19:02:51.760Z"
   },
   {
    "duration": 15,
    "start_time": "2022-01-11T19:03:04.273Z"
   },
   {
    "duration": 29,
    "start_time": "2022-01-11T19:03:28.885Z"
   },
   {
    "duration": 36,
    "start_time": "2022-01-11T19:05:45.741Z"
   },
   {
    "duration": 36,
    "start_time": "2022-01-11T19:06:12.313Z"
   },
   {
    "duration": 36,
    "start_time": "2022-01-11T19:06:27.583Z"
   },
   {
    "duration": 2456,
    "start_time": "2022-01-11T19:06:42.431Z"
   },
   {
    "duration": 72,
    "start_time": "2022-01-11T19:06:53.042Z"
   },
   {
    "duration": 9,
    "start_time": "2022-01-11T19:06:53.116Z"
   },
   {
    "duration": 10,
    "start_time": "2022-01-11T19:06:53.127Z"
   },
   {
    "duration": 13,
    "start_time": "2022-01-11T19:06:53.138Z"
   },
   {
    "duration": 52,
    "start_time": "2022-01-11T19:06:53.153Z"
   },
   {
    "duration": 42,
    "start_time": "2022-01-11T19:06:53.207Z"
   },
   {
    "duration": 4,
    "start_time": "2022-01-11T19:06:53.250Z"
   },
   {
    "duration": 35,
    "start_time": "2022-01-11T19:06:53.257Z"
   },
   {
    "duration": 28,
    "start_time": "2022-01-11T19:06:53.294Z"
   },
   {
    "duration": 113,
    "start_time": "2022-01-11T19:06:53.324Z"
   },
   {
    "duration": 49,
    "start_time": "2022-01-11T19:06:55.428Z"
   },
   {
    "duration": 51,
    "start_time": "2022-01-11T19:07:09.548Z"
   },
   {
    "duration": 1574,
    "start_time": "2022-01-11T19:07:20.643Z"
   },
   {
    "duration": 51,
    "start_time": "2022-01-11T19:07:29.817Z"
   },
   {
    "duration": 38,
    "start_time": "2022-01-11T19:10:53.570Z"
   },
   {
    "duration": 66,
    "start_time": "2022-01-11T19:11:05.131Z"
   },
   {
    "duration": 9,
    "start_time": "2022-01-11T19:11:05.198Z"
   },
   {
    "duration": 41,
    "start_time": "2022-01-11T19:11:05.209Z"
   },
   {
    "duration": 25,
    "start_time": "2022-01-11T19:11:05.252Z"
   },
   {
    "duration": 40,
    "start_time": "2022-01-11T19:11:05.279Z"
   },
   {
    "duration": 37,
    "start_time": "2022-01-11T19:11:05.321Z"
   },
   {
    "duration": 3,
    "start_time": "2022-01-11T19:11:05.360Z"
   },
   {
    "duration": 26,
    "start_time": "2022-01-11T19:11:05.365Z"
   },
   {
    "duration": 40,
    "start_time": "2022-01-11T19:11:07.536Z"
   },
   {
    "duration": 91,
    "start_time": "2022-01-11T19:11:10.149Z"
   },
   {
    "duration": 45,
    "start_time": "2022-01-11T19:11:14.145Z"
   },
   {
    "duration": 50,
    "start_time": "2022-01-11T19:11:34.021Z"
   },
   {
    "duration": 59,
    "start_time": "2022-01-11T19:15:37.986Z"
   },
   {
    "duration": 52,
    "start_time": "2022-01-11T19:17:25.690Z"
   },
   {
    "duration": 656,
    "start_time": "2022-01-11T19:18:27.274Z"
   },
   {
    "duration": 672,
    "start_time": "2022-01-11T19:18:44.233Z"
   },
   {
    "duration": 743,
    "start_time": "2022-01-11T19:21:20.121Z"
   },
   {
    "duration": 3323,
    "start_time": "2022-01-11T19:29:54.076Z"
   },
   {
    "duration": 3028,
    "start_time": "2022-01-11T19:30:08.734Z"
   },
   {
    "duration": 3042,
    "start_time": "2022-01-11T19:30:51.385Z"
   },
   {
    "duration": 5329,
    "start_time": "2022-01-11T19:44:54.905Z"
   },
   {
    "duration": 206,
    "start_time": "2022-01-11T19:45:18.091Z"
   },
   {
    "duration": 180,
    "start_time": "2022-01-11T19:45:28.272Z"
   },
   {
    "duration": 173,
    "start_time": "2022-01-11T19:45:46.124Z"
   },
   {
    "duration": 178,
    "start_time": "2022-01-11T19:45:51.865Z"
   },
   {
    "duration": 200,
    "start_time": "2022-01-11T19:45:56.770Z"
   },
   {
    "duration": 388,
    "start_time": "2022-01-11T19:46:07.718Z"
   },
   {
    "duration": 61,
    "start_time": "2022-01-11T19:46:56.438Z"
   },
   {
    "duration": 13,
    "start_time": "2022-01-11T19:47:02.235Z"
   },
   {
    "duration": 12,
    "start_time": "2022-01-11T19:47:24.409Z"
   },
   {
    "duration": 178,
    "start_time": "2022-01-11T19:47:33.687Z"
   },
   {
    "duration": 12,
    "start_time": "2022-01-11T19:47:40.559Z"
   },
   {
    "duration": 11,
    "start_time": "2022-01-11T19:47:50.663Z"
   },
   {
    "duration": 1386,
    "start_time": "2022-01-11T19:48:19.848Z"
   },
   {
    "duration": 10,
    "start_time": "2022-01-11T19:48:42.503Z"
   },
   {
    "duration": 12,
    "start_time": "2022-01-11T19:48:58.804Z"
   },
   {
    "duration": 11,
    "start_time": "2022-01-11T19:49:54.606Z"
   },
   {
    "duration": 185,
    "start_time": "2022-01-11T19:52:27.621Z"
   },
   {
    "duration": 10,
    "start_time": "2022-01-11T19:53:25.033Z"
   },
   {
    "duration": 191,
    "start_time": "2022-01-11T19:53:38.406Z"
   },
   {
    "duration": 12,
    "start_time": "2022-01-11T19:53:47.713Z"
   },
   {
    "duration": 10,
    "start_time": "2022-01-11T19:54:23.744Z"
   },
   {
    "duration": 10,
    "start_time": "2022-01-11T19:58:02.558Z"
   },
   {
    "duration": 9,
    "start_time": "2022-01-11T19:58:14.885Z"
   },
   {
    "duration": 10,
    "start_time": "2022-01-11T19:58:43.757Z"
   },
   {
    "duration": 11,
    "start_time": "2022-01-11T19:58:54.191Z"
   },
   {
    "duration": 12,
    "start_time": "2022-01-11T19:59:00.470Z"
   },
   {
    "duration": 15,
    "start_time": "2022-01-11T20:00:16.303Z"
   },
   {
    "duration": 13,
    "start_time": "2022-01-11T20:01:30.631Z"
   },
   {
    "duration": 5,
    "start_time": "2022-01-11T20:07:52.464Z"
   },
   {
    "duration": 15,
    "start_time": "2022-01-11T20:08:00.867Z"
   },
   {
    "duration": 64,
    "start_time": "2022-01-11T20:16:30.658Z"
   },
   {
    "duration": 61,
    "start_time": "2022-01-11T20:16:58.669Z"
   },
   {
    "duration": 85,
    "start_time": "2022-01-11T20:17:05.928Z"
   },
   {
    "duration": 10,
    "start_time": "2022-01-11T20:18:51.924Z"
   },
   {
    "duration": 72,
    "start_time": "2022-01-11T20:20:29.061Z"
   },
   {
    "duration": 11,
    "start_time": "2022-01-11T20:20:34.718Z"
   },
   {
    "duration": 19,
    "start_time": "2022-01-11T20:20:39.114Z"
   },
   {
    "duration": 7,
    "start_time": "2022-01-11T20:20:52.840Z"
   },
   {
    "duration": 59,
    "start_time": "2022-01-11T20:23:34.602Z"
   },
   {
    "duration": 14,
    "start_time": "2022-01-11T20:23:38.251Z"
   },
   {
    "duration": 14,
    "start_time": "2022-01-11T20:23:46.337Z"
   },
   {
    "duration": 20,
    "start_time": "2022-01-11T20:24:19.465Z"
   },
   {
    "duration": 22,
    "start_time": "2022-01-11T20:24:59.695Z"
   },
   {
    "duration": 28,
    "start_time": "2022-01-11T20:25:49.907Z"
   },
   {
    "duration": 34,
    "start_time": "2022-01-11T20:26:47.313Z"
   },
   {
    "duration": 65,
    "start_time": "2022-01-11T20:27:13.156Z"
   },
   {
    "duration": 57,
    "start_time": "2022-01-11T20:27:27.605Z"
   },
   {
    "duration": 80,
    "start_time": "2022-01-11T20:27:37.603Z"
   },
   {
    "duration": 5031,
    "start_time": "2022-01-11T20:27:40.563Z"
   },
   {
    "duration": 31,
    "start_time": "2022-01-11T20:27:55.301Z"
   },
   {
    "duration": 203,
    "start_time": "2022-01-11T20:28:19.587Z"
   },
   {
    "duration": 29,
    "start_time": "2022-01-11T20:28:30.481Z"
   },
   {
    "duration": 29,
    "start_time": "2022-01-11T20:28:52.331Z"
   },
   {
    "duration": 218,
    "start_time": "2022-01-11T20:29:16.930Z"
   },
   {
    "duration": 187,
    "start_time": "2022-01-11T20:29:28.342Z"
   },
   {
    "duration": 193,
    "start_time": "2022-01-11T20:29:42.557Z"
   },
   {
    "duration": 26,
    "start_time": "2022-01-11T20:29:51.874Z"
   },
   {
    "duration": 30,
    "start_time": "2022-01-11T20:29:56.263Z"
   },
   {
    "duration": 195,
    "start_time": "2022-01-11T20:31:19.190Z"
   },
   {
    "duration": 31,
    "start_time": "2022-01-11T20:32:11.329Z"
   },
   {
    "duration": 31,
    "start_time": "2022-01-11T20:32:16.942Z"
   },
   {
    "duration": 53,
    "start_time": "2022-01-11T20:32:20.189Z"
   },
   {
    "duration": 31,
    "start_time": "2022-01-11T20:32:42.313Z"
   },
   {
    "duration": 29,
    "start_time": "2022-01-11T20:32:54.849Z"
   },
   {
    "duration": 25,
    "start_time": "2022-01-11T20:33:18.452Z"
   },
   {
    "duration": 26,
    "start_time": "2022-01-11T20:35:22.065Z"
   },
   {
    "duration": 26,
    "start_time": "2022-01-11T20:35:32.533Z"
   },
   {
    "duration": 72,
    "start_time": "2022-01-11T20:35:53.020Z"
   },
   {
    "duration": 25,
    "start_time": "2022-01-11T20:35:57.549Z"
   },
   {
    "duration": 26,
    "start_time": "2022-01-11T20:36:02.528Z"
   },
   {
    "duration": 331,
    "start_time": "2022-01-11T20:36:10.848Z"
   },
   {
    "duration": 26,
    "start_time": "2022-01-11T20:36:17.494Z"
   },
   {
    "duration": 29,
    "start_time": "2022-01-11T20:36:29.880Z"
   },
   {
    "duration": 28,
    "start_time": "2022-01-11T20:37:12.750Z"
   },
   {
    "duration": 37,
    "start_time": "2022-01-11T20:37:21.191Z"
   },
   {
    "duration": 6,
    "start_time": "2022-01-11T20:58:32.748Z"
   },
   {
    "duration": 266,
    "start_time": "2022-01-11T20:58:37.415Z"
   },
   {
    "duration": 204,
    "start_time": "2022-01-11T20:59:58.130Z"
   },
   {
    "duration": 206,
    "start_time": "2022-01-11T21:00:04.915Z"
   },
   {
    "duration": 220,
    "start_time": "2022-01-11T21:01:14.994Z"
   },
   {
    "duration": 345,
    "start_time": "2022-01-11T21:01:24.576Z"
   },
   {
    "duration": 390,
    "start_time": "2022-01-11T21:05:11.682Z"
   },
   {
    "duration": 56,
    "start_time": "2022-01-11T21:06:06.618Z"
   },
   {
    "duration": 368,
    "start_time": "2022-01-11T21:06:10.474Z"
   },
   {
    "duration": 322,
    "start_time": "2022-01-11T21:09:13.253Z"
   },
   {
    "duration": 320,
    "start_time": "2022-01-11T21:09:28.386Z"
   },
   {
    "duration": 343,
    "start_time": "2022-01-11T21:13:46.868Z"
   },
   {
    "duration": 2071,
    "start_time": "2022-01-11T21:14:51.132Z"
   },
   {
    "duration": 639,
    "start_time": "2022-01-11T21:15:25.356Z"
   },
   {
    "duration": 736,
    "start_time": "2022-01-11T21:15:29.441Z"
   },
   {
    "duration": 1066,
    "start_time": "2022-01-11T21:15:51.014Z"
   },
   {
    "duration": 696,
    "start_time": "2022-01-11T21:22:37.134Z"
   },
   {
    "duration": 760,
    "start_time": "2022-01-11T21:22:42.888Z"
   },
   {
    "duration": 284,
    "start_time": "2022-01-11T21:23:15.705Z"
   },
   {
    "duration": 594,
    "start_time": "2022-01-11T21:23:30.064Z"
   },
   {
    "duration": 227,
    "start_time": "2022-01-11T21:24:05.106Z"
   },
   {
    "duration": 185,
    "start_time": "2022-01-11T21:24:17.986Z"
   },
   {
    "duration": 352,
    "start_time": "2022-01-11T21:24:31.607Z"
   },
   {
    "duration": 181,
    "start_time": "2022-01-11T21:27:08.192Z"
   },
   {
    "duration": 182,
    "start_time": "2022-01-11T21:27:13.906Z"
   },
   {
    "duration": 59,
    "start_time": "2022-01-11T21:27:55.683Z"
   },
   {
    "duration": 15,
    "start_time": "2022-01-11T21:28:10.176Z"
   },
   {
    "duration": 17,
    "start_time": "2022-01-11T21:28:21.011Z"
   },
   {
    "duration": 17,
    "start_time": "2022-01-11T21:28:29.100Z"
   },
   {
    "duration": 191,
    "start_time": "2022-01-11T21:32:49.861Z"
   },
   {
    "duration": 205,
    "start_time": "2022-01-11T21:32:57.210Z"
   },
   {
    "duration": 1124,
    "start_time": "2022-01-11T21:33:45.300Z"
   },
   {
    "duration": 195,
    "start_time": "2022-01-11T21:34:09.974Z"
   },
   {
    "duration": 184,
    "start_time": "2022-01-11T21:35:36.153Z"
   },
   {
    "duration": 188,
    "start_time": "2022-01-11T21:35:51.452Z"
   },
   {
    "duration": 18,
    "start_time": "2022-01-11T21:42:45.816Z"
   },
   {
    "duration": 17,
    "start_time": "2022-01-11T21:43:19.912Z"
   },
   {
    "duration": 284,
    "start_time": "2022-01-11T21:49:16.400Z"
   },
   {
    "duration": 31,
    "start_time": "2022-01-11T21:49:23.466Z"
   },
   {
    "duration": 24,
    "start_time": "2022-01-11T21:49:48.140Z"
   },
   {
    "duration": 27,
    "start_time": "2022-01-11T21:50:02.036Z"
   },
   {
    "duration": 25,
    "start_time": "2022-01-11T21:52:02.836Z"
   },
   {
    "duration": 98,
    "start_time": "2022-01-11T21:55:52.553Z"
   },
   {
    "duration": 38,
    "start_time": "2022-01-11T21:55:52.654Z"
   },
   {
    "duration": 15,
    "start_time": "2022-01-11T21:55:52.695Z"
   },
   {
    "duration": 23,
    "start_time": "2022-01-11T21:55:52.713Z"
   },
   {
    "duration": 81,
    "start_time": "2022-01-11T21:55:52.739Z"
   },
   {
    "duration": 91,
    "start_time": "2022-01-11T21:55:52.823Z"
   },
   {
    "duration": 4,
    "start_time": "2022-01-11T21:55:52.917Z"
   },
   {
    "duration": 17,
    "start_time": "2022-01-11T21:55:52.925Z"
   },
   {
    "duration": 95,
    "start_time": "2022-01-11T21:55:52.945Z"
   },
   {
    "duration": 149,
    "start_time": "2022-01-11T21:55:53.042Z"
   },
   {
    "duration": 61,
    "start_time": "2022-01-11T21:55:53.194Z"
   },
   {
    "duration": 817,
    "start_time": "2022-01-11T21:55:53.257Z"
   },
   {
    "duration": 3,
    "start_time": "2022-01-11T21:55:54.077Z"
   },
   {
    "duration": 4128,
    "start_time": "2022-01-11T21:55:54.092Z"
   },
   {
    "duration": 389,
    "start_time": "2022-01-11T21:55:58.223Z"
   },
   {
    "duration": 1248,
    "start_time": "2022-01-11T21:55:58.614Z"
   },
   {
    "duration": 41,
    "start_time": "2022-01-11T21:55:59.865Z"
   },
   {
    "duration": 25,
    "start_time": "2022-01-11T21:55:59.908Z"
   },
   {
    "duration": 63,
    "start_time": "2022-01-11T21:55:59.936Z"
   },
   {
    "duration": 216,
    "start_time": "2022-01-11T21:58:47.491Z"
   },
   {
    "duration": 256,
    "start_time": "2022-01-11T21:58:54.486Z"
   },
   {
    "duration": 26,
    "start_time": "2022-01-11T21:59:12.424Z"
   },
   {
    "duration": 37,
    "start_time": "2022-01-11T21:59:23.018Z"
   },
   {
    "duration": 37,
    "start_time": "2022-01-11T21:59:35.537Z"
   },
   {
    "duration": 766,
    "start_time": "2022-01-11T21:59:42.520Z"
   },
   {
    "duration": 46,
    "start_time": "2022-01-11T21:59:46.043Z"
   },
   {
    "duration": 56,
    "start_time": "2022-01-11T21:59:53.622Z"
   },
   {
    "duration": 905,
    "start_time": "2022-01-11T22:00:33.725Z"
   },
   {
    "duration": 217,
    "start_time": "2022-01-11T22:01:21.716Z"
   },
   {
    "duration": 231,
    "start_time": "2022-01-11T22:01:30.101Z"
   },
   {
    "duration": 206,
    "start_time": "2022-01-11T22:01:37.467Z"
   },
   {
    "duration": 22,
    "start_time": "2022-01-11T22:01:53.289Z"
   },
   {
    "duration": 1266,
    "start_time": "2022-01-11T22:02:02.239Z"
   },
   {
    "duration": 269,
    "start_time": "2022-01-11T22:02:09.914Z"
   },
   {
    "duration": 69,
    "start_time": "2022-01-11T22:02:29.430Z"
   },
   {
    "duration": 13,
    "start_time": "2022-01-11T22:02:29.502Z"
   },
   {
    "duration": 9,
    "start_time": "2022-01-11T22:02:29.517Z"
   },
   {
    "duration": 13,
    "start_time": "2022-01-11T22:02:29.528Z"
   },
   {
    "duration": 59,
    "start_time": "2022-01-11T22:02:29.543Z"
   },
   {
    "duration": 41,
    "start_time": "2022-01-11T22:02:29.604Z"
   },
   {
    "duration": 3,
    "start_time": "2022-01-11T22:02:29.647Z"
   },
   {
    "duration": 39,
    "start_time": "2022-01-11T22:02:29.653Z"
   },
   {
    "duration": 42,
    "start_time": "2022-01-11T22:02:29.695Z"
   },
   {
    "duration": 108,
    "start_time": "2022-01-11T22:02:29.738Z"
   },
   {
    "duration": 64,
    "start_time": "2022-01-11T22:02:29.848Z"
   },
   {
    "duration": 749,
    "start_time": "2022-01-11T22:02:29.914Z"
   },
   {
    "duration": 3,
    "start_time": "2022-01-11T22:02:30.665Z"
   },
   {
    "duration": 3084,
    "start_time": "2022-01-11T22:02:30.669Z"
   },
   {
    "duration": 338,
    "start_time": "2022-01-11T22:02:33.755Z"
   },
   {
    "duration": 1242,
    "start_time": "2022-01-11T22:02:34.095Z"
   },
   {
    "duration": 27,
    "start_time": "2022-01-11T22:02:35.339Z"
   },
   {
    "duration": 40,
    "start_time": "2022-01-11T22:02:35.369Z"
   },
   {
    "duration": 36,
    "start_time": "2022-01-11T22:02:35.411Z"
   },
   {
    "duration": 17,
    "start_time": "2022-01-11T22:02:35.449Z"
   },
   {
    "duration": 53,
    "start_time": "2022-01-11T22:02:35.467Z"
   },
   {
    "duration": 31,
    "start_time": "2022-01-11T22:02:35.522Z"
   },
   {
    "duration": 567,
    "start_time": "2022-01-11T22:02:42.386Z"
   },
   {
    "duration": 24,
    "start_time": "2022-01-11T22:03:35.165Z"
   },
   {
    "duration": 71,
    "start_time": "2022-01-11T22:03:59.288Z"
   },
   {
    "duration": 10,
    "start_time": "2022-01-11T22:03:59.361Z"
   },
   {
    "duration": 26,
    "start_time": "2022-01-11T22:03:59.373Z"
   },
   {
    "duration": 13,
    "start_time": "2022-01-11T22:03:59.401Z"
   },
   {
    "duration": 31,
    "start_time": "2022-01-11T22:03:59.416Z"
   },
   {
    "duration": 72,
    "start_time": "2022-01-11T22:03:59.449Z"
   },
   {
    "duration": 4,
    "start_time": "2022-01-11T22:03:59.523Z"
   },
   {
    "duration": 13,
    "start_time": "2022-01-11T22:03:59.530Z"
   },
   {
    "duration": 60,
    "start_time": "2022-01-11T22:03:59.545Z"
   },
   {
    "duration": 109,
    "start_time": "2022-01-11T22:03:59.607Z"
   },
   {
    "duration": 72,
    "start_time": "2022-01-11T22:03:59.719Z"
   },
   {
    "duration": 748,
    "start_time": "2022-01-11T22:03:59.793Z"
   },
   {
    "duration": 5,
    "start_time": "2022-01-11T22:04:00.545Z"
   },
   {
    "duration": 3375,
    "start_time": "2022-01-11T22:04:00.553Z"
   },
   {
    "duration": 344,
    "start_time": "2022-01-11T22:04:03.929Z"
   },
   {
    "duration": 1078,
    "start_time": "2022-01-11T22:04:04.275Z"
   },
   {
    "duration": 250,
    "start_time": "2022-01-11T22:04:05.356Z"
   },
   {
    "duration": 27,
    "start_time": "2022-01-11T22:04:05.609Z"
   },
   {
    "duration": 20,
    "start_time": "2022-01-11T22:04:05.638Z"
   },
   {
    "duration": 40,
    "start_time": "2022-01-11T22:04:05.660Z"
   },
   {
    "duration": 31,
    "start_time": "2022-01-11T22:04:05.702Z"
   },
   {
    "duration": 30,
    "start_time": "2022-01-11T22:04:05.735Z"
   },
   {
    "duration": 26,
    "start_time": "2022-01-11T22:04:14.147Z"
   },
   {
    "duration": 29,
    "start_time": "2022-01-11T22:04:17.845Z"
   },
   {
    "duration": 70,
    "start_time": "2022-01-11T22:04:57.728Z"
   },
   {
    "duration": 10,
    "start_time": "2022-01-11T22:04:57.799Z"
   },
   {
    "duration": 10,
    "start_time": "2022-01-11T22:04:57.812Z"
   },
   {
    "duration": 14,
    "start_time": "2022-01-11T22:04:57.824Z"
   },
   {
    "duration": 60,
    "start_time": "2022-01-11T22:04:57.840Z"
   },
   {
    "duration": 42,
    "start_time": "2022-01-11T22:04:57.903Z"
   },
   {
    "duration": 4,
    "start_time": "2022-01-11T22:04:57.948Z"
   },
   {
    "duration": 10,
    "start_time": "2022-01-11T22:04:57.955Z"
   },
   {
    "duration": 41,
    "start_time": "2022-01-11T22:04:57.992Z"
   },
   {
    "duration": 124,
    "start_time": "2022-01-11T22:04:58.035Z"
   },
   {
    "duration": 82,
    "start_time": "2022-01-11T22:04:58.162Z"
   },
   {
    "duration": 716,
    "start_time": "2022-01-11T22:04:58.246Z"
   },
   {
    "duration": 3,
    "start_time": "2022-01-11T22:04:58.965Z"
   },
   {
    "duration": 3425,
    "start_time": "2022-01-11T22:04:58.970Z"
   },
   {
    "duration": 361,
    "start_time": "2022-01-11T22:05:02.398Z"
   },
   {
    "duration": 1117,
    "start_time": "2022-01-11T22:05:02.762Z"
   },
   {
    "duration": 31,
    "start_time": "2022-01-11T22:05:03.881Z"
   },
   {
    "duration": 25,
    "start_time": "2022-01-11T22:05:03.914Z"
   },
   {
    "duration": 19,
    "start_time": "2022-01-11T22:05:03.941Z"
   },
   {
    "duration": 44,
    "start_time": "2022-01-11T22:05:03.962Z"
   },
   {
    "duration": 31,
    "start_time": "2022-01-11T22:05:04.008Z"
   },
   {
    "duration": 61,
    "start_time": "2022-01-11T22:05:04.041Z"
   },
   {
    "duration": 32,
    "start_time": "2022-01-11T22:05:04.105Z"
   },
   {
    "duration": 31,
    "start_time": "2022-01-11T22:05:17.611Z"
   },
   {
    "duration": 35,
    "start_time": "2022-01-11T22:06:13.625Z"
   },
   {
    "duration": 39,
    "start_time": "2022-01-11T22:06:17.436Z"
   },
   {
    "duration": 41,
    "start_time": "2022-01-11T22:06:21.735Z"
   },
   {
    "duration": 40,
    "start_time": "2022-01-11T22:06:29.236Z"
   },
   {
    "duration": 778,
    "start_time": "2022-01-11T22:06:42.798Z"
   },
   {
    "duration": 70,
    "start_time": "2022-01-11T22:07:05.508Z"
   },
   {
    "duration": 719,
    "start_time": "2022-01-11T22:07:18.745Z"
   },
   {
    "duration": 32,
    "start_time": "2022-01-11T22:07:28.637Z"
   },
   {
    "duration": 803,
    "start_time": "2022-01-11T22:07:35.085Z"
   },
   {
    "duration": 39,
    "start_time": "2022-01-11T22:07:43.564Z"
   },
   {
    "duration": 726,
    "start_time": "2022-01-11T22:07:51.005Z"
   },
   {
    "duration": 37,
    "start_time": "2022-01-11T22:07:59.145Z"
   },
   {
    "duration": 96,
    "start_time": "2022-01-11T22:08:29.633Z"
   },
   {
    "duration": 15,
    "start_time": "2022-01-11T22:08:29.732Z"
   },
   {
    "duration": 11,
    "start_time": "2022-01-11T22:08:29.750Z"
   },
   {
    "duration": 39,
    "start_time": "2022-01-11T22:08:29.764Z"
   },
   {
    "duration": 32,
    "start_time": "2022-01-11T22:08:29.806Z"
   },
   {
    "duration": 67,
    "start_time": "2022-01-11T22:08:29.840Z"
   },
   {
    "duration": 5,
    "start_time": "2022-01-11T22:08:29.909Z"
   },
   {
    "duration": 14,
    "start_time": "2022-01-11T22:08:29.917Z"
   },
   {
    "duration": 71,
    "start_time": "2022-01-11T22:08:29.933Z"
   },
   {
    "duration": 109,
    "start_time": "2022-01-11T22:08:30.006Z"
   },
   {
    "duration": 74,
    "start_time": "2022-01-11T22:08:30.117Z"
   },
   {
    "duration": 744,
    "start_time": "2022-01-11T22:08:30.194Z"
   },
   {
    "duration": 4,
    "start_time": "2022-01-11T22:08:30.941Z"
   },
   {
    "duration": 3980,
    "start_time": "2022-01-11T22:08:30.947Z"
   },
   {
    "duration": 370,
    "start_time": "2022-01-11T22:08:34.929Z"
   },
   {
    "duration": 1148,
    "start_time": "2022-01-11T22:08:35.301Z"
   },
   {
    "duration": 41,
    "start_time": "2022-01-11T22:08:36.451Z"
   },
   {
    "duration": 25,
    "start_time": "2022-01-11T22:08:36.494Z"
   },
   {
    "duration": 39,
    "start_time": "2022-01-11T22:08:36.521Z"
   },
   {
    "duration": 39,
    "start_time": "2022-01-11T22:08:36.562Z"
   },
   {
    "duration": 32,
    "start_time": "2022-01-11T22:08:36.604Z"
   },
   {
    "duration": 68,
    "start_time": "2022-01-11T22:08:36.639Z"
   },
   {
    "duration": 32,
    "start_time": "2022-01-11T22:08:36.711Z"
   },
   {
    "duration": 30,
    "start_time": "2022-01-11T22:08:48.860Z"
   },
   {
    "duration": 28,
    "start_time": "2022-01-11T22:08:54.047Z"
   },
   {
    "duration": 29,
    "start_time": "2022-01-11T22:09:28.407Z"
   },
   {
    "duration": 40,
    "start_time": "2022-01-11T22:09:37.392Z"
   },
   {
    "duration": 32,
    "start_time": "2022-01-11T22:09:44.317Z"
   },
   {
    "duration": 33,
    "start_time": "2022-01-11T22:09:48.618Z"
   },
   {
    "duration": 221,
    "start_time": "2022-01-11T22:11:34.361Z"
   },
   {
    "duration": 207,
    "start_time": "2022-01-11T22:11:48.974Z"
   },
   {
    "duration": 221,
    "start_time": "2022-01-11T22:12:03.178Z"
   },
   {
    "duration": 30,
    "start_time": "2022-01-11T22:13:48.553Z"
   },
   {
    "duration": 61,
    "start_time": "2022-01-11T22:14:34.884Z"
   },
   {
    "duration": 68,
    "start_time": "2022-01-11T22:14:46.991Z"
   },
   {
    "duration": 30,
    "start_time": "2022-01-11T22:14:57.179Z"
   },
   {
    "duration": 59,
    "start_time": "2022-01-11T22:15:19.619Z"
   },
   {
    "duration": 89,
    "start_time": "2022-01-11T22:15:27.421Z"
   },
   {
    "duration": 29,
    "start_time": "2022-01-11T22:16:08.191Z"
   },
   {
    "duration": 28,
    "start_time": "2022-01-11T22:16:15.984Z"
   },
   {
    "duration": 718,
    "start_time": "2022-01-11T22:16:30.128Z"
   },
   {
    "duration": 31,
    "start_time": "2022-01-11T22:17:10.489Z"
   },
   {
    "duration": 25,
    "start_time": "2022-01-11T22:17:17.609Z"
   },
   {
    "duration": 202,
    "start_time": "2022-01-11T22:18:19.941Z"
   },
   {
    "duration": 905,
    "start_time": "2022-01-11T22:20:23.093Z"
   },
   {
    "duration": 32,
    "start_time": "2022-01-11T22:20:44.423Z"
   },
   {
    "duration": 200,
    "start_time": "2022-01-11T22:20:51.523Z"
   },
   {
    "duration": 31,
    "start_time": "2022-01-11T22:20:55.889Z"
   },
   {
    "duration": 706,
    "start_time": "2022-01-11T22:21:03.748Z"
   },
   {
    "duration": 936,
    "start_time": "2022-01-11T22:21:14.624Z"
   },
   {
    "duration": 32,
    "start_time": "2022-01-11T22:21:25.627Z"
   },
   {
    "duration": 30,
    "start_time": "2022-01-11T22:21:30.906Z"
   },
   {
    "duration": 265,
    "start_time": "2022-01-11T22:21:34.353Z"
   },
   {
    "duration": 33,
    "start_time": "2022-01-11T22:21:37.740Z"
   },
   {
    "duration": 29,
    "start_time": "2022-01-11T22:22:09.225Z"
   },
   {
    "duration": 29,
    "start_time": "2022-01-11T22:22:13.546Z"
   },
   {
    "duration": 28,
    "start_time": "2022-01-11T22:22:23.512Z"
   },
   {
    "duration": 33,
    "start_time": "2022-01-11T22:26:16.775Z"
   },
   {
    "duration": 34,
    "start_time": "2022-01-11T22:26:33.394Z"
   },
   {
    "duration": 720,
    "start_time": "2022-01-11T22:26:37.947Z"
   },
   {
    "duration": 30,
    "start_time": "2022-01-11T22:26:43.217Z"
   },
   {
    "duration": 28,
    "start_time": "2022-01-11T22:26:47.758Z"
   },
   {
    "duration": 29,
    "start_time": "2022-01-11T22:26:56.183Z"
   },
   {
    "duration": 31,
    "start_time": "2022-01-11T22:32:37.262Z"
   },
   {
    "duration": 202,
    "start_time": "2022-01-11T22:32:43.488Z"
   },
   {
    "duration": 28,
    "start_time": "2022-01-11T22:32:48.549Z"
   },
   {
    "duration": 62,
    "start_time": "2022-01-11T22:33:48.076Z"
   },
   {
    "duration": 58,
    "start_time": "2022-01-11T22:33:55.034Z"
   },
   {
    "duration": 1015,
    "start_time": "2022-01-11T22:34:00.707Z"
   },
   {
    "duration": 56,
    "start_time": "2022-01-11T22:34:11.864Z"
   },
   {
    "duration": 1237,
    "start_time": "2022-01-11T22:34:16.121Z"
   },
   {
    "duration": 701,
    "start_time": "2022-01-11T22:34:26.136Z"
   },
   {
    "duration": 30,
    "start_time": "2022-01-11T22:34:30.636Z"
   },
   {
    "duration": 37,
    "start_time": "2022-01-11T22:34:54.089Z"
   },
   {
    "duration": 29,
    "start_time": "2022-01-11T22:35:00.759Z"
   },
   {
    "duration": 201,
    "start_time": "2022-01-11T22:35:27.952Z"
   },
   {
    "duration": 29,
    "start_time": "2022-01-11T22:35:32.956Z"
   },
   {
    "duration": 198,
    "start_time": "2022-01-11T22:38:26.319Z"
   },
   {
    "duration": 31,
    "start_time": "2022-01-11T22:38:40.494Z"
   },
   {
    "duration": 61,
    "start_time": "2022-01-11T22:39:56.909Z"
   },
   {
    "duration": 34,
    "start_time": "2022-01-11T22:40:00.509Z"
   },
   {
    "duration": 31,
    "start_time": "2022-01-11T22:40:42.157Z"
   },
   {
    "duration": 29,
    "start_time": "2022-01-11T22:40:58.567Z"
   },
   {
    "duration": 70,
    "start_time": "2022-01-11T22:42:32.581Z"
   },
   {
    "duration": 9,
    "start_time": "2022-01-11T22:42:32.653Z"
   },
   {
    "duration": 30,
    "start_time": "2022-01-11T22:42:32.664Z"
   },
   {
    "duration": 14,
    "start_time": "2022-01-11T22:42:32.697Z"
   },
   {
    "duration": 30,
    "start_time": "2022-01-11T22:42:32.713Z"
   },
   {
    "duration": 74,
    "start_time": "2022-01-11T22:42:32.745Z"
   },
   {
    "duration": 3,
    "start_time": "2022-01-11T22:42:32.821Z"
   },
   {
    "duration": 11,
    "start_time": "2022-01-11T22:42:32.827Z"
   },
   {
    "duration": 66,
    "start_time": "2022-01-11T22:42:32.840Z"
   },
   {
    "duration": 98,
    "start_time": "2022-01-11T22:42:32.908Z"
   },
   {
    "duration": 52,
    "start_time": "2022-01-11T22:42:33.008Z"
   },
   {
    "duration": 786,
    "start_time": "2022-01-11T22:42:33.061Z"
   },
   {
    "duration": 4,
    "start_time": "2022-01-11T22:42:33.849Z"
   },
   {
    "duration": 3403,
    "start_time": "2022-01-11T22:42:33.855Z"
   },
   {
    "duration": 340,
    "start_time": "2022-01-11T22:42:37.260Z"
   },
   {
    "duration": 1335,
    "start_time": "2022-01-11T22:42:37.602Z"
   },
   {
    "duration": 25,
    "start_time": "2022-01-11T22:42:38.939Z"
   },
   {
    "duration": 37,
    "start_time": "2022-01-11T22:42:38.966Z"
   },
   {
    "duration": 18,
    "start_time": "2022-01-11T22:42:39.004Z"
   },
   {
    "duration": 17,
    "start_time": "2022-01-11T22:42:39.024Z"
   },
   {
    "duration": 50,
    "start_time": "2022-01-11T22:42:39.042Z"
   },
   {
    "duration": 30,
    "start_time": "2022-01-11T22:42:39.094Z"
   },
   {
    "duration": 27,
    "start_time": "2022-01-11T22:42:39.126Z"
   },
   {
    "duration": 31,
    "start_time": "2022-01-11T22:45:04.690Z"
   },
   {
    "duration": 2879,
    "start_time": "2022-01-11T22:45:55.682Z"
   },
   {
    "duration": 2982,
    "start_time": "2022-01-11T22:47:18.029Z"
   },
   {
    "duration": 2748,
    "start_time": "2022-01-11T22:47:29.901Z"
   },
   {
    "duration": 68,
    "start_time": "2022-01-11T22:47:54.430Z"
   },
   {
    "duration": 10,
    "start_time": "2022-01-11T22:47:54.500Z"
   },
   {
    "duration": 10,
    "start_time": "2022-01-11T22:47:54.512Z"
   },
   {
    "duration": 13,
    "start_time": "2022-01-11T22:47:54.524Z"
   },
   {
    "duration": 69,
    "start_time": "2022-01-11T22:47:54.539Z"
   },
   {
    "duration": 41,
    "start_time": "2022-01-11T22:47:54.610Z"
   },
   {
    "duration": 4,
    "start_time": "2022-01-11T22:47:54.653Z"
   },
   {
    "duration": 37,
    "start_time": "2022-01-11T22:47:54.659Z"
   },
   {
    "duration": 41,
    "start_time": "2022-01-11T22:47:54.698Z"
   },
   {
    "duration": 105,
    "start_time": "2022-01-11T22:47:54.741Z"
   },
   {
    "duration": 80,
    "start_time": "2022-01-11T22:47:54.849Z"
   },
   {
    "duration": 791,
    "start_time": "2022-01-11T22:47:54.931Z"
   },
   {
    "duration": 3,
    "start_time": "2022-01-11T22:47:55.724Z"
   },
   {
    "duration": 2768,
    "start_time": "2022-01-11T22:47:55.729Z"
   },
   {
    "duration": 318,
    "start_time": "2022-01-11T22:47:58.499Z"
   },
   {
    "duration": 1021,
    "start_time": "2022-01-11T22:47:58.819Z"
   },
   {
    "duration": 26,
    "start_time": "2022-01-11T22:47:59.842Z"
   },
   {
    "duration": 35,
    "start_time": "2022-01-11T22:47:59.869Z"
   },
   {
    "duration": 18,
    "start_time": "2022-01-11T22:47:59.907Z"
   },
   {
    "duration": 15,
    "start_time": "2022-01-11T22:47:59.927Z"
   },
   {
    "duration": 54,
    "start_time": "2022-01-11T22:47:59.943Z"
   },
   {
    "duration": 30,
    "start_time": "2022-01-11T22:47:59.999Z"
   },
   {
    "duration": 30,
    "start_time": "2022-01-11T22:48:00.031Z"
   },
   {
    "duration": 755,
    "start_time": "2022-01-11T22:48:00.063Z"
   },
   {
    "duration": 27,
    "start_time": "2022-01-11T22:48:15.979Z"
   },
   {
    "duration": 28,
    "start_time": "2022-01-11T22:50:20.853Z"
   },
   {
    "duration": 28,
    "start_time": "2022-01-11T22:50:42.199Z"
   },
   {
    "duration": 42,
    "start_time": "2022-01-11T22:50:59.699Z"
   },
   {
    "duration": 73,
    "start_time": "2022-01-11T22:52:04.587Z"
   },
   {
    "duration": 12,
    "start_time": "2022-01-11T22:52:04.662Z"
   },
   {
    "duration": 13,
    "start_time": "2022-01-11T22:52:04.692Z"
   },
   {
    "duration": 31,
    "start_time": "2022-01-11T22:52:04.707Z"
   },
   {
    "duration": 36,
    "start_time": "2022-01-11T22:52:04.740Z"
   },
   {
    "duration": 52,
    "start_time": "2022-01-11T22:52:04.777Z"
   },
   {
    "duration": 4,
    "start_time": "2022-01-11T22:52:04.832Z"
   },
   {
    "duration": 20,
    "start_time": "2022-01-11T22:52:04.840Z"
   },
   {
    "duration": 72,
    "start_time": "2022-01-11T22:52:04.862Z"
   },
   {
    "duration": 109,
    "start_time": "2022-01-11T22:52:04.937Z"
   },
   {
    "duration": 68,
    "start_time": "2022-01-11T22:52:05.049Z"
   },
   {
    "duration": 795,
    "start_time": "2022-01-11T22:52:05.119Z"
   },
   {
    "duration": 3,
    "start_time": "2022-01-11T22:52:05.917Z"
   },
   {
    "duration": 3227,
    "start_time": "2022-01-11T22:52:05.922Z"
   },
   {
    "duration": 353,
    "start_time": "2022-01-11T22:52:09.152Z"
   },
   {
    "duration": 1380,
    "start_time": "2022-01-11T22:52:09.507Z"
   },
   {
    "duration": 28,
    "start_time": "2022-01-11T22:52:10.892Z"
   },
   {
    "duration": 25,
    "start_time": "2022-01-11T22:52:10.922Z"
   },
   {
    "duration": 43,
    "start_time": "2022-01-11T22:52:10.949Z"
   },
   {
    "duration": 15,
    "start_time": "2022-01-11T22:52:10.994Z"
   },
   {
    "duration": 31,
    "start_time": "2022-01-11T22:52:11.011Z"
   },
   {
    "duration": 53,
    "start_time": "2022-01-11T22:52:11.043Z"
   },
   {
    "duration": 27,
    "start_time": "2022-01-11T22:52:11.100Z"
   },
   {
    "duration": 26,
    "start_time": "2022-01-11T22:52:11.129Z"
   },
   {
    "duration": 60,
    "start_time": "2022-01-11T22:59:29.367Z"
   },
   {
    "duration": 7057,
    "start_time": "2022-01-11T22:59:32.479Z"
   },
   {
    "duration": 515,
    "start_time": "2022-01-11T23:00:34.779Z"
   },
   {
    "duration": 180,
    "start_time": "2022-01-11T23:03:11.520Z"
   },
   {
    "duration": 461,
    "start_time": "2022-01-11T23:03:24.633Z"
   },
   {
    "duration": 454,
    "start_time": "2022-01-11T23:03:30.272Z"
   },
   {
    "duration": 780,
    "start_time": "2022-01-11T23:03:40.054Z"
   },
   {
    "duration": 86,
    "start_time": "2022-01-11T23:04:03.969Z"
   },
   {
    "duration": 11,
    "start_time": "2022-01-11T23:04:04.057Z"
   },
   {
    "duration": 32,
    "start_time": "2022-01-11T23:04:04.070Z"
   },
   {
    "duration": 14,
    "start_time": "2022-01-11T23:04:04.104Z"
   },
   {
    "duration": 31,
    "start_time": "2022-01-11T23:04:04.120Z"
   },
   {
    "duration": 75,
    "start_time": "2022-01-11T23:04:04.153Z"
   },
   {
    "duration": 796,
    "start_time": "2022-01-11T23:04:04.231Z"
   },
   {
    "duration": 3,
    "start_time": "2022-01-11T23:04:05.030Z"
   },
   {
    "duration": 12,
    "start_time": "2022-01-11T23:04:05.035Z"
   },
   {
    "duration": 65,
    "start_time": "2022-01-11T23:04:05.049Z"
   },
   {
    "duration": 101,
    "start_time": "2022-01-11T23:04:05.116Z"
   },
   {
    "duration": 52,
    "start_time": "2022-01-11T23:04:05.219Z"
   },
   {
    "duration": 759,
    "start_time": "2022-01-11T23:04:05.273Z"
   },
   {
    "duration": 3,
    "start_time": "2022-01-11T23:04:06.034Z"
   },
   {
    "duration": 3212,
    "start_time": "2022-01-11T23:04:06.039Z"
   },
   {
    "duration": 343,
    "start_time": "2022-01-11T23:04:09.253Z"
   },
   {
    "duration": 924,
    "start_time": "2022-01-11T23:04:09.598Z"
   },
   {
    "duration": 30,
    "start_time": "2022-01-11T23:04:10.523Z"
   },
   {
    "duration": 24,
    "start_time": "2022-01-11T23:04:10.555Z"
   },
   {
    "duration": 28,
    "start_time": "2022-01-11T23:04:10.581Z"
   },
   {
    "duration": 16,
    "start_time": "2022-01-11T23:04:10.611Z"
   },
   {
    "duration": 30,
    "start_time": "2022-01-11T23:04:10.629Z"
   },
   {
    "duration": 57,
    "start_time": "2022-01-11T23:04:10.663Z"
   },
   {
    "duration": 27,
    "start_time": "2022-01-11T23:04:10.722Z"
   },
   {
    "duration": 47,
    "start_time": "2022-01-11T23:04:10.751Z"
   },
   {
    "duration": 67,
    "start_time": "2022-01-11T23:04:23.379Z"
   },
   {
    "duration": 9,
    "start_time": "2022-01-11T23:04:23.448Z"
   },
   {
    "duration": 23,
    "start_time": "2022-01-11T23:04:23.459Z"
   },
   {
    "duration": 19,
    "start_time": "2022-01-11T23:04:23.484Z"
   },
   {
    "duration": 46,
    "start_time": "2022-01-11T23:04:23.504Z"
   },
   {
    "duration": 40,
    "start_time": "2022-01-11T23:04:23.552Z"
   },
   {
    "duration": 866,
    "start_time": "2022-01-11T23:04:27.256Z"
   },
   {
    "duration": 729,
    "start_time": "2022-01-11T23:17:41.769Z"
   },
   {
    "duration": 890,
    "start_time": "2022-01-11T23:27:02.803Z"
   },
   {
    "duration": 740,
    "start_time": "2022-01-11T23:27:53.682Z"
   },
   {
    "duration": 801,
    "start_time": "2022-01-11T23:28:02.863Z"
   },
   {
    "duration": 69,
    "start_time": "2022-01-11T23:29:03.902Z"
   },
   {
    "duration": 9,
    "start_time": "2022-01-11T23:29:03.973Z"
   },
   {
    "duration": 9,
    "start_time": "2022-01-11T23:29:03.992Z"
   },
   {
    "duration": 13,
    "start_time": "2022-01-11T23:29:04.003Z"
   },
   {
    "duration": 30,
    "start_time": "2022-01-11T23:29:04.017Z"
   },
   {
    "duration": 69,
    "start_time": "2022-01-11T23:29:04.049Z"
   },
   {
    "duration": 812,
    "start_time": "2022-01-11T23:29:04.120Z"
   },
   {
    "duration": 4,
    "start_time": "2022-01-11T23:29:04.935Z"
   },
   {
    "duration": 13,
    "start_time": "2022-01-11T23:29:04.941Z"
   },
   {
    "duration": 65,
    "start_time": "2022-01-11T23:29:04.955Z"
   },
   {
    "duration": 96,
    "start_time": "2022-01-11T23:29:05.022Z"
   },
   {
    "duration": 51,
    "start_time": "2022-01-11T23:29:05.119Z"
   },
   {
    "duration": 735,
    "start_time": "2022-01-11T23:29:05.192Z"
   },
   {
    "duration": 3,
    "start_time": "2022-01-11T23:29:05.929Z"
   },
   {
    "duration": 3355,
    "start_time": "2022-01-11T23:29:08.917Z"
   },
   {
    "duration": 5664,
    "start_time": "2022-01-11T23:29:24.984Z"
   },
   {
    "duration": 26,
    "start_time": "2022-01-11T23:30:55.372Z"
   },
   {
    "duration": 205,
    "start_time": "2022-01-11T23:32:16.144Z"
   },
   {
    "duration": 75,
    "start_time": "2022-01-11T23:32:19.863Z"
   },
   {
    "duration": 10,
    "start_time": "2022-01-11T23:32:19.939Z"
   },
   {
    "duration": 9,
    "start_time": "2022-01-11T23:32:19.951Z"
   },
   {
    "duration": 41,
    "start_time": "2022-01-11T23:32:19.961Z"
   },
   {
    "duration": 41,
    "start_time": "2022-01-11T23:32:20.004Z"
   },
   {
    "duration": 58,
    "start_time": "2022-01-11T23:32:20.047Z"
   },
   {
    "duration": 846,
    "start_time": "2022-01-11T23:32:20.107Z"
   },
   {
    "duration": 4,
    "start_time": "2022-01-11T23:32:20.955Z"
   },
   {
    "duration": 16,
    "start_time": "2022-01-11T23:32:20.961Z"
   },
   {
    "duration": 52,
    "start_time": "2022-01-11T23:32:20.979Z"
   },
   {
    "duration": 105,
    "start_time": "2022-01-11T23:32:21.032Z"
   },
   {
    "duration": 61,
    "start_time": "2022-01-11T23:32:21.139Z"
   },
   {
    "duration": 792,
    "start_time": "2022-01-11T23:32:21.202Z"
   },
   {
    "duration": 3,
    "start_time": "2022-01-11T23:32:21.997Z"
   },
   {
    "duration": 6313,
    "start_time": "2022-01-11T23:32:22.003Z"
   },
   {
    "duration": 384,
    "start_time": "2022-01-11T23:32:28.319Z"
   },
   {
    "duration": 1094,
    "start_time": "2022-01-11T23:32:28.706Z"
   },
   {
    "duration": 27,
    "start_time": "2022-01-11T23:32:29.802Z"
   },
   {
    "duration": 24,
    "start_time": "2022-01-11T23:32:29.831Z"
   },
   {
    "duration": 41,
    "start_time": "2022-01-11T23:32:29.857Z"
   },
   {
    "duration": 19,
    "start_time": "2022-01-11T23:32:29.900Z"
   },
   {
    "duration": 32,
    "start_time": "2022-01-11T23:32:29.921Z"
   },
   {
    "duration": 49,
    "start_time": "2022-01-11T23:32:29.956Z"
   },
   {
    "duration": 31,
    "start_time": "2022-01-11T23:32:30.007Z"
   },
   {
    "duration": 836,
    "start_time": "2022-01-11T23:32:30.040Z"
   },
   {
    "duration": 32,
    "start_time": "2022-01-11T23:32:36.315Z"
   },
   {
    "duration": 64,
    "start_time": "2022-01-11T23:33:27.209Z"
   },
   {
    "duration": 1695,
    "start_time": "2022-01-11T23:33:34.755Z"
   },
   {
    "duration": 2002,
    "start_time": "2022-01-11T23:33:42.535Z"
   },
   {
    "duration": 35,
    "start_time": "2022-01-11T23:33:51.451Z"
   },
   {
    "duration": 47,
    "start_time": "2022-01-11T23:34:41.534Z"
   },
   {
    "duration": 921,
    "start_time": "2022-01-11T23:35:06.843Z"
   },
   {
    "duration": 38,
    "start_time": "2022-01-11T23:35:12.426Z"
   },
   {
    "duration": 223,
    "start_time": "2022-01-11T23:35:30.685Z"
   },
   {
    "duration": 48,
    "start_time": "2022-01-11T23:36:14.901Z"
   },
   {
    "duration": 67,
    "start_time": "2022-01-11T23:37:56.418Z"
   },
   {
    "duration": 10,
    "start_time": "2022-01-11T23:37:56.487Z"
   },
   {
    "duration": 9,
    "start_time": "2022-01-11T23:37:56.499Z"
   },
   {
    "duration": 14,
    "start_time": "2022-01-11T23:37:56.510Z"
   },
   {
    "duration": 28,
    "start_time": "2022-01-11T23:37:56.526Z"
   },
   {
    "duration": 69,
    "start_time": "2022-01-11T23:37:56.556Z"
   },
   {
    "duration": 889,
    "start_time": "2022-01-11T23:37:56.627Z"
   },
   {
    "duration": 4,
    "start_time": "2022-01-11T23:37:57.519Z"
   },
   {
    "duration": 13,
    "start_time": "2022-01-11T23:37:57.525Z"
   },
   {
    "duration": 64,
    "start_time": "2022-01-11T23:37:57.540Z"
   },
   {
    "duration": 103,
    "start_time": "2022-01-11T23:37:57.606Z"
   },
   {
    "duration": 53,
    "start_time": "2022-01-11T23:37:57.711Z"
   },
   {
    "duration": 770,
    "start_time": "2022-01-11T23:37:57.765Z"
   },
   {
    "duration": 3,
    "start_time": "2022-01-11T23:37:58.537Z"
   },
   {
    "duration": 6382,
    "start_time": "2022-01-11T23:37:58.542Z"
   },
   {
    "duration": 339,
    "start_time": "2022-01-11T23:38:04.926Z"
   },
   {
    "duration": 1053,
    "start_time": "2022-01-11T23:38:05.267Z"
   },
   {
    "duration": 27,
    "start_time": "2022-01-11T23:38:06.322Z"
   },
   {
    "duration": 43,
    "start_time": "2022-01-11T23:38:06.350Z"
   },
   {
    "duration": 19,
    "start_time": "2022-01-11T23:38:06.395Z"
   },
   {
    "duration": 16,
    "start_time": "2022-01-11T23:38:06.415Z"
   },
   {
    "duration": 30,
    "start_time": "2022-01-11T23:38:06.432Z"
   },
   {
    "duration": 53,
    "start_time": "2022-01-11T23:38:06.465Z"
   },
   {
    "duration": 29,
    "start_time": "2022-01-11T23:38:06.519Z"
   },
   {
    "duration": 63,
    "start_time": "2022-01-11T23:38:06.550Z"
   },
   {
    "duration": 68,
    "start_time": "2022-01-11T23:43:16.951Z"
   },
   {
    "duration": 9,
    "start_time": "2022-01-11T23:43:17.021Z"
   },
   {
    "duration": 9,
    "start_time": "2022-01-11T23:43:17.032Z"
   },
   {
    "duration": 13,
    "start_time": "2022-01-11T23:43:17.043Z"
   },
   {
    "duration": 60,
    "start_time": "2022-01-11T23:43:17.057Z"
   },
   {
    "duration": 38,
    "start_time": "2022-01-11T23:43:17.119Z"
   },
   {
    "duration": 852,
    "start_time": "2022-01-11T23:43:17.159Z"
   },
   {
    "duration": 4,
    "start_time": "2022-01-11T23:43:18.013Z"
   },
   {
    "duration": 12,
    "start_time": "2022-01-11T23:43:18.018Z"
   },
   {
    "duration": 60,
    "start_time": "2022-01-11T23:43:18.031Z"
   },
   {
    "duration": 85,
    "start_time": "2022-01-11T23:43:18.093Z"
   },
   {
    "duration": 57,
    "start_time": "2022-01-11T23:43:18.180Z"
   },
   {
    "duration": 762,
    "start_time": "2022-01-11T23:43:18.239Z"
   },
   {
    "duration": 3,
    "start_time": "2022-01-11T23:43:19.002Z"
   },
   {
    "duration": 5684,
    "start_time": "2022-01-11T23:43:19.007Z"
   },
   {
    "duration": 333,
    "start_time": "2022-01-11T23:43:24.693Z"
   },
   {
    "duration": 1058,
    "start_time": "2022-01-11T23:43:25.028Z"
   },
   {
    "duration": 432,
    "start_time": "2022-01-11T23:43:26.088Z"
   },
   {
    "duration": 23,
    "start_time": "2022-01-11T23:43:26.522Z"
   },
   {
    "duration": 22,
    "start_time": "2022-01-11T23:43:26.546Z"
   },
   {
    "duration": 32,
    "start_time": "2022-01-11T23:43:26.569Z"
   },
   {
    "duration": 30,
    "start_time": "2022-01-11T23:43:26.602Z"
   },
   {
    "duration": 28,
    "start_time": "2022-01-11T23:43:26.635Z"
   },
   {
    "duration": 49,
    "start_time": "2022-01-11T23:43:26.665Z"
   },
   {
    "duration": 37,
    "start_time": "2022-01-11T23:43:26.715Z"
   },
   {
    "duration": 74,
    "start_time": "2022-01-11T23:47:37.664Z"
   },
   {
    "duration": 11,
    "start_time": "2022-01-11T23:47:37.741Z"
   },
   {
    "duration": 11,
    "start_time": "2022-01-11T23:47:37.754Z"
   },
   {
    "duration": 17,
    "start_time": "2022-01-11T23:47:37.792Z"
   },
   {
    "duration": 30,
    "start_time": "2022-01-11T23:47:37.811Z"
   },
   {
    "duration": 73,
    "start_time": "2022-01-11T23:47:37.843Z"
   },
   {
    "duration": 812,
    "start_time": "2022-01-11T23:47:37.919Z"
   },
   {
    "duration": 4,
    "start_time": "2022-01-11T23:47:38.734Z"
   },
   {
    "duration": 14,
    "start_time": "2022-01-11T23:47:38.739Z"
   },
   {
    "duration": 59,
    "start_time": "2022-01-11T23:47:38.755Z"
   },
   {
    "duration": 89,
    "start_time": "2022-01-11T23:47:38.816Z"
   },
   {
    "duration": 50,
    "start_time": "2022-01-11T23:47:38.907Z"
   },
   {
    "duration": 754,
    "start_time": "2022-01-11T23:47:38.959Z"
   },
   {
    "duration": 3,
    "start_time": "2022-01-11T23:47:39.716Z"
   },
   {
    "duration": 5595,
    "start_time": "2022-01-11T23:47:39.721Z"
   },
   {
    "duration": 325,
    "start_time": "2022-01-11T23:47:45.318Z"
   },
   {
    "duration": 1014,
    "start_time": "2022-01-11T23:47:45.644Z"
   },
   {
    "duration": 35,
    "start_time": "2022-01-11T23:47:46.660Z"
   },
   {
    "duration": 24,
    "start_time": "2022-01-11T23:47:46.697Z"
   },
   {
    "duration": 18,
    "start_time": "2022-01-11T23:47:46.722Z"
   },
   {
    "duration": 18,
    "start_time": "2022-01-11T23:47:46.742Z"
   },
   {
    "duration": 55,
    "start_time": "2022-01-11T23:47:46.761Z"
   },
   {
    "duration": 28,
    "start_time": "2022-01-11T23:47:46.819Z"
   },
   {
    "duration": 46,
    "start_time": "2022-01-11T23:47:46.849Z"
   },
   {
    "duration": 36,
    "start_time": "2022-01-11T23:47:46.897Z"
   },
   {
    "duration": 27,
    "start_time": "2022-01-11T23:52:57.918Z"
   },
   {
    "duration": 48,
    "start_time": "2022-01-11T23:54:17.450Z"
   },
   {
    "duration": 29,
    "start_time": "2022-01-11T23:56:09.267Z"
   },
   {
    "duration": 30,
    "start_time": "2022-01-12T00:11:07.971Z"
   },
   {
    "duration": 185,
    "start_time": "2022-01-12T00:12:47.752Z"
   },
   {
    "duration": 31,
    "start_time": "2022-01-12T00:12:58.239Z"
   },
   {
    "duration": 28,
    "start_time": "2022-01-12T00:13:36.878Z"
   },
   {
    "duration": 217,
    "start_time": "2022-01-12T00:13:59.041Z"
   },
   {
    "duration": 662,
    "start_time": "2022-01-12T00:14:31.096Z"
   },
   {
    "duration": 28,
    "start_time": "2022-01-12T00:14:40.196Z"
   },
   {
    "duration": 28,
    "start_time": "2022-01-12T00:18:56.681Z"
   },
   {
    "duration": 57,
    "start_time": "2022-01-12T00:19:15.127Z"
   },
   {
    "duration": 26,
    "start_time": "2022-01-12T00:19:31.770Z"
   },
   {
    "duration": 65,
    "start_time": "2022-01-12T00:30:02.521Z"
   },
   {
    "duration": 96,
    "start_time": "2022-01-12T00:30:09.012Z"
   },
   {
    "duration": 37,
    "start_time": "2022-01-12T00:30:14.069Z"
   },
   {
    "duration": 65,
    "start_time": "2022-01-12T00:31:09.169Z"
   },
   {
    "duration": 56,
    "start_time": "2022-01-12T00:31:13.550Z"
   },
   {
    "duration": 176,
    "start_time": "2022-01-12T00:31:28.650Z"
   },
   {
    "duration": 44,
    "start_time": "2022-01-12T00:32:06.399Z"
   },
   {
    "duration": 35,
    "start_time": "2022-01-12T00:32:30.343Z"
   },
   {
    "duration": 34,
    "start_time": "2022-01-12T00:33:12.748Z"
   },
   {
    "duration": 45,
    "start_time": "2022-01-12T00:33:40.328Z"
   },
   {
    "duration": 28,
    "start_time": "2022-01-12T00:35:22.478Z"
   },
   {
    "duration": 178,
    "start_time": "2022-01-12T00:35:34.612Z"
   },
   {
    "duration": 184,
    "start_time": "2022-01-12T00:35:48.277Z"
   },
   {
    "duration": 23,
    "start_time": "2022-01-12T00:36:02.886Z"
   },
   {
    "duration": 20,
    "start_time": "2022-01-12T00:36:20.807Z"
   },
   {
    "duration": 18,
    "start_time": "2022-01-12T00:36:30.212Z"
   },
   {
    "duration": 19,
    "start_time": "2022-01-12T00:36:41.059Z"
   },
   {
    "duration": 20,
    "start_time": "2022-01-12T00:36:47.531Z"
   },
   {
    "duration": 202,
    "start_time": "2022-01-12T00:37:35.590Z"
   },
   {
    "duration": 193,
    "start_time": "2022-01-12T00:37:41.146Z"
   },
   {
    "duration": 197,
    "start_time": "2022-01-12T00:37:59.237Z"
   },
   {
    "duration": 238,
    "start_time": "2022-01-12T00:38:05.698Z"
   },
   {
    "duration": 202,
    "start_time": "2022-01-12T00:38:17.454Z"
   },
   {
    "duration": 208,
    "start_time": "2022-01-12T00:38:23.310Z"
   },
   {
    "duration": 17,
    "start_time": "2022-01-12T00:39:15.641Z"
   },
   {
    "duration": 28,
    "start_time": "2022-01-12T00:39:23.477Z"
   },
   {
    "duration": 28,
    "start_time": "2022-01-12T00:39:37.343Z"
   },
   {
    "duration": 340,
    "start_time": "2022-01-12T00:39:47.422Z"
   },
   {
    "duration": 18,
    "start_time": "2022-01-12T00:40:04.324Z"
   },
   {
    "duration": 182,
    "start_time": "2022-01-12T00:40:09.860Z"
   },
   {
    "duration": 4528,
    "start_time": "2022-01-12T00:40:21.784Z"
   },
   {
    "duration": 39,
    "start_time": "2022-01-12T00:41:06.257Z"
   },
   {
    "duration": 40,
    "start_time": "2022-01-12T00:41:35.623Z"
   },
   {
    "duration": 43,
    "start_time": "2022-01-12T00:42:02.145Z"
   },
   {
    "duration": 41,
    "start_time": "2022-01-12T00:42:35.209Z"
   },
   {
    "duration": 231,
    "start_time": "2022-01-12T00:43:00.785Z"
   },
   {
    "duration": 236,
    "start_time": "2022-01-12T00:43:04.791Z"
   },
   {
    "duration": 248,
    "start_time": "2022-01-12T00:43:08.257Z"
   },
   {
    "duration": 65,
    "start_time": "2022-01-12T00:44:16.225Z"
   },
   {
    "duration": 60,
    "start_time": "2022-01-12T00:44:19.470Z"
   },
   {
    "duration": 52,
    "start_time": "2022-01-12T00:44:29.420Z"
   },
   {
    "duration": 46,
    "start_time": "2022-01-12T00:45:02.442Z"
   },
   {
    "duration": 36,
    "start_time": "2022-01-12T00:45:23.978Z"
   },
   {
    "duration": 27,
    "start_time": "2022-01-12T00:45:37.939Z"
   },
   {
    "duration": 47,
    "start_time": "2022-01-12T00:46:02.287Z"
   },
   {
    "duration": 49,
    "start_time": "2022-01-12T00:49:05.058Z"
   },
   {
    "duration": 52,
    "start_time": "2022-01-12T00:50:07.552Z"
   },
   {
    "duration": 47,
    "start_time": "2022-01-12T00:50:16.877Z"
   },
   {
    "duration": 46,
    "start_time": "2022-01-12T00:50:35.061Z"
   },
   {
    "duration": 44,
    "start_time": "2022-01-12T00:51:26.317Z"
   },
   {
    "duration": 45,
    "start_time": "2022-01-12T00:51:59.243Z"
   },
   {
    "duration": 42,
    "start_time": "2022-01-12T00:52:23.122Z"
   },
   {
    "duration": 38,
    "start_time": "2022-01-12T00:53:22.965Z"
   },
   {
    "duration": 43,
    "start_time": "2022-01-12T00:54:12.051Z"
   },
   {
    "duration": 71,
    "start_time": "2022-01-12T00:57:39.336Z"
   },
   {
    "duration": 9,
    "start_time": "2022-01-12T00:57:39.409Z"
   },
   {
    "duration": 11,
    "start_time": "2022-01-12T00:57:39.420Z"
   },
   {
    "duration": 13,
    "start_time": "2022-01-12T00:57:39.432Z"
   },
   {
    "duration": 61,
    "start_time": "2022-01-12T00:57:39.447Z"
   },
   {
    "duration": 40,
    "start_time": "2022-01-12T00:57:39.510Z"
   },
   {
    "duration": 896,
    "start_time": "2022-01-12T00:57:39.552Z"
   },
   {
    "duration": 4,
    "start_time": "2022-01-12T00:57:40.450Z"
   },
   {
    "duration": 11,
    "start_time": "2022-01-12T00:57:40.456Z"
   },
   {
    "duration": 55,
    "start_time": "2022-01-12T00:57:40.469Z"
   },
   {
    "duration": 104,
    "start_time": "2022-01-12T00:57:40.526Z"
   },
   {
    "duration": 60,
    "start_time": "2022-01-12T00:57:40.632Z"
   },
   {
    "duration": 752,
    "start_time": "2022-01-12T00:57:40.694Z"
   },
   {
    "duration": 2,
    "start_time": "2022-01-12T00:57:41.448Z"
   },
   {
    "duration": 6195,
    "start_time": "2022-01-12T00:57:41.452Z"
   },
   {
    "duration": 328,
    "start_time": "2022-01-12T00:57:47.649Z"
   },
   {
    "duration": 1045,
    "start_time": "2022-01-12T00:57:47.979Z"
   },
   {
    "duration": 495,
    "start_time": "2022-01-12T00:57:49.026Z"
   },
   {
    "duration": 24,
    "start_time": "2022-01-12T00:57:49.523Z"
   },
   {
    "duration": 46,
    "start_time": "2022-01-12T00:57:49.549Z"
   },
   {
    "duration": 15,
    "start_time": "2022-01-12T00:57:49.597Z"
   },
   {
    "duration": 29,
    "start_time": "2022-01-12T00:57:49.614Z"
   },
   {
    "duration": 50,
    "start_time": "2022-01-12T00:57:49.646Z"
   },
   {
    "duration": 38,
    "start_time": "2022-01-12T00:57:49.698Z"
   },
   {
    "duration": 63,
    "start_time": "2022-01-12T00:57:49.738Z"
   },
   {
    "duration": 5,
    "start_time": "2022-01-12T00:57:49.803Z"
   },
   {
    "duration": 29,
    "start_time": "2022-01-12T00:57:49.810Z"
   },
   {
    "duration": 51,
    "start_time": "2022-01-12T00:57:49.841Z"
   },
   {
    "duration": 45,
    "start_time": "2022-01-12T00:57:49.895Z"
   },
   {
    "duration": 69,
    "start_time": "2022-01-12T01:44:40.617Z"
   },
   {
    "duration": 9,
    "start_time": "2022-01-12T01:44:40.688Z"
   },
   {
    "duration": 14,
    "start_time": "2022-01-12T01:44:40.698Z"
   },
   {
    "duration": 24,
    "start_time": "2022-01-12T01:44:40.713Z"
   },
   {
    "duration": 33,
    "start_time": "2022-01-12T01:44:40.739Z"
   },
   {
    "duration": 51,
    "start_time": "2022-01-12T01:44:40.773Z"
   },
   {
    "duration": 894,
    "start_time": "2022-01-12T01:44:40.825Z"
   },
   {
    "duration": 3,
    "start_time": "2022-01-12T01:44:41.722Z"
   },
   {
    "duration": 40,
    "start_time": "2022-01-12T01:44:41.728Z"
   },
   {
    "duration": 60,
    "start_time": "2022-01-12T01:44:41.770Z"
   },
   {
    "duration": 123,
    "start_time": "2022-01-12T01:44:41.832Z"
   },
   {
    "duration": 94,
    "start_time": "2022-01-12T01:44:41.957Z"
   },
   {
    "duration": 752,
    "start_time": "2022-01-12T01:44:42.053Z"
   },
   {
    "duration": 2,
    "start_time": "2022-01-12T01:44:42.807Z"
   },
   {
    "duration": 5386,
    "start_time": "2022-01-12T01:44:42.811Z"
   },
   {
    "duration": 335,
    "start_time": "2022-01-12T01:44:48.199Z"
   },
   {
    "duration": 1032,
    "start_time": "2022-01-12T01:44:48.536Z"
   },
   {
    "duration": 35,
    "start_time": "2022-01-12T01:44:49.569Z"
   },
   {
    "duration": 30,
    "start_time": "2022-01-12T01:44:49.605Z"
   },
   {
    "duration": 37,
    "start_time": "2022-01-12T01:44:49.636Z"
   },
   {
    "duration": 40,
    "start_time": "2022-01-12T01:44:49.675Z"
   },
   {
    "duration": 29,
    "start_time": "2022-01-12T01:44:49.718Z"
   },
   {
    "duration": 43,
    "start_time": "2022-01-12T01:44:49.750Z"
   },
   {
    "duration": 38,
    "start_time": "2022-01-12T01:44:49.794Z"
   },
   {
    "duration": 5,
    "start_time": "2022-01-12T01:44:49.833Z"
   },
   {
    "duration": 65,
    "start_time": "2022-01-12T01:44:49.840Z"
   },
   {
    "duration": 2558,
    "start_time": "2022-01-12T01:44:47.349Z"
   },
   {
    "duration": 2552,
    "start_time": "2022-01-12T01:44:47.356Z"
   },
   {
    "duration": 2550,
    "start_time": "2022-01-12T01:44:47.359Z"
   },
   {
    "duration": 12,
    "start_time": "2022-01-12T01:47:47.137Z"
   },
   {
    "duration": 4,
    "start_time": "2022-01-12T01:56:25.018Z"
   },
   {
    "duration": 29,
    "start_time": "2022-01-12T01:56:53.311Z"
   },
   {
    "duration": 70,
    "start_time": "2022-01-12T01:57:09.563Z"
   },
   {
    "duration": 12,
    "start_time": "2022-01-12T01:57:09.636Z"
   },
   {
    "duration": 10,
    "start_time": "2022-01-12T01:57:09.651Z"
   },
   {
    "duration": 14,
    "start_time": "2022-01-12T01:57:09.693Z"
   },
   {
    "duration": 31,
    "start_time": "2022-01-12T01:57:09.709Z"
   },
   {
    "duration": 71,
    "start_time": "2022-01-12T01:57:09.742Z"
   },
   {
    "duration": 920,
    "start_time": "2022-01-12T01:57:09.815Z"
   },
   {
    "duration": 3,
    "start_time": "2022-01-12T01:57:10.738Z"
   },
   {
    "duration": 14,
    "start_time": "2022-01-12T01:57:10.743Z"
   },
   {
    "duration": 63,
    "start_time": "2022-01-12T01:57:10.758Z"
   },
   {
    "duration": 103,
    "start_time": "2022-01-12T01:57:10.823Z"
   },
   {
    "duration": 67,
    "start_time": "2022-01-12T01:57:10.927Z"
   },
   {
    "duration": 773,
    "start_time": "2022-01-12T01:57:10.995Z"
   },
   {
    "duration": 5877,
    "start_time": "2022-01-12T01:57:11.770Z"
   },
   {
    "duration": 337,
    "start_time": "2022-01-12T01:57:17.649Z"
   },
   {
    "duration": 1039,
    "start_time": "2022-01-12T01:57:17.987Z"
   },
   {
    "duration": 27,
    "start_time": "2022-01-12T01:57:19.028Z"
   },
   {
    "duration": 44,
    "start_time": "2022-01-12T01:57:19.057Z"
   },
   {
    "duration": 17,
    "start_time": "2022-01-12T01:57:19.103Z"
   },
   {
    "duration": 29,
    "start_time": "2022-01-12T01:57:19.121Z"
   },
   {
    "duration": 56,
    "start_time": "2022-01-12T01:57:19.152Z"
   },
   {
    "duration": 25,
    "start_time": "2022-01-12T01:57:19.210Z"
   },
   {
    "duration": 57,
    "start_time": "2022-01-12T01:57:19.238Z"
   },
   {
    "duration": 5,
    "start_time": "2022-01-12T01:57:19.297Z"
   },
   {
    "duration": 73,
    "start_time": "2022-01-12T01:57:19.304Z"
   },
   {
    "duration": 2573,
    "start_time": "2022-01-12T01:57:16.806Z"
   },
   {
    "duration": 2565,
    "start_time": "2022-01-12T01:57:16.815Z"
   },
   {
    "duration": 2562,
    "start_time": "2022-01-12T01:57:16.819Z"
   },
   {
    "duration": 2560,
    "start_time": "2022-01-12T01:57:16.822Z"
   },
   {
    "duration": 2559,
    "start_time": "2022-01-12T01:57:16.824Z"
   },
   {
    "duration": 70,
    "start_time": "2022-01-12T01:58:00.462Z"
   },
   {
    "duration": 10,
    "start_time": "2022-01-12T01:58:00.534Z"
   },
   {
    "duration": 22,
    "start_time": "2022-01-12T01:58:00.546Z"
   },
   {
    "duration": 21,
    "start_time": "2022-01-12T01:58:00.571Z"
   },
   {
    "duration": 34,
    "start_time": "2022-01-12T01:58:00.594Z"
   },
   {
    "duration": 39,
    "start_time": "2022-01-12T01:58:00.629Z"
   },
   {
    "duration": 1413,
    "start_time": "2022-01-12T01:58:00.670Z"
   },
   {
    "duration": 9,
    "start_time": "2022-01-12T01:58:02.085Z"
   },
   {
    "duration": 18,
    "start_time": "2022-01-12T01:58:02.096Z"
   },
   {
    "duration": 43,
    "start_time": "2022-01-12T01:58:02.116Z"
   },
   {
    "duration": 131,
    "start_time": "2022-01-12T01:58:02.160Z"
   },
   {
    "duration": 51,
    "start_time": "2022-01-12T01:58:02.293Z"
   },
   {
    "duration": 771,
    "start_time": "2022-01-12T01:58:02.346Z"
   },
   {
    "duration": 5694,
    "start_time": "2022-01-12T01:58:03.119Z"
   },
   {
    "duration": 345,
    "start_time": "2022-01-12T01:58:08.815Z"
   },
   {
    "duration": 1048,
    "start_time": "2022-01-12T01:58:09.162Z"
   },
   {
    "duration": 29,
    "start_time": "2022-01-12T01:58:10.212Z"
   },
   {
    "duration": 23,
    "start_time": "2022-01-12T01:58:10.243Z"
   },
   {
    "duration": 39,
    "start_time": "2022-01-12T01:58:10.267Z"
   },
   {
    "duration": 29,
    "start_time": "2022-01-12T01:58:10.308Z"
   },
   {
    "duration": 29,
    "start_time": "2022-01-12T01:58:10.339Z"
   },
   {
    "duration": 49,
    "start_time": "2022-01-12T01:58:10.369Z"
   },
   {
    "duration": 39,
    "start_time": "2022-01-12T01:58:10.422Z"
   },
   {
    "duration": 53,
    "start_time": "2022-01-12T01:58:10.463Z"
   },
   {
    "duration": 27,
    "start_time": "2022-01-12T01:58:10.518Z"
   },
   {
    "duration": 58,
    "start_time": "2022-01-12T01:58:10.547Z"
   },
   {
    "duration": 633,
    "start_time": "2022-01-13T12:58:09.415Z"
   },
   {
    "duration": 10,
    "start_time": "2022-01-13T12:58:10.051Z"
   },
   {
    "duration": 16,
    "start_time": "2022-01-13T12:58:10.064Z"
   },
   {
    "duration": 16,
    "start_time": "2022-01-13T12:58:10.092Z"
   },
   {
    "duration": 59,
    "start_time": "2022-01-13T12:58:10.109Z"
   },
   {
    "duration": 40,
    "start_time": "2022-01-13T12:58:10.170Z"
   },
   {
    "duration": 816,
    "start_time": "2022-01-13T12:58:10.211Z"
   },
   {
    "duration": 4,
    "start_time": "2022-01-13T12:58:11.030Z"
   },
   {
    "duration": 16,
    "start_time": "2022-01-13T12:58:11.036Z"
   },
   {
    "duration": 60,
    "start_time": "2022-01-13T12:58:11.054Z"
   },
   {
    "duration": 98,
    "start_time": "2022-01-13T12:58:11.115Z"
   },
   {
    "duration": 54,
    "start_time": "2022-01-13T12:58:11.215Z"
   },
   {
    "duration": 729,
    "start_time": "2022-01-13T12:58:11.290Z"
   },
   {
    "duration": 5763,
    "start_time": "2022-01-13T12:58:12.021Z"
   },
   {
    "duration": 311,
    "start_time": "2022-01-13T12:58:17.792Z"
   },
   {
    "duration": 1013,
    "start_time": "2022-01-13T12:58:18.105Z"
   },
   {
    "duration": 88,
    "start_time": "2022-01-13T12:58:19.119Z"
   },
   {
    "duration": 22,
    "start_time": "2022-01-13T12:58:19.209Z"
   },
   {
    "duration": 37,
    "start_time": "2022-01-13T12:58:19.232Z"
   },
   {
    "duration": 70,
    "start_time": "2022-01-13T12:58:19.271Z"
   },
   {
    "duration": 29,
    "start_time": "2022-01-13T12:58:19.343Z"
   },
   {
    "duration": 28,
    "start_time": "2022-01-13T12:58:19.373Z"
   },
   {
    "duration": 34,
    "start_time": "2022-01-13T12:58:19.405Z"
   },
   {
    "duration": 27,
    "start_time": "2022-01-13T12:58:19.440Z"
   },
   {
    "duration": 50,
    "start_time": "2022-01-13T12:58:19.469Z"
   },
   {
    "duration": 43,
    "start_time": "2022-01-13T12:58:19.520Z"
   },
   {
    "duration": 27,
    "start_time": "2022-01-13T13:06:50.476Z"
   },
   {
    "duration": 21,
    "start_time": "2022-01-13T13:14:55.264Z"
   },
   {
    "duration": 43,
    "start_time": "2022-01-13T13:15:21.413Z"
   },
   {
    "duration": 644,
    "start_time": "2022-01-13T13:15:34.196Z"
   },
   {
    "duration": 9,
    "start_time": "2022-01-13T13:15:34.842Z"
   },
   {
    "duration": 13,
    "start_time": "2022-01-13T13:15:34.853Z"
   },
   {
    "duration": 28,
    "start_time": "2022-01-13T13:15:34.868Z"
   },
   {
    "duration": 44,
    "start_time": "2022-01-13T13:15:34.898Z"
   },
   {
    "duration": 46,
    "start_time": "2022-01-13T13:15:34.944Z"
   },
   {
    "duration": 823,
    "start_time": "2022-01-13T13:15:34.992Z"
   },
   {
    "duration": 4,
    "start_time": "2022-01-13T13:15:35.817Z"
   },
   {
    "duration": 12,
    "start_time": "2022-01-13T13:15:35.823Z"
   },
   {
    "duration": 64,
    "start_time": "2022-01-13T13:15:35.837Z"
   },
   {
    "duration": 91,
    "start_time": "2022-01-13T13:15:35.903Z"
   },
   {
    "duration": 51,
    "start_time": "2022-01-13T13:15:35.997Z"
   },
   {
    "duration": 15,
    "start_time": "2022-01-13T13:15:36.049Z"
   },
   {
    "duration": 699,
    "start_time": "2022-01-13T13:15:36.092Z"
   },
   {
    "duration": 5606,
    "start_time": "2022-01-13T13:15:36.793Z"
   },
   {
    "duration": 317,
    "start_time": "2022-01-13T13:15:42.401Z"
   },
   {
    "duration": 1017,
    "start_time": "2022-01-13T13:15:42.721Z"
   },
   {
    "duration": 86,
    "start_time": "2022-01-13T13:15:43.740Z"
   },
   {
    "duration": 22,
    "start_time": "2022-01-13T13:15:43.828Z"
   },
   {
    "duration": 40,
    "start_time": "2022-01-13T13:15:43.851Z"
   },
   {
    "duration": 28,
    "start_time": "2022-01-13T13:15:43.893Z"
   },
   {
    "duration": 27,
    "start_time": "2022-01-13T13:15:43.922Z"
   },
   {
    "duration": 47,
    "start_time": "2022-01-13T13:15:43.950Z"
   },
   {
    "duration": 36,
    "start_time": "2022-01-13T13:15:43.998Z"
   },
   {
    "duration": 26,
    "start_time": "2022-01-13T13:15:44.035Z"
   },
   {
    "duration": 50,
    "start_time": "2022-01-13T13:15:44.062Z"
   },
   {
    "duration": 41,
    "start_time": "2022-01-13T13:15:44.114Z"
   },
   {
    "duration": 218,
    "start_time": "2022-01-14T17:16:53.188Z"
   },
   {
    "duration": 184,
    "start_time": "2022-01-14T17:16:58.044Z"
   },
   {
    "duration": 544,
    "start_time": "2022-01-14T17:17:00.785Z"
   },
   {
    "duration": 56,
    "start_time": "2022-01-14T17:17:02.803Z"
   },
   {
    "duration": 206,
    "start_time": "2022-01-14T17:17:04.285Z"
   },
   {
    "duration": 4,
    "start_time": "2022-01-14T17:17:18.880Z"
   },
   {
    "duration": 11,
    "start_time": "2022-01-14T17:27:03.901Z"
   },
   {
    "duration": 49,
    "start_time": "2022-01-14T17:29:04.417Z"
   },
   {
    "duration": 10,
    "start_time": "2022-01-14T17:29:06.498Z"
   },
   {
    "duration": 48,
    "start_time": "2022-01-14T17:29:58.247Z"
   },
   {
    "duration": 47,
    "start_time": "2022-01-14T17:30:03.726Z"
   },
   {
    "duration": 5,
    "start_time": "2022-01-14T17:33:41.350Z"
   },
   {
    "duration": 69,
    "start_time": "2022-01-14T17:35:04.288Z"
   },
   {
    "duration": 85,
    "start_time": "2022-01-14T17:35:12.094Z"
   },
   {
    "duration": 235,
    "start_time": "2022-01-14T17:49:24.721Z"
   },
   {
    "duration": 289,
    "start_time": "2022-01-14T17:49:41.391Z"
   },
   {
    "duration": 216,
    "start_time": "2022-01-14T17:50:13.688Z"
   },
   {
    "duration": 177,
    "start_time": "2022-01-14T17:50:21.502Z"
   },
   {
    "duration": 209,
    "start_time": "2022-01-14T17:50:32.603Z"
   },
   {
    "duration": 12,
    "start_time": "2022-01-14T17:52:27.439Z"
   },
   {
    "duration": 20,
    "start_time": "2022-01-14T17:52:39.393Z"
   },
   {
    "duration": 19,
    "start_time": "2022-01-14T17:52:44.441Z"
   },
   {
    "duration": 224,
    "start_time": "2022-01-14T17:52:48.302Z"
   },
   {
    "duration": 202,
    "start_time": "2022-01-14T17:52:58.215Z"
   },
   {
    "duration": 271,
    "start_time": "2022-01-14T18:01:15.402Z"
   },
   {
    "duration": 220,
    "start_time": "2022-01-14T18:01:29.783Z"
   },
   {
    "duration": 3,
    "start_time": "2022-01-14T18:15:40.903Z"
   },
   {
    "duration": 49,
    "start_time": "2022-01-14T18:15:40.908Z"
   },
   {
    "duration": 10,
    "start_time": "2022-01-14T18:15:40.959Z"
   },
   {
    "duration": 9,
    "start_time": "2022-01-14T18:15:40.971Z"
   },
   {
    "duration": 8,
    "start_time": "2022-01-14T18:15:40.981Z"
   },
   {
    "duration": 24,
    "start_time": "2022-01-14T18:15:40.991Z"
   },
   {
    "duration": 230,
    "start_time": "2022-01-14T18:15:41.017Z"
   },
   {
    "duration": 214,
    "start_time": "2022-01-14T18:15:41.249Z"
   },
   {
    "duration": 26,
    "start_time": "2022-01-14T18:15:41.465Z"
   },
   {
    "duration": 57,
    "start_time": "2022-01-14T18:15:41.493Z"
   },
   {
    "duration": 647,
    "start_time": "2022-01-14T18:15:41.551Z"
   },
   {
    "duration": 3,
    "start_time": "2022-01-14T18:15:42.199Z"
   },
   {
    "duration": 13,
    "start_time": "2022-01-14T18:15:42.211Z"
   },
   {
    "duration": 29,
    "start_time": "2022-01-14T18:15:42.226Z"
   },
   {
    "duration": 202,
    "start_time": "2022-01-14T18:15:42.256Z"
   },
   {
    "duration": 477,
    "start_time": "2022-01-14T18:15:41.983Z"
   },
   {
    "duration": 19,
    "start_time": "2022-01-14T18:16:48.401Z"
   },
   {
    "duration": 27,
    "start_time": "2022-01-14T18:17:38.550Z"
   },
   {
    "duration": 3,
    "start_time": "2022-01-14T18:17:46.488Z"
   },
   {
    "duration": 51,
    "start_time": "2022-01-14T18:17:46.503Z"
   },
   {
    "duration": 10,
    "start_time": "2022-01-14T18:17:46.556Z"
   },
   {
    "duration": 9,
    "start_time": "2022-01-14T18:17:46.568Z"
   },
   {
    "duration": 9,
    "start_time": "2022-01-14T18:17:46.579Z"
   },
   {
    "duration": 27,
    "start_time": "2022-01-14T18:17:46.589Z"
   },
   {
    "duration": 223,
    "start_time": "2022-01-14T18:17:46.618Z"
   },
   {
    "duration": 198,
    "start_time": "2022-01-14T18:17:46.842Z"
   },
   {
    "duration": 27,
    "start_time": "2022-01-14T18:17:47.042Z"
   },
   {
    "duration": 51,
    "start_time": "2022-01-14T18:17:47.070Z"
   },
   {
    "duration": 763,
    "start_time": "2022-01-14T18:17:47.123Z"
   },
   {
    "duration": 3,
    "start_time": "2022-01-14T18:17:47.887Z"
   },
   {
    "duration": 11,
    "start_time": "2022-01-14T18:17:47.891Z"
   },
   {
    "duration": 2,
    "start_time": "2022-01-14T18:17:58.099Z"
   },
   {
    "duration": 50,
    "start_time": "2022-01-14T18:17:58.113Z"
   },
   {
    "duration": 10,
    "start_time": "2022-01-14T18:17:58.165Z"
   },
   {
    "duration": 10,
    "start_time": "2022-01-14T18:17:58.177Z"
   },
   {
    "duration": 24,
    "start_time": "2022-01-14T18:17:58.188Z"
   },
   {
    "duration": 10,
    "start_time": "2022-01-14T18:17:58.213Z"
   },
   {
    "duration": 223,
    "start_time": "2022-01-14T18:17:58.224Z"
   },
   {
    "duration": 196,
    "start_time": "2022-01-14T18:17:58.448Z"
   },
   {
    "duration": 27,
    "start_time": "2022-01-14T18:17:58.646Z"
   },
   {
    "duration": 55,
    "start_time": "2022-01-14T18:17:58.676Z"
   },
   {
    "duration": 657,
    "start_time": "2022-01-14T18:17:58.733Z"
   },
   {
    "duration": 4,
    "start_time": "2022-01-14T18:17:59.391Z"
   },
   {
    "duration": 21,
    "start_time": "2022-01-14T18:17:59.397Z"
   },
   {
    "duration": 30,
    "start_time": "2022-01-14T18:17:59.419Z"
   },
   {
    "duration": 214,
    "start_time": "2022-01-14T18:17:59.450Z"
   },
   {
    "duration": 466,
    "start_time": "2022-01-14T18:17:59.200Z"
   },
   {
    "duration": 463,
    "start_time": "2022-01-14T18:17:59.204Z"
   },
   {
    "duration": 461,
    "start_time": "2022-01-14T18:17:59.207Z"
   },
   {
    "duration": 459,
    "start_time": "2022-01-14T18:17:59.210Z"
   },
   {
    "duration": 456,
    "start_time": "2022-01-14T18:17:59.213Z"
   },
   {
    "duration": 454,
    "start_time": "2022-01-14T18:17:59.217Z"
   },
   {
    "duration": 451,
    "start_time": "2022-01-14T18:17:59.220Z"
   },
   {
    "duration": 449,
    "start_time": "2022-01-14T18:17:59.223Z"
   },
   {
    "duration": 447,
    "start_time": "2022-01-14T18:17:59.226Z"
   },
   {
    "duration": 445,
    "start_time": "2022-01-14T18:17:59.229Z"
   },
   {
    "duration": 444,
    "start_time": "2022-01-14T18:17:59.231Z"
   },
   {
    "duration": 441,
    "start_time": "2022-01-14T18:17:59.235Z"
   },
   {
    "duration": 434,
    "start_time": "2022-01-14T18:17:59.243Z"
   },
   {
    "duration": 432,
    "start_time": "2022-01-14T18:17:59.246Z"
   },
   {
    "duration": 430,
    "start_time": "2022-01-14T18:17:59.249Z"
   },
   {
    "duration": 28,
    "start_time": "2022-01-14T18:20:11.204Z"
   },
   {
    "duration": 2,
    "start_time": "2022-01-14T18:20:17.570Z"
   },
   {
    "duration": 57,
    "start_time": "2022-01-14T18:20:17.574Z"
   },
   {
    "duration": 10,
    "start_time": "2022-01-14T18:20:17.633Z"
   },
   {
    "duration": 13,
    "start_time": "2022-01-14T18:20:17.645Z"
   },
   {
    "duration": 7,
    "start_time": "2022-01-14T18:20:17.659Z"
   },
   {
    "duration": 13,
    "start_time": "2022-01-14T18:20:17.667Z"
   },
   {
    "duration": 232,
    "start_time": "2022-01-14T18:20:17.682Z"
   },
   {
    "duration": 198,
    "start_time": "2022-01-14T18:20:17.915Z"
   },
   {
    "duration": 27,
    "start_time": "2022-01-14T18:20:18.114Z"
   },
   {
    "duration": 39,
    "start_time": "2022-01-14T18:20:18.142Z"
   },
   {
    "duration": 665,
    "start_time": "2022-01-14T18:20:18.182Z"
   },
   {
    "duration": 3,
    "start_time": "2022-01-14T18:20:18.848Z"
   },
   {
    "duration": 11,
    "start_time": "2022-01-14T18:20:18.852Z"
   },
   {
    "duration": 31,
    "start_time": "2022-01-14T18:20:23.149Z"
   },
   {
    "duration": 208,
    "start_time": "2022-01-14T18:21:23.750Z"
   },
   {
    "duration": 4,
    "start_time": "2022-01-14T18:21:59.026Z"
   },
   {
    "duration": 50,
    "start_time": "2022-01-14T18:21:59.032Z"
   },
   {
    "duration": 10,
    "start_time": "2022-01-14T18:21:59.084Z"
   },
   {
    "duration": 11,
    "start_time": "2022-01-14T18:21:59.096Z"
   },
   {
    "duration": 11,
    "start_time": "2022-01-14T18:21:59.112Z"
   },
   {
    "duration": 16,
    "start_time": "2022-01-14T18:21:59.124Z"
   },
   {
    "duration": 255,
    "start_time": "2022-01-14T18:21:59.142Z"
   },
   {
    "duration": 264,
    "start_time": "2022-01-14T18:21:59.400Z"
   },
   {
    "duration": 27,
    "start_time": "2022-01-14T18:21:59.666Z"
   },
   {
    "duration": 46,
    "start_time": "2022-01-14T18:21:59.694Z"
   },
   {
    "duration": 731,
    "start_time": "2022-01-14T18:21:59.742Z"
   },
   {
    "duration": 3,
    "start_time": "2022-01-14T18:22:00.475Z"
   },
   {
    "duration": 11,
    "start_time": "2022-01-14T18:22:00.480Z"
   },
   {
    "duration": 46,
    "start_time": "2022-01-14T18:22:00.493Z"
   },
   {
    "duration": 229,
    "start_time": "2022-01-14T18:22:47.896Z"
   },
   {
    "duration": 3,
    "start_time": "2022-01-14T18:23:04.116Z"
   },
   {
    "duration": 194,
    "start_time": "2022-01-14T18:25:35.767Z"
   },
   {
    "duration": 199,
    "start_time": "2022-01-14T18:27:29.561Z"
   },
   {
    "duration": 64,
    "start_time": "2022-01-14T18:28:21.683Z"
   },
   {
    "duration": 72,
    "start_time": "2022-01-14T18:29:50.719Z"
   },
   {
    "duration": 402,
    "start_time": "2022-01-14T18:29:55.986Z"
   },
   {
    "duration": 565,
    "start_time": "2022-01-14T18:30:03.142Z"
   },
   {
    "duration": 44,
    "start_time": "2022-01-14T18:30:08.821Z"
   },
   {
    "duration": 42,
    "start_time": "2022-01-14T18:30:31.827Z"
   },
   {
    "duration": 4,
    "start_time": "2022-01-14T18:32:10.217Z"
   },
   {
    "duration": 52,
    "start_time": "2022-01-14T18:32:10.223Z"
   },
   {
    "duration": 11,
    "start_time": "2022-01-14T18:32:10.277Z"
   },
   {
    "duration": 32,
    "start_time": "2022-01-14T18:32:10.290Z"
   },
   {
    "duration": 8,
    "start_time": "2022-01-14T18:32:10.324Z"
   },
   {
    "duration": 10,
    "start_time": "2022-01-14T18:32:10.334Z"
   },
   {
    "duration": 244,
    "start_time": "2022-01-14T18:32:10.346Z"
   },
   {
    "duration": 218,
    "start_time": "2022-01-14T18:32:10.592Z"
   },
   {
    "duration": 34,
    "start_time": "2022-01-14T18:32:10.812Z"
   },
   {
    "duration": 42,
    "start_time": "2022-01-14T18:32:10.847Z"
   },
   {
    "duration": 736,
    "start_time": "2022-01-14T18:32:10.891Z"
   },
   {
    "duration": 3,
    "start_time": "2022-01-14T18:32:11.629Z"
   },
   {
    "duration": 10,
    "start_time": "2022-01-14T18:32:11.634Z"
   },
   {
    "duration": 41,
    "start_time": "2022-01-14T18:32:14.541Z"
   },
   {
    "duration": 47,
    "start_time": "2022-01-14T18:33:20.438Z"
   },
   {
    "duration": 3,
    "start_time": "2022-01-14T18:34:39.050Z"
   },
   {
    "duration": 52,
    "start_time": "2022-01-14T18:34:39.055Z"
   },
   {
    "duration": 12,
    "start_time": "2022-01-14T18:34:39.109Z"
   },
   {
    "duration": 10,
    "start_time": "2022-01-14T18:34:39.122Z"
   },
   {
    "duration": 7,
    "start_time": "2022-01-14T18:34:39.133Z"
   },
   {
    "duration": 10,
    "start_time": "2022-01-14T18:34:39.142Z"
   },
   {
    "duration": 253,
    "start_time": "2022-01-14T18:34:39.154Z"
   },
   {
    "duration": 194,
    "start_time": "2022-01-14T18:34:39.414Z"
   },
   {
    "duration": 25,
    "start_time": "2022-01-14T18:34:39.609Z"
   },
   {
    "duration": 34,
    "start_time": "2022-01-14T18:34:39.636Z"
   },
   {
    "duration": 823,
    "start_time": "2022-01-14T18:34:39.671Z"
   },
   {
    "duration": 3,
    "start_time": "2022-01-14T18:34:40.495Z"
   },
   {
    "duration": 17,
    "start_time": "2022-01-14T18:34:40.500Z"
   },
   {
    "duration": 222,
    "start_time": "2022-01-14T18:34:40.519Z"
   },
   {
    "duration": 479,
    "start_time": "2022-01-14T18:34:40.264Z"
   },
   {
    "duration": 477,
    "start_time": "2022-01-14T18:34:40.267Z"
   },
   {
    "duration": 475,
    "start_time": "2022-01-14T18:34:40.270Z"
   },
   {
    "duration": 473,
    "start_time": "2022-01-14T18:34:40.273Z"
   },
   {
    "duration": 470,
    "start_time": "2022-01-14T18:34:40.276Z"
   },
   {
    "duration": 468,
    "start_time": "2022-01-14T18:34:40.279Z"
   },
   {
    "duration": 466,
    "start_time": "2022-01-14T18:34:40.282Z"
   },
   {
    "duration": 459,
    "start_time": "2022-01-14T18:34:40.290Z"
   },
   {
    "duration": 457,
    "start_time": "2022-01-14T18:34:40.293Z"
   },
   {
    "duration": 455,
    "start_time": "2022-01-14T18:34:40.295Z"
   },
   {
    "duration": 453,
    "start_time": "2022-01-14T18:34:40.298Z"
   },
   {
    "duration": 450,
    "start_time": "2022-01-14T18:34:40.302Z"
   },
   {
    "duration": 448,
    "start_time": "2022-01-14T18:34:40.305Z"
   },
   {
    "duration": 446,
    "start_time": "2022-01-14T18:34:40.308Z"
   },
   {
    "duration": 445,
    "start_time": "2022-01-14T18:34:40.310Z"
   },
   {
    "duration": 442,
    "start_time": "2022-01-14T18:34:40.313Z"
   },
   {
    "duration": 185,
    "start_time": "2022-01-14T18:36:06.627Z"
   },
   {
    "duration": 273,
    "start_time": "2022-01-14T18:36:45.953Z"
   },
   {
    "duration": 3,
    "start_time": "2022-01-14T18:37:03.376Z"
   },
   {
    "duration": 51,
    "start_time": "2022-01-14T18:37:03.381Z"
   },
   {
    "duration": 11,
    "start_time": "2022-01-14T18:37:03.435Z"
   },
   {
    "duration": 9,
    "start_time": "2022-01-14T18:37:03.448Z"
   },
   {
    "duration": 7,
    "start_time": "2022-01-14T18:37:03.458Z"
   },
   {
    "duration": 9,
    "start_time": "2022-01-14T18:37:03.467Z"
   },
   {
    "duration": 248,
    "start_time": "2022-01-14T18:37:03.478Z"
   },
   {
    "duration": 196,
    "start_time": "2022-01-14T18:37:03.728Z"
   },
   {
    "duration": 23,
    "start_time": "2022-01-14T18:37:03.926Z"
   },
   {
    "duration": 37,
    "start_time": "2022-01-14T18:37:03.951Z"
   },
   {
    "duration": 690,
    "start_time": "2022-01-14T18:37:03.989Z"
   },
   {
    "duration": 3,
    "start_time": "2022-01-14T18:37:04.681Z"
   },
   {
    "duration": 11,
    "start_time": "2022-01-14T18:37:04.685Z"
   },
   {
    "duration": 48,
    "start_time": "2022-01-14T18:37:38.190Z"
   },
   {
    "duration": 82,
    "start_time": "2022-01-14T18:38:27.171Z"
   },
   {
    "duration": 46,
    "start_time": "2022-01-14T18:38:54.412Z"
   },
   {
    "duration": 47,
    "start_time": "2022-01-14T18:39:32.070Z"
   },
   {
    "duration": 75,
    "start_time": "2022-01-14T18:39:49.216Z"
   },
   {
    "duration": 77,
    "start_time": "2022-01-14T18:40:02.480Z"
   },
   {
    "duration": 76,
    "start_time": "2022-01-14T18:40:13.816Z"
   },
   {
    "duration": 55,
    "start_time": "2022-01-14T18:40:43.015Z"
   },
   {
    "duration": 71,
    "start_time": "2022-01-14T18:40:53.384Z"
   },
   {
    "duration": 65,
    "start_time": "2022-01-14T18:41:37.045Z"
   },
   {
    "duration": 233,
    "start_time": "2022-01-14T18:41:58.108Z"
   },
   {
    "duration": 76,
    "start_time": "2022-01-14T18:42:11.703Z"
   },
   {
    "duration": 81,
    "start_time": "2022-01-14T18:43:19.377Z"
   },
   {
    "duration": 75,
    "start_time": "2022-01-14T18:43:28.851Z"
   },
   {
    "duration": 65,
    "start_time": "2022-01-14T18:43:50.624Z"
   },
   {
    "duration": 74,
    "start_time": "2022-01-14T18:43:55.963Z"
   },
   {
    "duration": 3,
    "start_time": "2022-01-14T18:46:33.222Z"
   },
   {
    "duration": 52,
    "start_time": "2022-01-14T18:46:33.227Z"
   },
   {
    "duration": 9,
    "start_time": "2022-01-14T18:46:33.281Z"
   },
   {
    "duration": 10,
    "start_time": "2022-01-14T18:46:33.292Z"
   },
   {
    "duration": 12,
    "start_time": "2022-01-14T18:46:33.304Z"
   },
   {
    "duration": 9,
    "start_time": "2022-01-14T18:46:33.318Z"
   },
   {
    "duration": 224,
    "start_time": "2022-01-14T18:46:33.328Z"
   },
   {
    "duration": 189,
    "start_time": "2022-01-14T18:46:33.554Z"
   },
   {
    "duration": 24,
    "start_time": "2022-01-14T18:46:33.745Z"
   },
   {
    "duration": 46,
    "start_time": "2022-01-14T18:46:33.770Z"
   },
   {
    "duration": 665,
    "start_time": "2022-01-14T18:46:33.818Z"
   },
   {
    "duration": 3,
    "start_time": "2022-01-14T18:46:34.484Z"
   },
   {
    "duration": 12,
    "start_time": "2022-01-14T18:46:34.489Z"
   },
   {
    "duration": 45,
    "start_time": "2022-01-14T18:46:34.512Z"
   },
   {
    "duration": 88,
    "start_time": "2022-01-14T18:46:34.558Z"
   },
   {
    "duration": 78,
    "start_time": "2022-01-14T18:46:36.659Z"
   },
   {
    "duration": 69,
    "start_time": "2022-01-14T18:46:57.057Z"
   },
   {
    "duration": 3,
    "start_time": "2022-01-14T18:52:11.644Z"
   },
   {
    "duration": 54,
    "start_time": "2022-01-14T18:52:11.648Z"
   },
   {
    "duration": 10,
    "start_time": "2022-01-14T18:52:11.703Z"
   },
   {
    "duration": 11,
    "start_time": "2022-01-14T18:52:11.714Z"
   },
   {
    "duration": 8,
    "start_time": "2022-01-14T18:52:11.726Z"
   },
   {
    "duration": 10,
    "start_time": "2022-01-14T18:52:11.735Z"
   },
   {
    "duration": 232,
    "start_time": "2022-01-14T18:52:11.747Z"
   },
   {
    "duration": 194,
    "start_time": "2022-01-14T18:52:11.980Z"
   },
   {
    "duration": 25,
    "start_time": "2022-01-14T18:52:12.175Z"
   },
   {
    "duration": 42,
    "start_time": "2022-01-14T18:52:12.201Z"
   },
   {
    "duration": 646,
    "start_time": "2022-01-14T18:52:12.245Z"
   },
   {
    "duration": 3,
    "start_time": "2022-01-14T18:52:12.892Z"
   },
   {
    "duration": 19,
    "start_time": "2022-01-14T18:52:12.896Z"
   },
   {
    "duration": 56,
    "start_time": "2022-01-14T18:52:12.916Z"
   },
   {
    "duration": 84,
    "start_time": "2022-01-14T18:52:12.973Z"
   },
   {
    "duration": 64,
    "start_time": "2022-01-14T18:52:15.411Z"
   },
   {
    "duration": 71,
    "start_time": "2022-01-14T19:06:12.438Z"
   },
   {
    "duration": 3,
    "start_time": "2022-01-14T19:10:24.762Z"
   },
   {
    "duration": 51,
    "start_time": "2022-01-14T19:10:24.767Z"
   },
   {
    "duration": 10,
    "start_time": "2022-01-14T19:10:24.819Z"
   },
   {
    "duration": 9,
    "start_time": "2022-01-14T19:10:24.831Z"
   },
   {
    "duration": 119,
    "start_time": "2022-01-14T19:10:24.842Z"
   },
   {
    "duration": 11,
    "start_time": "2022-01-14T19:10:24.963Z"
   },
   {
    "duration": 246,
    "start_time": "2022-01-14T19:10:24.976Z"
   },
   {
    "duration": 194,
    "start_time": "2022-01-14T19:10:25.223Z"
   },
   {
    "duration": 24,
    "start_time": "2022-01-14T19:10:25.418Z"
   },
   {
    "duration": 34,
    "start_time": "2022-01-14T19:10:25.444Z"
   },
   {
    "duration": 714,
    "start_time": "2022-01-14T19:10:25.480Z"
   },
   {
    "duration": 3,
    "start_time": "2022-01-14T19:10:26.196Z"
   },
   {
    "duration": 17,
    "start_time": "2022-01-14T19:10:26.201Z"
   },
   {
    "duration": 46,
    "start_time": "2022-01-14T19:10:26.219Z"
   },
   {
    "duration": 95,
    "start_time": "2022-01-14T19:10:26.267Z"
   },
   {
    "duration": 72,
    "start_time": "2022-01-14T19:10:26.363Z"
   },
   {
    "duration": 640,
    "start_time": "2022-01-14T19:10:26.437Z"
   },
   {
    "duration": 5069,
    "start_time": "2022-01-14T19:10:27.079Z"
   },
   {
    "duration": 275,
    "start_time": "2022-01-14T19:10:32.150Z"
   },
   {
    "duration": 1004,
    "start_time": "2022-01-14T19:10:32.426Z"
   },
   {
    "duration": 24,
    "start_time": "2022-01-14T19:10:33.431Z"
   },
   {
    "duration": 20,
    "start_time": "2022-01-14T19:10:33.456Z"
   },
   {
    "duration": 35,
    "start_time": "2022-01-14T19:10:33.478Z"
   },
   {
    "duration": 27,
    "start_time": "2022-01-14T19:10:33.515Z"
   },
   {
    "duration": 24,
    "start_time": "2022-01-14T19:10:33.545Z"
   },
   {
    "duration": 23,
    "start_time": "2022-01-14T19:10:33.570Z"
   },
   {
    "duration": 48,
    "start_time": "2022-01-14T19:10:33.594Z"
   },
   {
    "duration": 26,
    "start_time": "2022-01-14T19:10:33.644Z"
   },
   {
    "duration": 42,
    "start_time": "2022-01-14T19:10:33.671Z"
   },
   {
    "duration": 37,
    "start_time": "2022-01-14T19:10:33.714Z"
   },
   {
    "duration": 39,
    "start_time": "2022-01-14T19:18:57.127Z"
   },
   {
    "duration": 18,
    "start_time": "2022-01-14T19:20:58.078Z"
   },
   {
    "duration": 51,
    "start_time": "2022-01-14T19:20:58.098Z"
   },
   {
    "duration": 11,
    "start_time": "2022-01-14T19:20:58.151Z"
   },
   {
    "duration": 9,
    "start_time": "2022-01-14T19:20:58.164Z"
   },
   {
    "duration": 39,
    "start_time": "2022-01-14T19:20:58.174Z"
   },
   {
    "duration": 11,
    "start_time": "2022-01-14T19:20:58.214Z"
   },
   {
    "duration": 243,
    "start_time": "2022-01-14T19:20:58.227Z"
   },
   {
    "duration": 197,
    "start_time": "2022-01-14T19:20:58.472Z"
   },
   {
    "duration": 26,
    "start_time": "2022-01-14T19:20:58.671Z"
   },
   {
    "duration": 37,
    "start_time": "2022-01-14T19:20:58.712Z"
   },
   {
    "duration": 827,
    "start_time": "2022-01-14T19:20:58.751Z"
   },
   {
    "duration": 3,
    "start_time": "2022-01-14T19:20:59.579Z"
   },
   {
    "duration": 11,
    "start_time": "2022-01-14T19:20:59.584Z"
   },
   {
    "duration": 60,
    "start_time": "2022-01-14T19:20:59.596Z"
   },
   {
    "duration": 90,
    "start_time": "2022-01-14T19:20:59.657Z"
   },
   {
    "duration": 77,
    "start_time": "2022-01-14T19:20:59.749Z"
   },
   {
    "duration": 647,
    "start_time": "2022-01-14T19:20:59.828Z"
   },
   {
    "duration": 4902,
    "start_time": "2022-01-14T19:21:00.477Z"
   },
   {
    "duration": 271,
    "start_time": "2022-01-14T19:21:05.381Z"
   },
   {
    "duration": 865,
    "start_time": "2022-01-14T19:21:05.653Z"
   },
   {
    "duration": 142,
    "start_time": "2022-01-14T19:21:06.519Z"
   },
   {
    "duration": 20,
    "start_time": "2022-01-14T19:21:06.663Z"
   },
   {
    "duration": 30,
    "start_time": "2022-01-14T19:21:06.686Z"
   },
   {
    "duration": 22,
    "start_time": "2022-01-14T19:21:06.718Z"
   },
   {
    "duration": 23,
    "start_time": "2022-01-14T19:21:06.742Z"
   },
   {
    "duration": 21,
    "start_time": "2022-01-14T19:21:06.767Z"
   },
   {
    "duration": 52,
    "start_time": "2022-01-14T19:21:06.789Z"
   },
   {
    "duration": 22,
    "start_time": "2022-01-14T19:21:06.842Z"
   },
   {
    "duration": 21,
    "start_time": "2022-01-14T19:21:06.866Z"
   },
   {
    "duration": 59,
    "start_time": "2022-01-14T19:21:06.888Z"
   },
   {
    "duration": 165,
    "start_time": "2022-01-14T19:24:48.169Z"
   },
   {
    "duration": 184,
    "start_time": "2022-01-14T19:24:55.337Z"
   },
   {
    "duration": 16,
    "start_time": "2022-01-14T19:25:07.226Z"
   },
   {
    "duration": 47,
    "start_time": "2022-01-14T19:25:07.243Z"
   },
   {
    "duration": 10,
    "start_time": "2022-01-14T19:25:07.292Z"
   },
   {
    "duration": 11,
    "start_time": "2022-01-14T19:25:07.304Z"
   },
   {
    "duration": 7,
    "start_time": "2022-01-14T19:25:07.316Z"
   },
   {
    "duration": 10,
    "start_time": "2022-01-14T19:25:07.324Z"
   },
   {
    "duration": 177,
    "start_time": "2022-01-14T19:25:07.336Z"
   },
   {
    "duration": 203,
    "start_time": "2022-01-14T19:25:13.575Z"
   },
   {
    "duration": 3,
    "start_time": "2022-01-14T19:25:23.961Z"
   },
   {
    "duration": 47,
    "start_time": "2022-01-14T19:25:23.968Z"
   },
   {
    "duration": 10,
    "start_time": "2022-01-14T19:25:24.017Z"
   },
   {
    "duration": 8,
    "start_time": "2022-01-14T19:25:24.029Z"
   },
   {
    "duration": 7,
    "start_time": "2022-01-14T19:25:24.038Z"
   },
   {
    "duration": 12,
    "start_time": "2022-01-14T19:25:24.047Z"
   },
   {
    "duration": 255,
    "start_time": "2022-01-14T19:25:24.060Z"
   },
   {
    "duration": 185,
    "start_time": "2022-01-14T19:25:24.317Z"
   },
   {
    "duration": 25,
    "start_time": "2022-01-14T19:25:24.503Z"
   },
   {
    "duration": 33,
    "start_time": "2022-01-14T19:25:24.531Z"
   },
   {
    "duration": 794,
    "start_time": "2022-01-14T19:25:24.566Z"
   },
   {
    "duration": 4,
    "start_time": "2022-01-14T19:25:25.362Z"
   },
   {
    "duration": 11,
    "start_time": "2022-01-14T19:25:25.367Z"
   },
   {
    "duration": 70,
    "start_time": "2022-01-14T19:25:25.380Z"
   },
   {
    "duration": 88,
    "start_time": "2022-01-14T19:25:25.452Z"
   },
   {
    "duration": 76,
    "start_time": "2022-01-14T19:25:25.542Z"
   },
   {
    "duration": 626,
    "start_time": "2022-01-14T19:25:25.620Z"
   },
   {
    "duration": 4632,
    "start_time": "2022-01-14T19:25:26.248Z"
   },
   {
    "duration": 287,
    "start_time": "2022-01-14T19:25:30.882Z"
   },
   {
    "duration": 1023,
    "start_time": "2022-01-14T19:25:31.170Z"
   },
   {
    "duration": 29,
    "start_time": "2022-01-14T19:25:32.194Z"
   },
   {
    "duration": 20,
    "start_time": "2022-01-14T19:25:32.224Z"
   },
   {
    "duration": 15,
    "start_time": "2022-01-14T19:25:32.245Z"
   },
   {
    "duration": 22,
    "start_time": "2022-01-14T19:25:32.261Z"
   },
   {
    "duration": 44,
    "start_time": "2022-01-14T19:25:32.284Z"
   },
   {
    "duration": 21,
    "start_time": "2022-01-14T19:25:32.329Z"
   },
   {
    "duration": 29,
    "start_time": "2022-01-14T19:25:32.352Z"
   },
   {
    "duration": 43,
    "start_time": "2022-01-14T19:25:32.384Z"
   },
   {
    "duration": 21,
    "start_time": "2022-01-14T19:25:32.428Z"
   },
   {
    "duration": 36,
    "start_time": "2022-01-14T19:25:32.450Z"
   },
   {
    "duration": 17,
    "start_time": "2022-01-14T19:33:00.530Z"
   },
   {
    "duration": 48,
    "start_time": "2022-01-14T19:33:00.549Z"
   },
   {
    "duration": 11,
    "start_time": "2022-01-14T19:33:00.599Z"
   },
   {
    "duration": 10,
    "start_time": "2022-01-14T19:33:00.612Z"
   },
   {
    "duration": 9,
    "start_time": "2022-01-14T19:33:00.624Z"
   },
   {
    "duration": 10,
    "start_time": "2022-01-14T19:33:00.635Z"
   },
   {
    "duration": 234,
    "start_time": "2022-01-14T19:33:00.646Z"
   },
   {
    "duration": 195,
    "start_time": "2022-01-14T19:33:00.881Z"
   },
   {
    "duration": 34,
    "start_time": "2022-01-14T19:33:01.078Z"
   },
   {
    "duration": 35,
    "start_time": "2022-01-14T19:33:01.114Z"
   },
   {
    "duration": 823,
    "start_time": "2022-01-14T19:33:01.151Z"
   },
   {
    "duration": 4,
    "start_time": "2022-01-14T19:33:01.976Z"
   },
   {
    "duration": 15,
    "start_time": "2022-01-14T19:33:01.981Z"
   },
   {
    "duration": 50,
    "start_time": "2022-01-14T19:33:01.998Z"
   },
   {
    "duration": 79,
    "start_time": "2022-01-14T19:33:02.049Z"
   },
   {
    "duration": 63,
    "start_time": "2022-01-14T19:33:02.129Z"
   },
   {
    "duration": 707,
    "start_time": "2022-01-14T19:33:02.193Z"
   },
   {
    "duration": 4965,
    "start_time": "2022-01-14T19:33:02.902Z"
   },
   {
    "duration": 446,
    "start_time": "2022-01-14T19:33:07.868Z"
   },
   {
    "duration": 924,
    "start_time": "2022-01-14T19:33:08.316Z"
   },
   {
    "duration": 24,
    "start_time": "2022-01-14T19:33:09.241Z"
   },
   {
    "duration": 20,
    "start_time": "2022-01-14T19:33:09.267Z"
   },
   {
    "duration": 36,
    "start_time": "2022-01-14T19:33:09.288Z"
   },
   {
    "duration": 29,
    "start_time": "2022-01-14T19:33:09.326Z"
   },
   {
    "duration": 30,
    "start_time": "2022-01-14T19:33:09.356Z"
   },
   {
    "duration": 40,
    "start_time": "2022-01-14T19:33:09.388Z"
   },
   {
    "duration": 37,
    "start_time": "2022-01-14T19:33:09.431Z"
   },
   {
    "duration": 43,
    "start_time": "2022-01-14T19:33:09.470Z"
   },
   {
    "duration": 32,
    "start_time": "2022-01-14T19:33:09.515Z"
   },
   {
    "duration": 43,
    "start_time": "2022-01-14T19:33:09.549Z"
   },
   {
    "duration": 18,
    "start_time": "2022-01-14T19:33:50.314Z"
   },
   {
    "duration": 3,
    "start_time": "2022-01-14T19:34:07.069Z"
   },
   {
    "duration": 61,
    "start_time": "2022-01-14T19:36:45.509Z"
   },
   {
    "duration": 612,
    "start_time": "2022-01-14T19:39:16.882Z"
   },
   {
    "duration": 20,
    "start_time": "2022-01-14T19:39:20.158Z"
   },
   {
    "duration": 48,
    "start_time": "2022-04-11T10:01:26.615Z"
   },
   {
    "duration": 1501,
    "start_time": "2022-04-11T10:01:32.217Z"
   },
   {
    "duration": 86,
    "start_time": "2022-04-11T10:01:33.721Z"
   },
   {
    "duration": 8,
    "start_time": "2022-04-11T10:01:33.809Z"
   },
   {
    "duration": 8,
    "start_time": "2022-04-11T10:01:33.819Z"
   },
   {
    "duration": 1195,
    "start_time": "2022-04-11T10:01:33.829Z"
   },
   {
    "duration": 12,
    "start_time": "2022-04-11T10:01:46.149Z"
   },
   {
    "duration": 4,
    "start_time": "2022-04-11T10:03:20.742Z"
   },
   {
    "duration": 4,
    "start_time": "2022-04-11T10:03:29.420Z"
   },
   {
    "duration": 113,
    "start_time": "2022-04-11T10:07:46.818Z"
   },
   {
    "duration": 143,
    "start_time": "2022-04-11T10:07:50.038Z"
   },
   {
    "duration": 5,
    "start_time": "2022-04-11T10:07:51.983Z"
   },
   {
    "duration": 1920,
    "start_time": "2022-04-11T10:16:41.477Z"
   },
   {
    "duration": 1882,
    "start_time": "2022-04-11T10:16:51.507Z"
   },
   {
    "duration": 1867,
    "start_time": "2022-04-11T10:16:58.078Z"
   },
   {
    "duration": 1820,
    "start_time": "2022-04-11T10:18:08.025Z"
   },
   {
    "duration": 1882,
    "start_time": "2022-04-11T10:18:20.077Z"
   },
   {
    "duration": 117,
    "start_time": "2022-04-11T10:18:43.862Z"
   },
   {
    "duration": 117,
    "start_time": "2022-04-11T10:18:47.429Z"
   },
   {
    "duration": 1888,
    "start_time": "2022-04-11T10:19:16.731Z"
   },
   {
    "duration": 2138,
    "start_time": "2022-04-11T10:19:26.785Z"
   },
   {
    "duration": 6880,
    "start_time": "2022-04-11T10:21:29.916Z"
   },
   {
    "duration": 6834,
    "start_time": "2022-04-11T10:22:02.428Z"
   },
   {
    "duration": 6821,
    "start_time": "2022-04-11T10:23:35.492Z"
   },
   {
    "duration": 118,
    "start_time": "2022-04-11T10:25:15.070Z"
   },
   {
    "duration": 6694,
    "start_time": "2022-04-11T10:25:22.505Z"
   },
   {
    "duration": 131,
    "start_time": "2022-04-11T10:26:21.072Z"
   },
   {
    "duration": 2862,
    "start_time": "2022-04-11T10:27:14.726Z"
   },
   {
    "duration": 9,
    "start_time": "2022-04-11T11:10:16.111Z"
   },
   {
    "duration": 80,
    "start_time": "2022-04-11T11:14:18.838Z"
   },
   {
    "duration": 11,
    "start_time": "2022-04-11T11:14:30.642Z"
   },
   {
    "duration": 6,
    "start_time": "2022-04-11T11:17:51.770Z"
   },
   {
    "duration": 6,
    "start_time": "2022-04-11T11:27:48.998Z"
   },
   {
    "duration": 7,
    "start_time": "2022-04-11T11:27:59.306Z"
   },
   {
    "duration": 6,
    "start_time": "2022-04-11T12:06:23.480Z"
   },
   {
    "duration": 8,
    "start_time": "2022-04-11T12:07:24.042Z"
   },
   {
    "duration": 8,
    "start_time": "2022-04-11T12:07:53.977Z"
   },
   {
    "duration": 7,
    "start_time": "2022-04-11T12:08:01.776Z"
   }
  ],
  "colab": {
   "collapsed_sections": [],
   "name": "Project_2_1",
   "provenance": []
  },
  "kernelspec": {
   "display_name": "Python 3 (ipykernel)",
   "language": "python",
   "name": "python3"
  },
  "language_info": {
   "codemirror_mode": {
    "name": "ipython",
    "version": 3
   },
   "file_extension": ".py",
   "mimetype": "text/x-python",
   "name": "python",
   "nbconvert_exporter": "python",
   "pygments_lexer": "ipython3",
   "version": "3.10.6"
  },
  "toc": {
   "base_numbering": 1,
   "nav_menu": {},
   "number_sections": false,
   "sideBar": true,
   "skip_h1_title": false,
   "title_cell": "Table of Contents",
   "title_sidebar": "Contents",
   "toc_cell": false,
   "toc_position": {
    "height": "calc(100% - 180px)",
    "left": "10px",
    "top": "150px",
    "width": "383.188px"
   },
   "toc_section_display": true,
   "toc_window_display": false
  }
 },
 "nbformat": 4,
 "nbformat_minor": 4
}
