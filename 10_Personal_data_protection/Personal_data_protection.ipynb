{
 "cells": [
  {
   "cell_type": "markdown",
   "metadata": {},
   "source": [
    "# Защита персональных данных клиентов"
   ]
  },
  {
   "cell_type": "markdown",
   "metadata": {},
   "source": [
    "Нужно защитить данные клиентов страховой компании «Хоть потоп». Для этого необходимо разработь и обосновать такой метод преобразования данных, чтобы по ним было сложно восстановить персональную информацию.\n",
    "Защита данных не должна ухудшать качество моделей машинного обучения. Подбирать лучшую модель не требуется.\n",
    "\n",
    "Данные хранятся в файле insurance.csv и содержат персональную информацию:\n",
    "- Пол\n",
    "- Возраст\n",
    "- Зарплата \n",
    "- Члены семьи\n",
    "- Страховые выплаты\n",
    "\n",
    "План:\n",
    "1. Загрузка данных\n",
    "2. Алгоритм преобразования и его обоснование\n",
    "3. Проверка алгоритма\n",
    "4. Общий вывод\n"
   ]
  },
  {
   "cell_type": "code",
   "execution_count": 1,
   "metadata": {},
   "outputs": [],
   "source": [
    "import pandas as pd\n",
    "import numpy as np\n",
    "from sklearn.metrics import r2_score\n",
    "from sklearn.linear_model import LinearRegression\n",
    "from sklearn.model_selection import train_test_split"
   ]
  },
  {
   "cell_type": "markdown",
   "metadata": {},
   "source": [
    "## Загрузка данных"
   ]
  },
  {
   "cell_type": "code",
   "execution_count": 2,
   "metadata": {
    "scrolled": true
   },
   "outputs": [
    {
     "name": "stdout",
     "output_type": "stream",
     "text": [
      "<class 'pandas.core.frame.DataFrame'>\n",
      "RangeIndex: 5000 entries, 0 to 4999\n",
      "Data columns (total 5 columns):\n",
      " #   Column             Non-Null Count  Dtype  \n",
      "---  ------             --------------  -----  \n",
      " 0   Пол                5000 non-null   int64  \n",
      " 1   Возраст            5000 non-null   float64\n",
      " 2   Зарплата           5000 non-null   float64\n",
      " 3   Члены семьи        5000 non-null   int64  \n",
      " 4   Страховые выплаты  5000 non-null   int64  \n",
      "dtypes: float64(2), int64(3)\n",
      "memory usage: 195.4 KB\n"
     ]
    },
    {
     "data": {
      "text/html": [
       "<div>\n",
       "<style scoped>\n",
       "    .dataframe tbody tr th:only-of-type {\n",
       "        vertical-align: middle;\n",
       "    }\n",
       "\n",
       "    .dataframe tbody tr th {\n",
       "        vertical-align: top;\n",
       "    }\n",
       "\n",
       "    .dataframe thead th {\n",
       "        text-align: right;\n",
       "    }\n",
       "</style>\n",
       "<table border=\"1\" class=\"dataframe\">\n",
       "  <thead>\n",
       "    <tr style=\"text-align: right;\">\n",
       "      <th></th>\n",
       "      <th>Пол</th>\n",
       "      <th>Возраст</th>\n",
       "      <th>Зарплата</th>\n",
       "      <th>Члены семьи</th>\n",
       "      <th>Страховые выплаты</th>\n",
       "    </tr>\n",
       "  </thead>\n",
       "  <tbody>\n",
       "    <tr>\n",
       "      <th>0</th>\n",
       "      <td>1</td>\n",
       "      <td>41.0</td>\n",
       "      <td>49600.0</td>\n",
       "      <td>1</td>\n",
       "      <td>0</td>\n",
       "    </tr>\n",
       "    <tr>\n",
       "      <th>1</th>\n",
       "      <td>0</td>\n",
       "      <td>46.0</td>\n",
       "      <td>38000.0</td>\n",
       "      <td>1</td>\n",
       "      <td>1</td>\n",
       "    </tr>\n",
       "    <tr>\n",
       "      <th>2</th>\n",
       "      <td>0</td>\n",
       "      <td>29.0</td>\n",
       "      <td>21000.0</td>\n",
       "      <td>0</td>\n",
       "      <td>0</td>\n",
       "    </tr>\n",
       "    <tr>\n",
       "      <th>3</th>\n",
       "      <td>0</td>\n",
       "      <td>21.0</td>\n",
       "      <td>41700.0</td>\n",
       "      <td>2</td>\n",
       "      <td>0</td>\n",
       "    </tr>\n",
       "    <tr>\n",
       "      <th>4</th>\n",
       "      <td>1</td>\n",
       "      <td>28.0</td>\n",
       "      <td>26100.0</td>\n",
       "      <td>0</td>\n",
       "      <td>0</td>\n",
       "    </tr>\n",
       "  </tbody>\n",
       "</table>\n",
       "</div>"
      ],
      "text/plain": [
       "   Пол  Возраст  Зарплата  Члены семьи  Страховые выплаты\n",
       "0    1     41.0   49600.0            1                  0\n",
       "1    0     46.0   38000.0            1                  1\n",
       "2    0     29.0   21000.0            0                  0\n",
       "3    0     21.0   41700.0            2                  0\n",
       "4    1     28.0   26100.0            0                  0"
      ]
     },
     "execution_count": 2,
     "metadata": {},
     "output_type": "execute_result"
    }
   ],
   "source": [
    "df = pd.read_csv('f:/yandex-practicum/datasets/insurance.csv')\n",
    "df.info()\n",
    "df.head()"
   ]
  },
  {
   "cell_type": "code",
   "execution_count": 3,
   "metadata": {},
   "outputs": [
    {
     "data": {
      "image/png": "[encoded data removed]",
      "text/plain": [
       "<Figure size 1000x1000 with 6 Axes>"
      ]
     },
     "metadata": {},
     "output_type": "display_data"
    }
   ],
   "source": [
    "# Просмотр данных \n",
    "df.hist(figsize=(10,10));"
   ]
  },
  {
   "cell_type": "code",
   "execution_count": 4,
   "metadata": {},
   "outputs": [
    {
     "data": {
      "text/html": [
       "<div>\n",
       "<style scoped>\n",
       "    .dataframe tbody tr th:only-of-type {\n",
       "        vertical-align: middle;\n",
       "    }\n",
       "\n",
       "    .dataframe tbody tr th {\n",
       "        vertical-align: top;\n",
       "    }\n",
       "\n",
       "    .dataframe thead th {\n",
       "        text-align: right;\n",
       "    }\n",
       "</style>\n",
       "<table border=\"1\" class=\"dataframe\">\n",
       "  <thead>\n",
       "    <tr style=\"text-align: right;\">\n",
       "      <th></th>\n",
       "      <th>Пол</th>\n",
       "      <th>Возраст</th>\n",
       "      <th>Зарплата</th>\n",
       "      <th>Члены семьи</th>\n",
       "    </tr>\n",
       "  </thead>\n",
       "  <tbody>\n",
       "    <tr>\n",
       "      <th>0</th>\n",
       "      <td>1</td>\n",
       "      <td>41.0</td>\n",
       "      <td>49600.0</td>\n",
       "      <td>1</td>\n",
       "    </tr>\n",
       "    <tr>\n",
       "      <th>1</th>\n",
       "      <td>0</td>\n",
       "      <td>46.0</td>\n",
       "      <td>38000.0</td>\n",
       "      <td>1</td>\n",
       "    </tr>\n",
       "    <tr>\n",
       "      <th>2</th>\n",
       "      <td>0</td>\n",
       "      <td>29.0</td>\n",
       "      <td>21000.0</td>\n",
       "      <td>0</td>\n",
       "    </tr>\n",
       "    <tr>\n",
       "      <th>3</th>\n",
       "      <td>0</td>\n",
       "      <td>21.0</td>\n",
       "      <td>41700.0</td>\n",
       "      <td>2</td>\n",
       "    </tr>\n",
       "    <tr>\n",
       "      <th>4</th>\n",
       "      <td>1</td>\n",
       "      <td>28.0</td>\n",
       "      <td>26100.0</td>\n",
       "      <td>0</td>\n",
       "    </tr>\n",
       "  </tbody>\n",
       "</table>\n",
       "</div>"
      ],
      "text/plain": [
       "   Пол  Возраст  Зарплата  Члены семьи\n",
       "0    1     41.0   49600.0            1\n",
       "1    0     46.0   38000.0            1\n",
       "2    0     29.0   21000.0            0\n",
       "3    0     21.0   41700.0            2\n",
       "4    1     28.0   26100.0            0"
      ]
     },
     "execution_count": 4,
     "metadata": {},
     "output_type": "execute_result"
    }
   ],
   "source": [
    "# выделение и просмотр признаков\n",
    "features = df.drop('Страховые выплаты',axis=1)\n",
    "features.head()"
   ]
  },
  {
   "cell_type": "code",
   "execution_count": 5,
   "metadata": {},
   "outputs": [
    {
     "data": {
      "text/plain": [
       "0    0\n",
       "1    1\n",
       "2    0\n",
       "3    0\n",
       "4    0\n",
       "Name: Страховые выплаты, dtype: int64"
      ]
     },
     "execution_count": 5,
     "metadata": {},
     "output_type": "execute_result"
    }
   ],
   "source": [
    "# выделение и просмотр целевого празнака\n",
    "target = df['Страховые выплаты']\n",
    "target.head()"
   ]
  },
  {
   "cell_type": "markdown",
   "metadata": {},
   "source": [
    "В данных содержится 500 записей, пропуски отстутсвуют.\n",
    "Выделены признаки и целевой признак."
   ]
  },
  {
   "cell_type": "markdown",
   "metadata": {},
   "source": [
    "## Алгоритм преобразования"
   ]
  },
  {
   "cell_type": "markdown",
   "metadata": {},
   "source": [
    "Для преобразования данных, содержащих персональную информацию, предлагается выполнить умножение матрицы (строки) признаков на обратимую \"Защитную матрицу\". При этом значения признаков исказятся и их восстановление будет затруднено без защитной матрицы. Обучение модели можно производить как по исходной выборке, так и по искаженной выборке, т.к. параметры моделей связаны."
   ]
  },
  {
   "cell_type": "markdown",
   "metadata": {},
   "source": [
    "### Обоснование алгоритма преобразования данных"
   ]
  },
  {
   "cell_type": "markdown",
   "metadata": {},
   "source": [
    "**Формулы линейной регрессии.**\n",
    "\n",
    "Предсказания:\n",
    "$$\n",
    "a = Xw \\ (1)\n",
    "$$\n",
    "Задача обучения:\n",
    "$$\n",
    "w = \\arg\\min_w MSE(Xw, y) \\ (2)\n",
    "$$\n",
    "Формула обучения:\n",
    "$$\n",
    "w = (X^T X)^{-1} X^T y \\ (3)\n",
    "$$\n",
    "\n",
    "Обозначения:\n",
    "\n",
    "- $X$ — матрица признаков (нулевой столбец состоит из единиц)\n",
    "\n",
    "- $y$ — вектор целевого признака\n",
    "\n",
    "- $w$ — вектор весов линейной регрессии (нулевой элемент равен сдвигу)"
   ]
  },
  {
   "cell_type": "markdown",
   "metadata": {},
   "source": [
    "**Доказать**, что качество линейной регрессии при умножении признаков $X$ на обратимую матрицу $P$ не изменится, и параметры линейной регрессии в исходной задаче $w$ и в преобразованной $w'$ связаны как $w$ = $Pw'$.\n",
    "\n",
    "**Доказательство:**\n",
    "\n",
    "Используемые свойства:\n",
    "$$\n",
    "(AB)^T=B^T A^T\n",
    "$$\n",
    "$$\n",
    "(AB)^{-1} = B^{-1} A^{-1}\n",
    "$$\n",
    "$$\n",
    "A A^{-1} = A^{-1} A = E\n",
    "$$\n",
    "$$\n",
    "AE = EA = A\n",
    "$$\n",
    "Доказать:\n",
    "$$\n",
    "a = Xw = XEw = XPP^{-1}w = (XP)P^{-1}w = (XP)w' = a'\n",
    "$$\n",
    "Доказательство:\n",
    "\\\n",
    "$$\n",
    "w = (X^T X)^{-1} X^T y\n",
    "$$\n",
    "\\\n",
    "$$\n",
    "w' = ((XP)^T XP)^{-1} (XP)^T y\n",
    "$$\n",
    "$$\n",
    "w' = (P^T (X^T X) P)^{-1} (XP)^T y\n",
    "$$\n",
    "\n",
    "$$ w' = ((P^T (X^T X)) P)^{-1} (XP)^T y$$\n",
    "$$w' = P^{-1}(X^T X)^{-1} (P^T)^{-1} P^T X^T y$$\n",
    "$$(P^T)^{-1} P^T = (P^{-1})^T P^T = (P P^{-1})^T = E$$\n",
    "$$w' = P^{-1}(X^T X)^{-1} X^T y $$\n",
    "$$w' = P^{-1} w$$\n",
    "\n",
    "$$a' = X'w'=XPP^{-1}w = XEw=Xw=a$$"
   ]
  },
  {
   "cell_type": "markdown",
   "metadata": {},
   "source": [
    "### Алгоритм защиты данных\n",
    "\n",
    "Для преобразования данных, содержащих персональную информацию, предлагается выполнить умножение матрицы (строки) признаков на обратимую \"Защитную матрицу\". При этом значения признаков исказятся и их восстановление будет затруднено без защитной матрицы. Обучение модели можно производить как по исходной выборке, так и по искаженной выборке, т.к. параметры моделей связаны. В первом варианте можно встроить \"защитную матрицу\" в модель и восстанавливать признаки или корректировать параметры модели перед предсказанем. На втором варианте, если модель обучена по искаженной выборке, \"защитная\" матрица будет известна только на этапе искажения признаков, что более предпочтительно. \n",
    "\n",
    "Основные этапы защиты данных с применением алгоритма преобразования матриц:\n",
    "1. Создание и сохранение псевдослучайной \"защитной\" обратимой квадратной матрицы. число строк и столбцов матрицы должно равняться числу признаков. \n",
    "2. Искажение обучающих признаков путем домножения матрицы признаков на \"защитную\" матрицу $X' =  XP$\n",
    "3. Создание и обучение модели линейной регрессии.\n",
    "4. Предсказание моделью числа выплат по искаженным признакам. Признаки могут искажаться на этапе сохранения введенных данных, за счет чего будет обеспечена защита персональных данных."
   ]
  },
  {
   "cell_type": "markdown",
   "metadata": {},
   "source": [
    "## Проверка алгоритма"
   ]
  },
  {
   "cell_type": "code",
   "execution_count": 6,
   "metadata": {
    "scrolled": true
   },
   "outputs": [
    {
     "name": "stdout",
     "output_type": "stream",
     "text": [
      "[[-0.20470766  0.47894334 -0.51943872 -0.5557303 ]\n",
      " [ 1.96578057  1.39340583  0.09290788  0.28174615]\n",
      " [ 0.76902257  1.24643474  1.00718936 -1.29622111]\n",
      " [ 0.27499163  0.22891288  1.35291684  0.88642934]] \n",
      "Определитель\n",
      " -3.0255129130001897 \n",
      "Обратная матрица\n",
      " [[-1.31136747  0.3921804   0.18868055 -0.67088287]\n",
      " [ 1.75872714  0.14106138 -0.17773045  0.79787127]\n",
      " [-0.41702659 -0.22854768  0.3550602   0.33039819]\n",
      " [ 0.58912996  0.19073027 -0.5545481   0.6259302 ]]\n"
     ]
    }
   ],
   "source": [
    "# Создание \"защитной\" матрицы, проверка на обратимость \n",
    "k = features.shape[1]\n",
    "matrix_protection = np.random.RandomState(12345).normal(size=(k,k))\n",
    "print(matrix_protection, '\\nОпределитель\\n', np.linalg.det(matrix_protection), '\\nОбратная матрица\\n', np.linalg.inv(matrix_protection))\n"
   ]
  },
  {
   "cell_type": "markdown",
   "metadata": {},
   "source": [
    "Определитель не нулевой, значит матрица обратима. Расчет обратной матрицы успешен."
   ]
  },
  {
   "cell_type": "code",
   "execution_count": 7,
   "metadata": {},
   "outputs": [
    {
     "data": {
      "text/html": [
       "<div>\n",
       "<style scoped>\n",
       "    .dataframe tbody tr th:only-of-type {\n",
       "        vertical-align: middle;\n",
       "    }\n",
       "\n",
       "    .dataframe tbody tr th {\n",
       "        vertical-align: top;\n",
       "    }\n",
       "\n",
       "    .dataframe thead th {\n",
       "        text-align: right;\n",
       "    }\n",
       "</style>\n",
       "<table border=\"1\" class=\"dataframe\">\n",
       "  <thead>\n",
       "    <tr style=\"text-align: right;\">\n",
       "      <th></th>\n",
       "      <th>Пол</th>\n",
       "      <th>Возраст</th>\n",
       "      <th>Зарплата</th>\n",
       "      <th>Члены семьи</th>\n",
       "    </tr>\n",
       "  </thead>\n",
       "  <tbody>\n",
       "    <tr>\n",
       "      <th>0</th>\n",
       "      <td>38224.186641</td>\n",
       "      <td>61881.000420</td>\n",
       "      <td>49961.234837</td>\n",
       "      <td>-64280.684721</td>\n",
       "    </tr>\n",
       "    <tr>\n",
       "      <th>1</th>\n",
       "      <td>29313.558467</td>\n",
       "      <td>47428.845564</td>\n",
       "      <td>38278.822267</td>\n",
       "      <td>-49242.555394</td>\n",
       "    </tr>\n",
       "    <tr>\n",
       "      <th>2</th>\n",
       "      <td>16206.481556</td>\n",
       "      <td>26215.538233</td>\n",
       "      <td>21153.670838</td>\n",
       "      <td>-27212.472653</td>\n",
       "    </tr>\n",
       "  </tbody>\n",
       "</table>\n",
       "</div>"
      ],
      "text/plain": [
       "            Пол       Возраст      Зарплата   Члены семьи\n",
       "0  38224.186641  61881.000420  49961.234837 -64280.684721\n",
       "1  29313.558467  47428.845564  38278.822267 -49242.555394\n",
       "2  16206.481556  26215.538233  21153.670838 -27212.472653"
      ]
     },
     "execution_count": 7,
     "metadata": {},
     "output_type": "execute_result"
    }
   ],
   "source": [
    "# Искажение признаков\n",
    "features_protected = features @ matrix_protection\n",
    "features_protected.columns = features.columns\n",
    "features_protected.head(3)"
   ]
  },
  {
   "cell_type": "code",
   "execution_count": 8,
   "metadata": {},
   "outputs": [
    {
     "name": "stdout",
     "output_type": "stream",
     "text": [
      "Коэффициент R2 модели на исходных данных: для обучающей выборки - 0.424, для тестовой выборки - 0.427\n"
     ]
    }
   ],
   "source": [
    "#Выделение обучающей и тестовой выборок по исходным данным\n",
    "# Обучение модели, проверка качества модели (критерий R2) на НЕискаженных данных\n",
    "X_train, X_test, y_train, y_test = train_test_split(features, target, test_size=0.33, random_state=12345)\n",
    "model = LinearRegression()\n",
    "model.fit(X_train,y_train)\n",
    "print(f'Коэффициент R2 модели на исходных данных: для обучающей выборки - {r2_score(y_train, model.predict(X_train)):.3f}, для тестовой выборки - {r2_score(y_test, model.predict(X_test)):.3f}')\n"
   ]
  },
  {
   "cell_type": "code",
   "execution_count": 9,
   "metadata": {
    "scrolled": true
   },
   "outputs": [
    {
     "name": "stdout",
     "output_type": "stream",
     "text": [
      "Коэффициент R2 модели на искаженных данных: для обучающей выборки - 0.424, для тестовой выборки - 0.427\n"
     ]
    }
   ],
   "source": [
    "#Выделение обучающей и тестовой выборок по искаженным данным\n",
    "# Обучение модели, проверка качества модели (критерий R2) на искаженных данных\n",
    "X_train, X_test, y_train, y_test = train_test_split(features_protected, target, test_size=0.33, random_state=12345)\n",
    "model = LinearRegression()\n",
    "model.fit(X_train,y_train)\n",
    "print(f'Коэффициент R2 модели на искаженных данных: для обучающей выборки - {r2_score(y_train, model.predict(X_train)):.3f}, для тестовой выборки - {r2_score(y_test, model.predict(X_test)):.3f}')"
   ]
  },
  {
   "cell_type": "markdown",
   "metadata": {},
   "source": [
    "**Вывод: Качество модели не меняется при искажении признаков и ее переобучении ни на обучающей выборке, ни на тестовой.**\n",
    " \n",
    " "
   ]
  },
  {
   "cell_type": "markdown",
   "metadata": {},
   "source": [
    "## Общий вывод\n",
    "1. Загружены данные клиентов страховой компании \"Хоть потоп\"\n",
    "2. Предложен и обоснован алгоритм защиты персональных данных. \n",
    "- Доказано, что качество линейной регрессии при умножении признаков 𝑋  на обратимую матрицу не меняется, а также существование связи между параметрами моделей линейной регрессии, обученных на исходных и искаженных данных.\n",
    "- Описаны основные этапы защиты данных с применением алгоритма преобразования матриц.\n",
    "4. Реализован алгоритм преобразования данных и экспериментально показано, что качество модели не меняется."
   ]
  }
 ],
 "metadata": {
  "ExecuteTimeLog": [
   {
    "duration": 61,
    "start_time": "2022-05-20T10:51:20.757Z"
   },
   {
    "duration": 50,
    "start_time": "2022-05-20T10:51:23.131Z"
   },
   {
    "duration": 32,
    "start_time": "2022-05-20T10:51:28.333Z"
   },
   {
    "duration": 925,
    "start_time": "2022-05-20T10:51:32.983Z"
   },
   {
    "duration": 106,
    "start_time": "2022-05-20T10:51:36.428Z"
   },
   {
    "duration": 54,
    "start_time": "2022-05-20T10:52:50.597Z"
   },
   {
    "duration": 36,
    "start_time": "2022-05-20T10:54:06.595Z"
   },
   {
    "duration": 41,
    "start_time": "2022-05-20T10:54:14.301Z"
   },
   {
    "duration": 4,
    "start_time": "2022-05-20T10:55:20.756Z"
   },
   {
    "duration": 10,
    "start_time": "2022-05-20T10:55:30.116Z"
   },
   {
    "duration": 9,
    "start_time": "2022-05-20T10:55:44.147Z"
   },
   {
    "duration": 4,
    "start_time": "2022-05-20T10:56:11.480Z"
   },
   {
    "duration": 58,
    "start_time": "2022-05-20T11:03:08.003Z"
   },
   {
    "duration": 6,
    "start_time": "2022-05-20T11:03:11.785Z"
   },
   {
    "duration": 4,
    "start_time": "2022-05-20T11:03:17.210Z"
   },
   {
    "duration": 4,
    "start_time": "2022-05-20T11:03:52.667Z"
   },
   {
    "duration": 6,
    "start_time": "2022-05-20T11:03:58.651Z"
   },
   {
    "duration": 4,
    "start_time": "2022-05-20T11:05:01.351Z"
   },
   {
    "duration": 45,
    "start_time": "2022-05-20T11:05:12.496Z"
   },
   {
    "duration": 5,
    "start_time": "2022-05-20T11:05:18.263Z"
   },
   {
    "duration": 6,
    "start_time": "2022-05-20T11:05:58.163Z"
   },
   {
    "duration": 4,
    "start_time": "2022-05-20T11:06:01.286Z"
   },
   {
    "duration": 4,
    "start_time": "2022-05-20T11:06:03.360Z"
   },
   {
    "duration": 5,
    "start_time": "2022-05-20T11:06:04.828Z"
   },
   {
    "duration": 7,
    "start_time": "2022-05-20T11:06:05.990Z"
   },
   {
    "duration": 5,
    "start_time": "2022-05-20T11:06:07.062Z"
   },
   {
    "duration": 13,
    "start_time": "2022-05-20T11:07:46.512Z"
   },
   {
    "duration": 5,
    "start_time": "2022-05-20T11:07:57.350Z"
   },
   {
    "duration": 6,
    "start_time": "2022-05-20T11:07:59.782Z"
   },
   {
    "duration": 8,
    "start_time": "2022-05-20T11:08:00.956Z"
   },
   {
    "duration": 14,
    "start_time": "2022-05-20T11:08:01.852Z"
   },
   {
    "duration": 6,
    "start_time": "2022-05-20T11:08:02.654Z"
   },
   {
    "duration": 8,
    "start_time": "2022-05-20T11:08:03.494Z"
   },
   {
    "duration": 6,
    "start_time": "2022-05-20T11:08:04.350Z"
   },
   {
    "duration": 7,
    "start_time": "2022-05-20T11:08:05.229Z"
   },
   {
    "duration": 6,
    "start_time": "2022-05-20T11:08:05.980Z"
   },
   {
    "duration": 6,
    "start_time": "2022-05-20T11:08:06.822Z"
   },
   {
    "duration": 9,
    "start_time": "2022-05-20T11:08:07.572Z"
   },
   {
    "duration": 8,
    "start_time": "2022-05-20T11:08:08.387Z"
   },
   {
    "duration": 6,
    "start_time": "2022-05-20T11:08:09.373Z"
   },
   {
    "duration": 7,
    "start_time": "2022-05-20T11:08:10.791Z"
   },
   {
    "duration": 5,
    "start_time": "2022-05-20T11:08:11.907Z"
   },
   {
    "duration": 5,
    "start_time": "2022-05-20T11:08:15.852Z"
   },
   {
    "duration": 7,
    "start_time": "2022-05-20T11:08:19.392Z"
   },
   {
    "duration": 5,
    "start_time": "2022-05-20T11:09:08.071Z"
   },
   {
    "duration": 13,
    "start_time": "2022-05-20T11:09:12.445Z"
   },
   {
    "duration": 14,
    "start_time": "2022-05-20T11:09:26.453Z"
   },
   {
    "duration": 4,
    "start_time": "2022-05-20T11:13:03.501Z"
   },
   {
    "duration": 5,
    "start_time": "2022-05-20T11:13:08.358Z"
   },
   {
    "duration": 10,
    "start_time": "2022-05-20T11:13:48.952Z"
   },
   {
    "duration": 11,
    "start_time": "2022-05-20T11:14:02.704Z"
   },
   {
    "duration": 11,
    "start_time": "2022-05-20T11:14:23.664Z"
   },
   {
    "duration": 11,
    "start_time": "2022-05-20T11:14:35.231Z"
   },
   {
    "duration": 5,
    "start_time": "2022-05-20T11:15:47.284Z"
   },
   {
    "duration": 10,
    "start_time": "2022-05-20T11:15:50.416Z"
   },
   {
    "duration": 9,
    "start_time": "2022-05-20T11:15:54.719Z"
   },
   {
    "duration": 5,
    "start_time": "2022-05-20T11:16:31.496Z"
   },
   {
    "duration": 13,
    "start_time": "2022-05-20T11:18:32.819Z"
   },
   {
    "duration": 63,
    "start_time": "2022-05-20T11:18:57.897Z"
   },
   {
    "duration": 51,
    "start_time": "2022-05-20T11:19:05.829Z"
   },
   {
    "duration": 43,
    "start_time": "2022-05-20T11:19:16.537Z"
   },
   {
    "duration": 7,
    "start_time": "2022-05-20T11:19:34.410Z"
   },
   {
    "duration": 5,
    "start_time": "2022-05-20T11:19:45.427Z"
   },
   {
    "duration": 4,
    "start_time": "2022-05-20T11:24:06.365Z"
   },
   {
    "duration": 62,
    "start_time": "2022-05-20T11:26:06.113Z"
   },
   {
    "duration": 4,
    "start_time": "2022-05-20T11:26:30.887Z"
   },
   {
    "duration": 19,
    "start_time": "2022-05-20T11:26:32.312Z"
   },
   {
    "duration": 4,
    "start_time": "2022-05-20T11:26:37.585Z"
   },
   {
    "duration": 4,
    "start_time": "2022-05-20T11:26:42.656Z"
   },
   {
    "duration": 19,
    "start_time": "2022-05-20T11:26:51.182Z"
   },
   {
    "duration": 5,
    "start_time": "2022-05-20T11:27:34.093Z"
   },
   {
    "duration": 22,
    "start_time": "2022-05-20T11:27:35.458Z"
   },
   {
    "duration": 6,
    "start_time": "2022-05-20T11:28:44.824Z"
   },
   {
    "duration": 5,
    "start_time": "2022-05-20T11:30:10.419Z"
   },
   {
    "duration": 6,
    "start_time": "2022-05-20T11:30:15.395Z"
   },
   {
    "duration": 12,
    "start_time": "2022-05-20T11:30:16.466Z"
   },
   {
    "duration": 4,
    "start_time": "2022-05-20T11:30:30.484Z"
   },
   {
    "duration": 17,
    "start_time": "2022-05-20T11:30:32.315Z"
   },
   {
    "duration": 4,
    "start_time": "2022-05-20T11:30:35.122Z"
   },
   {
    "duration": 4,
    "start_time": "2022-05-20T11:30:35.830Z"
   },
   {
    "duration": 92,
    "start_time": "2022-05-20T11:30:36.686Z"
   },
   {
    "duration": 9,
    "start_time": "2022-05-20T11:30:47.562Z"
   },
   {
    "duration": 4,
    "start_time": "2022-05-20T11:31:11.323Z"
   },
   {
    "duration": 4,
    "start_time": "2022-05-20T11:31:12.233Z"
   },
   {
    "duration": 17,
    "start_time": "2022-05-20T11:31:12.841Z"
   },
   {
    "duration": 11,
    "start_time": "2022-05-20T11:32:18.475Z"
   },
   {
    "duration": 9,
    "start_time": "2022-05-20T11:32:21.713Z"
   },
   {
    "duration": 12,
    "start_time": "2022-05-20T11:34:33.939Z"
   },
   {
    "duration": 12,
    "start_time": "2022-05-20T11:34:40.398Z"
   },
   {
    "duration": 21,
    "start_time": "2022-05-20T11:34:50.463Z"
   },
   {
    "duration": 13,
    "start_time": "2022-05-20T11:34:56.108Z"
   },
   {
    "duration": 20,
    "start_time": "2022-05-20T11:35:30.315Z"
   },
   {
    "duration": 79,
    "start_time": "2022-05-20T11:35:41.997Z"
   },
   {
    "duration": 9,
    "start_time": "2022-05-20T11:36:24.173Z"
   },
   {
    "duration": 8,
    "start_time": "2022-05-20T11:36:27.220Z"
   },
   {
    "duration": 10,
    "start_time": "2022-05-20T11:36:49.754Z"
   },
   {
    "duration": 12,
    "start_time": "2022-05-20T11:36:51.785Z"
   },
   {
    "duration": 12,
    "start_time": "2022-05-20T11:38:52.760Z"
   },
   {
    "duration": 10,
    "start_time": "2022-05-20T11:39:31.741Z"
   },
   {
    "duration": 5,
    "start_time": "2022-05-20T11:39:41.361Z"
   },
   {
    "duration": 9,
    "start_time": "2022-05-20T11:39:48.847Z"
   },
   {
    "duration": 5,
    "start_time": "2022-05-20T11:40:16.363Z"
   },
   {
    "duration": 4,
    "start_time": "2022-05-20T11:41:41.374Z"
   },
   {
    "duration": 8,
    "start_time": "2022-05-20T11:41:59.374Z"
   },
   {
    "duration": 8,
    "start_time": "2022-05-20T11:42:07.093Z"
   },
   {
    "duration": 9,
    "start_time": "2022-05-20T11:42:13.839Z"
   },
   {
    "duration": 43,
    "start_time": "2022-05-20T11:42:21.896Z"
   },
   {
    "duration": 6,
    "start_time": "2022-05-20T11:42:27.477Z"
   },
   {
    "duration": 5,
    "start_time": "2022-05-20T11:42:37.101Z"
   },
   {
    "duration": 7,
    "start_time": "2022-05-20T11:42:52.062Z"
   },
   {
    "duration": 6,
    "start_time": "2022-05-20T11:43:00.212Z"
   },
   {
    "duration": 6,
    "start_time": "2022-05-20T12:59:24.732Z"
   },
   {
    "duration": 69,
    "start_time": "2022-05-20T13:06:32.151Z"
   },
   {
    "duration": 93,
    "start_time": "2022-05-20T13:06:57.182Z"
   },
   {
    "duration": 9,
    "start_time": "2022-05-20T13:07:12.440Z"
   },
   {
    "duration": 15,
    "start_time": "2022-05-20T13:07:14.390Z"
   },
   {
    "duration": 11,
    "start_time": "2022-05-20T13:08:27.354Z"
   },
   {
    "duration": 9,
    "start_time": "2022-05-20T13:12:03.469Z"
   },
   {
    "duration": 1385,
    "start_time": "2022-05-20T13:12:07.363Z"
   },
   {
    "duration": 24,
    "start_time": "2022-05-20T13:18:51.365Z"
   },
   {
    "duration": 3,
    "start_time": "2022-05-20T13:19:00.014Z"
   },
   {
    "duration": 42,
    "start_time": "2022-05-20T13:19:09.865Z"
   },
   {
    "duration": 16,
    "start_time": "2022-05-20T13:19:34.363Z"
   },
   {
    "duration": 9,
    "start_time": "2022-05-20T13:19:43.329Z"
   },
   {
    "duration": 43,
    "start_time": "2022-05-20T13:23:24.833Z"
   },
   {
    "duration": 10,
    "start_time": "2022-05-20T13:23:30.231Z"
   },
   {
    "duration": 10,
    "start_time": "2022-05-20T13:23:58.468Z"
   },
   {
    "duration": 23,
    "start_time": "2022-05-20T13:38:43.881Z"
   },
   {
    "duration": 323,
    "start_time": "2022-05-20T13:38:54.148Z"
   },
   {
    "duration": 345,
    "start_time": "2022-05-20T13:39:05.924Z"
   },
   {
    "duration": 381,
    "start_time": "2022-05-20T13:39:26.782Z"
   },
   {
    "duration": 724,
    "start_time": "2022-05-20T13:39:42.879Z"
   },
   {
    "duration": 1074,
    "start_time": "2022-05-20T13:39:53.145Z"
   },
   {
    "duration": 18,
    "start_time": "2022-05-20T13:40:03.108Z"
   },
   {
    "duration": 2167,
    "start_time": "2022-05-20T13:40:16.472Z"
   },
   {
    "duration": 12,
    "start_time": "2022-05-20T13:40:26.524Z"
   },
   {
    "duration": 22,
    "start_time": "2022-05-20T13:40:42.430Z"
   },
   {
    "duration": 24,
    "start_time": "2022-05-20T13:41:28.492Z"
   },
   {
    "duration": 18,
    "start_time": "2022-05-20T13:41:37.472Z"
   },
   {
    "duration": 20,
    "start_time": "2022-05-20T13:42:27.193Z"
   },
   {
    "duration": 405,
    "start_time": "2022-05-20T13:42:43.896Z"
   },
   {
    "duration": 28,
    "start_time": "2022-05-20T13:42:49.418Z"
   },
   {
    "duration": 20,
    "start_time": "2022-05-20T13:42:51.924Z"
   },
   {
    "duration": 20,
    "start_time": "2022-05-20T13:43:04.881Z"
   },
   {
    "duration": 17,
    "start_time": "2022-05-20T13:43:11.000Z"
   },
   {
    "duration": 18,
    "start_time": "2022-05-20T13:43:18.223Z"
   },
   {
    "duration": 21,
    "start_time": "2022-05-20T13:43:25.604Z"
   },
   {
    "duration": 22,
    "start_time": "2022-05-20T13:43:38.749Z"
   },
   {
    "duration": 13,
    "start_time": "2022-05-20T13:43:53.710Z"
   },
   {
    "duration": 19,
    "start_time": "2022-05-20T13:44:07.522Z"
   },
   {
    "duration": 20,
    "start_time": "2022-05-20T13:44:16.447Z"
   },
   {
    "duration": 23,
    "start_time": "2022-05-20T13:44:45.956Z"
   },
   {
    "duration": 1221,
    "start_time": "2022-05-20T13:45:02.709Z"
   },
   {
    "duration": 48,
    "start_time": "2022-05-20T13:45:18.098Z"
   },
   {
    "duration": 89,
    "start_time": "2022-05-20T13:45:23.568Z"
   },
   {
    "duration": 25,
    "start_time": "2022-05-20T13:45:26.477Z"
   },
   {
    "duration": 22,
    "start_time": "2022-05-20T13:46:00.166Z"
   },
   {
    "duration": 26,
    "start_time": "2022-05-20T13:46:04.789Z"
   },
   {
    "duration": 27,
    "start_time": "2022-05-20T13:46:16.422Z"
   },
   {
    "duration": 15,
    "start_time": "2022-05-20T13:46:19.937Z"
   },
   {
    "duration": 19,
    "start_time": "2022-05-20T13:46:57.583Z"
   },
   {
    "duration": 54,
    "start_time": "2022-05-20T13:47:02.022Z"
   },
   {
    "duration": 15,
    "start_time": "2022-05-20T13:47:10.065Z"
   },
   {
    "duration": 15,
    "start_time": "2022-05-20T13:47:15.465Z"
   },
   {
    "duration": 15,
    "start_time": "2022-05-20T13:47:19.527Z"
   },
   {
    "duration": 18,
    "start_time": "2022-05-20T13:47:23.769Z"
   },
   {
    "duration": 19,
    "start_time": "2022-05-20T13:47:27.518Z"
   },
   {
    "duration": 14,
    "start_time": "2022-05-20T13:47:34.592Z"
   },
   {
    "duration": 12,
    "start_time": "2022-05-20T13:47:45.519Z"
   },
   {
    "duration": 26,
    "start_time": "2022-05-20T13:47:48.496Z"
   },
   {
    "duration": 12,
    "start_time": "2022-05-20T13:47:53.302Z"
   },
   {
    "duration": 11,
    "start_time": "2022-05-20T13:48:37.824Z"
   },
   {
    "duration": 17,
    "start_time": "2022-05-20T13:50:04.196Z"
   },
   {
    "duration": 40,
    "start_time": "2022-05-20T13:50:08.676Z"
   },
   {
    "duration": 203,
    "start_time": "2022-05-20T13:50:46.371Z"
   },
   {
    "duration": 22,
    "start_time": "2022-05-20T13:51:31.928Z"
   },
   {
    "duration": 19,
    "start_time": "2022-05-20T13:52:10.094Z"
   },
   {
    "duration": 9,
    "start_time": "2022-05-20T13:52:54.493Z"
   },
   {
    "duration": 3,
    "start_time": "2022-05-20T13:53:29.254Z"
   },
   {
    "duration": 47,
    "start_time": "2022-05-20T13:53:29.260Z"
   },
   {
    "duration": 687,
    "start_time": "2022-05-20T13:53:29.309Z"
   },
   {
    "duration": 12,
    "start_time": "2022-05-20T13:53:29.998Z"
   },
   {
    "duration": 9,
    "start_time": "2022-05-20T13:53:30.013Z"
   },
   {
    "duration": 8,
    "start_time": "2022-05-20T13:53:30.023Z"
   },
   {
    "duration": 142,
    "start_time": "2022-05-20T13:53:30.034Z"
   },
   {
    "duration": 16,
    "start_time": "2022-05-20T13:53:30.177Z"
   },
   {
    "duration": 115,
    "start_time": "2022-05-20T13:53:30.276Z"
   },
   {
    "duration": 3,
    "start_time": "2022-05-20T14:01:24.843Z"
   },
   {
    "duration": 44,
    "start_time": "2022-05-20T14:01:24.848Z"
   },
   {
    "duration": 693,
    "start_time": "2022-05-20T14:01:24.893Z"
   },
   {
    "duration": 9,
    "start_time": "2022-05-20T14:01:25.588Z"
   },
   {
    "duration": 7,
    "start_time": "2022-05-20T14:01:25.599Z"
   },
   {
    "duration": 7,
    "start_time": "2022-05-20T14:01:25.607Z"
   },
   {
    "duration": 63,
    "start_time": "2022-05-20T14:01:25.616Z"
   },
   {
    "duration": 196,
    "start_time": "2022-05-20T14:01:25.680Z"
   },
   {
    "duration": 98,
    "start_time": "2022-05-20T14:01:25.877Z"
   },
   {
    "duration": 41,
    "start_time": "2022-05-20T14:01:40.386Z"
   },
   {
    "duration": 13,
    "start_time": "2022-05-20T14:02:15.251Z"
   },
   {
    "duration": 4,
    "start_time": "2022-05-20T14:03:13.763Z"
   },
   {
    "duration": 47,
    "start_time": "2022-05-20T14:03:13.770Z"
   },
   {
    "duration": 736,
    "start_time": "2022-05-20T14:03:13.819Z"
   },
   {
    "duration": 12,
    "start_time": "2022-05-20T14:03:14.557Z"
   },
   {
    "duration": 21,
    "start_time": "2022-05-20T14:03:14.570Z"
   },
   {
    "duration": 28,
    "start_time": "2022-05-20T14:03:14.592Z"
   },
   {
    "duration": 60,
    "start_time": "2022-05-20T14:03:14.623Z"
   },
   {
    "duration": 103,
    "start_time": "2022-05-20T14:03:14.686Z"
   },
   {
    "duration": 106,
    "start_time": "2022-05-20T14:03:14.876Z"
   },
   {
    "duration": 56,
    "start_time": "2022-05-20T19:43:04.673Z"
   },
   {
    "duration": 1204,
    "start_time": "2022-05-20T19:43:14.680Z"
   },
   {
    "duration": 115,
    "start_time": "2022-05-20T19:43:15.886Z"
   },
   {
    "duration": 1118,
    "start_time": "2022-05-20T19:43:16.003Z"
   },
   {
    "duration": 10,
    "start_time": "2022-05-20T19:43:17.123Z"
   },
   {
    "duration": 6,
    "start_time": "2022-05-20T19:43:17.134Z"
   },
   {
    "duration": 7,
    "start_time": "2022-05-20T19:43:17.151Z"
   },
   {
    "duration": 200,
    "start_time": "2022-05-20T19:43:17.159Z"
   },
   {
    "duration": 146,
    "start_time": "2022-05-20T19:43:20.208Z"
   },
   {
    "duration": 21,
    "start_time": "2022-05-20T19:43:40.917Z"
   },
   {
    "duration": 19,
    "start_time": "2022-05-20T19:43:49.806Z"
   },
   {
    "duration": 20,
    "start_time": "2022-05-20T19:43:59.530Z"
   },
   {
    "duration": 20,
    "start_time": "2022-05-20T19:44:03.817Z"
   },
   {
    "duration": 19,
    "start_time": "2022-05-20T20:15:01.288Z"
   },
   {
    "duration": 18,
    "start_time": "2022-05-20T20:15:18.261Z"
   },
   {
    "duration": 20,
    "start_time": "2022-05-20T20:15:44.092Z"
   },
   {
    "duration": 14,
    "start_time": "2022-05-20T20:15:53.194Z"
   },
   {
    "duration": 39,
    "start_time": "2022-05-20T20:16:15.627Z"
   },
   {
    "duration": 12,
    "start_time": "2022-05-20T20:16:28.178Z"
   },
   {
    "duration": 3,
    "start_time": "2022-05-20T20:23:12.600Z"
   },
   {
    "duration": 38,
    "start_time": "2022-05-20T20:23:12.605Z"
   },
   {
    "duration": 700,
    "start_time": "2022-05-20T20:23:12.645Z"
   },
   {
    "duration": 10,
    "start_time": "2022-05-20T20:23:13.347Z"
   },
   {
    "duration": 6,
    "start_time": "2022-05-20T20:23:13.358Z"
   },
   {
    "duration": 9,
    "start_time": "2022-05-20T20:23:13.365Z"
   },
   {
    "duration": 15,
    "start_time": "2022-05-20T20:23:13.375Z"
   },
   {
    "duration": 15,
    "start_time": "2022-05-20T20:23:13.452Z"
   },
   {
    "duration": 194,
    "start_time": "2022-05-20T20:23:13.469Z"
   },
   {
    "duration": 4,
    "start_time": "2022-05-20T20:23:34.003Z"
   },
   {
    "duration": 54,
    "start_time": "2022-05-20T20:23:34.009Z"
   },
   {
    "duration": 718,
    "start_time": "2022-05-20T20:23:34.065Z"
   },
   {
    "duration": 10,
    "start_time": "2022-05-20T20:23:34.785Z"
   },
   {
    "duration": 8,
    "start_time": "2022-05-20T20:23:34.797Z"
   },
   {
    "duration": 11,
    "start_time": "2022-05-20T20:23:34.806Z"
   },
   {
    "duration": 42,
    "start_time": "2022-05-20T20:23:34.818Z"
   },
   {
    "duration": 191,
    "start_time": "2022-05-20T20:23:34.862Z"
   },
   {
    "duration": 15,
    "start_time": "2022-05-20T20:23:35.054Z"
   }
  ],
  "kernelspec": {
   "display_name": "Python 3 (ipykernel)",
   "language": "python",
   "name": "python3"
  },
  "language_info": {
   "codemirror_mode": {
    "name": "ipython",
    "version": 3
   },
   "file_extension": ".py",
   "mimetype": "text/x-python",
   "name": "python",
   "nbconvert_exporter": "python",
   "pygments_lexer": "ipython3",
   "version": "3.10.6"
  },
  "toc": {
   "base_numbering": 1,
   "nav_menu": {},
   "number_sections": true,
   "sideBar": true,
   "skip_h1_title": true,
   "title_cell": "Содержание",
   "title_sidebar": "Contents",
   "toc_cell": true,
   "toc_position": {
    "height": "calc(100% - 180px)",
    "left": "10px",
    "top": "150px",
    "width": "323.865px"
   },
   "toc_section_display": true,
   "toc_window_display": true
  }
 },
 "nbformat": 4,
 "nbformat_minor": 4
}
