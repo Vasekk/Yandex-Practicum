{
 "cells": [
  {
   "cell_type": "markdown",
   "metadata": {
    "id": "rTbnD8lLEDq2"
   },
   "source": [
    "# Модель оттока клиентов «Бета-Банка»\n",
    "\n",
    "Из «Бета-Банка» стали уходить клиенты. Каждый месяц. Немного, но заметно. Банковские маркетологи посчитали: сохранять текущих клиентов дешевле, чем привлекать новых.\n",
    "Нужно спрогнозировать, уйдёт клиент из банка в ближайшее время или нет. Имеются исторические данные о поведении клиентов и расторжении договоров с банком.\n",
    "\n",
    "Цель проекта - построить модель с предельно большим значением F1-меры, дополнительно измеряя AUC-ROC и  сравнивая её значение с F1-мерой.\n",
    "\n",
    "\n",
    "Данные хранятся в файле \"Churn.csv\". Данные содержат 10000 записей. Каждая строка в наборе данных — это информация об одном пользователе. Описание признаков:\n",
    "- RowNumber — индекс строки в данных\n",
    "- CustomerId — уникальный идентификатор клиента\n",
    "- Surname — фамилия\n",
    "- CreditScore — кредитный рейтинг\n",
    "- Geography — страна проживания\n",
    "- Gender — пол\n",
    "- Age — возраст\n",
    "- Tenure — сколько лет человек является клиентом банка\n",
    "- Balance — баланс на счёте\n",
    "- NumOfProducts — количество продуктов банка, используемых клиентом\n",
    "- HasCrCard — наличие кредитной карты\n",
    "- IsActiveMember — активность клиента\n",
    "- EstimatedSalary — предполагаемая зарплата\n",
    "- Exited — факт ухода клиента (Целевой признак)\n",
    "\n",
    "План работы\n",
    "1. Загрузить и подготовить данные.\n",
    "2. Исследовать баланс классов, обучить модель без учёта дисбаланса.\n",
    "3. Улучшить качество модели, учитывая дисбаланс классов. Обучить разные модели и найти лучшую.\n",
    "4. Провести финальное тестирование."
   ]
  },
  {
   "cell_type": "code",
   "execution_count": 1,
   "metadata": {
    "id": "ECZRFCfPEDq6"
   },
   "outputs": [],
   "source": [
    "# Импорт библиотек\n",
    "import pandas as pd\n",
    "\n",
    "from sklearn.model_selection import train_test_split\n",
    "from sklearn.preprocessing import StandardScaler\n",
    "from sklearn.tree import DecisionTreeClassifier\n",
    "from sklearn.ensemble import RandomForestClassifier\n",
    "from sklearn.linear_model import LogisticRegression\n",
    "from sklearn.metrics import accuracy_score, recall_score, precision_score, confusion_matrix, roc_auc_score, f1_score, RocCurveDisplay\n",
    "from sklearn.utils import shuffle\n",
    "\n",
    "import warnings\n",
    "warnings.filterwarnings('ignore')"
   ]
  },
  {
   "cell_type": "code",
   "execution_count": 2,
   "metadata": {
    "id": "uzMWN133wOwV"
   },
   "outputs": [],
   "source": [
    "pd.set_option('display.float_format', '{:,.2f}'.format)"
   ]
  },
  {
   "cell_type": "markdown",
   "metadata": {
    "id": "hwcxjCNOEDq3"
   },
   "source": [
    "## Шаг 1. Загрузка и подготовка данных"
   ]
  },
  {
   "cell_type": "code",
   "execution_count": 3,
   "metadata": {
    "colab": {
     "base_uri": "https://localhost:8080/",
     "height": 871
    },
    "id": "qmiD9FznEDq8",
    "outputId": "1885858e-795d-47d1-fc9f-e67a6d3754e2"
   },
   "outputs": [
    {
     "name": "stdout",
     "output_type": "stream",
     "text": [
      "<class 'pandas.core.frame.DataFrame'>\n",
      "RangeIndex: 10000 entries, 0 to 9999\n",
      "Data columns (total 14 columns):\n",
      " #   Column           Non-Null Count  Dtype  \n",
      "---  ------           --------------  -----  \n",
      " 0   RowNumber        10000 non-null  int64  \n",
      " 1   CustomerId       10000 non-null  int64  \n",
      " 2   Surname          10000 non-null  object \n",
      " 3   CreditScore      10000 non-null  int64  \n",
      " 4   Geography        10000 non-null  object \n",
      " 5   Gender           10000 non-null  object \n",
      " 6   Age              10000 non-null  int64  \n",
      " 7   Tenure           9091 non-null   float64\n",
      " 8   Balance          10000 non-null  float64\n",
      " 9   NumOfProducts    10000 non-null  int64  \n",
      " 10  HasCrCard        10000 non-null  int64  \n",
      " 11  IsActiveMember   10000 non-null  int64  \n",
      " 12  EstimatedSalary  10000 non-null  float64\n",
      " 13  Exited           10000 non-null  int64  \n",
      "dtypes: float64(3), int64(8), object(3)\n",
      "memory usage: 1.1+ MB\n"
     ]
    },
    {
     "data": {
      "text/html": [
       "<div>\n",
       "<style scoped>\n",
       "    .dataframe tbody tr th:only-of-type {\n",
       "        vertical-align: middle;\n",
       "    }\n",
       "\n",
       "    .dataframe tbody tr th {\n",
       "        vertical-align: top;\n",
       "    }\n",
       "\n",
       "    .dataframe thead th {\n",
       "        text-align: right;\n",
       "    }\n",
       "</style>\n",
       "<table border=\"1\" class=\"dataframe\">\n",
       "  <thead>\n",
       "    <tr style=\"text-align: right;\">\n",
       "      <th></th>\n",
       "      <th>RowNumber</th>\n",
       "      <th>CustomerId</th>\n",
       "      <th>Surname</th>\n",
       "      <th>CreditScore</th>\n",
       "      <th>Geography</th>\n",
       "      <th>Gender</th>\n",
       "      <th>Age</th>\n",
       "      <th>Tenure</th>\n",
       "      <th>Balance</th>\n",
       "      <th>NumOfProducts</th>\n",
       "      <th>HasCrCard</th>\n",
       "      <th>IsActiveMember</th>\n",
       "      <th>EstimatedSalary</th>\n",
       "      <th>Exited</th>\n",
       "    </tr>\n",
       "  </thead>\n",
       "  <tbody>\n",
       "    <tr>\n",
       "      <th>0</th>\n",
       "      <td>1</td>\n",
       "      <td>15634602</td>\n",
       "      <td>Hargrave</td>\n",
       "      <td>619</td>\n",
       "      <td>France</td>\n",
       "      <td>Female</td>\n",
       "      <td>42</td>\n",
       "      <td>2.00</td>\n",
       "      <td>0.00</td>\n",
       "      <td>1</td>\n",
       "      <td>1</td>\n",
       "      <td>1</td>\n",
       "      <td>101,348.88</td>\n",
       "      <td>1</td>\n",
       "    </tr>\n",
       "    <tr>\n",
       "      <th>1</th>\n",
       "      <td>2</td>\n",
       "      <td>15647311</td>\n",
       "      <td>Hill</td>\n",
       "      <td>608</td>\n",
       "      <td>Spain</td>\n",
       "      <td>Female</td>\n",
       "      <td>41</td>\n",
       "      <td>1.00</td>\n",
       "      <td>83,807.86</td>\n",
       "      <td>1</td>\n",
       "      <td>0</td>\n",
       "      <td>1</td>\n",
       "      <td>112,542.58</td>\n",
       "      <td>0</td>\n",
       "    </tr>\n",
       "    <tr>\n",
       "      <th>2</th>\n",
       "      <td>3</td>\n",
       "      <td>15619304</td>\n",
       "      <td>Onio</td>\n",
       "      <td>502</td>\n",
       "      <td>France</td>\n",
       "      <td>Female</td>\n",
       "      <td>42</td>\n",
       "      <td>8.00</td>\n",
       "      <td>159,660.80</td>\n",
       "      <td>3</td>\n",
       "      <td>1</td>\n",
       "      <td>0</td>\n",
       "      <td>113,931.57</td>\n",
       "      <td>1</td>\n",
       "    </tr>\n",
       "    <tr>\n",
       "      <th>3</th>\n",
       "      <td>4</td>\n",
       "      <td>15701354</td>\n",
       "      <td>Boni</td>\n",
       "      <td>699</td>\n",
       "      <td>France</td>\n",
       "      <td>Female</td>\n",
       "      <td>39</td>\n",
       "      <td>1.00</td>\n",
       "      <td>0.00</td>\n",
       "      <td>2</td>\n",
       "      <td>0</td>\n",
       "      <td>0</td>\n",
       "      <td>93,826.63</td>\n",
       "      <td>0</td>\n",
       "    </tr>\n",
       "    <tr>\n",
       "      <th>4</th>\n",
       "      <td>5</td>\n",
       "      <td>15737888</td>\n",
       "      <td>Mitchell</td>\n",
       "      <td>850</td>\n",
       "      <td>Spain</td>\n",
       "      <td>Female</td>\n",
       "      <td>43</td>\n",
       "      <td>2.00</td>\n",
       "      <td>125,510.82</td>\n",
       "      <td>1</td>\n",
       "      <td>1</td>\n",
       "      <td>1</td>\n",
       "      <td>79,084.10</td>\n",
       "      <td>0</td>\n",
       "    </tr>\n",
       "  </tbody>\n",
       "</table>\n",
       "</div>"
      ],
      "text/plain": [
       "   RowNumber  CustomerId   Surname  CreditScore Geography  Gender  Age  \\\n",
       "0          1    15634602  Hargrave          619    France  Female   42   \n",
       "1          2    15647311      Hill          608     Spain  Female   41   \n",
       "2          3    15619304      Onio          502    France  Female   42   \n",
       "3          4    15701354      Boni          699    France  Female   39   \n",
       "4          5    15737888  Mitchell          850     Spain  Female   43   \n",
       "\n",
       "   Tenure    Balance  NumOfProducts  HasCrCard  IsActiveMember  \\\n",
       "0    2.00       0.00              1          1               1   \n",
       "1    1.00  83,807.86              1          0               1   \n",
       "2    8.00 159,660.80              3          1               0   \n",
       "3    1.00       0.00              2          0               0   \n",
       "4    2.00 125,510.82              1          1               1   \n",
       "\n",
       "   EstimatedSalary  Exited  \n",
       "0       101,348.88       1  \n",
       "1       112,542.58       0  \n",
       "2       113,931.57       1  \n",
       "3        93,826.63       0  \n",
       "4        79,084.10       0  "
      ]
     },
     "metadata": {},
     "output_type": "display_data"
    },
    {
     "data": {
      "text/html": [
       "<div>\n",
       "<style scoped>\n",
       "    .dataframe tbody tr th:only-of-type {\n",
       "        vertical-align: middle;\n",
       "    }\n",
       "\n",
       "    .dataframe tbody tr th {\n",
       "        vertical-align: top;\n",
       "    }\n",
       "\n",
       "    .dataframe thead th {\n",
       "        text-align: right;\n",
       "    }\n",
       "</style>\n",
       "<table border=\"1\" class=\"dataframe\">\n",
       "  <thead>\n",
       "    <tr style=\"text-align: right;\">\n",
       "      <th></th>\n",
       "      <th>RowNumber</th>\n",
       "      <th>CustomerId</th>\n",
       "      <th>CreditScore</th>\n",
       "      <th>Age</th>\n",
       "      <th>Tenure</th>\n",
       "      <th>Balance</th>\n",
       "      <th>NumOfProducts</th>\n",
       "      <th>HasCrCard</th>\n",
       "      <th>IsActiveMember</th>\n",
       "      <th>EstimatedSalary</th>\n",
       "      <th>Exited</th>\n",
       "    </tr>\n",
       "  </thead>\n",
       "  <tbody>\n",
       "    <tr>\n",
       "      <th>count</th>\n",
       "      <td>10,000.00</td>\n",
       "      <td>10,000.00</td>\n",
       "      <td>10,000.00</td>\n",
       "      <td>10,000.00</td>\n",
       "      <td>9,091.00</td>\n",
       "      <td>10,000.00</td>\n",
       "      <td>10,000.00</td>\n",
       "      <td>10,000.00</td>\n",
       "      <td>10,000.00</td>\n",
       "      <td>10,000.00</td>\n",
       "      <td>10,000.00</td>\n",
       "    </tr>\n",
       "    <tr>\n",
       "      <th>mean</th>\n",
       "      <td>5,000.50</td>\n",
       "      <td>15,690,940.57</td>\n",
       "      <td>650.53</td>\n",
       "      <td>38.92</td>\n",
       "      <td>5.00</td>\n",
       "      <td>76,485.89</td>\n",
       "      <td>1.53</td>\n",
       "      <td>0.71</td>\n",
       "      <td>0.52</td>\n",
       "      <td>100,090.24</td>\n",
       "      <td>0.20</td>\n",
       "    </tr>\n",
       "    <tr>\n",
       "      <th>std</th>\n",
       "      <td>2,886.90</td>\n",
       "      <td>71,936.19</td>\n",
       "      <td>96.65</td>\n",
       "      <td>10.49</td>\n",
       "      <td>2.89</td>\n",
       "      <td>62,397.41</td>\n",
       "      <td>0.58</td>\n",
       "      <td>0.46</td>\n",
       "      <td>0.50</td>\n",
       "      <td>57,510.49</td>\n",
       "      <td>0.40</td>\n",
       "    </tr>\n",
       "    <tr>\n",
       "      <th>min</th>\n",
       "      <td>1.00</td>\n",
       "      <td>15,565,701.00</td>\n",
       "      <td>350.00</td>\n",
       "      <td>18.00</td>\n",
       "      <td>0.00</td>\n",
       "      <td>0.00</td>\n",
       "      <td>1.00</td>\n",
       "      <td>0.00</td>\n",
       "      <td>0.00</td>\n",
       "      <td>11.58</td>\n",
       "      <td>0.00</td>\n",
       "    </tr>\n",
       "    <tr>\n",
       "      <th>25%</th>\n",
       "      <td>2,500.75</td>\n",
       "      <td>15,628,528.25</td>\n",
       "      <td>584.00</td>\n",
       "      <td>32.00</td>\n",
       "      <td>2.00</td>\n",
       "      <td>0.00</td>\n",
       "      <td>1.00</td>\n",
       "      <td>0.00</td>\n",
       "      <td>0.00</td>\n",
       "      <td>51,002.11</td>\n",
       "      <td>0.00</td>\n",
       "    </tr>\n",
       "    <tr>\n",
       "      <th>50%</th>\n",
       "      <td>5,000.50</td>\n",
       "      <td>15,690,738.00</td>\n",
       "      <td>652.00</td>\n",
       "      <td>37.00</td>\n",
       "      <td>5.00</td>\n",
       "      <td>97,198.54</td>\n",
       "      <td>1.00</td>\n",
       "      <td>1.00</td>\n",
       "      <td>1.00</td>\n",
       "      <td>100,193.91</td>\n",
       "      <td>0.00</td>\n",
       "    </tr>\n",
       "    <tr>\n",
       "      <th>75%</th>\n",
       "      <td>7,500.25</td>\n",
       "      <td>15,753,233.75</td>\n",
       "      <td>718.00</td>\n",
       "      <td>44.00</td>\n",
       "      <td>7.00</td>\n",
       "      <td>127,644.24</td>\n",
       "      <td>2.00</td>\n",
       "      <td>1.00</td>\n",
       "      <td>1.00</td>\n",
       "      <td>149,388.25</td>\n",
       "      <td>0.00</td>\n",
       "    </tr>\n",
       "    <tr>\n",
       "      <th>max</th>\n",
       "      <td>10,000.00</td>\n",
       "      <td>15,815,690.00</td>\n",
       "      <td>850.00</td>\n",
       "      <td>92.00</td>\n",
       "      <td>10.00</td>\n",
       "      <td>250,898.09</td>\n",
       "      <td>4.00</td>\n",
       "      <td>1.00</td>\n",
       "      <td>1.00</td>\n",
       "      <td>199,992.48</td>\n",
       "      <td>1.00</td>\n",
       "    </tr>\n",
       "  </tbody>\n",
       "</table>\n",
       "</div>"
      ],
      "text/plain": [
       "       RowNumber    CustomerId  CreditScore       Age   Tenure    Balance  \\\n",
       "count  10,000.00     10,000.00    10,000.00 10,000.00 9,091.00  10,000.00   \n",
       "mean    5,000.50 15,690,940.57       650.53     38.92     5.00  76,485.89   \n",
       "std     2,886.90     71,936.19        96.65     10.49     2.89  62,397.41   \n",
       "min         1.00 15,565,701.00       350.00     18.00     0.00       0.00   \n",
       "25%     2,500.75 15,628,528.25       584.00     32.00     2.00       0.00   \n",
       "50%     5,000.50 15,690,738.00       652.00     37.00     5.00  97,198.54   \n",
       "75%     7,500.25 15,753,233.75       718.00     44.00     7.00 127,644.24   \n",
       "max    10,000.00 15,815,690.00       850.00     92.00    10.00 250,898.09   \n",
       "\n",
       "       NumOfProducts  HasCrCard  IsActiveMember  EstimatedSalary    Exited  \n",
       "count      10,000.00  10,000.00       10,000.00        10,000.00 10,000.00  \n",
       "mean            1.53       0.71            0.52       100,090.24      0.20  \n",
       "std             0.58       0.46            0.50        57,510.49      0.40  \n",
       "min             1.00       0.00            0.00            11.58      0.00  \n",
       "25%             1.00       0.00            0.00        51,002.11      0.00  \n",
       "50%             1.00       1.00            1.00       100,193.91      0.00  \n",
       "75%             2.00       1.00            1.00       149,388.25      0.00  \n",
       "max             4.00       1.00            1.00       199,992.48      1.00  "
      ]
     },
     "execution_count": 3,
     "metadata": {},
     "output_type": "execute_result"
    }
   ],
   "source": [
    "df = pd.read_csv('f:/yandex-practicum/datasets/Churn.csv')\n",
    "\n",
    "df.info() # просмотр размера таблицы, типов данных, количества non-null\n",
    "display(df.head()) # просмотр первых строк данных\n",
    "df.describe()\n"
   ]
  },
  {
   "cell_type": "markdown",
   "metadata": {},
   "source": [
    "Данные содержат 10 000 строк, есть пропуски в поле Tenure"
   ]
  },
  {
   "cell_type": "markdown",
   "metadata": {
    "id": "2RbwlDoa0Xwt"
   },
   "source": [
    "### 1.2 Подготовка данных\n",
    "План подготовки данных\n",
    "\n",
    "- Переименовать столбцы\n",
    "- Проверить наличие явных дубликатов, при необходимости обработать дубликаты \n",
    "- Преобразовать типы данных при необходимости\n",
    "- Обработать пропуски\n",
    "- Поиск выбросов, при необходимости обработка\n",
    "\n"
   ]
  },
  {
   "cell_type": "code",
   "execution_count": 4,
   "metadata": {
    "id": "Eryj6Simx6kL"
   },
   "outputs": [],
   "source": [
    "# Удаление столбца с номером строки\n",
    "df.drop('RowNumber',axis=1,inplace=True) "
   ]
  },
  {
   "cell_type": "code",
   "execution_count": 5,
   "metadata": {
    "colab": {
     "base_uri": "https://localhost:8080/"
    },
    "id": "boOBl2AWyl7r",
    "outputId": "43a4b7bd-e9b0-400b-aea4-4d14804967e4"
   },
   "outputs": [],
   "source": [
    "# Переименование названия столбцов в змеиный регистр\n",
    "df.set_axis(['customer_id', 'surname', 'credit_score', 'geography', 'gender', 'age',\n",
    "       'tenure', 'balance', 'num_of_products', 'has_cr_card', 'is_active_member',\n",
    "       'estimated_salary', 'exited'],axis = 'columns',inplace = True)"
   ]
  },
  {
   "cell_type": "code",
   "execution_count": 6,
   "metadata": {},
   "outputs": [
    {
     "name": "stdout",
     "output_type": "stream",
     "text": [
      "Явных дубликатов 0\n"
     ]
    }
   ],
   "source": [
    "# Поиск явных дубликатов\n",
    "print('Явных дубликатов', df.duplicated().sum())"
   ]
  },
  {
   "cell_type": "code",
   "execution_count": 7,
   "metadata": {
    "colab": {
     "base_uri": "https://localhost:8080/",
     "height": 1000
    },
    "id": "ceMQtYdNzwWy",
    "outputId": "cccf616a-ed7e-4a10-d64e-f20b064e8ca5"
   },
   "outputs": [
    {
     "data": {
      "image/png": "[encoded data removed]",
      "text/plain": [
       "<Figure size 1500x1500 with 12 Axes>"
      ]
     },
     "metadata": {},
     "output_type": "display_data"
    }
   ],
   "source": [
    "df.hist(figsize=(15,15));"
   ]
  },
  {
   "cell_type": "markdown",
   "metadata": {
    "id": "oTAnkRQjsMct"
   },
   "source": [
    "#### 1.2.1. Обработка пропусков в длительности обслуживания\n",
    "План обработки пропусков\n",
    "\n",
    "1. Преобразовать типы данных при необходимости\n",
    "2. Посмотреть уникальные значения длительностей обслуживания\n",
    "3. Посмотреть строки с пропущенными значениями \n",
    "4. Сравнить describe для строк с пропусками и без пропусков\n",
    "5. построить и проанализировать гистограммы для строк с пропусками и без пропусков\n",
    "6. Посмотреть доли категориальных значений в этих выборках"
   ]
  },
  {
   "cell_type": "markdown",
   "metadata": {
    "id": "_QJXZ8id4Gz8"
   },
   "source": [
    "В столбце tenure есть 909 пропусков"
   ]
  },
  {
   "cell_type": "code",
   "execution_count": 8,
   "metadata": {
    "colab": {
     "base_uri": "https://localhost:8080/"
    },
    "id": "B6LRWMA4x59v",
    "outputId": "4e4d9cc9-da4d-4d66-b398-da09fdb7cf12"
   },
   "outputs": [
    {
     "data": {
      "text/plain": [
       "<IntegerArray>\n",
       "[2, 1, 8, 7, 4, 6, 3, 10, 5, 9, 0, <NA>]\n",
       "Length: 12, dtype: Int32"
      ]
     },
     "execution_count": 8,
     "metadata": {},
     "output_type": "execute_result"
    }
   ],
   "source": [
    "# Изменение типа данных столбца 'tenure'\n",
    "df['tenure'] = df['tenure'].astype('Int32')\n",
    "df['tenure'].unique()"
   ]
  },
  {
   "cell_type": "code",
   "execution_count": 9,
   "metadata": {
    "colab": {
     "base_uri": "https://localhost:8080/",
     "height": 206
    },
    "id": "2wktf3Sv1oZM",
    "outputId": "c7b7cfad-6e89-4584-da9d-689850b3a4ed"
   },
   "outputs": [
    {
     "data": {
      "text/html": [
       "<div>\n",
       "<style scoped>\n",
       "    .dataframe tbody tr th:only-of-type {\n",
       "        vertical-align: middle;\n",
       "    }\n",
       "\n",
       "    .dataframe tbody tr th {\n",
       "        vertical-align: top;\n",
       "    }\n",
       "\n",
       "    .dataframe thead th {\n",
       "        text-align: right;\n",
       "    }\n",
       "</style>\n",
       "<table border=\"1\" class=\"dataframe\">\n",
       "  <thead>\n",
       "    <tr style=\"text-align: right;\">\n",
       "      <th></th>\n",
       "      <th>customer_id</th>\n",
       "      <th>surname</th>\n",
       "      <th>credit_score</th>\n",
       "      <th>geography</th>\n",
       "      <th>gender</th>\n",
       "      <th>age</th>\n",
       "      <th>tenure</th>\n",
       "      <th>balance</th>\n",
       "      <th>num_of_products</th>\n",
       "      <th>has_cr_card</th>\n",
       "      <th>is_active_member</th>\n",
       "      <th>estimated_salary</th>\n",
       "      <th>exited</th>\n",
       "    </tr>\n",
       "  </thead>\n",
       "  <tbody>\n",
       "    <tr>\n",
       "      <th>30</th>\n",
       "      <td>15589475</td>\n",
       "      <td>Azikiwe</td>\n",
       "      <td>591</td>\n",
       "      <td>Spain</td>\n",
       "      <td>Female</td>\n",
       "      <td>39</td>\n",
       "      <td>&lt;NA&gt;</td>\n",
       "      <td>0.00</td>\n",
       "      <td>3</td>\n",
       "      <td>1</td>\n",
       "      <td>0</td>\n",
       "      <td>140,469.38</td>\n",
       "      <td>1</td>\n",
       "    </tr>\n",
       "    <tr>\n",
       "      <th>48</th>\n",
       "      <td>15766205</td>\n",
       "      <td>Yin</td>\n",
       "      <td>550</td>\n",
       "      <td>Germany</td>\n",
       "      <td>Male</td>\n",
       "      <td>38</td>\n",
       "      <td>&lt;NA&gt;</td>\n",
       "      <td>103,391.38</td>\n",
       "      <td>1</td>\n",
       "      <td>0</td>\n",
       "      <td>1</td>\n",
       "      <td>90,878.13</td>\n",
       "      <td>0</td>\n",
       "    </tr>\n",
       "    <tr>\n",
       "      <th>51</th>\n",
       "      <td>15768193</td>\n",
       "      <td>Trevisani</td>\n",
       "      <td>585</td>\n",
       "      <td>Germany</td>\n",
       "      <td>Male</td>\n",
       "      <td>36</td>\n",
       "      <td>&lt;NA&gt;</td>\n",
       "      <td>146,050.97</td>\n",
       "      <td>2</td>\n",
       "      <td>0</td>\n",
       "      <td>0</td>\n",
       "      <td>86,424.57</td>\n",
       "      <td>0</td>\n",
       "    </tr>\n",
       "    <tr>\n",
       "      <th>53</th>\n",
       "      <td>15702298</td>\n",
       "      <td>Parkhill</td>\n",
       "      <td>655</td>\n",
       "      <td>Germany</td>\n",
       "      <td>Male</td>\n",
       "      <td>41</td>\n",
       "      <td>&lt;NA&gt;</td>\n",
       "      <td>125,561.97</td>\n",
       "      <td>1</td>\n",
       "      <td>0</td>\n",
       "      <td>0</td>\n",
       "      <td>164,040.94</td>\n",
       "      <td>1</td>\n",
       "    </tr>\n",
       "    <tr>\n",
       "      <th>60</th>\n",
       "      <td>15651280</td>\n",
       "      <td>Hunter</td>\n",
       "      <td>742</td>\n",
       "      <td>Germany</td>\n",
       "      <td>Male</td>\n",
       "      <td>35</td>\n",
       "      <td>&lt;NA&gt;</td>\n",
       "      <td>136,857.00</td>\n",
       "      <td>1</td>\n",
       "      <td>0</td>\n",
       "      <td>0</td>\n",
       "      <td>84,509.57</td>\n",
       "      <td>0</td>\n",
       "    </tr>\n",
       "  </tbody>\n",
       "</table>\n",
       "</div>"
      ],
      "text/plain": [
       "    customer_id    surname  credit_score geography  gender  age  tenure  \\\n",
       "30     15589475    Azikiwe           591     Spain  Female   39    <NA>   \n",
       "48     15766205        Yin           550   Germany    Male   38    <NA>   \n",
       "51     15768193  Trevisani           585   Germany    Male   36    <NA>   \n",
       "53     15702298   Parkhill           655   Germany    Male   41    <NA>   \n",
       "60     15651280     Hunter           742   Germany    Male   35    <NA>   \n",
       "\n",
       "      balance  num_of_products  has_cr_card  is_active_member  \\\n",
       "30       0.00                3            1                 0   \n",
       "48 103,391.38                1            0                 1   \n",
       "51 146,050.97                2            0                 0   \n",
       "53 125,561.97                1            0                 0   \n",
       "60 136,857.00                1            0                 0   \n",
       "\n",
       "    estimated_salary  exited  \n",
       "30        140,469.38       1  \n",
       "48         90,878.13       0  \n",
       "51         86,424.57       0  \n",
       "53        164,040.94       1  \n",
       "60         84,509.57       0  "
      ]
     },
     "execution_count": 9,
     "metadata": {},
     "output_type": "execute_result"
    }
   ],
   "source": [
    "df[df['tenure'].isna()].head()\n"
   ]
  },
  {
   "cell_type": "code",
   "execution_count": 10,
   "metadata": {
    "colab": {
     "base_uri": "https://localhost:8080/",
     "height": 583
    },
    "id": "OAd_7rc62eJ9",
    "outputId": "45f9bca3-c50f-4ad1-d41d-4581c9e88d82"
   },
   "outputs": [
    {
     "data": {
      "text/html": [
       "<div>\n",
       "<style scoped>\n",
       "    .dataframe tbody tr th:only-of-type {\n",
       "        vertical-align: middle;\n",
       "    }\n",
       "\n",
       "    .dataframe tbody tr th {\n",
       "        vertical-align: top;\n",
       "    }\n",
       "\n",
       "    .dataframe thead th {\n",
       "        text-align: right;\n",
       "    }\n",
       "</style>\n",
       "<table border=\"1\" class=\"dataframe\">\n",
       "  <thead>\n",
       "    <tr style=\"text-align: right;\">\n",
       "      <th></th>\n",
       "      <th>customer_id</th>\n",
       "      <th>credit_score</th>\n",
       "      <th>age</th>\n",
       "      <th>tenure</th>\n",
       "      <th>balance</th>\n",
       "      <th>num_of_products</th>\n",
       "      <th>has_cr_card</th>\n",
       "      <th>is_active_member</th>\n",
       "      <th>estimated_salary</th>\n",
       "      <th>exited</th>\n",
       "    </tr>\n",
       "  </thead>\n",
       "  <tbody>\n",
       "    <tr>\n",
       "      <th>count</th>\n",
       "      <td>909.00</td>\n",
       "      <td>909.00</td>\n",
       "      <td>909.00</td>\n",
       "      <td>0</td>\n",
       "      <td>909.00</td>\n",
       "      <td>909.00</td>\n",
       "      <td>909.00</td>\n",
       "      <td>909.00</td>\n",
       "      <td>909.00</td>\n",
       "      <td>909.00</td>\n",
       "    </tr>\n",
       "    <tr>\n",
       "      <th>mean</th>\n",
       "      <td>15,689,814.58</td>\n",
       "      <td>648.45</td>\n",
       "      <td>38.65</td>\n",
       "      <td>&lt;NA&gt;</td>\n",
       "      <td>76,117.34</td>\n",
       "      <td>1.53</td>\n",
       "      <td>0.71</td>\n",
       "      <td>0.51</td>\n",
       "      <td>99,180.39</td>\n",
       "      <td>0.20</td>\n",
       "    </tr>\n",
       "    <tr>\n",
       "      <th>std</th>\n",
       "      <td>75,112.25</td>\n",
       "      <td>99.08</td>\n",
       "      <td>9.79</td>\n",
       "      <td>&lt;NA&gt;</td>\n",
       "      <td>63,105.69</td>\n",
       "      <td>0.59</td>\n",
       "      <td>0.45</td>\n",
       "      <td>0.50</td>\n",
       "      <td>56,378.06</td>\n",
       "      <td>0.40</td>\n",
       "    </tr>\n",
       "    <tr>\n",
       "      <th>min</th>\n",
       "      <td>15,565,806.00</td>\n",
       "      <td>359.00</td>\n",
       "      <td>18.00</td>\n",
       "      <td>&lt;NA&gt;</td>\n",
       "      <td>0.00</td>\n",
       "      <td>1.00</td>\n",
       "      <td>0.00</td>\n",
       "      <td>0.00</td>\n",
       "      <td>106.67</td>\n",
       "      <td>0.00</td>\n",
       "    </tr>\n",
       "    <tr>\n",
       "      <th>25%</th>\n",
       "      <td>15,626,578.00</td>\n",
       "      <td>580.00</td>\n",
       "      <td>32.00</td>\n",
       "      <td>&lt;NA&gt;</td>\n",
       "      <td>0.00</td>\n",
       "      <td>1.00</td>\n",
       "      <td>0.00</td>\n",
       "      <td>0.00</td>\n",
       "      <td>49,872.33</td>\n",
       "      <td>0.00</td>\n",
       "    </tr>\n",
       "    <tr>\n",
       "      <th>50%</th>\n",
       "      <td>15,686,870.00</td>\n",
       "      <td>647.00</td>\n",
       "      <td>37.00</td>\n",
       "      <td>&lt;NA&gt;</td>\n",
       "      <td>96,674.55</td>\n",
       "      <td>1.00</td>\n",
       "      <td>1.00</td>\n",
       "      <td>1.00</td>\n",
       "      <td>99,444.02</td>\n",
       "      <td>0.00</td>\n",
       "    </tr>\n",
       "    <tr>\n",
       "      <th>75%</th>\n",
       "      <td>15,756,804.00</td>\n",
       "      <td>718.00</td>\n",
       "      <td>43.00</td>\n",
       "      <td>&lt;NA&gt;</td>\n",
       "      <td>128,554.98</td>\n",
       "      <td>2.00</td>\n",
       "      <td>1.00</td>\n",
       "      <td>1.00</td>\n",
       "      <td>145,759.70</td>\n",
       "      <td>0.00</td>\n",
       "    </tr>\n",
       "    <tr>\n",
       "      <th>max</th>\n",
       "      <td>15,815,690.00</td>\n",
       "      <td>850.00</td>\n",
       "      <td>92.00</td>\n",
       "      <td>&lt;NA&gt;</td>\n",
       "      <td>206,663.75</td>\n",
       "      <td>4.00</td>\n",
       "      <td>1.00</td>\n",
       "      <td>1.00</td>\n",
       "      <td>199,390.45</td>\n",
       "      <td>1.00</td>\n",
       "    </tr>\n",
       "  </tbody>\n",
       "</table>\n",
       "</div>"
      ],
      "text/plain": [
       "        customer_id  credit_score    age tenure    balance  num_of_products  \\\n",
       "count        909.00        909.00 909.00      0     909.00           909.00   \n",
       "mean  15,689,814.58        648.45  38.65   <NA>  76,117.34             1.53   \n",
       "std       75,112.25         99.08   9.79   <NA>  63,105.69             0.59   \n",
       "min   15,565,806.00        359.00  18.00   <NA>       0.00             1.00   \n",
       "25%   15,626,578.00        580.00  32.00   <NA>       0.00             1.00   \n",
       "50%   15,686,870.00        647.00  37.00   <NA>  96,674.55             1.00   \n",
       "75%   15,756,804.00        718.00  43.00   <NA> 128,554.98             2.00   \n",
       "max   15,815,690.00        850.00  92.00   <NA> 206,663.75             4.00   \n",
       "\n",
       "       has_cr_card  is_active_member  estimated_salary  exited  \n",
       "count       909.00            909.00            909.00  909.00  \n",
       "mean          0.71              0.51         99,180.39    0.20  \n",
       "std           0.45              0.50         56,378.06    0.40  \n",
       "min           0.00              0.00            106.67    0.00  \n",
       "25%           0.00              0.00         49,872.33    0.00  \n",
       "50%           1.00              1.00         99,444.02    0.00  \n",
       "75%           1.00              1.00        145,759.70    0.00  \n",
       "max           1.00              1.00        199,390.45    1.00  "
      ]
     },
     "metadata": {},
     "output_type": "display_data"
    },
    {
     "data": {
      "text/html": [
       "<div>\n",
       "<style scoped>\n",
       "    .dataframe tbody tr th:only-of-type {\n",
       "        vertical-align: middle;\n",
       "    }\n",
       "\n",
       "    .dataframe tbody tr th {\n",
       "        vertical-align: top;\n",
       "    }\n",
       "\n",
       "    .dataframe thead th {\n",
       "        text-align: right;\n",
       "    }\n",
       "</style>\n",
       "<table border=\"1\" class=\"dataframe\">\n",
       "  <thead>\n",
       "    <tr style=\"text-align: right;\">\n",
       "      <th></th>\n",
       "      <th>customer_id</th>\n",
       "      <th>credit_score</th>\n",
       "      <th>age</th>\n",
       "      <th>tenure</th>\n",
       "      <th>balance</th>\n",
       "      <th>num_of_products</th>\n",
       "      <th>has_cr_card</th>\n",
       "      <th>is_active_member</th>\n",
       "      <th>estimated_salary</th>\n",
       "      <th>exited</th>\n",
       "    </tr>\n",
       "  </thead>\n",
       "  <tbody>\n",
       "    <tr>\n",
       "      <th>count</th>\n",
       "      <td>9,091.00</td>\n",
       "      <td>9,091.00</td>\n",
       "      <td>9,091.00</td>\n",
       "      <td>9,091.00</td>\n",
       "      <td>9,091.00</td>\n",
       "      <td>9,091.00</td>\n",
       "      <td>9,091.00</td>\n",
       "      <td>9,091.00</td>\n",
       "      <td>9,091.00</td>\n",
       "      <td>9,091.00</td>\n",
       "    </tr>\n",
       "    <tr>\n",
       "      <th>mean</th>\n",
       "      <td>15,691,053.16</td>\n",
       "      <td>650.74</td>\n",
       "      <td>38.95</td>\n",
       "      <td>5.00</td>\n",
       "      <td>76,522.74</td>\n",
       "      <td>1.53</td>\n",
       "      <td>0.70</td>\n",
       "      <td>0.52</td>\n",
       "      <td>100,181.21</td>\n",
       "      <td>0.20</td>\n",
       "    </tr>\n",
       "    <tr>\n",
       "      <th>std</th>\n",
       "      <td>71,614.19</td>\n",
       "      <td>96.41</td>\n",
       "      <td>10.56</td>\n",
       "      <td>2.89</td>\n",
       "      <td>62,329.53</td>\n",
       "      <td>0.58</td>\n",
       "      <td>0.46</td>\n",
       "      <td>0.50</td>\n",
       "      <td>57,624.76</td>\n",
       "      <td>0.40</td>\n",
       "    </tr>\n",
       "    <tr>\n",
       "      <th>min</th>\n",
       "      <td>15,565,701.00</td>\n",
       "      <td>350.00</td>\n",
       "      <td>18.00</td>\n",
       "      <td>0.00</td>\n",
       "      <td>0.00</td>\n",
       "      <td>1.00</td>\n",
       "      <td>0.00</td>\n",
       "      <td>0.00</td>\n",
       "      <td>11.58</td>\n",
       "      <td>0.00</td>\n",
       "    </tr>\n",
       "    <tr>\n",
       "      <th>25%</th>\n",
       "      <td>15,628,985.50</td>\n",
       "      <td>584.00</td>\n",
       "      <td>32.00</td>\n",
       "      <td>2.00</td>\n",
       "      <td>0.00</td>\n",
       "      <td>1.00</td>\n",
       "      <td>0.00</td>\n",
       "      <td>0.00</td>\n",
       "      <td>51,227.74</td>\n",
       "      <td>0.00</td>\n",
       "    </tr>\n",
       "    <tr>\n",
       "      <th>50%</th>\n",
       "      <td>15,691,061.00</td>\n",
       "      <td>652.00</td>\n",
       "      <td>37.00</td>\n",
       "      <td>5.00</td>\n",
       "      <td>97,318.25</td>\n",
       "      <td>1.00</td>\n",
       "      <td>1.00</td>\n",
       "      <td>1.00</td>\n",
       "      <td>100,240.20</td>\n",
       "      <td>0.00</td>\n",
       "    </tr>\n",
       "    <tr>\n",
       "      <th>75%</th>\n",
       "      <td>15,752,851.50</td>\n",
       "      <td>717.00</td>\n",
       "      <td>44.00</td>\n",
       "      <td>7.00</td>\n",
       "      <td>127,561.89</td>\n",
       "      <td>2.00</td>\n",
       "      <td>1.00</td>\n",
       "      <td>1.00</td>\n",
       "      <td>149,567.21</td>\n",
       "      <td>0.00</td>\n",
       "    </tr>\n",
       "    <tr>\n",
       "      <th>max</th>\n",
       "      <td>15,815,660.00</td>\n",
       "      <td>850.00</td>\n",
       "      <td>92.00</td>\n",
       "      <td>10.00</td>\n",
       "      <td>250,898.09</td>\n",
       "      <td>4.00</td>\n",
       "      <td>1.00</td>\n",
       "      <td>1.00</td>\n",
       "      <td>199,992.48</td>\n",
       "      <td>1.00</td>\n",
       "    </tr>\n",
       "  </tbody>\n",
       "</table>\n",
       "</div>"
      ],
      "text/plain": [
       "        customer_id  credit_score      age   tenure    balance  \\\n",
       "count      9,091.00      9,091.00 9,091.00 9,091.00   9,091.00   \n",
       "mean  15,691,053.16        650.74    38.95     5.00  76,522.74   \n",
       "std       71,614.19         96.41    10.56     2.89  62,329.53   \n",
       "min   15,565,701.00        350.00    18.00     0.00       0.00   \n",
       "25%   15,628,985.50        584.00    32.00     2.00       0.00   \n",
       "50%   15,691,061.00        652.00    37.00     5.00  97,318.25   \n",
       "75%   15,752,851.50        717.00    44.00     7.00 127,561.89   \n",
       "max   15,815,660.00        850.00    92.00    10.00 250,898.09   \n",
       "\n",
       "       num_of_products  has_cr_card  is_active_member  estimated_salary  \\\n",
       "count         9,091.00     9,091.00          9,091.00          9,091.00   \n",
       "mean              1.53         0.70              0.52        100,181.21   \n",
       "std               0.58         0.46              0.50         57,624.76   \n",
       "min               1.00         0.00              0.00             11.58   \n",
       "25%               1.00         0.00              0.00         51,227.74   \n",
       "50%               1.00         1.00              1.00        100,240.20   \n",
       "75%               2.00         1.00              1.00        149,567.21   \n",
       "max               4.00         1.00              1.00        199,992.48   \n",
       "\n",
       "        exited  \n",
       "count 9,091.00  \n",
       "mean      0.20  \n",
       "std       0.40  \n",
       "min       0.00  \n",
       "25%       0.00  \n",
       "50%       0.00  \n",
       "75%       0.00  \n",
       "max       1.00  "
      ]
     },
     "execution_count": 10,
     "metadata": {},
     "output_type": "execute_result"
    }
   ],
   "source": [
    "display(df[df['tenure'].isna()].describe())\n",
    "df[~df['tenure'].isna()].describe()"
   ]
  },
  {
   "cell_type": "code",
   "execution_count": 11,
   "metadata": {
    "colab": {
     "base_uri": "https://localhost:8080/",
     "height": 1000
    },
    "id": "lrUdwSLyoW__",
    "outputId": "79b00d6d-44ee-47f4-ef0f-fa38b5fd7e2d"
   },
   "outputs": [
    {
     "data": {
      "image/png": "[encoded data removed]",
      "text/plain": [
       "<Figure size 1500x1500 with 12 Axes>"
      ]
     },
     "metadata": {},
     "output_type": "display_data"
    },
    {
     "data": {
      "image/png": "[encoded data removed]",
      "text/plain": [
       "<Figure size 1500x1500 with 12 Axes>"
      ]
     },
     "metadata": {},
     "output_type": "display_data"
    }
   ],
   "source": [
    "df[df['tenure'].isna()].hist(figsize=(15,15));\n",
    "df[~df['tenure'].isna()].hist(figsize=(15,15));"
   ]
  },
  {
   "cell_type": "code",
   "execution_count": 12,
   "metadata": {
    "colab": {
     "base_uri": "https://localhost:8080/",
     "height": 260
    },
    "id": "JfYcxfMH6QTG",
    "outputId": "4082a8cc-13f2-4cc1-8cea-28953cddfc2c"
   },
   "outputs": [
    {
     "data": {
      "text/plain": [
       "France    0.50\n",
       "Germany   0.25\n",
       "Spain     0.25\n",
       "Name: geography, dtype: float64"
      ]
     },
     "metadata": {},
     "output_type": "display_data"
    },
    {
     "data": {
      "text/plain": [
       "France    0.51\n",
       "Spain     0.25\n",
       "Germany   0.24\n",
       "Name: geography, dtype: float64"
      ]
     },
     "metadata": {},
     "output_type": "display_data"
    },
    {
     "data": {
      "text/plain": [
       "Male     0.55\n",
       "Female   0.45\n",
       "Name: gender, dtype: float64"
      ]
     },
     "metadata": {},
     "output_type": "display_data"
    },
    {
     "data": {
      "text/plain": [
       "Male     0.53\n",
       "Female   0.47\n",
       "Name: gender, dtype: float64"
      ]
     },
     "metadata": {},
     "output_type": "display_data"
    }
   ],
   "source": [
    "display(df[~df['tenure'].isna()]['geography'].value_counts(normalize=True))\n",
    "display(df[df['tenure'].isna()]['geography'].value_counts(normalize=True))\n",
    "display(df[~df['tenure'].isna()]['gender'].value_counts(normalize=True))\n",
    "display(df[df['tenure'].isna()]['gender'].value_counts(normalize=True))"
   ]
  },
  {
   "cell_type": "code",
   "execution_count": 13,
   "metadata": {
    "colab": {
     "base_uri": "https://localhost:8080/"
    },
    "id": "TULPP7Ec7miC",
    "outputId": "3275a99b-ac86-42d8-a0b9-10298b122a29"
   },
   "outputs": [
    {
     "data": {
      "text/plain": [
       "(10000,)"
      ]
     },
     "execution_count": 13,
     "metadata": {},
     "output_type": "execute_result"
    }
   ],
   "source": [
    "df_with_na=df[df['tenure'].isna()].copy() # сохраняю выборку с пропусками\n",
    "df['customer_id'].unique().shape #повторов нет"
   ]
  },
  {
   "cell_type": "code",
   "execution_count": 14,
   "metadata": {
    "colab": {
     "base_uri": "https://localhost:8080/"
    },
    "id": "N2V40Q5H1gWL",
    "outputId": "1fb704b4-9112-4983-df5d-73e329b2a3f6"
   },
   "outputs": [],
   "source": [
    "# удаление строк с пропусками\n",
    "df_with_na.fillna(value=df['tenure'].median(),inplace=True)  \n",
    "#df_with_na.fillna(value=0,inplace=True)\n",
    "#df.fillna(value=df['tenure'].median(),inplace=True)\n",
    "df = df.dropna() #inplace=True"
   ]
  },
  {
   "cell_type": "code",
   "execution_count": 15,
   "metadata": {
    "colab": {
     "base_uri": "https://localhost:8080/",
     "height": 566
    },
    "id": "5mEFR-3zdttc",
    "outputId": "b60eb3ac-aef0-42e5-bd20-b3d0e214ef80"
   },
   "outputs": [
    {
     "name": "stdout",
     "output_type": "stream",
     "text": [
      "customer_id        -0.01\n",
      "credit_score       -0.02\n",
      "age                 0.28\n",
      "tenure             -0.02\n",
      "balance             0.12\n",
      "num_of_products    -0.05\n",
      "has_cr_card        -0.01\n",
      "is_active_member   -0.16\n",
      "estimated_salary    0.02\n",
      "exited              1.00\n",
      "Name: exited, dtype: float64\n"
     ]
    },
    {
     "data": {
      "image/png": "[encoded data removed]",
      "text/plain": [
       "<Figure size 640x480 with 4 Axes>"
      ]
     },
     "metadata": {},
     "output_type": "display_data"
    }
   ],
   "source": [
    "print(df.corr().loc['exited'])\n",
    "pd.plotting.scatter_matrix(df[['tenure','exited']]);"
   ]
  },
  {
   "cell_type": "markdown",
   "metadata": {
    "id": "uDIkl5DP1Y8b"
   },
   "source": [
    "#### 1.2.2. Подготовка признаков для модели\n",
    "- удалить незначимые признаки ('customer_id','surname')\n",
    "- выполнить кодирование категориальных признаков\n",
    "- создать обучающую, валидационную и тестовую выборки\n",
    "- выполнить масштабирование численных признаков\n",
    "\n",
    "\n"
   ]
  },
  {
   "cell_type": "code",
   "execution_count": 16,
   "metadata": {
    "id": "lE4g0PfR5Jh-"
   },
   "outputs": [],
   "source": [
    "# Удаление незначимых признаков\n",
    "df.drop(['customer_id','surname'] , axis=1, inplace=True)\n",
    "#df.drop(['customer_id','surname','tenure','credit_score','num_of_products', 'has_cr_card','estimated_salary'] , axis=1, inplace=True) #,'tenure'"
   ]
  },
  {
   "cell_type": "code",
   "execution_count": 17,
   "metadata": {
    "colab": {
     "base_uri": "https://localhost:8080/"
    },
    "id": "k4DUQBZu4las",
    "outputId": "8f3b9492-fa72-42d8-e8d1-44956e04f4cc"
   },
   "outputs": [
    {
     "data": {
      "text/plain": [
       "Index(['credit_score', 'age', 'tenure', 'balance', 'num_of_products',\n",
       "       'has_cr_card', 'is_active_member', 'estimated_salary', 'exited',\n",
       "       'geography_Germany', 'geography_Spain', 'gender_Male'],\n",
       "      dtype='object')"
      ]
     },
     "execution_count": 17,
     "metadata": {},
     "output_type": "execute_result"
    }
   ],
   "source": [
    "#Кодирование категориальных признаков методом OHE\n",
    "df_ohe = pd.get_dummies(df,drop_first=True)\n",
    "df_ohe.columns"
   ]
  },
  {
   "cell_type": "code",
   "execution_count": 18,
   "metadata": {
    "id": "a3EpbBUA12DI"
   },
   "outputs": [],
   "source": [
    "# создание обучающей, валидационной и тестовой выборки в пропорции 3:1:1\n",
    "target = df_ohe['exited']\n",
    "features = df_ohe.drop(['exited'] , axis=1)\n",
    "\n",
    "features_train_valid, features_test, target_train_valid, target_test = train_test_split(\n",
    "    features, target, test_size=0.20, random_state=12345)\n",
    "\n",
    "features_train, features_valid, target_train, target_valid = train_test_split(\n",
    "    features_train_valid, target_train_valid, test_size=0.25, random_state=12345)"
   ]
  },
  {
   "cell_type": "code",
   "execution_count": 19,
   "metadata": {},
   "outputs": [
    {
     "name": "stdout",
     "output_type": "stream",
     "text": [
      "Размеры выборок: (5454, 11) (1818, 11) (1819, 11)\n"
     ]
    }
   ],
   "source": [
    "print('Размеры выборок:', features_train.shape, features_valid.shape, features_test.shape)"
   ]
  },
  {
   "cell_type": "code",
   "execution_count": 20,
   "metadata": {
    "id": "5z1SJJrY6wjp"
   },
   "outputs": [],
   "source": [
    "# масштабирование численных признаков\n",
    "numeric = ['credit_score', 'age', 'balance', 'num_of_products', 'estimated_salary', 'tenure'] # все численные\n",
    "#numeric = ['age', 'balance'] # заметно коррелирующие\n",
    "scaler = StandardScaler()\n",
    "scaler.fit(features_train[numeric])\n",
    "features_train[numeric] = scaler.transform(features_train[numeric])\n",
    "features_valid[numeric] = scaler.transform(features_valid[numeric])\n",
    "features_test[numeric] = scaler.transform(features_test[numeric])\n",
    "\n"
   ]
  },
  {
   "cell_type": "markdown",
   "metadata": {
    "id": "6uupM_nqukup"
   },
   "source": [
    "## Вывод \n",
    "Данные загружены.\n",
    "\n",
    "Выполнено переименование названий столбцов в змеиный регистр\n",
    "\n",
    "Выполнен поиск явных дубликатов - явных дубликатов нет\n",
    "\n",
    "Вывод по обработке пропусков в длительностях обслуживания (tenure)\n",
    "1. Преобразован тип данных к целочисленному\n",
    "2. в столбце имеются уникальные значения длительностей от 0 до 10 лет, а также 909 занчений NA \n",
    "3. В результате просмотра строк с пропущенными значениями возможные причины пропусков не выявлены, пропуски присутсвуют для записей различных клиентов из разных стран, разного пола и т.д.\n",
    "4. В результате сравния describe для строк с пропусками и без пропусков установлено, что минимальные, средние, максимальные, std в этих выборках слабо отличаются. \n",
    "5. В результате анализа гистограмм для строк с пропусками и без пропусков, не выявлено значительных отличий в распределениях численных признаков.\n",
    "6. Доли категориальных значений в этих выборках также примерно равны. \n",
    "\n",
    "В результате анализа выборок с пропусками и без пропусков в длительности обслуживания, делается предположение о том, что в выборке с пропусками такие же распределения признаков и целевого признака. В связи с этим удаление строк с пропусками не приведет к искажению распределений оставшейся выборки по сравнению с исходной. Произведено удаление строк с пропусками\n",
    "\n",
    "В результате анализа гистограмм выявлено, что число клиентов по длительности обслуживания распределено равномерно, кроме нулевого года и 10 года, просадка в нулевом году может быть вызвана, например, выгрузкой базы в середене года. Выброс за 10 год может быть ошибкой.\n",
    "\n",
    "\n",
    "Вывод по подготовке признаков\n",
    "- удалены незначимые признаки ('customer_id','surname')\n",
    "- закодированы категориальные признаки\n",
    "- созданы обучающая, валидационная и тестовая выборки (3:1:1)\n",
    "- выполнено масштабирование численных признаков"
   ]
  },
  {
   "cell_type": "markdown",
   "metadata": {
    "id": "y_HCiaskEDq-"
   },
   "source": [
    "## Шаг 2. Обучение моделей, исследование баланса классов \n",
    " \n",
    "Исследовать баланс классов\n",
    "Обучить модель без учёта дисбаланса"
   ]
  },
  {
   "cell_type": "code",
   "execution_count": 21,
   "metadata": {
    "colab": {
     "base_uri": "https://localhost:8080/",
     "height": 473
    },
    "id": "KBblasbwBlw_",
    "outputId": "e9c5b479-ca1c-4780-c61c-4e09cdf4c026"
   },
   "outputs": [
    {
     "name": "stdout",
     "output_type": "stream",
     "text": [
      "\n",
      " Решающее дерево\n",
      "Матрица ошибок:\n",
      " [[1260  192]\n",
      " [ 183  183]]\n",
      "\n",
      " Случайный лес\n",
      "Матрица ошибок:\n",
      " [[1397   55]\n",
      " [ 206  160]]\n",
      "\n",
      " Логистическая регрессия\n",
      "Матрица ошибок:\n",
      " [[1405   47]\n",
      " [ 293   73]]\n"
     ]
    },
    {
     "data": {
      "text/html": [
       "<div>\n",
       "<style scoped>\n",
       "    .dataframe tbody tr th:only-of-type {\n",
       "        vertical-align: middle;\n",
       "    }\n",
       "\n",
       "    .dataframe tbody tr th {\n",
       "        vertical-align: top;\n",
       "    }\n",
       "\n",
       "    .dataframe thead th {\n",
       "        text-align: right;\n",
       "    }\n",
       "</style>\n",
       "<table border=\"1\" class=\"dataframe\">\n",
       "  <thead>\n",
       "    <tr style=\"text-align: right;\">\n",
       "      <th></th>\n",
       "      <th>Модель</th>\n",
       "      <th>Accuracy</th>\n",
       "      <th>Полнота</th>\n",
       "      <th>Точность</th>\n",
       "      <th>F1</th>\n",
       "      <th>AUC-ROC</th>\n",
       "    </tr>\n",
       "  </thead>\n",
       "  <tbody>\n",
       "    <tr>\n",
       "      <th>0</th>\n",
       "      <td>Решающее дерево</td>\n",
       "      <td>0.79</td>\n",
       "      <td>0.50</td>\n",
       "      <td>0.49</td>\n",
       "      <td>0.49</td>\n",
       "      <td>0.68</td>\n",
       "    </tr>\n",
       "    <tr>\n",
       "      <th>1</th>\n",
       "      <td>Случайный лес</td>\n",
       "      <td>0.86</td>\n",
       "      <td>0.44</td>\n",
       "      <td>0.74</td>\n",
       "      <td>0.55</td>\n",
       "      <td>0.83</td>\n",
       "    </tr>\n",
       "    <tr>\n",
       "      <th>2</th>\n",
       "      <td>Логистическая регрессия</td>\n",
       "      <td>0.81</td>\n",
       "      <td>0.20</td>\n",
       "      <td>0.61</td>\n",
       "      <td>0.30</td>\n",
       "      <td>0.77</td>\n",
       "    </tr>\n",
       "  </tbody>\n",
       "</table>\n",
       "</div>"
      ],
      "text/plain": [
       "                    Модель  Accuracy  Полнота  Точность   F1  AUC-ROC\n",
       "0          Решающее дерево      0.79     0.50      0.49 0.49     0.68\n",
       "1            Случайный лес      0.86     0.44      0.74 0.55     0.83\n",
       "2  Логистическая регрессия      0.81     0.20      0.61 0.30     0.77"
      ]
     },
     "metadata": {},
     "output_type": "display_data"
    },
    {
     "data": {
      "text/plain": [
       "'Доли классов'"
      ]
     },
     "metadata": {},
     "output_type": "display_data"
    },
    {
     "data": {
      "text/plain": [
       "0   0.79\n",
       "1   0.21\n",
       "Name: exited, dtype: float64"
      ]
     },
     "metadata": {},
     "output_type": "display_data"
    },
    {
     "name": "stdout",
     "output_type": "stream",
     "text": [
      "Accuracy константной модели: 0.80\n"
     ]
    }
   ],
   "source": [
    "metrics = []\n",
    "for i,j in zip([DecisionTreeClassifier,RandomForestClassifier,LogisticRegression],['Решающее дерево','Случайный лес','Логистическая регрессия']):\n",
    "    model = i(random_state=12345)\n",
    "    model.fit(features_train, target_train)\n",
    "    predicted_valid = model.predict(features_valid)\n",
    "    print('\\n',j)\n",
    "    print(f\"Матрица ошибок:\\n {confusion_matrix(target_valid,predicted_valid)}\")\n",
    "    metrics += [[j, accuracy_score(target_valid, predicted_valid), recall_score(target_valid,predicted_valid), \n",
    "       precision_score(target_valid,predicted_valid), f1_score(target_valid,predicted_valid),\n",
    "       roc_auc_score(target_valid, model.predict_proba(features_valid)[:,1])]]\n",
    "display(pd.DataFrame(metrics,columns =['Модель','Accuracy','Полнота','Точность','F1','AUC-ROC']))\n",
    "display('Доли классов', target_train.value_counts(normalize=True))\n",
    "print(f\"Accuracy константной модели: {accuracy_score(target_valid, pd.Series(0,features_valid.index)):.2f}\")\n"
   ]
  },
  {
   "cell_type": "markdown",
   "metadata": {
    "id": "B2yaxyXyEDrG"
   },
   "source": [
    "### Вывод\n",
    "Доли классов 0 - 0.79, 1 - 0.21\n",
    "Для моделей Решающее дерево, Случайный лес, Логистическая регрессия accuracy равен соотвественно 0.79, 0.86, 0.81. Для константной модели, всегда выдающей результат 0, accuracy = 0.80.\n",
    "\n",
    "Таким образом, качество (accuracy) моделей сопоставимо с константной моделью. Это обусловлено сильным дисбалансом классов целевого признака, соотношение классов 4:1. \n",
    "\n",
    "Согласно матрице ошибок доля TP/P (полнота) для данных моделей не превосходит 0.5, при этом точность достигает примерно 3/4 \n",
    "Метрика F1: 0.49, 0.55, 0.30\n",
    "\n",
    "AUC-ROC метрика: 0.68, 0.83, 0.77"
   ]
  },
  {
   "cell_type": "markdown",
   "metadata": {
    "id": "1lZbT_DsIkUY"
   },
   "source": [
    "## Шаг 3. Учет дисбаланса, улучшение моделей\n",
    "Улучшить качество модели, учитывая дисбаланс классов. \n",
    "\n",
    "Обучить разные модели и найти лучшую.\n",
    "\n",
    "Для учета дисбаланса используются три медота: Взвешивание, Upsampling, downsampling."
   ]
  },
  {
   "cell_type": "markdown",
   "metadata": {
    "id": "D--iHRvmY-zC"
   },
   "source": [
    "#### 3.1. Метод взвешивания\n"
   ]
  },
  {
   "cell_type": "code",
   "execution_count": 22,
   "metadata": {
    "colab": {
     "base_uri": "https://localhost:8080/",
     "height": 421
    },
    "id": "0b2RRGdYPpik",
    "outputId": "a06c32bc-2f33-41e7-f8fc-335a2c2f8bd0"
   },
   "outputs": [
    {
     "name": "stdout",
     "output_type": "stream",
     "text": [
      "Accuracy константной модели: 0.80\n",
      "\n",
      " Решающее дерево\n",
      "Матрица ошибок:\n",
      " [[1262  190]\n",
      " [ 188  178]]\n",
      "\n",
      " Случайный лес\n",
      "Матрица ошибок:\n",
      " [[1405   47]\n",
      " [ 217  149]]\n",
      "\n",
      " Логистическая регрессия\n",
      "Матрица ошибок:\n",
      " [[1055  397]\n",
      " [ 115  251]]\n"
     ]
    },
    {
     "data": {
      "text/html": [
       "<div>\n",
       "<style scoped>\n",
       "    .dataframe tbody tr th:only-of-type {\n",
       "        vertical-align: middle;\n",
       "    }\n",
       "\n",
       "    .dataframe tbody tr th {\n",
       "        vertical-align: top;\n",
       "    }\n",
       "\n",
       "    .dataframe thead th {\n",
       "        text-align: right;\n",
       "    }\n",
       "</style>\n",
       "<table border=\"1\" class=\"dataframe\">\n",
       "  <thead>\n",
       "    <tr style=\"text-align: right;\">\n",
       "      <th></th>\n",
       "      <th>Модель</th>\n",
       "      <th>Accuracy</th>\n",
       "      <th>Полнота</th>\n",
       "      <th>Точность</th>\n",
       "      <th>F1</th>\n",
       "      <th>AUC-ROC</th>\n",
       "    </tr>\n",
       "  </thead>\n",
       "  <tbody>\n",
       "    <tr>\n",
       "      <th>0</th>\n",
       "      <td>Решающее дерево</td>\n",
       "      <td>0.79</td>\n",
       "      <td>0.49</td>\n",
       "      <td>0.48</td>\n",
       "      <td>0.49</td>\n",
       "      <td>0.68</td>\n",
       "    </tr>\n",
       "    <tr>\n",
       "      <th>1</th>\n",
       "      <td>Случайный лес</td>\n",
       "      <td>0.85</td>\n",
       "      <td>0.41</td>\n",
       "      <td>0.76</td>\n",
       "      <td>0.53</td>\n",
       "      <td>0.83</td>\n",
       "    </tr>\n",
       "    <tr>\n",
       "      <th>2</th>\n",
       "      <td>Логистическая регрессия</td>\n",
       "      <td>0.72</td>\n",
       "      <td>0.69</td>\n",
       "      <td>0.39</td>\n",
       "      <td>0.50</td>\n",
       "      <td>0.77</td>\n",
       "    </tr>\n",
       "  </tbody>\n",
       "</table>\n",
       "</div>"
      ],
      "text/plain": [
       "                    Модель  Accuracy  Полнота  Точность   F1  AUC-ROC\n",
       "0          Решающее дерево      0.79     0.49      0.48 0.49     0.68\n",
       "1            Случайный лес      0.85     0.41      0.76 0.53     0.83\n",
       "2  Логистическая регрессия      0.72     0.69      0.39 0.50     0.77"
      ]
     },
     "execution_count": 22,
     "metadata": {},
     "output_type": "execute_result"
    }
   ],
   "source": [
    "# Метод взвешивания\n",
    "metrics = []\n",
    "print(f\"Accuracy константной модели: {accuracy_score(target_valid, pd.Series(0,features_valid.index)):.2f}\")\n",
    "for i,j in zip([DecisionTreeClassifier,RandomForestClassifier,LogisticRegression],['Решающее дерево','Случайный лес','Логистическая регрессия']):\n",
    "    model = i(random_state=12345,class_weight='balanced')\n",
    "    model.fit(features_train, target_train)\n",
    "    predicted_valid = model.predict(features_valid)\n",
    "    print('\\n',j)\n",
    "    print(f\"Матрица ошибок:\\n {confusion_matrix(target_valid,predicted_valid)}\")\n",
    "    metrics += [[j, accuracy_score(target_valid, predicted_valid), recall_score(target_valid,predicted_valid), \n",
    "        precision_score(target_valid,predicted_valid), f1_score(target_valid,predicted_valid),\n",
    "        roc_auc_score(target_valid, model.predict_proba(features_valid)[:,1])]]\n",
    "\n",
    "pd.DataFrame(metrics,columns =['Модель','Accuracy','Полнота','Точность','F1','AUC-ROC'],index=None)"
   ]
  },
  {
   "cell_type": "markdown",
   "metadata": {
    "id": "7mt0whYqQNG9"
   },
   "source": [
    "**При использовании взвешивания** f1-метрика с 0.49, 0.55, 0.30 изменилась до 0.49, 0.53, 0.50. Т.е. метрика для решающего дерева не изменилась, для случайного леса сократилась на 0.02, для логистической регрессии сильно увеличилась на 0.2.\n",
    "\n",
    "AUC-ROC метрика не изменилась: было 0.68, 0.83, 0.77, стало 0.68, 0.83, 0.77 "
   ]
  },
  {
   "cell_type": "markdown",
   "metadata": {
    "id": "-nqbdruZZHcR"
   },
   "source": [
    "#### 3.2. Метод downsampling\n"
   ]
  },
  {
   "cell_type": "code",
   "execution_count": 23,
   "metadata": {
    "id": "Ifu1FGxVXy-K"
   },
   "outputs": [],
   "source": [
    "def downsample(features, target, fraction):\n",
    "    features_zeros = features[target == 0]\n",
    "    features_ones = features[target == 1]\n",
    "    target_zeros = target[target == 0]\n",
    "    target_ones = target[target == 1]\n",
    "\n",
    "    features_downsampled = pd.concat([features_zeros.sample(frac=fraction, random_state=12345)]+[features_ones])\n",
    "    target_downsampled = pd.concat([target_zeros.sample(frac=fraction, random_state=12345)]+[target_ones])\n",
    "    features_downsampled, target_downsampled=shuffle(features_downsampled, target_downsampled,random_state=12345)\n",
    "    return features_downsampled, target_downsampled"
   ]
  },
  {
   "cell_type": "code",
   "execution_count": 24,
   "metadata": {
    "colab": {
     "base_uri": "https://localhost:8080/",
     "height": 421
    },
    "id": "HkTsW97jRQqj",
    "outputId": "0d2f0965-3272-40e8-ce1d-0e8d00021ed1"
   },
   "outputs": [
    {
     "name": "stdout",
     "output_type": "stream",
     "text": [
      "(2203, 11) (2203,)\n",
      "\n",
      " Решающее дерево\n",
      "Матрица ошибок:\n",
      " [[1001  451]\n",
      " [ 113  253]]\n",
      "\n",
      " Случайный лес\n",
      "Матрица ошибок:\n",
      " [[1147  305]\n",
      " [ 104  262]]\n",
      "\n",
      " Логистическая регрессия\n",
      "Матрица ошибок:\n",
      " [[1053  399]\n",
      " [ 111  255]]\n"
     ]
    },
    {
     "data": {
      "text/html": [
       "<div>\n",
       "<style scoped>\n",
       "    .dataframe tbody tr th:only-of-type {\n",
       "        vertical-align: middle;\n",
       "    }\n",
       "\n",
       "    .dataframe tbody tr th {\n",
       "        vertical-align: top;\n",
       "    }\n",
       "\n",
       "    .dataframe thead th {\n",
       "        text-align: right;\n",
       "    }\n",
       "</style>\n",
       "<table border=\"1\" class=\"dataframe\">\n",
       "  <thead>\n",
       "    <tr style=\"text-align: right;\">\n",
       "      <th></th>\n",
       "      <th>Модель</th>\n",
       "      <th>Accuracy</th>\n",
       "      <th>Полнота</th>\n",
       "      <th>Точность</th>\n",
       "      <th>F1</th>\n",
       "      <th>AUC-ROC</th>\n",
       "    </tr>\n",
       "  </thead>\n",
       "  <tbody>\n",
       "    <tr>\n",
       "      <th>0</th>\n",
       "      <td>Решающее дерево</td>\n",
       "      <td>0.69</td>\n",
       "      <td>0.69</td>\n",
       "      <td>0.36</td>\n",
       "      <td>0.47</td>\n",
       "      <td>0.69</td>\n",
       "    </tr>\n",
       "    <tr>\n",
       "      <th>1</th>\n",
       "      <td>Случайный лес</td>\n",
       "      <td>0.78</td>\n",
       "      <td>0.72</td>\n",
       "      <td>0.46</td>\n",
       "      <td>0.56</td>\n",
       "      <td>0.84</td>\n",
       "    </tr>\n",
       "    <tr>\n",
       "      <th>2</th>\n",
       "      <td>Логистическая регрессия</td>\n",
       "      <td>0.72</td>\n",
       "      <td>0.70</td>\n",
       "      <td>0.39</td>\n",
       "      <td>0.50</td>\n",
       "      <td>0.78</td>\n",
       "    </tr>\n",
       "  </tbody>\n",
       "</table>\n",
       "</div>"
      ],
      "text/plain": [
       "                    Модель  Accuracy  Полнота  Точность   F1  AUC-ROC\n",
       "0          Решающее дерево      0.69     0.69      0.36 0.47     0.69\n",
       "1            Случайный лес      0.78     0.72      0.46 0.56     0.84\n",
       "2  Логистическая регрессия      0.72     0.70      0.39 0.50     0.78"
      ]
     },
     "execution_count": 24,
     "metadata": {},
     "output_type": "execute_result"
    }
   ],
   "source": [
    "# Метод downsampling \n",
    "metrics=[]\n",
    "features_train_downsapled, target_train_downsapled = downsample(features_train, target_train,0.25)\n",
    "print(features_train_downsapled.shape, target_train_downsapled.shape)\n",
    "for i,j in zip([DecisionTreeClassifier,RandomForestClassifier,LogisticRegression],['Решающее дерево','Случайный лес','Логистическая регрессия']):\n",
    "    model = i(random_state=12345)\n",
    "    model.fit(features_train_downsapled, target_train_downsapled)\n",
    "    predicted_valid = model.predict(features_valid)\n",
    "    print('\\n',j)\n",
    "    print(f\"Матрица ошибок:\\n {confusion_matrix(target_valid,predicted_valid)}\")\n",
    "    metrics += [[j, accuracy_score(target_valid, predicted_valid), recall_score(target_valid,predicted_valid), \n",
    "        precision_score(target_valid,predicted_valid), f1_score(target_valid,predicted_valid),\n",
    "        roc_auc_score(target_valid, model.predict_proba(features_valid)[:,1])]]\n",
    "\n",
    "pd.DataFrame(metrics,columns =['Модель','Accuracy','Полнота','Точность','F1','AUC-ROC'],index=None,)"
   ]
  },
  {
   "cell_type": "markdown",
   "metadata": {
    "id": "GzVlyPxojgPo"
   },
   "source": [
    "**При использовании downsampling** f1-метрика с 0.49, 0.55, 0.30 изменилась до 0.47, 0.56, 0.50. Т.е. метрика для решающего дерева сократилась на 0.02 , для случайного леса не изменилась, для логистической регрессии сильно увеличилась на 0.2.\n",
    "\n",
    "AUC-ROC метрика увеличилась на 0.01: было 0.68, 0.83, 0.77, стало 0.69, 0.84, 0.78 "
   ]
  },
  {
   "cell_type": "markdown",
   "metadata": {
    "id": "CAX_Hl41ZOg4"
   },
   "source": [
    "#### 3.3. Метод upsampling"
   ]
  },
  {
   "cell_type": "code",
   "execution_count": 25,
   "metadata": {
    "id": "5x1EmapPZfgy"
   },
   "outputs": [],
   "source": [
    "def upsample(features, target, repeat):\n",
    "    features_zeros = features[target == 0]\n",
    "    features_ones = features[target == 1]\n",
    "    target_zeros = target[target == 0]\n",
    "    target_ones = target[target == 1]\n",
    "\n",
    "    features_upsampled = pd.concat([features_zeros]+[features_ones]*repeat)\n",
    "    target_upsampled = pd.concat([target_zeros]+[target_ones]*repeat)\n",
    "    features_upsampled, target_upsampled=shuffle(features_upsampled, target_upsampled,random_state=12345)\n",
    "    return features_upsampled, target_upsampled"
   ]
  },
  {
   "cell_type": "code",
   "execution_count": 26,
   "metadata": {
    "colab": {
     "base_uri": "https://localhost:8080/",
     "height": 421
    },
    "id": "uEh0pr6OLFI5",
    "outputId": "1ac15ffd-3d4a-4641-d92c-4b12760c4aa0"
   },
   "outputs": [
    {
     "name": "stdout",
     "output_type": "stream",
     "text": [
      "(8811, 11) (8811,)\n",
      "\n",
      " Решающее дерево\n",
      "Матрица ошибок:\n",
      " [[1265  187]\n",
      " [ 185  181]]\n",
      "\n",
      " Случайный лес\n",
      "Матрица ошибок:\n",
      " [[1362   90]\n",
      " [ 176  190]]\n",
      "\n",
      " Логистическая регрессия\n",
      "Матрица ошибок:\n",
      " [[1038  414]\n",
      " [ 109  257]]\n"
     ]
    },
    {
     "data": {
      "text/html": [
       "<div>\n",
       "<style scoped>\n",
       "    .dataframe tbody tr th:only-of-type {\n",
       "        vertical-align: middle;\n",
       "    }\n",
       "\n",
       "    .dataframe tbody tr th {\n",
       "        vertical-align: top;\n",
       "    }\n",
       "\n",
       "    .dataframe thead th {\n",
       "        text-align: right;\n",
       "    }\n",
       "</style>\n",
       "<table border=\"1\" class=\"dataframe\">\n",
       "  <thead>\n",
       "    <tr style=\"text-align: right;\">\n",
       "      <th></th>\n",
       "      <th>Модель</th>\n",
       "      <th>Accuracy</th>\n",
       "      <th>Полнота</th>\n",
       "      <th>Точность</th>\n",
       "      <th>F1</th>\n",
       "      <th>AUC-ROC</th>\n",
       "    </tr>\n",
       "  </thead>\n",
       "  <tbody>\n",
       "    <tr>\n",
       "      <th>0</th>\n",
       "      <td>Решающее дерево</td>\n",
       "      <td>0.80</td>\n",
       "      <td>0.49</td>\n",
       "      <td>0.49</td>\n",
       "      <td>0.49</td>\n",
       "      <td>0.68</td>\n",
       "    </tr>\n",
       "    <tr>\n",
       "      <th>1</th>\n",
       "      <td>Случайный лес</td>\n",
       "      <td>0.85</td>\n",
       "      <td>0.52</td>\n",
       "      <td>0.68</td>\n",
       "      <td>0.59</td>\n",
       "      <td>0.83</td>\n",
       "    </tr>\n",
       "    <tr>\n",
       "      <th>2</th>\n",
       "      <td>Логистическая регрессия</td>\n",
       "      <td>0.71</td>\n",
       "      <td>0.70</td>\n",
       "      <td>0.38</td>\n",
       "      <td>0.50</td>\n",
       "      <td>0.77</td>\n",
       "    </tr>\n",
       "  </tbody>\n",
       "</table>\n",
       "</div>"
      ],
      "text/plain": [
       "                    Модель  Accuracy  Полнота  Точность   F1  AUC-ROC\n",
       "0          Решающее дерево      0.80     0.49      0.49 0.49     0.68\n",
       "1            Случайный лес      0.85     0.52      0.68 0.59     0.83\n",
       "2  Логистическая регрессия      0.71     0.70      0.38 0.50     0.77"
      ]
     },
     "execution_count": 26,
     "metadata": {},
     "output_type": "execute_result"
    }
   ],
   "source": [
    "# Метод upsampling \n",
    "metrics=[]\n",
    "features_train_upsampled, target_train_upsampled = upsample(features_train, target_train, 4)\n",
    "print(features_train_upsampled.shape,target_train_upsampled.shape)\n",
    "for i,j in zip([DecisionTreeClassifier,RandomForestClassifier,LogisticRegression],['Решающее дерево','Случайный лес','Логистическая регрессия']):\n",
    "    model = i(random_state=12345)\n",
    "    model.fit(features_train_upsampled, target_train_upsampled)\n",
    "    predicted_valid = model.predict(features_valid)\n",
    "    print('\\n',j)\n",
    "    print(f\"Матрица ошибок:\\n {confusion_matrix(target_valid,predicted_valid)}\")\n",
    "    metrics += [[j, accuracy_score(target_valid, predicted_valid), recall_score(target_valid,predicted_valid), \n",
    "        precision_score(target_valid,predicted_valid), f1_score(target_valid,predicted_valid),\n",
    "        roc_auc_score(target_valid, model.predict_proba(features_valid)[:,1])]]\n",
    "\n",
    "pd.DataFrame(metrics,columns =['Модель','Accuracy','Полнота','Точность','F1','AUC-ROC'],index=None)"
   ]
  },
  {
   "cell_type": "markdown",
   "metadata": {
    "id": "YTSsnBvFj2NE"
   },
   "source": [
    "**При использовании upsampling** f1-метрика с 0.49, 0.55, 0.30 изменилась до 0.49, 0.59, 0.50. Т.е. метрика для решающего дерева не изменилась, для случайного леса увеличилась на 0.04, для логистической регрессии сильно увеличилась на 0.2.\n",
    "\n",
    "AUC-ROC метрика не изменилась: было 0.68, 0.83, 0.77, стало 0.68, 0.83, 0.77 "
   ]
  },
  {
   "cell_type": "markdown",
   "metadata": {
    "id": "ZG71jZmXkWBb"
   },
   "source": [
    "#### 3.4. Улучшение модели, подбор гиперпараметров\n",
    "Лучшие метрики получены для модели Случайного леса при использовании upsampling. Необходимо для этой модели подобрать гиперпараметры оптимизирующие ее метрики"
   ]
  },
  {
   "cell_type": "code",
   "execution_count": 27,
   "metadata": {
    "colab": {
     "base_uri": "https://localhost:8080/"
    },
    "id": "ZuWA0pqSjuHy",
    "outputId": "ca148224-5eeb-46b7-c0d2-bb0d96041069"
   },
   "outputs": [
    {
     "name": "stdout",
     "output_type": "stream",
     "text": [
      "acc 0.82123, roc 0.85279, f1 0.62341 depth 9 gini est 20 min_smpl 38\n",
      "CPU times: total: 1min 13s\n",
      "Wall time: 1min 13s\n"
     ]
    }
   ],
   "source": [
    "%%time\n",
    "# Случайный лес\n",
    "best_accuracy = 0\n",
    "best_roc_auc = 0\n",
    "best_f1 = 0\n",
    "best_criterion = ''\n",
    "best_min_samples_split = 0\n",
    "for depth in range (8,12):\n",
    "    #print(depth)\n",
    "    for criter in ['gini', 'entropy']:\n",
    "        for n_estimator in range(19,27):\n",
    "              for min_samples_split_i in range(37,46):\n",
    "                    model = RandomForestClassifier(random_state=12345, n_estimators=n_estimator,\n",
    "                        max_depth=depth, criterion=criter,\n",
    "                        min_samples_split=min_samples_split_i)\n",
    "                    model.fit(features_train_upsampled, target_train_upsampled)\n",
    "                    predicted_valid = model.predict(features_valid)\n",
    "                    accuracy = accuracy_score(target_valid, predicted_valid) \n",
    "                    f1 = f1_score(target_valid,predicted_valid)\n",
    "                    roc_auc = roc_auc_score(target_valid, model.predict_proba(features_valid)[:,1])\n",
    "                    if f1 > best_f1: #roc_auc > best_roc_auc: #\n",
    "                        best_accuracy = accuracy\n",
    "                        best_roc_auc = roc_auc\n",
    "                        best_f1 = f1\n",
    "                        best_forest_model = model\n",
    "                        best_depth = depth\n",
    "                        best_criterion = criter\n",
    "                        best_n_estimator = n_estimator\n",
    "                        best_min_samples_split = min_samples_split_i\n",
    "print(f\"acc {best_accuracy:.5f}, roc {best_roc_auc:.5f}, f1 {best_f1:.5f}\",\n",
    "      'depth', best_depth,\n",
    "      best_criterion, 'est', best_n_estimator, 'min_smpl',best_min_samples_split)"
   ]
  },
  {
   "cell_type": "markdown",
   "metadata": {
    "id": "AZeBNB0rSUFF"
   },
   "source": [
    "Для улучшения модели были рассмотрены 2 метрики f1 и roc-auc: \n",
    "- Максимум f1 достигается с гиперпараметрами модели depth 9 gini est 20 min_smpl 38 и составляет 0.62341, при этом значение roc-auc составляет 0.85279. \n",
    "- Максимум roc-auc достигается с гиперпараметрами модели depth 10 gini est 25 min_smpl 44 и составляет 0.85843, при этом значение f1 составляет 0.60373\n",
    "\n",
    "1й вариант предпочтительнее  т.к. максимизация roc-auc незначительно увеличивает метрику на 0.00566, но заметно уменьшает f1 на 0.01968."
   ]
  },
  {
   "cell_type": "markdown",
   "metadata": {
    "id": "OdXzGChgSTxp"
   },
   "source": [
    "### Вывод\n",
    "Для учета дисбаланса рассмотрены три медота: Взвешивание, Upsampling, downsampling. \n",
    "Максимальные метрики f1 и auc-roc моделей классификации наблюдаются при использовании upsampling для модели случайного леса (f1 = 0.59, AUC-ROC = 0.83). \n",
    "\n",
    "При улучшении данной модели подбором гиперпараметров метрики увеличиваются до 0.623 и 0.853."
   ]
  },
  {
   "cell_type": "markdown",
   "metadata": {
    "id": "C2ekaVuoRSEE"
   },
   "source": [
    "## Шаг 4. Финальное тестирование\n",
    "\n",
    "Проведите финальное тестирование"
   ]
  },
  {
   "cell_type": "code",
   "execution_count": 28,
   "metadata": {
    "colab": {
     "base_uri": "https://localhost:8080/"
    },
    "id": "KkKtWlQhRjO6",
    "outputId": "2d3c963a-56a7-432e-819d-62a2210951a0"
   },
   "outputs": [
    {
     "name": "stdout",
     "output_type": "stream",
     "text": [
      "Результаты прогнозирования тестовой выборки \n",
      " acc 0.81473, roc 0.86168, f1 0.61661\n",
      "Полнота 0.73442, Точность 0.53137\n",
      "Матрица ошибок:\n",
      " [[1211  239]\n",
      " [  98  271]]\n"
     ]
    }
   ],
   "source": [
    "model = RandomForestClassifier(random_state=12345, \n",
    "                               n_estimators=best_n_estimator, max_depth=best_depth, \n",
    "                               criterion=best_criterion,min_samples_split=best_min_samples_split)\n",
    "                               #n_estimators=20, max_depth=9, \n",
    "                               #criterion='gini',min_samples_split=38)\n",
    "model.fit(features_train_upsampled, target_train_upsampled)\n",
    "predicted_test = model.predict(features_test)\n",
    "accuracy = accuracy_score(target_test, predicted_test) \n",
    "f1 = f1_score(target_test,predicted_test)\n",
    "roc_auc = roc_auc_score(target_test, model.predict_proba(features_test)[:,1])\n",
    "print(\"Результаты прогнозирования тестовой выборки \\n\",\n",
    "      f\"acc {accuracy:.5f}, roc {roc_auc:.5f}, f1 {f1:.5f}\")\n",
    "print(f\"Полнота {recall_score(target_test,predicted_test):.5f}, Точность {precision_score(target_test,predicted_test):.5f}\")\n",
    "print(f\"Матрица ошибок:\\n {confusion_matrix(target_test,predicted_test)}\")\n"
   ]
  },
  {
   "cell_type": "code",
   "execution_count": 29,
   "metadata": {},
   "outputs": [
    {
     "data": {
      "image/png": "[encoded data removed]",
      "text/plain": [
       "<Figure size 640x480 with 1 Axes>"
      ]
     },
     "metadata": {},
     "output_type": "display_data"
    }
   ],
   "source": [
    "RocCurveDisplay.from_estimator(model, features_test, target_test);"
   ]
  },
  {
   "cell_type": "markdown",
   "metadata": {
    "id": "o1jcnwf3EDrB"
   },
   "source": [
    "### Вывод\n",
    "Метрики прогнозирования тестовой выборки  acc 0.81473, roc 0.86168, f1 0.61661, метрики близки к валидационным метрикам"
   ]
  },
  {
   "cell_type": "markdown",
   "metadata": {
    "id": "wqZ4CqaplpY3",
    "tags": []
   },
   "source": [
    "## Шаг 5. Общий вывод\n",
    "\n",
    "\n",
    "В ходе разработки модели классификации для прогнозирования оттока клиентов  «Бета-Банка» было выполнено: \n",
    "1. Открыт, изучен, подготовлен файл с данными.\n",
    "\n",
    "1.1. Выполнено переименование названия столбцов в змеиный регистр\n",
    "\n",
    "1.2. Выполнен поиск явных дубликатов - явных дубликатов нет\n",
    "\n",
    "1.3. Обработаны пропуски в длительностях обслуживания (tenure): \n",
    "Преобразован тип данных к целочисленному\n",
    "в столбце имеются уникальные значения длительностей от 0 до 10 лет, а также 909 занчений NA\n",
    "В результате просмотра строк с пропущенными значениями возможные причины пропусков не выявлены, пропуски присутсвуют для записей различных клиентов из разных стран, разного пола и т.д.\n",
    "В результате сравния describe для строк с пропусками и без пропусков установлено, что минимальные, средние, максимальные, std в этих выборках слабо отличаются.\n",
    "В результате анализа гистограмм для строк с пропусками и без пропусков, не выявлено значительных отличий в распределениях численных признаков.\n",
    "Доли категориальных значений в этих выборках также примерно равны.\n",
    "В результате анализа выборок с пропусками и без пропусков в длительности обслуживания, делается предположение о том, что в выборке с пропусками такие же распределения признаков и целевого признака. В связи с этим удаление строк с пропусками не приведет к искажению распределений оставшейся выборки по сравнению с исходной. Произведено удаление строк с пропусками.\n",
    "В результате анализа гистограмм выявлено, что число клиентов по длительности обслуживания распределено равномерно, кроме нулевого года и 10 года, просадка в нулевом году может быть вызвана выгрузкой базы в середене года. Выброс за 10й год может быть ошибкой. \n",
    "\n",
    "1.4. Подготовка признаков\n",
    "- удалены незначимые признаки ('customer_id','surname')\n",
    "- закодированы категориальные признаки прямым кодированием\n",
    "- созданы обучающая, валидационная и тестовая выборки (3:1:1)\n",
    "- выполнено масштабирование численных признаков\n",
    "2. Исследован баланс классов, обучена модель без учёта дисбаланса\n",
    "\n",
    "Доли классов 0 - 0.79, 1 - 0.21\n",
    "\n",
    "| Model| Accuracy| F1| ROC-AUC|\n",
    "|:--|:--|:--|:--|\n",
    "|Решающее дерево| 0.79| 0.49|0.68|\n",
    "|Случайный лес| 0.86| 0.55|0.83|\n",
    "|Логистическая регрессия| 0.81| 0.30|0.77|\n",
    "|Константная модель| 0.80| | |\n",
    "\n",
    "Качество (accuracy) моделей сопоставимо с константной моделью. Это обусловлено сильным дисбалансом классов целевого признака.\n",
    "\n",
    "3. Для учета дисбаланса рассмотрены три медота: Взвешивание, Upsampling, downsampling. Максимальные метрики f1 и auc-roc моделей классификации наблюдаются при использовании upsampling для модели случайного леса (f1 = 0.59, AUC-ROC = 0.83). При улучшении данной модели подбором гиперпараметров метрики могут быть увеличены до 0.623 и 0.853 соответственно. Гиперпараметры лучшей модели depth: 9, criterion: gini, n_estimator: 20, min_samples_split: 38.\n",
    "\n",
    "4. Проверено качество моделей на тестовой выборке. Метрики составили:\n",
    "| Accuracy| F1| ROC-AUC| полнота| точность|\n",
    "|:--|:--|:--|:--|:--|\n",
    "| 0.815| 0.617|0.862|0.734| 0.531|\n",
    "\n",
    "Метрики близки к значениям валидационных метрик.\n",
    "\n",
    "\n",
    "Таким образом, обучена модель, позволяющая прогнозировать отток клиентов «Бета-Банка». На тестовой выборке из предсказанных уходов 73% клиентов действительно ушли, 27% остались. Из всех ушедщих клиентов модель предсказала каждого второго (53%), банк может попытаться сохранить этих клиентов. Если банк будет сохранять предсказнных моделью уходящих клиентов, то около четверти расходов (27%) будет избыточна (потрачена на не уходящих клиентов), поэтому стоимость сохранения клиента не должна превышать 73% стоимости привлечения новых клиентов, иначе действия по сохранению нецелесообразны.\n",
    "\n"
   ]
  },
  {
   "cell_type": "code",
   "execution_count": null,
   "metadata": {},
   "outputs": [],
   "source": []
  }
 ],
 "metadata": {
  "ExecuteTimeLog": [
   {
    "duration": 616,
    "start_time": "2022-01-09T08:57:57.214Z"
   },
   {
    "duration": 55,
    "start_time": "2022-01-09T09:02:24.457Z"
   },
   {
    "duration": 9,
    "start_time": "2022-01-09T09:06:17.037Z"
   },
   {
    "duration": 13,
    "start_time": "2022-01-09T09:09:50.650Z"
   },
   {
    "duration": 10,
    "start_time": "2022-01-09T09:09:55.929Z"
   },
   {
    "duration": 228,
    "start_time": "2022-01-09T09:10:49.253Z"
   },
   {
    "duration": 195,
    "start_time": "2022-01-09T09:10:59.972Z"
   },
   {
    "duration": 165,
    "start_time": "2022-01-09T09:11:06.875Z"
   },
   {
    "duration": 21,
    "start_time": "2022-01-09T09:11:21.993Z"
   },
   {
    "duration": 8,
    "start_time": "2022-01-09T09:11:33.579Z"
   },
   {
    "duration": 11,
    "start_time": "2022-01-09T09:11:51.717Z"
   },
   {
    "duration": 10,
    "start_time": "2022-01-09T09:18:03.115Z"
   },
   {
    "duration": 65,
    "start_time": "2022-01-09T09:20:42.536Z"
   },
   {
    "duration": 4,
    "start_time": "2022-01-09T09:21:37.627Z"
   },
   {
    "duration": 10,
    "start_time": "2022-01-09T09:22:10.829Z"
   },
   {
    "duration": 12,
    "start_time": "2022-01-09T09:22:21.157Z"
   },
   {
    "duration": 12,
    "start_time": "2022-01-09T09:24:18.494Z"
   },
   {
    "duration": 68,
    "start_time": "2022-01-09T09:28:21.060Z"
   },
   {
    "duration": 66,
    "start_time": "2022-01-09T09:28:28.472Z"
   },
   {
    "duration": 194,
    "start_time": "2022-01-09T09:39:15.376Z"
   },
   {
    "duration": 20,
    "start_time": "2022-01-09T09:40:37.393Z"
   },
   {
    "duration": 17,
    "start_time": "2022-01-09T09:41:36.501Z"
   },
   {
    "duration": 4907,
    "start_time": "2022-01-09T09:42:12.589Z"
   },
   {
    "duration": 5774,
    "start_time": "2022-01-09T09:43:02.539Z"
   },
   {
    "duration": 19,
    "start_time": "2022-01-09T09:44:40.102Z"
   },
   {
    "duration": 619,
    "start_time": "2022-01-09T09:48:44.995Z"
   },
   {
    "duration": 177,
    "start_time": "2022-01-09T09:49:03.089Z"
   },
   {
    "duration": 54,
    "start_time": "2022-01-09T09:50:02.161Z"
   },
   {
    "duration": 23,
    "start_time": "2022-01-09T09:50:10.208Z"
   },
   {
    "duration": 64,
    "start_time": "2022-01-09T09:54:34.077Z"
   },
   {
    "duration": 8,
    "start_time": "2022-01-09T09:54:34.143Z"
   },
   {
    "duration": 8,
    "start_time": "2022-01-09T09:54:34.153Z"
   },
   {
    "duration": 36,
    "start_time": "2022-01-09T09:54:34.162Z"
   },
   {
    "duration": 26,
    "start_time": "2022-01-09T09:54:34.199Z"
   },
   {
    "duration": 15,
    "start_time": "2022-01-09T09:56:19.980Z"
   },
   {
    "duration": 64,
    "start_time": "2022-01-09T09:56:26.666Z"
   },
   {
    "duration": 9,
    "start_time": "2022-01-09T09:56:26.732Z"
   },
   {
    "duration": 9,
    "start_time": "2022-01-09T09:56:26.743Z"
   },
   {
    "duration": 37,
    "start_time": "2022-01-09T09:56:26.754Z"
   },
   {
    "duration": 15,
    "start_time": "2022-01-09T09:56:26.793Z"
   },
   {
    "duration": 5,
    "start_time": "2022-01-09T09:58:08.826Z"
   },
   {
    "duration": 5,
    "start_time": "2022-01-09T09:58:31.284Z"
   },
   {
    "duration": 245,
    "start_time": "2022-01-09T09:58:43.754Z"
   },
   {
    "duration": 53,
    "start_time": "2022-01-09T09:59:14.712Z"
   },
   {
    "duration": 12,
    "start_time": "2022-01-09T09:59:40.048Z"
   },
   {
    "duration": 24,
    "start_time": "2022-01-09T09:59:51.278Z"
   },
   {
    "duration": 15,
    "start_time": "2022-01-09T09:59:57.216Z"
   },
   {
    "duration": 14,
    "start_time": "2022-01-09T10:01:03.571Z"
   },
   {
    "duration": 194,
    "start_time": "2022-01-09T10:01:39.651Z"
   },
   {
    "duration": 28,
    "start_time": "2022-01-09T10:05:27.279Z"
   },
   {
    "duration": 25,
    "start_time": "2022-01-09T10:05:46.770Z"
   },
   {
    "duration": 14,
    "start_time": "2022-01-09T10:07:30.678Z"
   },
   {
    "duration": 14,
    "start_time": "2022-01-09T10:07:33.672Z"
   },
   {
    "duration": 14,
    "start_time": "2022-01-09T10:08:12.316Z"
   },
   {
    "duration": 16,
    "start_time": "2022-01-09T10:11:10.168Z"
   },
   {
    "duration": 181,
    "start_time": "2022-01-09T10:12:35.478Z"
   },
   {
    "duration": 58,
    "start_time": "2022-01-09T10:12:57.431Z"
   },
   {
    "duration": 38,
    "start_time": "2022-01-09T10:13:04.067Z"
   },
   {
    "duration": 161,
    "start_time": "2022-01-09T10:14:16.965Z"
   },
   {
    "duration": 81,
    "start_time": "2022-01-09T10:14:42.381Z"
   },
   {
    "duration": 16,
    "start_time": "2022-01-09T10:27:38.193Z"
   },
   {
    "duration": 13,
    "start_time": "2022-01-09T10:27:51.100Z"
   },
   {
    "duration": 14,
    "start_time": "2022-01-09T10:27:58.940Z"
   },
   {
    "duration": 13,
    "start_time": "2022-01-09T10:31:21.066Z"
   },
   {
    "duration": 15,
    "start_time": "2022-01-09T10:31:48.148Z"
   },
   {
    "duration": 24,
    "start_time": "2022-01-09T10:32:07.768Z"
   },
   {
    "duration": 13,
    "start_time": "2022-01-09T10:32:30.424Z"
   },
   {
    "duration": 751,
    "start_time": "2022-01-09T10:41:01.003Z"
   },
   {
    "duration": 12,
    "start_time": "2022-01-09T10:41:25.334Z"
   },
   {
    "duration": 6210,
    "start_time": "2022-01-09T10:41:37.857Z"
   },
   {
    "duration": 4200,
    "start_time": "2022-01-09T10:41:52.227Z"
   },
   {
    "duration": 172,
    "start_time": "2022-01-09T10:41:58.334Z"
   },
   {
    "duration": 655,
    "start_time": "2022-01-09T10:42:08.880Z"
   },
   {
    "duration": 659,
    "start_time": "2022-01-09T10:44:09.214Z"
   },
   {
    "duration": 21,
    "start_time": "2022-01-09T10:47:28.738Z"
   },
   {
    "duration": 190,
    "start_time": "2022-01-09T11:32:53.024Z"
   },
   {
    "duration": 6,
    "start_time": "2022-01-09T11:33:38.241Z"
   },
   {
    "duration": 7,
    "start_time": "2022-01-09T11:33:59.026Z"
   },
   {
    "duration": 186,
    "start_time": "2022-01-09T11:34:17.016Z"
   },
   {
    "duration": 171,
    "start_time": "2022-01-09T11:34:42.405Z"
   },
   {
    "duration": 7,
    "start_time": "2022-01-09T11:34:55.289Z"
   },
   {
    "duration": 5,
    "start_time": "2022-01-09T11:35:10.346Z"
   },
   {
    "duration": 7,
    "start_time": "2022-01-09T11:36:32.546Z"
   },
   {
    "duration": 644,
    "start_time": "2022-01-09T11:36:51.960Z"
   },
   {
    "duration": 672,
    "start_time": "2022-01-09T11:37:36.854Z"
   },
   {
    "duration": 54,
    "start_time": "2022-01-09T11:38:29.833Z"
   },
   {
    "duration": 674,
    "start_time": "2022-01-09T11:38:40.789Z"
   },
   {
    "duration": 842,
    "start_time": "2022-01-09T11:39:27.620Z"
   },
   {
    "duration": 835,
    "start_time": "2022-01-09T11:39:35.268Z"
   },
   {
    "duration": 661,
    "start_time": "2022-01-09T11:39:43.651Z"
   },
   {
    "duration": 660,
    "start_time": "2022-01-09T11:39:58.416Z"
   },
   {
    "duration": 677,
    "start_time": "2022-01-09T11:40:10.900Z"
   },
   {
    "duration": 22,
    "start_time": "2022-01-09T11:41:12.651Z"
   },
   {
    "duration": 6,
    "start_time": "2022-01-09T11:41:25.586Z"
   },
   {
    "duration": 643,
    "start_time": "2022-01-09T11:41:51.821Z"
   },
   {
    "duration": 678,
    "start_time": "2022-01-09T11:44:58.332Z"
   },
   {
    "duration": 835,
    "start_time": "2022-01-09T11:47:39.627Z"
   },
   {
    "duration": 669,
    "start_time": "2022-01-09T11:50:02.454Z"
   },
   {
    "duration": 660,
    "start_time": "2022-01-09T11:50:09.304Z"
   },
   {
    "duration": 657,
    "start_time": "2022-01-09T11:50:16.671Z"
   },
   {
    "duration": 949,
    "start_time": "2022-01-09T11:50:39.824Z"
   },
   {
    "duration": 700,
    "start_time": "2022-01-09T11:51:39.826Z"
   },
   {
    "duration": 188,
    "start_time": "2022-01-09T12:05:36.960Z"
   },
   {
    "duration": 174,
    "start_time": "2022-01-09T12:05:54.095Z"
   },
   {
    "duration": 173,
    "start_time": "2022-01-09T12:08:03.289Z"
   },
   {
    "duration": 177,
    "start_time": "2022-01-09T12:08:27.648Z"
   },
   {
    "duration": 173,
    "start_time": "2022-01-09T12:08:47.222Z"
   },
   {
    "duration": 195,
    "start_time": "2022-01-09T12:09:04.563Z"
   },
   {
    "duration": 2144,
    "start_time": "2022-01-09T12:09:08.137Z"
   },
   {
    "duration": 768,
    "start_time": "2022-01-09T12:09:40.006Z"
   },
   {
    "duration": 2547,
    "start_time": "2022-01-09T12:09:44.920Z"
   },
   {
    "duration": 2530,
    "start_time": "2022-01-09T12:10:44.744Z"
   },
   {
    "duration": 2611,
    "start_time": "2022-01-09T12:10:53.656Z"
   },
   {
    "duration": 2548,
    "start_time": "2022-01-09T12:40:50.908Z"
   },
   {
    "duration": 2679,
    "start_time": "2022-01-09T12:45:48.095Z"
   },
   {
    "duration": 2633,
    "start_time": "2022-01-09T12:45:53.571Z"
   },
   {
    "duration": 2634,
    "start_time": "2022-01-09T12:45:59.505Z"
   },
   {
    "duration": 2660,
    "start_time": "2022-01-09T12:46:06.290Z"
   },
   {
    "duration": 2536,
    "start_time": "2022-01-09T12:46:20.580Z"
   },
   {
    "duration": 2501,
    "start_time": "2022-01-09T12:46:26.445Z"
   },
   {
    "duration": 59,
    "start_time": "2022-01-09T12:46:44.187Z"
   },
   {
    "duration": 2529,
    "start_time": "2022-01-09T12:46:47.835Z"
   },
   {
    "duration": 2663,
    "start_time": "2022-01-09T12:53:03.489Z"
   },
   {
    "duration": 2600,
    "start_time": "2022-01-09T13:00:10.051Z"
   },
   {
    "duration": 2533,
    "start_time": "2022-01-09T13:01:25.516Z"
   },
   {
    "duration": 2989,
    "start_time": "2022-01-09T13:02:29.678Z"
   },
   {
    "duration": 2656,
    "start_time": "2022-01-09T13:03:48.883Z"
   },
   {
    "duration": 2651,
    "start_time": "2022-01-09T13:03:59.369Z"
   },
   {
    "duration": 2805,
    "start_time": "2022-01-09T13:04:21.269Z"
   },
   {
    "duration": 71,
    "start_time": "2022-01-09T13:08:57.887Z"
   },
   {
    "duration": 57,
    "start_time": "2022-01-09T13:09:05.513Z"
   },
   {
    "duration": 4,
    "start_time": "2022-01-09T13:09:18.601Z"
   },
   {
    "duration": 280,
    "start_time": "2022-01-09T13:12:18.363Z"
   },
   {
    "duration": 321,
    "start_time": "2022-01-09T13:12:34.126Z"
   },
   {
    "duration": 2507,
    "start_time": "2022-01-09T13:12:59.983Z"
   },
   {
    "duration": 234,
    "start_time": "2022-01-09T13:13:46.979Z"
   },
   {
    "duration": 4380,
    "start_time": "2022-01-09T13:13:50.854Z"
   },
   {
    "duration": 4452,
    "start_time": "2022-01-09T13:14:04.567Z"
   },
   {
    "duration": 4439,
    "start_time": "2022-01-09T13:14:11.321Z"
   },
   {
    "duration": 2686,
    "start_time": "2022-01-09T13:14:54.490Z"
   },
   {
    "duration": 2715,
    "start_time": "2022-01-09T13:15:51.704Z"
   },
   {
    "duration": 2835,
    "start_time": "2022-01-09T13:15:55.237Z"
   },
   {
    "duration": 7262,
    "start_time": "2022-01-09T13:16:00.395Z"
   },
   {
    "duration": 7117,
    "start_time": "2022-01-09T13:16:07.878Z"
   },
   {
    "duration": 7053,
    "start_time": "2022-01-09T13:16:35.414Z"
   },
   {
    "duration": 7288,
    "start_time": "2022-01-09T13:17:42.978Z"
   },
   {
    "duration": 2875,
    "start_time": "2022-01-09T13:18:00.592Z"
   },
   {
    "duration": 4815,
    "start_time": "2022-01-09T13:18:06.038Z"
   },
   {
    "duration": 2760,
    "start_time": "2022-01-09T13:19:29.596Z"
   },
   {
    "duration": 6851,
    "start_time": "2022-01-09T13:19:52.319Z"
   },
   {
    "duration": 168,
    "start_time": "2022-01-09T13:28:24.964Z"
   },
   {
    "duration": 693,
    "start_time": "2022-01-09T13:28:32.584Z"
   },
   {
    "duration": 13,
    "start_time": "2022-01-09T13:28:48.386Z"
   },
   {
    "duration": 19,
    "start_time": "2022-01-09T13:30:20.664Z"
   },
   {
    "duration": 16,
    "start_time": "2022-01-09T13:30:53.682Z"
   },
   {
    "duration": 18,
    "start_time": "2022-01-09T13:31:22.957Z"
   },
   {
    "duration": 15,
    "start_time": "2022-01-09T13:31:28.765Z"
   },
   {
    "duration": 18,
    "start_time": "2022-01-09T13:31:37.515Z"
   },
   {
    "duration": 33,
    "start_time": "2022-01-09T13:31:46.346Z"
   },
   {
    "duration": 70,
    "start_time": "2022-01-09T15:10:59.792Z"
   },
   {
    "duration": 11,
    "start_time": "2022-01-09T15:10:59.865Z"
   },
   {
    "duration": 23,
    "start_time": "2022-01-09T15:10:59.878Z"
   },
   {
    "duration": 30,
    "start_time": "2022-01-09T15:10:59.903Z"
   },
   {
    "duration": 40,
    "start_time": "2022-01-09T15:11:06.306Z"
   },
   {
    "duration": 8,
    "start_time": "2022-01-09T15:11:55.756Z"
   },
   {
    "duration": 14,
    "start_time": "2022-01-09T15:12:16.225Z"
   },
   {
    "duration": 8,
    "start_time": "2022-01-09T15:13:07.827Z"
   },
   {
    "duration": 22,
    "start_time": "2022-01-09T15:13:34.674Z"
   },
   {
    "duration": 211,
    "start_time": "2022-01-11T18:14:50.008Z"
   },
   {
    "duration": 644,
    "start_time": "2022-01-11T18:14:56.065Z"
   },
   {
    "duration": 9,
    "start_time": "2022-01-11T18:14:56.711Z"
   },
   {
    "duration": 9,
    "start_time": "2022-01-11T18:14:56.721Z"
   },
   {
    "duration": 12,
    "start_time": "2022-01-11T18:14:56.731Z"
   },
   {
    "duration": 6817,
    "start_time": "2022-01-11T18:14:58.983Z"
   },
   {
    "duration": 6,
    "start_time": "2022-01-11T18:16:19.868Z"
   },
   {
    "duration": 26,
    "start_time": "2022-01-11T18:19:43.648Z"
   },
   {
    "duration": 204,
    "start_time": "2022-01-11T18:24:02.186Z"
   },
   {
    "duration": 28,
    "start_time": "2022-01-11T18:24:07.984Z"
   },
   {
    "duration": 29,
    "start_time": "2022-01-11T18:28:49.463Z"
   },
   {
    "duration": 186,
    "start_time": "2022-01-11T18:29:41.077Z"
   },
   {
    "duration": 28,
    "start_time": "2022-01-11T18:33:10.511Z"
   },
   {
    "duration": 27,
    "start_time": "2022-01-11T18:33:19.078Z"
   },
   {
    "duration": 33,
    "start_time": "2022-01-11T18:36:14.863Z"
   },
   {
    "duration": 28,
    "start_time": "2022-01-11T18:36:30.399Z"
   },
   {
    "duration": 56,
    "start_time": "2022-01-11T18:40:24.774Z"
   },
   {
    "duration": 316,
    "start_time": "2022-01-11T18:40:50.523Z"
   },
   {
    "duration": 8,
    "start_time": "2022-01-11T18:41:57.448Z"
   },
   {
    "duration": 177,
    "start_time": "2022-01-11T18:42:23.283Z"
   },
   {
    "duration": 46,
    "start_time": "2022-01-11T18:47:06.799Z"
   },
   {
    "duration": 44,
    "start_time": "2022-01-11T18:47:17.246Z"
   },
   {
    "duration": 85,
    "start_time": "2022-01-11T18:47:45.714Z"
   },
   {
    "duration": 189,
    "start_time": "2022-01-11T18:52:59.124Z"
   },
   {
    "duration": 4,
    "start_time": "2022-01-11T18:56:20.823Z"
   },
   {
    "duration": 11,
    "start_time": "2022-01-11T18:56:23.262Z"
   },
   {
    "duration": 17,
    "start_time": "2022-01-11T18:57:26.403Z"
   },
   {
    "duration": 20,
    "start_time": "2022-01-11T18:57:41.712Z"
   },
   {
    "duration": 35,
    "start_time": "2022-01-11T18:58:25.043Z"
   },
   {
    "duration": 34,
    "start_time": "2022-01-11T18:58:38.210Z"
   },
   {
    "duration": 67,
    "start_time": "2022-01-11T18:58:52.761Z"
   },
   {
    "duration": 10,
    "start_time": "2022-01-11T18:58:52.830Z"
   },
   {
    "duration": 10,
    "start_time": "2022-01-11T18:58:52.842Z"
   },
   {
    "duration": 43,
    "start_time": "2022-01-11T18:58:52.853Z"
   },
   {
    "duration": 28,
    "start_time": "2022-01-11T18:58:52.898Z"
   },
   {
    "duration": 40,
    "start_time": "2022-01-11T18:58:54.991Z"
   },
   {
    "duration": 20,
    "start_time": "2022-01-11T19:00:06.320Z"
   },
   {
    "duration": 20,
    "start_time": "2022-01-11T19:00:40.877Z"
   },
   {
    "duration": 231,
    "start_time": "2022-01-11T19:00:51.015Z"
   },
   {
    "duration": 31,
    "start_time": "2022-01-11T19:01:00.667Z"
   },
   {
    "duration": 14,
    "start_time": "2022-01-11T19:02:16.323Z"
   },
   {
    "duration": 13,
    "start_time": "2022-01-11T19:02:51.760Z"
   },
   {
    "duration": 15,
    "start_time": "2022-01-11T19:03:04.273Z"
   },
   {
    "duration": 29,
    "start_time": "2022-01-11T19:03:28.885Z"
   },
   {
    "duration": 36,
    "start_time": "2022-01-11T19:05:45.741Z"
   },
   {
    "duration": 36,
    "start_time": "2022-01-11T19:06:12.313Z"
   },
   {
    "duration": 36,
    "start_time": "2022-01-11T19:06:27.583Z"
   },
   {
    "duration": 2456,
    "start_time": "2022-01-11T19:06:42.431Z"
   },
   {
    "duration": 72,
    "start_time": "2022-01-11T19:06:53.042Z"
   },
   {
    "duration": 9,
    "start_time": "2022-01-11T19:06:53.116Z"
   },
   {
    "duration": 10,
    "start_time": "2022-01-11T19:06:53.127Z"
   },
   {
    "duration": 13,
    "start_time": "2022-01-11T19:06:53.138Z"
   },
   {
    "duration": 52,
    "start_time": "2022-01-11T19:06:53.153Z"
   },
   {
    "duration": 42,
    "start_time": "2022-01-11T19:06:53.207Z"
   },
   {
    "duration": 4,
    "start_time": "2022-01-11T19:06:53.250Z"
   },
   {
    "duration": 35,
    "start_time": "2022-01-11T19:06:53.257Z"
   },
   {
    "duration": 28,
    "start_time": "2022-01-11T19:06:53.294Z"
   },
   {
    "duration": 113,
    "start_time": "2022-01-11T19:06:53.324Z"
   },
   {
    "duration": 49,
    "start_time": "2022-01-11T19:06:55.428Z"
   },
   {
    "duration": 51,
    "start_time": "2022-01-11T19:07:09.548Z"
   },
   {
    "duration": 1574,
    "start_time": "2022-01-11T19:07:20.643Z"
   },
   {
    "duration": 51,
    "start_time": "2022-01-11T19:07:29.817Z"
   },
   {
    "duration": 38,
    "start_time": "2022-01-11T19:10:53.570Z"
   },
   {
    "duration": 66,
    "start_time": "2022-01-11T19:11:05.131Z"
   },
   {
    "duration": 9,
    "start_time": "2022-01-11T19:11:05.198Z"
   },
   {
    "duration": 41,
    "start_time": "2022-01-11T19:11:05.209Z"
   },
   {
    "duration": 25,
    "start_time": "2022-01-11T19:11:05.252Z"
   },
   {
    "duration": 40,
    "start_time": "2022-01-11T19:11:05.279Z"
   },
   {
    "duration": 37,
    "start_time": "2022-01-11T19:11:05.321Z"
   },
   {
    "duration": 3,
    "start_time": "2022-01-11T19:11:05.360Z"
   },
   {
    "duration": 26,
    "start_time": "2022-01-11T19:11:05.365Z"
   },
   {
    "duration": 40,
    "start_time": "2022-01-11T19:11:07.536Z"
   },
   {
    "duration": 91,
    "start_time": "2022-01-11T19:11:10.149Z"
   },
   {
    "duration": 45,
    "start_time": "2022-01-11T19:11:14.145Z"
   },
   {
    "duration": 50,
    "start_time": "2022-01-11T19:11:34.021Z"
   },
   {
    "duration": 59,
    "start_time": "2022-01-11T19:15:37.986Z"
   },
   {
    "duration": 52,
    "start_time": "2022-01-11T19:17:25.690Z"
   },
   {
    "duration": 656,
    "start_time": "2022-01-11T19:18:27.274Z"
   },
   {
    "duration": 672,
    "start_time": "2022-01-11T19:18:44.233Z"
   },
   {
    "duration": 743,
    "start_time": "2022-01-11T19:21:20.121Z"
   },
   {
    "duration": 3323,
    "start_time": "2022-01-11T19:29:54.076Z"
   },
   {
    "duration": 3028,
    "start_time": "2022-01-11T19:30:08.734Z"
   },
   {
    "duration": 3042,
    "start_time": "2022-01-11T19:30:51.385Z"
   },
   {
    "duration": 5329,
    "start_time": "2022-01-11T19:44:54.905Z"
   },
   {
    "duration": 206,
    "start_time": "2022-01-11T19:45:18.091Z"
   },
   {
    "duration": 180,
    "start_time": "2022-01-11T19:45:28.272Z"
   },
   {
    "duration": 173,
    "start_time": "2022-01-11T19:45:46.124Z"
   },
   {
    "duration": 178,
    "start_time": "2022-01-11T19:45:51.865Z"
   },
   {
    "duration": 200,
    "start_time": "2022-01-11T19:45:56.770Z"
   },
   {
    "duration": 388,
    "start_time": "2022-01-11T19:46:07.718Z"
   },
   {
    "duration": 61,
    "start_time": "2022-01-11T19:46:56.438Z"
   },
   {
    "duration": 13,
    "start_time": "2022-01-11T19:47:02.235Z"
   },
   {
    "duration": 12,
    "start_time": "2022-01-11T19:47:24.409Z"
   },
   {
    "duration": 178,
    "start_time": "2022-01-11T19:47:33.687Z"
   },
   {
    "duration": 12,
    "start_time": "2022-01-11T19:47:40.559Z"
   },
   {
    "duration": 11,
    "start_time": "2022-01-11T19:47:50.663Z"
   },
   {
    "duration": 1386,
    "start_time": "2022-01-11T19:48:19.848Z"
   },
   {
    "duration": 10,
    "start_time": "2022-01-11T19:48:42.503Z"
   },
   {
    "duration": 12,
    "start_time": "2022-01-11T19:48:58.804Z"
   },
   {
    "duration": 11,
    "start_time": "2022-01-11T19:49:54.606Z"
   },
   {
    "duration": 185,
    "start_time": "2022-01-11T19:52:27.621Z"
   },
   {
    "duration": 10,
    "start_time": "2022-01-11T19:53:25.033Z"
   },
   {
    "duration": 191,
    "start_time": "2022-01-11T19:53:38.406Z"
   },
   {
    "duration": 12,
    "start_time": "2022-01-11T19:53:47.713Z"
   },
   {
    "duration": 10,
    "start_time": "2022-01-11T19:54:23.744Z"
   },
   {
    "duration": 10,
    "start_time": "2022-01-11T19:58:02.558Z"
   },
   {
    "duration": 9,
    "start_time": "2022-01-11T19:58:14.885Z"
   },
   {
    "duration": 10,
    "start_time": "2022-01-11T19:58:43.757Z"
   },
   {
    "duration": 11,
    "start_time": "2022-01-11T19:58:54.191Z"
   },
   {
    "duration": 12,
    "start_time": "2022-01-11T19:59:00.470Z"
   },
   {
    "duration": 15,
    "start_time": "2022-01-11T20:00:16.303Z"
   },
   {
    "duration": 13,
    "start_time": "2022-01-11T20:01:30.631Z"
   },
   {
    "duration": 5,
    "start_time": "2022-01-11T20:07:52.464Z"
   },
   {
    "duration": 15,
    "start_time": "2022-01-11T20:08:00.867Z"
   },
   {
    "duration": 64,
    "start_time": "2022-01-11T20:16:30.658Z"
   },
   {
    "duration": 61,
    "start_time": "2022-01-11T20:16:58.669Z"
   },
   {
    "duration": 85,
    "start_time": "2022-01-11T20:17:05.928Z"
   },
   {
    "duration": 10,
    "start_time": "2022-01-11T20:18:51.924Z"
   },
   {
    "duration": 72,
    "start_time": "2022-01-11T20:20:29.061Z"
   },
   {
    "duration": 11,
    "start_time": "2022-01-11T20:20:34.718Z"
   },
   {
    "duration": 19,
    "start_time": "2022-01-11T20:20:39.114Z"
   },
   {
    "duration": 7,
    "start_time": "2022-01-11T20:20:52.840Z"
   },
   {
    "duration": 59,
    "start_time": "2022-01-11T20:23:34.602Z"
   },
   {
    "duration": 14,
    "start_time": "2022-01-11T20:23:38.251Z"
   },
   {
    "duration": 14,
    "start_time": "2022-01-11T20:23:46.337Z"
   },
   {
    "duration": 20,
    "start_time": "2022-01-11T20:24:19.465Z"
   },
   {
    "duration": 22,
    "start_time": "2022-01-11T20:24:59.695Z"
   },
   {
    "duration": 28,
    "start_time": "2022-01-11T20:25:49.907Z"
   },
   {
    "duration": 34,
    "start_time": "2022-01-11T20:26:47.313Z"
   },
   {
    "duration": 65,
    "start_time": "2022-01-11T20:27:13.156Z"
   },
   {
    "duration": 57,
    "start_time": "2022-01-11T20:27:27.605Z"
   },
   {
    "duration": 80,
    "start_time": "2022-01-11T20:27:37.603Z"
   },
   {
    "duration": 5031,
    "start_time": "2022-01-11T20:27:40.563Z"
   },
   {
    "duration": 31,
    "start_time": "2022-01-11T20:27:55.301Z"
   },
   {
    "duration": 203,
    "start_time": "2022-01-11T20:28:19.587Z"
   },
   {
    "duration": 29,
    "start_time": "2022-01-11T20:28:30.481Z"
   },
   {
    "duration": 29,
    "start_time": "2022-01-11T20:28:52.331Z"
   },
   {
    "duration": 218,
    "start_time": "2022-01-11T20:29:16.930Z"
   },
   {
    "duration": 187,
    "start_time": "2022-01-11T20:29:28.342Z"
   },
   {
    "duration": 193,
    "start_time": "2022-01-11T20:29:42.557Z"
   },
   {
    "duration": 26,
    "start_time": "2022-01-11T20:29:51.874Z"
   },
   {
    "duration": 30,
    "start_time": "2022-01-11T20:29:56.263Z"
   },
   {
    "duration": 195,
    "start_time": "2022-01-11T20:31:19.190Z"
   },
   {
    "duration": 31,
    "start_time": "2022-01-11T20:32:11.329Z"
   },
   {
    "duration": 31,
    "start_time": "2022-01-11T20:32:16.942Z"
   },
   {
    "duration": 53,
    "start_time": "2022-01-11T20:32:20.189Z"
   },
   {
    "duration": 31,
    "start_time": "2022-01-11T20:32:42.313Z"
   },
   {
    "duration": 29,
    "start_time": "2022-01-11T20:32:54.849Z"
   },
   {
    "duration": 25,
    "start_time": "2022-01-11T20:33:18.452Z"
   },
   {
    "duration": 26,
    "start_time": "2022-01-11T20:35:22.065Z"
   },
   {
    "duration": 26,
    "start_time": "2022-01-11T20:35:32.533Z"
   },
   {
    "duration": 72,
    "start_time": "2022-01-11T20:35:53.020Z"
   },
   {
    "duration": 25,
    "start_time": "2022-01-11T20:35:57.549Z"
   },
   {
    "duration": 26,
    "start_time": "2022-01-11T20:36:02.528Z"
   },
   {
    "duration": 331,
    "start_time": "2022-01-11T20:36:10.848Z"
   },
   {
    "duration": 26,
    "start_time": "2022-01-11T20:36:17.494Z"
   },
   {
    "duration": 29,
    "start_time": "2022-01-11T20:36:29.880Z"
   },
   {
    "duration": 28,
    "start_time": "2022-01-11T20:37:12.750Z"
   },
   {
    "duration": 37,
    "start_time": "2022-01-11T20:37:21.191Z"
   },
   {
    "duration": 6,
    "start_time": "2022-01-11T20:58:32.748Z"
   },
   {
    "duration": 266,
    "start_time": "2022-01-11T20:58:37.415Z"
   },
   {
    "duration": 204,
    "start_time": "2022-01-11T20:59:58.130Z"
   },
   {
    "duration": 206,
    "start_time": "2022-01-11T21:00:04.915Z"
   },
   {
    "duration": 220,
    "start_time": "2022-01-11T21:01:14.994Z"
   },
   {
    "duration": 345,
    "start_time": "2022-01-11T21:01:24.576Z"
   },
   {
    "duration": 390,
    "start_time": "2022-01-11T21:05:11.682Z"
   },
   {
    "duration": 56,
    "start_time": "2022-01-11T21:06:06.618Z"
   },
   {
    "duration": 368,
    "start_time": "2022-01-11T21:06:10.474Z"
   },
   {
    "duration": 322,
    "start_time": "2022-01-11T21:09:13.253Z"
   },
   {
    "duration": 320,
    "start_time": "2022-01-11T21:09:28.386Z"
   },
   {
    "duration": 343,
    "start_time": "2022-01-11T21:13:46.868Z"
   },
   {
    "duration": 2071,
    "start_time": "2022-01-11T21:14:51.132Z"
   },
   {
    "duration": 639,
    "start_time": "2022-01-11T21:15:25.356Z"
   },
   {
    "duration": 736,
    "start_time": "2022-01-11T21:15:29.441Z"
   },
   {
    "duration": 1066,
    "start_time": "2022-01-11T21:15:51.014Z"
   },
   {
    "duration": 696,
    "start_time": "2022-01-11T21:22:37.134Z"
   },
   {
    "duration": 760,
    "start_time": "2022-01-11T21:22:42.888Z"
   },
   {
    "duration": 284,
    "start_time": "2022-01-11T21:23:15.705Z"
   },
   {
    "duration": 594,
    "start_time": "2022-01-11T21:23:30.064Z"
   },
   {
    "duration": 227,
    "start_time": "2022-01-11T21:24:05.106Z"
   },
   {
    "duration": 185,
    "start_time": "2022-01-11T21:24:17.986Z"
   },
   {
    "duration": 352,
    "start_time": "2022-01-11T21:24:31.607Z"
   },
   {
    "duration": 181,
    "start_time": "2022-01-11T21:27:08.192Z"
   },
   {
    "duration": 182,
    "start_time": "2022-01-11T21:27:13.906Z"
   },
   {
    "duration": 59,
    "start_time": "2022-01-11T21:27:55.683Z"
   },
   {
    "duration": 15,
    "start_time": "2022-01-11T21:28:10.176Z"
   },
   {
    "duration": 17,
    "start_time": "2022-01-11T21:28:21.011Z"
   },
   {
    "duration": 17,
    "start_time": "2022-01-11T21:28:29.100Z"
   },
   {
    "duration": 191,
    "start_time": "2022-01-11T21:32:49.861Z"
   },
   {
    "duration": 205,
    "start_time": "2022-01-11T21:32:57.210Z"
   },
   {
    "duration": 1124,
    "start_time": "2022-01-11T21:33:45.300Z"
   },
   {
    "duration": 195,
    "start_time": "2022-01-11T21:34:09.974Z"
   },
   {
    "duration": 184,
    "start_time": "2022-01-11T21:35:36.153Z"
   },
   {
    "duration": 188,
    "start_time": "2022-01-11T21:35:51.452Z"
   },
   {
    "duration": 18,
    "start_time": "2022-01-11T21:42:45.816Z"
   },
   {
    "duration": 17,
    "start_time": "2022-01-11T21:43:19.912Z"
   },
   {
    "duration": 284,
    "start_time": "2022-01-11T21:49:16.400Z"
   },
   {
    "duration": 31,
    "start_time": "2022-01-11T21:49:23.466Z"
   },
   {
    "duration": 24,
    "start_time": "2022-01-11T21:49:48.140Z"
   },
   {
    "duration": 27,
    "start_time": "2022-01-11T21:50:02.036Z"
   },
   {
    "duration": 25,
    "start_time": "2022-01-11T21:52:02.836Z"
   },
   {
    "duration": 98,
    "start_time": "2022-01-11T21:55:52.553Z"
   },
   {
    "duration": 38,
    "start_time": "2022-01-11T21:55:52.654Z"
   },
   {
    "duration": 15,
    "start_time": "2022-01-11T21:55:52.695Z"
   },
   {
    "duration": 23,
    "start_time": "2022-01-11T21:55:52.713Z"
   },
   {
    "duration": 81,
    "start_time": "2022-01-11T21:55:52.739Z"
   },
   {
    "duration": 91,
    "start_time": "2022-01-11T21:55:52.823Z"
   },
   {
    "duration": 4,
    "start_time": "2022-01-11T21:55:52.917Z"
   },
   {
    "duration": 17,
    "start_time": "2022-01-11T21:55:52.925Z"
   },
   {
    "duration": 95,
    "start_time": "2022-01-11T21:55:52.945Z"
   },
   {
    "duration": 149,
    "start_time": "2022-01-11T21:55:53.042Z"
   },
   {
    "duration": 61,
    "start_time": "2022-01-11T21:55:53.194Z"
   },
   {
    "duration": 817,
    "start_time": "2022-01-11T21:55:53.257Z"
   },
   {
    "duration": 3,
    "start_time": "2022-01-11T21:55:54.077Z"
   },
   {
    "duration": 4128,
    "start_time": "2022-01-11T21:55:54.092Z"
   },
   {
    "duration": 389,
    "start_time": "2022-01-11T21:55:58.223Z"
   },
   {
    "duration": 1248,
    "start_time": "2022-01-11T21:55:58.614Z"
   },
   {
    "duration": 41,
    "start_time": "2022-01-11T21:55:59.865Z"
   },
   {
    "duration": 25,
    "start_time": "2022-01-11T21:55:59.908Z"
   },
   {
    "duration": 63,
    "start_time": "2022-01-11T21:55:59.936Z"
   },
   {
    "duration": 216,
    "start_time": "2022-01-11T21:58:47.491Z"
   },
   {
    "duration": 256,
    "start_time": "2022-01-11T21:58:54.486Z"
   },
   {
    "duration": 26,
    "start_time": "2022-01-11T21:59:12.424Z"
   },
   {
    "duration": 37,
    "start_time": "2022-01-11T21:59:23.018Z"
   },
   {
    "duration": 37,
    "start_time": "2022-01-11T21:59:35.537Z"
   },
   {
    "duration": 766,
    "start_time": "2022-01-11T21:59:42.520Z"
   },
   {
    "duration": 46,
    "start_time": "2022-01-11T21:59:46.043Z"
   },
   {
    "duration": 56,
    "start_time": "2022-01-11T21:59:53.622Z"
   },
   {
    "duration": 905,
    "start_time": "2022-01-11T22:00:33.725Z"
   },
   {
    "duration": 217,
    "start_time": "2022-01-11T22:01:21.716Z"
   },
   {
    "duration": 231,
    "start_time": "2022-01-11T22:01:30.101Z"
   },
   {
    "duration": 206,
    "start_time": "2022-01-11T22:01:37.467Z"
   },
   {
    "duration": 22,
    "start_time": "2022-01-11T22:01:53.289Z"
   },
   {
    "duration": 1266,
    "start_time": "2022-01-11T22:02:02.239Z"
   },
   {
    "duration": 269,
    "start_time": "2022-01-11T22:02:09.914Z"
   },
   {
    "duration": 69,
    "start_time": "2022-01-11T22:02:29.430Z"
   },
   {
    "duration": 13,
    "start_time": "2022-01-11T22:02:29.502Z"
   },
   {
    "duration": 9,
    "start_time": "2022-01-11T22:02:29.517Z"
   },
   {
    "duration": 13,
    "start_time": "2022-01-11T22:02:29.528Z"
   },
   {
    "duration": 59,
    "start_time": "2022-01-11T22:02:29.543Z"
   },
   {
    "duration": 41,
    "start_time": "2022-01-11T22:02:29.604Z"
   },
   {
    "duration": 3,
    "start_time": "2022-01-11T22:02:29.647Z"
   },
   {
    "duration": 39,
    "start_time": "2022-01-11T22:02:29.653Z"
   },
   {
    "duration": 42,
    "start_time": "2022-01-11T22:02:29.695Z"
   },
   {
    "duration": 108,
    "start_time": "2022-01-11T22:02:29.738Z"
   },
   {
    "duration": 64,
    "start_time": "2022-01-11T22:02:29.848Z"
   },
   {
    "duration": 749,
    "start_time": "2022-01-11T22:02:29.914Z"
   },
   {
    "duration": 3,
    "start_time": "2022-01-11T22:02:30.665Z"
   },
   {
    "duration": 3084,
    "start_time": "2022-01-11T22:02:30.669Z"
   },
   {
    "duration": 338,
    "start_time": "2022-01-11T22:02:33.755Z"
   },
   {
    "duration": 1242,
    "start_time": "2022-01-11T22:02:34.095Z"
   },
   {
    "duration": 27,
    "start_time": "2022-01-11T22:02:35.339Z"
   },
   {
    "duration": 40,
    "start_time": "2022-01-11T22:02:35.369Z"
   },
   {
    "duration": 36,
    "start_time": "2022-01-11T22:02:35.411Z"
   },
   {
    "duration": 17,
    "start_time": "2022-01-11T22:02:35.449Z"
   },
   {
    "duration": 53,
    "start_time": "2022-01-11T22:02:35.467Z"
   },
   {
    "duration": 31,
    "start_time": "2022-01-11T22:02:35.522Z"
   },
   {
    "duration": 567,
    "start_time": "2022-01-11T22:02:42.386Z"
   },
   {
    "duration": 24,
    "start_time": "2022-01-11T22:03:35.165Z"
   },
   {
    "duration": 71,
    "start_time": "2022-01-11T22:03:59.288Z"
   },
   {
    "duration": 10,
    "start_time": "2022-01-11T22:03:59.361Z"
   },
   {
    "duration": 26,
    "start_time": "2022-01-11T22:03:59.373Z"
   },
   {
    "duration": 13,
    "start_time": "2022-01-11T22:03:59.401Z"
   },
   {
    "duration": 31,
    "start_time": "2022-01-11T22:03:59.416Z"
   },
   {
    "duration": 72,
    "start_time": "2022-01-11T22:03:59.449Z"
   },
   {
    "duration": 4,
    "start_time": "2022-01-11T22:03:59.523Z"
   },
   {
    "duration": 13,
    "start_time": "2022-01-11T22:03:59.530Z"
   },
   {
    "duration": 60,
    "start_time": "2022-01-11T22:03:59.545Z"
   },
   {
    "duration": 109,
    "start_time": "2022-01-11T22:03:59.607Z"
   },
   {
    "duration": 72,
    "start_time": "2022-01-11T22:03:59.719Z"
   },
   {
    "duration": 748,
    "start_time": "2022-01-11T22:03:59.793Z"
   },
   {
    "duration": 5,
    "start_time": "2022-01-11T22:04:00.545Z"
   },
   {
    "duration": 3375,
    "start_time": "2022-01-11T22:04:00.553Z"
   },
   {
    "duration": 344,
    "start_time": "2022-01-11T22:04:03.929Z"
   },
   {
    "duration": 1078,
    "start_time": "2022-01-11T22:04:04.275Z"
   },
   {
    "duration": 250,
    "start_time": "2022-01-11T22:04:05.356Z"
   },
   {
    "duration": 27,
    "start_time": "2022-01-11T22:04:05.609Z"
   },
   {
    "duration": 20,
    "start_time": "2022-01-11T22:04:05.638Z"
   },
   {
    "duration": 40,
    "start_time": "2022-01-11T22:04:05.660Z"
   },
   {
    "duration": 31,
    "start_time": "2022-01-11T22:04:05.702Z"
   },
   {
    "duration": 30,
    "start_time": "2022-01-11T22:04:05.735Z"
   },
   {
    "duration": 26,
    "start_time": "2022-01-11T22:04:14.147Z"
   },
   {
    "duration": 29,
    "start_time": "2022-01-11T22:04:17.845Z"
   },
   {
    "duration": 70,
    "start_time": "2022-01-11T22:04:57.728Z"
   },
   {
    "duration": 10,
    "start_time": "2022-01-11T22:04:57.799Z"
   },
   {
    "duration": 10,
    "start_time": "2022-01-11T22:04:57.812Z"
   },
   {
    "duration": 14,
    "start_time": "2022-01-11T22:04:57.824Z"
   },
   {
    "duration": 60,
    "start_time": "2022-01-11T22:04:57.840Z"
   },
   {
    "duration": 42,
    "start_time": "2022-01-11T22:04:57.903Z"
   },
   {
    "duration": 4,
    "start_time": "2022-01-11T22:04:57.948Z"
   },
   {
    "duration": 10,
    "start_time": "2022-01-11T22:04:57.955Z"
   },
   {
    "duration": 41,
    "start_time": "2022-01-11T22:04:57.992Z"
   },
   {
    "duration": 124,
    "start_time": "2022-01-11T22:04:58.035Z"
   },
   {
    "duration": 82,
    "start_time": "2022-01-11T22:04:58.162Z"
   },
   {
    "duration": 716,
    "start_time": "2022-01-11T22:04:58.246Z"
   },
   {
    "duration": 3,
    "start_time": "2022-01-11T22:04:58.965Z"
   },
   {
    "duration": 3425,
    "start_time": "2022-01-11T22:04:58.970Z"
   },
   {
    "duration": 361,
    "start_time": "2022-01-11T22:05:02.398Z"
   },
   {
    "duration": 1117,
    "start_time": "2022-01-11T22:05:02.762Z"
   },
   {
    "duration": 31,
    "start_time": "2022-01-11T22:05:03.881Z"
   },
   {
    "duration": 25,
    "start_time": "2022-01-11T22:05:03.914Z"
   },
   {
    "duration": 19,
    "start_time": "2022-01-11T22:05:03.941Z"
   },
   {
    "duration": 44,
    "start_time": "2022-01-11T22:05:03.962Z"
   },
   {
    "duration": 31,
    "start_time": "2022-01-11T22:05:04.008Z"
   },
   {
    "duration": 61,
    "start_time": "2022-01-11T22:05:04.041Z"
   },
   {
    "duration": 32,
    "start_time": "2022-01-11T22:05:04.105Z"
   },
   {
    "duration": 31,
    "start_time": "2022-01-11T22:05:17.611Z"
   },
   {
    "duration": 35,
    "start_time": "2022-01-11T22:06:13.625Z"
   },
   {
    "duration": 39,
    "start_time": "2022-01-11T22:06:17.436Z"
   },
   {
    "duration": 41,
    "start_time": "2022-01-11T22:06:21.735Z"
   },
   {
    "duration": 40,
    "start_time": "2022-01-11T22:06:29.236Z"
   },
   {
    "duration": 778,
    "start_time": "2022-01-11T22:06:42.798Z"
   },
   {
    "duration": 70,
    "start_time": "2022-01-11T22:07:05.508Z"
   },
   {
    "duration": 719,
    "start_time": "2022-01-11T22:07:18.745Z"
   },
   {
    "duration": 32,
    "start_time": "2022-01-11T22:07:28.637Z"
   },
   {
    "duration": 803,
    "start_time": "2022-01-11T22:07:35.085Z"
   },
   {
    "duration": 39,
    "start_time": "2022-01-11T22:07:43.564Z"
   },
   {
    "duration": 726,
    "start_time": "2022-01-11T22:07:51.005Z"
   },
   {
    "duration": 37,
    "start_time": "2022-01-11T22:07:59.145Z"
   },
   {
    "duration": 96,
    "start_time": "2022-01-11T22:08:29.633Z"
   },
   {
    "duration": 15,
    "start_time": "2022-01-11T22:08:29.732Z"
   },
   {
    "duration": 11,
    "start_time": "2022-01-11T22:08:29.750Z"
   },
   {
    "duration": 39,
    "start_time": "2022-01-11T22:08:29.764Z"
   },
   {
    "duration": 32,
    "start_time": "2022-01-11T22:08:29.806Z"
   },
   {
    "duration": 67,
    "start_time": "2022-01-11T22:08:29.840Z"
   },
   {
    "duration": 5,
    "start_time": "2022-01-11T22:08:29.909Z"
   },
   {
    "duration": 14,
    "start_time": "2022-01-11T22:08:29.917Z"
   },
   {
    "duration": 71,
    "start_time": "2022-01-11T22:08:29.933Z"
   },
   {
    "duration": 109,
    "start_time": "2022-01-11T22:08:30.006Z"
   },
   {
    "duration": 74,
    "start_time": "2022-01-11T22:08:30.117Z"
   },
   {
    "duration": 744,
    "start_time": "2022-01-11T22:08:30.194Z"
   },
   {
    "duration": 4,
    "start_time": "2022-01-11T22:08:30.941Z"
   },
   {
    "duration": 3980,
    "start_time": "2022-01-11T22:08:30.947Z"
   },
   {
    "duration": 370,
    "start_time": "2022-01-11T22:08:34.929Z"
   },
   {
    "duration": 1148,
    "start_time": "2022-01-11T22:08:35.301Z"
   },
   {
    "duration": 41,
    "start_time": "2022-01-11T22:08:36.451Z"
   },
   {
    "duration": 25,
    "start_time": "2022-01-11T22:08:36.494Z"
   },
   {
    "duration": 39,
    "start_time": "2022-01-11T22:08:36.521Z"
   },
   {
    "duration": 39,
    "start_time": "2022-01-11T22:08:36.562Z"
   },
   {
    "duration": 32,
    "start_time": "2022-01-11T22:08:36.604Z"
   },
   {
    "duration": 68,
    "start_time": "2022-01-11T22:08:36.639Z"
   },
   {
    "duration": 32,
    "start_time": "2022-01-11T22:08:36.711Z"
   },
   {
    "duration": 30,
    "start_time": "2022-01-11T22:08:48.860Z"
   },
   {
    "duration": 28,
    "start_time": "2022-01-11T22:08:54.047Z"
   },
   {
    "duration": 29,
    "start_time": "2022-01-11T22:09:28.407Z"
   },
   {
    "duration": 40,
    "start_time": "2022-01-11T22:09:37.392Z"
   },
   {
    "duration": 32,
    "start_time": "2022-01-11T22:09:44.317Z"
   },
   {
    "duration": 33,
    "start_time": "2022-01-11T22:09:48.618Z"
   },
   {
    "duration": 221,
    "start_time": "2022-01-11T22:11:34.361Z"
   },
   {
    "duration": 207,
    "start_time": "2022-01-11T22:11:48.974Z"
   },
   {
    "duration": 221,
    "start_time": "2022-01-11T22:12:03.178Z"
   },
   {
    "duration": 30,
    "start_time": "2022-01-11T22:13:48.553Z"
   },
   {
    "duration": 61,
    "start_time": "2022-01-11T22:14:34.884Z"
   },
   {
    "duration": 68,
    "start_time": "2022-01-11T22:14:46.991Z"
   },
   {
    "duration": 30,
    "start_time": "2022-01-11T22:14:57.179Z"
   },
   {
    "duration": 59,
    "start_time": "2022-01-11T22:15:19.619Z"
   },
   {
    "duration": 89,
    "start_time": "2022-01-11T22:15:27.421Z"
   },
   {
    "duration": 29,
    "start_time": "2022-01-11T22:16:08.191Z"
   },
   {
    "duration": 28,
    "start_time": "2022-01-11T22:16:15.984Z"
   },
   {
    "duration": 718,
    "start_time": "2022-01-11T22:16:30.128Z"
   },
   {
    "duration": 31,
    "start_time": "2022-01-11T22:17:10.489Z"
   },
   {
    "duration": 25,
    "start_time": "2022-01-11T22:17:17.609Z"
   },
   {
    "duration": 202,
    "start_time": "2022-01-11T22:18:19.941Z"
   },
   {
    "duration": 905,
    "start_time": "2022-01-11T22:20:23.093Z"
   },
   {
    "duration": 32,
    "start_time": "2022-01-11T22:20:44.423Z"
   },
   {
    "duration": 200,
    "start_time": "2022-01-11T22:20:51.523Z"
   },
   {
    "duration": 31,
    "start_time": "2022-01-11T22:20:55.889Z"
   },
   {
    "duration": 706,
    "start_time": "2022-01-11T22:21:03.748Z"
   },
   {
    "duration": 936,
    "start_time": "2022-01-11T22:21:14.624Z"
   },
   {
    "duration": 32,
    "start_time": "2022-01-11T22:21:25.627Z"
   },
   {
    "duration": 30,
    "start_time": "2022-01-11T22:21:30.906Z"
   },
   {
    "duration": 265,
    "start_time": "2022-01-11T22:21:34.353Z"
   },
   {
    "duration": 33,
    "start_time": "2022-01-11T22:21:37.740Z"
   },
   {
    "duration": 29,
    "start_time": "2022-01-11T22:22:09.225Z"
   },
   {
    "duration": 29,
    "start_time": "2022-01-11T22:22:13.546Z"
   },
   {
    "duration": 28,
    "start_time": "2022-01-11T22:22:23.512Z"
   },
   {
    "duration": 33,
    "start_time": "2022-01-11T22:26:16.775Z"
   },
   {
    "duration": 34,
    "start_time": "2022-01-11T22:26:33.394Z"
   },
   {
    "duration": 720,
    "start_time": "2022-01-11T22:26:37.947Z"
   },
   {
    "duration": 30,
    "start_time": "2022-01-11T22:26:43.217Z"
   },
   {
    "duration": 28,
    "start_time": "2022-01-11T22:26:47.758Z"
   },
   {
    "duration": 29,
    "start_time": "2022-01-11T22:26:56.183Z"
   },
   {
    "duration": 31,
    "start_time": "2022-01-11T22:32:37.262Z"
   },
   {
    "duration": 202,
    "start_time": "2022-01-11T22:32:43.488Z"
   },
   {
    "duration": 28,
    "start_time": "2022-01-11T22:32:48.549Z"
   },
   {
    "duration": 62,
    "start_time": "2022-01-11T22:33:48.076Z"
   },
   {
    "duration": 58,
    "start_time": "2022-01-11T22:33:55.034Z"
   },
   {
    "duration": 1015,
    "start_time": "2022-01-11T22:34:00.707Z"
   },
   {
    "duration": 56,
    "start_time": "2022-01-11T22:34:11.864Z"
   },
   {
    "duration": 1237,
    "start_time": "2022-01-11T22:34:16.121Z"
   },
   {
    "duration": 701,
    "start_time": "2022-01-11T22:34:26.136Z"
   },
   {
    "duration": 30,
    "start_time": "2022-01-11T22:34:30.636Z"
   },
   {
    "duration": 37,
    "start_time": "2022-01-11T22:34:54.089Z"
   },
   {
    "duration": 29,
    "start_time": "2022-01-11T22:35:00.759Z"
   },
   {
    "duration": 201,
    "start_time": "2022-01-11T22:35:27.952Z"
   },
   {
    "duration": 29,
    "start_time": "2022-01-11T22:35:32.956Z"
   },
   {
    "duration": 198,
    "start_time": "2022-01-11T22:38:26.319Z"
   },
   {
    "duration": 31,
    "start_time": "2022-01-11T22:38:40.494Z"
   },
   {
    "duration": 61,
    "start_time": "2022-01-11T22:39:56.909Z"
   },
   {
    "duration": 34,
    "start_time": "2022-01-11T22:40:00.509Z"
   },
   {
    "duration": 31,
    "start_time": "2022-01-11T22:40:42.157Z"
   },
   {
    "duration": 29,
    "start_time": "2022-01-11T22:40:58.567Z"
   },
   {
    "duration": 70,
    "start_time": "2022-01-11T22:42:32.581Z"
   },
   {
    "duration": 9,
    "start_time": "2022-01-11T22:42:32.653Z"
   },
   {
    "duration": 30,
    "start_time": "2022-01-11T22:42:32.664Z"
   },
   {
    "duration": 14,
    "start_time": "2022-01-11T22:42:32.697Z"
   },
   {
    "duration": 30,
    "start_time": "2022-01-11T22:42:32.713Z"
   },
   {
    "duration": 74,
    "start_time": "2022-01-11T22:42:32.745Z"
   },
   {
    "duration": 3,
    "start_time": "2022-01-11T22:42:32.821Z"
   },
   {
    "duration": 11,
    "start_time": "2022-01-11T22:42:32.827Z"
   },
   {
    "duration": 66,
    "start_time": "2022-01-11T22:42:32.840Z"
   },
   {
    "duration": 98,
    "start_time": "2022-01-11T22:42:32.908Z"
   },
   {
    "duration": 52,
    "start_time": "2022-01-11T22:42:33.008Z"
   },
   {
    "duration": 786,
    "start_time": "2022-01-11T22:42:33.061Z"
   },
   {
    "duration": 4,
    "start_time": "2022-01-11T22:42:33.849Z"
   },
   {
    "duration": 3403,
    "start_time": "2022-01-11T22:42:33.855Z"
   },
   {
    "duration": 340,
    "start_time": "2022-01-11T22:42:37.260Z"
   },
   {
    "duration": 1335,
    "start_time": "2022-01-11T22:42:37.602Z"
   },
   {
    "duration": 25,
    "start_time": "2022-01-11T22:42:38.939Z"
   },
   {
    "duration": 37,
    "start_time": "2022-01-11T22:42:38.966Z"
   },
   {
    "duration": 18,
    "start_time": "2022-01-11T22:42:39.004Z"
   },
   {
    "duration": 17,
    "start_time": "2022-01-11T22:42:39.024Z"
   },
   {
    "duration": 50,
    "start_time": "2022-01-11T22:42:39.042Z"
   },
   {
    "duration": 30,
    "start_time": "2022-01-11T22:42:39.094Z"
   },
   {
    "duration": 27,
    "start_time": "2022-01-11T22:42:39.126Z"
   },
   {
    "duration": 31,
    "start_time": "2022-01-11T22:45:04.690Z"
   },
   {
    "duration": 2879,
    "start_time": "2022-01-11T22:45:55.682Z"
   },
   {
    "duration": 2982,
    "start_time": "2022-01-11T22:47:18.029Z"
   },
   {
    "duration": 2748,
    "start_time": "2022-01-11T22:47:29.901Z"
   },
   {
    "duration": 68,
    "start_time": "2022-01-11T22:47:54.430Z"
   },
   {
    "duration": 10,
    "start_time": "2022-01-11T22:47:54.500Z"
   },
   {
    "duration": 10,
    "start_time": "2022-01-11T22:47:54.512Z"
   },
   {
    "duration": 13,
    "start_time": "2022-01-11T22:47:54.524Z"
   },
   {
    "duration": 69,
    "start_time": "2022-01-11T22:47:54.539Z"
   },
   {
    "duration": 41,
    "start_time": "2022-01-11T22:47:54.610Z"
   },
   {
    "duration": 4,
    "start_time": "2022-01-11T22:47:54.653Z"
   },
   {
    "duration": 37,
    "start_time": "2022-01-11T22:47:54.659Z"
   },
   {
    "duration": 41,
    "start_time": "2022-01-11T22:47:54.698Z"
   },
   {
    "duration": 105,
    "start_time": "2022-01-11T22:47:54.741Z"
   },
   {
    "duration": 80,
    "start_time": "2022-01-11T22:47:54.849Z"
   },
   {
    "duration": 791,
    "start_time": "2022-01-11T22:47:54.931Z"
   },
   {
    "duration": 3,
    "start_time": "2022-01-11T22:47:55.724Z"
   },
   {
    "duration": 2768,
    "start_time": "2022-01-11T22:47:55.729Z"
   },
   {
    "duration": 318,
    "start_time": "2022-01-11T22:47:58.499Z"
   },
   {
    "duration": 1021,
    "start_time": "2022-01-11T22:47:58.819Z"
   },
   {
    "duration": 26,
    "start_time": "2022-01-11T22:47:59.842Z"
   },
   {
    "duration": 35,
    "start_time": "2022-01-11T22:47:59.869Z"
   },
   {
    "duration": 18,
    "start_time": "2022-01-11T22:47:59.907Z"
   },
   {
    "duration": 15,
    "start_time": "2022-01-11T22:47:59.927Z"
   },
   {
    "duration": 54,
    "start_time": "2022-01-11T22:47:59.943Z"
   },
   {
    "duration": 30,
    "start_time": "2022-01-11T22:47:59.999Z"
   },
   {
    "duration": 30,
    "start_time": "2022-01-11T22:48:00.031Z"
   },
   {
    "duration": 755,
    "start_time": "2022-01-11T22:48:00.063Z"
   },
   {
    "duration": 27,
    "start_time": "2022-01-11T22:48:15.979Z"
   },
   {
    "duration": 28,
    "start_time": "2022-01-11T22:50:20.853Z"
   },
   {
    "duration": 28,
    "start_time": "2022-01-11T22:50:42.199Z"
   },
   {
    "duration": 42,
    "start_time": "2022-01-11T22:50:59.699Z"
   },
   {
    "duration": 73,
    "start_time": "2022-01-11T22:52:04.587Z"
   },
   {
    "duration": 12,
    "start_time": "2022-01-11T22:52:04.662Z"
   },
   {
    "duration": 13,
    "start_time": "2022-01-11T22:52:04.692Z"
   },
   {
    "duration": 31,
    "start_time": "2022-01-11T22:52:04.707Z"
   },
   {
    "duration": 36,
    "start_time": "2022-01-11T22:52:04.740Z"
   },
   {
    "duration": 52,
    "start_time": "2022-01-11T22:52:04.777Z"
   },
   {
    "duration": 4,
    "start_time": "2022-01-11T22:52:04.832Z"
   },
   {
    "duration": 20,
    "start_time": "2022-01-11T22:52:04.840Z"
   },
   {
    "duration": 72,
    "start_time": "2022-01-11T22:52:04.862Z"
   },
   {
    "duration": 109,
    "start_time": "2022-01-11T22:52:04.937Z"
   },
   {
    "duration": 68,
    "start_time": "2022-01-11T22:52:05.049Z"
   },
   {
    "duration": 795,
    "start_time": "2022-01-11T22:52:05.119Z"
   },
   {
    "duration": 3,
    "start_time": "2022-01-11T22:52:05.917Z"
   },
   {
    "duration": 3227,
    "start_time": "2022-01-11T22:52:05.922Z"
   },
   {
    "duration": 353,
    "start_time": "2022-01-11T22:52:09.152Z"
   },
   {
    "duration": 1380,
    "start_time": "2022-01-11T22:52:09.507Z"
   },
   {
    "duration": 28,
    "start_time": "2022-01-11T22:52:10.892Z"
   },
   {
    "duration": 25,
    "start_time": "2022-01-11T22:52:10.922Z"
   },
   {
    "duration": 43,
    "start_time": "2022-01-11T22:52:10.949Z"
   },
   {
    "duration": 15,
    "start_time": "2022-01-11T22:52:10.994Z"
   },
   {
    "duration": 31,
    "start_time": "2022-01-11T22:52:11.011Z"
   },
   {
    "duration": 53,
    "start_time": "2022-01-11T22:52:11.043Z"
   },
   {
    "duration": 27,
    "start_time": "2022-01-11T22:52:11.100Z"
   },
   {
    "duration": 26,
    "start_time": "2022-01-11T22:52:11.129Z"
   },
   {
    "duration": 60,
    "start_time": "2022-01-11T22:59:29.367Z"
   },
   {
    "duration": 7057,
    "start_time": "2022-01-11T22:59:32.479Z"
   },
   {
    "duration": 515,
    "start_time": "2022-01-11T23:00:34.779Z"
   },
   {
    "duration": 180,
    "start_time": "2022-01-11T23:03:11.520Z"
   },
   {
    "duration": 461,
    "start_time": "2022-01-11T23:03:24.633Z"
   },
   {
    "duration": 454,
    "start_time": "2022-01-11T23:03:30.272Z"
   },
   {
    "duration": 780,
    "start_time": "2022-01-11T23:03:40.054Z"
   },
   {
    "duration": 86,
    "start_time": "2022-01-11T23:04:03.969Z"
   },
   {
    "duration": 11,
    "start_time": "2022-01-11T23:04:04.057Z"
   },
   {
    "duration": 32,
    "start_time": "2022-01-11T23:04:04.070Z"
   },
   {
    "duration": 14,
    "start_time": "2022-01-11T23:04:04.104Z"
   },
   {
    "duration": 31,
    "start_time": "2022-01-11T23:04:04.120Z"
   },
   {
    "duration": 75,
    "start_time": "2022-01-11T23:04:04.153Z"
   },
   {
    "duration": 796,
    "start_time": "2022-01-11T23:04:04.231Z"
   },
   {
    "duration": 3,
    "start_time": "2022-01-11T23:04:05.030Z"
   },
   {
    "duration": 12,
    "start_time": "2022-01-11T23:04:05.035Z"
   },
   {
    "duration": 65,
    "start_time": "2022-01-11T23:04:05.049Z"
   },
   {
    "duration": 101,
    "start_time": "2022-01-11T23:04:05.116Z"
   },
   {
    "duration": 52,
    "start_time": "2022-01-11T23:04:05.219Z"
   },
   {
    "duration": 759,
    "start_time": "2022-01-11T23:04:05.273Z"
   },
   {
    "duration": 3,
    "start_time": "2022-01-11T23:04:06.034Z"
   },
   {
    "duration": 3212,
    "start_time": "2022-01-11T23:04:06.039Z"
   },
   {
    "duration": 343,
    "start_time": "2022-01-11T23:04:09.253Z"
   },
   {
    "duration": 924,
    "start_time": "2022-01-11T23:04:09.598Z"
   },
   {
    "duration": 30,
    "start_time": "2022-01-11T23:04:10.523Z"
   },
   {
    "duration": 24,
    "start_time": "2022-01-11T23:04:10.555Z"
   },
   {
    "duration": 28,
    "start_time": "2022-01-11T23:04:10.581Z"
   },
   {
    "duration": 16,
    "start_time": "2022-01-11T23:04:10.611Z"
   },
   {
    "duration": 30,
    "start_time": "2022-01-11T23:04:10.629Z"
   },
   {
    "duration": 57,
    "start_time": "2022-01-11T23:04:10.663Z"
   },
   {
    "duration": 27,
    "start_time": "2022-01-11T23:04:10.722Z"
   },
   {
    "duration": 47,
    "start_time": "2022-01-11T23:04:10.751Z"
   },
   {
    "duration": 67,
    "start_time": "2022-01-11T23:04:23.379Z"
   },
   {
    "duration": 9,
    "start_time": "2022-01-11T23:04:23.448Z"
   },
   {
    "duration": 23,
    "start_time": "2022-01-11T23:04:23.459Z"
   },
   {
    "duration": 19,
    "start_time": "2022-01-11T23:04:23.484Z"
   },
   {
    "duration": 46,
    "start_time": "2022-01-11T23:04:23.504Z"
   },
   {
    "duration": 40,
    "start_time": "2022-01-11T23:04:23.552Z"
   },
   {
    "duration": 866,
    "start_time": "2022-01-11T23:04:27.256Z"
   },
   {
    "duration": 729,
    "start_time": "2022-01-11T23:17:41.769Z"
   },
   {
    "duration": 890,
    "start_time": "2022-01-11T23:27:02.803Z"
   },
   {
    "duration": 740,
    "start_time": "2022-01-11T23:27:53.682Z"
   },
   {
    "duration": 801,
    "start_time": "2022-01-11T23:28:02.863Z"
   },
   {
    "duration": 69,
    "start_time": "2022-01-11T23:29:03.902Z"
   },
   {
    "duration": 9,
    "start_time": "2022-01-11T23:29:03.973Z"
   },
   {
    "duration": 9,
    "start_time": "2022-01-11T23:29:03.992Z"
   },
   {
    "duration": 13,
    "start_time": "2022-01-11T23:29:04.003Z"
   },
   {
    "duration": 30,
    "start_time": "2022-01-11T23:29:04.017Z"
   },
   {
    "duration": 69,
    "start_time": "2022-01-11T23:29:04.049Z"
   },
   {
    "duration": 812,
    "start_time": "2022-01-11T23:29:04.120Z"
   },
   {
    "duration": 4,
    "start_time": "2022-01-11T23:29:04.935Z"
   },
   {
    "duration": 13,
    "start_time": "2022-01-11T23:29:04.941Z"
   },
   {
    "duration": 65,
    "start_time": "2022-01-11T23:29:04.955Z"
   },
   {
    "duration": 96,
    "start_time": "2022-01-11T23:29:05.022Z"
   },
   {
    "duration": 51,
    "start_time": "2022-01-11T23:29:05.119Z"
   },
   {
    "duration": 735,
    "start_time": "2022-01-11T23:29:05.192Z"
   },
   {
    "duration": 3,
    "start_time": "2022-01-11T23:29:05.929Z"
   },
   {
    "duration": 3355,
    "start_time": "2022-01-11T23:29:08.917Z"
   },
   {
    "duration": 5664,
    "start_time": "2022-01-11T23:29:24.984Z"
   },
   {
    "duration": 26,
    "start_time": "2022-01-11T23:30:55.372Z"
   },
   {
    "duration": 205,
    "start_time": "2022-01-11T23:32:16.144Z"
   },
   {
    "duration": 75,
    "start_time": "2022-01-11T23:32:19.863Z"
   },
   {
    "duration": 10,
    "start_time": "2022-01-11T23:32:19.939Z"
   },
   {
    "duration": 9,
    "start_time": "2022-01-11T23:32:19.951Z"
   },
   {
    "duration": 41,
    "start_time": "2022-01-11T23:32:19.961Z"
   },
   {
    "duration": 41,
    "start_time": "2022-01-11T23:32:20.004Z"
   },
   {
    "duration": 58,
    "start_time": "2022-01-11T23:32:20.047Z"
   },
   {
    "duration": 846,
    "start_time": "2022-01-11T23:32:20.107Z"
   },
   {
    "duration": 4,
    "start_time": "2022-01-11T23:32:20.955Z"
   },
   {
    "duration": 16,
    "start_time": "2022-01-11T23:32:20.961Z"
   },
   {
    "duration": 52,
    "start_time": "2022-01-11T23:32:20.979Z"
   },
   {
    "duration": 105,
    "start_time": "2022-01-11T23:32:21.032Z"
   },
   {
    "duration": 61,
    "start_time": "2022-01-11T23:32:21.139Z"
   },
   {
    "duration": 792,
    "start_time": "2022-01-11T23:32:21.202Z"
   },
   {
    "duration": 3,
    "start_time": "2022-01-11T23:32:21.997Z"
   },
   {
    "duration": 6313,
    "start_time": "2022-01-11T23:32:22.003Z"
   },
   {
    "duration": 384,
    "start_time": "2022-01-11T23:32:28.319Z"
   },
   {
    "duration": 1094,
    "start_time": "2022-01-11T23:32:28.706Z"
   },
   {
    "duration": 27,
    "start_time": "2022-01-11T23:32:29.802Z"
   },
   {
    "duration": 24,
    "start_time": "2022-01-11T23:32:29.831Z"
   },
   {
    "duration": 41,
    "start_time": "2022-01-11T23:32:29.857Z"
   },
   {
    "duration": 19,
    "start_time": "2022-01-11T23:32:29.900Z"
   },
   {
    "duration": 32,
    "start_time": "2022-01-11T23:32:29.921Z"
   },
   {
    "duration": 49,
    "start_time": "2022-01-11T23:32:29.956Z"
   },
   {
    "duration": 31,
    "start_time": "2022-01-11T23:32:30.007Z"
   },
   {
    "duration": 836,
    "start_time": "2022-01-11T23:32:30.040Z"
   },
   {
    "duration": 32,
    "start_time": "2022-01-11T23:32:36.315Z"
   },
   {
    "duration": 64,
    "start_time": "2022-01-11T23:33:27.209Z"
   },
   {
    "duration": 1695,
    "start_time": "2022-01-11T23:33:34.755Z"
   },
   {
    "duration": 2002,
    "start_time": "2022-01-11T23:33:42.535Z"
   },
   {
    "duration": 35,
    "start_time": "2022-01-11T23:33:51.451Z"
   },
   {
    "duration": 47,
    "start_time": "2022-01-11T23:34:41.534Z"
   },
   {
    "duration": 921,
    "start_time": "2022-01-11T23:35:06.843Z"
   },
   {
    "duration": 38,
    "start_time": "2022-01-11T23:35:12.426Z"
   },
   {
    "duration": 223,
    "start_time": "2022-01-11T23:35:30.685Z"
   },
   {
    "duration": 48,
    "start_time": "2022-01-11T23:36:14.901Z"
   },
   {
    "duration": 67,
    "start_time": "2022-01-11T23:37:56.418Z"
   },
   {
    "duration": 10,
    "start_time": "2022-01-11T23:37:56.487Z"
   },
   {
    "duration": 9,
    "start_time": "2022-01-11T23:37:56.499Z"
   },
   {
    "duration": 14,
    "start_time": "2022-01-11T23:37:56.510Z"
   },
   {
    "duration": 28,
    "start_time": "2022-01-11T23:37:56.526Z"
   },
   {
    "duration": 69,
    "start_time": "2022-01-11T23:37:56.556Z"
   },
   {
    "duration": 889,
    "start_time": "2022-01-11T23:37:56.627Z"
   },
   {
    "duration": 4,
    "start_time": "2022-01-11T23:37:57.519Z"
   },
   {
    "duration": 13,
    "start_time": "2022-01-11T23:37:57.525Z"
   },
   {
    "duration": 64,
    "start_time": "2022-01-11T23:37:57.540Z"
   },
   {
    "duration": 103,
    "start_time": "2022-01-11T23:37:57.606Z"
   },
   {
    "duration": 53,
    "start_time": "2022-01-11T23:37:57.711Z"
   },
   {
    "duration": 770,
    "start_time": "2022-01-11T23:37:57.765Z"
   },
   {
    "duration": 3,
    "start_time": "2022-01-11T23:37:58.537Z"
   },
   {
    "duration": 6382,
    "start_time": "2022-01-11T23:37:58.542Z"
   },
   {
    "duration": 339,
    "start_time": "2022-01-11T23:38:04.926Z"
   },
   {
    "duration": 1053,
    "start_time": "2022-01-11T23:38:05.267Z"
   },
   {
    "duration": 27,
    "start_time": "2022-01-11T23:38:06.322Z"
   },
   {
    "duration": 43,
    "start_time": "2022-01-11T23:38:06.350Z"
   },
   {
    "duration": 19,
    "start_time": "2022-01-11T23:38:06.395Z"
   },
   {
    "duration": 16,
    "start_time": "2022-01-11T23:38:06.415Z"
   },
   {
    "duration": 30,
    "start_time": "2022-01-11T23:38:06.432Z"
   },
   {
    "duration": 53,
    "start_time": "2022-01-11T23:38:06.465Z"
   },
   {
    "duration": 29,
    "start_time": "2022-01-11T23:38:06.519Z"
   },
   {
    "duration": 63,
    "start_time": "2022-01-11T23:38:06.550Z"
   },
   {
    "duration": 68,
    "start_time": "2022-01-11T23:43:16.951Z"
   },
   {
    "duration": 9,
    "start_time": "2022-01-11T23:43:17.021Z"
   },
   {
    "duration": 9,
    "start_time": "2022-01-11T23:43:17.032Z"
   },
   {
    "duration": 13,
    "start_time": "2022-01-11T23:43:17.043Z"
   },
   {
    "duration": 60,
    "start_time": "2022-01-11T23:43:17.057Z"
   },
   {
    "duration": 38,
    "start_time": "2022-01-11T23:43:17.119Z"
   },
   {
    "duration": 852,
    "start_time": "2022-01-11T23:43:17.159Z"
   },
   {
    "duration": 4,
    "start_time": "2022-01-11T23:43:18.013Z"
   },
   {
    "duration": 12,
    "start_time": "2022-01-11T23:43:18.018Z"
   },
   {
    "duration": 60,
    "start_time": "2022-01-11T23:43:18.031Z"
   },
   {
    "duration": 85,
    "start_time": "2022-01-11T23:43:18.093Z"
   },
   {
    "duration": 57,
    "start_time": "2022-01-11T23:43:18.180Z"
   },
   {
    "duration": 762,
    "start_time": "2022-01-11T23:43:18.239Z"
   },
   {
    "duration": 3,
    "start_time": "2022-01-11T23:43:19.002Z"
   },
   {
    "duration": 5684,
    "start_time": "2022-01-11T23:43:19.007Z"
   },
   {
    "duration": 333,
    "start_time": "2022-01-11T23:43:24.693Z"
   },
   {
    "duration": 1058,
    "start_time": "2022-01-11T23:43:25.028Z"
   },
   {
    "duration": 432,
    "start_time": "2022-01-11T23:43:26.088Z"
   },
   {
    "duration": 23,
    "start_time": "2022-01-11T23:43:26.522Z"
   },
   {
    "duration": 22,
    "start_time": "2022-01-11T23:43:26.546Z"
   },
   {
    "duration": 32,
    "start_time": "2022-01-11T23:43:26.569Z"
   },
   {
    "duration": 30,
    "start_time": "2022-01-11T23:43:26.602Z"
   },
   {
    "duration": 28,
    "start_time": "2022-01-11T23:43:26.635Z"
   },
   {
    "duration": 49,
    "start_time": "2022-01-11T23:43:26.665Z"
   },
   {
    "duration": 37,
    "start_time": "2022-01-11T23:43:26.715Z"
   },
   {
    "duration": 74,
    "start_time": "2022-01-11T23:47:37.664Z"
   },
   {
    "duration": 11,
    "start_time": "2022-01-11T23:47:37.741Z"
   },
   {
    "duration": 11,
    "start_time": "2022-01-11T23:47:37.754Z"
   },
   {
    "duration": 17,
    "start_time": "2022-01-11T23:47:37.792Z"
   },
   {
    "duration": 30,
    "start_time": "2022-01-11T23:47:37.811Z"
   },
   {
    "duration": 73,
    "start_time": "2022-01-11T23:47:37.843Z"
   },
   {
    "duration": 812,
    "start_time": "2022-01-11T23:47:37.919Z"
   },
   {
    "duration": 4,
    "start_time": "2022-01-11T23:47:38.734Z"
   },
   {
    "duration": 14,
    "start_time": "2022-01-11T23:47:38.739Z"
   },
   {
    "duration": 59,
    "start_time": "2022-01-11T23:47:38.755Z"
   },
   {
    "duration": 89,
    "start_time": "2022-01-11T23:47:38.816Z"
   },
   {
    "duration": 50,
    "start_time": "2022-01-11T23:47:38.907Z"
   },
   {
    "duration": 754,
    "start_time": "2022-01-11T23:47:38.959Z"
   },
   {
    "duration": 3,
    "start_time": "2022-01-11T23:47:39.716Z"
   },
   {
    "duration": 5595,
    "start_time": "2022-01-11T23:47:39.721Z"
   },
   {
    "duration": 325,
    "start_time": "2022-01-11T23:47:45.318Z"
   },
   {
    "duration": 1014,
    "start_time": "2022-01-11T23:47:45.644Z"
   },
   {
    "duration": 35,
    "start_time": "2022-01-11T23:47:46.660Z"
   },
   {
    "duration": 24,
    "start_time": "2022-01-11T23:47:46.697Z"
   },
   {
    "duration": 18,
    "start_time": "2022-01-11T23:47:46.722Z"
   },
   {
    "duration": 18,
    "start_time": "2022-01-11T23:47:46.742Z"
   },
   {
    "duration": 55,
    "start_time": "2022-01-11T23:47:46.761Z"
   },
   {
    "duration": 28,
    "start_time": "2022-01-11T23:47:46.819Z"
   },
   {
    "duration": 46,
    "start_time": "2022-01-11T23:47:46.849Z"
   },
   {
    "duration": 36,
    "start_time": "2022-01-11T23:47:46.897Z"
   },
   {
    "duration": 27,
    "start_time": "2022-01-11T23:52:57.918Z"
   },
   {
    "duration": 48,
    "start_time": "2022-01-11T23:54:17.450Z"
   },
   {
    "duration": 29,
    "start_time": "2022-01-11T23:56:09.267Z"
   },
   {
    "duration": 30,
    "start_time": "2022-01-12T00:11:07.971Z"
   },
   {
    "duration": 185,
    "start_time": "2022-01-12T00:12:47.752Z"
   },
   {
    "duration": 31,
    "start_time": "2022-01-12T00:12:58.239Z"
   },
   {
    "duration": 28,
    "start_time": "2022-01-12T00:13:36.878Z"
   },
   {
    "duration": 217,
    "start_time": "2022-01-12T00:13:59.041Z"
   },
   {
    "duration": 662,
    "start_time": "2022-01-12T00:14:31.096Z"
   },
   {
    "duration": 28,
    "start_time": "2022-01-12T00:14:40.196Z"
   },
   {
    "duration": 28,
    "start_time": "2022-01-12T00:18:56.681Z"
   },
   {
    "duration": 57,
    "start_time": "2022-01-12T00:19:15.127Z"
   },
   {
    "duration": 26,
    "start_time": "2022-01-12T00:19:31.770Z"
   },
   {
    "duration": 65,
    "start_time": "2022-01-12T00:30:02.521Z"
   },
   {
    "duration": 96,
    "start_time": "2022-01-12T00:30:09.012Z"
   },
   {
    "duration": 37,
    "start_time": "2022-01-12T00:30:14.069Z"
   },
   {
    "duration": 65,
    "start_time": "2022-01-12T00:31:09.169Z"
   },
   {
    "duration": 56,
    "start_time": "2022-01-12T00:31:13.550Z"
   },
   {
    "duration": 176,
    "start_time": "2022-01-12T00:31:28.650Z"
   },
   {
    "duration": 44,
    "start_time": "2022-01-12T00:32:06.399Z"
   },
   {
    "duration": 35,
    "start_time": "2022-01-12T00:32:30.343Z"
   },
   {
    "duration": 34,
    "start_time": "2022-01-12T00:33:12.748Z"
   },
   {
    "duration": 45,
    "start_time": "2022-01-12T00:33:40.328Z"
   },
   {
    "duration": 28,
    "start_time": "2022-01-12T00:35:22.478Z"
   },
   {
    "duration": 178,
    "start_time": "2022-01-12T00:35:34.612Z"
   },
   {
    "duration": 184,
    "start_time": "2022-01-12T00:35:48.277Z"
   },
   {
    "duration": 23,
    "start_time": "2022-01-12T00:36:02.886Z"
   },
   {
    "duration": 20,
    "start_time": "2022-01-12T00:36:20.807Z"
   },
   {
    "duration": 18,
    "start_time": "2022-01-12T00:36:30.212Z"
   },
   {
    "duration": 19,
    "start_time": "2022-01-12T00:36:41.059Z"
   },
   {
    "duration": 20,
    "start_time": "2022-01-12T00:36:47.531Z"
   },
   {
    "duration": 202,
    "start_time": "2022-01-12T00:37:35.590Z"
   },
   {
    "duration": 193,
    "start_time": "2022-01-12T00:37:41.146Z"
   },
   {
    "duration": 197,
    "start_time": "2022-01-12T00:37:59.237Z"
   },
   {
    "duration": 238,
    "start_time": "2022-01-12T00:38:05.698Z"
   },
   {
    "duration": 202,
    "start_time": "2022-01-12T00:38:17.454Z"
   },
   {
    "duration": 208,
    "start_time": "2022-01-12T00:38:23.310Z"
   },
   {
    "duration": 17,
    "start_time": "2022-01-12T00:39:15.641Z"
   },
   {
    "duration": 28,
    "start_time": "2022-01-12T00:39:23.477Z"
   },
   {
    "duration": 28,
    "start_time": "2022-01-12T00:39:37.343Z"
   },
   {
    "duration": 340,
    "start_time": "2022-01-12T00:39:47.422Z"
   },
   {
    "duration": 18,
    "start_time": "2022-01-12T00:40:04.324Z"
   },
   {
    "duration": 182,
    "start_time": "2022-01-12T00:40:09.860Z"
   },
   {
    "duration": 4528,
    "start_time": "2022-01-12T00:40:21.784Z"
   },
   {
    "duration": 39,
    "start_time": "2022-01-12T00:41:06.257Z"
   },
   {
    "duration": 40,
    "start_time": "2022-01-12T00:41:35.623Z"
   },
   {
    "duration": 43,
    "start_time": "2022-01-12T00:42:02.145Z"
   },
   {
    "duration": 41,
    "start_time": "2022-01-12T00:42:35.209Z"
   },
   {
    "duration": 231,
    "start_time": "2022-01-12T00:43:00.785Z"
   },
   {
    "duration": 236,
    "start_time": "2022-01-12T00:43:04.791Z"
   },
   {
    "duration": 248,
    "start_time": "2022-01-12T00:43:08.257Z"
   },
   {
    "duration": 65,
    "start_time": "2022-01-12T00:44:16.225Z"
   },
   {
    "duration": 60,
    "start_time": "2022-01-12T00:44:19.470Z"
   },
   {
    "duration": 52,
    "start_time": "2022-01-12T00:44:29.420Z"
   },
   {
    "duration": 46,
    "start_time": "2022-01-12T00:45:02.442Z"
   },
   {
    "duration": 36,
    "start_time": "2022-01-12T00:45:23.978Z"
   },
   {
    "duration": 27,
    "start_time": "2022-01-12T00:45:37.939Z"
   },
   {
    "duration": 47,
    "start_time": "2022-01-12T00:46:02.287Z"
   },
   {
    "duration": 49,
    "start_time": "2022-01-12T00:49:05.058Z"
   },
   {
    "duration": 52,
    "start_time": "2022-01-12T00:50:07.552Z"
   },
   {
    "duration": 47,
    "start_time": "2022-01-12T00:50:16.877Z"
   },
   {
    "duration": 46,
    "start_time": "2022-01-12T00:50:35.061Z"
   },
   {
    "duration": 44,
    "start_time": "2022-01-12T00:51:26.317Z"
   },
   {
    "duration": 45,
    "start_time": "2022-01-12T00:51:59.243Z"
   },
   {
    "duration": 42,
    "start_time": "2022-01-12T00:52:23.122Z"
   },
   {
    "duration": 38,
    "start_time": "2022-01-12T00:53:22.965Z"
   },
   {
    "duration": 43,
    "start_time": "2022-01-12T00:54:12.051Z"
   },
   {
    "duration": 71,
    "start_time": "2022-01-12T00:57:39.336Z"
   },
   {
    "duration": 9,
    "start_time": "2022-01-12T00:57:39.409Z"
   },
   {
    "duration": 11,
    "start_time": "2022-01-12T00:57:39.420Z"
   },
   {
    "duration": 13,
    "start_time": "2022-01-12T00:57:39.432Z"
   },
   {
    "duration": 61,
    "start_time": "2022-01-12T00:57:39.447Z"
   },
   {
    "duration": 40,
    "start_time": "2022-01-12T00:57:39.510Z"
   },
   {
    "duration": 896,
    "start_time": "2022-01-12T00:57:39.552Z"
   },
   {
    "duration": 4,
    "start_time": "2022-01-12T00:57:40.450Z"
   },
   {
    "duration": 11,
    "start_time": "2022-01-12T00:57:40.456Z"
   },
   {
    "duration": 55,
    "start_time": "2022-01-12T00:57:40.469Z"
   },
   {
    "duration": 104,
    "start_time": "2022-01-12T00:57:40.526Z"
   },
   {
    "duration": 60,
    "start_time": "2022-01-12T00:57:40.632Z"
   },
   {
    "duration": 752,
    "start_time": "2022-01-12T00:57:40.694Z"
   },
   {
    "duration": 2,
    "start_time": "2022-01-12T00:57:41.448Z"
   },
   {
    "duration": 6195,
    "start_time": "2022-01-12T00:57:41.452Z"
   },
   {
    "duration": 328,
    "start_time": "2022-01-12T00:57:47.649Z"
   },
   {
    "duration": 1045,
    "start_time": "2022-01-12T00:57:47.979Z"
   },
   {
    "duration": 495,
    "start_time": "2022-01-12T00:57:49.026Z"
   },
   {
    "duration": 24,
    "start_time": "2022-01-12T00:57:49.523Z"
   },
   {
    "duration": 46,
    "start_time": "2022-01-12T00:57:49.549Z"
   },
   {
    "duration": 15,
    "start_time": "2022-01-12T00:57:49.597Z"
   },
   {
    "duration": 29,
    "start_time": "2022-01-12T00:57:49.614Z"
   },
   {
    "duration": 50,
    "start_time": "2022-01-12T00:57:49.646Z"
   },
   {
    "duration": 38,
    "start_time": "2022-01-12T00:57:49.698Z"
   },
   {
    "duration": 63,
    "start_time": "2022-01-12T00:57:49.738Z"
   },
   {
    "duration": 5,
    "start_time": "2022-01-12T00:57:49.803Z"
   },
   {
    "duration": 29,
    "start_time": "2022-01-12T00:57:49.810Z"
   },
   {
    "duration": 51,
    "start_time": "2022-01-12T00:57:49.841Z"
   },
   {
    "duration": 45,
    "start_time": "2022-01-12T00:57:49.895Z"
   },
   {
    "duration": 69,
    "start_time": "2022-01-12T01:44:40.617Z"
   },
   {
    "duration": 9,
    "start_time": "2022-01-12T01:44:40.688Z"
   },
   {
    "duration": 14,
    "start_time": "2022-01-12T01:44:40.698Z"
   },
   {
    "duration": 24,
    "start_time": "2022-01-12T01:44:40.713Z"
   },
   {
    "duration": 33,
    "start_time": "2022-01-12T01:44:40.739Z"
   },
   {
    "duration": 51,
    "start_time": "2022-01-12T01:44:40.773Z"
   },
   {
    "duration": 894,
    "start_time": "2022-01-12T01:44:40.825Z"
   },
   {
    "duration": 3,
    "start_time": "2022-01-12T01:44:41.722Z"
   },
   {
    "duration": 40,
    "start_time": "2022-01-12T01:44:41.728Z"
   },
   {
    "duration": 60,
    "start_time": "2022-01-12T01:44:41.770Z"
   },
   {
    "duration": 123,
    "start_time": "2022-01-12T01:44:41.832Z"
   },
   {
    "duration": 94,
    "start_time": "2022-01-12T01:44:41.957Z"
   },
   {
    "duration": 752,
    "start_time": "2022-01-12T01:44:42.053Z"
   },
   {
    "duration": 2,
    "start_time": "2022-01-12T01:44:42.807Z"
   },
   {
    "duration": 5386,
    "start_time": "2022-01-12T01:44:42.811Z"
   },
   {
    "duration": 335,
    "start_time": "2022-01-12T01:44:48.199Z"
   },
   {
    "duration": 1032,
    "start_time": "2022-01-12T01:44:48.536Z"
   },
   {
    "duration": 35,
    "start_time": "2022-01-12T01:44:49.569Z"
   },
   {
    "duration": 30,
    "start_time": "2022-01-12T01:44:49.605Z"
   },
   {
    "duration": 37,
    "start_time": "2022-01-12T01:44:49.636Z"
   },
   {
    "duration": 40,
    "start_time": "2022-01-12T01:44:49.675Z"
   },
   {
    "duration": 29,
    "start_time": "2022-01-12T01:44:49.718Z"
   },
   {
    "duration": 43,
    "start_time": "2022-01-12T01:44:49.750Z"
   },
   {
    "duration": 38,
    "start_time": "2022-01-12T01:44:49.794Z"
   },
   {
    "duration": 5,
    "start_time": "2022-01-12T01:44:49.833Z"
   },
   {
    "duration": 65,
    "start_time": "2022-01-12T01:44:49.840Z"
   },
   {
    "duration": 2558,
    "start_time": "2022-01-12T01:44:47.349Z"
   },
   {
    "duration": 2552,
    "start_time": "2022-01-12T01:44:47.356Z"
   },
   {
    "duration": 2550,
    "start_time": "2022-01-12T01:44:47.359Z"
   },
   {
    "duration": 12,
    "start_time": "2022-01-12T01:47:47.137Z"
   },
   {
    "duration": 4,
    "start_time": "2022-01-12T01:56:25.018Z"
   },
   {
    "duration": 29,
    "start_time": "2022-01-12T01:56:53.311Z"
   },
   {
    "duration": 70,
    "start_time": "2022-01-12T01:57:09.563Z"
   },
   {
    "duration": 12,
    "start_time": "2022-01-12T01:57:09.636Z"
   },
   {
    "duration": 10,
    "start_time": "2022-01-12T01:57:09.651Z"
   },
   {
    "duration": 14,
    "start_time": "2022-01-12T01:57:09.693Z"
   },
   {
    "duration": 31,
    "start_time": "2022-01-12T01:57:09.709Z"
   },
   {
    "duration": 71,
    "start_time": "2022-01-12T01:57:09.742Z"
   },
   {
    "duration": 920,
    "start_time": "2022-01-12T01:57:09.815Z"
   },
   {
    "duration": 3,
    "start_time": "2022-01-12T01:57:10.738Z"
   },
   {
    "duration": 14,
    "start_time": "2022-01-12T01:57:10.743Z"
   },
   {
    "duration": 63,
    "start_time": "2022-01-12T01:57:10.758Z"
   },
   {
    "duration": 103,
    "start_time": "2022-01-12T01:57:10.823Z"
   },
   {
    "duration": 67,
    "start_time": "2022-01-12T01:57:10.927Z"
   },
   {
    "duration": 773,
    "start_time": "2022-01-12T01:57:10.995Z"
   },
   {
    "duration": 5877,
    "start_time": "2022-01-12T01:57:11.770Z"
   },
   {
    "duration": 337,
    "start_time": "2022-01-12T01:57:17.649Z"
   },
   {
    "duration": 1039,
    "start_time": "2022-01-12T01:57:17.987Z"
   },
   {
    "duration": 27,
    "start_time": "2022-01-12T01:57:19.028Z"
   },
   {
    "duration": 44,
    "start_time": "2022-01-12T01:57:19.057Z"
   },
   {
    "duration": 17,
    "start_time": "2022-01-12T01:57:19.103Z"
   },
   {
    "duration": 29,
    "start_time": "2022-01-12T01:57:19.121Z"
   },
   {
    "duration": 56,
    "start_time": "2022-01-12T01:57:19.152Z"
   },
   {
    "duration": 25,
    "start_time": "2022-01-12T01:57:19.210Z"
   },
   {
    "duration": 57,
    "start_time": "2022-01-12T01:57:19.238Z"
   },
   {
    "duration": 5,
    "start_time": "2022-01-12T01:57:19.297Z"
   },
   {
    "duration": 73,
    "start_time": "2022-01-12T01:57:19.304Z"
   },
   {
    "duration": 2573,
    "start_time": "2022-01-12T01:57:16.806Z"
   },
   {
    "duration": 2565,
    "start_time": "2022-01-12T01:57:16.815Z"
   },
   {
    "duration": 2562,
    "start_time": "2022-01-12T01:57:16.819Z"
   },
   {
    "duration": 2560,
    "start_time": "2022-01-12T01:57:16.822Z"
   },
   {
    "duration": 2559,
    "start_time": "2022-01-12T01:57:16.824Z"
   },
   {
    "duration": 70,
    "start_time": "2022-01-12T01:58:00.462Z"
   },
   {
    "duration": 10,
    "start_time": "2022-01-12T01:58:00.534Z"
   },
   {
    "duration": 22,
    "start_time": "2022-01-12T01:58:00.546Z"
   },
   {
    "duration": 21,
    "start_time": "2022-01-12T01:58:00.571Z"
   },
   {
    "duration": 34,
    "start_time": "2022-01-12T01:58:00.594Z"
   },
   {
    "duration": 39,
    "start_time": "2022-01-12T01:58:00.629Z"
   },
   {
    "duration": 1413,
    "start_time": "2022-01-12T01:58:00.670Z"
   },
   {
    "duration": 9,
    "start_time": "2022-01-12T01:58:02.085Z"
   },
   {
    "duration": 18,
    "start_time": "2022-01-12T01:58:02.096Z"
   },
   {
    "duration": 43,
    "start_time": "2022-01-12T01:58:02.116Z"
   },
   {
    "duration": 131,
    "start_time": "2022-01-12T01:58:02.160Z"
   },
   {
    "duration": 51,
    "start_time": "2022-01-12T01:58:02.293Z"
   },
   {
    "duration": 771,
    "start_time": "2022-01-12T01:58:02.346Z"
   },
   {
    "duration": 5694,
    "start_time": "2022-01-12T01:58:03.119Z"
   },
   {
    "duration": 345,
    "start_time": "2022-01-12T01:58:08.815Z"
   },
   {
    "duration": 1048,
    "start_time": "2022-01-12T01:58:09.162Z"
   },
   {
    "duration": 29,
    "start_time": "2022-01-12T01:58:10.212Z"
   },
   {
    "duration": 23,
    "start_time": "2022-01-12T01:58:10.243Z"
   },
   {
    "duration": 39,
    "start_time": "2022-01-12T01:58:10.267Z"
   },
   {
    "duration": 29,
    "start_time": "2022-01-12T01:58:10.308Z"
   },
   {
    "duration": 29,
    "start_time": "2022-01-12T01:58:10.339Z"
   },
   {
    "duration": 49,
    "start_time": "2022-01-12T01:58:10.369Z"
   },
   {
    "duration": 39,
    "start_time": "2022-01-12T01:58:10.422Z"
   },
   {
    "duration": 53,
    "start_time": "2022-01-12T01:58:10.463Z"
   },
   {
    "duration": 27,
    "start_time": "2022-01-12T01:58:10.518Z"
   },
   {
    "duration": 58,
    "start_time": "2022-01-12T01:58:10.547Z"
   },
   {
    "duration": 633,
    "start_time": "2022-01-13T12:58:09.415Z"
   },
   {
    "duration": 10,
    "start_time": "2022-01-13T12:58:10.051Z"
   },
   {
    "duration": 16,
    "start_time": "2022-01-13T12:58:10.064Z"
   },
   {
    "duration": 16,
    "start_time": "2022-01-13T12:58:10.092Z"
   },
   {
    "duration": 59,
    "start_time": "2022-01-13T12:58:10.109Z"
   },
   {
    "duration": 40,
    "start_time": "2022-01-13T12:58:10.170Z"
   },
   {
    "duration": 816,
    "start_time": "2022-01-13T12:58:10.211Z"
   },
   {
    "duration": 4,
    "start_time": "2022-01-13T12:58:11.030Z"
   },
   {
    "duration": 16,
    "start_time": "2022-01-13T12:58:11.036Z"
   },
   {
    "duration": 60,
    "start_time": "2022-01-13T12:58:11.054Z"
   },
   {
    "duration": 98,
    "start_time": "2022-01-13T12:58:11.115Z"
   },
   {
    "duration": 54,
    "start_time": "2022-01-13T12:58:11.215Z"
   },
   {
    "duration": 729,
    "start_time": "2022-01-13T12:58:11.290Z"
   },
   {
    "duration": 5763,
    "start_time": "2022-01-13T12:58:12.021Z"
   },
   {
    "duration": 311,
    "start_time": "2022-01-13T12:58:17.792Z"
   },
   {
    "duration": 1013,
    "start_time": "2022-01-13T12:58:18.105Z"
   },
   {
    "duration": 88,
    "start_time": "2022-01-13T12:58:19.119Z"
   },
   {
    "duration": 22,
    "start_time": "2022-01-13T12:58:19.209Z"
   },
   {
    "duration": 37,
    "start_time": "2022-01-13T12:58:19.232Z"
   },
   {
    "duration": 70,
    "start_time": "2022-01-13T12:58:19.271Z"
   },
   {
    "duration": 29,
    "start_time": "2022-01-13T12:58:19.343Z"
   },
   {
    "duration": 28,
    "start_time": "2022-01-13T12:58:19.373Z"
   },
   {
    "duration": 34,
    "start_time": "2022-01-13T12:58:19.405Z"
   },
   {
    "duration": 27,
    "start_time": "2022-01-13T12:58:19.440Z"
   },
   {
    "duration": 50,
    "start_time": "2022-01-13T12:58:19.469Z"
   },
   {
    "duration": 43,
    "start_time": "2022-01-13T12:58:19.520Z"
   },
   {
    "duration": 27,
    "start_time": "2022-01-13T13:06:50.476Z"
   },
   {
    "duration": 21,
    "start_time": "2022-01-13T13:14:55.264Z"
   },
   {
    "duration": 43,
    "start_time": "2022-01-13T13:15:21.413Z"
   },
   {
    "duration": 644,
    "start_time": "2022-01-13T13:15:34.196Z"
   },
   {
    "duration": 9,
    "start_time": "2022-01-13T13:15:34.842Z"
   },
   {
    "duration": 13,
    "start_time": "2022-01-13T13:15:34.853Z"
   },
   {
    "duration": 28,
    "start_time": "2022-01-13T13:15:34.868Z"
   },
   {
    "duration": 44,
    "start_time": "2022-01-13T13:15:34.898Z"
   },
   {
    "duration": 46,
    "start_time": "2022-01-13T13:15:34.944Z"
   },
   {
    "duration": 823,
    "start_time": "2022-01-13T13:15:34.992Z"
   },
   {
    "duration": 4,
    "start_time": "2022-01-13T13:15:35.817Z"
   },
   {
    "duration": 12,
    "start_time": "2022-01-13T13:15:35.823Z"
   },
   {
    "duration": 64,
    "start_time": "2022-01-13T13:15:35.837Z"
   },
   {
    "duration": 91,
    "start_time": "2022-01-13T13:15:35.903Z"
   },
   {
    "duration": 51,
    "start_time": "2022-01-13T13:15:35.997Z"
   },
   {
    "duration": 15,
    "start_time": "2022-01-13T13:15:36.049Z"
   },
   {
    "duration": 699,
    "start_time": "2022-01-13T13:15:36.092Z"
   },
   {
    "duration": 5606,
    "start_time": "2022-01-13T13:15:36.793Z"
   },
   {
    "duration": 317,
    "start_time": "2022-01-13T13:15:42.401Z"
   },
   {
    "duration": 1017,
    "start_time": "2022-01-13T13:15:42.721Z"
   },
   {
    "duration": 86,
    "start_time": "2022-01-13T13:15:43.740Z"
   },
   {
    "duration": 22,
    "start_time": "2022-01-13T13:15:43.828Z"
   },
   {
    "duration": 40,
    "start_time": "2022-01-13T13:15:43.851Z"
   },
   {
    "duration": 28,
    "start_time": "2022-01-13T13:15:43.893Z"
   },
   {
    "duration": 27,
    "start_time": "2022-01-13T13:15:43.922Z"
   },
   {
    "duration": 47,
    "start_time": "2022-01-13T13:15:43.950Z"
   },
   {
    "duration": 36,
    "start_time": "2022-01-13T13:15:43.998Z"
   },
   {
    "duration": 26,
    "start_time": "2022-01-13T13:15:44.035Z"
   },
   {
    "duration": 50,
    "start_time": "2022-01-13T13:15:44.062Z"
   },
   {
    "duration": 41,
    "start_time": "2022-01-13T13:15:44.114Z"
   },
   {
    "duration": 218,
    "start_time": "2022-01-14T17:16:53.188Z"
   },
   {
    "duration": 184,
    "start_time": "2022-01-14T17:16:58.044Z"
   },
   {
    "duration": 544,
    "start_time": "2022-01-14T17:17:00.785Z"
   },
   {
    "duration": 56,
    "start_time": "2022-01-14T17:17:02.803Z"
   },
   {
    "duration": 206,
    "start_time": "2022-01-14T17:17:04.285Z"
   },
   {
    "duration": 4,
    "start_time": "2022-01-14T17:17:18.880Z"
   },
   {
    "duration": 11,
    "start_time": "2022-01-14T17:27:03.901Z"
   },
   {
    "duration": 49,
    "start_time": "2022-01-14T17:29:04.417Z"
   },
   {
    "duration": 10,
    "start_time": "2022-01-14T17:29:06.498Z"
   },
   {
    "duration": 48,
    "start_time": "2022-01-14T17:29:58.247Z"
   },
   {
    "duration": 47,
    "start_time": "2022-01-14T17:30:03.726Z"
   },
   {
    "duration": 5,
    "start_time": "2022-01-14T17:33:41.350Z"
   },
   {
    "duration": 69,
    "start_time": "2022-01-14T17:35:04.288Z"
   },
   {
    "duration": 85,
    "start_time": "2022-01-14T17:35:12.094Z"
   },
   {
    "duration": 235,
    "start_time": "2022-01-14T17:49:24.721Z"
   },
   {
    "duration": 289,
    "start_time": "2022-01-14T17:49:41.391Z"
   },
   {
    "duration": 216,
    "start_time": "2022-01-14T17:50:13.688Z"
   },
   {
    "duration": 177,
    "start_time": "2022-01-14T17:50:21.502Z"
   },
   {
    "duration": 209,
    "start_time": "2022-01-14T17:50:32.603Z"
   },
   {
    "duration": 12,
    "start_time": "2022-01-14T17:52:27.439Z"
   },
   {
    "duration": 20,
    "start_time": "2022-01-14T17:52:39.393Z"
   },
   {
    "duration": 19,
    "start_time": "2022-01-14T17:52:44.441Z"
   },
   {
    "duration": 224,
    "start_time": "2022-01-14T17:52:48.302Z"
   },
   {
    "duration": 202,
    "start_time": "2022-01-14T17:52:58.215Z"
   },
   {
    "duration": 271,
    "start_time": "2022-01-14T18:01:15.402Z"
   },
   {
    "duration": 220,
    "start_time": "2022-01-14T18:01:29.783Z"
   },
   {
    "duration": 3,
    "start_time": "2022-01-14T18:15:40.903Z"
   },
   {
    "duration": 49,
    "start_time": "2022-01-14T18:15:40.908Z"
   },
   {
    "duration": 10,
    "start_time": "2022-01-14T18:15:40.959Z"
   },
   {
    "duration": 9,
    "start_time": "2022-01-14T18:15:40.971Z"
   },
   {
    "duration": 8,
    "start_time": "2022-01-14T18:15:40.981Z"
   },
   {
    "duration": 24,
    "start_time": "2022-01-14T18:15:40.991Z"
   },
   {
    "duration": 230,
    "start_time": "2022-01-14T18:15:41.017Z"
   },
   {
    "duration": 214,
    "start_time": "2022-01-14T18:15:41.249Z"
   },
   {
    "duration": 26,
    "start_time": "2022-01-14T18:15:41.465Z"
   },
   {
    "duration": 57,
    "start_time": "2022-01-14T18:15:41.493Z"
   },
   {
    "duration": 647,
    "start_time": "2022-01-14T18:15:41.551Z"
   },
   {
    "duration": 3,
    "start_time": "2022-01-14T18:15:42.199Z"
   },
   {
    "duration": 13,
    "start_time": "2022-01-14T18:15:42.211Z"
   },
   {
    "duration": 29,
    "start_time": "2022-01-14T18:15:42.226Z"
   },
   {
    "duration": 202,
    "start_time": "2022-01-14T18:15:42.256Z"
   },
   {
    "duration": 477,
    "start_time": "2022-01-14T18:15:41.983Z"
   },
   {
    "duration": 19,
    "start_time": "2022-01-14T18:16:48.401Z"
   },
   {
    "duration": 27,
    "start_time": "2022-01-14T18:17:38.550Z"
   },
   {
    "duration": 3,
    "start_time": "2022-01-14T18:17:46.488Z"
   },
   {
    "duration": 51,
    "start_time": "2022-01-14T18:17:46.503Z"
   },
   {
    "duration": 10,
    "start_time": "2022-01-14T18:17:46.556Z"
   },
   {
    "duration": 9,
    "start_time": "2022-01-14T18:17:46.568Z"
   },
   {
    "duration": 9,
    "start_time": "2022-01-14T18:17:46.579Z"
   },
   {
    "duration": 27,
    "start_time": "2022-01-14T18:17:46.589Z"
   },
   {
    "duration": 223,
    "start_time": "2022-01-14T18:17:46.618Z"
   },
   {
    "duration": 198,
    "start_time": "2022-01-14T18:17:46.842Z"
   },
   {
    "duration": 27,
    "start_time": "2022-01-14T18:17:47.042Z"
   },
   {
    "duration": 51,
    "start_time": "2022-01-14T18:17:47.070Z"
   },
   {
    "duration": 763,
    "start_time": "2022-01-14T18:17:47.123Z"
   },
   {
    "duration": 3,
    "start_time": "2022-01-14T18:17:47.887Z"
   },
   {
    "duration": 11,
    "start_time": "2022-01-14T18:17:47.891Z"
   },
   {
    "duration": 2,
    "start_time": "2022-01-14T18:17:58.099Z"
   },
   {
    "duration": 50,
    "start_time": "2022-01-14T18:17:58.113Z"
   },
   {
    "duration": 10,
    "start_time": "2022-01-14T18:17:58.165Z"
   },
   {
    "duration": 10,
    "start_time": "2022-01-14T18:17:58.177Z"
   },
   {
    "duration": 24,
    "start_time": "2022-01-14T18:17:58.188Z"
   },
   {
    "duration": 10,
    "start_time": "2022-01-14T18:17:58.213Z"
   },
   {
    "duration": 223,
    "start_time": "2022-01-14T18:17:58.224Z"
   },
   {
    "duration": 196,
    "start_time": "2022-01-14T18:17:58.448Z"
   },
   {
    "duration": 27,
    "start_time": "2022-01-14T18:17:58.646Z"
   },
   {
    "duration": 55,
    "start_time": "2022-01-14T18:17:58.676Z"
   },
   {
    "duration": 657,
    "start_time": "2022-01-14T18:17:58.733Z"
   },
   {
    "duration": 4,
    "start_time": "2022-01-14T18:17:59.391Z"
   },
   {
    "duration": 21,
    "start_time": "2022-01-14T18:17:59.397Z"
   },
   {
    "duration": 30,
    "start_time": "2022-01-14T18:17:59.419Z"
   },
   {
    "duration": 214,
    "start_time": "2022-01-14T18:17:59.450Z"
   },
   {
    "duration": 466,
    "start_time": "2022-01-14T18:17:59.200Z"
   },
   {
    "duration": 463,
    "start_time": "2022-01-14T18:17:59.204Z"
   },
   {
    "duration": 461,
    "start_time": "2022-01-14T18:17:59.207Z"
   },
   {
    "duration": 459,
    "start_time": "2022-01-14T18:17:59.210Z"
   },
   {
    "duration": 456,
    "start_time": "2022-01-14T18:17:59.213Z"
   },
   {
    "duration": 454,
    "start_time": "2022-01-14T18:17:59.217Z"
   },
   {
    "duration": 451,
    "start_time": "2022-01-14T18:17:59.220Z"
   },
   {
    "duration": 449,
    "start_time": "2022-01-14T18:17:59.223Z"
   },
   {
    "duration": 447,
    "start_time": "2022-01-14T18:17:59.226Z"
   },
   {
    "duration": 445,
    "start_time": "2022-01-14T18:17:59.229Z"
   },
   {
    "duration": 444,
    "start_time": "2022-01-14T18:17:59.231Z"
   },
   {
    "duration": 441,
    "start_time": "2022-01-14T18:17:59.235Z"
   },
   {
    "duration": 434,
    "start_time": "2022-01-14T18:17:59.243Z"
   },
   {
    "duration": 432,
    "start_time": "2022-01-14T18:17:59.246Z"
   },
   {
    "duration": 430,
    "start_time": "2022-01-14T18:17:59.249Z"
   },
   {
    "duration": 28,
    "start_time": "2022-01-14T18:20:11.204Z"
   },
   {
    "duration": 2,
    "start_time": "2022-01-14T18:20:17.570Z"
   },
   {
    "duration": 57,
    "start_time": "2022-01-14T18:20:17.574Z"
   },
   {
    "duration": 10,
    "start_time": "2022-01-14T18:20:17.633Z"
   },
   {
    "duration": 13,
    "start_time": "2022-01-14T18:20:17.645Z"
   },
   {
    "duration": 7,
    "start_time": "2022-01-14T18:20:17.659Z"
   },
   {
    "duration": 13,
    "start_time": "2022-01-14T18:20:17.667Z"
   },
   {
    "duration": 232,
    "start_time": "2022-01-14T18:20:17.682Z"
   },
   {
    "duration": 198,
    "start_time": "2022-01-14T18:20:17.915Z"
   },
   {
    "duration": 27,
    "start_time": "2022-01-14T18:20:18.114Z"
   },
   {
    "duration": 39,
    "start_time": "2022-01-14T18:20:18.142Z"
   },
   {
    "duration": 665,
    "start_time": "2022-01-14T18:20:18.182Z"
   },
   {
    "duration": 3,
    "start_time": "2022-01-14T18:20:18.848Z"
   },
   {
    "duration": 11,
    "start_time": "2022-01-14T18:20:18.852Z"
   },
   {
    "duration": 31,
    "start_time": "2022-01-14T18:20:23.149Z"
   },
   {
    "duration": 208,
    "start_time": "2022-01-14T18:21:23.750Z"
   },
   {
    "duration": 4,
    "start_time": "2022-01-14T18:21:59.026Z"
   },
   {
    "duration": 50,
    "start_time": "2022-01-14T18:21:59.032Z"
   },
   {
    "duration": 10,
    "start_time": "2022-01-14T18:21:59.084Z"
   },
   {
    "duration": 11,
    "start_time": "2022-01-14T18:21:59.096Z"
   },
   {
    "duration": 11,
    "start_time": "2022-01-14T18:21:59.112Z"
   },
   {
    "duration": 16,
    "start_time": "2022-01-14T18:21:59.124Z"
   },
   {
    "duration": 255,
    "start_time": "2022-01-14T18:21:59.142Z"
   },
   {
    "duration": 264,
    "start_time": "2022-01-14T18:21:59.400Z"
   },
   {
    "duration": 27,
    "start_time": "2022-01-14T18:21:59.666Z"
   },
   {
    "duration": 46,
    "start_time": "2022-01-14T18:21:59.694Z"
   },
   {
    "duration": 731,
    "start_time": "2022-01-14T18:21:59.742Z"
   },
   {
    "duration": 3,
    "start_time": "2022-01-14T18:22:00.475Z"
   },
   {
    "duration": 11,
    "start_time": "2022-01-14T18:22:00.480Z"
   },
   {
    "duration": 46,
    "start_time": "2022-01-14T18:22:00.493Z"
   },
   {
    "duration": 229,
    "start_time": "2022-01-14T18:22:47.896Z"
   },
   {
    "duration": 3,
    "start_time": "2022-01-14T18:23:04.116Z"
   },
   {
    "duration": 194,
    "start_time": "2022-01-14T18:25:35.767Z"
   },
   {
    "duration": 199,
    "start_time": "2022-01-14T18:27:29.561Z"
   },
   {
    "duration": 64,
    "start_time": "2022-01-14T18:28:21.683Z"
   },
   {
    "duration": 72,
    "start_time": "2022-01-14T18:29:50.719Z"
   },
   {
    "duration": 402,
    "start_time": "2022-01-14T18:29:55.986Z"
   },
   {
    "duration": 565,
    "start_time": "2022-01-14T18:30:03.142Z"
   },
   {
    "duration": 44,
    "start_time": "2022-01-14T18:30:08.821Z"
   },
   {
    "duration": 42,
    "start_time": "2022-01-14T18:30:31.827Z"
   },
   {
    "duration": 4,
    "start_time": "2022-01-14T18:32:10.217Z"
   },
   {
    "duration": 52,
    "start_time": "2022-01-14T18:32:10.223Z"
   },
   {
    "duration": 11,
    "start_time": "2022-01-14T18:32:10.277Z"
   },
   {
    "duration": 32,
    "start_time": "2022-01-14T18:32:10.290Z"
   },
   {
    "duration": 8,
    "start_time": "2022-01-14T18:32:10.324Z"
   },
   {
    "duration": 10,
    "start_time": "2022-01-14T18:32:10.334Z"
   },
   {
    "duration": 244,
    "start_time": "2022-01-14T18:32:10.346Z"
   },
   {
    "duration": 218,
    "start_time": "2022-01-14T18:32:10.592Z"
   },
   {
    "duration": 34,
    "start_time": "2022-01-14T18:32:10.812Z"
   },
   {
    "duration": 42,
    "start_time": "2022-01-14T18:32:10.847Z"
   },
   {
    "duration": 736,
    "start_time": "2022-01-14T18:32:10.891Z"
   },
   {
    "duration": 3,
    "start_time": "2022-01-14T18:32:11.629Z"
   },
   {
    "duration": 10,
    "start_time": "2022-01-14T18:32:11.634Z"
   },
   {
    "duration": 41,
    "start_time": "2022-01-14T18:32:14.541Z"
   },
   {
    "duration": 47,
    "start_time": "2022-01-14T18:33:20.438Z"
   },
   {
    "duration": 3,
    "start_time": "2022-01-14T18:34:39.050Z"
   },
   {
    "duration": 52,
    "start_time": "2022-01-14T18:34:39.055Z"
   },
   {
    "duration": 12,
    "start_time": "2022-01-14T18:34:39.109Z"
   },
   {
    "duration": 10,
    "start_time": "2022-01-14T18:34:39.122Z"
   },
   {
    "duration": 7,
    "start_time": "2022-01-14T18:34:39.133Z"
   },
   {
    "duration": 10,
    "start_time": "2022-01-14T18:34:39.142Z"
   },
   {
    "duration": 253,
    "start_time": "2022-01-14T18:34:39.154Z"
   },
   {
    "duration": 194,
    "start_time": "2022-01-14T18:34:39.414Z"
   },
   {
    "duration": 25,
    "start_time": "2022-01-14T18:34:39.609Z"
   },
   {
    "duration": 34,
    "start_time": "2022-01-14T18:34:39.636Z"
   },
   {
    "duration": 823,
    "start_time": "2022-01-14T18:34:39.671Z"
   },
   {
    "duration": 3,
    "start_time": "2022-01-14T18:34:40.495Z"
   },
   {
    "duration": 17,
    "start_time": "2022-01-14T18:34:40.500Z"
   },
   {
    "duration": 222,
    "start_time": "2022-01-14T18:34:40.519Z"
   },
   {
    "duration": 479,
    "start_time": "2022-01-14T18:34:40.264Z"
   },
   {
    "duration": 477,
    "start_time": "2022-01-14T18:34:40.267Z"
   },
   {
    "duration": 475,
    "start_time": "2022-01-14T18:34:40.270Z"
   },
   {
    "duration": 473,
    "start_time": "2022-01-14T18:34:40.273Z"
   },
   {
    "duration": 470,
    "start_time": "2022-01-14T18:34:40.276Z"
   },
   {
    "duration": 468,
    "start_time": "2022-01-14T18:34:40.279Z"
   },
   {
    "duration": 466,
    "start_time": "2022-01-14T18:34:40.282Z"
   },
   {
    "duration": 459,
    "start_time": "2022-01-14T18:34:40.290Z"
   },
   {
    "duration": 457,
    "start_time": "2022-01-14T18:34:40.293Z"
   },
   {
    "duration": 455,
    "start_time": "2022-01-14T18:34:40.295Z"
   },
   {
    "duration": 453,
    "start_time": "2022-01-14T18:34:40.298Z"
   },
   {
    "duration": 450,
    "start_time": "2022-01-14T18:34:40.302Z"
   },
   {
    "duration": 448,
    "start_time": "2022-01-14T18:34:40.305Z"
   },
   {
    "duration": 446,
    "start_time": "2022-01-14T18:34:40.308Z"
   },
   {
    "duration": 445,
    "start_time": "2022-01-14T18:34:40.310Z"
   },
   {
    "duration": 442,
    "start_time": "2022-01-14T18:34:40.313Z"
   },
   {
    "duration": 185,
    "start_time": "2022-01-14T18:36:06.627Z"
   },
   {
    "duration": 273,
    "start_time": "2022-01-14T18:36:45.953Z"
   },
   {
    "duration": 3,
    "start_time": "2022-01-14T18:37:03.376Z"
   },
   {
    "duration": 51,
    "start_time": "2022-01-14T18:37:03.381Z"
   },
   {
    "duration": 11,
    "start_time": "2022-01-14T18:37:03.435Z"
   },
   {
    "duration": 9,
    "start_time": "2022-01-14T18:37:03.448Z"
   },
   {
    "duration": 7,
    "start_time": "2022-01-14T18:37:03.458Z"
   },
   {
    "duration": 9,
    "start_time": "2022-01-14T18:37:03.467Z"
   },
   {
    "duration": 248,
    "start_time": "2022-01-14T18:37:03.478Z"
   },
   {
    "duration": 196,
    "start_time": "2022-01-14T18:37:03.728Z"
   },
   {
    "duration": 23,
    "start_time": "2022-01-14T18:37:03.926Z"
   },
   {
    "duration": 37,
    "start_time": "2022-01-14T18:37:03.951Z"
   },
   {
    "duration": 690,
    "start_time": "2022-01-14T18:37:03.989Z"
   },
   {
    "duration": 3,
    "start_time": "2022-01-14T18:37:04.681Z"
   },
   {
    "duration": 11,
    "start_time": "2022-01-14T18:37:04.685Z"
   },
   {
    "duration": 48,
    "start_time": "2022-01-14T18:37:38.190Z"
   },
   {
    "duration": 82,
    "start_time": "2022-01-14T18:38:27.171Z"
   },
   {
    "duration": 46,
    "start_time": "2022-01-14T18:38:54.412Z"
   },
   {
    "duration": 47,
    "start_time": "2022-01-14T18:39:32.070Z"
   },
   {
    "duration": 75,
    "start_time": "2022-01-14T18:39:49.216Z"
   },
   {
    "duration": 77,
    "start_time": "2022-01-14T18:40:02.480Z"
   },
   {
    "duration": 76,
    "start_time": "2022-01-14T18:40:13.816Z"
   },
   {
    "duration": 55,
    "start_time": "2022-01-14T18:40:43.015Z"
   },
   {
    "duration": 71,
    "start_time": "2022-01-14T18:40:53.384Z"
   },
   {
    "duration": 65,
    "start_time": "2022-01-14T18:41:37.045Z"
   },
   {
    "duration": 233,
    "start_time": "2022-01-14T18:41:58.108Z"
   },
   {
    "duration": 76,
    "start_time": "2022-01-14T18:42:11.703Z"
   },
   {
    "duration": 81,
    "start_time": "2022-01-14T18:43:19.377Z"
   },
   {
    "duration": 75,
    "start_time": "2022-01-14T18:43:28.851Z"
   },
   {
    "duration": 65,
    "start_time": "2022-01-14T18:43:50.624Z"
   },
   {
    "duration": 74,
    "start_time": "2022-01-14T18:43:55.963Z"
   },
   {
    "duration": 3,
    "start_time": "2022-01-14T18:46:33.222Z"
   },
   {
    "duration": 52,
    "start_time": "2022-01-14T18:46:33.227Z"
   },
   {
    "duration": 9,
    "start_time": "2022-01-14T18:46:33.281Z"
   },
   {
    "duration": 10,
    "start_time": "2022-01-14T18:46:33.292Z"
   },
   {
    "duration": 12,
    "start_time": "2022-01-14T18:46:33.304Z"
   },
   {
    "duration": 9,
    "start_time": "2022-01-14T18:46:33.318Z"
   },
   {
    "duration": 224,
    "start_time": "2022-01-14T18:46:33.328Z"
   },
   {
    "duration": 189,
    "start_time": "2022-01-14T18:46:33.554Z"
   },
   {
    "duration": 24,
    "start_time": "2022-01-14T18:46:33.745Z"
   },
   {
    "duration": 46,
    "start_time": "2022-01-14T18:46:33.770Z"
   },
   {
    "duration": 665,
    "start_time": "2022-01-14T18:46:33.818Z"
   },
   {
    "duration": 3,
    "start_time": "2022-01-14T18:46:34.484Z"
   },
   {
    "duration": 12,
    "start_time": "2022-01-14T18:46:34.489Z"
   },
   {
    "duration": 45,
    "start_time": "2022-01-14T18:46:34.512Z"
   },
   {
    "duration": 88,
    "start_time": "2022-01-14T18:46:34.558Z"
   },
   {
    "duration": 78,
    "start_time": "2022-01-14T18:46:36.659Z"
   },
   {
    "duration": 69,
    "start_time": "2022-01-14T18:46:57.057Z"
   },
   {
    "duration": 3,
    "start_time": "2022-01-14T18:52:11.644Z"
   },
   {
    "duration": 54,
    "start_time": "2022-01-14T18:52:11.648Z"
   },
   {
    "duration": 10,
    "start_time": "2022-01-14T18:52:11.703Z"
   },
   {
    "duration": 11,
    "start_time": "2022-01-14T18:52:11.714Z"
   },
   {
    "duration": 8,
    "start_time": "2022-01-14T18:52:11.726Z"
   },
   {
    "duration": 10,
    "start_time": "2022-01-14T18:52:11.735Z"
   },
   {
    "duration": 232,
    "start_time": "2022-01-14T18:52:11.747Z"
   },
   {
    "duration": 194,
    "start_time": "2022-01-14T18:52:11.980Z"
   },
   {
    "duration": 25,
    "start_time": "2022-01-14T18:52:12.175Z"
   },
   {
    "duration": 42,
    "start_time": "2022-01-14T18:52:12.201Z"
   },
   {
    "duration": 646,
    "start_time": "2022-01-14T18:52:12.245Z"
   },
   {
    "duration": 3,
    "start_time": "2022-01-14T18:52:12.892Z"
   },
   {
    "duration": 19,
    "start_time": "2022-01-14T18:52:12.896Z"
   },
   {
    "duration": 56,
    "start_time": "2022-01-14T18:52:12.916Z"
   },
   {
    "duration": 84,
    "start_time": "2022-01-14T18:52:12.973Z"
   },
   {
    "duration": 64,
    "start_time": "2022-01-14T18:52:15.411Z"
   },
   {
    "duration": 71,
    "start_time": "2022-01-14T19:06:12.438Z"
   },
   {
    "duration": 3,
    "start_time": "2022-01-14T19:10:24.762Z"
   },
   {
    "duration": 51,
    "start_time": "2022-01-14T19:10:24.767Z"
   },
   {
    "duration": 10,
    "start_time": "2022-01-14T19:10:24.819Z"
   },
   {
    "duration": 9,
    "start_time": "2022-01-14T19:10:24.831Z"
   },
   {
    "duration": 119,
    "start_time": "2022-01-14T19:10:24.842Z"
   },
   {
    "duration": 11,
    "start_time": "2022-01-14T19:10:24.963Z"
   },
   {
    "duration": 246,
    "start_time": "2022-01-14T19:10:24.976Z"
   },
   {
    "duration": 194,
    "start_time": "2022-01-14T19:10:25.223Z"
   },
   {
    "duration": 24,
    "start_time": "2022-01-14T19:10:25.418Z"
   },
   {
    "duration": 34,
    "start_time": "2022-01-14T19:10:25.444Z"
   },
   {
    "duration": 714,
    "start_time": "2022-01-14T19:10:25.480Z"
   },
   {
    "duration": 3,
    "start_time": "2022-01-14T19:10:26.196Z"
   },
   {
    "duration": 17,
    "start_time": "2022-01-14T19:10:26.201Z"
   },
   {
    "duration": 46,
    "start_time": "2022-01-14T19:10:26.219Z"
   },
   {
    "duration": 95,
    "start_time": "2022-01-14T19:10:26.267Z"
   },
   {
    "duration": 72,
    "start_time": "2022-01-14T19:10:26.363Z"
   },
   {
    "duration": 640,
    "start_time": "2022-01-14T19:10:26.437Z"
   },
   {
    "duration": 5069,
    "start_time": "2022-01-14T19:10:27.079Z"
   },
   {
    "duration": 275,
    "start_time": "2022-01-14T19:10:32.150Z"
   },
   {
    "duration": 1004,
    "start_time": "2022-01-14T19:10:32.426Z"
   },
   {
    "duration": 24,
    "start_time": "2022-01-14T19:10:33.431Z"
   },
   {
    "duration": 20,
    "start_time": "2022-01-14T19:10:33.456Z"
   },
   {
    "duration": 35,
    "start_time": "2022-01-14T19:10:33.478Z"
   },
   {
    "duration": 27,
    "start_time": "2022-01-14T19:10:33.515Z"
   },
   {
    "duration": 24,
    "start_time": "2022-01-14T19:10:33.545Z"
   },
   {
    "duration": 23,
    "start_time": "2022-01-14T19:10:33.570Z"
   },
   {
    "duration": 48,
    "start_time": "2022-01-14T19:10:33.594Z"
   },
   {
    "duration": 26,
    "start_time": "2022-01-14T19:10:33.644Z"
   },
   {
    "duration": 42,
    "start_time": "2022-01-14T19:10:33.671Z"
   },
   {
    "duration": 37,
    "start_time": "2022-01-14T19:10:33.714Z"
   },
   {
    "duration": 39,
    "start_time": "2022-01-14T19:18:57.127Z"
   },
   {
    "duration": 18,
    "start_time": "2022-01-14T19:20:58.078Z"
   },
   {
    "duration": 51,
    "start_time": "2022-01-14T19:20:58.098Z"
   },
   {
    "duration": 11,
    "start_time": "2022-01-14T19:20:58.151Z"
   },
   {
    "duration": 9,
    "start_time": "2022-01-14T19:20:58.164Z"
   },
   {
    "duration": 39,
    "start_time": "2022-01-14T19:20:58.174Z"
   },
   {
    "duration": 11,
    "start_time": "2022-01-14T19:20:58.214Z"
   },
   {
    "duration": 243,
    "start_time": "2022-01-14T19:20:58.227Z"
   },
   {
    "duration": 197,
    "start_time": "2022-01-14T19:20:58.472Z"
   },
   {
    "duration": 26,
    "start_time": "2022-01-14T19:20:58.671Z"
   },
   {
    "duration": 37,
    "start_time": "2022-01-14T19:20:58.712Z"
   },
   {
    "duration": 827,
    "start_time": "2022-01-14T19:20:58.751Z"
   },
   {
    "duration": 3,
    "start_time": "2022-01-14T19:20:59.579Z"
   },
   {
    "duration": 11,
    "start_time": "2022-01-14T19:20:59.584Z"
   },
   {
    "duration": 60,
    "start_time": "2022-01-14T19:20:59.596Z"
   },
   {
    "duration": 90,
    "start_time": "2022-01-14T19:20:59.657Z"
   },
   {
    "duration": 77,
    "start_time": "2022-01-14T19:20:59.749Z"
   },
   {
    "duration": 647,
    "start_time": "2022-01-14T19:20:59.828Z"
   },
   {
    "duration": 4902,
    "start_time": "2022-01-14T19:21:00.477Z"
   },
   {
    "duration": 271,
    "start_time": "2022-01-14T19:21:05.381Z"
   },
   {
    "duration": 865,
    "start_time": "2022-01-14T19:21:05.653Z"
   },
   {
    "duration": 142,
    "start_time": "2022-01-14T19:21:06.519Z"
   },
   {
    "duration": 20,
    "start_time": "2022-01-14T19:21:06.663Z"
   },
   {
    "duration": 30,
    "start_time": "2022-01-14T19:21:06.686Z"
   },
   {
    "duration": 22,
    "start_time": "2022-01-14T19:21:06.718Z"
   },
   {
    "duration": 23,
    "start_time": "2022-01-14T19:21:06.742Z"
   },
   {
    "duration": 21,
    "start_time": "2022-01-14T19:21:06.767Z"
   },
   {
    "duration": 52,
    "start_time": "2022-01-14T19:21:06.789Z"
   },
   {
    "duration": 22,
    "start_time": "2022-01-14T19:21:06.842Z"
   },
   {
    "duration": 21,
    "start_time": "2022-01-14T19:21:06.866Z"
   },
   {
    "duration": 59,
    "start_time": "2022-01-14T19:21:06.888Z"
   },
   {
    "duration": 165,
    "start_time": "2022-01-14T19:24:48.169Z"
   },
   {
    "duration": 184,
    "start_time": "2022-01-14T19:24:55.337Z"
   },
   {
    "duration": 16,
    "start_time": "2022-01-14T19:25:07.226Z"
   },
   {
    "duration": 47,
    "start_time": "2022-01-14T19:25:07.243Z"
   },
   {
    "duration": 10,
    "start_time": "2022-01-14T19:25:07.292Z"
   },
   {
    "duration": 11,
    "start_time": "2022-01-14T19:25:07.304Z"
   },
   {
    "duration": 7,
    "start_time": "2022-01-14T19:25:07.316Z"
   },
   {
    "duration": 10,
    "start_time": "2022-01-14T19:25:07.324Z"
   },
   {
    "duration": 177,
    "start_time": "2022-01-14T19:25:07.336Z"
   },
   {
    "duration": 203,
    "start_time": "2022-01-14T19:25:13.575Z"
   },
   {
    "duration": 3,
    "start_time": "2022-01-14T19:25:23.961Z"
   },
   {
    "duration": 47,
    "start_time": "2022-01-14T19:25:23.968Z"
   },
   {
    "duration": 10,
    "start_time": "2022-01-14T19:25:24.017Z"
   },
   {
    "duration": 8,
    "start_time": "2022-01-14T19:25:24.029Z"
   },
   {
    "duration": 7,
    "start_time": "2022-01-14T19:25:24.038Z"
   },
   {
    "duration": 12,
    "start_time": "2022-01-14T19:25:24.047Z"
   },
   {
    "duration": 255,
    "start_time": "2022-01-14T19:25:24.060Z"
   },
   {
    "duration": 185,
    "start_time": "2022-01-14T19:25:24.317Z"
   },
   {
    "duration": 25,
    "start_time": "2022-01-14T19:25:24.503Z"
   },
   {
    "duration": 33,
    "start_time": "2022-01-14T19:25:24.531Z"
   },
   {
    "duration": 794,
    "start_time": "2022-01-14T19:25:24.566Z"
   },
   {
    "duration": 4,
    "start_time": "2022-01-14T19:25:25.362Z"
   },
   {
    "duration": 11,
    "start_time": "2022-01-14T19:25:25.367Z"
   },
   {
    "duration": 70,
    "start_time": "2022-01-14T19:25:25.380Z"
   },
   {
    "duration": 88,
    "start_time": "2022-01-14T19:25:25.452Z"
   },
   {
    "duration": 76,
    "start_time": "2022-01-14T19:25:25.542Z"
   },
   {
    "duration": 626,
    "start_time": "2022-01-14T19:25:25.620Z"
   },
   {
    "duration": 4632,
    "start_time": "2022-01-14T19:25:26.248Z"
   },
   {
    "duration": 287,
    "start_time": "2022-01-14T19:25:30.882Z"
   },
   {
    "duration": 1023,
    "start_time": "2022-01-14T19:25:31.170Z"
   },
   {
    "duration": 29,
    "start_time": "2022-01-14T19:25:32.194Z"
   },
   {
    "duration": 20,
    "start_time": "2022-01-14T19:25:32.224Z"
   },
   {
    "duration": 15,
    "start_time": "2022-01-14T19:25:32.245Z"
   },
   {
    "duration": 22,
    "start_time": "2022-01-14T19:25:32.261Z"
   },
   {
    "duration": 44,
    "start_time": "2022-01-14T19:25:32.284Z"
   },
   {
    "duration": 21,
    "start_time": "2022-01-14T19:25:32.329Z"
   },
   {
    "duration": 29,
    "start_time": "2022-01-14T19:25:32.352Z"
   },
   {
    "duration": 43,
    "start_time": "2022-01-14T19:25:32.384Z"
   },
   {
    "duration": 21,
    "start_time": "2022-01-14T19:25:32.428Z"
   },
   {
    "duration": 36,
    "start_time": "2022-01-14T19:25:32.450Z"
   },
   {
    "duration": 17,
    "start_time": "2022-01-14T19:33:00.530Z"
   },
   {
    "duration": 48,
    "start_time": "2022-01-14T19:33:00.549Z"
   },
   {
    "duration": 11,
    "start_time": "2022-01-14T19:33:00.599Z"
   },
   {
    "duration": 10,
    "start_time": "2022-01-14T19:33:00.612Z"
   },
   {
    "duration": 9,
    "start_time": "2022-01-14T19:33:00.624Z"
   },
   {
    "duration": 10,
    "start_time": "2022-01-14T19:33:00.635Z"
   },
   {
    "duration": 234,
    "start_time": "2022-01-14T19:33:00.646Z"
   },
   {
    "duration": 195,
    "start_time": "2022-01-14T19:33:00.881Z"
   },
   {
    "duration": 34,
    "start_time": "2022-01-14T19:33:01.078Z"
   },
   {
    "duration": 35,
    "start_time": "2022-01-14T19:33:01.114Z"
   },
   {
    "duration": 823,
    "start_time": "2022-01-14T19:33:01.151Z"
   },
   {
    "duration": 4,
    "start_time": "2022-01-14T19:33:01.976Z"
   },
   {
    "duration": 15,
    "start_time": "2022-01-14T19:33:01.981Z"
   },
   {
    "duration": 50,
    "start_time": "2022-01-14T19:33:01.998Z"
   },
   {
    "duration": 79,
    "start_time": "2022-01-14T19:33:02.049Z"
   },
   {
    "duration": 63,
    "start_time": "2022-01-14T19:33:02.129Z"
   },
   {
    "duration": 707,
    "start_time": "2022-01-14T19:33:02.193Z"
   },
   {
    "duration": 4965,
    "start_time": "2022-01-14T19:33:02.902Z"
   },
   {
    "duration": 446,
    "start_time": "2022-01-14T19:33:07.868Z"
   },
   {
    "duration": 924,
    "start_time": "2022-01-14T19:33:08.316Z"
   },
   {
    "duration": 24,
    "start_time": "2022-01-14T19:33:09.241Z"
   },
   {
    "duration": 20,
    "start_time": "2022-01-14T19:33:09.267Z"
   },
   {
    "duration": 36,
    "start_time": "2022-01-14T19:33:09.288Z"
   },
   {
    "duration": 29,
    "start_time": "2022-01-14T19:33:09.326Z"
   },
   {
    "duration": 30,
    "start_time": "2022-01-14T19:33:09.356Z"
   },
   {
    "duration": 40,
    "start_time": "2022-01-14T19:33:09.388Z"
   },
   {
    "duration": 37,
    "start_time": "2022-01-14T19:33:09.431Z"
   },
   {
    "duration": 43,
    "start_time": "2022-01-14T19:33:09.470Z"
   },
   {
    "duration": 32,
    "start_time": "2022-01-14T19:33:09.515Z"
   },
   {
    "duration": 43,
    "start_time": "2022-01-14T19:33:09.549Z"
   },
   {
    "duration": 18,
    "start_time": "2022-01-14T19:33:50.314Z"
   },
   {
    "duration": 3,
    "start_time": "2022-01-14T19:34:07.069Z"
   },
   {
    "duration": 61,
    "start_time": "2022-01-14T19:36:45.509Z"
   },
   {
    "duration": 612,
    "start_time": "2022-01-14T19:39:16.882Z"
   },
   {
    "duration": 20,
    "start_time": "2022-01-14T19:39:20.158Z"
   }
  ],
  "colab": {
   "collapsed_sections": [],
   "name": "Project_2.2_v.1_11.04.22",
   "provenance": [],
   "toc_visible": true
  },
  "kernelspec": {
   "display_name": "Python 3 (ipykernel)",
   "language": "python",
   "name": "python3"
  },
  "language_info": {
   "codemirror_mode": {
    "name": "ipython",
    "version": 3
   },
   "file_extension": ".py",
   "mimetype": "text/x-python",
   "name": "python",
   "nbconvert_exporter": "python",
   "pygments_lexer": "ipython3",
   "version": "3.10.6"
  },
  "toc": {
   "base_numbering": 1,
   "nav_menu": {},
   "number_sections": false,
   "sideBar": true,
   "skip_h1_title": false,
   "title_cell": "Table of Contents",
   "title_sidebar": "Contents",
   "toc_cell": false,
   "toc_position": {
    "height": "calc(100% - 180px)",
    "left": "10px",
    "top": "150px",
    "width": "165px"
   },
   "toc_section_display": true,
   "toc_window_display": true
  }
 },
 "nbformat": 4,
 "nbformat_minor": 4
}
